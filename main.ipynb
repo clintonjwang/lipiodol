{
 "cells": [
  {
   "cell_type": "code",
   "execution_count": 1,
   "metadata": {},
   "outputs": [
    {
     "name": "stderr",
     "output_type": "stream",
     "text": [
      "C:\\Users\\Clinton\\AppData\\Local\\conda\\conda\\envs\\old-keras\\lib\\site-packages\\h5py\\__init__.py:34: FutureWarning: Conversion of the second argument of issubdtype from `float` to `np.floating` is deprecated. In future, it will be treated as `np.float64 == np.dtype(float).type`.\n",
      "  from ._conv import register_converters as _register_converters\n",
      "Using TensorFlow backend.\n"
     ]
    }
   ],
   "source": [
    "import cnn_builder as cbuild\n",
    "import config\n",
    "import copy\n",
    "import glob\n",
    "import importlib\n",
    "import niftiutils.helper_fxns as hf\n",
    "import niftiutils.transforms as tr\n",
    "import niftiutils.masks as masks\n",
    "import numpy as np\n",
    "import os\n",
    "import shutil\n",
    "from os.path import *\n",
    "%matplotlib inline\n",
    "from scipy.ndimage.morphology import binary_closing, binary_opening, binary_dilation\n",
    "from skimage.morphology import ball, label\n",
    "\n",
    "import numpy as np\n",
    "from keras import backend as K\n",
    "from keras.engine import Input, Model\n",
    "from keras.layers import *\n",
    "from keras.optimizers import Adam\n",
    "from keras.utils import np_utils"
   ]
  },
  {
   "cell_type": "code",
   "execution_count": 94,
   "metadata": {
    "scrolled": true
   },
   "outputs": [],
   "source": [
    "importlib.reload(hf)\n",
    "C = config.Config()"
   ]
  },
  {
   "cell_type": "code",
   "execution_count": 3,
   "metadata": {
    "collapsed": true
   },
   "outputs": [],
   "source": [
    "img_dir = \"D:\\\\Lipiodol\\\\Images all\"\n",
    "seg_dir = \"D:\\\\Lipiodol\\\\Images extracted and segmentations\"\n",
    "target_dir = \"D:\\\\Lipiodol\\\\Data\""
   ]
  },
  {
   "cell_type": "markdown",
   "metadata": {},
   "source": [
    "## CT, Lipiodol seg"
   ]
  },
  {
   "cell_type": "code",
   "execution_count": 82,
   "metadata": {
    "scrolled": true
   },
   "outputs": [
    {
     "data": {
      "text/plain": [
       "<module 'niftiutils.masks' from 'c:\\\\users\\\\clinton\\\\documents\\\\niftiutils\\\\niftiutils\\\\masks.py'>"
      ]
     },
     "execution_count": 82,
     "metadata": {},
     "output_type": "execute_result"
    }
   ],
   "source": [
    "importlib.reload(masks)"
   ]
  },
  {
   "cell_type": "code",
   "execution_count": 108,
   "metadata": {
    "collapsed": true
   },
   "outputs": [],
   "source": [
    "def seg_liver(ct_img, save_folder, ct_dims):\n",
    "    B3 = ball(3)\n",
    "    B3 = B3[:,:,[0,2,3,4,6]]\n",
    "    #B3 = ball(4)\n",
    "    #B3 = B3[:,:,[1,3,5,6,8]]\n",
    "    orig_shape = ct_img.shape\n",
    "\n",
    "    x = tr.apply_window(ct_img)\n",
    "    x -= np.amin(x)\n",
    "\n",
    "    crops = list(map(int,[.05 * x.shape[0], .95 * x.shape[0]] + \\\n",
    "                    [.05 * x.shape[1], .95 * x.shape[1]] + \\\n",
    "                    [.05 * x.shape[2], .95 * x.shape[2]]))\n",
    "    \n",
    "    x = x[crops[0]:crops[1], crops[2]:crops[3], crops[4]:crops[5]]\n",
    "    scale_shape = x.shape\n",
    "    x, _ = tr.rescale_img(x, C.dims)\n",
    "    \n",
    "    y = model.predict(np.expand_dims(x,0))[0]\n",
    "    liver_mask = (y[:,:,:,1] > y[:,:,:,0]).astype(float)\n",
    "    liver_mask, _ = tr.rescale_img(liver_mask, scale_shape)#orig_shape)\n",
    "    liver_mask = np.pad(liver_mask, ((crops[0], orig_shape[0]-crops[1]),\n",
    "                                     (crops[2], orig_shape[1]-crops[3]),\n",
    "                                     (crops[4], orig_shape[2]-crops[5])), 'constant')\n",
    "\n",
    "    liver_mask = binary_opening(binary_closing(liver_mask, B3, 2), B3, 2)\n",
    "    labels, num_labels = label(liver_mask, return_num=True)\n",
    "    label_sizes = [np.sum(labels == label_id) for label_id in range(1,num_labels+1)]\n",
    "    biggest_label = label_sizes.index(max(label_sizes))+1\n",
    "    liver_mask[labels != biggest_label] = 0\n",
    "    \n",
    "    masks.save_mask(liver_mask, join(save_folder, \"liver_pred\"), ct_dims, save_mesh=True)"
   ]
  },
  {
   "cell_type": "code",
   "execution_count": 12,
   "metadata": {
    "collapsed": true
   },
   "outputs": [],
   "source": [
    "info = {}\n",
    "\n",
    "for seg in glob.glob(join(target_dir,\"*\",\"wholeliver_24hCT*.ids\")):\n",
    "    if dirname(seg) in info.keys():\n",
    "        (ct_img, ct_dims, mask) = info[dirname(seg)]\n",
    "    else:\n",
    "        ct_img, ct_dims = hf.dcm_load(join(dirname(seg), \"CT24h\"), True, True)\n",
    "        \n",
    "    seg_liver(ct_img, dirname(seg), ct_dims)\n",
    "    info[dirname(seg)] = (ct_img, ct_dims)\n",
    "    break"
   ]
  },
  {
   "cell_type": "code",
   "execution_count": 88,
   "metadata": {
    "collapsed": true
   },
   "outputs": [],
   "source": [
    "def seg_lipiodol(img, save_folder, ct_dims):\n",
    "    low_mask = copy.deepcopy(img)\n",
    "    low_mask = low_mask > 100\n",
    "    low_mask = binary_opening(binary_closing(low_mask, structure=np.ones((2,2,1))), structure=np.ones((2,2,1)))\n",
    "    mid_mask = copy.deepcopy(img)\n",
    "    mid_mask = mid_mask > 150\n",
    "    mid_mask = binary_closing(mid_mask)\n",
    "    high_mask = copy.deepcopy(img)\n",
    "    high_mask = high_mask > 200\n",
    "    \n",
    "    masks.save_mask(low_mask, join(save_folder, \"low_lipiodol\"), ct_dims, save_mesh=True)\n",
    "    masks.save_mask(mid_mask, join(save_folder, \"mid_lipiodol\"), ct_dims, save_mesh=True)\n",
    "    masks.save_mask(high_mask, join(save_folder, \"high_lipiodol\"), ct_dims, save_mesh=True)"
   ]
  },
  {
   "cell_type": "code",
   "execution_count": 102,
   "metadata": {
    "collapsed": true
   },
   "outputs": [],
   "source": [
    "info = {}\n",
    "\n",
    "for seg in glob.glob(join(target_dir,\"*\",\"wholeliver_24hCT*.ids\")):\n",
    "    if dirname(seg) in info.keys():\n",
    "        (ct_img, ct_dims, mask) = info[dirname(seg)]\n",
    "    else:\n",
    "        ct_img, ct_dims = hf.dcm_load(join(dirname(seg), \"CT24h\"), True, True)\n",
    "        mask, _ = masks.get_mask(seg, ct_dims, ct_img.shape)\n",
    "        \n",
    "    seg_lipiodol((mask > 0) * ct_img, dirname(seg), ct_dims)\n",
    "    info[dirname(seg)] = (ct_img, ct_dims, mask)\n",
    "    break"
   ]
  },
  {
   "cell_type": "markdown",
   "metadata": {},
   "source": [
    "## Non-target Lipiodol seg"
   ]
  },
  {
   "cell_type": "code",
   "execution_count": 132,
   "metadata": {
    "collapsed": true
   },
   "outputs": [],
   "source": [
    "def seg_target_lipiodol(img, save_folder, ct_dims, num_tumors=1):\n",
    "    mid_mask = copy.deepcopy(img)\n",
    "    mid_mask = mid_mask > 150\n",
    "    mid_mask = binary_closing(mid_mask)\n",
    "    \n",
    "    mask1 = copy.deepcopy(img)\n",
    "    mask1 = mask1 > 150\n",
    "    B2 = ball(2)\n",
    "    B2 = B2[:,:,[0,2,4]]\n",
    "    mask1 = binary_dilation(mask1, np.ones((3,3,1)))\n",
    "    \n",
    "    if num_tumors == 1:\n",
    "        tumor_labels, num_labels = label(mask1, return_num=True)\n",
    "        label_sizes = [np.sum(tumor_labels == label_id) for label_id in range(1,num_labels+1)]\n",
    "        biggest_label = label_sizes.index(max(label_sizes))+1\n",
    "        mask1[tumor_labels != biggest_label] = 0\n",
    "    \n",
    "    mask1 = binary_opening(binary_closing(mask1, structure=B2, iterations=2), structure=B2, iterations=2)\n",
    "    \n",
    "    if num_tumors == 1:\n",
    "        tumor_labels, num_labels = label(mask1, return_num=True)\n",
    "        label_sizes = [np.sum(tumor_labels == label_id) for label_id in range(1,num_labels+1)]\n",
    "        biggest_label = label_sizes.index(max(label_sizes))+1\n",
    "        mask1[tumor_labels != biggest_label] = 0\n",
    "    \n",
    "    target_mask = mask1 * mid_mask\n",
    "    nontarget_mask = (1-mask1) * mid_mask\n",
    "    \n",
    "    masks.save_mask(mask1, join(save_folder, \"tumor_pred\"), ct_dims, save_mesh=True)\n",
    "    masks.save_mask(target_mask, join(save_folder, \"target_lip\"), ct_dims, save_mesh=True)\n",
    "    masks.save_mask(nontarget_mask, join(save_folder, \"nontarget_lip\"), ct_dims, save_mesh=True)"
   ]
  },
  {
   "cell_type": "code",
   "execution_count": null,
   "metadata": {
    "collapsed": true
   },
   "outputs": [],
   "source": [
    "info = {}\n",
    "\n",
    "for seg in glob.glob(join(target_dir,\"*\",\"wholeliver_24hCT*.ids\")):\n",
    "    if dirname(seg) in info.keys():\n",
    "        (ct_img, ct_dims, mask) = info[dirname(seg)]\n",
    "    else:\n",
    "        ct_img, ct_dims = hf.dcm_load(join(dirname(seg), \"CT24h\"), True, True)\n",
    "        mask, _ = masks.get_mask(seg, ct_dims, ct_img.shape)\n",
    "        \n",
    "    seg_target_lipiodol((mask > 0) * ct_img, dirname(seg), ct_dims)\n",
    "    info[dirname(seg)] = (ct_img, ct_dims, mask)\n",
    "    #break"
   ]
  },
  {
   "cell_type": "code",
   "execution_count": null,
   "metadata": {
    "collapsed": true
   },
   "outputs": [],
   "source": []
  },
  {
   "cell_type": "markdown",
   "metadata": {},
   "source": [
    "### other CT"
   ]
  },
  {
   "cell_type": "code",
   "execution_count": 73,
   "metadata": {
    "collapsed": true
   },
   "outputs": [],
   "source": [
    "src_dir = r\"C:\\Users\\Clinton\\Downloads\\24h CT tumor segmentions (Milena's data)\""
   ]
  },
  {
   "cell_type": "code",
   "execution_count": 75,
   "metadata": {
    "collapsed": true
   },
   "outputs": [],
   "source": [
    "for seg in glob.glob(join(src_dir,\"tumor 24h_*\")):\n",
    "    patient_id = seg[seg.rfind('_Pat')+4:seg.rfind('.')]\n",
    "    if len(patient_id) == 1:\n",
    "        patient_id = \"0\"+patient_id\n",
    "    dest = join(target_dir, patient_id)\n",
    "    #if not exists(join(dest,basename(seg))):\n",
    "    shutil.move(seg, dest)\n",
    "    #print(seg, dest)"
   ]
  },
  {
   "cell_type": "code",
   "execution_count": null,
   "metadata": {
    "collapsed": true
   },
   "outputs": [],
   "source": []
  },
  {
   "cell_type": "code",
   "execution_count": 27,
   "metadata": {
    "collapsed": true
   },
   "outputs": [],
   "source": []
  },
  {
   "cell_type": "code",
   "execution_count": 6,
   "metadata": {
    "collapsed": true
   },
   "outputs": [],
   "source": [
    "for ctfolder in glob.glob(join(target_dir,\"*\",\"CT24h\")):\n",
    "    os.rename(ctfolder, join(dirname(ctfolder), \"CT24h\"))"
   ]
  },
  {
   "cell_type": "code",
   "execution_count": null,
   "metadata": {
    "collapsed": true
   },
   "outputs": [],
   "source": [
    "for seg in glob.glob(join(target_dir,\"*\",\"*CT*\")):\n",
    "    contents = os.listdir(seg)\n",
    "    filterstr = ' 1 5 '\n",
    "    target_folder = [x for x in contents if filterstr in x]\n",
    "    others = [x for x in contents if filterstr not in x]\n",
    "    if len(target_folder) == 1:\n",
    "        for o in others:\n",
    "            shutil.rmtree(join(seg, o))"
   ]
  },
  {
   "cell_type": "code",
   "execution_count": null,
   "metadata": {
    "collapsed": true
   },
   "outputs": [],
   "source": []
  },
  {
   "cell_type": "markdown",
   "metadata": {
    "collapsed": true
   },
   "source": [
    "# UNet"
   ]
  },
  {
   "cell_type": "code",
   "execution_count": 77,
   "metadata": {
    "collapsed": true
   },
   "outputs": [],
   "source": [
    "importlib.reload(config)\n",
    "C = config.Config()"
   ]
  },
  {
   "cell_type": "code",
   "execution_count": 92,
   "metadata": {
    "collapsed": true
   },
   "outputs": [],
   "source": [
    "seg = glob.glob(join(target_dir,\"*\",\"wholeliver_24hCT*.ids\"))[0]"
   ]
  },
  {
   "cell_type": "code",
   "execution_count": 93,
   "metadata": {
    "collapsed": true
   },
   "outputs": [],
   "source": [
    "ct_img, ct_dims = hf.dcm_load(join(dirname(seg), \"CT24h\"), True, True)"
   ]
  },
  {
   "cell_type": "code",
   "execution_count": 102,
   "metadata": {
    "scrolled": true
   },
   "outputs": [
    {
     "data": {
      "image/png": "[encoded data removed]",
      "text/plain": [
       "<matplotlib.figure.Figure at 0x284800524a8>"
      ]
     },
     "metadata": {},
     "output_type": "display_data"
    }
   ],
   "source": [
    "hf.draw_slices(ct_img[:,:,:])"
   ]
  },
  {
   "cell_type": "code",
   "execution_count": null,
   "metadata": {
    "collapsed": true
   },
   "outputs": [],
   "source": [
    "lesion_id = \"07\"\n",
    "glob.glob(join(target_dir,lesion_id,\"CT24h\",\"*\"))"
   ]
  },
  {
   "cell_type": "code",
   "execution_count": 27,
   "metadata": {},
   "outputs": [],
   "source": [
    "for f in glob.glob(join(target_dir,lesion_id,\"CT24h\",\"*\")):\n",
    "    if \"5 0\" not in f:\n",
    "        shutil.rmtree(f)\n",
    "    else:\n",
    "        shutil.move()"
   ]
  },
  {
   "cell_type": "code",
   "execution_count": 59,
   "metadata": {
    "collapsed": true
   },
   "outputs": [],
   "source": [
    "import random\n",
    "random.uniform()"
   ]
  },
  {
   "cell_type": "code",
   "execution_count": 58,
   "metadata": {},
   "outputs": [
    {
     "data": {
      "text/plain": [
       "'17'"
      ]
     },
     "execution_count": 58,
     "metadata": {},
     "output_type": "execute_result"
    }
   ],
   "source": [
    "lesion_id"
   ]
  },
  {
   "cell_type": "code",
   "execution_count": 57,
   "metadata": {},
   "outputs": [],
   "source": [
    "train_set = []\n",
    "for seg in glob.glob(join(target_dir,\"*\",\"liver bl*.ids\")):\n",
    "    lesion_id = dirname(seg)[-2:]\n",
    "    if exists(join(C.full_img_dir, lesion_id+\"_mri.npy\")):\n",
    "        #train_set.append([np.load(join(C.full_img_dir, lesion_id+\"_ct.npy\")),\n",
    "        #                  np.load(join(C.full_img_dir, lesion_id+\"_mask.npy\")),\n",
    "        #                  lesion_id])\n",
    "        continue\n",
    "    \n",
    "    mri_img, mri_dims = hf.nii_load(join(dirname(seg), \"CT24h\"), True, True)\n",
    "    mask, _ = masks.get_mask(seg, ct_dims, mri_img.shape)\n",
    "\n",
    "    mri_img = tr.apply_window(mri_img)\n",
    "    mri_img -= np.amin(mri_img)\n",
    "    \n",
    "    np.save(join(C.full_img_dir, lesion_id+\"_mri.npy\"), ct_img)\n",
    "    np.save(join(C.full_img_dir, lesion_id+\"_mr_liver_mask.npy\"), mask > 128)"
   ]
  },
  {
   "cell_type": "code",
   "execution_count": null,
   "metadata": {
    "collapsed": true
   },
   "outputs": [],
   "source": [
    "train_set = []\n",
    "for seg in glob.glob(join(target_dir,\"*\",\"wholeliver_24hCT*.ids\")):\n",
    "    lesion_id = dirname(seg)[-2:]\n",
    "    if exists(join(C.full_img_dir, lesion_id+\"_ct.npy\")):\n",
    "        #train_set.append([np.load(join(C.full_img_dir, lesion_id+\"_ct.npy\")),\n",
    "        #                  np.load(join(C.full_img_dir, lesion_id+\"_mask.npy\")),\n",
    "        #                  lesion_id])\n",
    "        continue\n",
    "    \n",
    "    ct_img, ct_dims = hf.dcm_load(join(dirname(seg), \"CT24h\"), True, True)\n",
    "    mask, _ = masks.get_mask(seg, ct_dims, ct_img.shape)\n",
    "\n",
    "    ct_img = tr.apply_window(ct_img)\n",
    "    ct_img -= np.amin(ct_img)\n",
    "    \n",
    "    np.save(join(C.full_img_dir, lesion_id+\"_ct.npy\"), ct_img)\n",
    "    np.save(join(C.full_img_dir, lesion_id+\"_mask.npy\"), mask > 128)"
   ]
  },
  {
   "cell_type": "code",
   "execution_count": 91,
   "metadata": {
    "scrolled": false
   },
   "outputs": [
    {
     "data": {
      "text/plain": [
       "<module 'cnn_builder' from 'C:\\\\Users\\\\Clinton\\\\Documents\\\\Lipiodol\\\\cnn_builder.py'>"
      ]
     },
     "execution_count": 91,
     "metadata": {},
     "output_type": "execute_result"
    }
   ],
   "source": [
    "importlib.reload(cbuild)\n",
    "model = cbuild.build_ct_unet()\n",
    "model.summary(120)"
   ]
  },
  {
   "cell_type": "code",
   "execution_count": 92,
   "metadata": {
    "scrolled": true
   },
   "outputs": [
    {
     "name": "stdout",
     "output_type": "stream",
     "text": [
      "Epoch 1/100\n",
      "100/100 [==============================] - 54s 542ms/step - loss: 0.4683 - acc: 0.8901\n",
      "Epoch 2/100\n",
      "100/100 [==============================] - 45s 453ms/step - loss: 0.2272 - acc: 0.9801\n",
      "Epoch 3/100\n",
      "100/100 [==============================] - 45s 455ms/step - loss: 0.1185 - acc: 0.9849\n",
      "Epoch 4/100\n",
      "100/100 [==============================] - 45s 452ms/step - loss: 0.0734 - acc: 0.9867\n",
      "Epoch 5/100\n",
      "100/100 [==============================] - 46s 456ms/step - loss: 0.0533 - acc: 0.9873\n",
      "Epoch 6/100\n",
      "100/100 [==============================] - 46s 460ms/step - loss: 0.0445 - acc: 0.9876\n",
      "Epoch 7/100\n",
      "100/100 [==============================] - 46s 459ms/step - loss: 0.0371 - acc: 0.9887\n",
      "Epoch 8/100\n",
      "100/100 [==============================] - 46s 459ms/step - loss: 0.0338 - acc: 0.9888\n",
      "Epoch 9/100\n",
      "100/100 [==============================] - 46s 460ms/step - loss: 0.0298 - acc: 0.9897\n",
      "Epoch 10/100\n",
      "100/100 [==============================] - 46s 463ms/step - loss: 0.0280 - acc: 0.9899\n",
      "Epoch 11/100\n",
      "100/100 [==============================] - 46s 465ms/step - loss: 0.0272 - acc: 0.9897\n",
      "Epoch 12/100\n",
      "100/100 [==============================] - 47s 466ms/step - loss: 0.0244 - acc: 0.9908\n",
      "Epoch 13/100\n",
      "100/100 [==============================] - 47s 465ms/step - loss: 0.0238 - acc: 0.9908\n",
      "Epoch 14/100\n",
      "100/100 [==============================] - 47s 467ms/step - loss: 0.0248 - acc: 0.9903\n",
      "Epoch 15/100\n",
      "100/100 [==============================] - 47s 467ms/step - loss: 0.0225 - acc: 0.9910\n",
      "Epoch 16/100\n",
      "100/100 [==============================] - 47s 468ms/step - loss: 0.0214 - acc: 0.9914\n",
      "Epoch 17/100\n",
      "100/100 [==============================] - 47s 469ms/step - loss: 0.0222 - acc: 0.9909\n",
      "Epoch 18/100\n",
      "100/100 [==============================] - 47s 467ms/step - loss: 0.0207 - acc: 0.9916\n",
      "Epoch 19/100\n",
      "100/100 [==============================] - 47s 468ms/step - loss: 0.0215 - acc: 0.9912\n",
      "Epoch 20/100\n",
      "100/100 [==============================] - 47s 469ms/step - loss: 0.0204 - acc: 0.9916\n",
      "Epoch 21/100\n",
      "100/100 [==============================] - 47s 469ms/step - loss: 0.0200 - acc: 0.9916\n",
      "Epoch 22/100\n",
      "100/100 [==============================] - 47s 470ms/step - loss: 0.0192 - acc: 0.9920\n",
      "Epoch 23/100\n",
      "100/100 [==============================] - 47s 468ms/step - loss: 0.0196 - acc: 0.9918\n",
      "Epoch 24/100\n",
      "100/100 [==============================] - 47s 470ms/step - loss: 0.0190 - acc: 0.9920\n",
      "Epoch 25/100\n",
      "100/100 [==============================] - 47s 469ms/step - loss: 0.0198 - acc: 0.9917\n",
      "Epoch 26/100\n",
      "100/100 [==============================] - 47s 469ms/step - loss: 0.0187 - acc: 0.9921\n",
      "Epoch 27/100\n",
      "100/100 [==============================] - 47s 469ms/step - loss: 0.0194 - acc: 0.9918\n",
      "Epoch 28/100\n",
      "100/100 [==============================] - 47s 469ms/step - loss: 0.0177 - acc: 0.9925\n",
      "Epoch 29/100\n",
      "100/100 [==============================] - 47s 472ms/step - loss: 0.0184 - acc: 0.9921\n",
      "Epoch 30/100\n",
      "100/100 [==============================] - 47s 470ms/step - loss: 0.0180 - acc: 0.9923\n",
      "Epoch 31/100\n",
      "100/100 [==============================] - 47s 470ms/step - loss: 0.0178 - acc: 0.9924\n",
      "Epoch 32/100\n",
      "100/100 [==============================] - 47s 470ms/step - loss: 0.0170 - acc: 0.9927\n",
      "Epoch 33/100\n",
      "100/100 [==============================] - 47s 471ms/step - loss: 0.0176 - acc: 0.9924\n",
      "Epoch 34/100\n",
      "100/100 [==============================] - 47s 471ms/step - loss: 0.0180 - acc: 0.9923\n",
      "Epoch 35/100\n",
      "100/100 [==============================] - 47s 470ms/step - loss: 0.0170 - acc: 0.9927\n",
      "Epoch 36/100\n",
      "100/100 [==============================] - 47s 474ms/step - loss: 0.0169 - acc: 0.9927\n",
      "Epoch 37/100\n",
      "100/100 [==============================] - 47s 474ms/step - loss: 0.0167 - acc: 0.9928\n",
      "Epoch 38/100\n",
      "100/100 [==============================] - 47s 472ms/step - loss: 0.0171 - acc: 0.9926\n",
      "Epoch 39/100\n",
      "100/100 [==============================] - 47s 472ms/step - loss: 0.0162 - acc: 0.9930\n",
      "Epoch 40/100\n",
      "100/100 [==============================] - 47s 473ms/step - loss: 0.0159 - acc: 0.9931\n",
      "Epoch 41/100\n",
      "100/100 [==============================] - 47s 474ms/step - loss: 0.0153 - acc: 0.9934\n",
      "Epoch 42/100\n",
      "100/100 [==============================] - 48s 484ms/step - loss: 0.0159 - acc: 0.9931\n",
      "Epoch 43/100\n",
      "100/100 [==============================] - 48s 483ms/step - loss: 0.0156 - acc: 0.9932\n",
      "Epoch 44/100\n",
      "100/100 [==============================] - 48s 477ms/step - loss: 0.0161 - acc: 0.9930\n",
      "Epoch 45/100\n",
      "100/100 [==============================] - 48s 477ms/step - loss: 0.0160 - acc: 0.9930\n",
      "Epoch 46/100\n",
      "100/100 [==============================] - 48s 478ms/step - loss: 0.0163 - acc: 0.9929\n",
      "Epoch 47/100\n",
      "100/100 [==============================] - 47s 472ms/step - loss: 0.0161 - acc: 0.9930\n",
      "Epoch 48/100\n",
      "100/100 [==============================] - 47s 471ms/step - loss: 0.0161 - acc: 0.9930\n",
      "Epoch 49/100\n",
      "100/100 [==============================] - 47s 470ms/step - loss: 0.0151 - acc: 0.9934\n",
      "Epoch 50/100\n",
      "100/100 [==============================] - 47s 470ms/step - loss: 0.0175 - acc: 0.9925\n",
      "Epoch 51/100\n",
      "100/100 [==============================] - 47s 471ms/step - loss: 0.0186 - acc: 0.9921\n",
      "Epoch 52/100\n",
      "100/100 [==============================] - 47s 473ms/step - loss: 0.0169 - acc: 0.9927\n",
      "Epoch 53/100\n",
      "100/100 [==============================] - 47s 472ms/step - loss: 0.0159 - acc: 0.9931\n",
      "Epoch 54/100\n",
      "100/100 [==============================] - 47s 471ms/step - loss: 0.0154 - acc: 0.9933\n",
      "Epoch 55/100\n",
      "100/100 [==============================] - 47s 471ms/step - loss: 0.0154 - acc: 0.9933\n",
      "Epoch 56/100\n",
      "100/100 [==============================] - 47s 471ms/step - loss: 0.0150 - acc: 0.9935\n",
      "Epoch 57/100\n",
      "100/100 [==============================] - 47s 473ms/step - loss: 0.0145 - acc: 0.9937\n",
      "Epoch 58/100\n",
      "100/100 [==============================] - 47s 474ms/step - loss: 0.0146 - acc: 0.9936\n",
      "Epoch 59/100\n",
      "100/100 [==============================] - 47s 472ms/step - loss: 0.0147 - acc: 0.9936\n",
      "Epoch 60/100\n",
      "100/100 [==============================] - 47s 473ms/step - loss: 0.0148 - acc: 0.9936\n",
      "Epoch 61/100\n",
      "100/100 [==============================] - 47s 471ms/step - loss: 0.0143 - acc: 0.9938\n",
      "Epoch 62/100\n",
      "100/100 [==============================] - 47s 471ms/step - loss: 0.0151 - acc: 0.9934\n",
      "Epoch 63/100\n",
      "100/100 [==============================] - 47s 472ms/step - loss: 0.0145 - acc: 0.9937\n",
      "Epoch 64/100\n",
      "100/100 [==============================] - 47s 473ms/step - loss: 0.0151 - acc: 0.9934\n",
      "Epoch 65/100\n",
      "100/100 [==============================] - 47s 469ms/step - loss: 0.0151 - acc: 0.9934\n",
      "Epoch 66/100\n",
      "100/100 [==============================] - 47s 469ms/step - loss: 0.0147 - acc: 0.9936\n",
      "Epoch 67/100\n",
      "100/100 [==============================] - 47s 469ms/step - loss: 0.0148 - acc: 0.9936\n",
      "Epoch 68/100\n",
      "100/100 [==============================] - 47s 470ms/step - loss: 0.0147 - acc: 0.9936\n",
      "Epoch 69/100\n",
      "100/100 [==============================] - 47s 469ms/step - loss: 0.0144 - acc: 0.9937\n",
      "Epoch 70/100\n",
      "100/100 [==============================] - 47s 470ms/step - loss: 0.0146 - acc: 0.9936\n",
      "Epoch 71/100\n",
      "100/100 [==============================] - 47s 469ms/step - loss: 0.0146 - acc: 0.9936\n",
      "Epoch 72/100\n",
      "100/100 [==============================] - 47s 470ms/step - loss: 0.0153 - acc: 0.9934\n",
      "Epoch 73/100\n",
      "100/100 [==============================] - 47s 469ms/step - loss: 0.0139 - acc: 0.9939\n",
      "Epoch 74/100\n",
      "100/100 [==============================] - 47s 469ms/step - loss: 0.0138 - acc: 0.9940\n",
      "Epoch 75/100\n",
      "100/100 [==============================] - 47s 469ms/step - loss: 0.0138 - acc: 0.9940\n",
      "Epoch 76/100\n",
      "100/100 [==============================] - 47s 469ms/step - loss: 0.0139 - acc: 0.9940\n",
      "Epoch 77/100\n",
      "100/100 [==============================] - 47s 469ms/step - loss: 0.0138 - acc: 0.9940\n",
      "Epoch 78/100\n",
      "100/100 [==============================] - 47s 470ms/step - loss: 0.0146 - acc: 0.9936\n",
      "Epoch 79/100\n",
      "100/100 [==============================] - 47s 469ms/step - loss: 0.0141 - acc: 0.9938\n",
      "Epoch 80/100\n",
      "100/100 [==============================] - 47s 469ms/step - loss: 0.0139 - acc: 0.9939\n",
      "Epoch 81/100\n",
      "100/100 [==============================] - 47s 469ms/step - loss: 0.0141 - acc: 0.9938\n",
      "Epoch 82/100\n",
      "100/100 [==============================] - 47s 470ms/step - loss: 0.0134 - acc: 0.9942\n",
      "Epoch 83/100\n"
     ]
    },
    {
     "name": "stdout",
     "output_type": "stream",
     "text": [
      "100/100 [==============================] - 47s 469ms/step - loss: 0.0143 - acc: 0.9937\n",
      "Epoch 84/100\n",
      "100/100 [==============================] - 47s 469ms/step - loss: 0.0144 - acc: 0.9937\n",
      "Epoch 85/100\n",
      "100/100 [==============================] - 47s 469ms/step - loss: 0.0132 - acc: 0.9942\n",
      "Epoch 86/100\n",
      "100/100 [==============================] - 47s 469ms/step - loss: 0.0139 - acc: 0.9939\n",
      "Epoch 87/100\n",
      "100/100 [==============================] - 47s 470ms/step - loss: 0.0137 - acc: 0.9940\n",
      "Epoch 88/100\n",
      "100/100 [==============================] - 47s 469ms/step - loss: 0.0140 - acc: 0.9939\n",
      "Epoch 89/100\n",
      "100/100 [==============================] - 47s 469ms/step - loss: 0.0127 - acc: 0.9944\n",
      "Epoch 90/100\n",
      "100/100 [==============================] - 47s 469ms/step - loss: 0.0139 - acc: 0.9939\n",
      "Epoch 91/100\n",
      "100/100 [==============================] - 47s 470ms/step - loss: 0.0137 - acc: 0.9940\n",
      "Epoch 92/100\n",
      "100/100 [==============================] - 47s 470ms/step - loss: 0.0139 - acc: 0.9939\n",
      "Epoch 93/100\n",
      "100/100 [==============================] - 47s 469ms/step - loss: 0.0131 - acc: 0.9943\n",
      "Epoch 94/100\n",
      "100/100 [==============================] - 47s 469ms/step - loss: 0.0138 - acc: 0.9940\n",
      "Epoch 95/100\n",
      "100/100 [==============================] - 47s 469ms/step - loss: 0.0135 - acc: 0.9941\n",
      "Epoch 96/100\n",
      "100/100 [==============================] - 47s 469ms/step - loss: 0.0130 - acc: 0.9943\n",
      "Epoch 97/100\n",
      "100/100 [==============================] - 47s 469ms/step - loss: 0.0139 - acc: 0.9939\n",
      "Epoch 98/100\n",
      "100/100 [==============================] - 47s 469ms/step - loss: 0.0129 - acc: 0.9944\n",
      "Epoch 99/100\n",
      "100/100 [==============================] - 47s 470ms/step - loss: 0.0132 - acc: 0.9942\n",
      "Epoch 100/100\n",
      "100/100 [==============================] - 47s 468ms/step - loss: 0.0133 - acc: 0.9942\n"
     ]
    }
   ],
   "source": [
    "hist = model.fit_generator(cbuild.train_gen(), epochs=100, steps_per_epoch=50)"
   ]
  },
  {
   "cell_type": "code",
   "execution_count": 38,
   "metadata": {
    "collapsed": true
   },
   "outputs": [],
   "source": [
    "model.save(join(C.model_dir, \"train17.hdf5\"))"
   ]
  },
  {
   "cell_type": "code",
   "execution_count": 107,
   "metadata": {},
   "outputs": [],
   "source": [
    "lesion_id = \"18\"\n",
    "ct_img, ct_dims = hf.dcm_load(join(target_dir, lesion_id, \"CT24h\"), True, True)\n",
    "seg_liver(ct_img, join(target_dir, lesion_id), ct_dims)"
   ]
  },
  {
   "cell_type": "code",
   "execution_count": null,
   "metadata": {
    "collapsed": true
   },
   "outputs": [],
   "source": []
  }
 ],
 "metadata": {
  "kernelspec": {
   "display_name": "Python 3",
   "language": "python",
   "name": "python3"
  },
  "language_info": {
   "codemirror_mode": {
    "name": "ipython",
    "version": 3
   },
   "file_extension": ".py",
   "mimetype": "text/x-python",
   "name": "python",
   "nbconvert_exporter": "python",
   "pygments_lexer": "ipython3",
   "version": "3.5.0"
  }
 },
 "nbformat": 4,
 "nbformat_minor": 2
}
