{
 "cells": [
  {
   "cell_type": "code",
   "execution_count": 5,
   "metadata": {},
   "outputs": [],
   "source": [
    "import cnn_builder as cbuild\n",
    "import copy\n",
    "import glob\n",
    "import importlib\n",
    "import niftiutils.helper_fxns as hf\n",
    "import niftiutils.transforms as tr\n",
    "import niftiutils.masks as masks\n",
    "import numpy as np\n",
    "import os\n",
    "import shutil\n",
    "from os.path import *\n",
    "import brats.train_isensee2017\n",
    "%matplotlib inline\n",
    "from scipy.ndimage.morphology import binary_closing, binary_opening, binary_dilation\n",
    "from skimage.morphology import ball, label"
   ]
  },
  {
   "cell_type": "code",
   "execution_count": 89,
   "metadata": {
    "scrolled": true
   },
   "outputs": [
    {
     "data": {
      "text/plain": [
       "<module 'niftiutils.helper_fxns' from 'c:\\\\users\\\\clinton\\\\documents\\\\niftiutils\\\\niftiutils\\\\helper_fxns.py'>"
      ]
     },
     "execution_count": 89,
     "metadata": {},
     "output_type": "execute_result"
    }
   ],
   "source": [
    "importlib.reload(hf)"
   ]
  },
  {
   "cell_type": "code",
   "execution_count": 2,
   "metadata": {
    "collapsed": true
   },
   "outputs": [],
   "source": [
    "img_dir = \"D:\\\\Lipiodol\\\\Images all\"\n",
    "seg_dir = \"D:\\\\Lipiodol\\\\Images extracted and segmentations\"\n",
    "target_dir = \"D:\\\\Lipiodol\\\\Data\""
   ]
  },
  {
   "cell_type": "markdown",
   "metadata": {},
   "source": [
    "## CT, Lipiodol seg"
   ]
  },
  {
   "cell_type": "code",
   "execution_count": 82,
   "metadata": {
    "scrolled": true
   },
   "outputs": [
    {
     "data": {
      "text/plain": [
       "<module 'niftiutils.masks' from 'c:\\\\users\\\\clinton\\\\documents\\\\niftiutils\\\\niftiutils\\\\masks.py'>"
      ]
     },
     "execution_count": 82,
     "metadata": {},
     "output_type": "execute_result"
    }
   ],
   "source": [
    "importlib.reload(masks)"
   ]
  },
  {
   "cell_type": "code",
   "execution_count": 11,
   "metadata": {
    "collapsed": true
   },
   "outputs": [],
   "source": [
    "def seg_liver(img, save_folder, ct_dims):\n",
    "    #B3 = ball(3)\n",
    "    #B3 = B3[:,:,[0,2,3,4,6]]\n",
    "    B3 = ball(4)\n",
    "    B3 = B3[:,:,[1,3,5,6,8]]\n",
    "    \n",
    "    liver_mask = copy.deepcopy(img)\n",
    "    liver_mask = liver_mask > 50\n",
    "    liver_mask = binary_opening(binary_closing(liver_mask, B3), B3)\n",
    "    \n",
    "    masks.save_mask(liver_mask, join(save_folder, \"liver_pred\"), ct_dims, save_mesh=True)"
   ]
  },
  {
   "cell_type": "code",
   "execution_count": 12,
   "metadata": {
    "collapsed": true
   },
   "outputs": [],
   "source": [
    "info = {}\n",
    "\n",
    "for seg in glob.glob(join(target_dir,\"*\",\"wholeliver_24hCT*.ids\")):\n",
    "    if dirname(seg) in info.keys():\n",
    "        (ct_img, ct_dims, mask) = info[dirname(seg)]\n",
    "    else:\n",
    "        ct_img, ct_dims = hf.dcm_load(join(dirname(seg), \"CT24h\"), True, True)\n",
    "        \n",
    "    seg_liver(ct_img, dirname(seg), ct_dims)\n",
    "    info[dirname(seg)] = (ct_img, ct_dims)\n",
    "    break"
   ]
  },
  {
   "cell_type": "code",
   "execution_count": 88,
   "metadata": {
    "collapsed": true
   },
   "outputs": [],
   "source": [
    "def seg_lipiodol(img, save_folder, ct_dims):\n",
    "    low_mask = copy.deepcopy(img)\n",
    "    low_mask = low_mask > 100\n",
    "    low_mask = binary_opening(binary_closing(low_mask, structure=np.ones((2,2,1))), structure=np.ones((2,2,1)))\n",
    "    mid_mask = copy.deepcopy(img)\n",
    "    mid_mask = mid_mask > 150\n",
    "    mid_mask = binary_closing(mid_mask)\n",
    "    high_mask = copy.deepcopy(img)\n",
    "    high_mask = high_mask > 200\n",
    "    \n",
    "    masks.save_mask(low_mask, join(save_folder, \"low_lipiodol\"), ct_dims, save_mesh=True)\n",
    "    masks.save_mask(mid_mask, join(save_folder, \"mid_lipiodol\"), ct_dims, save_mesh=True)\n",
    "    masks.save_mask(high_mask, join(save_folder, \"high_lipiodol\"), ct_dims, save_mesh=True)"
   ]
  },
  {
   "cell_type": "code",
   "execution_count": 102,
   "metadata": {
    "collapsed": true
   },
   "outputs": [],
   "source": [
    "info = {}\n",
    "\n",
    "for seg in glob.glob(join(target_dir,\"*\",\"wholeliver_24hCT*.ids\")):\n",
    "    if dirname(seg) in info.keys():\n",
    "        (ct_img, ct_dims, mask) = info[dirname(seg)]\n",
    "    else:\n",
    "        ct_img, ct_dims = hf.dcm_load(join(dirname(seg), \"CT24h\"), True, True)\n",
    "        mask, _ = masks.get_mask(seg, ct_dims, ct_img.shape)\n",
    "        \n",
    "    seg_lipiodol((mask > 0) * ct_img, dirname(seg), ct_dims)\n",
    "    info[dirname(seg)] = (ct_img, ct_dims, mask)\n",
    "    break"
   ]
  },
  {
   "cell_type": "markdown",
   "metadata": {},
   "source": [
    "## Non-target Lipiodol seg"
   ]
  },
  {
   "cell_type": "code",
   "execution_count": 132,
   "metadata": {
    "collapsed": true
   },
   "outputs": [],
   "source": [
    "def seg_target_lipiodol(img, save_folder, ct_dims, num_tumors=1):\n",
    "    mid_mask = copy.deepcopy(img)\n",
    "    mid_mask = mid_mask > 150\n",
    "    mid_mask = binary_closing(mid_mask)\n",
    "    \n",
    "    mask1 = copy.deepcopy(img)\n",
    "    mask1 = mask1 > 150\n",
    "    B2 = ball(2)\n",
    "    B2 = B2[:,:,[0,2,4]]\n",
    "    mask1 = binary_dilation(mask1, np.ones((3,3,1)))\n",
    "    \n",
    "    if num_tumors == 1:\n",
    "        tumor_labels, num_labels = label(mask1, return_num=True)\n",
    "        label_sizes = [np.sum(tumor_labels == label_id) for label_id in range(1,num_labels+1)]\n",
    "        biggest_label = label_sizes.index(max(label_sizes))+1\n",
    "        mask1[tumor_labels != biggest_label] = 0\n",
    "    \n",
    "    mask1 = binary_opening(binary_closing(mask1, structure=B2, iterations=2), structure=B2, iterations=2)\n",
    "    \n",
    "    if num_tumors == 1:\n",
    "        tumor_labels, num_labels = label(mask1, return_num=True)\n",
    "        label_sizes = [np.sum(tumor_labels == label_id) for label_id in range(1,num_labels+1)]\n",
    "        biggest_label = label_sizes.index(max(label_sizes))+1\n",
    "        mask1[tumor_labels != biggest_label] = 0\n",
    "    \n",
    "    target_mask = mask1 * mid_mask\n",
    "    nontarget_mask = (1-mask1) * mid_mask\n",
    "    \n",
    "    masks.save_mask(mask1, join(save_folder, \"tumor_pred\"), ct_dims, save_mesh=True)\n",
    "    masks.save_mask(target_mask, join(save_folder, \"target_lip\"), ct_dims, save_mesh=True)\n",
    "    masks.save_mask(nontarget_mask, join(save_folder, \"nontarget_lip\"), ct_dims, save_mesh=True)"
   ]
  },
  {
   "cell_type": "code",
   "execution_count": null,
   "metadata": {
    "collapsed": true
   },
   "outputs": [],
   "source": [
    "info = {}\n",
    "\n",
    "for seg in glob.glob(join(target_dir,\"*\",\"wholeliver_24hCT*.ids\")):\n",
    "    if dirname(seg) in info.keys():\n",
    "        (ct_img, ct_dims, mask) = info[dirname(seg)]\n",
    "    else:\n",
    "        ct_img, ct_dims = hf.dcm_load(join(dirname(seg), \"CT24h\"), True, True)\n",
    "        mask, _ = masks.get_mask(seg, ct_dims, ct_img.shape)\n",
    "        \n",
    "    seg_target_lipiodol((mask > 0) * ct_img, dirname(seg), ct_dims)\n",
    "    info[dirname(seg)] = (ct_img, ct_dims, mask)\n",
    "    #break"
   ]
  },
  {
   "cell_type": "code",
   "execution_count": null,
   "metadata": {
    "collapsed": true
   },
   "outputs": [],
   "source": []
  },
  {
   "cell_type": "markdown",
   "metadata": {},
   "source": [
    "### other CT"
   ]
  },
  {
   "cell_type": "code",
   "execution_count": 73,
   "metadata": {
    "collapsed": true
   },
   "outputs": [],
   "source": [
    "src_dir = r\"C:\\Users\\Clinton\\Downloads\\24h CT tumor segmentions (Milena's data)\""
   ]
  },
  {
   "cell_type": "code",
   "execution_count": 75,
   "metadata": {
    "collapsed": true
   },
   "outputs": [],
   "source": [
    "for seg in glob.glob(join(src_dir,\"tumor 24h_*\")):\n",
    "    patient_id = seg[seg.rfind('_Pat')+4:seg.rfind('.')]\n",
    "    if len(patient_id) == 1:\n",
    "        patient_id = \"0\"+patient_id\n",
    "    dest = join(target_dir, patient_id)\n",
    "    #if not exists(join(dest,basename(seg))):\n",
    "    shutil.move(seg, dest)\n",
    "    #print(seg, dest)"
   ]
  },
  {
   "cell_type": "code",
   "execution_count": null,
   "metadata": {
    "collapsed": true
   },
   "outputs": [],
   "source": []
  },
  {
   "cell_type": "code",
   "execution_count": 27,
   "metadata": {
    "collapsed": true
   },
   "outputs": [],
   "source": [
    "ct_img = tr.apply_window(ct_img)\n",
    "ct_img -= np.amin(ct_img)"
   ]
  },
  {
   "cell_type": "code",
   "execution_count": 6,
   "metadata": {
    "collapsed": true
   },
   "outputs": [],
   "source": [
    "for ctfolder in glob.glob(join(target_dir,\"*\",\"CT24h\")):\n",
    "    os.rename(ctfolder, join(dirname(ctfolder), \"CT24h\"))"
   ]
  },
  {
   "cell_type": "code",
   "execution_count": null,
   "metadata": {
    "collapsed": true
   },
   "outputs": [],
   "source": [
    "for seg in glob.glob(join(target_dir,\"*\",\"*CT*\")):\n",
    "    contents = os.listdir(seg)\n",
    "    filterstr = ' 1 5 '\n",
    "    target_folder = [x for x in contents if filterstr in x]\n",
    "    others = [x for x in contents if filterstr not in x]\n",
    "    if len(target_folder) == 1:\n",
    "        for o in others:\n",
    "            shutil.rmtree(join(seg, o))"
   ]
  },
  {
   "cell_type": "code",
   "execution_count": null,
   "metadata": {
    "collapsed": true
   },
   "outputs": [],
   "source": []
  },
  {
   "cell_type": "code",
   "execution_count": null,
   "metadata": {
    "collapsed": true
   },
   "outputs": [],
   "source": []
  },
  {
   "cell_type": "code",
   "execution_count": null,
   "metadata": {
    "collapsed": true
   },
   "outputs": [],
   "source": []
  },
  {
   "cell_type": "markdown",
   "metadata": {},
   "source": [
    "# BLMRI"
   ]
  },
  {
   "cell_type": "code",
   "execution_count": 12,
   "metadata": {
    "collapsed": true
   },
   "outputs": [],
   "source": [
    "path_dict = {}\n",
    "patient_id = '04'\n",
    "for path in glob.glob(join(target_dir, patient_id, \"MRI-BL\",\"*\",\"*\")):\n",
    "    header = hf.dcm_load_header(path)\n",
    "    if len(header) > 0:\n",
    "        series_descript = header[0][('0008', '103e')].value\n",
    "        path_dict[path] = series_descript\n",
    "        series_descript = series_descript.replace(\"/\",\"-\")\n",
    "        os.rename(path, join(target_dir,patient_id, \"MRI-BL\", series_descript))"
   ]
  },
  {
   "cell_type": "code",
   "execution_count": null,
   "metadata": {
    "collapsed": true
   },
   "outputs": [],
   "source": [
    "dcm_paths = [x for x in glob.glob(join(target_dir, \"0Ready\", \"*\", \"MRI-BL\",\"*\")) if x.find('.')==-1]\n",
    "for dcm_path in dcm_paths:\n",
    "    if not exists(splitext(dcm_path)[0] + \".nii.gz\"):\n",
    "        try:\n",
    "            hf.dcm_load(dcm_path, save_path=splitext(dcm_path)[0] + \".nii.gz\")\n",
    "        except:\n",
    "            print(dcm_path)"
   ]
  },
  {
   "cell_type": "code",
   "execution_count": 7,
   "metadata": {
    "collapsed": true
   },
   "outputs": [],
   "source": [
    "art_paths = [x for x in glob.glob(join(target_dir, \"0Ready\", \"*\", \"MRI-BL\",\"*.nii.gz\")) if '20s' in x or 'Ph1-Ax' in x]\n",
    "for path in art_paths:\n",
    "    os.rename(path, join(dirname(path), \"t1-art.nii.gz\"))"
   ]
  },
  {
   "cell_type": "markdown",
   "metadata": {},
   "source": [
    "# Masks"
   ]
  },
  {
   "cell_type": "code",
   "execution_count": 299,
   "metadata": {
    "scrolled": false
   },
   "outputs": [
    {
     "name": "stdout",
     "output_type": "stream",
     "text": [
      "[32.192, 93.187, 31.421] [3.183, 3.183, 3.183]\n"
     ]
    }
   ],
   "source": [
    "maskpaths = [x for x in glob.glob(join(target_dir, \"0Ready\", \"*\", \"*.ids\")) if 'liver bl' in x]\n",
    "#art_paths = glob.glob(join(target_dir, \"0Ready\", \"*\", \"MRI-BL\", \"t1-art.nii.gz\"))\n",
    "for path in maskpaths:\n",
    "    if exists(join(dirname(path), \"MRI-BL\", \"truth.nii.gz\")):\n",
    "        continue\n",
    "    art_path = join(dirname(path), \"MRI-BL\", \"t1-art.nii.gz\")\n",
    "    img, img_dims = hf.nii_load(art_path, True, True)\n",
    "    mask, dims = masks.get_mask(path, img_dims=img_dims, img_shape=img.shape)\n",
    "    hf.save_nii(mask, join(dirname(path), \"MRI-BL\", \"truth.nii.gz\"), dims)"
   ]
  },
  {
   "cell_type": "code",
   "execution_count": 283,
   "metadata": {
    "scrolled": true
   },
   "outputs": [
    {
     "data": {
      "text/plain": [
       "<module 'niftiutils.masks' from 'c:\\\\users\\\\clinton\\\\documents\\\\niftiutils\\\\niftiutils\\\\masks.py'>"
      ]
     },
     "execution_count": 283,
     "metadata": {},
     "output_type": "execute_result"
    }
   ],
   "source": [
    "importlib.reload(masks)"
   ]
  },
  {
   "cell_type": "code",
   "execution_count": 63,
   "metadata": {
    "collapsed": true
   },
   "outputs": [],
   "source": [
    "for patient in os.listdir(img_dir):\n",
    "    if not exists(join(target_dir, patient[:2], \"CT\")):\n",
    "        paths = [x for x in os.listdir(os.path.join(img_dir, patient)) if x.endswith('CT') or x[:-2].endswith('CT')]\n",
    "        for path in paths:\n",
    "            subpaths = [x for x in os.listdir(os.path.join(img_dir, patient, path)) if x.find('.')==-1]\n",
    "            if len(subpaths) > 1:\n",
    "                print(patient, path)\n",
    "            elif len(subpaths) == 1:\n",
    "                if not exists(join(target_dir, patient[:2], \"CT\")):\n",
    "                    shutil.copytree(join(img_dir, patient, path, subpaths[0]), join(target_dir, patient[:2], \"CT\"))\n",
    "                else:\n",
    "                    shutil.copytree(join(img_dir, patient, path, subpaths[0]), join(target_dir, patient[:2], \"CT2\"))\n",
    "        #print(os.path.join(img_dir, patient, ct24_path))"
   ]
  },
  {
   "cell_type": "code",
   "execution_count": 49,
   "metadata": {
    "collapsed": true
   },
   "outputs": [],
   "source": [
    "for patient in os.listdir(img_dir):\n",
    "    blmr_paths = [x for x in os.listdir(os.path.join(img_dir, patient)) if x.endswith('MRI baseline')]\n",
    "    #os.makedirs(join(target_dir, patient))\n",
    "    for blmr_path in blmr_paths:\n",
    "        shutil.copytree(join(img_dir, patient, blmr_path), join(target_dir, patient, \"MRI-BL\"))\n",
    "    #print(os.path.join(img_dir, patient, ct24_path))"
   ]
  },
  {
   "cell_type": "markdown",
   "metadata": {
    "collapsed": true
   },
   "source": [
    "# UNet"
   ]
  },
  {
   "cell_type": "code",
   "execution_count": 3,
   "metadata": {
    "collapsed": true
   },
   "outputs": [],
   "source": [
    "import numpy as np\n",
    "from keras import backend as K\n",
    "from keras.engine import Input, Model\n",
    "from keras.layers import *"
   ]
  },
  {
   "cell_type": "code",
   "execution_count": 4,
   "metadata": {
    "collapsed": true
   },
   "outputs": [],
   "source": [
    "from keras.optimizers import Adam\n",
    "#from unet3d.metrics import dice_coefficient_loss, get_label_dice_coefficient_function, dice_coefficient\n",
    "K.set_image_data_format(\"channels_first\")\n",
    "from keras.layers.merge import concatenate"
   ]
  },
  {
   "cell_type": "code",
   "execution_count": 25,
   "metadata": {},
   "outputs": [],
   "source": [
    "importlib.reload(cbuild)\n",
    "model = cbuild.build_ct_unet()"
   ]
  },
  {
   "cell_type": "code",
   "execution_count": null,
   "metadata": {
    "collapsed": true
   },
   "outputs": [],
   "source": [
    "for seg in glob.glob(join(target_dir,\"*\",\"wholeliver_24hCT*.ids\")):"
   ]
  },
  {
   "cell_type": "code",
   "execution_count": 26,
   "metadata": {
    "scrolled": true
   },
   "outputs": [
    {
     "name": "stdout",
     "output_type": "stream",
     "text": [
      "__________________________________________________________________________________________________\n",
      "Layer (type)                    Output Shape         Param #     Connected to                     \n",
      "==================================================================================================\n",
      "input_15 (InputLayer)           (None, 128, 128, 128 0                                            \n",
      "__________________________________________________________________________________________________\n",
      "reshape_12 (Reshape)            (None, 1, 128, 128,  0           input_15[0][0]                   \n",
      "__________________________________________________________________________________________________\n",
      "conv3d_60 (Conv3D)              (None, 16, 128, 128, 304         reshape_12[0][0]                 \n",
      "__________________________________________________________________________________________________\n",
      "dropout_55 (Dropout)            (None, 16, 128, 128, 0           conv3d_60[0][0]                  \n",
      "__________________________________________________________________________________________________\n",
      "batch_normalization_55 (BatchNo (None, 16, 128, 128, 512         dropout_55[0][0]                 \n",
      "__________________________________________________________________________________________________\n",
      "conv3d_61 (Conv3D)              (None, 32, 128, 128, 9248        batch_normalization_55[0][0]     \n",
      "__________________________________________________________________________________________________\n",
      "dropout_56 (Dropout)            (None, 32, 128, 128, 0           conv3d_61[0][0]                  \n",
      "__________________________________________________________________________________________________\n",
      "batch_normalization_56 (BatchNo (None, 32, 128, 128, 512         dropout_56[0][0]                 \n",
      "__________________________________________________________________________________________________\n",
      "max_pooling3d_13 (MaxPooling3D) (None, 32, 64, 64, 6 0           batch_normalization_56[0][0]     \n",
      "__________________________________________________________________________________________________\n",
      "conv3d_62 (Conv3D)              (None, 32, 64, 64, 6 18464       max_pooling3d_13[0][0]           \n",
      "__________________________________________________________________________________________________\n",
      "dropout_57 (Dropout)            (None, 32, 64, 64, 6 0           conv3d_62[0][0]                  \n",
      "__________________________________________________________________________________________________\n",
      "batch_normalization_57 (BatchNo (None, 32, 64, 64, 6 256         dropout_57[0][0]                 \n",
      "__________________________________________________________________________________________________\n",
      "conv3d_63 (Conv3D)              (None, 64, 64, 64, 6 36928       batch_normalization_57[0][0]     \n",
      "__________________________________________________________________________________________________\n",
      "dropout_58 (Dropout)            (None, 64, 64, 64, 6 0           conv3d_63[0][0]                  \n",
      "__________________________________________________________________________________________________\n",
      "batch_normalization_58 (BatchNo (None, 64, 64, 64, 6 256         dropout_58[0][0]                 \n",
      "__________________________________________________________________________________________________\n",
      "max_pooling3d_14 (MaxPooling3D) (None, 64, 32, 32, 3 0           batch_normalization_58[0][0]     \n",
      "__________________________________________________________________________________________________\n",
      "conv3d_64 (Conv3D)              (None, 64, 32, 32, 3 73792       max_pooling3d_14[0][0]           \n",
      "__________________________________________________________________________________________________\n",
      "dropout_59 (Dropout)            (None, 64, 32, 32, 3 0           conv3d_64[0][0]                  \n",
      "__________________________________________________________________________________________________\n",
      "batch_normalization_59 (BatchNo (None, 64, 32, 32, 3 128         dropout_59[0][0]                 \n",
      "__________________________________________________________________________________________________\n",
      "conv3d_65 (Conv3D)              (None, 128, 32, 32,  147584      batch_normalization_59[0][0]     \n",
      "__________________________________________________________________________________________________\n",
      "dropout_60 (Dropout)            (None, 128, 32, 32,  0           conv3d_65[0][0]                  \n",
      "__________________________________________________________________________________________________\n",
      "batch_normalization_60 (BatchNo (None, 128, 32, 32,  128         dropout_60[0][0]                 \n",
      "__________________________________________________________________________________________________\n",
      "up_sampling3d_9 (UpSampling3D)  (None, 128, 64, 64,  0           batch_normalization_60[0][0]     \n",
      "__________________________________________________________________________________________________\n",
      "concatenate_7 (Concatenate)     (None, 192, 64, 64,  0           up_sampling3d_9[0][0]            \n",
      "                                                                 batch_normalization_58[0][0]     \n",
      "__________________________________________________________________________________________________\n",
      "conv3d_66 (Conv3D)              (None, 64, 64, 64, 6 221248      concatenate_7[0][0]              \n",
      "__________________________________________________________________________________________________\n",
      "dropout_61 (Dropout)            (None, 64, 64, 64, 6 0           conv3d_66[0][0]                  \n",
      "__________________________________________________________________________________________________\n",
      "batch_normalization_61 (BatchNo (None, 64, 64, 64, 6 256         dropout_61[0][0]                 \n",
      "__________________________________________________________________________________________________\n",
      "conv3d_67 (Conv3D)              (None, 64, 64, 64, 6 73792       batch_normalization_61[0][0]     \n",
      "__________________________________________________________________________________________________\n",
      "dropout_62 (Dropout)            (None, 64, 64, 64, 6 0           conv3d_67[0][0]                  \n",
      "__________________________________________________________________________________________________\n",
      "batch_normalization_62 (BatchNo (None, 64, 64, 64, 6 256         dropout_62[0][0]                 \n",
      "__________________________________________________________________________________________________\n",
      "up_sampling3d_10 (UpSampling3D) (None, 64, 128, 128, 0           batch_normalization_62[0][0]     \n",
      "__________________________________________________________________________________________________\n",
      "concatenate_8 (Concatenate)     (None, 96, 128, 128, 0           up_sampling3d_10[0][0]           \n",
      "                                                                 batch_normalization_56[0][0]     \n",
      "__________________________________________________________________________________________________\n",
      "conv3d_68 (Conv3D)              (None, 32, 128, 128, 55328       concatenate_8[0][0]              \n",
      "__________________________________________________________________________________________________\n",
      "dropout_63 (Dropout)            (None, 32, 128, 128, 0           conv3d_68[0][0]                  \n",
      "__________________________________________________________________________________________________\n",
      "batch_normalization_63 (BatchNo (None, 32, 128, 128, 512         dropout_63[0][0]                 \n",
      "__________________________________________________________________________________________________\n",
      "conv3d_69 (Conv3D)              (None, 32, 128, 128, 18464       batch_normalization_63[0][0]     \n",
      "__________________________________________________________________________________________________\n",
      "dropout_64 (Dropout)            (None, 32, 128, 128, 0           conv3d_69[0][0]                  \n",
      "__________________________________________________________________________________________________\n",
      "batch_normalization_64 (BatchNo (None, 32, 128, 128, 512         dropout_64[0][0]                 \n",
      "__________________________________________________________________________________________________\n",
      "conv3d_70 (Conv3D)              (None, 2, 128, 128,  66          batch_normalization_64[0][0]     \n",
      "==================================================================================================\n",
      "Total params: 658,546\n",
      "Trainable params: 656,882\n",
      "Non-trainable params: 1,664\n",
      "__________________________________________________________________________________________________\n"
     ]
    }
   ],
   "source": [
    "model.summary()"
   ]
  },
  {
   "cell_type": "code",
   "execution_count": null,
   "metadata": {
    "collapsed": true
   },
   "outputs": [],
   "source": [
    "model.fit()"
   ]
  }
 ],
 "metadata": {
  "kernelspec": {
   "display_name": "Python 3",
   "language": "python",
   "name": "python3"
  },
  "language_info": {
   "codemirror_mode": {
    "name": "ipython",
    "version": 3
   },
   "file_extension": ".py",
   "mimetype": "text/x-python",
   "name": "python",
   "nbconvert_exporter": "python",
   "pygments_lexer": "ipython3",
   "version": "3.5.0"
  }
 },
 "nbformat": 4,
 "nbformat_minor": 2
}
