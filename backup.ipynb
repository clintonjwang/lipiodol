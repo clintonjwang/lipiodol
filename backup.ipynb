{
 "cells": [
  {
   "cell_type": "code",
   "execution_count": 1,
   "metadata": {},
   "outputs": [
    {
     "name": "stderr",
     "output_type": "stream",
     "text": [
      "C:\\Users\\Clinton\\AppData\\Local\\conda\\conda\\envs\\old-keras\\lib\\site-packages\\h5py\\__init__.py:34: FutureWarning: Conversion of the second argument of issubdtype from `float` to `np.floating` is deprecated. In future, it will be treated as `np.float64 == np.dtype(float).type`.\n",
      "  from ._conv import register_converters as _register_converters\n"
     ]
    }
   ],
   "source": [
    "import copy\n",
    "import glob\n",
    "import importlib\n",
    "import niftiutils.helper_fxns as hf\n",
    "import niftiutils.transforms as tr\n",
    "import niftiutils.masks as masks\n",
    "import numpy as np\n",
    "import os\n",
    "import shutil\n",
    "from os.path import *\n",
    "%matplotlib inline\n",
    "from scipy.ndimage.morphology import binary_closing, binary_opening, binary_dilation\n",
    "from skimage.morphology import ball, label"
   ]
  },
  {
   "cell_type": "code",
   "execution_count": 89,
   "metadata": {
    "scrolled": true
   },
   "outputs": [
    {
     "data": {
      "text/plain": [
       "<module 'niftiutils.helper_fxns' from 'c:\\\\users\\\\clinton\\\\documents\\\\niftiutils\\\\niftiutils\\\\helper_fxns.py'>"
      ]
     },
     "execution_count": 89,
     "metadata": {},
     "output_type": "execute_result"
    }
   ],
   "source": [
    "importlib.reload(hf)"
   ]
  },
  {
   "cell_type": "code",
   "execution_count": 2,
   "metadata": {
    "collapsed": true
   },
   "outputs": [],
   "source": [
    "img_dir = \"D:\\\\Lipiodol\\\\Images all\"\n",
    "seg_dir = \"D:\\\\Lipiodol\\\\Images extracted and segmentations\"\n",
    "target_dir = \"D:\\\\Lipiodol\\\\Data\""
   ]
  },
  {
   "cell_type": "markdown",
   "metadata": {},
   "source": [
    "### other CT"
   ]
  },
  {
   "cell_type": "code",
   "execution_count": 75,
   "metadata": {
    "collapsed": true
   },
   "outputs": [],
   "source": [
    "for seg in glob.glob(join(src_dir,\"tumor 24h_*\")):\n",
    "    patient_id = seg[seg.rfind('_Pat')+4:seg.rfind('.')]\n",
    "    if len(patient_id) == 1:\n",
    "        patient_id = \"0\"+patient_id\n",
    "    dest = join(target_dir, patient_id)\n",
    "    #if not exists(join(dest,basename(seg))):\n",
    "    shutil.move(seg, dest)\n",
    "    #print(seg, dest)"
   ]
  },
  {
   "cell_type": "code",
   "execution_count": null,
   "metadata": {
    "collapsed": true
   },
   "outputs": [],
   "source": []
  },
  {
   "cell_type": "code",
   "execution_count": 27,
   "metadata": {
    "collapsed": true
   },
   "outputs": [],
   "source": [
    "ct_img = tr.apply_window(ct_img)\n",
    "ct_img -= np.amin(ct_img)"
   ]
  },
  {
   "cell_type": "code",
   "execution_count": null,
   "metadata": {
    "collapsed": true
   },
   "outputs": [],
   "source": [
    "for folder in glob.glob(join(img_dir,\"*\",\"*MRI 30*\")):\n",
    "    lesion_id = basename(dirname(folder))[:2]\n",
    "    shutil.copytree(folder, join(target_dir, lesion_id, \"MRI-30d\"))"
   ]
  },
  {
   "cell_type": "code",
   "execution_count": null,
   "metadata": {
    "collapsed": true
   },
   "outputs": [],
   "source": [
    "for seg in glob.glob(join(target_dir,\"*\",\"*CT*\")):\n",
    "    contents = os.listdir(seg)\n",
    "    filterstr = ' 1 5 '\n",
    "    target_folder = [x for x in contents if filterstr in x]\n",
    "    others = [x for x in contents if filterstr not in x]\n",
    "    if len(target_folder) == 1:\n",
    "        for o in others:\n",
    "            shutil.rmtree(join(seg, o))"
   ]
  },
  {
   "cell_type": "markdown",
   "metadata": {},
   "source": [
    "# BLMRI"
   ]
  },
  {
   "cell_type": "code",
   "execution_count": 12,
   "metadata": {
    "collapsed": true
   },
   "outputs": [],
   "source": [
    "path_dict = {}\n",
    "patient_id = '04'\n",
    "for path in glob.glob(join(target_dir, patient_id, \"MRI-BL\",\"*\",\"*\")):\n",
    "    header = hf.dcm_load_header(path)\n",
    "    if len(header) > 0:\n",
    "        series_descript = header[0][('0008', '103e')].value\n",
    "        path_dict[path] = series_descript\n",
    "        series_descript = series_descript.replace(\"/\",\"-\")\n",
    "        os.rename(path, join(target_dir,patient_id, \"MRI-BL\", series_descript))"
   ]
  },
  {
   "cell_type": "code",
   "execution_count": null,
   "metadata": {
    "collapsed": true
   },
   "outputs": [],
   "source": [
    "dcm_paths = [x for x in glob.glob(join(target_dir, \"0Ready\", \"*\", \"MRI-BL\",\"*\")) if x.find('.')==-1]\n",
    "for dcm_path in dcm_paths:\n",
    "    if not exists(splitext(dcm_path)[0] + \".nii.gz\"):\n",
    "        try:\n",
    "            hf.dcm_load(dcm_path, save_path=splitext(dcm_path)[0] + \".nii.gz\")\n",
    "        except:\n",
    "            print(dcm_path)"
   ]
  },
  {
   "cell_type": "code",
   "execution_count": 7,
   "metadata": {
    "collapsed": true
   },
   "outputs": [],
   "source": [
    "art_paths = [x for x in glob.glob(join(target_dir, \"0Ready\", \"*\", \"MRI-BL\",\"*.nii.gz\")) if '20s' in x or 'Ph1-Ax' in x]\n",
    "for path in art_paths:\n",
    "    os.rename(path, join(dirname(path), \"t1-art.nii.gz\"))"
   ]
  },
  {
   "cell_type": "markdown",
   "metadata": {},
   "source": [
    "# Masks"
   ]
  },
  {
   "cell_type": "code",
   "execution_count": 299,
   "metadata": {
    "scrolled": false
   },
   "outputs": [
    {
     "name": "stdout",
     "output_type": "stream",
     "text": [
      "[32.192, 93.187, 31.421] [3.183, 3.183, 3.183]\n"
     ]
    }
   ],
   "source": [
    "maskpaths = [x for x in glob.glob(join(target_dir, \"0Ready\", \"*\", \"*.ids\")) if 'liver bl' in x]\n",
    "#art_paths = glob.glob(join(target_dir, \"0Ready\", \"*\", \"MRI-BL\", \"t1-art.nii.gz\"))\n",
    "for path in maskpaths:\n",
    "    if exists(join(dirname(path), \"MRI-BL\", \"truth.nii.gz\")):\n",
    "        continue\n",
    "    art_path = join(dirname(path), \"MRI-BL\", \"t1-art.nii.gz\")\n",
    "    img, img_dims = hf.nii_load(art_path, True, True)\n",
    "    mask, dims = masks.get_mask(path, img_dims=img_dims, img_shape=img.shape)\n",
    "    hf.save_nii(mask, join(dirname(path), \"MRI-BL\", \"truth.nii.gz\"), dims)"
   ]
  },
  {
   "cell_type": "code",
   "execution_count": 283,
   "metadata": {
    "scrolled": true
   },
   "outputs": [
    {
     "data": {
      "text/plain": [
       "<module 'niftiutils.masks' from 'c:\\\\users\\\\clinton\\\\documents\\\\niftiutils\\\\niftiutils\\\\masks.py'>"
      ]
     },
     "execution_count": 283,
     "metadata": {},
     "output_type": "execute_result"
    }
   ],
   "source": [
    "importlib.reload(masks)"
   ]
  },
  {
   "cell_type": "code",
   "execution_count": 63,
   "metadata": {
    "collapsed": true
   },
   "outputs": [],
   "source": [
    "for patient in os.listdir(img_dir):\n",
    "    if not exists(join(target_dir, patient[:2], \"CT\")):\n",
    "        paths = [x for x in os.listdir(os.path.join(img_dir, patient)) if x.endswith('CT') or x[:-2].endswith('CT')]\n",
    "        for path in paths:\n",
    "            subpaths = [x for x in os.listdir(os.path.join(img_dir, patient, path)) if x.find('.')==-1]\n",
    "            if len(subpaths) > 1:\n",
    "                print(patient, path)\n",
    "            elif len(subpaths) == 1:\n",
    "                if not exists(join(target_dir, patient[:2], \"CT\")):\n",
    "                    shutil.copytree(join(img_dir, patient, path, subpaths[0]), join(target_dir, patient[:2], \"CT\"))\n",
    "                else:\n",
    "                    shutil.copytree(join(img_dir, patient, path, subpaths[0]), join(target_dir, patient[:2], \"CT2\"))\n",
    "        #print(os.path.join(img_dir, patient, ct24_path))"
   ]
  },
  {
   "cell_type": "code",
   "execution_count": 49,
   "metadata": {
    "collapsed": true
   },
   "outputs": [],
   "source": [
    "for patient in os.listdir(img_dir):\n",
    "    blmr_paths = [x for x in os.listdir(os.path.join(img_dir, patient)) if x.endswith('MRI baseline')]\n",
    "    #os.makedirs(join(target_dir, patient))\n",
    "    for blmr_path in blmr_paths:\n",
    "        shutil.copytree(join(img_dir, patient, blmr_path), join(target_dir, patient, \"MRI-BL\"))\n",
    "    #print(os.path.join(img_dir, patient, ct24_path))"
   ]
  }
 ],
 "metadata": {
  "kernelspec": {
   "display_name": "Python 3",
   "language": "python",
   "name": "python3"
  },
  "language_info": {
   "codemirror_mode": {
    "name": "ipython",
    "version": 3
   },
   "file_extension": ".py",
   "mimetype": "text/x-python",
   "name": "python",
   "nbconvert_exporter": "python",
   "pygments_lexer": "ipython3",
   "version": "3.5.0"
  }
 },
 "nbformat": 4,
 "nbformat_minor": 2
}
