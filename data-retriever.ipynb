{
 "cells": [
  {
   "cell_type": "code",
   "execution_count": 6,
   "metadata": {},
   "outputs": [],
   "source": [
    "import cnn_builder as cbuild\n",
    "import config\n",
    "import copy\n",
    "import glob\n",
    "import importlib\n",
    "import lipiodol_methods as lm\n",
    "import niftiutils.helper_fxns as hf\n",
    "import niftiutils.liver_metrics as lmet\n",
    "import niftiutils.transforms as tr\n",
    "import niftiutils.registration as reg\n",
    "import niftiutils.masks as masks\n",
    "import numpy as np\n",
    "import os\n",
    "from os.path import *\n",
    "import shutil\n",
    "import SimpleITK as sitk\n",
    "import sys\n",
    "from skimage.morphology import ball\n",
    "%matplotlib inline"
   ]
  },
  {
   "cell_type": "code",
   "execution_count": 2,
   "metadata": {
    "collapsed": true,
    "scrolled": true
   },
   "outputs": [],
   "source": [
    "importlib.reload(hf)\n",
    "C = config.Config()"
   ]
  },
  {
   "cell_type": "code",
   "execution_count": 3,
   "metadata": {
    "collapsed": true
   },
   "outputs": [],
   "source": [
    "img_dir = \"D:\\\\Lipiodol\\\\Images all\"\n",
    "seg_dir = \"D:\\\\Lipiodol\\\\Images extracted and segmentations\"\n",
    "target_dir = \"D:\\\\Lipiodol\\\\Data\""
   ]
  },
  {
   "cell_type": "markdown",
   "metadata": {},
   "source": [
    "### Corrupt data"
   ]
  },
  {
   "cell_type": "code",
   "execution_count": 387,
   "metadata": {
    "collapsed": true
   },
   "outputs": [],
   "source": [
    "big_path = r\"C:\\Users\\Clinton\\Desktop\\bigpath\"\n",
    "header = hf.dcm_load_header(big_path)"
   ]
  },
  {
   "cell_type": "code",
   "execution_count": 409,
   "metadata": {
    "collapsed": true
   },
   "outputs": [],
   "source": [
    "dcm_path = [r\"C:\\Users\\Clinton\\Desktop\\New folder\",\n",
    "        r\"C:\\Users\\Clinton\\Desktop\\New folder2\",\n",
    "        r\"C:\\Users\\Clinton\\Desktop\\New folder3\",\n",
    "        r\"C:\\Users\\Clinton\\Desktop\\New folder4\"]"
   ]
  },
  {
   "cell_type": "code",
   "execution_count": 407,
   "metadata": {
    "collapsed": true
   },
   "outputs": [],
   "source": [
    "os.makedirs(dcm_path)\n",
    "os.makedirs(dcm_path2)\n",
    "os.makedirs(dcm_path3)\n",
    "os.makedirs(dcm_path4)"
   ]
  },
  {
   "cell_type": "code",
   "execution_count": 344,
   "metadata": {
    "collapsed": true
   },
   "outputs": [],
   "source": [
    "wtf_path = r\"D:\\Lipiodol\\Images all\\07-AN\\#1 9-10-13 MRI baseline\\MRI Abdomen W WO Contrast\""
   ]
  },
  {
   "cell_type": "code",
   "execution_count": 376,
   "metadata": {
    "collapsed": true
   },
   "outputs": [],
   "source": [
    "acq_t = [82031.93, 82100.41, 82147.77, 82334.49]"
   ]
  },
  {
   "cell_type": "code",
   "execution_count": 410,
   "metadata": {
    "collapsed": true
   },
   "outputs": [],
   "source": [
    "for ix,fn in enumerate(glob.glob(join(wtf_path, \"*\"))):\n",
    "    h = hf.dcm_load_header(fn)\n",
    "    for i in range(4):\n",
    "        if abs(float(h[0].AcquisitionTime) - acq_t[i]) < .02:\n",
    "            shutil.copy(fn, join(dcm_path[i], basename(fn)))"
   ]
  },
  {
   "cell_type": "markdown",
   "metadata": {},
   "source": [
    "for fn in glob.glob(join(dcm_path, \"*\")):\n",
    "    if int(header[int(fn[-7:-4])-1].TemporalPositionIdentifier) == 2:\n",
    "        shutil.move(fn, join(dcm_path2, basename(fn)))\n",
    "    elif int(header[int(fn[-7:-4])-1].TemporalPositionIdentifier) == 3:\n",
    "        shutil.move(fn, join(dcm_path3, basename(fn)))\n",
    "    elif int(header[int(fn[-7:-4])-1].TemporalPositionIdentifier) == 4:\n",
    "        shutil.move(fn, join(dcm_path4, basename(fn)))"
   ]
  },
  {
   "cell_type": "code",
   "execution_count": null,
   "metadata": {
    "collapsed": true
   },
   "outputs": [],
   "source": [
    "dim = 1\n",
    "base = float(header[0].SliceLocation)\n",
    "for x,h in enumerate(header[1:]):\n",
    "    dz = float(h.SliceLocation) - base\n",
    "    print(dz)\n",
    "    base = float(h.SliceLocation)"
   ]
  },
  {
   "cell_type": "code",
   "execution_count": 412,
   "metadata": {
    "collapsed": true
   },
   "outputs": [],
   "source": [
    "fn = [\"t1-pre.nii\", \"t1-art.nii\", \"t1-pv.nii\", \"t1-equ.nii\"]"
   ]
  },
  {
   "cell_type": "code",
   "execution_count": 418,
   "metadata": {
    "collapsed": true
   },
   "outputs": [],
   "source": [
    "for i in range(2,3):\n",
    "    a,dims = hf.dcm_load(dcm_path[i], True, True)\n",
    "    save_path = join(dirname(dcm_path[i]), \"07\", fn[i])\n",
    "    hf.save_nii(a, save_path, dims)"
   ]
  },
  {
   "cell_type": "markdown",
   "metadata": {},
   "source": [
    "### MRI loading"
   ]
  },
  {
   "cell_type": "code",
   "execution_count": 430,
   "metadata": {
    "collapsed": true
   },
   "outputs": [],
   "source": [
    "patient_id = \"09\"\n",
    "modality = \"MRI-BL\"\n",
    "dcm_paths = [x for x in glob.glob(join(target_dir, patient_id, modality,\"*\")) if x.find('.')==-1]\n",
    "for dcm_path in dcm_paths:\n",
    "    if not exists(splitext(dcm_path)[0] + \".nii\"):\n",
    "        try:\n",
    "            save_path = splitext(dcm_path)[0] + \".nii\"\n",
    "            img, dims = hf.dcm_load(dcm_path, True, True)\n",
    "            hf.save_nii(img, save_path, dims)\n",
    "        except:\n",
    "            print(dcm_path)"
   ]
  },
  {
   "cell_type": "code",
   "execution_count": 130,
   "metadata": {
    "collapsed": true,
    "scrolled": true
   },
   "outputs": [],
   "source": [
    "paths = [x for x in glob.glob(join(target_dir, patient_id, modality,\"*.nii.gz\")) if '20s' in x or 'Ph1-Ax' in x]\n",
    "if len(paths)==1:\n",
    "    os.rename(paths[0], join(dirname(paths[0]), \"mri_30d_art.nii.gz\"))"
   ]
  },
  {
   "cell_type": "code",
   "execution_count": 131,
   "metadata": {
    "collapsed": true
   },
   "outputs": [],
   "source": [
    "paths = [x for x in glob.glob(join(target_dir, patient_id, modality,\"*.nii.gz\")) \\\n",
    "         if ('pre' in x.lower() and 'post' not in x.lower()) or basename(x).startswith('Ax LAVA-XV')]\n",
    "if len(paths)==1:\n",
    "    os.rename(paths[0], join(dirname(paths[0]), \"mri_30d_pre.nii.gz\"))"
   ]
  },
  {
   "cell_type": "markdown",
   "metadata": {},
   "source": [
    "## Make liver mask"
   ]
  },
  {
   "cell_type": "code",
   "execution_count": 145,
   "metadata": {
    "collapsed": true
   },
   "outputs": [],
   "source": [
    "import keras\n",
    "from config import Config\n",
    "model = keras.models.load_model(join(Config().model_dir, \"mri_liver.hdf5\"))"
   ]
  },
  {
   "cell_type": "code",
   "execution_count": null,
   "metadata": {
    "collapsed": true
   },
   "outputs": [],
   "source": [
    "lm.seg_liver_mri_from_path(mri30d_art_path, mri30d_liver_mask_path, model, mri30d_tumor_mask_path)"
   ]
  },
  {
   "cell_type": "markdown",
   "metadata": {},
   "source": [
    "## Non-rigid reg"
   ]
  },
  {
   "cell_type": "code",
   "execution_count": 464,
   "metadata": {
    "scrolled": false
   },
   "outputs": [
    {
     "data": {
      "text/plain": [
       "<module 'niftiutils.registration' from 'c:\\\\users\\\\clinton\\\\documents\\\\niftiutils\\\\niftiutils\\\\registration.py'>"
      ]
     },
     "execution_count": 464,
     "metadata": {},
     "output_type": "execute_result"
    }
   ],
   "source": [
    "importlib.reload(reg)"
   ]
  },
  {
   "cell_type": "code",
   "execution_count": 14,
   "metadata": {},
   "outputs": [
    {
     "name": "stdout",
     "output_type": "stream",
     "text": [
      "D:\\Lipiodol\\Data\\12\\masks\n"
     ]
    }
   ],
   "source": [
    "print(mask_dir)"
   ]
  },
  {
   "cell_type": "code",
   "execution_count": 18,
   "metadata": {
    "collapsed": true
   },
   "outputs": [],
   "source": [
    "patient_id = \"12\"\n",
    "mask_dir = join(target_dir, patient_id, \"masks\")\n",
    "nii_dir = join(target_dir, patient_id, \"nii_files\")\n",
    "if not exists(nii_dir):\n",
    "    os.makedirs(nii_dir)\n",
    "\n",
    "ct24_path = join(target_dir, patient_id, \"nii_files\", \"ct24.nii.gz\")\n",
    "ct24_tumor_mask_path = glob.glob(join(mask_dir, \"tumor*24h*.ids\"))[0]\n",
    "\n",
    "mribl_art_path = join(target_dir, patient_id, \"MRI-BL\", \"mri_bl_art.nii.gz\")\n",
    "mribl_pre_path = join(target_dir, patient_id, \"MRI-BL\", \"mri_bl_pre.nii.gz\")\n",
    "mribl_tumor_mask_path = join(mask_dir, \"tumor_BL_MRI\")\n",
    "mribl_liver_mask_path = join(mask_dir, \"mri_bl_liver\")\n",
    "mribl_enh_mask_path = join(mask_dir, \"enh_bl\")\n",
    "mribl_nec_mask_path = join(mask_dir, \"nec_bl\")\n",
    "ct24_bl_enh_mask_path = join(mask_dir, \"ct24_bl_enh\")\n",
    "ct24_bl_nec_mask_path = join(mask_dir, \"ct24_bl_nec\")\n",
    "\n",
    "mri30d_art_path = join(target_dir, patient_id, \"MRI-30d\", \"mri_30d_art.nii.gz\")\n",
    "mri30d_pre_path = join(target_dir, patient_id, \"MRI-30d\", \"mri_30d_pre.nii.gz\")\n",
    "mri30d_tumor_mask_path = join(mask_dir, \"tumor_30dFU_MRI\")\n",
    "mri30d_liver_mask_path = join(mask_dir, \"mri_30d_liver\")\n",
    "mri30d_enh_mask_path = join(mask_dir, \"enh_30d\")\n",
    "mri30d_nec_mask_path = join(mask_dir, \"nec_30d\")\n",
    "ct24_30d_enh_mask_path = join(mask_dir, \"ct24_30d_enh\")\n",
    "ct24_30d_nec_mask_path = join(mask_dir, \"ct24_30d_nec\")"
   ]
  },
  {
   "cell_type": "code",
   "execution_count": 133,
   "metadata": {
    "collapsed": true
   },
   "outputs": [],
   "source": [
    "ct_img, ct_dims = hf.dcm_load(join(target_dir, patient_id, \"CT24h\"), True, True)\n",
    "hf.save_nii(ct_img, ct24_path, ct_dims)"
   ]
  },
  {
   "cell_type": "code",
   "execution_count": 141,
   "metadata": {
    "collapsed": true
   },
   "outputs": [],
   "source": [
    "threshold = 23.148\n",
    "lmet.seg_tumor_from_threshold(mribl_art_path, mribl_pre_path,\n",
    "                              threshold, mribl_tumor_mask_path,\n",
    "                              mribl_enh_mask_path, mribl_nec_mask_path)\n",
    "threshold = 78.243\n",
    "lmet.seg_tumor_from_threshold(mri30d_art_path, mri30d_pre_path,\n",
    "                              threshold, mri30d_tumor_mask_path,\n",
    "                              mri30d_enh_mask_path, mri30d_nec_mask_path)"
   ]
  },
  {
   "cell_type": "markdown",
   "metadata": {},
   "source": [
    "#qEASLy to produce enhancing mask\n",
    "#importlib.reload(lmet)\n",
    "_=lmet.segment_tumor_from_paths(mribl_art_path, mribl_pre_path,\n",
    "                              mribl_liver_mask_path, mribl_tumor_mask_path,\n",
    "                              mribl_enh_mask_path, mribl_nec_mask_path)\n",
    "_=lmet.segment_tumor_from_paths(mri30d_art_path, mri30d_pre_path,\n",
    "                              mri30d_liver_mask_path, mri30d_tumor_mask_path,\n",
    "                              mri30d_enh_mask_path, mri30d_nec_mask_path)"
   ]
  },
  {
   "cell_type": "code",
   "execution_count": 17,
   "metadata": {},
   "outputs": [],
   "source": [
    "xform_path, crops, pads = reg.get_mask_Tx(ct24_path, ct24_tumor_mask_path, mribl_art_path, mribl_tumor_mask_path)\n",
    "\n",
    "# Transform using existing transform\n",
    "_ = reg.transform_mask(mribl_enh_mask_path, mribl_art_path, xform_path,\n",
    "                     crops, pads, ct_dims, ct24_bl_enh_mask_path)\n",
    "_ = reg.transform_mask(mribl_nec_mask_path, mribl_art_path, xform_path,\n",
    "                     crops, pads, ct_dims, ct24_bl_nec_mask_path)"
   ]
  },
  {
   "cell_type": "code",
   "execution_count": 143,
   "metadata": {
    "collapsed": true
   },
   "outputs": [],
   "source": [
    "xform_path, crops, pads = reg.get_mask_Tx(ct24_path, ct24_tumor_mask_path, mri30d_art_path, mri30d_tumor_mask_path)\n",
    "\n",
    "# Transform using existing transform\n",
    "_ = reg.transform_mask(mri30d_enh_mask_path, mri30d_art_path, xform_path,\n",
    "                     crops, pads, ct_dims, ct24_30d_enh_mask_path)\n",
    "_ = reg.transform_mask(mri30d_nec_mask_path, mri30d_art_path, xform_path,\n",
    "                     crops, pads, ct_dims, ct24_30d_nec_mask_path)"
   ]
  },
  {
   "cell_type": "code",
   "execution_count": 90,
   "metadata": {
    "collapsed": true
   },
   "outputs": [],
   "source": [
    "ball_ct24_path = join(target_dir, patient_id, \"nii_files\", \"ct24_ball.nii\")\n",
    "ball_mask_path = join(mask_dir, \"ball_mask\")\n",
    "ball_mribl_enh_mask_path = join(mask_dir, \"ball_mribl_enh_mask\")\n",
    "ball_mri30d_enh_mask_path = join(mask_dir, \"ball_mri30d_enh_mask\")"
   ]
  },
  {
   "cell_type": "code",
   "execution_count": 91,
   "metadata": {},
   "outputs": [],
   "source": [
    "importlib.reload(reg)\n",
    "\n",
    "xform_path, crops, pads = reg.get_mask_Tx_shape(ct24_path, ct24_tumor_mask_path, mask_path=ball_mask_path)\n",
    "img = reg.transform_region(ct24_path, xform_path, crops, pads, [1.]*3, ball_ct24_path)\n",
    "\n",
    "xform_path, crops, pads = reg.get_mask_Tx_shape(mribl_art_path, mribl_tumor_mask_path)\n",
    "_ = reg.transform_mask(mribl_enh_mask_path, mribl_art_path, xform_path,\n",
    "                     crops, pads, [1.]*3, ball_mribl_enh_mask_path)\n",
    "\n",
    "#xform_path, crops, pads = reg.get_mask_Tx_shape(mri30d_art_path, mri30d_tumor_mask_path)\n",
    "#_ = reg.transform_mask(mri30d_enh_mask_path, mri30d_art_path, xform_path,\n",
    "#                     crops, pads, [1.]*3, ball_mri30d_enh_mask_path)"
   ]
  },
  {
   "cell_type": "code",
   "execution_count": 108,
   "metadata": {},
   "outputs": [],
   "source": [
    "importlib.reload(reg)\n",
    "xform_path, crops, pads = reg.get_mask_Tx_shape(mribl_art_path, mribl_tumor_mask_path)\n",
    "_ = reg.transform_mask(mribl_tumor_mask_path, mribl_art_path, xform_path,\n",
    "                     crops, pads, [1.]*3, ball_mribl_enh_mask_path)"
   ]
  },
  {
   "cell_type": "code",
   "execution_count": 86,
   "metadata": {},
   "outputs": [],
   "source": [
    "img, dims = hf.nii_load(\"D:\\\\temp_fix.nii\")"
   ]
  },
  {
   "cell_type": "markdown",
   "metadata": {},
   "source": [
    "### Compose with rotation"
   ]
  },
  {
   "cell_type": "code",
   "execution_count": 191,
   "metadata": {
    "collapsed": true
   },
   "outputs": [],
   "source": [
    "mribl_liver_mask_path = join(target_dir, patient_id, \"liver bl final.ids\")\n",
    "ct24_liver_mask_path = glob.glob(join(target_dir, patient_id, \"wholeliver_24hCT*.ids\"))[0]"
   ]
  },
  {
   "cell_type": "code",
   "execution_count": null,
   "metadata": {
    "collapsed": true
   },
   "outputs": [],
   "source": [
    "mribl_ct24_xform, ct24_tumor, mribl_tumor, mribl_ct24_crops = full_reg_masks(ct24_tumor_mask_path, ct24_path, mribl_tumor_mask_path, mribl_art_path)"
   ]
  },
  {
   "cell_type": "code",
   "execution_count": null,
   "metadata": {
    "collapsed": true
   },
   "outputs": [],
   "source": []
  },
  {
   "cell_type": "code",
   "execution_count": null,
   "metadata": {
    "collapsed": true
   },
   "outputs": [],
   "source": [
    "# BL MRI to 24h CT\n",
    "vec_field = lm.reg_masks(ct_tumor_mask_path, blmri_tumor_mask_path)"
   ]
  },
  {
   "cell_type": "code",
   "execution_count": null,
   "metadata": {
    "collapsed": true
   },
   "outputs": [],
   "source": [
    "mribl_enh_mask = reg.apply_field(vec_field)"
   ]
  },
  {
   "cell_type": "code",
   "execution_count": null,
   "metadata": {
    "collapsed": true
   },
   "outputs": [],
   "source": [
    "ct24_lip = lm.seg_lipiodol()"
   ]
  },
  {
   "cell_type": "code",
   "execution_count": null,
   "metadata": {
    "collapsed": true
   },
   "outputs": [],
   "source": [
    "reg.reg_sitk(ct24_lip, vec_field)"
   ]
  },
  {
   "cell_type": "code",
   "execution_count": 114,
   "metadata": {
    "collapsed": true
   },
   "outputs": [],
   "source": [
    "mri_dcm_paths = [x for x in glob.glob(join(target_dir, '*', 'MRI-BL', '*20s*')) if '.nii' not in x]\n",
    "mri_dcm_paths"
   ]
  },
  {
   "cell_type": "code",
   "execution_count": null,
   "metadata": {
    "collapsed": true
   },
   "outputs": [],
   "source": [
    "path_dict = {}\n",
    "patient_id = '04'\n",
    "for path in glob.glob(join(target_dir, patient_id, \"MRI-BL\",\"*\",\"*\")):\n",
    "    header = hf.dcm_load_header(path)\n",
    "    if len(header) > 0:\n",
    "        series_descript = header[0][('0008', '103e')].value\n",
    "        path_dict[path] = series_descript\n",
    "        series_descript = series_descript.replace(\"/\",\"-\")\n",
    "        os.rename(path, join(target_dir,patient_id, \"MRI-BL\", series_descript))"
   ]
  },
  {
   "cell_type": "code",
   "execution_count": null,
   "metadata": {
    "collapsed": true
   },
   "outputs": [],
   "source": []
  },
  {
   "cell_type": "code",
   "execution_count": 499,
   "metadata": {
    "collapsed": true
   },
   "outputs": [],
   "source": [
    "for path in glob.glob(join(target_dir, \"*\", \"masks\",\"*final*\")):\n",
    "    if not exists(path.replace(\" final\", \"\")):\n",
    "        os.rename(path, path.replace(\" final\", \"\"))"
   ]
  },
  {
   "cell_type": "markdown",
   "metadata": {},
   "source": [
    "for path in glob.glob(join(target_dir, \"*\")):\n",
    "    os.makedirs(join(path, \"masks\"))"
   ]
  },
  {
   "cell_type": "markdown",
   "metadata": {},
   "source": [
    "for path in glob.glob(join(target_dir, \"*\", \"*.off\")):\n",
    "    os.rename(path, join(dirname(path), \"masks\", basename(path)))"
   ]
  },
  {
   "cell_type": "markdown",
   "metadata": {},
   "source": [
    "### Bias field corr"
   ]
  },
  {
   "cell_type": "code",
   "execution_count": 122,
   "metadata": {
    "collapsed": true
   },
   "outputs": [],
   "source": [
    "mri_raw_paths = glob.glob(join(target_dir, '*', 'MRI-BL', 't1-art.nii.gz'))\n",
    "mri_bfc_paths = [join(dirname(x), \"t1-art-bfc.nii.gz\") for x in mri_raw_paths]"
   ]
  },
  {
   "cell_type": "code",
   "execution_count": 176,
   "metadata": {},
   "outputs": [
    {
     "data": {
      "text/plain": [
       "<module 'niftiutils.masks' from 'c:\\\\users\\\\clinton\\\\documents\\\\niftiutils\\\\niftiutils\\\\masks.py'>"
      ]
     },
     "execution_count": 176,
     "metadata": {},
     "output_type": "execute_result"
    }
   ],
   "source": [
    "importlib.reload(masks)"
   ]
  },
  {
   "cell_type": "code",
   "execution_count": null,
   "metadata": {
    "collapsed": true
   },
   "outputs": [],
   "source": [
    "glob.glob(join(target_dir, patient_id, ''"
   ]
  },
  {
   "cell_type": "code",
   "execution_count": null,
   "metadata": {
    "collapsed": true
   },
   "outputs": [],
   "source": [
    "masks.mask2nii()"
   ]
  },
  {
   "cell_type": "code",
   "execution_count": 128,
   "metadata": {
    "collapsed": true
   },
   "outputs": [],
   "source": [
    "inputImage = sitk.ReadImage(mri_raw_paths[0])\n",
    "maskImage = sitk.OtsuThreshold( inputImage, 0, 1, 200 )\n",
    "\n",
    "if len ( sys.argv ) > 3:\n",
    "    inputImage = sitk.Shrink( inputImage, [ int(sys.argv[3]) ] * inputImage.GetDimension() )\n",
    "    maskImage = sitk.Shrink( maskImage, [ int(sys.argv[3]) ] * inputImage.GetDimension() )\n",
    "\n",
    "inputImage = sitk.Cast( inputImage, sitk.sitkFloat32 )\n",
    "\n",
    "corrector = sitk.N4BiasFieldCorrectionImageFilter()\n",
    "\n",
    "numberFilltingLevels = 4\n",
    "#corrector.SetMaximumNumberOfIterations( [ int( sys.argv[5] ) ] *numberFilltingLevels  )\n",
    "\n",
    "output = corrector.Execute( inputImage, maskImage )\n",
    "\n",
    "sitk.WriteImage( output, mri_bfc_paths[0] )"
   ]
  },
  {
   "cell_type": "markdown",
   "metadata": {},
   "source": [
    "### Masks"
   ]
  },
  {
   "cell_type": "code",
   "execution_count": null,
   "metadata": {
    "collapsed": true
   },
   "outputs": [],
   "source": []
  },
  {
   "cell_type": "code",
   "execution_count": null,
   "metadata": {
    "collapsed": true
   },
   "outputs": [],
   "source": []
  },
  {
   "cell_type": "code",
   "execution_count": null,
   "metadata": {
    "collapsed": true
   },
   "outputs": [],
   "source": []
  },
  {
   "cell_type": "markdown",
   "metadata": {},
   "source": [
    "## Lipiodol seg"
   ]
  },
  {
   "cell_type": "code",
   "execution_count": 82,
   "metadata": {
    "scrolled": true
   },
   "outputs": [
    {
     "data": {
      "text/plain": [
       "<module 'niftiutils.masks' from 'c:\\\\users\\\\clinton\\\\documents\\\\niftiutils\\\\niftiutils\\\\masks.py'>"
      ]
     },
     "execution_count": 82,
     "metadata": {},
     "output_type": "execute_result"
    }
   ],
   "source": [
    "importlib.reload(lm)"
   ]
  },
  {
   "cell_type": "code",
   "execution_count": 144,
   "metadata": {
    "collapsed": true
   },
   "outputs": [],
   "source": [
    "# Lipiodol 3 masks\n",
    "info = {}\n",
    "for seg in glob.glob(join(mask_dir, \"wholeliver_24hCT*.ids\")):\n",
    "    if dirname(seg) in info.keys():\n",
    "        (ct_img, ct_dims, mask) = info[dirname(seg)]\n",
    "    else:\n",
    "        ct_img, ct_dims = hf.dcm_load(join(target_dir, patient_id, \"CT24h\"), True, True)\n",
    "        mask, _ = masks.get_mask(seg, ct_dims, ct_img.shape)\n",
    "        \n",
    "    lm.seg_lipiodol((mask > 0) * ct_img, dirname(seg), ct_dims)\n",
    "    info[dirname(seg)] = (ct_img, ct_dims, mask)\n",
    "    break"
   ]
  },
  {
   "cell_type": "code",
   "execution_count": null,
   "metadata": {
    "collapsed": true
   },
   "outputs": [],
   "source": [
    "# Lipiodol target vs non-target masks\n",
    "info = {}\n",
    "for seg in glob.glob(join(target_dir,\"*\",\"wholeliver_24hCT*.ids\")):\n",
    "    if dirname(seg) in info.keys():\n",
    "        (ct_img, ct_dims, mask) = info[dirname(seg)]\n",
    "    else:\n",
    "        ct_img, ct_dims = hf.dcm_load(join(dirname(seg), \"CT24h\"), True, True)\n",
    "        mask, _ = masks.get_mask(seg, ct_dims, ct_img.shape)\n",
    "        \n",
    "    lm.seg_target_lipiodol((mask > 0) * ct_img, dirname(seg), ct_dims)\n",
    "    info[dirname(seg)] = (ct_img, ct_dims, mask)\n",
    "    #break"
   ]
  },
  {
   "cell_type": "code",
   "execution_count": null,
   "metadata": {
    "collapsed": true
   },
   "outputs": [],
   "source": []
  }
 ],
 "metadata": {
  "kernelspec": {
   "display_name": "Python 3",
   "language": "python",
   "name": "python3"
  },
  "language_info": {
   "codemirror_mode": {
    "name": "ipython",
    "version": 3
   },
   "file_extension": ".py",
   "mimetype": "text/x-python",
   "name": "python",
   "nbconvert_exporter": "python",
   "pygments_lexer": "ipython3",
   "version": "3.5.0"
  }
 },
 "nbformat": 4,
 "nbformat_minor": 2
}
