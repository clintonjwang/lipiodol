{
 "cells": [
  {
   "cell_type": "markdown",
   "metadata": {
    "heading_collapsed": true
   },
   "source": [
    "## Imports"
   ]
  },
  {
   "cell_type": "code",
   "execution_count": 5,
   "metadata": {
    "ExecuteTime": {
     "end_time": "2018-04-19T03:09:58.974952Z",
     "start_time": "2018-04-19T03:09:58.610526Z"
    },
    "hidden": true
   },
   "outputs": [],
   "source": [
    "import copy\n",
    "import glob\n",
    "import importlib\n",
    "import math\n",
    "import os\n",
    "import random\n",
    "import shutil\n",
    "import sys\n",
    "from math import degrees, pi, radians\n",
    "from os.path import *\n",
    "\n",
    "import keras\n",
    "import mahotas.features as mah\n",
    "import matplotlib.pyplot as plt\n",
    "import numpy as np\n",
    "import pandas as pd\n",
    "import SimpleITK as sitk\n",
    "import skimage.feature as skf\n",
    "from skimage.morphology import ball\n",
    "\n",
    "import cnn_builder as cbuild\n",
    "import config\n",
    "import lipiodol_methods as lm\n",
    "import lipiodol_vis as lvis\n",
    "import niftiutils.helper_fxns as hf\n",
    "import niftiutils.liver_metrics as lmet\n",
    "import niftiutils.masks as masks\n",
    "import niftiutils.registration as reg\n",
    "import niftiutils.transforms as tr\n",
    "from config import Config\n",
    "import skimage.morphology\n",
    "\n",
    "%matplotlib inline"
   ]
  },
  {
   "cell_type": "code",
   "execution_count": 6,
   "metadata": {
    "ExecuteTime": {
     "end_time": "2018-04-19T03:10:00.343236Z",
     "start_time": "2018-04-19T03:10:00.338194Z"
    },
    "collapsed": true,
    "hidden": true,
    "scrolled": true
   },
   "outputs": [],
   "source": [
    "importlib.reload(config)\n",
    "C = config.Config()\n",
    "\n",
    "img_dir = \"D:\\\\Lipiodol\\\\Images all\"\n",
    "seg_dir = \"D:\\\\Lipiodol\\\\Images extracted and segmentations\"\n",
    "target_dir = \"D:\\\\Lipiodol\\\\Data\""
   ]
  },
  {
   "cell_type": "markdown",
   "metadata": {},
   "source": [
    "# Data Handling"
   ]
  },
  {
   "cell_type": "code",
   "execution_count": 200,
   "metadata": {
    "ExecuteTime": {
     "end_time": "2018-04-07T17:34:03.147256Z",
     "start_time": "2018-04-07T17:34:03.128207Z"
    },
    "collapsed": true
   },
   "outputs": [],
   "source": [
    "df = pd.read_excel(\"D:\\Lipiodol\\pk-study_spreadsheet.xlsx\", sheetname=\"pat_info\")\n",
    "df = df.dropna(subset=[\"Subject ID\", \"CT24 Accession #\"])"
   ]
  },
  {
   "cell_type": "code",
   "execution_count": 374,
   "metadata": {
    "ExecuteTime": {
     "end_time": "2018-04-07T19:16:57.996520Z",
     "start_time": "2018-04-07T19:16:57.766706Z"
    },
    "collapsed": true
   },
   "outputs": [],
   "source": [
    "for fn in glob.glob(join(target_dir, \"*\")):\n",
    "    os.rename(fn, join(dirname(fn), \"BM-\"+basename(fn)))"
   ]
  },
  {
   "cell_type": "code",
   "execution_count": null,
   "metadata": {
    "ExecuteTime": {
     "end_time": "2018-04-07T18:12:54.888209Z",
     "start_time": "2018-04-07T18:03:44.828980Z"
    },
    "collapsed": true
   },
   "outputs": [],
   "source": [
    "for fn in glob.glob(join(pk_target_dir, \"*\")):\n",
    "    accnum = df.loc[df[\"Subject ID\"]==basename(fn),\"CT24 Accession #\"].values[0]\n",
    "    if not exists(join(pk_src_dir, accnum)):\n",
    "        print(basename(fn), accnum)\n",
    "    else:\n",
    "        shutil.copytree(join(pk_src_dir, accnum), join(fn, \"CT24h\"))\n",
    "        print(join(fn, \"CT24h\"))"
   ]
  },
  {
   "cell_type": "markdown",
   "metadata": {
    "heading_collapsed": true
   },
   "source": [
    "### Corrupt data"
   ]
  },
  {
   "cell_type": "code",
   "execution_count": 7,
   "metadata": {
    "ExecuteTime": {
     "end_time": "2018-04-05T15:30:16.243952Z",
     "start_time": "2018-04-05T15:30:13.903596Z"
    },
    "collapsed": true,
    "hidden": true
   },
   "outputs": [],
   "source": [
    "big_path = r\"C:\\Users\\Clinton\\Desktop\\MRI Abdomen W WO Contrast\"\n",
    "header = hf.dcm_load_header(big_path)"
   ]
  },
  {
   "cell_type": "code",
   "execution_count": 8,
   "metadata": {
    "ExecuteTime": {
     "end_time": "2018-04-05T15:30:26.386234Z",
     "start_time": "2018-04-05T15:30:26.383221Z"
    },
    "collapsed": true,
    "hidden": true
   },
   "outputs": [],
   "source": [
    "dcm_path = [r\"C:\\Users\\Clinton\\Desktop\\New folder\",\n",
    "        r\"C:\\Users\\Clinton\\Desktop\\New folder2\",\n",
    "        r\"C:\\Users\\Clinton\\Desktop\\New folder3\",\n",
    "        r\"C:\\Users\\Clinton\\Desktop\\New folder4\"]"
   ]
  },
  {
   "cell_type": "code",
   "execution_count": 9,
   "metadata": {
    "ExecuteTime": {
     "end_time": "2018-04-05T15:30:32.002288Z",
     "start_time": "2018-04-05T15:30:31.999305Z"
    },
    "collapsed": true,
    "hidden": true
   },
   "outputs": [],
   "source": [
    "for i in range(4):\n",
    "    os.makedirs(dcm_path[i])"
   ]
  },
  {
   "cell_type": "code",
   "execution_count": 10,
   "metadata": {
    "ExecuteTime": {
     "end_time": "2018-04-05T15:32:55.730396Z",
     "start_time": "2018-04-05T15:32:55.727417Z"
    },
    "collapsed": true,
    "hidden": true
   },
   "outputs": [],
   "source": [
    "acq_t = [124326.42, 124404.46, 124446.79, 124633.32]"
   ]
  },
  {
   "cell_type": "code",
   "execution_count": 11,
   "metadata": {
    "ExecuteTime": {
     "end_time": "2018-04-05T15:33:17.516876Z",
     "start_time": "2018-04-05T15:33:15.008060Z"
    },
    "collapsed": true,
    "hidden": true
   },
   "outputs": [],
   "source": [
    "for ix,fn in enumerate(glob.glob(join(big_path, \"*\"))):\n",
    "    h = hf.dcm_load_header(fn)\n",
    "    for i in range(4):\n",
    "        if abs(float(h[0].AcquisitionTime) - acq_t[i]) < .02:\n",
    "            shutil.copy(fn, join(dcm_path[i], basename(fn)))"
   ]
  },
  {
   "cell_type": "markdown",
   "metadata": {
    "hidden": true
   },
   "source": [
    "for fn in glob.glob(join(dcm_path, \"*\")):\n",
    "    if int(header[int(fn[-7:-4])-1].TemporalPositionIdentifier) == 2:\n",
    "        shutil.move(fn, join(dcm_path2, basename(fn)))\n",
    "    elif int(header[int(fn[-7:-4])-1].TemporalPositionIdentifier) == 3:\n",
    "        shutil.move(fn, join(dcm_path3, basename(fn)))\n",
    "    elif int(header[int(fn[-7:-4])-1].TemporalPositionIdentifier) == 4:\n",
    "        shutil.move(fn, join(dcm_path4, basename(fn)))"
   ]
  },
  {
   "cell_type": "code",
   "execution_count": null,
   "metadata": {
    "collapsed": true,
    "hidden": true
   },
   "outputs": [],
   "source": [
    "dim = 1\n",
    "base = float(header[0].SliceLocation)\n",
    "for x,h in enumerate(header[1:]):\n",
    "    dz = float(h.SliceLocation) - base\n",
    "    print(dz)\n",
    "    base = float(h.SliceLocation)"
   ]
  },
  {
   "cell_type": "code",
   "execution_count": 412,
   "metadata": {
    "collapsed": true,
    "hidden": true
   },
   "outputs": [],
   "source": [
    "fn = [\"t1-pre.nii\", \"t1-art.nii\", \"t1-pv.nii\", \"t1-equ.nii\"]"
   ]
  },
  {
   "cell_type": "code",
   "execution_count": 418,
   "metadata": {
    "collapsed": true,
    "hidden": true
   },
   "outputs": [],
   "source": [
    "for i in range(2,3):\n",
    "    a,dims = hf.dcm_load(dcm_path[i], True, True)\n",
    "    save_path = join(dirname(dcm_path[i]), \"07\", fn[i])\n",
    "    hf.save_nii(a, save_path, dims)"
   ]
  },
  {
   "cell_type": "code",
   "execution_count": 120,
   "metadata": {
    "ExecuteTime": {
     "end_time": "2018-04-07T16:17:11.383812Z",
     "start_time": "2018-04-07T16:17:11.344708Z"
    },
    "hidden": true
   },
   "outputs": [
    {
     "name": "stdout",
     "output_type": "stream",
     "text": [
      "D:\\Lipiodol\\Data\\34\\CT24h\\IMG-0001-00010.dcm 6.0\n"
     ]
    }
   ],
   "source": [
    "dcm_path = join(target_dir, lesion_id, \"CT24h\")\n",
    "fns = glob.glob(join(dcm_path, \"*\"))\n",
    "z1 = float(hf.dcm_load_header(fns[0])[0].ImagePositionPatient[-1])\n",
    "z2 = float(hf.dcm_load_header(fns[1])[0].ImagePositionPatient[-1])\n",
    "dz = z1-z2\n",
    "for ix,fn in enumerate(fns[1:]):\n",
    "    h = hf.dcm_load_header(fn)\n",
    "    z2 = float(h[0].ImagePositionPatient[-1])\n",
    "    if abs(z1-z2 - dz) > 1e-3:\n",
    "        print(fn, z1-z2)\n",
    "        break\n",
    "    z1 = z2"
   ]
  },
  {
   "cell_type": "markdown",
   "metadata": {
    "heading_collapsed": true
   },
   "source": [
    "## MRI loading"
   ]
  },
  {
   "cell_type": "code",
   "execution_count": 12,
   "metadata": {
    "ExecuteTime": {
     "end_time": "2018-04-20T03:34:48.292150Z",
     "start_time": "2018-04-20T03:34:48.280094Z"
    },
    "hidden": true,
    "scrolled": false
   },
   "outputs": [],
   "source": [
    "target_dir = \"D:\\\\Lipiodol\\\\Data\"\n",
    "lesion_id = \"BM-04A\".upper()\n",
    "importlib.reload(lm)\n",
    "P = lm.get_paths_dict(lesion_id, target_dir)"
   ]
  },
  {
   "cell_type": "code",
   "execution_count": 9,
   "metadata": {
    "ExecuteTime": {
     "end_time": "2018-04-20T01:31:02.116835Z",
     "start_time": "2018-04-20T01:30:40.333110Z"
    },
    "collapsed": true,
    "hidden": true
   },
   "outputs": [],
   "source": [
    "modality = \"MRI-BL\"\n",
    "\n",
    "dcm_paths = [x for x in glob.glob(join(target_dir, lesion_id, modality,\"*\")) if x.find('.')==-1]\n",
    "for dcm_path in dcm_paths:\n",
    "    if not exists(splitext(dcm_path)[0] + \".nii.gz\"):\n",
    "        try:\n",
    "            save_path = splitext(dcm_path)[0] + \".nii.gz\"\n",
    "            img, dims = hf.dcm_load(dcm_path, True, True)\n",
    "            hf.save_nii(img, save_path, dims)\n",
    "        except:\n",
    "            print(dcm_path)"
   ]
  },
  {
   "cell_type": "code",
   "execution_count": 179,
   "metadata": {
    "ExecuteTime": {
     "end_time": "2018-04-10T19:12:30.786980Z",
     "start_time": "2018-04-10T19:12:30.780963Z"
    },
    "collapsed": true,
    "hidden": true,
    "scrolled": true
   },
   "outputs": [],
   "source": [
    "paths = [x for x in glob.glob(join(target_dir, lesion_id, modality,\"*.nii.gz\")) if '20s' in x or 'Ph1-Ax' in x]\n",
    "if modality == \"MRI-30d\":\n",
    "    save_path = P['mr30']['art']\n",
    "elif modality == \"MRI-BL\":\n",
    "    save_path = P['mrbl']['art']\n",
    "if len(paths)==1:\n",
    "    os.rename(paths[0], save_path)"
   ]
  },
  {
   "cell_type": "code",
   "execution_count": 180,
   "metadata": {
    "ExecuteTime": {
     "end_time": "2018-04-10T19:12:30.830094Z",
     "start_time": "2018-04-10T19:12:30.821098Z"
    },
    "collapsed": true,
    "hidden": true
   },
   "outputs": [],
   "source": [
    "paths = [x for x in glob.glob(join(target_dir, lesion_id, modality,\"*.nii.gz\")) \\\n",
    "         if ('pre' in x.lower() and 'post' not in x.lower()) or basename(x).startswith('Ax LAVA-XV')]\n",
    "if modality == \"MRI-30d\":\n",
    "    save_path = P['mr30']['pre']\n",
    "elif modality == \"MRI-BL\":\n",
    "    save_path = P['mrbl']['pre']\n",
    "if len(paths)==1:\n",
    "    os.rename(paths[0], save_path)"
   ]
  },
  {
   "cell_type": "code",
   "execution_count": null,
   "metadata": {
    "collapsed": true,
    "hidden": true
   },
   "outputs": [],
   "source": [
    "paths = [x for x in glob.glob(join(target_dir, lesion_id, modality,\"*.nii.gz\")) \\\n",
    "         if '3min' in x or basename(x).startswith('Ph3-Ax')]\n",
    "#if modality == \"MRI-30d\":\n",
    "if modality == \"MRI-BL\":\n",
    "    save_path = P['mrbl']['equ']\n",
    "if len(paths)==1:\n",
    "    os.rename(paths[0], save_path)"
   ]
  },
  {
   "cell_type": "code",
   "execution_count": 44,
   "metadata": {
    "ExecuteTime": {
     "end_time": "2018-04-20T03:45:54.570347Z",
     "start_time": "2018-04-20T03:45:54.565338Z"
    },
    "hidden": true
   },
   "outputs": [
    {
     "data": {
      "text/plain": [
       "60"
      ]
     },
     "execution_count": 44,
     "metadata": {},
     "output_type": "execute_result"
    }
   ],
   "source": [
    "glob.glob(join(target_dir,\"*\")).index('D:\\\\Lipiodol\\\\Data\\\\PK-17A')"
   ]
  },
  {
   "cell_type": "code",
   "execution_count": 78,
   "metadata": {
    "ExecuteTime": {
     "end_time": "2018-04-20T03:56:42.515997Z",
     "start_time": "2018-04-20T03:56:24.748771Z"
    },
    "hidden": true
   },
   "outputs": [],
   "source": [
    "importlib.reload(lm)\n",
    "for fn in glob.glob(join(target_dir,\"*\")):\n",
    "    lesion_id = basename(fn)\n",
    "    P = lm.get_paths_dict(lesion_id, target_dir)\n",
    "    #os.rename(join(target_dir, lesion_id, \"MRI-30d\", \"mri30d_pre.nii.gz\"), P['mr30']['pre'])\n",
    "    #os.rename(join(target_dir, lesion_id, \"MRI-30d\", \"mri30d_art.nii.gz\"), P['mr30']['art'])\n",
    "    mod='mrbl'\n",
    "    if not exists(P[mod]['sub']):\n",
    "        art, D = hf.nii_load(P[mod]['art'])\n",
    "        sub = art - hf.nii_load(P[mod]['pre'])[0]\n",
    "        hf.save_nii(sub, P[mod]['sub'], D)"
   ]
  },
  {
   "cell_type": "markdown",
   "metadata": {},
   "source": [
    "## Make liver mask"
   ]
  },
  {
   "cell_type": "code",
   "execution_count": 6,
   "metadata": {
    "ExecuteTime": {
     "end_time": "2018-04-10T14:26:31.535033Z",
     "start_time": "2018-04-10T14:26:20.047948Z"
    },
    "collapsed": true
   },
   "outputs": [],
   "source": [
    "model = keras.models.load_model(join(config.Config().model_dir, \"mri_liver.hdf5\"))"
   ]
  },
  {
   "cell_type": "code",
   "execution_count": 185,
   "metadata": {
    "ExecuteTime": {
     "end_time": "2018-04-10T19:14:34.317721Z",
     "start_time": "2018-04-10T19:14:31.949777Z"
    },
    "collapsed": true,
    "scrolled": true
   },
   "outputs": [],
   "source": [
    "lm.seg_liver_mri_from_path(P['mr30']['art'], P['mr30']['liver'], model, P['mr30']['tumor'])"
   ]
  },
  {
   "cell_type": "code",
   "execution_count": 227,
   "metadata": {
    "ExecuteTime": {
     "end_time": "2018-04-13T16:00:55.502548Z",
     "start_time": "2018-04-13T16:00:41.874785Z"
    },
    "collapsed": true
   },
   "outputs": [],
   "source": [
    "model = keras.models.load_model(join(config.Config().model_dir, \"ct_liver.hdf5\"))"
   ]
  },
  {
   "cell_type": "code",
   "execution_count": null,
   "metadata": {
    "ExecuteTime": {
     "end_time": "2018-04-08T00:20:00.840712Z",
     "start_time": "2018-04-08T00:19:57.628754Z"
    },
    "collapsed": true
   },
   "outputs": [],
   "source": [
    "#importlib.reload(lm)\n",
    "lm.seg_liver_ct(P['ct24'], P['ct24']['liver'], model, P['ct24']['tumor'])"
   ]
  },
  {
   "cell_type": "markdown",
   "metadata": {
    "ExecuteTime": {
     "end_time": "2018-04-10T14:38:24.065947Z",
     "start_time": "2018-04-10T14:38:24.063944Z"
    }
   },
   "source": [
    "## Segment Lipiodol"
   ]
  },
  {
   "cell_type": "code",
   "execution_count": 229,
   "metadata": {
    "ExecuteTime": {
     "end_time": "2018-04-13T16:01:40.896053Z",
     "start_time": "2018-04-13T16:01:40.884021Z"
    },
    "collapsed": true
   },
   "outputs": [],
   "source": [
    "importlib.reload(lm)\n",
    "#for lesion_id in [\"BM-05\", \"BM-07\", \"BM-07\"]\n",
    "lesion_id = \"BM-07\"\n",
    "P = lm.get_paths_dict(lesion_id, target_dir)\n",
    "\n",
    "ctbl_liver_mask_path = join(P['mask'], \"wholeliver_BLCT\")"
   ]
  },
  {
   "cell_type": "markdown",
   "metadata": {
    "ExecuteTime": {
     "end_time": "2018-04-13T16:02:03.227034Z",
     "start_time": "2018-04-13T16:01:56.961849Z"
    },
    "collapsed": true
   },
   "source": [
    "ct_img, ct_dims = hf.dcm_load(join(target_dir, lesion_id, \"CTBL\"), True, True)\n",
    "hf.save_nii(ct_img, ctbl_path, ct_dims)\n",
    "\n",
    "lm.seg_liver_ct(ctbl_path, ctbl_liver_mask_path, model)\n",
    "\n",
    "masks.restrict_mask_to_largest(ctbl_tumor_mask_path, img_path=ctbl_path)\n",
    "\n",
    "A=masks.draw_mask(ctbl_liver_mask_path, ctbl_path, [0,200])\n",
    "\n",
    "A = skimage.morphology.grey.erosion(A)"
   ]
  },
  {
   "cell_type": "markdown",
   "metadata": {
    "ExecuteTime": {
     "end_time": "2018-04-13T16:04:18.076453Z",
     "start_time": "2018-04-13T16:04:18.066429Z"
    }
   },
   "source": [
    "np.percentile(A[A>0], 99.5)"
   ]
  },
  {
   "cell_type": "markdown",
   "metadata": {
    "ExecuteTime": {
     "end_time": "2018-04-13T14:42:51.292949Z",
     "start_time": "2018-04-13T14:42:49.297940Z"
    },
    "collapsed": true
   },
   "source": [
    "masks.draw_mask(ct24_tumor_mask_path, ct24_path, [0,300]);"
   ]
  },
  {
   "cell_type": "code",
   "execution_count": 223,
   "metadata": {
    "ExecuteTime": {
     "end_time": "2018-04-19T02:54:53.583211Z",
     "start_time": "2018-04-19T02:54:50.019045Z"
    },
    "collapsed": true
   },
   "outputs": [],
   "source": [
    "ct_img, D = hf.dcm_load(join(target_dir, lesion_id, \"CT24h\"), True, True)\n",
    "hf.save_nii(ct_img, P['ct24'], D)"
   ]
  },
  {
   "cell_type": "code",
   "execution_count": null,
   "metadata": {
    "collapsed": true
   },
   "outputs": [],
   "source": [
    "lm.seg_lipiodol(lesion_id, target_dir)"
   ]
  },
  {
   "cell_type": "markdown",
   "metadata": {
    "heading_collapsed": true
   },
   "source": [
    "## Split masks of multiple tumors (run once)"
   ]
  },
  {
   "cell_type": "code",
   "execution_count": 98,
   "metadata": {
    "ExecuteTime": {
     "end_time": "2018-04-14T21:37:30.236051Z",
     "start_time": "2018-04-14T21:37:27.645827Z"
    },
    "collapsed": true,
    "hidden": true
   },
   "outputs": [],
   "source": [
    "importlib.reload(lm)\n",
    "lm.check_multi_tumors(lesion_id, target_dir)\n",
    "lm.restrict_masks(lesion_id, target_dir)"
   ]
  },
  {
   "cell_type": "code",
   "execution_count": null,
   "metadata": {
    "ExecuteTime": {
     "end_time": "2018-04-07T23:36:26.199324Z",
     "start_time": "2018-04-07T23:35:44.916804Z"
    },
    "collapsed": true,
    "hidden": true
   },
   "outputs": [],
   "source": [
    "#Identify multi-tumor patients\n",
    "for fn in glob.glob(join(target_dir,\"*\")):\n",
    "    lesion_id = basename(fn)\n",
    "    lm.restrict_masks(lesion_id, target_dir)"
   ]
  },
  {
   "cell_type": "markdown",
   "metadata": {
    "ExecuteTime": {
     "end_time": "2018-04-07T23:35:28.261079Z",
     "start_time": "2018-04-07T23:35:27.763091Z"
    },
    "hidden": true
   },
   "source": [
    "importlib.reload(masks)\n",
    "for fn in glob.glob(join(target_dir,\"*\",\"masks\", \"ZZbackup*\")):\n",
    "    os.rename(fn, join(dirname(fn), basename(fn)[8:]))"
   ]
  },
  {
   "cell_type": "markdown",
   "metadata": {
    "ExecuteTime": {
     "end_time": "2018-04-08T00:04:21.320423Z",
     "start_time": "2018-04-07T23:59:44.888686Z"
    },
    "hidden": true
   },
   "source": [
    "importlib.reload(masks)\n",
    "\n",
    "for fn in glob.glob(join(target_dir,\"*\"))[3:]:\n",
    "    lesion_id = basename(fn)\n",
    "    paths = lm.get_paths(lesion_id, target_dir)\n",
    "\n",
    "    mask_dir, nii_dir, ct24_path, ct24_tumor_mask_path, ct24_liver_mask_path, \\\n",
    "    mribl_art_path, mribl_pre_path, mribl_sub_path, \\\n",
    "    mribl_tumor_mask_path, mribl_liver_mask_path, \\\n",
    "    mribl_enh_mask_path, mribl_nec_mask_path, \\\n",
    "    mri30d_art_path, mri30d_pre_path, \\\n",
    "    mri30d_tumor_mask_path, mri30d_liver_mask_path, \\\n",
    "    mri30d_enh_mask_path, mri30d_nec_mask_path, \\\n",
    "    ball_ct24_path, ball_mribl_path, ball_mri30d_path, \\\n",
    "    ball_mask_path, ball_mribl_enh_mask_path, ball_mri30d_enh_mask_path, \\\n",
    "    midlip_mask_path, ball_midlip_mask_path, \\\n",
    "    highlip_mask_path, ball_highlip_mask_path = paths\n",
    "    \n",
    "    print(lesion_id)\n",
    "    #lm.seg_lipiodol(ct24_path, mask_dir, ct24_liver_mask_path)\n",
    "    masks.intersection(mribl_enh_mask_path, mribl_tumor_mask_path, img_path=mribl_art_path)\n",
    "    masks.intersection(mribl_nec_mask_path, mribl_tumor_mask_path, img_path=mribl_art_path)\n",
    "    masks.intersection(mri30d_enh_mask_path, mri30d_tumor_mask_path, img_path=mri30d_art_path)\n",
    "    masks.intersection(mri30d_nec_mask_path, mri30d_tumor_mask_path, img_path=mri30d_art_path)"
   ]
  },
  {
   "cell_type": "markdown",
   "metadata": {
    "ExecuteTime": {
     "end_time": "2018-04-07T20:30:00.587726Z",
     "start_time": "2018-04-07T20:30:00.580708Z"
    },
    "hidden": true
   },
   "source": [
    "lesion_id = basename(\"BM-30\")\n",
    "paths = lm.get_paths(lesion_id, target_dir)\n",
    "\n",
    "mask_dir, nii_dir, ct24_path, ct24_tumor_mask_path, ct24_liver_mask_path, \\\n",
    "mribl_art_path, mribl_pre_path, mribl_sub_path, \\\n",
    "mribl_tumor_mask_path, mribl_liver_mask_path, \\\n",
    "mribl_enh_mask_path, mribl_nec_mask_path, \\\n",
    "mri30d_art_path, mri30d_pre_path, \\\n",
    "mri30d_tumor_mask_path, mri30d_liver_mask_path, \\\n",
    "mri30d_enh_mask_path, mri30d_nec_mask_path, \\\n",
    "ball_ct24_path, ball_mribl_path, ball_mri30d_path, \\\n",
    "ball_mask_path, ball_mribl_enh_mask_path, ball_mri30d_enh_mask_path, \\\n",
    "midlip_mask_path, ball_midlip_mask_path, \\\n",
    "highlip_mask_path, ball_highlip_mask_path = paths"
   ]
  },
  {
   "cell_type": "markdown",
   "metadata": {
    "ExecuteTime": {
     "end_time": "2018-04-07T20:30:01.597055Z",
     "start_time": "2018-04-07T20:30:00.743825Z"
    },
    "hidden": true
   },
   "source": [
    "img,_ = hf.nii_load(mribl_art_path)\n",
    "mask,_ = masks.get_mask(mribl_tumor_mask_path, img_path=mribl_art_path)"
   ]
  },
  {
   "cell_type": "markdown",
   "metadata": {
    "ExecuteTime": {
     "end_time": "2018-04-07T20:30:02.058282Z",
     "start_time": "2018-04-07T20:30:01.649194Z"
    },
    "hidden": true
   },
   "source": [
    "hf.draw_slices(hf.crop_nonzero(mask*img)[0])"
   ]
  },
  {
   "cell_type": "markdown",
   "metadata": {},
   "source": [
    "## qEASL"
   ]
  },
  {
   "cell_type": "code",
   "execution_count": null,
   "metadata": {
    "ExecuteTime": {
     "start_time": "2018-04-20T04:10:04.734Z"
    }
   },
   "outputs": [],
   "source": [
    "df = pd.read_excel(\"D:\\\\Lipiodol\\\\qEASL.xlsx\", index_col=0)\n",
    "\n",
    "target_dir = \"D:\\\\Lipiodol\\\\Data\"\n",
    "for fn in glob.glob(join(target_dir,\"*\")):\n",
    "    lesion_id = basename(fn)\n",
    "    patient_id = lesion_id[:5]\n",
    "    P = lm.get_paths_dict(lesion_id, target_dir)\n",
    "    mod='mrbl'\n",
    "    if not exists(P[mod]['nec']+\".ids\") and not exists(P[mod]['enh']+\".ids\"):\n",
    "        threshold = df.loc[patient_id, \"BL Threshold\"]\n",
    "        lmet.seg_tumor_from_threshold(P[mod]['art'], P[mod]['pre'],\n",
    "                                      threshold, P[mod]['tumor'],\n",
    "                                      P[mod]['enh'], P[mod]['nec'])\n",
    "        threshold = df.loc[patient_id, \"30d Threshold\"]\n",
    "        mod='mr30'\n",
    "        lmet.seg_tumor_from_threshold(P[mod]['art'], P[mod]['pre'],\n",
    "                                      threshold, P[mod]['tumor'],\n",
    "                                      P[mod]['enh'], P[mod]['nec'])"
   ]
  },
  {
   "cell_type": "code",
   "execution_count": 7,
   "metadata": {
    "ExecuteTime": {
     "end_time": "2018-04-14T17:23:41.886587Z",
     "start_time": "2018-04-14T17:23:20.000982Z"
    },
    "collapsed": true
   },
   "outputs": [],
   "source": [
    "importlib.reload(lmet)"
   ]
  },
  {
   "cell_type": "code",
   "execution_count": 114,
   "metadata": {
    "ExecuteTime": {
     "end_time": "2018-04-20T04:07:41.624624Z",
     "start_time": "2018-04-20T04:07:41.613596Z"
    },
    "collapsed": true
   },
   "outputs": [],
   "source": [
    "df = pd.read_excel(\"D:\\\\Lipiodol\\\\qEASL.xlsx\", index_col=0)\n",
    "\n",
    "target_dir = \"D:\\\\Lipiodol\\\\Data\"\n",
    "lesion_id = \"PK-03B\".upper()\n",
    "patient_id = lesion_id[:5]\n",
    "importlib.reload(lm)\n",
    "P = lm.get_paths_dict(lesion_id, target_dir)"
   ]
  },
  {
   "cell_type": "code",
   "execution_count": null,
   "metadata": {
    "ExecuteTime": {
     "end_time": "2018-04-20T04:07:44.779185Z",
     "start_time": "2018-04-20T04:07:41.672754Z"
    },
    "collapsed": true
   },
   "outputs": [],
   "source": [
    "threshold = df.loc[patient_id, \"BL Threshold\"]\n",
    "mod='mrbl'\n",
    "lmet.seg_tumor_from_threshold(P[mod]['art'], P[mod]['pre'],\n",
    "                              threshold, P[mod]['tumor'],\n",
    "                              P[mod]['enh'], P[mod]['nec'])\n",
    "masks.draw_mask(P[mod]['enh'], P[mod]['art']);"
   ]
  },
  {
   "cell_type": "code",
   "execution_count": null,
   "metadata": {
    "ExecuteTime": {
     "end_time": "2018-04-17T03:41:41.559442Z",
     "start_time": "2018-04-17T03:41:40.916603Z"
    },
    "collapsed": true
   },
   "outputs": [],
   "source": [
    "mod='mrbl'\n",
    "masks.draw_mask(P[mod]['nec'], P[mod]['art']);"
   ]
  },
  {
   "cell_type": "code",
   "execution_count": null,
   "metadata": {
    "ExecuteTime": {
     "end_time": "2018-04-20T04:07:57.283387Z",
     "start_time": "2018-04-20T04:07:44.833329Z"
    },
    "collapsed": true
   },
   "outputs": [],
   "source": [
    "threshold = df.loc[patient_id, \"30d Threshold\"]\n",
    "mod='mr30'\n",
    "lmet.seg_tumor_from_threshold(P[mod]['art'], P[mod]['pre'],\n",
    "                              threshold, P[mod]['tumor'],\n",
    "                              P[mod]['enh'], P[mod]['nec'])\n",
    "masks.draw_mask(P[mod]['enh'], P[mod]['art']);"
   ]
  },
  {
   "cell_type": "code",
   "execution_count": null,
   "metadata": {
    "ExecuteTime": {
     "end_time": "2018-04-20T03:50:35.981997Z",
     "start_time": "2018-04-20T03:50:35.234352Z"
    },
    "collapsed": true
   },
   "outputs": [],
   "source": [
    "mod='mr30'\n",
    "masks.draw_mask(P[mod]['nec'], P[mod]['art']);"
   ]
  },
  {
   "cell_type": "code",
   "execution_count": 34,
   "metadata": {
    "ExecuteTime": {
     "end_time": "2018-04-20T03:40:17.052244Z",
     "start_time": "2018-04-20T03:40:16.579233Z"
    }
   },
   "outputs": [
    {
     "data": {
      "image/png": "[encoded data removed]",
      "text/plain": [
       "<matplotlib.figure.Figure at 0x220cc23b470>"
      ]
     },
     "metadata": {},
     "output_type": "display_data"
    }
   ],
   "source": [
    "importlib.reload(hf)\n",
    "mod='mrbl'\n",
    "SUB=masks.crop_img_to_mask_vicinity(P[mod]['sub'], P[mod]['tumor'], .1)\n",
    "#PRE=masks.crop_img_to_mask_vicinity(P[mod]['pre'], P[mod]['tumor'], .1)\n",
    "hf.draw_slices(SUB)"
   ]
  },
  {
   "cell_type": "code",
   "execution_count": 49,
   "metadata": {
    "ExecuteTime": {
     "end_time": "2018-04-20T03:49:27.601415Z",
     "start_time": "2018-04-20T03:49:24.687167Z"
    },
    "scrolled": true
   },
   "outputs": [
    {
     "data": {
      "image/png": "[encoded data removed]",
      "text/plain": [
       "<matplotlib.figure.Figure at 0x2208091c550>"
      ]
     },
     "metadata": {},
     "output_type": "display_data"
    }
   ],
   "source": [
    "CT=masks.crop_img_to_mask_vicinity(P['ct24']['img'], P['ct24']['tumor'], .1)\n",
    "CT=tr.apply_window(CT)\n",
    "hf.draw_slices(CT)"
   ]
  },
  {
   "cell_type": "code",
   "execution_count": 51,
   "metadata": {
    "ExecuteTime": {
     "end_time": "2018-04-20T03:49:43.542680Z",
     "start_time": "2018-04-20T03:49:42.919026Z"
    }
   },
   "outputs": [
    {
     "data": {
      "image/png": "[encoded data removed]",
      "text/plain": [
       "<matplotlib.figure.Figure at 0x22080e534e0>"
      ]
     },
     "metadata": {},
     "output_type": "display_data"
    }
   ],
   "source": [
    "# plot subtraction\n",
    "mod='mr30'\n",
    "SUB=masks.crop_img_to_mask_vicinity(P[mod]['sub'], P[mod]['tumor'], .1)\n",
    "hf.draw_slices(SUB)"
   ]
  },
  {
   "cell_type": "code",
   "execution_count": null,
   "metadata": {
    "ExecuteTime": {
     "end_time": "2018-04-17T19:10:34.440929Z",
     "start_time": "2018-04-17T19:10:32.393082Z"
    },
    "collapsed": true
   },
   "outputs": [],
   "source": [
    "importlib.reload(masks)\n",
    "I=masks.draw_mask(P['ct24']['tumor'], P['ct24']['img'], [0,300])"
   ]
  },
  {
   "cell_type": "code",
   "execution_count": null,
   "metadata": {
    "ExecuteTime": {
     "end_time": "2018-04-19T03:14:03.495353Z",
     "start_time": "2018-04-19T03:10:03.538418Z"
    },
    "collapsed": true
   },
   "outputs": [],
   "source": [
    "importlib.reload(lvis)\n",
    "for fn in glob.glob(join(target_dir,\"*\")):\n",
    "    lesion_id = basename(fn)\n",
    "    try:\n",
    "        lvis.draw_sub_and_depo(lesion_id, target_dir, \"D:\\\\Lipiodol\\\\Results\\\\subs-ct\", include_FU=True)\n",
    "    except:\n",
    "        continue"
   ]
  },
  {
   "cell_type": "code",
   "execution_count": 24,
   "metadata": {
    "ExecuteTime": {
     "end_time": "2018-04-17T03:14:08.183674Z",
     "start_time": "2018-04-17T03:14:01.494246Z"
    },
    "collapsed": true
   },
   "outputs": [],
   "source": [
    "#qEASLy\n",
    "importlib.reload(lmet)\n",
    "mod='mrbl'\n",
    "threshold1=lmet.segment_tumor_from_paths(P[mod]['art'], P[mod]['pre'],\n",
    "                              P[mod]['liver'], P[mod]['tumor'],\n",
    "                              P[mod]['enh'], P[mod]['nec'])\n",
    "mod='mr30'\n",
    "threshold1=lmet.segment_tumor_from_paths(P[mod]['art'], P[mod]['pre'],\n",
    "                              P[mod]['liver'], P[mod]['tumor'],\n",
    "                              P[mod]['enh'], P[mod]['nec'])"
   ]
  },
  {
   "cell_type": "markdown",
   "metadata": {},
   "source": [
    "## Non-rigid reg"
   ]
  },
  {
   "cell_type": "code",
   "execution_count": null,
   "metadata": {
    "ExecuteTime": {
     "end_time": "2018-04-17T18:46:54.124803Z",
     "start_time": "2018-04-17T18:46:40.999602Z"
    },
    "collapsed": true
   },
   "outputs": [],
   "source": [
    "importlib.reload(lm)\n",
    "lm.spherize(lesion_id, target_dir)"
   ]
  },
  {
   "cell_type": "code",
   "execution_count": null,
   "metadata": {
    "ExecuteTime": {
     "end_time": "2018-04-17T15:38:07.998100Z",
     "start_time": "2018-04-17T15:38:07.992095Z"
    },
    "collapsed": true
   },
   "outputs": [],
   "source": [
    "[basename(fn) for fn in glob.glob(join(target_dir,\"*\"))].index(\"BM-23\")"
   ]
  },
  {
   "cell_type": "code",
   "execution_count": null,
   "metadata": {
    "ExecuteTime": {
     "end_time": "2018-04-20T03:35:04.429845Z",
     "start_time": "2018-04-20T03:34:56.623000Z"
    },
    "collapsed": true
   },
   "outputs": [],
   "source": [
    "importlib.reload(lm)\n",
    "for fn in glob.glob(join(target_dir,\"*\")):\n",
    "    lesion_id = basename(fn)\n",
    "    print(lesion_id)\n",
    "    lm.spherize(lesion_id, target_dir)"
   ]
  },
  {
   "cell_type": "code",
   "execution_count": null,
   "metadata": {
    "ExecuteTime": {
     "start_time": "2018-04-20T04:10:16.476Z"
    }
   },
   "outputs": [],
   "source": [
    "importlib.reload(lm)\n",
    "for fn in glob.glob(join(target_dir,\"*\")):\n",
    "    lesion_id = basename(fn)\n",
    "    lm.get_paths(lesion_id, target_dir)"
   ]
  },
  {
   "cell_type": "markdown",
   "metadata": {
    "heading_collapsed": true
   },
   "source": [
    "# Extra"
   ]
  },
  {
   "cell_type": "markdown",
   "metadata": {
    "hidden": true
   },
   "source": [
    "## Compose with rotation"
   ]
  },
  {
   "cell_type": "code",
   "execution_count": 191,
   "metadata": {
    "collapsed": true,
    "hidden": true
   },
   "outputs": [],
   "source": [
    "mribl_liver_mask_path = join(target_dir, lesion_id, \"liver bl final.ids\")\n",
    "ct24_liver_mask_path = glob.glob(join(target_dir, lesion_id, \"wholeliver_24hCT*.ids\"))[0]"
   ]
  },
  {
   "cell_type": "code",
   "execution_count": null,
   "metadata": {
    "collapsed": true,
    "hidden": true
   },
   "outputs": [],
   "source": [
    "mribl_ct24_xform, ct24_tumor, mribl_tumor, mribl_ct24_crops = full_reg_masks(ct24_tumor_mask_path, ct24_path, mribl_tumor_mask_path, mribl_art_path)"
   ]
  },
  {
   "cell_type": "code",
   "execution_count": null,
   "metadata": {
    "collapsed": true,
    "hidden": true
   },
   "outputs": [],
   "source": []
  },
  {
   "cell_type": "code",
   "execution_count": null,
   "metadata": {
    "collapsed": true,
    "hidden": true
   },
   "outputs": [],
   "source": [
    "# BL MRI to 24h CT\n",
    "vec_field = lm.reg_masks(ct_tumor_mask_path, blmri_tumor_mask_path)"
   ]
  },
  {
   "cell_type": "code",
   "execution_count": null,
   "metadata": {
    "collapsed": true,
    "hidden": true
   },
   "outputs": [],
   "source": [
    "mribl_enh_mask = reg.apply_field(vec_field)"
   ]
  },
  {
   "cell_type": "code",
   "execution_count": null,
   "metadata": {
    "collapsed": true,
    "hidden": true
   },
   "outputs": [],
   "source": [
    "ct24_lip = lm.seg_lipiodol()"
   ]
  },
  {
   "cell_type": "code",
   "execution_count": null,
   "metadata": {
    "collapsed": true,
    "hidden": true
   },
   "outputs": [],
   "source": [
    "reg.reg_sitk(ct24_lip, vec_field)"
   ]
  },
  {
   "cell_type": "code",
   "execution_count": 114,
   "metadata": {
    "collapsed": true,
    "hidden": true
   },
   "outputs": [],
   "source": [
    "mri_dcm_paths = [x for x in glob.glob(join(target_dir, '*', 'MRI-BL', '*20s*')) if '.nii' not in x]\n",
    "mri_dcm_paths"
   ]
  },
  {
   "cell_type": "code",
   "execution_count": null,
   "metadata": {
    "collapsed": true,
    "hidden": true
   },
   "outputs": [],
   "source": [
    "path_dict = {}\n",
    "lesion_id = '04'\n",
    "for path in glob.glob(join(target_dir, lesion_id, \"MRI-BL\",\"*\",\"*\")):\n",
    "    header = hf.dcm_load_header(path)\n",
    "    if len(header) > 0:\n",
    "        series_descript = header[0][('0008', '103e')].value\n",
    "        path_dict[path] = series_descript\n",
    "        series_descript = series_descript.replace(\"/\",\"-\")\n",
    "        os.rename(path, join(target_dir,lesion_id, \"MRI-BL\", series_descript))"
   ]
  },
  {
   "cell_type": "code",
   "execution_count": null,
   "metadata": {
    "collapsed": true,
    "hidden": true
   },
   "outputs": [],
   "source": []
  },
  {
   "cell_type": "code",
   "execution_count": 499,
   "metadata": {
    "collapsed": true,
    "hidden": true
   },
   "outputs": [],
   "source": [
    "for path in glob.glob(join(target_dir, \"*\", \"masks\",\"*final*\")):\n",
    "    if not exists(path.replace(\" final\", \"\")):\n",
    "        os.rename(path, path.replace(\" final\", \"\"))"
   ]
  },
  {
   "cell_type": "markdown",
   "metadata": {
    "hidden": true
   },
   "source": [
    "## Target/non-target seg"
   ]
  },
  {
   "cell_type": "code",
   "execution_count": null,
   "metadata": {
    "collapsed": true,
    "hidden": true
   },
   "outputs": [],
   "source": [
    "# Lipiodol target vs non-target masks\n",
    "info = {}\n",
    "for seg in glob.glob(join(target_dir,\"*\",\"wholeliver_24hCT*.ids\")):\n",
    "    if dirname(seg) in info.keys():\n",
    "        (ct_img, ct_dims, mask) = info[dirname(seg)]\n",
    "    else:\n",
    "        ct_img, ct_dims = hf.dcm_load(join(dirname(seg), \"CT24h\"), True, True)\n",
    "        mask, _ = masks.get_mask(seg, ct_dims, ct_img.shape)\n",
    "        \n",
    "    lm.seg_target_lipiodol((mask > 0) * ct_img, dirname(seg), ct_dims)\n",
    "    info[dirname(seg)] = (ct_img, ct_dims, mask)\n",
    "    #break"
   ]
  }
 ],
 "metadata": {
  "kernelspec": {
   "display_name": "Python 3",
   "language": "python",
   "name": "python3"
  },
  "varInspector": {
   "cols": {
    "lenName": 16,
    "lenType": 16,
    "lenVar": 40
   },
   "kernels_config": {
    "python": {
     "delete_cmd_postfix": "",
     "delete_cmd_prefix": "del ",
     "library": "var_list.py",
     "varRefreshCmd": "print(var_dic_list())"
    },
    "r": {
     "delete_cmd_postfix": ") ",
     "delete_cmd_prefix": "rm(",
     "library": "var_list.r",
     "varRefreshCmd": "cat(var_dic_list()) "
    }
   },
   "types_to_exclude": [
    "module",
    "function",
    "builtin_function_or_method",
    "instance",
    "_Feature"
   ],
   "window_display": false
  }
 },
 "nbformat": 4,
 "nbformat_minor": 2
}
