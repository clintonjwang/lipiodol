{
 "cells": [
  {
   "cell_type": "markdown",
   "metadata": {
    "heading_collapsed": true
   },
   "source": [
    "## Imports"
   ]
  },
  {
   "cell_type": "code",
   "execution_count": 1,
   "metadata": {
    "ExecuteTime": {
     "end_time": "2018-04-04T14:14:11.726427Z",
     "start_time": "2018-04-04T14:14:09.272536Z"
    },
    "hidden": true
   },
   "outputs": [
    {
     "name": "stderr",
     "output_type": "stream",
     "text": [
      "C:\\Users\\Clinton\\AppData\\Local\\conda\\conda\\envs\\old-keras\\lib\\site-packages\\h5py\\__init__.py:34: FutureWarning: Conversion of the second argument of issubdtype from `float` to `np.floating` is deprecated. In future, it will be treated as `np.float64 == np.dtype(float).type`.\n",
      "  from ._conv import register_converters as _register_converters\n",
      "Using TensorFlow backend.\n"
     ]
    }
   ],
   "source": [
    "import cnn_builder as cbuild\n",
    "import config\n",
    "import copy\n",
    "import glob\n",
    "import importlib\n",
    "import lipiodol_methods as lm\n",
    "import niftiutils.helper_fxns as hf\n",
    "import niftiutils.liver_metrics as lmet\n",
    "import niftiutils.transforms as tr\n",
    "import niftiutils.registration as reg\n",
    "import niftiutils.masks as masks\n",
    "import numpy as np\n",
    "import os\n",
    "from os.path import *\n",
    "import shutil\n",
    "import SimpleITK as sitk\n",
    "import sys\n",
    "from skimage.morphology import ball\n",
    "%matplotlib inline"
   ]
  },
  {
   "cell_type": "code",
   "execution_count": 2,
   "metadata": {
    "ExecuteTime": {
     "end_time": "2018-04-04T14:14:11.737339Z",
     "start_time": "2018-04-04T14:14:11.733328Z"
    },
    "collapsed": true,
    "hidden": true,
    "scrolled": true
   },
   "outputs": [],
   "source": [
    "importlib.reload(hf)\n",
    "C = config.Config()"
   ]
  },
  {
   "cell_type": "code",
   "execution_count": 3,
   "metadata": {
    "ExecuteTime": {
     "end_time": "2018-04-04T14:14:11.750373Z",
     "start_time": "2018-04-04T14:14:11.742354Z"
    },
    "collapsed": true,
    "hidden": true
   },
   "outputs": [],
   "source": [
    "img_dir = \"D:\\\\Lipiodol\\\\Images all\"\n",
    "seg_dir = \"D:\\\\Lipiodol\\\\Images extracted and segmentations\"\n",
    "target_dir = \"D:\\\\Lipiodol\\\\Data\""
   ]
  },
  {
   "cell_type": "markdown",
   "metadata": {
    "heading_collapsed": true,
    "hidden": true
   },
   "source": [
    "### Corrupt data"
   ]
  },
  {
   "cell_type": "code",
   "execution_count": 387,
   "metadata": {
    "collapsed": true,
    "hidden": true
   },
   "outputs": [],
   "source": [
    "big_path = r\"C:\\Users\\Clinton\\Desktop\\bigpath\"\n",
    "header = hf.dcm_load_header(big_path)"
   ]
  },
  {
   "cell_type": "code",
   "execution_count": 409,
   "metadata": {
    "collapsed": true,
    "hidden": true
   },
   "outputs": [],
   "source": [
    "dcm_path = [r\"C:\\Users\\Clinton\\Desktop\\New folder\",\n",
    "        r\"C:\\Users\\Clinton\\Desktop\\New folder2\",\n",
    "        r\"C:\\Users\\Clinton\\Desktop\\New folder3\",\n",
    "        r\"C:\\Users\\Clinton\\Desktop\\New folder4\"]"
   ]
  },
  {
   "cell_type": "code",
   "execution_count": 407,
   "metadata": {
    "collapsed": true,
    "hidden": true
   },
   "outputs": [],
   "source": [
    "os.makedirs(dcm_path)\n",
    "os.makedirs(dcm_path2)\n",
    "os.makedirs(dcm_path3)\n",
    "os.makedirs(dcm_path4)"
   ]
  },
  {
   "cell_type": "code",
   "execution_count": 344,
   "metadata": {
    "collapsed": true,
    "hidden": true
   },
   "outputs": [],
   "source": [
    "wtf_path = r\"D:\\Lipiodol\\Images all\\07-AN\\#1 9-10-13 MRI baseline\\MRI Abdomen W WO Contrast\""
   ]
  },
  {
   "cell_type": "code",
   "execution_count": 376,
   "metadata": {
    "collapsed": true,
    "hidden": true
   },
   "outputs": [],
   "source": [
    "acq_t = [82031.93, 82100.41, 82147.77, 82334.49]"
   ]
  },
  {
   "cell_type": "code",
   "execution_count": 410,
   "metadata": {
    "collapsed": true,
    "hidden": true
   },
   "outputs": [],
   "source": [
    "for ix,fn in enumerate(glob.glob(join(wtf_path, \"*\"))):\n",
    "    h = hf.dcm_load_header(fn)\n",
    "    for i in range(4):\n",
    "        if abs(float(h[0].AcquisitionTime) - acq_t[i]) < .02:\n",
    "            shutil.copy(fn, join(dcm_path[i], basename(fn)))"
   ]
  },
  {
   "cell_type": "markdown",
   "metadata": {
    "hidden": true
   },
   "source": [
    "for fn in glob.glob(join(dcm_path, \"*\")):\n",
    "    if int(header[int(fn[-7:-4])-1].TemporalPositionIdentifier) == 2:\n",
    "        shutil.move(fn, join(dcm_path2, basename(fn)))\n",
    "    elif int(header[int(fn[-7:-4])-1].TemporalPositionIdentifier) == 3:\n",
    "        shutil.move(fn, join(dcm_path3, basename(fn)))\n",
    "    elif int(header[int(fn[-7:-4])-1].TemporalPositionIdentifier) == 4:\n",
    "        shutil.move(fn, join(dcm_path4, basename(fn)))"
   ]
  },
  {
   "cell_type": "code",
   "execution_count": null,
   "metadata": {
    "collapsed": true,
    "hidden": true
   },
   "outputs": [],
   "source": [
    "dim = 1\n",
    "base = float(header[0].SliceLocation)\n",
    "for x,h in enumerate(header[1:]):\n",
    "    dz = float(h.SliceLocation) - base\n",
    "    print(dz)\n",
    "    base = float(h.SliceLocation)"
   ]
  },
  {
   "cell_type": "code",
   "execution_count": 412,
   "metadata": {
    "collapsed": true,
    "hidden": true
   },
   "outputs": [],
   "source": [
    "fn = [\"t1-pre.nii\", \"t1-art.nii\", \"t1-pv.nii\", \"t1-equ.nii\"]"
   ]
  },
  {
   "cell_type": "code",
   "execution_count": 418,
   "metadata": {
    "collapsed": true,
    "hidden": true
   },
   "outputs": [],
   "source": [
    "for i in range(2,3):\n",
    "    a,dims = hf.dcm_load(dcm_path[i], True, True)\n",
    "    save_path = join(dirname(dcm_path[i]), \"07\", fn[i])\n",
    "    hf.save_nii(a, save_path, dims)"
   ]
  },
  {
   "cell_type": "markdown",
   "metadata": {
    "hidden": true
   },
   "source": [
    "### MRI loading"
   ]
  },
  {
   "cell_type": "code",
   "execution_count": 430,
   "metadata": {
    "collapsed": true,
    "hidden": true
   },
   "outputs": [],
   "source": [
    "patient_id = \"09\"\n",
    "modality = \"MRI-BL\"\n",
    "dcm_paths = [x for x in glob.glob(join(target_dir, patient_id, modality,\"*\")) if x.find('.')==-1]\n",
    "for dcm_path in dcm_paths:\n",
    "    if not exists(splitext(dcm_path)[0] + \".nii\"):\n",
    "        try:\n",
    "            save_path = splitext(dcm_path)[0] + \".nii\"\n",
    "            img, dims = hf.dcm_load(dcm_path, True, True)\n",
    "            hf.save_nii(img, save_path, dims)\n",
    "        except:\n",
    "            print(dcm_path)"
   ]
  },
  {
   "cell_type": "code",
   "execution_count": 130,
   "metadata": {
    "collapsed": true,
    "hidden": true,
    "scrolled": true
   },
   "outputs": [],
   "source": [
    "paths = [x for x in glob.glob(join(target_dir, patient_id, modality,\"*.nii.gz\")) if '20s' in x or 'Ph1-Ax' in x]\n",
    "if len(paths)==1:\n",
    "    os.rename(paths[0], join(dirname(paths[0]), \"mri_30d_art.nii.gz\"))"
   ]
  },
  {
   "cell_type": "code",
   "execution_count": 131,
   "metadata": {
    "collapsed": true,
    "hidden": true
   },
   "outputs": [],
   "source": [
    "paths = [x for x in glob.glob(join(target_dir, patient_id, modality,\"*.nii.gz\")) \\\n",
    "         if ('pre' in x.lower() and 'post' not in x.lower()) or basename(x).startswith('Ax LAVA-XV')]\n",
    "if len(paths)==1:\n",
    "    os.rename(paths[0], join(dirname(paths[0]), \"mri_30d_pre.nii.gz\"))"
   ]
  },
  {
   "cell_type": "markdown",
   "metadata": {},
   "source": [
    "## Make liver mask"
   ]
  },
  {
   "cell_type": "code",
   "execution_count": 145,
   "metadata": {
    "collapsed": true
   },
   "outputs": [],
   "source": [
    "import keras\n",
    "from config import Config\n",
    "model = keras.models.load_model(join(Config().model_dir, \"mri_liver.hdf5\"))"
   ]
  },
  {
   "cell_type": "code",
   "execution_count": null,
   "metadata": {
    "collapsed": true
   },
   "outputs": [],
   "source": [
    "lm.seg_liver_mri_from_path(mri30d_art_path, mri30d_liver_mask_path, model, mri30d_tumor_mask_path)"
   ]
  },
  {
   "cell_type": "markdown",
   "metadata": {},
   "source": [
    "## Non-rigid reg"
   ]
  },
  {
   "cell_type": "code",
   "execution_count": 464,
   "metadata": {
    "scrolled": false
   },
   "outputs": [
    {
     "data": {
      "text/plain": [
       "<module 'niftiutils.registration' from 'c:\\\\users\\\\clinton\\\\documents\\\\niftiutils\\\\niftiutils\\\\registration.py'>"
      ]
     },
     "execution_count": 464,
     "metadata": {},
     "output_type": "execute_result"
    }
   ],
   "source": [
    "importlib.reload(reg)"
   ]
  },
  {
   "cell_type": "code",
   "execution_count": 14,
   "metadata": {},
   "outputs": [
    {
     "name": "stdout",
     "output_type": "stream",
     "text": [
      "D:\\Lipiodol\\Data\\12\\masks\n"
     ]
    }
   ],
   "source": [
    "print(mask_dir)"
   ]
  },
  {
   "cell_type": "code",
   "execution_count": 4,
   "metadata": {
    "ExecuteTime": {
     "end_time": "2018-04-04T15:05:33.866670Z",
     "start_time": "2018-04-04T15:05:33.508715Z"
    },
    "collapsed": true
   },
   "outputs": [],
   "source": [
    "patient_id = \"12\"\n",
    "mask_dir = join(target_dir, patient_id, \"masks\")\n",
    "nii_dir = join(target_dir, patient_id, \"nii_files\")\n",
    "if not exists(nii_dir):\n",
    "    os.makedirs(nii_dir)\n",
    "\n",
    "ct24_path = join(target_dir, patient_id, \"nii_files\", \"ct24.nii.gz\")\n",
    "ct24_tumor_mask_path = glob.glob(join(mask_dir, \"tumor*24h*.ids\"))[0]\n",
    "\n",
    "mribl_art_path = join(target_dir, patient_id, \"MRI-BL\", \"mri_bl_art.nii.gz\")\n",
    "mribl_pre_path = join(target_dir, patient_id, \"MRI-BL\", \"mri_bl_pre.nii.gz\")\n",
    "mribl_tumor_mask_path = join(mask_dir, \"tumor_BL_MRI\")\n",
    "mribl_liver_mask_path = join(mask_dir, \"mri_bl_liver\")\n",
    "mribl_enh_mask_path = join(mask_dir, \"enh_bl\")\n",
    "mribl_nec_mask_path = join(mask_dir, \"nec_bl\")\n",
    "ct24_bl_enh_mask_path = join(mask_dir, \"ct24_bl_enh\")\n",
    "ct24_bl_nec_mask_path = join(mask_dir, \"ct24_bl_nec\")\n",
    "\n",
    "mri30d_art_path = join(target_dir, patient_id, \"MRI-30d\", \"mri_30d_art.nii.gz\")\n",
    "mri30d_pre_path = join(target_dir, patient_id, \"MRI-30d\", \"mri_30d_pre.nii.gz\")\n",
    "mri30d_tumor_mask_path = join(mask_dir, \"tumor_30dFU_MRI\")\n",
    "mri30d_liver_mask_path = join(mask_dir, \"mri_30d_liver\")\n",
    "mri30d_enh_mask_path = join(mask_dir, \"enh_30d\")\n",
    "mri30d_nec_mask_path = join(mask_dir, \"nec_30d\")\n",
    "ct24_30d_enh_mask_path = join(mask_dir, \"ct24_30d_enh\")\n",
    "ct24_30d_nec_mask_path = join(mask_dir, \"ct24_30d_nec\")"
   ]
  },
  {
   "cell_type": "code",
   "execution_count": 133,
   "metadata": {
    "collapsed": true
   },
   "outputs": [],
   "source": [
    "ct_img, ct_dims = hf.dcm_load(join(target_dir, patient_id, \"CT24h\"), True, True)\n",
    "hf.save_nii(ct_img, ct24_path, ct_dims)"
   ]
  },
  {
   "cell_type": "code",
   "execution_count": 141,
   "metadata": {
    "collapsed": true
   },
   "outputs": [],
   "source": [
    "threshold = 23.148\n",
    "lmet.seg_tumor_from_threshold(mribl_art_path, mribl_pre_path,\n",
    "                              threshold, mribl_tumor_mask_path,\n",
    "                              mribl_enh_mask_path, mribl_nec_mask_path)\n",
    "threshold = 78.243\n",
    "lmet.seg_tumor_from_threshold(mri30d_art_path, mri30d_pre_path,\n",
    "                              threshold, mri30d_tumor_mask_path,\n",
    "                              mri30d_enh_mask_path, mri30d_nec_mask_path)"
   ]
  },
  {
   "cell_type": "markdown",
   "metadata": {},
   "source": [
    "#qEASLy to produce enhancing mask\n",
    "#importlib.reload(lmet)\n",
    "_=lmet.segment_tumor_from_paths(mribl_art_path, mribl_pre_path,\n",
    "                              mribl_liver_mask_path, mribl_tumor_mask_path,\n",
    "                              mribl_enh_mask_path, mribl_nec_mask_path)\n",
    "_=lmet.segment_tumor_from_paths(mri30d_art_path, mri30d_pre_path,\n",
    "                              mri30d_liver_mask_path, mri30d_tumor_mask_path,\n",
    "                              mri30d_enh_mask_path, mri30d_nec_mask_path)"
   ]
  },
  {
   "cell_type": "code",
   "execution_count": 17,
   "metadata": {
    "collapsed": true
   },
   "outputs": [],
   "source": [
    "xform_path, crops, pads = reg.get_mask_Tx(ct24_path, ct24_tumor_mask_path, mribl_art_path, mribl_tumor_mask_path)\n",
    "\n",
    "# Transform using existing transform\n",
    "_ = reg.transform_mask(mribl_enh_mask_path, mribl_art_path, xform_path,\n",
    "                     crops, pads, ct_dims, ct24_bl_enh_mask_path)\n",
    "_ = reg.transform_mask(mribl_nec_mask_path, mribl_art_path, xform_path,\n",
    "                     crops, pads, ct_dims, ct24_bl_nec_mask_path)"
   ]
  },
  {
   "cell_type": "code",
   "execution_count": 143,
   "metadata": {
    "collapsed": true
   },
   "outputs": [],
   "source": [
    "xform_path, crops, pads = reg.get_mask_Tx(ct24_path, ct24_tumor_mask_path, mri30d_art_path, mri30d_tumor_mask_path)\n",
    "\n",
    "# Transform using existing transform\n",
    "_ = reg.transform_mask(mri30d_enh_mask_path, mri30d_art_path, xform_path,\n",
    "                     crops, pads, ct_dims, ct24_30d_enh_mask_path)\n",
    "_ = reg.transform_mask(mri30d_nec_mask_path, mri30d_art_path, xform_path,\n",
    "                     crops, pads, ct_dims, ct24_30d_nec_mask_path)"
   ]
  },
  {
   "cell_type": "code",
   "execution_count": 6,
   "metadata": {
    "ExecuteTime": {
     "end_time": "2018-04-04T15:05:56.872445Z",
     "start_time": "2018-04-04T15:05:56.867432Z"
    },
    "collapsed": true
   },
   "outputs": [],
   "source": [
    "ball_ct24_path = join(target_dir, patient_id, \"nii_files\", \"ct24_ball.nii\")\n",
    "ball_mask_path = join(mask_dir, \"ball_mask\")\n",
    "ball_mribl_enh_mask_path = join(mask_dir, \"ball_mribl_enh_mask\")\n",
    "ball_mri30d_enh_mask_path = join(mask_dir, \"ball_mri30d_enh_mask\")"
   ]
  },
  {
   "cell_type": "code",
   "execution_count": 91,
   "metadata": {
    "collapsed": true
   },
   "outputs": [],
   "source": [
    "importlib.reload(reg)\n",
    "\n",
    "xform_path, crops, pads = reg.get_mask_Tx_shape(ct24_path, ct24_tumor_mask_path, mask_path=ball_mask_path)\n",
    "img = reg.transform_region(ct24_path, xform_path, crops, pads, [1.]*3, ball_ct24_path)\n",
    "\n",
    "xform_path, crops, pads = reg.get_mask_Tx_shape(mribl_art_path, mribl_tumor_mask_path)\n",
    "_ = reg.transform_mask(mribl_enh_mask_path, mribl_art_path, xform_path,\n",
    "                     crops, pads, [1.]*3, ball_mribl_enh_mask_path)\n",
    "\n",
    "#xform_path, crops, pads = reg.get_mask_Tx_shape(mri30d_art_path, mri30d_tumor_mask_path)\n",
    "#_ = reg.transform_mask(mri30d_enh_mask_path, mri30d_art_path, xform_path,\n",
    "#                     crops, pads, [1.]*3, ball_mri30d_enh_mask_path)"
   ]
  },
  {
   "cell_type": "code",
   "execution_count": null,
   "metadata": {
    "collapsed": true
   },
   "outputs": [],
   "source": [
    "moving = sitk.ReadImage(moving_path, sitk.sitkFloat32)"
   ]
  },
  {
   "cell_type": "code",
   "execution_count": 192,
   "metadata": {
    "ExecuteTime": {
     "end_time": "2018-04-04T15:49:49.286881Z",
     "start_time": "2018-04-04T15:49:46.097642Z"
    },
    "scrolled": true
   },
   "outputs": [
    {
     "name": "stdout",
     "output_type": "stream",
     "text": [
      "  1 = 8568.00133\n",
      "  2 = 8034.41358\n",
      "  3 = 7577.01845\n",
      "  4 = 7174.30143\n",
      "  5 = 6825.07322\n",
      "  6 = 6525.12650\n",
      "  7 = 6216.43340\n",
      "  8 = 5873.38616\n",
      "  9 = 5545.77754\n",
      " 10 = 5257.11995\n",
      " 11 = 5002.82471\n",
      " 12 = 4774.56290\n",
      " 13 = 4538.43946\n",
      " 14 = 4286.86440\n",
      " 15 = 4047.92735\n",
      " 16 = 3826.50178\n",
      " 17 = 3630.49316\n",
      " 18 = 3467.79866\n",
      " 19 = 3298.21252\n",
      " 20 = 3122.24798\n",
      " 21 = 2952.31340\n",
      " 22 = 2797.52202\n",
      " 23 = 2658.82493\n",
      " 24 = 2532.28794\n",
      " 25 = 2388.58663\n",
      " 26 = 2255.28146\n",
      " 27 = 2133.89397\n",
      " 28 = 2024.32160\n",
      " 29 = 1922.09369\n",
      " 30 = 1825.56480\n",
      " 31 = 1717.96926\n",
      " 32 = 1620.13043\n",
      " 33 = 1529.95069\n",
      " 34 = 1445.10254\n",
      " 35 = 1369.43363\n",
      " 36 = 1301.79344\n",
      " 37 = 1226.32845\n",
      " 38 = 1150.65820\n",
      " 39 = 1079.36247\n",
      " 40 = 1015.61975\n",
      " 41 =  959.24888\n",
      " 42 =  908.10778\n",
      " 43 =  858.68317\n",
      " 44 =  802.16011\n",
      " 45 =  749.02512\n",
      " 46 =  703.75167\n",
      " 47 =  663.32158\n",
      " 48 =  627.46979\n",
      " 49 =  595.48099\n",
      " 50 =  564.63530\n",
      " 51 =  529.65287\n",
      " 52 =  498.10801\n",
      " 53 =  470.87226\n",
      " 54 =  446.02372\n",
      " 55 =  425.30418\n",
      " 56 =  406.05828\n",
      " 57 =  388.16179\n",
      " 58 =  371.11259\n",
      " 59 =  355.70091\n",
      " 60 =  341.35052\n",
      " 61 =  327.07350\n",
      " 62 =  315.00803\n",
      " 63 =  306.27810\n",
      " 64 =  300.02856\n",
      " 65 =  294.49629\n",
      " 66 =  290.68912\n",
      " 67 =  287.87625\n",
      " 68 =  285.78125\n",
      " 69 =  283.93883\n",
      " 70 =  284.17712\n",
      " 71 =  285.34653\n",
      " 72 =  285.07820\n",
      " 73 =  284.75028\n",
      " 74 =  285.37564\n",
      " 75 =  284.28683\n",
      " 76 =  282.99314\n",
      " 77 =  282.42002\n",
      " 78 =  281.70270\n",
      " 79 =  280.11419\n",
      " 80 =  278.85659\n",
      " 81 =  278.76616\n",
      " 82 =  278.85731\n",
      " 83 =  278.00148\n",
      " 84 =  277.87861\n",
      " 85 =  278.26955\n",
      " 86 =  278.48207\n",
      " 87 =  277.86291\n",
      " 88 =  277.46102\n",
      " 89 =  277.35037\n",
      " 90 =  276.43233\n",
      " 91 =  274.51065\n",
      " 92 =  272.32640\n",
      " 93 =  271.71919\n",
      " 94 =  271.18176\n",
      " 95 =  270.89030\n",
      " 96 =  270.85616\n",
      " 97 =  270.95166\n",
      " 98 =  272.11488\n",
      " 99 =  272.39400\n",
      "100 =  273.26530\n",
      "101 =  274.49514\n",
      "102 =  274.88535\n",
      "103 =  274.34993\n",
      "104 =  274.45415\n",
      "105 =  274.93809\n",
      "106 =  274.95938\n",
      "107 =  274.43894\n",
      "108 =  273.11284\n",
      "109 =  271.80450\n",
      "110 =  270.64792\n",
      "111 =  270.51499\n",
      "112 =  269.60834\n",
      "113 =  269.37000\n",
      "114 =  269.98605\n",
      "115 =  270.05239\n",
      "116 =  271.27255\n",
      "117 =  272.81257\n",
      "118 =  274.76670\n",
      "119 =  275.87887\n",
      "120 =  277.21392\n",
      "121 =  276.54399\n",
      "122 =  276.13040\n",
      "123 =  275.71111\n",
      "124 =  274.90292\n",
      "125 =  273.96452\n",
      "126 =  272.83114\n",
      "127 =  272.22368\n",
      "128 =  271.16938\n",
      "129 =  270.59200\n",
      "130 =  269.60050\n",
      "131 =  268.04421\n",
      "132 =  266.87227\n",
      "133 =  266.07136\n",
      "134 =  266.57416\n",
      "135 =  267.28375\n",
      "136 =  267.77026\n",
      "137 =  266.88701\n",
      "138 =  266.95904\n",
      "139 =  267.14257\n",
      "140 =  267.23958\n",
      "141 =  266.98388\n",
      "142 =  266.54317\n",
      "143 =  266.37292\n",
      "144 =  266.90939\n",
      "145 =  267.38524\n",
      "146 =  267.35018\n",
      "147 =  266.71076\n",
      "148 =  265.54982\n",
      "149 =  264.80925\n",
      "150 =  265.33450\n"
     ]
    }
   ],
   "source": [
    "fixed = sitk.ReadImage(fixed_path, sitk.sitkFloat32)\n",
    "moving = sitk.ReadImage(moving_path, sitk.sitkFloat32)\n",
    "\n",
    "R = sitk.DiffeomorphicDemonsRegistrationFilter()\n",
    "R.SetNumberOfIterations( 150 ) #10\n",
    "#R.SetMaximumUpdateStepLength( 10. ) #.5\n",
    "#R.SetMaximumError( .1 ) #.1\n",
    "R.SetStandardDeviations( .1 ) #1\n",
    "\n",
    "def command_iteration(filter):\n",
    "    print(\"{0:3} = {1:10.5f}\".format(filter.GetElapsedIterations(), filter.GetMetric()))\n",
    "R.AddCommand( sitk.sitkIterationEvent, lambda: command_iteration(R) )\n",
    "\n",
    "displacementField = R.Execute( fixed, moving )\n",
    "outTx = sitk.DisplacementFieldTransform( displacementField )\n",
    "\n",
    "resampler = sitk.ResampleImageFilter()\n",
    "resampler.SetReferenceImage(fixed)\n",
    "resampler.SetInterpolator(sitk.sitkLinear)\n",
    "resampler.SetDefaultPixelValue(0)\n",
    "resampler.SetTransform(outTx)\n",
    "out_img = resampler.Execute(moving)"
   ]
  },
  {
   "cell_type": "code",
   "execution_count": 194,
   "metadata": {
    "ExecuteTime": {
     "end_time": "2018-04-04T15:49:59.949918Z",
     "start_time": "2018-04-04T15:49:59.937887Z"
    },
    "collapsed": true
   },
   "outputs": [],
   "source": [
    "resampler = sitk.ResampleImageFilter()\n",
    "resampler.SetReferenceImage(fixed)\n",
    "resampler.SetInterpolator(sitk.sitkLinear)\n",
    "resampler.SetDefaultPixelValue(0)\n",
    "resampler.SetTransform(outTx)\n",
    "out_img = resampler.Execute(moving)"
   ]
  },
  {
   "cell_type": "code",
   "execution_count": 195,
   "metadata": {
    "ExecuteTime": {
     "end_time": "2018-04-04T15:50:01.461013Z",
     "start_time": "2018-04-04T15:50:01.457003Z"
    }
   },
   "outputs": [],
   "source": [
    "#if out_transform_path is not None:\n",
    "#    sitk.WriteTransform(outTx, out_transform_path)\n",
    "if out_img_path is not None:\n",
    "    sitk.WriteImage(out_img, out_img_path)"
   ]
  },
  {
   "cell_type": "code",
   "execution_count": 197,
   "metadata": {
    "ExecuteTime": {
     "end_time": "2018-04-04T15:50:09.572789Z",
     "start_time": "2018-04-04T15:50:09.441988Z"
    }
   },
   "outputs": [
    {
     "data": {
      "image/png": "[encoded data removed]",
      "text/plain": [
       "<matplotlib.figure.Figure at 0x15289f6e5c0>"
      ]
     },
     "metadata": {},
     "output_type": "display_data"
    }
   ],
   "source": [
    "img, _ = hf.nii_load(out_img_path)\n",
    "hf.draw_slices(img)"
   ]
  },
  {
   "cell_type": "code",
   "execution_count": 209,
   "metadata": {
    "ExecuteTime": {
     "end_time": "2018-04-04T18:17:27.611890Z",
     "start_time": "2018-04-04T18:17:27.367240Z"
    }
   },
   "outputs": [
    {
     "data": {
      "image/png": "[encoded data removed]",
      "text/plain": [
       "<matplotlib.figure.Figure at 0x15289623908>"
      ]
     },
     "metadata": {},
     "output_type": "display_data"
    }
   ],
   "source": [
    "importlib.reload(hf)\n",
    "img, _ = hf.nii_load(fixed_path)\n",
    "hf.draw_slices(img, normalize=[600,1000])"
   ]
  },
  {
   "cell_type": "code",
   "execution_count": 210,
   "metadata": {
    "ExecuteTime": {
     "end_time": "2018-04-04T18:17:27.776325Z",
     "start_time": "2018-04-04T18:17:27.632917Z"
    }
   },
   "outputs": [
    {
     "data": {
      "image/png": "[encoded data removed]",
      "text/plain": [
       "<matplotlib.figure.Figure at 0x15289f30320>"
      ]
     },
     "metadata": {},
     "output_type": "display_data"
    }
   ],
   "source": [
    "img, _ = hf.nii_load(moving_path)\n",
    "hf.draw_slices(img, normalize=[600,1000])"
   ]
  },
  {
   "cell_type": "code",
   "execution_count": 276,
   "metadata": {
    "ExecuteTime": {
     "end_time": "2018-04-04T20:53:31.695576Z",
     "start_time": "2018-04-04T20:53:17.213682Z"
    }
   },
   "outputs": [],
   "source": [
    "importlib.reload(reg)\n",
    "xform_path, crops, pads = reg.get_mask_Tx_shape(ct24_path, ct24_tumor_mask_path, mask_path=ball_mask_path)\n",
    "img = reg.transform_region(ct24_path, xform_path, crops, pads, [1.]*3, ball_ct24_path)\n",
    "\n",
    "xform_path, crops, pads = reg.get_mask_Tx_shape(mribl_art_path, mribl_tumor_mask_path)\n",
    "_ = reg.transform_mask(mribl_enh_mask_path, mribl_art_path, xform_path,\n",
    "                     crops, pads, [1.]*3, ball_mribl_enh_mask_path)"
   ]
  },
  {
   "cell_type": "code",
   "execution_count": 208,
   "metadata": {
    "ExecuteTime": {
     "end_time": "2018-04-04T18:17:27.292011Z",
     "start_time": "2018-04-04T18:17:24.470275Z"
    },
    "collapsed": true
   },
   "outputs": [],
   "source": [
    "xform_path, crops, pads = reg.get_mask_Tx_shape(mribl_art_path, mribl_tumor_mask_path)\n",
    "_ = reg.transform_mask(mribl_enh_mask_path, mribl_art_path, xform_path,\n",
    "                     crops, pads, [1.]*3, ball_mribl_enh_mask_path)"
   ]
  },
  {
   "cell_type": "code",
   "execution_count": null,
   "metadata": {
    "collapsed": true
   },
   "outputs": [],
   "source": []
  },
  {
   "cell_type": "code",
   "execution_count": 270,
   "metadata": {
    "ExecuteTime": {
     "end_time": "2018-04-04T20:42:22.807718Z",
     "start_time": "2018-04-04T20:42:22.286605Z"
    },
    "collapsed": true
   },
   "outputs": [],
   "source": [
    "fix_tmp_path=\"D:\\\\temp_fix.nii\"\n",
    "mov_tmp_path=\"D:\\\\temp_mov.nii\"\n",
    "\n",
    "img_m, img_m_dims = hf.nii_load(img_mov_path)\n",
    "mask_m, mask_m_dims = masks.get_mask(mask_mov_path, img_m_dims, img_m.shape)\n",
    "\n",
    "mask_m, crops_m = hf.crop_nonzero(mask_m)\n",
    "img_m, _ = hf.crop_nonzero(img_m, crops_m)\n",
    "img_m[mask_m == 0] = 0\n",
    "\n",
    "R = 1.\n",
    "mask_m_iso, _ = tr.rescale_img(mask_m, [R]*3, mask_m_dims)\n",
    "\n",
    "mask_f = ball(max(mask_m_iso.shape)//2)\n",
    "mask_f_iso = np.pad(mask_f, (np.ones((3,2))*5).astype(int), 'constant')\n",
    "mask_m_iso, pads_m = hf.zeropad(mask_m_iso, mask_f_iso.shape, ignore_neg=True)"
   ]
  },
  {
   "cell_type": "code",
   "execution_count": 271,
   "metadata": {
    "ExecuteTime": {
     "end_time": "2018-04-04T20:42:28.066538Z",
     "start_time": "2018-04-04T20:42:28.062500Z"
    }
   },
   "outputs": [
    {
     "data": {
      "text/plain": [
       "255.0"
      ]
     },
     "execution_count": 271,
     "metadata": {},
     "output_type": "execute_result"
    }
   ],
   "source": [
    "mask_m_iso.max()"
   ]
  },
  {
   "cell_type": "code",
   "execution_count": 233,
   "metadata": {
    "ExecuteTime": {
     "end_time": "2018-04-04T20:34:58.786269Z",
     "start_time": "2018-04-04T20:34:58.783232Z"
    },
    "collapsed": true
   },
   "outputs": [],
   "source": [
    "mask_m_iso=((mask_m_iso>mask_m_iso.max()/2)*255).astype('uint8')"
   ]
  },
  {
   "cell_type": "code",
   "execution_count": 272,
   "metadata": {
    "ExecuteTime": {
     "end_time": "2018-04-04T20:42:30.941044Z",
     "start_time": "2018-04-04T20:42:30.718409Z"
    }
   },
   "outputs": [
    {
     "data": {
      "image/png": "[encoded data removed]",
      "text/plain": [
       "<matplotlib.figure.Figure at 0x15289f21518>"
      ]
     },
     "metadata": {},
     "output_type": "display_data"
    }
   ],
   "source": [
    "hf.draw_slices(mask_m_iso)"
   ]
  },
  {
   "cell_type": "code",
   "execution_count": 235,
   "metadata": {
    "ExecuteTime": {
     "end_time": "2018-04-04T20:35:04.364641Z",
     "start_time": "2018-04-04T20:35:04.238267Z"
    }
   },
   "outputs": [
    {
     "data": {
      "image/png": "[encoded data removed]",
      "text/plain": [
       "<matplotlib.figure.Figure at 0x1528a743748>"
      ]
     },
     "metadata": {},
     "output_type": "display_data"
    }
   ],
   "source": [
    "hf.draw_slices(mask_f_iso)"
   ]
  },
  {
   "cell_type": "code",
   "execution_count": 258,
   "metadata": {
    "ExecuteTime": {
     "end_time": "2018-04-04T20:40:26.868432Z",
     "start_time": "2018-04-04T20:40:26.862389Z"
    },
    "scrolled": true
   },
   "outputs": [],
   "source": [
    "hf.save_nii(mask_f_iso*255, fix_tmp_path, [R]*3)\n",
    "hf.save_nii(mask_m_iso, mov_tmp_path, [R]*3)"
   ]
  },
  {
   "cell_type": "code",
   "execution_count": 237,
   "metadata": {
    "ExecuteTime": {
     "end_time": "2018-04-04T20:35:39.234437Z",
     "start_time": "2018-04-04T20:35:39.231458Z"
    },
    "collapsed": true
   },
   "outputs": [],
   "source": [
    "out_img_path=\"D:\\\\temp.nii\""
   ]
  },
  {
   "cell_type": "code",
   "execution_count": 273,
   "metadata": {
    "ExecuteTime": {
     "end_time": "2018-04-04T20:43:12.523866Z",
     "start_time": "2018-04-04T20:43:08.622387Z"
    },
    "scrolled": true
   },
   "outputs": [],
   "source": [
    "importlib.reload(reg)\n",
    "reg.reg_aligned_masks(mov_tmp_path, fix_tmp_path, out_img_path=out_img_path)"
   ]
  },
  {
   "cell_type": "code",
   "execution_count": 274,
   "metadata": {
    "ExecuteTime": {
     "end_time": "2018-04-04T20:43:12.694317Z",
     "start_time": "2018-04-04T20:43:12.542916Z"
    }
   },
   "outputs": [
    {
     "data": {
      "image/png": "[encoded data removed]",
      "text/plain": [
       "<matplotlib.figure.Figure at 0x1528a264d30>"
      ]
     },
     "metadata": {},
     "output_type": "display_data"
    }
   ],
   "source": [
    "out_img,dims = hf.nii_load(out_img_path)\n",
    "hf.draw_slices(out_img)"
   ]
  },
  {
   "cell_type": "markdown",
   "metadata": {
    "heading_collapsed": true
   },
   "source": [
    "### Compose with rotation"
   ]
  },
  {
   "cell_type": "code",
   "execution_count": 191,
   "metadata": {
    "collapsed": true,
    "hidden": true
   },
   "outputs": [],
   "source": [
    "mribl_liver_mask_path = join(target_dir, patient_id, \"liver bl final.ids\")\n",
    "ct24_liver_mask_path = glob.glob(join(target_dir, patient_id, \"wholeliver_24hCT*.ids\"))[0]"
   ]
  },
  {
   "cell_type": "code",
   "execution_count": null,
   "metadata": {
    "collapsed": true,
    "hidden": true
   },
   "outputs": [],
   "source": [
    "mribl_ct24_xform, ct24_tumor, mribl_tumor, mribl_ct24_crops = full_reg_masks(ct24_tumor_mask_path, ct24_path, mribl_tumor_mask_path, mribl_art_path)"
   ]
  },
  {
   "cell_type": "code",
   "execution_count": null,
   "metadata": {
    "collapsed": true,
    "hidden": true
   },
   "outputs": [],
   "source": []
  },
  {
   "cell_type": "code",
   "execution_count": null,
   "metadata": {
    "collapsed": true,
    "hidden": true
   },
   "outputs": [],
   "source": [
    "# BL MRI to 24h CT\n",
    "vec_field = lm.reg_masks(ct_tumor_mask_path, blmri_tumor_mask_path)"
   ]
  },
  {
   "cell_type": "code",
   "execution_count": null,
   "metadata": {
    "collapsed": true,
    "hidden": true
   },
   "outputs": [],
   "source": [
    "mribl_enh_mask = reg.apply_field(vec_field)"
   ]
  },
  {
   "cell_type": "code",
   "execution_count": null,
   "metadata": {
    "collapsed": true,
    "hidden": true
   },
   "outputs": [],
   "source": [
    "ct24_lip = lm.seg_lipiodol()"
   ]
  },
  {
   "cell_type": "code",
   "execution_count": null,
   "metadata": {
    "collapsed": true,
    "hidden": true
   },
   "outputs": [],
   "source": [
    "reg.reg_sitk(ct24_lip, vec_field)"
   ]
  },
  {
   "cell_type": "code",
   "execution_count": 114,
   "metadata": {
    "collapsed": true,
    "hidden": true
   },
   "outputs": [],
   "source": [
    "mri_dcm_paths = [x for x in glob.glob(join(target_dir, '*', 'MRI-BL', '*20s*')) if '.nii' not in x]\n",
    "mri_dcm_paths"
   ]
  },
  {
   "cell_type": "code",
   "execution_count": null,
   "metadata": {
    "collapsed": true,
    "hidden": true
   },
   "outputs": [],
   "source": [
    "path_dict = {}\n",
    "patient_id = '04'\n",
    "for path in glob.glob(join(target_dir, patient_id, \"MRI-BL\",\"*\",\"*\")):\n",
    "    header = hf.dcm_load_header(path)\n",
    "    if len(header) > 0:\n",
    "        series_descript = header[0][('0008', '103e')].value\n",
    "        path_dict[path] = series_descript\n",
    "        series_descript = series_descript.replace(\"/\",\"-\")\n",
    "        os.rename(path, join(target_dir,patient_id, \"MRI-BL\", series_descript))"
   ]
  },
  {
   "cell_type": "code",
   "execution_count": null,
   "metadata": {
    "collapsed": true,
    "hidden": true
   },
   "outputs": [],
   "source": []
  },
  {
   "cell_type": "code",
   "execution_count": 499,
   "metadata": {
    "collapsed": true,
    "hidden": true
   },
   "outputs": [],
   "source": [
    "for path in glob.glob(join(target_dir, \"*\", \"masks\",\"*final*\")):\n",
    "    if not exists(path.replace(\" final\", \"\")):\n",
    "        os.rename(path, path.replace(\" final\", \"\"))"
   ]
  },
  {
   "cell_type": "markdown",
   "metadata": {
    "hidden": true
   },
   "source": [
    "for path in glob.glob(join(target_dir, \"*\")):\n",
    "    os.makedirs(join(path, \"masks\"))"
   ]
  },
  {
   "cell_type": "markdown",
   "metadata": {
    "hidden": true
   },
   "source": [
    "for path in glob.glob(join(target_dir, \"*\", \"*.off\")):\n",
    "    os.rename(path, join(dirname(path), \"masks\", basename(path)))"
   ]
  },
  {
   "cell_type": "markdown",
   "metadata": {
    "heading_collapsed": true
   },
   "source": [
    "### Bias field corr"
   ]
  },
  {
   "cell_type": "code",
   "execution_count": 122,
   "metadata": {
    "collapsed": true,
    "hidden": true
   },
   "outputs": [],
   "source": [
    "mri_raw_paths = glob.glob(join(target_dir, '*', 'MRI-BL', 't1-art.nii.gz'))\n",
    "mri_bfc_paths = [join(dirname(x), \"t1-art-bfc.nii.gz\") for x in mri_raw_paths]"
   ]
  },
  {
   "cell_type": "code",
   "execution_count": 176,
   "metadata": {
    "hidden": true
   },
   "outputs": [
    {
     "data": {
      "text/plain": [
       "<module 'niftiutils.masks' from 'c:\\\\users\\\\clinton\\\\documents\\\\niftiutils\\\\niftiutils\\\\masks.py'>"
      ]
     },
     "execution_count": 176,
     "metadata": {},
     "output_type": "execute_result"
    }
   ],
   "source": [
    "importlib.reload(masks)"
   ]
  },
  {
   "cell_type": "code",
   "execution_count": null,
   "metadata": {
    "collapsed": true,
    "hidden": true
   },
   "outputs": [],
   "source": [
    "glob.glob(join(target_dir, patient_id, ''"
   ]
  },
  {
   "cell_type": "code",
   "execution_count": null,
   "metadata": {
    "collapsed": true,
    "hidden": true
   },
   "outputs": [],
   "source": [
    "masks.mask2nii()"
   ]
  },
  {
   "cell_type": "code",
   "execution_count": 128,
   "metadata": {
    "collapsed": true,
    "hidden": true
   },
   "outputs": [],
   "source": [
    "inputImage = sitk.ReadImage(mri_raw_paths[0])\n",
    "maskImage = sitk.OtsuThreshold( inputImage, 0, 1, 200 )\n",
    "\n",
    "if len ( sys.argv ) > 3:\n",
    "    inputImage = sitk.Shrink( inputImage, [ int(sys.argv[3]) ] * inputImage.GetDimension() )\n",
    "    maskImage = sitk.Shrink( maskImage, [ int(sys.argv[3]) ] * inputImage.GetDimension() )\n",
    "\n",
    "inputImage = sitk.Cast( inputImage, sitk.sitkFloat32 )\n",
    "\n",
    "corrector = sitk.N4BiasFieldCorrectionImageFilter()\n",
    "\n",
    "numberFilltingLevels = 4\n",
    "#corrector.SetMaximumNumberOfIterations( [ int( sys.argv[5] ) ] *numberFilltingLevels  )\n",
    "\n",
    "output = corrector.Execute( inputImage, maskImage )\n",
    "\n",
    "sitk.WriteImage( output, mri_bfc_paths[0] )"
   ]
  },
  {
   "cell_type": "markdown",
   "metadata": {
    "heading_collapsed": true
   },
   "source": [
    "### Masks"
   ]
  },
  {
   "cell_type": "code",
   "execution_count": null,
   "metadata": {
    "collapsed": true,
    "hidden": true
   },
   "outputs": [],
   "source": []
  },
  {
   "cell_type": "code",
   "execution_count": null,
   "metadata": {
    "collapsed": true,
    "hidden": true
   },
   "outputs": [],
   "source": []
  },
  {
   "cell_type": "code",
   "execution_count": null,
   "metadata": {
    "collapsed": true,
    "hidden": true
   },
   "outputs": [],
   "source": []
  },
  {
   "cell_type": "markdown",
   "metadata": {
    "heading_collapsed": true
   },
   "source": [
    "## Lipiodol seg"
   ]
  },
  {
   "cell_type": "code",
   "execution_count": 82,
   "metadata": {
    "hidden": true,
    "scrolled": true
   },
   "outputs": [
    {
     "data": {
      "text/plain": [
       "<module 'niftiutils.masks' from 'c:\\\\users\\\\clinton\\\\documents\\\\niftiutils\\\\niftiutils\\\\masks.py'>"
      ]
     },
     "execution_count": 82,
     "metadata": {},
     "output_type": "execute_result"
    }
   ],
   "source": [
    "importlib.reload(lm)"
   ]
  },
  {
   "cell_type": "code",
   "execution_count": 144,
   "metadata": {
    "collapsed": true,
    "hidden": true
   },
   "outputs": [],
   "source": [
    "# Lipiodol 3 masks\n",
    "info = {}\n",
    "for seg in glob.glob(join(mask_dir, \"wholeliver_24hCT*.ids\")):\n",
    "    if dirname(seg) in info.keys():\n",
    "        (ct_img, ct_dims, mask) = info[dirname(seg)]\n",
    "    else:\n",
    "        ct_img, ct_dims = hf.dcm_load(join(target_dir, patient_id, \"CT24h\"), True, True)\n",
    "        mask, _ = masks.get_mask(seg, ct_dims, ct_img.shape)\n",
    "        \n",
    "    lm.seg_lipiodol((mask > 0) * ct_img, dirname(seg), ct_dims)\n",
    "    info[dirname(seg)] = (ct_img, ct_dims, mask)\n",
    "    break"
   ]
  },
  {
   "cell_type": "code",
   "execution_count": null,
   "metadata": {
    "collapsed": true,
    "hidden": true
   },
   "outputs": [],
   "source": [
    "# Lipiodol target vs non-target masks\n",
    "info = {}\n",
    "for seg in glob.glob(join(target_dir,\"*\",\"wholeliver_24hCT*.ids\")):\n",
    "    if dirname(seg) in info.keys():\n",
    "        (ct_img, ct_dims, mask) = info[dirname(seg)]\n",
    "    else:\n",
    "        ct_img, ct_dims = hf.dcm_load(join(dirname(seg), \"CT24h\"), True, True)\n",
    "        mask, _ = masks.get_mask(seg, ct_dims, ct_img.shape)\n",
    "        \n",
    "    lm.seg_target_lipiodol((mask > 0) * ct_img, dirname(seg), ct_dims)\n",
    "    info[dirname(seg)] = (ct_img, ct_dims, mask)\n",
    "    #break"
   ]
  },
  {
   "cell_type": "code",
   "execution_count": null,
   "metadata": {
    "collapsed": true,
    "hidden": true
   },
   "outputs": [],
   "source": []
  }
 ],
 "metadata": {
  "kernelspec": {
   "display_name": "Python 3",
   "language": "python",
   "name": "python3"
  },
  "language_info": {
   "codemirror_mode": {
    "name": "ipython",
    "version": 3
   },
   "file_extension": ".py",
   "mimetype": "text/x-python",
   "name": "python",
   "nbconvert_exporter": "python",
   "pygments_lexer": "ipython3",
   "version": "3.5.0"
  },
  "varInspector": {
   "cols": {
    "lenName": 16,
    "lenType": 16,
    "lenVar": 40
   },
   "kernels_config": {
    "python": {
     "delete_cmd_postfix": "",
     "delete_cmd_prefix": "del ",
     "library": "var_list.py",
     "varRefreshCmd": "print(var_dic_list())"
    },
    "r": {
     "delete_cmd_postfix": ") ",
     "delete_cmd_prefix": "rm(",
     "library": "var_list.r",
     "varRefreshCmd": "cat(var_dic_list()) "
    }
   },
   "types_to_exclude": [
    "module",
    "function",
    "builtin_function_or_method",
    "instance",
    "_Feature"
   ],
   "window_display": false
  }
 },
 "nbformat": 4,
 "nbformat_minor": 2
}
