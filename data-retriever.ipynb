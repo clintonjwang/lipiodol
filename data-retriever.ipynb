{
 "cells": [
  {
   "cell_type": "code",
   "execution_count": 131,
   "metadata": {},
   "outputs": [],
   "source": [
    "import cnn_builder as cbuild\n",
    "import config\n",
    "import copy\n",
    "import glob\n",
    "import importlib\n",
    "import lipiodol_methods as lm\n",
    "import niftiutils.helper_fxns as hf\n",
    "import niftiutils.transforms as tr\n",
    "import niftiutils.registration as reg\n",
    "import niftiutils.masks as masks\n",
    "import numpy as np\n",
    "import os\n",
    "import shutil\n",
    "from os.path import *\n",
    "%matplotlib inline\n",
    "from scipy.ndimage.morphology import binary_closing, binary_opening, binary_dilation\n",
    "from skimage.morphology import ball, label\n",
    "\n",
    "import numpy as np\n",
    "from keras import backend as K\n",
    "from keras.engine import Input, Model\n",
    "from keras.layers import *\n",
    "from keras.optimizers import Adam\n",
    "from keras.utils import np_utils"
   ]
  },
  {
   "cell_type": "code",
   "execution_count": 110,
   "metadata": {
    "collapsed": true
   },
   "outputs": [],
   "source": [
    "import SimpleITK as sitk\n",
    "import sys"
   ]
  },
  {
   "cell_type": "code",
   "execution_count": 94,
   "metadata": {
    "scrolled": true
   },
   "outputs": [],
   "source": [
    "importlib.reload(hf)\n",
    "C = config.Config()"
   ]
  },
  {
   "cell_type": "code",
   "execution_count": 3,
   "metadata": {
    "collapsed": true
   },
   "outputs": [],
   "source": [
    "img_dir = \"D:\\\\Lipiodol\\\\Images all\"\n",
    "seg_dir = \"D:\\\\Lipiodol\\\\Images extracted and segmentations\"\n",
    "target_dir = \"D:\\\\Lipiodol\\\\Data\""
   ]
  },
  {
   "cell_type": "markdown",
   "metadata": {},
   "source": [
    "## Non-rigid reg"
   ]
  },
  {
   "cell_type": "code",
   "execution_count": 132,
   "metadata": {
    "collapsed": true
   },
   "outputs": [],
   "source": [
    "patient_id = \"02\""
   ]
  },
  {
   "cell_type": "code",
   "execution_count": 134,
   "metadata": {
    "collapsed": true
   },
   "outputs": [],
   "source": [
    "mribl_art_path = join(target_dir, patient_id, \"MRI-BL\", \"t1-art.nii.gz\")\n",
    "mribl_tumor_mask_path = join(target_dir, patient_id, \"tumor bl.ids\")\n",
    "ct24_path = join(target_dir, patient_id, \"nii_files\", \"ct24.nii.gz\")\n",
    "ct24_tumor_mask_path = glob.glob(join(target_dir, patient_id, \"tumor 24h*.ids\"))[0]"
   ]
  },
  {
   "cell_type": "code",
   "execution_count": 133,
   "metadata": {
    "collapsed": true
   },
   "outputs": [],
   "source": [
    "ct_img, ct_dims = hf.dcm_load(join(target_dir, patient_id, \"CT24h\"), True, True)"
   ]
  },
  {
   "cell_type": "code",
   "execution_count": 135,
   "metadata": {
    "collapsed": true
   },
   "outputs": [],
   "source": [
    "hf.save_nii(ct_img, ct24_path, ct_dims)"
   ]
  },
  {
   "cell_type": "code",
   "execution_count": 136,
   "metadata": {
    "collapsed": true
   },
   "outputs": [],
   "source": [
    "img_ref_path = mribl_art_path\n",
    "mask_ref_path = mribl_tumor_mask_path\n",
    "img_mov_path = ct24_path\n",
    "mask_mov_path = ct24_tumor_mask_path"
   ]
  },
  {
   "cell_type": "code",
   "execution_count": 137,
   "metadata": {
    "collapsed": true
   },
   "outputs": [],
   "source": [
    "def crop_nonzero(arr, crops=None):\n",
    "    if crops is None:\n",
    "        nonzeros = np.argwhere(arr)\n",
    "        crops1 = nonzeros.min(axis=0)\n",
    "        crops2 = nonzeros.max(axis=0)\n",
    "    else:\n",
    "        crops1, crops2 = crops\n",
    "        \n",
    "    return arr[crops1[0]:crops2[0]+1,\n",
    "              crops1[1]:crops2[1]+1,\n",
    "              crops1[2]:crops2[2]+1], (crops1, crops2)"
   ]
  },
  {
   "cell_type": "code",
   "execution_count": 156,
   "metadata": {
    "collapsed": true
   },
   "outputs": [],
   "source": [
    "img_r, img_r_dims = hf.nii_load(img_ref_path)\n",
    "mask_r, mask_r_dims = masks.get_mask(mask_ref_path, img_r_dims, img_r.shape)\n",
    "\n",
    "img_m, img_m_dims = hf.nii_load(img_mov_path)\n",
    "mask_m, mask_m_dims = masks.get_mask(mask_mov_path, img_m_dims, img_m.shape)\n",
    "\n",
    "mask_r, crops_r = crop_nonzero(mask_r)\n",
    "img_r, _ = crop_nonzero(img_r, crops_r)\n",
    "img_r[mask_r == 0] = 0\n",
    "\n",
    "mask_m, crops_m = crop_nonzero(mask_m)\n",
    "img_m, _ = crop_nonzero(img_m, crops_m)\n",
    "img_m[mask_m == 0] = 0\n",
    "\n",
    "R = 1.5\n",
    "mask_r_iso, _ = tr.rescale_img(mask_r, [R]*3, mask_r_dims)\n",
    "img_r_iso, _ = tr.rescale_img(img_r, [R]*3, img_r_dims)\n",
    "mask_m_iso, _ = tr.rescale_img(mask_m, [R]*3, mask_m_dims)\n",
    "img_m_iso, _ = tr.rescale_img(img_m, [R]*3, img_m_dims)"
   ]
  },
  {
   "cell_type": "code",
   "execution_count": 144,
   "metadata": {},
   "outputs": [
    {
     "data": {
      "text/plain": [
       "(10, 10, 13)"
      ]
     },
     "execution_count": 144,
     "metadata": {},
     "output_type": "execute_result"
    }
   ],
   "source": [
    "mask_r_iso.shape"
   ]
  },
  {
   "cell_type": "code",
   "execution_count": 149,
   "metadata": {},
   "outputs": [
    {
     "data": {
      "text/plain": [
       "(34, 29, 37)"
      ]
     },
     "execution_count": 149,
     "metadata": {},
     "output_type": "execute_result"
    }
   ],
   "source": [
    "img_m_iso.shape"
   ]
  },
  {
   "cell_type": "code",
   "execution_count": 157,
   "metadata": {},
   "outputs": [
    {
     "data": {
      "image/png": "[encoded data removed]",
      "text/plain": [
       "<matplotlib.figure.Figure at 0x1b9c5a683c8>"
      ]
     },
     "metadata": {},
     "output_type": "display_data"
    }
   ],
   "source": [
    "hf.draw_slices(img_r_iso)"
   ]
  },
  {
   "cell_type": "code",
   "execution_count": 138,
   "metadata": {
    "collapsed": true
   },
   "outputs": [],
   "source": [
    "def reg_masks(mask_ref_path, img_ref_path, mask_mov_path, img_mov_path):\n",
    "    img_r, img_r_dims = hf.nii_load(img_ref_path)\n",
    "    mask_r, mask_r_dims = masks.get_mask(mask_ref_path, img_r_dims, img_r.shape)\n",
    "    \n",
    "    img_m, img_m_dims = hf.nii_load(img_mov_path)\n",
    "    mask_m, mask_m_dims = masks.get_mask(mask_mov_path, img_m_dims, img_m.shape)\n",
    "    \n",
    "    mask_r, crops_r = crop_nonzero(mask_r)\n",
    "    img_r, _ = crop_nonzero(img_r, crops_r)\n",
    "    img_r[mask_r == 0] = 0\n",
    "    \n",
    "    mask_m, crops_m = crop_nonzero(mask_m)\n",
    "    img_m, _ = crop_nonzero(img_m, crops_m)\n",
    "    img_m[mask_m == 0] = 0\n",
    "    \n",
    "    R = 1.5\n",
    "    mask_r_iso = tr.rescale_img(mask_r, [R]*3, mask_r_dims)\n",
    "    img_r_iso = tr.rescale_img(img_r, [R]*3, img_r_dims)\n",
    "    mask_m_iso = tr.rescale_img(mask_m, [R]*3, mask_m_dims)\n",
    "    img_m_iso = tr.rescale_img(img_m, [R]*3, img_m_dims)\n",
    "    \n",
    "    _, xform = reg.reg_nonrigid(mask_r_iso, mask_m_iso)\n",
    "    \n",
    "    img_m_reg = transform(xform, img_m_iso)\n",
    "    \n",
    "    return xform, crops_m, img_r_iso, img_m_reg"
   ]
  },
  {
   "cell_type": "code",
   "execution_count": null,
   "metadata": {
    "collapsed": true
   },
   "outputs": [],
   "source": [
    "mribl_ct24_xform, ct24_tumor, mribl_tumor, mribl_ct24_crops = reg_masks(ct24_tumor_mask_path, ct24_path, mribl_tumor_mask_path, mribl_art_path)"
   ]
  },
  {
   "cell_type": "code",
   "execution_count": null,
   "metadata": {
    "collapsed": true
   },
   "outputs": [],
   "source": [
    "def transform_mask(mask_path, img_path, xform, crops):\n",
    "    img, img_dims = hf.nii_load(img_path)\n",
    "    mask, mask_dims = masks.get_mask(mask_path, img_dims, img.shape)\n",
    "    \n",
    "    mask, _ = crop_nonzero(mask, crops)\n",
    "    R = 1.5\n",
    "    mask_iso = tr.rescale_img(mask, [R]*3, mask_dims)\n",
    "    xform_mask = reg.reg_nonrigid(mask_iso, xform)\n",
    "    \n",
    "    return xform_mask"
   ]
  },
  {
   "cell_type": "code",
   "execution_count": null,
   "metadata": {
    "collapsed": true
   },
   "outputs": [],
   "source": [
    "mribl_enh_mask_path = join()"
   ]
  },
  {
   "cell_type": "code",
   "execution_count": null,
   "metadata": {
    "collapsed": true
   },
   "outputs": [],
   "source": [
    "mribl_enh_mask_ct24 = transform_mask(mribl_enh_mask_path, mribl_art_path, mribl_ct24_xform, mribl_ct24_crops)"
   ]
  },
  {
   "cell_type": "code",
   "execution_count": null,
   "metadata": {
    "collapsed": true
   },
   "outputs": [],
   "source": [
    "mribl_enh_mask_ct24"
   ]
  },
  {
   "cell_type": "code",
   "execution_count": null,
   "metadata": {
    "collapsed": true
   },
   "outputs": [],
   "source": []
  },
  {
   "cell_type": "code",
   "execution_count": null,
   "metadata": {
    "collapsed": true
   },
   "outputs": [],
   "source": [
    "# BL MRI to 24h CT\n",
    "vec_field = lm.reg_masks(ct_tumor_mask_path, blmri_tumor_mask_path)"
   ]
  },
  {
   "cell_type": "code",
   "execution_count": null,
   "metadata": {
    "collapsed": true
   },
   "outputs": [],
   "source": [
    "mribl_enh_mask = reg.apply_field(vec_field)"
   ]
  },
  {
   "cell_type": "code",
   "execution_count": null,
   "metadata": {
    "collapsed": true
   },
   "outputs": [],
   "source": [
    "ct24_lip = lm.seg_lipiodol()"
   ]
  },
  {
   "cell_type": "code",
   "execution_count": null,
   "metadata": {
    "collapsed": true
   },
   "outputs": [],
   "source": [
    "def "
   ]
  },
  {
   "cell_type": "code",
   "execution_count": null,
   "metadata": {
    "collapsed": true
   },
   "outputs": [],
   "source": [
    "reg.reg_sitk(ct24_lip, vec_field)"
   ]
  },
  {
   "cell_type": "code",
   "execution_count": null,
   "metadata": {
    "collapsed": true
   },
   "outputs": [],
   "source": []
  },
  {
   "cell_type": "markdown",
   "metadata": {},
   "source": [
    "### MRI loading"
   ]
  },
  {
   "cell_type": "code",
   "execution_count": 114,
   "metadata": {
    "collapsed": true
   },
   "outputs": [],
   "source": [
    "mri_dcm_paths = [x for x in glob.glob(join(target_dir, '*', 'MRI-BL', '*20s*')) if '.nii' not in x]\n",
    "mri_dcm_paths"
   ]
  },
  {
   "cell_type": "code",
   "execution_count": null,
   "metadata": {
    "collapsed": true
   },
   "outputs": [],
   "source": [
    "patient_id = \"02\"\n",
    "dcm_paths = [x for x in glob.glob(join(target_dir, patient_id, \"MRI-BL\",\"*\")) if x.find('.')==-1]\n",
    "for dcm_path in dcm_paths:\n",
    "    if not exists(splitext(dcm_path)[0] + \".nii.gz\"):\n",
    "        try:\n",
    "            save_path = splitext(dcm_path)[0] + \".nii.gz\"\n",
    "            img, dims = hf.dcm_load(dcm_path, True, True)\n",
    "            hf.save_nii(img, save_path, dims)\n",
    "        except:\n",
    "            print(dcm_path)"
   ]
  },
  {
   "cell_type": "code",
   "execution_count": 119,
   "metadata": {
    "collapsed": true
   },
   "outputs": [],
   "source": [
    "art_paths = [x for x in glob.glob(join(target_dir, patient_id, \"MRI-BL\",\"*.nii.gz\")) if '20s' in x or 'Ph1-Ax' in x]\n",
    "for path in art_paths:\n",
    "    os.rename(path, join(dirname(path), \"t1-art.nii.gz\"))"
   ]
  },
  {
   "cell_type": "code",
   "execution_count": null,
   "metadata": {
    "collapsed": true
   },
   "outputs": [],
   "source": [
    "path_dict = {}\n",
    "patient_id = '04'\n",
    "for path in glob.glob(join(target_dir, patient_id, \"MRI-BL\",\"*\",\"*\")):\n",
    "    header = hf.dcm_load_header(path)\n",
    "    if len(header) > 0:\n",
    "        series_descript = header[0][('0008', '103e')].value\n",
    "        path_dict[path] = series_descript\n",
    "        series_descript = series_descript.replace(\"/\",\"-\")\n",
    "        os.rename(path, join(target_dir,patient_id, \"MRI-BL\", series_descript))"
   ]
  },
  {
   "cell_type": "markdown",
   "metadata": {},
   "source": [
    "### Bias field corr"
   ]
  },
  {
   "cell_type": "code",
   "execution_count": 122,
   "metadata": {
    "collapsed": true
   },
   "outputs": [],
   "source": [
    "mri_raw_paths = glob.glob(join(target_dir, '*', 'MRI-BL', 't1-art.nii.gz'))\n",
    "mri_bfc_paths = [join(dirname(x), \"t1-art-bfc.nii.gz\") for x in mri_raw_paths]"
   ]
  },
  {
   "cell_type": "code",
   "execution_count": 130,
   "metadata": {},
   "outputs": [
    {
     "data": {
      "text/plain": [
       "<module 'niftiutils.masks' from 'c:\\\\users\\\\clinton\\\\documents\\\\niftiutils\\\\niftiutils\\\\masks.py'>"
      ]
     },
     "execution_count": 130,
     "metadata": {},
     "output_type": "execute_result"
    }
   ],
   "source": [
    "importlib.reload(masks)"
   ]
  },
  {
   "cell_type": "code",
   "execution_count": null,
   "metadata": {
    "collapsed": true
   },
   "outputs": [],
   "source": [
    "glob.glob(join(target_dir, patient_id, ''"
   ]
  },
  {
   "cell_type": "code",
   "execution_count": null,
   "metadata": {
    "collapsed": true
   },
   "outputs": [],
   "source": [
    "masks.mask2nii()"
   ]
  },
  {
   "cell_type": "code",
   "execution_count": 128,
   "metadata": {
    "collapsed": true
   },
   "outputs": [],
   "source": [
    "inputImage = sitk.ReadImage(mri_raw_paths[0])\n",
    "maskImage = sitk.OtsuThreshold( inputImage, 0, 1, 200 )\n",
    "\n",
    "if len ( sys.argv ) > 3:\n",
    "    inputImage = sitk.Shrink( inputImage, [ int(sys.argv[3]) ] * inputImage.GetDimension() )\n",
    "    maskImage = sitk.Shrink( maskImage, [ int(sys.argv[3]) ] * inputImage.GetDimension() )\n",
    "\n",
    "inputImage = sitk.Cast( inputImage, sitk.sitkFloat32 )\n",
    "\n",
    "corrector = sitk.N4BiasFieldCorrectionImageFilter()\n",
    "\n",
    "numberFilltingLevels = 4\n",
    "#corrector.SetMaximumNumberOfIterations( [ int( sys.argv[5] ) ] *numberFilltingLevels  )\n",
    "\n",
    "output = corrector.Execute( inputImage, maskImage )\n",
    "\n",
    "sitk.WriteImage( output, mri_bfc_paths[0] )"
   ]
  },
  {
   "cell_type": "markdown",
   "metadata": {},
   "source": [
    "### Masks"
   ]
  },
  {
   "cell_type": "code",
   "execution_count": null,
   "metadata": {
    "collapsed": true
   },
   "outputs": [],
   "source": []
  },
  {
   "cell_type": "code",
   "execution_count": null,
   "metadata": {
    "collapsed": true
   },
   "outputs": [],
   "source": []
  },
  {
   "cell_type": "code",
   "execution_count": null,
   "metadata": {
    "collapsed": true
   },
   "outputs": [],
   "source": []
  },
  {
   "cell_type": "markdown",
   "metadata": {},
   "source": [
    "## Lipiodol seg"
   ]
  },
  {
   "cell_type": "code",
   "execution_count": 82,
   "metadata": {
    "scrolled": true
   },
   "outputs": [
    {
     "data": {
      "text/plain": [
       "<module 'niftiutils.masks' from 'c:\\\\users\\\\clinton\\\\documents\\\\niftiutils\\\\niftiutils\\\\masks.py'>"
      ]
     },
     "execution_count": 82,
     "metadata": {},
     "output_type": "execute_result"
    }
   ],
   "source": [
    "importlib.reload(lm)"
   ]
  },
  {
   "cell_type": "code",
   "execution_count": 102,
   "metadata": {
    "collapsed": true
   },
   "outputs": [],
   "source": [
    "# Lipiodol 3 masks\n",
    "info = {}\n",
    "for seg in glob.glob(join(target_dir,\"*\",\"wholeliver_24hCT*.ids\")):\n",
    "    if dirname(seg) in info.keys():\n",
    "        (ct_img, ct_dims, mask) = info[dirname(seg)]\n",
    "    else:\n",
    "        ct_img, ct_dims = hf.dcm_load(join(dirname(seg), \"CT24h\"), True, True)\n",
    "        mask, _ = masks.get_mask(seg, ct_dims, ct_img.shape)\n",
    "        \n",
    "    lm.seg_lipiodol((mask > 0) * ct_img, dirname(seg), ct_dims)\n",
    "    info[dirname(seg)] = (ct_img, ct_dims, mask)\n",
    "    break"
   ]
  },
  {
   "cell_type": "code",
   "execution_count": null,
   "metadata": {
    "collapsed": true
   },
   "outputs": [],
   "source": [
    "# Lipiodol target vs non-target masks\n",
    "info = {}\n",
    "for seg in glob.glob(join(target_dir,\"*\",\"wholeliver_24hCT*.ids\")):\n",
    "    if dirname(seg) in info.keys():\n",
    "        (ct_img, ct_dims, mask) = info[dirname(seg)]\n",
    "    else:\n",
    "        ct_img, ct_dims = hf.dcm_load(join(dirname(seg), \"CT24h\"), True, True)\n",
    "        mask, _ = masks.get_mask(seg, ct_dims, ct_img.shape)\n",
    "        \n",
    "    lm.seg_target_lipiodol((mask > 0) * ct_img, dirname(seg), ct_dims)\n",
    "    info[dirname(seg)] = (ct_img, ct_dims, mask)\n",
    "    #break"
   ]
  },
  {
   "cell_type": "code",
   "execution_count": null,
   "metadata": {
    "collapsed": true
   },
   "outputs": [],
   "source": []
  }
 ],
 "metadata": {
  "kernelspec": {
   "display_name": "Python 3",
   "language": "python",
   "name": "python3"
  },
  "language_info": {
   "codemirror_mode": {
    "name": "ipython",
    "version": 3
   },
   "file_extension": ".py",
   "mimetype": "text/x-python",
   "name": "python",
   "nbconvert_exporter": "python",
   "pygments_lexer": "ipython3",
   "version": "3.5.0"
  }
 },
 "nbformat": 4,
 "nbformat_minor": 2
}
