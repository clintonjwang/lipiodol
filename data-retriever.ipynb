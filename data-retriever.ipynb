{
 "cells": [
  {
   "cell_type": "markdown",
   "metadata": {
    "heading_collapsed": true
   },
   "source": [
    "## Imports"
   ]
  },
  {
   "cell_type": "code",
   "execution_count": 1,
   "metadata": {
    "ExecuteTime": {
     "end_time": "2018-05-17T21:58:58.553226Z",
     "start_time": "2018-05-17T21:58:56.047500Z"
    },
    "hidden": true,
    "scrolled": false
   },
   "outputs": [
    {
     "name": "stderr",
     "output_type": "stream",
     "text": [
      "C:\\Users\\Clinton\\AppData\\Local\\conda\\conda\\envs\\old-keras\\lib\\site-packages\\h5py\\__init__.py:34: FutureWarning: Conversion of the second argument of issubdtype from `float` to `np.floating` is deprecated. In future, it will be treated as `np.float64 == np.dtype(float).type`.\n",
      "  from ._conv import register_converters as _register_converters\n",
      "Using TensorFlow backend.\n"
     ]
    }
   ],
   "source": [
    "import copy\n",
    "import glob\n",
    "import importlib\n",
    "import math\n",
    "import os\n",
    "import random\n",
    "import shutil\n",
    "import sys\n",
    "from os.path import *\n",
    "import seaborn as sns\n",
    "\n",
    "import keras\n",
    "import mahotas.features as mah\n",
    "import matplotlib.pyplot as plt\n",
    "import numpy as np\n",
    "import pandas as pd\n",
    "import SimpleITK as sitk\n",
    "import skimage.feature as skf\n",
    "from skimage.morphology import ball\n",
    "\n",
    "import cnn_builder as cbuild\n",
    "import config\n",
    "import lipiodol_methods as lm\n",
    "import lipiodol_vis as lvis\n",
    "import lipiodol_analysis as lan\n",
    "import niftiutils.helper_fxns as hf\n",
    "import niftiutils.liver_metrics as lmet\n",
    "import niftiutils.masks as masks\n",
    "import niftiutils.registration as reg\n",
    "import niftiutils.transforms as tr\n",
    "import niftiutils.visualization as vis\n",
    "from config import Config\n",
    "import skimage.morphology\n",
    "%matplotlib inline"
   ]
  },
  {
   "cell_type": "code",
   "execution_count": 48,
   "metadata": {
    "ExecuteTime": {
     "end_time": "2018-05-18T00:32:26.905440Z",
     "start_time": "2018-05-18T00:32:26.897419Z"
    },
    "collapsed": true,
    "hidden": true,
    "scrolled": true
   },
   "outputs": [],
   "source": [
    "importlib.reload(config)\n",
    "C = config.Config()\n",
    "\n",
    "img_dir = \"D:\\\\Lipiodol\\\\Images all\"\n",
    "seg_dir = \"D:\\\\Lipiodol\\\\Images extracted and segmentations\"\n",
    "target_dir = \"D:\\\\Lipiodol\\\\Data\"\n",
    "lesions = [basename(fn) for fn in glob.glob(join(target_dir,\"*\"))]\n",
    "liplvls = [0, 87.3, 158.8, 238.7]"
   ]
  },
  {
   "cell_type": "code",
   "execution_count": 7,
   "metadata": {
    "ExecuteTime": {
     "end_time": "2018-05-17T21:38:04.855408Z",
     "start_time": "2018-05-17T21:38:04.851397Z"
    },
    "hidden": true
   },
   "outputs": [
    {
     "name": "stdout",
     "output_type": "stream",
     "text": [
      "D:\\Lipiodol\\Data\\PK-04\\CT24h\n"
     ]
    }
   ],
   "source": [
    "lesion_id = \"PK-04\"\n",
    "print(join(target_dir, lesion_id, \"CT24h\"))"
   ]
  },
  {
   "cell_type": "code",
   "execution_count": 7,
   "metadata": {
    "ExecuteTime": {
     "end_time": "2018-05-17T21:42:13.364151Z",
     "start_time": "2018-05-17T21:42:13.361115Z"
    },
    "collapsed": true,
    "hidden": true
   },
   "outputs": [],
   "source": [
    "import pydicom"
   ]
  },
  {
   "cell_type": "markdown",
   "metadata": {
    "heading_collapsed": true
   },
   "source": [
    "## Data Handling"
   ]
  },
  {
   "cell_type": "code",
   "execution_count": null,
   "metadata": {
    "ExecuteTime": {
     "end_time": "2018-04-07T17:34:03.147256Z",
     "start_time": "2018-04-07T17:34:03.128207Z"
    },
    "collapsed": true,
    "hidden": true
   },
   "outputs": [],
   "source": [
    "df = pd.read_excel(\"D:\\Lipiodol\\pk-study_spreadsheet.xlsx\", sheetname=\"pat_info\")\n",
    "df = df.dropna(subset=[\"Subject ID\", \"CT24 Accession #\"])"
   ]
  },
  {
   "cell_type": "code",
   "execution_count": null,
   "metadata": {
    "ExecuteTime": {
     "end_time": "2018-04-21T03:11:59.067292Z",
     "start_time": "2018-04-21T03:11:56.430720Z"
    },
    "collapsed": true,
    "hidden": true
   },
   "outputs": [],
   "source": [
    "for fn in glob.glob(join(target_dir, \"*\", \"masks\", \"enh_bl*\")):\n",
    "    #os.rename(fn, join(dirname(fn), \"mrbl\"+basename(fn)[len(\"mribl\"):]))\n",
    "    os.rename(fn, join(dirname(fn), \"lipiodol_low\"+splitext(basename(fn))[1]))"
   ]
  },
  {
   "cell_type": "code",
   "execution_count": null,
   "metadata": {
    "ExecuteTime": {
     "end_time": "2018-04-07T18:12:54.888209Z",
     "start_time": "2018-04-07T18:03:44.828980Z"
    },
    "collapsed": true,
    "hidden": true
   },
   "outputs": [],
   "source": [
    "for fn in glob.glob(join(pk_target_dir, \"*\")):\n",
    "    accnum = df.loc[df[\"Subject ID\"]==basename(fn),\"CT24 Accession #\"].values[0]\n",
    "    if not exists(join(pk_src_dir, accnum)):\n",
    "        print(basename(fn), accnum)\n",
    "    else:\n",
    "        shutil.copytree(join(pk_src_dir, accnum), join(fn, \"CT24h\"))\n",
    "        print(join(fn, \"CT24h\"))"
   ]
  },
  {
   "cell_type": "markdown",
   "metadata": {
    "heading_collapsed": true,
    "hidden": true
   },
   "source": [
    "### Corrupt data"
   ]
  },
  {
   "cell_type": "code",
   "execution_count": 7,
   "metadata": {
    "ExecuteTime": {
     "end_time": "2018-04-05T15:30:16.243952Z",
     "start_time": "2018-04-05T15:30:13.903596Z"
    },
    "collapsed": true,
    "hidden": true
   },
   "outputs": [],
   "source": [
    "big_path = r\"C:\\Users\\Clinton\\Desktop\\MRI Abdomen W WO Contrast\"\n",
    "header = hf.dcm_load_header(big_path)"
   ]
  },
  {
   "cell_type": "code",
   "execution_count": 8,
   "metadata": {
    "ExecuteTime": {
     "end_time": "2018-04-05T15:30:26.386234Z",
     "start_time": "2018-04-05T15:30:26.383221Z"
    },
    "collapsed": true,
    "hidden": true
   },
   "outputs": [],
   "source": [
    "dcm_path = [r\"C:\\Users\\Clinton\\Desktop\\New folder\",\n",
    "        r\"C:\\Users\\Clinton\\Desktop\\New folder2\",\n",
    "        r\"C:\\Users\\Clinton\\Desktop\\New folder3\",\n",
    "        r\"C:\\Users\\Clinton\\Desktop\\New folder4\"]"
   ]
  },
  {
   "cell_type": "code",
   "execution_count": 9,
   "metadata": {
    "ExecuteTime": {
     "end_time": "2018-04-05T15:30:32.002288Z",
     "start_time": "2018-04-05T15:30:31.999305Z"
    },
    "collapsed": true,
    "hidden": true
   },
   "outputs": [],
   "source": [
    "for i in range(4):\n",
    "    os.makedirs(dcm_path[i])"
   ]
  },
  {
   "cell_type": "code",
   "execution_count": 10,
   "metadata": {
    "ExecuteTime": {
     "end_time": "2018-04-05T15:32:55.730396Z",
     "start_time": "2018-04-05T15:32:55.727417Z"
    },
    "collapsed": true,
    "hidden": true
   },
   "outputs": [],
   "source": [
    "acq_t = [124326.42, 124404.46, 124446.79, 124633.32]"
   ]
  },
  {
   "cell_type": "code",
   "execution_count": 11,
   "metadata": {
    "ExecuteTime": {
     "end_time": "2018-04-05T15:33:17.516876Z",
     "start_time": "2018-04-05T15:33:15.008060Z"
    },
    "collapsed": true,
    "hidden": true
   },
   "outputs": [],
   "source": [
    "for ix,fn in enumerate(glob.glob(join(big_path, \"*\"))):\n",
    "    h = hf.dcm_load_header(fn)\n",
    "    for i in range(4):\n",
    "        if abs(float(h[0].AcquisitionTime) - acq_t[i]) < .02:\n",
    "            shutil.copy(fn, join(dcm_path[i], basename(fn)))"
   ]
  },
  {
   "cell_type": "markdown",
   "metadata": {
    "hidden": true
   },
   "source": [
    "for fn in glob.glob(join(dcm_path, \"*\")):\n",
    "    if int(header[int(fn[-7:-4])-1].TemporalPositionIdentifier) == 2:\n",
    "        shutil.move(fn, join(dcm_path2, basename(fn)))\n",
    "    elif int(header[int(fn[-7:-4])-1].TemporalPositionIdentifier) == 3:\n",
    "        shutil.move(fn, join(dcm_path3, basename(fn)))\n",
    "    elif int(header[int(fn[-7:-4])-1].TemporalPositionIdentifier) == 4:\n",
    "        shutil.move(fn, join(dcm_path4, basename(fn)))"
   ]
  },
  {
   "cell_type": "code",
   "execution_count": null,
   "metadata": {
    "collapsed": true,
    "hidden": true
   },
   "outputs": [],
   "source": [
    "dim = 1\n",
    "base = float(header[0].SliceLocation)\n",
    "for x,h in enumerate(header[1:]):\n",
    "    dz = float(h.SliceLocation) - base\n",
    "    print(dz)\n",
    "    base = float(h.SliceLocation)"
   ]
  },
  {
   "cell_type": "code",
   "execution_count": 412,
   "metadata": {
    "collapsed": true,
    "hidden": true
   },
   "outputs": [],
   "source": [
    "fn = [\"t1-pre.nii\", \"t1-art.nii\", \"t1-pv.nii\", \"t1-equ.nii\"]"
   ]
  },
  {
   "cell_type": "code",
   "execution_count": 418,
   "metadata": {
    "collapsed": true,
    "hidden": true
   },
   "outputs": [],
   "source": [
    "for i in range(2,3):\n",
    "    a,dims = hf.dcm_load(dcm_path[i], True, True)\n",
    "    save_path = join(dirname(dcm_path[i]), \"07\", fn[i])\n",
    "    hf.save_nii(a, save_path, dims)"
   ]
  },
  {
   "cell_type": "code",
   "execution_count": 120,
   "metadata": {
    "ExecuteTime": {
     "end_time": "2018-04-07T16:17:11.383812Z",
     "start_time": "2018-04-07T16:17:11.344708Z"
    },
    "hidden": true
   },
   "outputs": [
    {
     "name": "stdout",
     "output_type": "stream",
     "text": [
      "D:\\Lipiodol\\Data\\34\\CT24h\\IMG-0001-00010.dcm 6.0\n"
     ]
    }
   ],
   "source": [
    "dcm_path = join(target_dir, lesion_id, \"CT24h\")\n",
    "fns = glob.glob(join(dcm_path, \"*\"))\n",
    "z1 = float(hf.dcm_load_header(fns[0])[0].ImagePositionPatient[-1])\n",
    "z2 = float(hf.dcm_load_header(fns[1])[0].ImagePositionPatient[-1])\n",
    "dz = z1-z2\n",
    "for ix,fn in enumerate(fns[1:]):\n",
    "    h = hf.dcm_load_header(fn)\n",
    "    z2 = float(h[0].ImagePositionPatient[-1])\n",
    "    if abs(z1-z2 - dz) > 1e-3:\n",
    "        print(fn, z1-z2)\n",
    "        break\n",
    "    z1 = z2"
   ]
  },
  {
   "cell_type": "markdown",
   "metadata": {
    "heading_collapsed": true
   },
   "source": [
    "## MRI loading"
   ]
  },
  {
   "cell_type": "code",
   "execution_count": 73,
   "metadata": {
    "ExecuteTime": {
     "end_time": "2018-05-11T04:06:58.285984Z",
     "start_time": "2018-05-11T04:06:58.281974Z"
    },
    "collapsed": true,
    "hidden": true,
    "scrolled": false
   },
   "outputs": [],
   "source": [
    "target_dir = \"D:\\\\Lipiodol\\\\Data\"\n",
    "importlib.reload(lm)\n",
    "lesion_id = \"BM-07\"\n",
    "P = lm.get_paths_dict(lesion_id, target_dir)"
   ]
  },
  {
   "cell_type": "code",
   "execution_count": 74,
   "metadata": {
    "ExecuteTime": {
     "end_time": "2018-05-11T04:07:01.523827Z",
     "start_time": "2018-05-11T04:06:59.632218Z"
    },
    "collapsed": true,
    "hidden": true
   },
   "outputs": [],
   "source": [
    "modality = \"MRI-30d\"\n",
    "\n",
    "dcm_paths = [x for x in glob.glob(join(target_dir, lesion_id, modality,\"*\")) if x.find('.')==-1 and '70s' in x]\n",
    "for dcm_path in dcm_paths:\n",
    "    if not exists(splitext(dcm_path)[0] + \".nii.gz\"):\n",
    "        try:\n",
    "            save_path = splitext(dcm_path)[0] + \".nii.gz\"\n",
    "            img, dims = hf.dcm_load(dcm_path, True, True)\n",
    "            hf.save_nii(img, save_path, dims)\n",
    "        except:\n",
    "            print(dcm_path)"
   ]
  },
  {
   "cell_type": "code",
   "execution_count": 58,
   "metadata": {
    "ExecuteTime": {
     "end_time": "2018-05-11T03:58:24.900998Z",
     "start_time": "2018-05-11T03:58:24.894954Z"
    },
    "collapsed": true,
    "hidden": true,
    "scrolled": true
   },
   "outputs": [],
   "source": [
    "paths = [x for x in glob.glob(join(target_dir, lesion_id, modality,\"*.nii.gz\")) if '70s' in x or 'Ph2-Ax' in x]\n",
    "if modality == \"MRI-30d\":\n",
    "    save_path = P['mr30']['ven']\n",
    "elif modality == \"MRI-BL\":\n",
    "    save_path = P['mrbl']['ven']\n",
    "if len(paths)==1:\n",
    "    os.rename(paths[0], save_path)"
   ]
  },
  {
   "cell_type": "code",
   "execution_count": 180,
   "metadata": {
    "ExecuteTime": {
     "end_time": "2018-04-10T19:12:30.830094Z",
     "start_time": "2018-04-10T19:12:30.821098Z"
    },
    "collapsed": true,
    "hidden": true
   },
   "outputs": [],
   "source": [
    "paths = [x for x in glob.glob(join(target_dir, lesion_id, modality,\"*.nii.gz\")) \\\n",
    "         if ('pre' in x.lower() and 'post' not in x.lower()) or basename(x).startswith('Ax LAVA-XV')]\n",
    "if modality == \"MRI-30d\":\n",
    "    save_path = P['mr30']['pre']\n",
    "elif modality == \"MRI-BL\":\n",
    "    save_path = P['mrbl']['pre']\n",
    "if len(paths)==1:\n",
    "    os.rename(paths[0], save_path)"
   ]
  },
  {
   "cell_type": "code",
   "execution_count": 250,
   "metadata": {
    "ExecuteTime": {
     "end_time": "2018-04-20T16:15:03.527921Z",
     "start_time": "2018-04-20T16:15:03.388407Z"
    },
    "collapsed": true,
    "hidden": true
   },
   "outputs": [],
   "source": [
    "importlib.reload(lm)\n",
    "modality=\"MRI-30d\"\n",
    "for fn in glob.glob(join(target_dir,\"*\")):\n",
    "    lesion_id = basename(fn)\n",
    "    P = lm.get_paths_dict(lesion_id, target_dir)\n",
    "    paths = [x for x in glob.glob(join(target_dir, lesion_id, modality,\"*.nii.gz\")) \\\n",
    "             if '3min' in x or '3 min' in x or basename(x).startswith('Ph3-Ax')]\n",
    "    if modality == \"MRI-30d\":\n",
    "        save_path = P['mr30']['equ']\n",
    "    if modality == \"MRI-BL\":\n",
    "        save_path = P['mrbl']['equ']\n",
    "    if len(paths)==1:\n",
    "        os.rename(paths[0], save_path)"
   ]
  },
  {
   "cell_type": "code",
   "execution_count": 44,
   "metadata": {
    "ExecuteTime": {
     "end_time": "2018-04-20T03:45:54.570347Z",
     "start_time": "2018-04-20T03:45:54.565338Z"
    },
    "hidden": true
   },
   "outputs": [
    {
     "data": {
      "text/plain": [
       "60"
      ]
     },
     "execution_count": 44,
     "metadata": {},
     "output_type": "execute_result"
    }
   ],
   "source": [
    "glob.glob(join(target_dir,\"*\")).index('D:\\\\Lipiodol\\\\Data\\\\PK-17A')"
   ]
  },
  {
   "cell_type": "code",
   "execution_count": 78,
   "metadata": {
    "ExecuteTime": {
     "end_time": "2018-04-20T03:56:42.515997Z",
     "start_time": "2018-04-20T03:56:24.748771Z"
    },
    "collapsed": true,
    "hidden": true
   },
   "outputs": [],
   "source": [
    "importlib.reload(lm)\n",
    "for fn in glob.glob(join(target_dir,\"*\")):\n",
    "    lesion_id = basename(fn)\n",
    "    P = lm.get_paths_dict(lesion_id, target_dir)\n",
    "    #os.rename(join(target_dir, lesion_id, \"MRI-30d\", \"mri30d_pre.nii.gz\"), P['mr30']['pre'])\n",
    "    #os.rename(join(target_dir, lesion_id, \"MRI-30d\", \"mri30d_art.nii.gz\"), P['mr30']['art'])\n",
    "    mod='mrbl'\n",
    "    if not exists(P[mod]['sub']):\n",
    "        art, D = hf.nii_load(P[mod]['art'])\n",
    "        sub = art - hf.nii_load(P[mod]['pre'])[0]\n",
    "        hf.save_nii(sub, P[mod]['sub'], D)"
   ]
  },
  {
   "cell_type": "markdown",
   "metadata": {
    "heading_collapsed": true
   },
   "source": [
    "## Make liver mask"
   ]
  },
  {
   "cell_type": "code",
   "execution_count": 6,
   "metadata": {
    "ExecuteTime": {
     "end_time": "2018-04-10T14:26:31.535033Z",
     "start_time": "2018-04-10T14:26:20.047948Z"
    },
    "collapsed": true,
    "hidden": true
   },
   "outputs": [],
   "source": [
    "model = keras.models.load_model(join(config.Config().model_dir, \"mri_liver.hdf5\"))"
   ]
  },
  {
   "cell_type": "code",
   "execution_count": 185,
   "metadata": {
    "ExecuteTime": {
     "end_time": "2018-04-10T19:14:34.317721Z",
     "start_time": "2018-04-10T19:14:31.949777Z"
    },
    "collapsed": true,
    "hidden": true,
    "scrolled": true
   },
   "outputs": [],
   "source": [
    "lm.seg_liver_mri_from_path(P['mr30']['art'], P['mr30']['liver'], model, P['mr30']['tumor'])"
   ]
  },
  {
   "cell_type": "code",
   "execution_count": 227,
   "metadata": {
    "ExecuteTime": {
     "end_time": "2018-04-13T16:00:55.502548Z",
     "start_time": "2018-04-13T16:00:41.874785Z"
    },
    "collapsed": true,
    "hidden": true
   },
   "outputs": [],
   "source": [
    "model = keras.models.load_model(join(config.Config().model_dir, \"ct_liver.hdf5\"))"
   ]
  },
  {
   "cell_type": "code",
   "execution_count": null,
   "metadata": {
    "ExecuteTime": {
     "end_time": "2018-04-08T00:20:00.840712Z",
     "start_time": "2018-04-08T00:19:57.628754Z"
    },
    "collapsed": true,
    "hidden": true
   },
   "outputs": [],
   "source": [
    "#importlib.reload(lm)\n",
    "lm.seg_liver_ct(P['ct24'], P['ct24']['liver'], model, P['ct24']['tumor'])"
   ]
  },
  {
   "cell_type": "markdown",
   "metadata": {
    "ExecuteTime": {
     "end_time": "2018-04-10T14:38:24.065947Z",
     "start_time": "2018-04-10T14:38:24.063944Z"
    },
    "heading_collapsed": true
   },
   "source": [
    "## Segment Lipiodol"
   ]
  },
  {
   "cell_type": "code",
   "execution_count": 33,
   "metadata": {
    "ExecuteTime": {
     "end_time": "2018-05-17T22:13:44.621849Z",
     "start_time": "2018-05-17T22:13:31.598438Z"
    },
    "collapsed": true,
    "hidden": true
   },
   "outputs": [],
   "source": [
    "importlib.reload(masks)\n",
    "\n",
    "for fn in glob.glob(r\"Z:\\Sophie\\24hCT ROIs Threshold\\ROI_*.off\"):\n",
    "    masks.off2ids(fn, num_tumors=1, R=2.)"
   ]
  },
  {
   "cell_type": "code",
   "execution_count": 37,
   "metadata": {
    "ExecuteTime": {
     "end_time": "2018-05-17T22:15:28.393012Z",
     "start_time": "2018-05-17T22:14:56.718515Z"
    },
    "collapsed": true,
    "hidden": true
   },
   "outputs": [],
   "source": [
    "importlib.reload(masks)\n",
    "Masks = []\n",
    "for fn in glob.glob(r\"Z:\\Sophie\\24hCT ROIs Threshold\\ROI_*.ids\")[16:]:\n",
    "    lesion_id = fn[-9:-4]\n",
    "    if lesion_id == \"BM-04\":\n",
    "        lesion_id = \"BM-04B\"\n",
    "    elif lesion_id not in lesions:\n",
    "        lesion_id += \"A\"\n",
    "    P = lm.get_paths_dict(lesion_id, target_dir)\n",
    "    Masks.append(masks.get_mask(fn, img_path=P['ct24']['img'], overlaid=True))"
   ]
  },
  {
   "cell_type": "code",
   "execution_count": 41,
   "metadata": {
    "ExecuteTime": {
     "end_time": "2018-05-17T22:16:11.059825Z",
     "start_time": "2018-05-17T22:16:10.477182Z"
    },
    "collapsed": true,
    "hidden": true,
    "scrolled": true
   },
   "outputs": [],
   "source": [
    "meds = [np.percentile(M[M != 0], 99) for M in Masks]\n",
    "np.mean(meds)"
   ]
  },
  {
   "cell_type": "code",
   "execution_count": 36,
   "metadata": {
    "ExecuteTime": {
     "end_time": "2018-05-10T15:11:41.968530Z",
     "start_time": "2018-05-10T15:11:41.813020Z"
    },
    "hidden": true
   },
   "outputs": [
    {
     "data": {
      "image/png": "[encoded data removed]",
      "text/plain": [
       "<matplotlib.figure.Figure at 0x22d84205828>"
      ]
     },
     "metadata": {},
     "output_type": "display_data"
    }
   ],
   "source": [
    "plt.figure(figsize=(6,2), dpi=100)\n",
    "plt.hist(I[I > 0].flatten(), 40);\n",
    "plt.xlabel('Intensity (Hounsfield units)')\n",
    "plt.ylabel('Number of Voxels')\n",
    "sns.despine(top=True, right=True)"
   ]
  },
  {
   "cell_type": "code",
   "execution_count": 64,
   "metadata": {
    "ExecuteTime": {
     "end_time": "2018-05-07T16:46:51.957178Z",
     "start_time": "2018-05-07T16:46:51.953169Z"
    },
    "hidden": true,
    "scrolled": true
   },
   "outputs": [
    {
     "data": {
      "text/plain": [
       "75.0"
      ]
     },
     "execution_count": 64,
     "metadata": {},
     "output_type": "execute_result"
    }
   ],
   "source": [
    "np.median(list(cutoffs.values()))"
   ]
  },
  {
   "cell_type": "code",
   "execution_count": 42,
   "metadata": {
    "ExecuteTime": {
     "end_time": "2018-05-10T15:15:30.578803Z",
     "start_time": "2018-05-10T15:15:30.452416Z"
    },
    "hidden": true
   },
   "outputs": [
    {
     "data": {
      "image/png": "[encoded data removed]",
      "text/plain": [
       "<matplotlib.figure.Figure at 0x22d8083d2e8>"
      ]
     },
     "metadata": {},
     "output_type": "display_data"
    }
   ],
   "source": [
    "cutoffs.pop('PK-22')\n",
    "plt.figure(figsize=(8, 1), dpi=300)\n",
    "plt.plot(np.linspace(40,90,100), [0]*100, 'k-', lw=.5)\n",
    "plt.plot(list(cutoffs.values()), np.zeros(len(cutoffs)), '.', markersize=20, alpha=.9)\n",
    "plt.plot([82], [0], 'r.', markersize=20, alpha=.9)\n",
    "sns.despine(top=True, right=True, left=True, bottom=True)\n",
    "plt.yticks([]);\n",
    "plt.axes().spines['bottom'].set_position('center')"
   ]
  },
  {
   "cell_type": "markdown",
   "metadata": {
    "ExecuteTime": {
     "end_time": "2018-05-10T15:06:07.955882Z",
     "start_time": "2018-05-10T15:06:00.357758Z"
    },
    "collapsed": true,
    "hidden": true
   },
   "source": [
    "importlib.reload(lm)\n",
    "blct_dir = r\"D:\\Lipiodol\\CTBL Data\"\n",
    "cutoffs = {}\n",
    "for mask_fn in glob.glob(join(blct_dir, \"*.off\")):\n",
    "    path = splitext(mask_fn)[0]\n",
    "    lesion_id = basename(path)\n",
    "    I,D = hf.nii_load(path+\".nii.gz\")\n",
    "    M = masks.get_mask(path, D, I.shape)[0]\n",
    "    I = I*M/M.max()\n",
    "    cutoffs[lesion_id]=np.percentile(I[I != 0], 99)"
   ]
  },
  {
   "cell_type": "markdown",
   "metadata": {
    "ExecuteTime": {
     "end_time": "2018-04-13T16:02:03.227034Z",
     "start_time": "2018-04-13T16:01:56.961849Z"
    },
    "collapsed": true,
    "hidden": true
   },
   "source": [
    "ct_img, ct_dims = hf.dcm_load(join(target_dir, lesion_id, \"CTBL\"), True, True)\n",
    "hf.save_nii(ct_img, ctbl_path, ct_dims)\n",
    "lm.seg_liver_ct(ctbl_path, ctbl_liver_mask_path, model)\n",
    "masks.restrict_mask_to_largest(ctbl_tumor_mask_path, img_path=ctbl_path)\n",
    "A=masks.draw_mask(ctbl_liver_mask_path, ctbl_path, [0,200])\n",
    "A = skimage.morphology.grey.erosion(A)"
   ]
  },
  {
   "cell_type": "markdown",
   "metadata": {
    "ExecuteTime": {
     "end_time": "2018-04-13T16:04:18.076453Z",
     "start_time": "2018-04-13T16:04:18.066429Z"
    },
    "hidden": true
   },
   "source": [
    "np.percentile(A[A>0], 99.5)"
   ]
  },
  {
   "cell_type": "markdown",
   "metadata": {
    "ExecuteTime": {
     "end_time": "2018-04-13T14:42:51.292949Z",
     "start_time": "2018-04-13T14:42:49.297940Z"
    },
    "collapsed": true,
    "hidden": true
   },
   "source": [
    "masks.draw_mask(ct24_tumor_mask_path, ct24_path, [0,300]);"
   ]
  },
  {
   "cell_type": "code",
   "execution_count": null,
   "metadata": {
    "ExecuteTime": {
     "end_time": "2018-05-17T21:15:11.315968Z",
     "start_time": "2018-05-17T21:15:11.238763Z"
    },
    "collapsed": true,
    "hidden": true
   },
   "outputs": [],
   "source": [
    "importlib.reload(hf)\n",
    "ct_img, D = hf.dcm_load_special(join(target_dir, lesion_id, \"CT24h\"))\n",
    "hf.save_nii(ct_img, P['ct24']['img'], D)"
   ]
  },
  {
   "cell_type": "code",
   "execution_count": 50,
   "metadata": {
    "ExecuteTime": {
     "end_time": "2018-05-18T00:44:57.127730Z",
     "start_time": "2018-05-18T00:33:40.870969Z"
    },
    "collapsed": true,
    "hidden": true
   },
   "outputs": [],
   "source": [
    "importlib.reload(lm)\n",
    "for lesion_id in lesions:\n",
    "    P = lm.get_paths_dict(lesion_id, target_dir)\n",
    "    lm.seg_lipiodol(P, liplvls[1:])"
   ]
  },
  {
   "cell_type": "markdown",
   "metadata": {
    "heading_collapsed": true
   },
   "source": [
    "## Split masks of multiple tumors"
   ]
  },
  {
   "cell_type": "code",
   "execution_count": 98,
   "metadata": {
    "ExecuteTime": {
     "end_time": "2018-04-14T21:37:30.236051Z",
     "start_time": "2018-04-14T21:37:27.645827Z"
    },
    "collapsed": true,
    "hidden": true
   },
   "outputs": [],
   "source": [
    "importlib.reload(lm)\n",
    "lm.check_multi_tumors(lesion_id, target_dir)\n",
    "lm.restrict_masks(lesion_id, target_dir)"
   ]
  },
  {
   "cell_type": "code",
   "execution_count": 206,
   "metadata": {
    "ExecuteTime": {
     "end_time": "2018-04-20T15:11:34.668811Z",
     "start_time": "2018-04-20T15:11:09.339228Z"
    },
    "collapsed": true,
    "hidden": true
   },
   "outputs": [],
   "source": [
    "#Identify multi-tumor lesions\n",
    "importlib.reload(lm)\n",
    "for fn in glob.glob(join(target_dir,\"*\")):\n",
    "    lesion_id = basename(fn)\n",
    "    lm.check_multi_tumors(lesion_id, target_dir)\n",
    "    lm.restrict_masks(lesion_id, target_dir)"
   ]
  },
  {
   "cell_type": "markdown",
   "metadata": {
    "ExecuteTime": {
     "end_time": "2018-04-07T23:35:28.261079Z",
     "start_time": "2018-04-07T23:35:27.763091Z"
    },
    "hidden": true
   },
   "source": [
    "importlib.reload(masks)\n",
    "for fn in glob.glob(join(target_dir,\"*\",\"masks\", \"ZZbackup*\")):\n",
    "    os.rename(fn, join(dirname(fn), basename(fn)[8:]))"
   ]
  },
  {
   "cell_type": "markdown",
   "metadata": {
    "ExecuteTime": {
     "end_time": "2018-04-07T20:30:01.597055Z",
     "start_time": "2018-04-07T20:30:00.743825Z"
    },
    "hidden": true
   },
   "source": [
    "img,_ = hf.nii_load(mribl_art_path)\n",
    "mask,_ = masks.get_mask(mribl_tumor_mask_path, img_path=mribl_art_path)"
   ]
  },
  {
   "cell_type": "markdown",
   "metadata": {
    "ExecuteTime": {
     "end_time": "2018-04-07T20:30:02.058282Z",
     "start_time": "2018-04-07T20:30:01.649194Z"
    },
    "hidden": true
   },
   "source": [
    "hf.draw_slices(hf.crop_nonzero(mask*img)[0])"
   ]
  },
  {
   "cell_type": "markdown",
   "metadata": {},
   "source": [
    "## qEASL"
   ]
  },
  {
   "cell_type": "code",
   "execution_count": 133,
   "metadata": {
    "ExecuteTime": {
     "end_time": "2018-04-23T22:01:13.158156Z",
     "start_time": "2018-04-23T22:01:12.710076Z"
    },
    "collapsed": true
   },
   "outputs": [],
   "source": [
    "df = pd.read_excel(\"D:\\\\Lipiodol\\\\qEASL.xlsx\", index_col=0)\n",
    "\n",
    "target_dir = \"D:\\\\Lipiodol\\\\Data\"\n",
    "for fn in glob.glob(join(target_dir,\"*\")):\n",
    "    lesion_id = basename(fn)\n",
    "    patient_id = lesion_id[:5]\n",
    "    P = lm.get_paths_dict(lesion_id, target_dir)\n",
    "    mod='mrbl'\n",
    "    if not exists(P[mod]['nec']+\".ids\") and not exists(P[mod]['enh']+\".ids\"):\n",
    "        threshold = df.loc[patient_id, \"BL Threshold\"]\n",
    "        lmet.seg_tumor_from_threshold(P[mod]['art'], P[mod]['pre'],\n",
    "                                      threshold, P[mod]['tumor'],\n",
    "                                      P[mod]['enh'], P[mod]['nec'])\n",
    "        threshold = df.loc[patient_id, \"30d Threshold\"]\n",
    "        mod='mr30'\n",
    "        lmet.seg_tumor_from_threshold(P[mod]['art'], P[mod]['pre'],\n",
    "                                      threshold, P[mod]['tumor'],\n",
    "                                      P[mod]['enh'], P[mod]['nec'])"
   ]
  },
  {
   "cell_type": "code",
   "execution_count": 365,
   "metadata": {
    "ExecuteTime": {
     "end_time": "2018-04-24T03:14:00.050773Z",
     "start_time": "2018-04-24T03:13:45.151280Z"
    },
    "collapsed": true
   },
   "outputs": [],
   "source": [
    "df = pd.read_excel(\"D:\\\\Lipiodol\\\\qEASL.xlsx\", index_col=0)\n",
    "for fn in lesions[13:17]:\n",
    "    lesion_id = basename(fn)\n",
    "    P = lm.get_paths_dict(lesion_id, target_dir)\n",
    "    mod='mrbl'\n",
    "    lmet.seg_tumor_from_threshold(P[mod]['art'], P[mod]['pre'],\n",
    "                                  df.loc[lesion_id, \"BL Threshold\"], P[mod]['tumor'],\n",
    "                                  P[mod]['enh'], P[mod]['nec'])\n",
    "    mod='mr30'\n",
    "    lmet.seg_tumor_from_threshold(P[mod]['art'], P[mod]['pre'],\n",
    "                                  df.loc[lesion_id, \"30d Threshold\"], P[mod]['tumor'],\n",
    "                                  P[mod]['enh'], P[mod]['nec'])"
   ]
  },
  {
   "cell_type": "code",
   "execution_count": null,
   "metadata": {
    "collapsed": true
   },
   "outputs": [],
   "source": []
  },
  {
   "cell_type": "code",
   "execution_count": 49,
   "metadata": {
    "ExecuteTime": {
     "end_time": "2018-05-07T15:07:42.851954Z",
     "start_time": "2018-05-07T15:07:42.846939Z"
    },
    "collapsed": true
   },
   "outputs": [],
   "source": [
    "#df = pd.read_excel(\"D:\\\\Lipiodol\\\\qEASL.xlsx\", index_col=0)\n",
    "#target_dir = \"D:\\\\Lipiodol\\\\Data\"\n",
    "lesion_id = \"BM-30A\".upper()\n",
    "importlib.reload(lm)\n",
    "P = lm.get_paths_dict(lesion_id, target_dir)"
   ]
  },
  {
   "cell_type": "code",
   "execution_count": 50,
   "metadata": {
    "ExecuteTime": {
     "end_time": "2018-05-07T15:07:43.519856Z",
     "start_time": "2018-05-07T15:07:42.990323Z"
    },
    "scrolled": true
   },
   "outputs": [
    {
     "data": {
      "text/plain": [
       "6.692827729701996"
      ]
     },
     "execution_count": 50,
     "metadata": {},
     "output_type": "execute_result"
    }
   ],
   "source": [
    "mod = 'mrbl'\n",
    "mask,D = masks.get_mask(P[mod]['tumor'], img_path=P[mod]['art'])\n",
    "mask.sum()/mask.max()*np.product(D) / 1000"
   ]
  },
  {
   "cell_type": "code",
   "execution_count": 51,
   "metadata": {
    "ExecuteTime": {
     "end_time": "2018-05-07T15:07:44.080946Z",
     "start_time": "2018-05-07T15:07:43.565977Z"
    },
    "scrolled": false
   },
   "outputs": [
    {
     "data": {
      "text/plain": [
       "5.892182105541229"
      ]
     },
     "execution_count": 51,
     "metadata": {},
     "output_type": "execute_result"
    }
   ],
   "source": [
    "mod = 'mr30'\n",
    "mask,D = masks.get_mask(P[mod]['tumor'], img_path=P[mod]['art'])\n",
    "mask.sum()/mask.max()*np.product(D) / 1000"
   ]
  },
  {
   "cell_type": "code",
   "execution_count": 53,
   "metadata": {
    "ExecuteTime": {
     "end_time": "2018-05-07T15:09:52.094627Z",
     "start_time": "2018-05-07T15:09:51.438568Z"
    }
   },
   "outputs": [
    {
     "data": {
      "text/plain": [
       "6.359821243286133"
      ]
     },
     "execution_count": 53,
     "metadata": {},
     "output_type": "execute_result"
    }
   ],
   "source": [
    "mod = 'ct24'\n",
    "mask,D = masks.get_mask(P[mod]['tumor'], img_path=P[mod]['img'])\n",
    "mask.sum()/mask.max()*np.product(D) / 1000"
   ]
  },
  {
   "cell_type": "code",
   "execution_count": 218,
   "metadata": {
    "ExecuteTime": {
     "end_time": "2018-05-01T21:44:43.995094Z",
     "start_time": "2018-05-01T21:44:43.782636Z"
    },
    "collapsed": true
   },
   "outputs": [],
   "source": [
    "for fn in glob.glob(P['ct24Tx']['mrbl']['enh']+\"*\"):\n",
    "    os.remove(fn)"
   ]
  },
  {
   "cell_type": "code",
   "execution_count": 118,
   "metadata": {
    "ExecuteTime": {
     "end_time": "2018-05-03T15:38:35.735763Z",
     "start_time": "2018-05-03T15:38:31.693180Z"
    },
    "scrolled": true
   },
   "outputs": [
    {
     "data": {
      "image/png": "[encoded data removed]",
      "text/plain": [
       "<matplotlib.figure.Figure at 0x22c80285438>"
      ]
     },
     "metadata": {},
     "output_type": "display_data"
    }
   ],
   "source": [
    "df = pd.read_excel(\"D:\\\\Lipiodol\\\\qEASL.xlsx\", index_col=0)\n",
    "importlib.reload(masks)\n",
    "threshold = df.loc[lesion_id, \"BL Threshold\"]\n",
    "mod='mrbl'\n",
    "lmet.seg_tumor_from_threshold(P[mod]['art'], P[mod]['pre'],\n",
    "                              threshold, P[mod]['tumor'],\n",
    "                              P[mod]['enh'], P[mod]['nec'])\n",
    "if exists(P[mod]['enh']+\".off\"):\n",
    "    masks.draw_mask(P[mod]['enh'], P[mod]['art'], limit_mask_path=P[mod]['tumor']);"
   ]
  },
  {
   "cell_type": "code",
   "execution_count": 119,
   "metadata": {
    "ExecuteTime": {
     "end_time": "2018-05-03T15:38:36.518134Z",
     "start_time": "2018-05-03T15:38:35.754812Z"
    }
   },
   "outputs": [
    {
     "data": {
      "image/png": "[encoded data removed]",
      "text/plain": [
       "<matplotlib.figure.Figure at 0x22c817cf588>"
      ]
     },
     "metadata": {},
     "output_type": "display_data"
    }
   ],
   "source": [
    "mod='mrbl'\n",
    "if exists(P[mod]['nec']+\".off\"):\n",
    "    masks.draw_mask(P[mod]['nec'], P[mod]['art'], limit_mask_path=P[mod]['tumor']);"
   ]
  },
  {
   "cell_type": "code",
   "execution_count": 125,
   "metadata": {
    "ExecuteTime": {
     "end_time": "2018-05-03T15:39:50.838034Z",
     "start_time": "2018-05-03T15:39:47.725647Z"
    }
   },
   "outputs": [
    {
     "data": {
      "image/png": "[encoded data removed]",
      "text/plain": [
       "<matplotlib.figure.Figure at 0x22c8036eac8>"
      ]
     },
     "metadata": {},
     "output_type": "display_data"
    }
   ],
   "source": [
    "df = pd.read_excel(\"D:\\\\Lipiodol\\\\qEASL.xlsx\", index_col=0)\n",
    "importlib.reload(masks)\n",
    "threshold = df.loc[lesion_id, \"30d Threshold\"]\n",
    "mod='mr30'\n",
    "lmet.seg_tumor_from_threshold(P[mod]['art'], P[mod]['pre'],\n",
    "                              threshold, P[mod]['tumor'],\n",
    "                              P[mod]['enh'], P[mod]['nec'])\n",
    "if exists(P[mod]['enh']+\".off\"):\n",
    "    masks.draw_mask(P[mod]['enh'], P[mod]['art'], limit_mask_path=P[mod]['tumor']);"
   ]
  },
  {
   "cell_type": "code",
   "execution_count": 126,
   "metadata": {
    "ExecuteTime": {
     "end_time": "2018-05-03T15:39:51.540272Z",
     "start_time": "2018-05-03T15:39:50.856096Z"
    }
   },
   "outputs": [
    {
     "data": {
      "image/png": "[encoded data removed]",
      "text/plain": [
       "<matplotlib.figure.Figure at 0x22c8d6dbfd0>"
      ]
     },
     "metadata": {},
     "output_type": "display_data"
    }
   ],
   "source": [
    "mod='mr30'\n",
    "if exists(P[mod]['nec']+\".off\"):\n",
    "    masks.draw_mask(P[mod]['nec'], P[mod]['art'], limit_mask_path=P[mod]['tumor']);"
   ]
  },
  {
   "cell_type": "code",
   "execution_count": 127,
   "metadata": {
    "ExecuteTime": {
     "end_time": "2018-05-03T15:39:57.492146Z",
     "start_time": "2018-05-03T15:39:51.558323Z"
    },
    "collapsed": true
   },
   "outputs": [],
   "source": [
    "importlib.reload(lm)\n",
    "P = lm.get_paths_dict(lesion_id, target_dir)\n",
    "M = masks.get_mask(P['ct24Tx']['crop']['tumor'])[0]\n",
    "tumor_len = int(np.sum(M/M.max())**(1/3))\n",
    "R = (tumor_len / 13)**.5\n",
    "#R=1.\n",
    "lm.reg_to_ct24(lesion_id, target_dir, D=[R,R,R*2.5], padding=0.2)"
   ]
  },
  {
   "cell_type": "code",
   "execution_count": 128,
   "metadata": {
    "ExecuteTime": {
     "end_time": "2018-05-03T15:39:59.818728Z",
     "start_time": "2018-05-03T15:39:57.509898Z"
    },
    "scrolled": false
   },
   "outputs": [
    {
     "data": {
      "image/png": "[encoded data removed]",
      "text/plain": [
       "<matplotlib.figure.Figure at 0x22c800e1c50>"
      ]
     },
     "metadata": {},
     "output_type": "display_data"
    }
   ],
   "source": [
    "importlib.reload(lvis)\n",
    "save_dir = r\"C:\\Users\\Clinton\\Box\\FOR CLINTON BOX FOLDER\\Lesion Gallery\\Registered Imgs\"\n",
    "lvis.draw_reg_seq(lesion_id, target_dir, save_dir)"
   ]
  },
  {
   "cell_type": "code",
   "execution_count": 129,
   "metadata": {
    "ExecuteTime": {
     "end_time": "2018-05-03T15:40:00.332011Z",
     "start_time": "2018-05-03T15:39:59.837077Z"
    },
    "scrolled": false
   },
   "outputs": [
    {
     "data": {
      "text/plain": [
       "0.13428666039725812"
      ]
     },
     "execution_count": 129,
     "metadata": {},
     "output_type": "execute_result"
    }
   ],
   "source": [
    "lan.get_qEASL(lesion_id, target_dir)"
   ]
  },
  {
   "cell_type": "code",
   "execution_count": null,
   "metadata": {
    "collapsed": true
   },
   "outputs": [],
   "source": []
  },
  {
   "cell_type": "code",
   "execution_count": null,
   "metadata": {
    "ExecuteTime": {
     "end_time": "2018-04-23T19:54:32.582809Z",
     "start_time": "2018-04-23T19:54:31.846496Z"
    },
    "collapsed": true
   },
   "outputs": [],
   "source": [
    "importlib.reload(hf)\n",
    "mod='mrbl'\n",
    "SUB=masks.crop_img_to_mask_vicinity(P[mod]['sub'], P[mod]['tumor'], .3)\n",
    "#PRE=masks.crop_img_to_mask_vicinity(P[mod]['pre'], P[mod]['tumor'], .1)\n",
    "hf.draw_slices(SUB)"
   ]
  },
  {
   "cell_type": "code",
   "execution_count": null,
   "metadata": {
    "ExecuteTime": {
     "end_time": "2018-04-21T19:31:13.297047Z",
     "start_time": "2018-04-21T19:31:12.326397Z"
    },
    "collapsed": true
   },
   "outputs": [],
   "source": [
    "CT=masks.crop_img_to_mask_vicinity(P['ct24']['img'], P['ct24']['tumor'], .5)\n",
    "CT=tr.apply_window(CT)\n",
    "hf.draw_slices(CT)"
   ]
  },
  {
   "cell_type": "code",
   "execution_count": null,
   "metadata": {
    "ExecuteTime": {
     "end_time": "2018-04-20T21:22:45.814173Z",
     "start_time": "2018-04-20T21:22:45.249211Z"
    },
    "collapsed": true
   },
   "outputs": [],
   "source": [
    "# plot subtraction\n",
    "mod='mr30'\n",
    "SUB=masks.crop_img_to_mask_vicinity(P[mod]['sub'], P[mod]['tumor'], .5)\n",
    "hf.draw_slices(SUB)"
   ]
  },
  {
   "cell_type": "code",
   "execution_count": null,
   "metadata": {
    "ExecuteTime": {
     "end_time": "2018-04-17T19:10:34.440929Z",
     "start_time": "2018-04-17T19:10:32.393082Z"
    },
    "collapsed": true
   },
   "outputs": [],
   "source": [
    "importlib.reload(masks)\n",
    "I=masks.draw_mask(P['ct24']['tumor'], P['ct24']['img'], [0,300])"
   ]
  },
  {
   "cell_type": "code",
   "execution_count": 402,
   "metadata": {
    "ExecuteTime": {
     "end_time": "2018-04-20T20:06:50.116881Z",
     "start_time": "2018-04-20T20:06:46.320661Z"
    },
    "collapsed": true
   },
   "outputs": [],
   "source": [
    "#qEASLy\n",
    "importlib.reload(lmet)\n",
    "mod='mrbl'\n",
    "threshold1=lmet.segment_tumor_from_paths(P[mod]['art'], P[mod]['pre'],\n",
    "                              P[mod]['liver'], P[mod]['tumor'],\n",
    "                              P[mod]['enh'], P[mod]['nec'])\n",
    "mod='mr30'\n",
    "threshold2=lmet.segment_tumor_from_paths(P[mod]['art'], P[mod]['pre'],\n",
    "                              P[mod]['liver'], P[mod]['tumor'],\n",
    "                              P[mod]['enh'], P[mod]['nec'])"
   ]
  },
  {
   "cell_type": "markdown",
   "metadata": {
    "heading_collapsed": true
   },
   "source": [
    "## Non-rigid reg"
   ]
  },
  {
   "cell_type": "code",
   "execution_count": 5,
   "metadata": {
    "ExecuteTime": {
     "end_time": "2018-04-25T18:33:40.140787Z",
     "start_time": "2018-04-25T18:33:39.885548Z"
    },
    "collapsed": true,
    "hidden": true
   },
   "outputs": [],
   "source": [
    "tumor_lens = {}\n",
    "for fn in glob.glob(join(target_dir,\"*\")):\n",
    "    lesion_id = basename(fn)\n",
    "    P = lm.get_paths_dict(lesion_id, target_dir)\n",
    "    M = masks.get_mask(P['ct24Tx']['crop']['tumor'])[0]\n",
    "    tumor_lens[lesion_id] = int(np.sum(M/M.max())**(1/3))\n",
    "intercept = np.percentile(list(tumor_lens.values()), 20)"
   ]
  },
  {
   "cell_type": "code",
   "execution_count": null,
   "metadata": {
    "ExecuteTime": {
     "end_time": "2018-04-24T03:10:04.513063Z",
     "start_time": "2018-04-24T03:10:04.508052Z"
    },
    "collapsed": true,
    "hidden": true
   },
   "outputs": [],
   "source": [
    "lesions.index(\"BM-06\")"
   ]
  },
  {
   "cell_type": "code",
   "execution_count": null,
   "metadata": {
    "ExecuteTime": {
     "end_time": "2018-04-25T19:06:29.460539Z",
     "start_time": "2018-04-25T19:06:29.454523Z"
    },
    "collapsed": true,
    "hidden": true
   },
   "outputs": [],
   "source": [
    "intercept"
   ]
  },
  {
   "cell_type": "code",
   "execution_count": null,
   "metadata": {
    "ExecuteTime": {
     "end_time": "2018-04-25T22:25:22.589091Z",
     "start_time": "2018-04-25T22:25:15.889490Z"
    },
    "collapsed": true,
    "hidden": true
   },
   "outputs": [],
   "source": [
    "importlib.reload(lm)\n",
    "#lesion_id = \"BM-12\"\n",
    "\n",
    "for fn in lesions[57:]:\n",
    "    lesion_id = basename(fn)\n",
    "    print(lesion_id)\n",
    "    P = lm.get_paths_dict(lesion_id, target_dir)\n",
    "    M = masks.get_mask(P['ct24Tx']['crop']['tumor'])[0]\n",
    "    tumor_len = int(np.sum(M/M.max())**(1/3))\n",
    "    R = (tumor_len / intercept)**.5\n",
    "    lm.reg_to_ct24(lesion_id, target_dir, D=[R,R,R*2.5])"
   ]
  },
  {
   "cell_type": "code",
   "execution_count": 18,
   "metadata": {
    "ExecuteTime": {
     "end_time": "2018-04-30T18:35:38.735181Z",
     "start_time": "2018-04-30T18:35:38.652840Z"
    },
    "collapsed": true,
    "hidden": true
   },
   "outputs": [],
   "source": [
    "master_df = pd.read_excel(r\"D:\\Lipiodol\\MASTER SOPHIE.xlsx\", \"Lesions analyzed\", index_col=\"Lesion_ID\")"
   ]
  },
  {
   "cell_type": "code",
   "execution_count": null,
   "metadata": {
    "ExecuteTime": {
     "end_time": "2018-04-30T18:40:52.892833Z",
     "start_time": "2018-04-30T18:38:56.666622Z"
    },
    "collapsed": true,
    "hidden": true
   },
   "outputs": [],
   "source": [
    "importlib.reload(lm)\n",
    "for lesion_id in lesions:\n",
    "    P = lm.get_paths_dict(lesion_id, target_dir) \n",
    "    if master_df.loc[lesion_id, \"0=well delineated, 1=infiltrative\"] == 0 and not exists(P['ball']['ct24']['img']):\n",
    "        print(lesion_id)\n",
    "        lm.spherize(lesion_id, target_dir)"
   ]
  },
  {
   "cell_type": "code",
   "execution_count": null,
   "metadata": {
    "ExecuteTime": {
     "end_time": "2018-04-22T03:54:57.199664Z",
     "start_time": "2018-04-22T02:59:22.183833Z"
    },
    "collapsed": true,
    "hidden": true
   },
   "outputs": [],
   "source": [
    "importlib.reload(lm)\n",
    "for fn in glob.glob(join(target_dir,\"*\")):\n",
    "    lesion_id = basename(fn)\n",
    "    print(lesion_id)\n",
    "    lm.reg_to_modality(lesion_id, target_dir)"
   ]
  },
  {
   "cell_type": "code",
   "execution_count": 230,
   "metadata": {
    "ExecuteTime": {
     "end_time": "2018-04-20T15:46:51.024541Z",
     "start_time": "2018-04-20T15:46:51.019530Z"
    },
    "collapsed": true,
    "hidden": true
   },
   "outputs": [],
   "source": [
    "importlib.reload(lm)\n",
    "lesion_id = \"BM-07\"\n",
    "P = lm.get_paths_dict(lesion_id, target_dir)"
   ]
  },
  {
   "cell_type": "markdown",
   "metadata": {
    "ExecuteTime": {
     "end_time": "2018-04-23T16:10:29.580178Z",
     "start_time": "2018-04-23T16:10:29.577162Z"
    },
    "heading_collapsed": true,
    "hidden": true
   },
   "source": [
    "### Rename folders semi-automatically"
   ]
  },
  {
   "cell_type": "code",
   "execution_count": 281,
   "metadata": {
    "ExecuteTime": {
     "end_time": "2018-04-20T16:53:09.888228Z",
     "start_time": "2018-04-20T16:53:09.885218Z"
    },
    "collapsed": true,
    "hidden": true
   },
   "outputs": [],
   "source": [
    "def sort_by_series_num(arr):\n",
    "    return sorted(arr, key=lambda x: int(x[x.rfind(\"_\")+1:x.find('.')]))"
   ]
  },
  {
   "cell_type": "code",
   "execution_count": 272,
   "metadata": {
    "ExecuteTime": {
     "end_time": "2018-04-20T16:48:01.732829Z",
     "start_time": "2018-04-20T16:48:01.725782Z"
    },
    "collapsed": true,
    "hidden": true
   },
   "outputs": [],
   "source": [
    "for fn in glob.glob(join(target_dir,\"*\"))[42:]:\n",
    "    lesion_id = basename(fn)\n",
    "    P = lm.get_paths_dict(lesion_id, target_dir)\n",
    "\n",
    "    DCE = [x for x in os.listdir(join(fn, \"MRI-BL\")) if (\"vibe\" in x or \"dynamic\" in x) and \"post\" in x and x.endswith('.gz')]\n",
    "    break"
   ]
  },
  {
   "cell_type": "code",
   "execution_count": null,
   "metadata": {
    "ExecuteTime": {
     "end_time": "2018-04-20T22:11:01.428751Z",
     "start_time": "2018-04-20T22:11:01.410696Z"
    },
    "collapsed": true,
    "hidden": true
   },
   "outputs": [],
   "source": [
    "for fn in glob.glob(join(target_dir,\"*\"))[42:]:\n",
    "    lesion_id = basename(fn)\n",
    "    P = lm.get_paths_dict(lesion_id, target_dir)\n",
    "    mod=\"MRI-30d\"\n",
    "\n",
    "    DCE = [x for x in os.listdir(join(fn, mod)) if (\"vibe\" in x or \"post\" in x) and x.endswith('.gz')]\n",
    "    if len(DCE) > 0 and not exists(join(fn, mod, \"mr30_equ.nii.gz\")):\n",
    "        DCE = sort_by_series_num([x for x in DCE if \"min\" not in x])\n",
    "\n",
    "        print(fn, DCE[-1], DCE[0], sep=\"\\n\") #sort_by_series_num(PRE)[-1], \n",
    "        correct = input()\n",
    "        if correct == \"0\":\n",
    "            #os.rename(join(accnum, PRE[0]), join(accnum, \"T1_BL\"))\n",
    "            os.rename(join(fn, mod, DCE[-1]), join(fn, mod, \"mr30_equ.nii.gz\"))\n",
    "        elif correct == \"q\":\n",
    "            break\n",
    "        else:\n",
    "            continue"
   ]
  },
  {
   "cell_type": "markdown",
   "metadata": {
    "hidden": true
   },
   "source": [
    "### Misc visualization"
   ]
  },
  {
   "cell_type": "code",
   "execution_count": 417,
   "metadata": {
    "ExecuteTime": {
     "end_time": "2018-04-24T03:57:57.224973Z",
     "start_time": "2018-04-24T03:57:54.203236Z"
    },
    "hidden": true
   },
   "outputs": [
    {
     "data": {
      "image/png": "[encoded data removed]",
      "text/plain": [
       "<matplotlib.figure.Figure at 0x25da09a7f98>"
      ]
     },
     "metadata": {},
     "output_type": "display_data"
    }
   ],
   "source": [
    "importlib.reload(lvis)\n",
    "save_dir = r\"C:\\Users\\Clinton\\Box\\FOR CLINTON BOX FOLDER\\Lesion Gallery\\Registered Imgs\"\n",
    "lesion_id = \"BM-34\"\n",
    "lvis.draw_reg_seq(lesion_id, target_dir, save_dir)"
   ]
  },
  {
   "cell_type": "code",
   "execution_count": 14,
   "metadata": {
    "ExecuteTime": {
     "end_time": "2018-04-25T22:24:57.957748Z",
     "start_time": "2018-04-25T22:24:57.952736Z"
    },
    "hidden": true
   },
   "outputs": [
    {
     "data": {
      "text/plain": [
       "57"
      ]
     },
     "execution_count": 14,
     "metadata": {},
     "output_type": "execute_result"
    }
   ],
   "source": [
    "lesions.index('PK-24')"
   ]
  },
  {
   "cell_type": "code",
   "execution_count": 332,
   "metadata": {
    "ExecuteTime": {
     "end_time": "2018-04-24T01:49:10.365440Z",
     "start_time": "2018-04-24T01:49:10.361457Z"
    },
    "collapsed": true,
    "hidden": true
   },
   "outputs": [],
   "source": [
    "P = lm.get_paths_dict(lesion_id, target_dir)"
   ]
  },
  {
   "cell_type": "code",
   "execution_count": null,
   "metadata": {
    "ExecuteTime": {
     "end_time": "2018-04-24T03:58:10.555788Z",
     "start_time": "2018-04-24T03:58:04.860362Z"
    },
    "collapsed": true,
    "hidden": true
   },
   "outputs": [],
   "source": [
    "importlib.reload(lvis)\n",
    "#save_dir = r\"D:\\Lipiodol\\Results\\enh-masks\"\n",
    "save_dir = r\"C:\\Users\\Clinton\\Box\\FOR CLINTON BOX FOLDER\\Lesion Gallery\\qEASL output\"\n",
    "#lesion_id = \"PK-01E\"\n",
    "for fn in lesions[13:17]:\n",
    "    lesion_id = \"BM-34\"#basename(fn)#\"PK-01B\"\n",
    "    lvis.draw_mrseq_with_mask(lesion_id, target_dir, save_dir, \"mrbl\")\n",
    "    lvis.draw_mrseq_with_mask(lesion_id, target_dir, save_dir, \"mr30\")"
   ]
  },
  {
   "cell_type": "code",
   "execution_count": null,
   "metadata": {
    "ExecuteTime": {
     "end_time": "2018-04-24T03:50:25.683637Z",
     "start_time": "2018-04-24T03:50:20.206062Z"
    },
    "collapsed": true,
    "hidden": true
   },
   "outputs": [],
   "source": [
    "importlib.reload(lvis)\n",
    "#save_dir = r\"D:\\Lipiodol\\Results\\reg-seq\"\n",
    "save_dir = r\"C:\\Users\\Clinton\\Box\\FOR CLINTON BOX FOLDER\\Lesion Gallery\\Registered Imgs\"\n",
    "if not exists(save_dir):\n",
    "    os.makedirs(save_dir)\n",
    "for fn in lesions[13:17]:\n",
    "    lesion_id = \"BM-02\"#\"PK-01B\"\n",
    "    print(lesion_id)\n",
    "    #r\"D:\\Lipiodol\\Results\\enh-masks\"\n",
    "    lvis.draw_reg_seq(lesion_id, target_dir, save_dir)"
   ]
  },
  {
   "cell_type": "code",
   "execution_count": null,
   "metadata": {
    "ExecuteTime": {
     "end_time": "2018-04-21T03:24:00.082128Z",
     "start_time": "2018-04-21T03:18:02.342259Z"
    },
    "collapsed": true,
    "hidden": true
   },
   "outputs": [],
   "source": [
    "importlib.reload(lvis)\n",
    "for fn in glob.glob(join(target_dir,\"*\")):\n",
    "    lesion_id = basename(fn)\n",
    "    try:\n",
    "        lvis.draw_sub_and_depo(lesion_id, target_dir, \"D:\\\\Lipiodol\\\\Results\\\\subs-ct\", include_FU=True)\n",
    "    except:\n",
    "        print(lesion_id)\n",
    "        continue"
   ]
  },
  {
   "cell_type": "markdown",
   "metadata": {
    "heading_collapsed": true
   },
   "source": [
    "# Extra"
   ]
  },
  {
   "cell_type": "markdown",
   "metadata": {
    "heading_collapsed": true,
    "hidden": true
   },
   "source": [
    "### Compose with rotation"
   ]
  },
  {
   "cell_type": "code",
   "execution_count": 191,
   "metadata": {
    "collapsed": true,
    "hidden": true
   },
   "outputs": [],
   "source": [
    "mribl_liver_mask_path = join(target_dir, lesion_id, \"liver bl final.ids\")\n",
    "ct24_liver_mask_path = glob.glob(join(target_dir, lesion_id, \"wholeliver_24hCT*.ids\"))[0]"
   ]
  },
  {
   "cell_type": "code",
   "execution_count": null,
   "metadata": {
    "collapsed": true,
    "hidden": true
   },
   "outputs": [],
   "source": [
    "mribl_ct24_xform, ct24_tumor, mribl_tumor, mribl_ct24_crops = full_reg_masks(ct24_tumor_mask_path, ct24_path, mribl_tumor_mask_path, mribl_art_path)"
   ]
  },
  {
   "cell_type": "code",
   "execution_count": null,
   "metadata": {
    "collapsed": true,
    "hidden": true
   },
   "outputs": [],
   "source": []
  },
  {
   "cell_type": "code",
   "execution_count": null,
   "metadata": {
    "collapsed": true,
    "hidden": true
   },
   "outputs": [],
   "source": [
    "# BL MRI to 24h CT\n",
    "vec_field = lm.reg_masks(ct_tumor_mask_path, blmri_tumor_mask_path)"
   ]
  },
  {
   "cell_type": "code",
   "execution_count": null,
   "metadata": {
    "collapsed": true,
    "hidden": true
   },
   "outputs": [],
   "source": [
    "mribl_enh_mask = reg.apply_field(vec_field)"
   ]
  },
  {
   "cell_type": "code",
   "execution_count": null,
   "metadata": {
    "collapsed": true,
    "hidden": true
   },
   "outputs": [],
   "source": [
    "ct24_lip = lm.seg_lipiodol()"
   ]
  },
  {
   "cell_type": "code",
   "execution_count": null,
   "metadata": {
    "collapsed": true,
    "hidden": true
   },
   "outputs": [],
   "source": [
    "reg.reg_sitk(ct24_lip, vec_field)"
   ]
  },
  {
   "cell_type": "code",
   "execution_count": 114,
   "metadata": {
    "collapsed": true,
    "hidden": true
   },
   "outputs": [],
   "source": [
    "mri_dcm_paths = [x for x in glob.glob(join(target_dir, '*', 'MRI-BL', '*20s*')) if '.nii' not in x]\n",
    "mri_dcm_paths"
   ]
  },
  {
   "cell_type": "code",
   "execution_count": null,
   "metadata": {
    "collapsed": true,
    "hidden": true
   },
   "outputs": [],
   "source": [
    "path_dict = {}\n",
    "lesion_id = '04'\n",
    "for path in glob.glob(join(target_dir, lesion_id, \"MRI-BL\",\"*\",\"*\")):\n",
    "    header = hf.dcm_load_header(path)\n",
    "    if len(header) > 0:\n",
    "        series_descript = header[0][('0008', '103e')].value\n",
    "        path_dict[path] = series_descript\n",
    "        series_descript = series_descript.replace(\"/\",\"-\")\n",
    "        os.rename(path, join(target_dir,lesion_id, \"MRI-BL\", series_descript))"
   ]
  },
  {
   "cell_type": "code",
   "execution_count": null,
   "metadata": {
    "collapsed": true,
    "hidden": true
   },
   "outputs": [],
   "source": []
  },
  {
   "cell_type": "code",
   "execution_count": 499,
   "metadata": {
    "collapsed": true,
    "hidden": true
   },
   "outputs": [],
   "source": [
    "for path in glob.glob(join(target_dir, \"*\", \"masks\",\"*final*\")):\n",
    "    if not exists(path.replace(\" final\", \"\")):\n",
    "        os.rename(path, path.replace(\" final\", \"\"))"
   ]
  },
  {
   "cell_type": "markdown",
   "metadata": {
    "heading_collapsed": true,
    "hidden": true
   },
   "source": [
    "### Colored Dicoms"
   ]
  },
  {
   "cell_type": "code",
   "execution_count": 77,
   "metadata": {
    "ExecuteTime": {
     "end_time": "2018-05-11T04:09:03.097243Z",
     "start_time": "2018-05-11T04:09:00.029936Z"
    },
    "collapsed": true,
    "hidden": true,
    "scrolled": true
   },
   "outputs": [],
   "source": [
    "L = [\"BM-07\"]\n",
    "for lesion_id in L: #\n",
    "    P = lm.get_paths_dict(lesion_id, target_dir)\n",
    "    img_paths = [P['mrbl'][ph] for ph in [\"art\", \"ven\", \"equ\"]]\n",
    "    save_path = join(r\"D:\\Multiphase-color\", lesion_id, \"BL\")\n",
    "    hf.save_tricolor_dcm(img_paths, save_path)"
   ]
  }
 ],
 "metadata": {
  "kernelspec": {
   "display_name": "Python 3",
   "language": "python",
   "name": "python3"
  },
  "language_info": {
   "codemirror_mode": {
    "name": "ipython",
    "version": 3
   },
   "file_extension": ".py",
   "mimetype": "text/x-python",
   "name": "python",
   "nbconvert_exporter": "python",
   "pygments_lexer": "ipython3",
   "version": "3.5.0"
  },
  "varInspector": {
   "cols": {
    "lenName": 16,
    "lenType": 16,
    "lenVar": 40
   },
   "kernels_config": {
    "python": {
     "delete_cmd_postfix": "",
     "delete_cmd_prefix": "del ",
     "library": "var_list.py",
     "varRefreshCmd": "print(var_dic_list())"
    },
    "r": {
     "delete_cmd_postfix": ") ",
     "delete_cmd_prefix": "rm(",
     "library": "var_list.r",
     "varRefreshCmd": "cat(var_dic_list()) "
    }
   },
   "types_to_exclude": [
    "module",
    "function",
    "builtin_function_or_method",
    "instance",
    "_Feature"
   ],
   "window_display": false
  }
 },
 "nbformat": 4,
 "nbformat_minor": 2
}
