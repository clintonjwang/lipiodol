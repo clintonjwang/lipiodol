{
 "cells": [
  {
   "cell_type": "markdown",
   "metadata": {
    "heading_collapsed": true
   },
   "source": [
    "## Imports"
   ]
  },
  {
   "cell_type": "code",
   "execution_count": null,
   "metadata": {
    "ExecuteTime": {
     "end_time": "2018-04-05T21:16:28.474025Z",
     "start_time": "2018-04-05T21:16:28.456979Z"
    },
    "collapsed": true,
    "hidden": true
   },
   "outputs": [],
   "source": [
    "import copy\n",
    "import glob\n",
    "import importlib\n",
    "import math\n",
    "import os\n",
    "import shutil\n",
    "import sys\n",
    "from math import pi, radians, degrees\n",
    "from os.path import *\n",
    "\n",
    "import keras\n",
    "import numpy as np\n",
    "import pylab\n",
    "import SimpleITK as sitk\n",
    "from skimage.morphology import ball\n",
    "\n",
    "import cnn_builder as cbuild\n",
    "import config\n",
    "import lipiodol_methods as lm\n",
    "import niftiutils.helper_fxns as hf\n",
    "import niftiutils.liver_metrics as lmet\n",
    "import niftiutils.masks as masks\n",
    "import niftiutils.registration as reg\n",
    "import niftiutils.transforms as tr\n",
    "from config import Config\n",
    "\n",
    "%matplotlib inline"
   ]
  },
  {
   "cell_type": "code",
   "execution_count": 2,
   "metadata": {
    "ExecuteTime": {
     "end_time": "2018-04-05T15:28:16.676212Z",
     "start_time": "2018-04-05T15:28:16.672203Z"
    },
    "collapsed": true,
    "hidden": true,
    "scrolled": true
   },
   "outputs": [],
   "source": [
    "importlib.reload(hf)\n",
    "C = config.Config()"
   ]
  },
  {
   "cell_type": "code",
   "execution_count": 3,
   "metadata": {
    "ExecuteTime": {
     "end_time": "2018-04-05T15:28:17.715110Z",
     "start_time": "2018-04-05T15:28:17.712102Z"
    },
    "collapsed": true,
    "hidden": true
   },
   "outputs": [],
   "source": [
    "img_dir = \"D:\\\\Lipiodol\\\\Images all\"\n",
    "seg_dir = \"D:\\\\Lipiodol\\\\Images extracted and segmentations\"\n",
    "target_dir = \"D:\\\\Lipiodol\\\\Data\""
   ]
  },
  {
   "cell_type": "markdown",
   "metadata": {
    "heading_collapsed": true,
    "hidden": true
   },
   "source": [
    "### Corrupt data"
   ]
  },
  {
   "cell_type": "code",
   "execution_count": 7,
   "metadata": {
    "ExecuteTime": {
     "end_time": "2018-04-05T15:30:16.243952Z",
     "start_time": "2018-04-05T15:30:13.903596Z"
    },
    "collapsed": true,
    "hidden": true
   },
   "outputs": [],
   "source": [
    "big_path = r\"C:\\Users\\Clinton\\Desktop\\MRI Abdomen W WO Contrast\"\n",
    "header = hf.dcm_load_header(big_path)"
   ]
  },
  {
   "cell_type": "code",
   "execution_count": 8,
   "metadata": {
    "ExecuteTime": {
     "end_time": "2018-04-05T15:30:26.386234Z",
     "start_time": "2018-04-05T15:30:26.383221Z"
    },
    "collapsed": true,
    "hidden": true
   },
   "outputs": [],
   "source": [
    "dcm_path = [r\"C:\\Users\\Clinton\\Desktop\\New folder\",\n",
    "        r\"C:\\Users\\Clinton\\Desktop\\New folder2\",\n",
    "        r\"C:\\Users\\Clinton\\Desktop\\New folder3\",\n",
    "        r\"C:\\Users\\Clinton\\Desktop\\New folder4\"]"
   ]
  },
  {
   "cell_type": "code",
   "execution_count": 9,
   "metadata": {
    "ExecuteTime": {
     "end_time": "2018-04-05T15:30:32.002288Z",
     "start_time": "2018-04-05T15:30:31.999305Z"
    },
    "collapsed": true,
    "hidden": true
   },
   "outputs": [],
   "source": [
    "for i in range(4):\n",
    "    os.makedirs(dcm_path[i])"
   ]
  },
  {
   "cell_type": "code",
   "execution_count": 10,
   "metadata": {
    "ExecuteTime": {
     "end_time": "2018-04-05T15:32:55.730396Z",
     "start_time": "2018-04-05T15:32:55.727417Z"
    },
    "collapsed": true,
    "hidden": true
   },
   "outputs": [],
   "source": [
    "acq_t = [124326.42, 124404.46, 124446.79, 124633.32]"
   ]
  },
  {
   "cell_type": "code",
   "execution_count": 11,
   "metadata": {
    "ExecuteTime": {
     "end_time": "2018-04-05T15:33:17.516876Z",
     "start_time": "2018-04-05T15:33:15.008060Z"
    },
    "collapsed": true,
    "hidden": true
   },
   "outputs": [],
   "source": [
    "for ix,fn in enumerate(glob.glob(join(big_path, \"*\"))):\n",
    "    h = hf.dcm_load_header(fn)\n",
    "    for i in range(4):\n",
    "        if abs(float(h[0].AcquisitionTime) - acq_t[i]) < .02:\n",
    "            shutil.copy(fn, join(dcm_path[i], basename(fn)))"
   ]
  },
  {
   "cell_type": "markdown",
   "metadata": {
    "hidden": true
   },
   "source": [
    "for fn in glob.glob(join(dcm_path, \"*\")):\n",
    "    if int(header[int(fn[-7:-4])-1].TemporalPositionIdentifier) == 2:\n",
    "        shutil.move(fn, join(dcm_path2, basename(fn)))\n",
    "    elif int(header[int(fn[-7:-4])-1].TemporalPositionIdentifier) == 3:\n",
    "        shutil.move(fn, join(dcm_path3, basename(fn)))\n",
    "    elif int(header[int(fn[-7:-4])-1].TemporalPositionIdentifier) == 4:\n",
    "        shutil.move(fn, join(dcm_path4, basename(fn)))"
   ]
  },
  {
   "cell_type": "code",
   "execution_count": null,
   "metadata": {
    "collapsed": true,
    "hidden": true
   },
   "outputs": [],
   "source": [
    "dim = 1\n",
    "base = float(header[0].SliceLocation)\n",
    "for x,h in enumerate(header[1:]):\n",
    "    dz = float(h.SliceLocation) - base\n",
    "    print(dz)\n",
    "    base = float(h.SliceLocation)"
   ]
  },
  {
   "cell_type": "code",
   "execution_count": 412,
   "metadata": {
    "collapsed": true,
    "hidden": true
   },
   "outputs": [],
   "source": [
    "fn = [\"t1-pre.nii\", \"t1-art.nii\", \"t1-pv.nii\", \"t1-equ.nii\"]"
   ]
  },
  {
   "cell_type": "code",
   "execution_count": 418,
   "metadata": {
    "collapsed": true,
    "hidden": true
   },
   "outputs": [],
   "source": [
    "for i in range(2,3):\n",
    "    a,dims = hf.dcm_load(dcm_path[i], True, True)\n",
    "    save_path = join(dirname(dcm_path[i]), \"07\", fn[i])\n",
    "    hf.save_nii(a, save_path, dims)"
   ]
  },
  {
   "cell_type": "markdown",
   "metadata": {
    "heading_collapsed": true,
    "hidden": true
   },
   "source": [
    "### MRI loading"
   ]
  },
  {
   "cell_type": "code",
   "execution_count": 5,
   "metadata": {
    "ExecuteTime": {
     "end_time": "2018-04-05T15:28:58.834928Z",
     "start_time": "2018-04-05T15:28:58.831922Z"
    },
    "collapsed": true,
    "hidden": true
   },
   "outputs": [],
   "source": [
    "patient_id = \"01\"\n",
    "modality = \"MRI-BL\""
   ]
  },
  {
   "cell_type": "code",
   "execution_count": 12,
   "metadata": {
    "ExecuteTime": {
     "end_time": "2018-04-05T15:37:50.772792Z",
     "start_time": "2018-04-05T15:37:45.406625Z"
    },
    "hidden": true
   },
   "outputs": [
    {
     "name": "stdout",
     "output_type": "stream",
     "text": [
      "2018-04-05 11:37:49,011 WARNING Slice increment not consistent through all slices\n",
      "2018-04-05 11:37:49,011 WARNING ---------------------------------------------------------\n",
      "2018-04-05 11:37:49,011 WARNING [-167.996496   -204.99921608    6.70226672] [ 3.7479401e-04  0.0000000e+00 -1.5000000e+00]\n",
      "2018-04-05 11:37:49,017 WARNING [-167.99724559 -204.99921608    9.70226672] [ 7.4958801e-04  0.0000000e+00 -3.0000000e+00]\n",
      "2018-04-05 11:37:49,018 WARNING ---------------------------------------------------------\n",
      "D:\\Lipiodol\\Data\\01\\MRI-BL\\T1-70s\n"
     ]
    }
   ],
   "source": [
    "dcm_paths = [x for x in glob.glob(join(target_dir, patient_id, modality,\"*\")) if x.find('.')==-1]\n",
    "for dcm_path in dcm_paths:\n",
    "    if not exists(splitext(dcm_path)[0] + \".nii\"):\n",
    "        try:\n",
    "            save_path = splitext(dcm_path)[0] + \".nii\"\n",
    "            img, dims = hf.dcm_load(dcm_path, True, True)\n",
    "            hf.save_nii(img, save_path, dims)\n",
    "        except:\n",
    "            print(dcm_path)"
   ]
  },
  {
   "cell_type": "code",
   "execution_count": 12,
   "metadata": {
    "ExecuteTime": {
     "end_time": "2018-04-04T21:25:27.624291Z",
     "start_time": "2018-04-04T21:25:27.619282Z"
    },
    "collapsed": true,
    "hidden": true,
    "scrolled": true
   },
   "outputs": [],
   "source": [
    "paths = [x for x in glob.glob(join(target_dir, patient_id, modality,\"*.nii.gz\")) if '20s' in x or 'Ph1-Ax' in x]\n",
    "if len(paths)==1:\n",
    "    os.rename(paths[0], join(dirname(paths[0]), \"mri30d_art.nii.gz\"))"
   ]
  },
  {
   "cell_type": "code",
   "execution_count": 13,
   "metadata": {
    "ExecuteTime": {
     "end_time": "2018-04-04T21:25:27.649358Z",
     "start_time": "2018-04-04T21:25:27.644346Z"
    },
    "collapsed": true,
    "hidden": true
   },
   "outputs": [],
   "source": [
    "paths = [x for x in glob.glob(join(target_dir, patient_id, modality,\"*.nii.gz\")) \\\n",
    "         if ('pre' in x.lower() and 'post' not in x.lower()) or basename(x).startswith('Ax LAVA-XV')]\n",
    "if len(paths)==1:\n",
    "    os.rename(paths[0], join(dirname(paths[0]), \"mri30d_pre.nii.gz\"))"
   ]
  },
  {
   "cell_type": "markdown",
   "metadata": {
    "heading_collapsed": true
   },
   "source": [
    "## Make liver mask"
   ]
  },
  {
   "cell_type": "code",
   "execution_count": 15,
   "metadata": {
    "ExecuteTime": {
     "end_time": "2018-04-05T16:08:33.303253Z",
     "start_time": "2018-04-05T16:08:33.277157Z"
    },
    "collapsed": true,
    "hidden": true
   },
   "outputs": [],
   "source": [
    "patient_id = \"07\"\n",
    "mask_dir = join(target_dir, patient_id, \"masks\")\n",
    "nii_dir = join(target_dir, patient_id, \"nii_files\")\n",
    "if not exists(nii_dir):\n",
    "    os.makedirs(nii_dir)\n",
    "\n",
    "ct24_path = join(target_dir, patient_id, \"nii_files\", \"ct24.nii.gz\")\n",
    "ct24_tumor_mask_path = glob.glob(join(mask_dir, \"tumor*24h*.ids\"))[0]\n",
    "\n",
    "mribl_art_path = join(target_dir, patient_id, \"MRI-BL\", \"mribl_art.nii.gz\")\n",
    "mribl_pre_path = join(target_dir, patient_id, \"MRI-BL\", \"mribl_pre.nii.gz\")\n",
    "mribl_tumor_mask_path = join(mask_dir, \"tumor_BL_MRI\")\n",
    "mribl_liver_mask_path = join(mask_dir, \"mribl_liver\")\n",
    "mribl_enh_mask_path = join(mask_dir, \"enh_bl\")\n",
    "mribl_nec_mask_path = join(mask_dir, \"nec_bl\")\n",
    "ct24_bl_enh_mask_path = join(mask_dir, \"ct24_bl_enh\")\n",
    "ct24_bl_nec_mask_path = join(mask_dir, \"ct24_bl_nec\")\n",
    "\n",
    "mri30d_art_path = join(target_dir, patient_id, \"MRI-30d\", \"mri30d_art.nii.gz\")\n",
    "mri30d_pre_path = join(target_dir, patient_id, \"MRI-30d\", \"mri30d_pre.nii.gz\")\n",
    "mri30d_tumor_mask_path = join(mask_dir, \"tumor_30dFU_MRI\")\n",
    "mri30d_liver_mask_path = join(mask_dir, \"mri30d_liver\")\n",
    "mri30d_enh_mask_path = join(mask_dir, \"enh_30d\")\n",
    "mri30d_nec_mask_path = join(mask_dir, \"nec_30d\")\n",
    "ct24_30d_enh_mask_path = join(mask_dir, \"ct24_30d_enh\")\n",
    "ct24_30d_nec_mask_path = join(mask_dir, \"ct24_30d_nec\")"
   ]
  },
  {
   "cell_type": "code",
   "execution_count": 13,
   "metadata": {
    "ExecuteTime": {
     "end_time": "2018-04-05T16:08:07.636444Z",
     "start_time": "2018-04-05T16:07:55.517872Z"
    },
    "collapsed": true,
    "hidden": true
   },
   "outputs": [],
   "source": [
    "model = keras.models.load_model(join(Config().model_dir, \"mri_liver.hdf5\"))"
   ]
  },
  {
   "cell_type": "code",
   "execution_count": 16,
   "metadata": {
    "ExecuteTime": {
     "end_time": "2018-04-05T16:08:42.064058Z",
     "start_time": "2018-04-05T16:08:36.949253Z"
    },
    "collapsed": true,
    "hidden": true
   },
   "outputs": [],
   "source": [
    "lm.seg_liver_mri_from_path(mri30d_art_path, mri30d_liver_mask_path, model, mri30d_tumor_mask_path)"
   ]
  },
  {
   "cell_type": "markdown",
   "metadata": {},
   "source": [
    "## Non-rigid reg"
   ]
  },
  {
   "cell_type": "code",
   "execution_count": 464,
   "metadata": {
    "scrolled": true
   },
   "outputs": [
    {
     "data": {
      "text/plain": [
       "<module 'niftiutils.registration' from 'c:\\\\users\\\\clinton\\\\documents\\\\niftiutils\\\\niftiutils\\\\registration.py'>"
      ]
     },
     "execution_count": 464,
     "metadata": {},
     "output_type": "execute_result"
    }
   ],
   "source": [
    "importlib.reload(reg)"
   ]
  },
  {
   "cell_type": "code",
   "execution_count": 18,
   "metadata": {
    "ExecuteTime": {
     "end_time": "2018-04-04T21:33:53.728316Z",
     "start_time": "2018-04-04T21:33:50.663315Z"
    },
    "collapsed": true
   },
   "outputs": [],
   "source": [
    "ct_img, ct_dims = hf.dcm_load(join(target_dir, patient_id, \"CT24h\"), True, True)\n",
    "hf.save_nii(ct_img, ct24_path, ct_dims)"
   ]
  },
  {
   "cell_type": "code",
   "execution_count": 37,
   "metadata": {
    "ExecuteTime": {
     "end_time": "2018-04-05T18:19:42.388392Z",
     "start_time": "2018-04-05T18:19:35.715909Z"
    },
    "collapsed": true
   },
   "outputs": [],
   "source": [
    "threshold = 24.142\n",
    "lmet.seg_tumor_from_threshold(mribl_art_path, mribl_pre_path,\n",
    "                              threshold, mribl_tumor_mask_path,\n",
    "                              mribl_enh_mask_path, mribl_nec_mask_path)\n",
    "threshold = 42.185\n",
    "lmet.seg_tumor_from_threshold(mri30d_art_path, mri30d_pre_path,\n",
    "                              threshold, mri30d_tumor_mask_path,\n",
    "                              mri30d_enh_mask_path, mri30d_nec_mask_path)"
   ]
  },
  {
   "cell_type": "markdown",
   "metadata": {},
   "source": [
    "#qEASLy to produce enhancing mask\n",
    "#importlib.reload(lmet)\n",
    "_=lmet.segment_tumor_from_paths(mribl_art_path, mribl_pre_path,\n",
    "                              mribl_liver_mask_path, mribl_tumor_mask_path,\n",
    "                              mribl_enh_mask_path, mribl_nec_mask_path)\n",
    "_=lmet.segment_tumor_from_paths(mri30d_art_path, mri30d_pre_path,\n",
    "                              mri30d_liver_mask_path, mri30d_tumor_mask_path,\n",
    "                              mri30d_enh_mask_path, mri30d_nec_mask_path)"
   ]
  },
  {
   "cell_type": "code",
   "execution_count": 17,
   "metadata": {
    "collapsed": true
   },
   "outputs": [],
   "source": [
    "xform_path, crops, pads = reg.get_mask_Tx(ct24_path, ct24_tumor_mask_path, mribl_art_path, mribl_tumor_mask_path)\n",
    "\n",
    "# Transform using existing transform\n",
    "_ = reg.transform_mask(mribl_enh_mask_path, mribl_art_path, xform_path,\n",
    "                     crops, pads, ct_dims, ct24_bl_enh_mask_path)\n",
    "_ = reg.transform_mask(mribl_nec_mask_path, mribl_art_path, xform_path,\n",
    "                     crops, pads, ct_dims, ct24_bl_nec_mask_path)"
   ]
  },
  {
   "cell_type": "code",
   "execution_count": 143,
   "metadata": {
    "collapsed": true
   },
   "outputs": [],
   "source": [
    "xform_path, crops, pads = reg.get_mask_Tx(ct24_path, ct24_tumor_mask_path, mri30d_art_path, mri30d_tumor_mask_path)\n",
    "\n",
    "# Transform using existing transform\n",
    "_ = reg.transform_mask(mri30d_enh_mask_path, mri30d_art_path, xform_path,\n",
    "                     crops, pads, ct_dims, ct24_30d_enh_mask_path)\n",
    "_ = reg.transform_mask(mri30d_nec_mask_path, mri30d_art_path, xform_path,\n",
    "                     crops, pads, ct_dims, ct24_30d_nec_mask_path)"
   ]
  },
  {
   "cell_type": "code",
   "execution_count": 30,
   "metadata": {
    "ExecuteTime": {
     "end_time": "2018-04-05T17:51:12.013698Z",
     "start_time": "2018-04-05T17:51:12.006680Z"
    },
    "collapsed": true
   },
   "outputs": [],
   "source": [
    "ball_ct24_path = join(target_dir, patient_id, \"nii_files\", \"ct24_ball.nii\")\n",
    "ball_mribl_path = join(target_dir, patient_id, \"nii_files\", \"mribl_ball.nii\")\n",
    "ball_mri30d_path = join(target_dir, patient_id, \"nii_files\", \"mri30d_ball.nii\")\n",
    "ball_mask_path = join(mask_dir, \"ball_mask\")\n",
    "ball_mribl_enh_mask_path = join(mask_dir, \"ball_mribl_enh_mask\")\n",
    "ball_mri30d_enh_mask_path = join(mask_dir, \"ball_mri30d_enh_mask\")\n",
    "\n",
    "lipiodol_mask_path = join(mask_dir, \"high_lipiodol\")\n",
    "ball_lipiodol_mask_path = join(mask_dir, \"ball_lipiodol\")"
   ]
  },
  {
   "cell_type": "code",
   "execution_count": 40,
   "metadata": {
    "ExecuteTime": {
     "end_time": "2018-04-05T19:02:52.366633Z",
     "start_time": "2018-04-05T19:02:19.442875Z"
    },
    "collapsed": true
   },
   "outputs": [],
   "source": [
    "importlib.reload(reg)\n",
    "\n",
    "xform_path, crops, pads = reg.get_mask_Tx_shape(ct24_path, ct24_tumor_mask_path, mask_path=ball_mask_path)\n",
    "img = reg.transform_region(ct24_path, xform_path, crops, pads, [1.]*3, ball_ct24_path)\n",
    "masks.restrict_mask_to_largest(lipiodol_mask_path, ball_lipiodol_mask_path)\n",
    "_ = reg.transform_mask(ball_lipiodol_mask_path, ct24_path, xform_path,\n",
    "                     crops, pads, [1.]*3, ball_lipiodol_mask_path)\n",
    "\n",
    "xform_path, crops, pads = reg.get_mask_Tx_shape(mribl_art_path, mribl_tumor_mask_path)\n",
    "_ = reg.transform_region(mribl_art_path, xform_path, crops, pads, [1.]*3, ball_mribl_path)\n",
    "_ = reg.transform_mask(mribl_enh_mask_path, mribl_art_path, xform_path,\n",
    "                     crops, pads, [1.]*3, ball_mribl_enh_mask_path)\n",
    "\n",
    "xform_path, crops, pads = reg.get_mask_Tx_shape(mri30d_art_path, mri30d_tumor_mask_path)\n",
    "_ = reg.transform_region(mri30d_art_path, xform_path, crops, pads, [1.]*3, ball_mri30d_path)\n",
    "_ = reg.transform_mask(mri30d_enh_mask_path, mri30d_art_path, xform_path,\n",
    "                     crops, pads, [1.]*3, ball_mri30d_enh_mask_path)"
   ]
  },
  {
   "cell_type": "markdown",
   "metadata": {
    "collapsed": true,
    "heading_collapsed": true
   },
   "source": [
    "## debugging"
   ]
  },
  {
   "cell_type": "code",
   "execution_count": 270,
   "metadata": {
    "ExecuteTime": {
     "end_time": "2018-04-04T20:42:22.807718Z",
     "start_time": "2018-04-04T20:42:22.286605Z"
    },
    "collapsed": true,
    "hidden": true
   },
   "outputs": [],
   "source": [
    "fix_tmp_path=\"D:\\\\temp_fix.nii\"\n",
    "mov_tmp_path=\"D:\\\\temp_mov.nii\"\n",
    "\n",
    "img_m, img_m_dims = hf.nii_load(img_mov_path)\n",
    "mask_m, mask_m_dims = masks.get_mask(mask_mov_path, img_m_dims, img_m.shape)\n",
    "\n",
    "mask_m, crops_m = hf.crop_nonzero(mask_m)\n",
    "img_m, _ = hf.crop_nonzero(img_m, crops_m)\n",
    "img_m[mask_m == 0] = 0\n",
    "\n",
    "R = 1.\n",
    "mask_m_iso, _ = tr.rescale_img(mask_m, [R]*3, mask_m_dims)\n",
    "\n",
    "mask_f = ball(max(mask_m_iso.shape)//2)\n",
    "mask_f_iso = np.pad(mask_f, (np.ones((3,2))*5).astype(int), 'constant')\n",
    "mask_m_iso, pads_m = hf.zeropad(mask_m_iso, mask_f_iso.shape, ignore_neg=True)"
   ]
  },
  {
   "cell_type": "code",
   "execution_count": 271,
   "metadata": {
    "ExecuteTime": {
     "end_time": "2018-04-04T20:42:28.066538Z",
     "start_time": "2018-04-04T20:42:28.062500Z"
    },
    "hidden": true
   },
   "outputs": [
    {
     "data": {
      "text/plain": [
       "255.0"
      ]
     },
     "execution_count": 271,
     "metadata": {},
     "output_type": "execute_result"
    }
   ],
   "source": [
    "mask_m_iso.max()"
   ]
  },
  {
   "cell_type": "code",
   "execution_count": 233,
   "metadata": {
    "ExecuteTime": {
     "end_time": "2018-04-04T20:34:58.786269Z",
     "start_time": "2018-04-04T20:34:58.783232Z"
    },
    "collapsed": true,
    "hidden": true
   },
   "outputs": [],
   "source": [
    "mask_m_iso=((mask_m_iso>mask_m_iso.max()/2)*255).astype('uint8')"
   ]
  },
  {
   "cell_type": "code",
   "execution_count": 272,
   "metadata": {
    "ExecuteTime": {
     "end_time": "2018-04-04T20:42:30.941044Z",
     "start_time": "2018-04-04T20:42:30.718409Z"
    },
    "hidden": true
   },
   "outputs": [
    {
     "data": {
      "image/png": "[encoded data removed]",
      "text/plain": [
       "<matplotlib.figure.Figure at 0x15289f21518>"
      ]
     },
     "metadata": {},
     "output_type": "display_data"
    }
   ],
   "source": [
    "hf.draw_slices(mask_m_iso)"
   ]
  },
  {
   "cell_type": "code",
   "execution_count": 235,
   "metadata": {
    "ExecuteTime": {
     "end_time": "2018-04-04T20:35:04.364641Z",
     "start_time": "2018-04-04T20:35:04.238267Z"
    },
    "hidden": true
   },
   "outputs": [
    {
     "data": {
      "image/png": "[encoded data removed]",
      "text/plain": [
       "<matplotlib.figure.Figure at 0x1528a743748>"
      ]
     },
     "metadata": {},
     "output_type": "display_data"
    }
   ],
   "source": [
    "hf.draw_slices(mask_f_iso)"
   ]
  },
  {
   "cell_type": "code",
   "execution_count": 258,
   "metadata": {
    "ExecuteTime": {
     "end_time": "2018-04-04T20:40:26.868432Z",
     "start_time": "2018-04-04T20:40:26.862389Z"
    },
    "collapsed": true,
    "hidden": true,
    "scrolled": true
   },
   "outputs": [],
   "source": [
    "hf.save_nii(mask_f_iso*255, fix_tmp_path, [R]*3)\n",
    "hf.save_nii(mask_m_iso, mov_tmp_path, [R]*3)"
   ]
  },
  {
   "cell_type": "code",
   "execution_count": 237,
   "metadata": {
    "ExecuteTime": {
     "end_time": "2018-04-04T20:35:39.234437Z",
     "start_time": "2018-04-04T20:35:39.231458Z"
    },
    "collapsed": true,
    "hidden": true
   },
   "outputs": [],
   "source": [
    "out_img_path=\"D:\\\\temp.nii\""
   ]
  },
  {
   "cell_type": "code",
   "execution_count": 273,
   "metadata": {
    "ExecuteTime": {
     "end_time": "2018-04-04T20:43:12.523866Z",
     "start_time": "2018-04-04T20:43:08.622387Z"
    },
    "collapsed": true,
    "hidden": true,
    "scrolled": true
   },
   "outputs": [],
   "source": [
    "importlib.reload(reg)\n",
    "reg.reg_aligned_masks(mov_tmp_path, fix_tmp_path, out_img_path=out_img_path)"
   ]
  },
  {
   "cell_type": "code",
   "execution_count": 274,
   "metadata": {
    "ExecuteTime": {
     "end_time": "2018-04-04T20:43:12.694317Z",
     "start_time": "2018-04-04T20:43:12.542916Z"
    },
    "hidden": true
   },
   "outputs": [
    {
     "data": {
      "image/png": "[encoded data removed]",
      "text/plain": [
       "<matplotlib.figure.Figure at 0x1528a264d30>"
      ]
     },
     "metadata": {},
     "output_type": "display_data"
    }
   ],
   "source": [
    "out_img,dims = hf.nii_load(out_img_path)\n",
    "hf.draw_slices(out_img)"
   ]
  },
  {
   "cell_type": "markdown",
   "metadata": {
    "heading_collapsed": true,
    "hidden": true
   },
   "source": [
    "### Compose with rotation"
   ]
  },
  {
   "cell_type": "code",
   "execution_count": 191,
   "metadata": {
    "collapsed": true,
    "hidden": true
   },
   "outputs": [],
   "source": [
    "mribl_liver_mask_path = join(target_dir, patient_id, \"liver bl final.ids\")\n",
    "ct24_liver_mask_path = glob.glob(join(target_dir, patient_id, \"wholeliver_24hCT*.ids\"))[0]"
   ]
  },
  {
   "cell_type": "code",
   "execution_count": null,
   "metadata": {
    "collapsed": true,
    "hidden": true
   },
   "outputs": [],
   "source": [
    "mribl_ct24_xform, ct24_tumor, mribl_tumor, mribl_ct24_crops = full_reg_masks(ct24_tumor_mask_path, ct24_path, mribl_tumor_mask_path, mribl_art_path)"
   ]
  },
  {
   "cell_type": "code",
   "execution_count": null,
   "metadata": {
    "collapsed": true,
    "hidden": true
   },
   "outputs": [],
   "source": []
  },
  {
   "cell_type": "code",
   "execution_count": null,
   "metadata": {
    "collapsed": true,
    "hidden": true
   },
   "outputs": [],
   "source": [
    "# BL MRI to 24h CT\n",
    "vec_field = lm.reg_masks(ct_tumor_mask_path, blmri_tumor_mask_path)"
   ]
  },
  {
   "cell_type": "code",
   "execution_count": null,
   "metadata": {
    "collapsed": true,
    "hidden": true
   },
   "outputs": [],
   "source": [
    "mribl_enh_mask = reg.apply_field(vec_field)"
   ]
  },
  {
   "cell_type": "code",
   "execution_count": null,
   "metadata": {
    "collapsed": true,
    "hidden": true
   },
   "outputs": [],
   "source": [
    "ct24_lip = lm.seg_lipiodol()"
   ]
  },
  {
   "cell_type": "code",
   "execution_count": null,
   "metadata": {
    "collapsed": true,
    "hidden": true
   },
   "outputs": [],
   "source": [
    "reg.reg_sitk(ct24_lip, vec_field)"
   ]
  },
  {
   "cell_type": "code",
   "execution_count": 114,
   "metadata": {
    "collapsed": true,
    "hidden": true
   },
   "outputs": [],
   "source": [
    "mri_dcm_paths = [x for x in glob.glob(join(target_dir, '*', 'MRI-BL', '*20s*')) if '.nii' not in x]\n",
    "mri_dcm_paths"
   ]
  },
  {
   "cell_type": "code",
   "execution_count": null,
   "metadata": {
    "collapsed": true,
    "hidden": true
   },
   "outputs": [],
   "source": [
    "path_dict = {}\n",
    "patient_id = '04'\n",
    "for path in glob.glob(join(target_dir, patient_id, \"MRI-BL\",\"*\",\"*\")):\n",
    "    header = hf.dcm_load_header(path)\n",
    "    if len(header) > 0:\n",
    "        series_descript = header[0][('0008', '103e')].value\n",
    "        path_dict[path] = series_descript\n",
    "        series_descript = series_descript.replace(\"/\",\"-\")\n",
    "        os.rename(path, join(target_dir,patient_id, \"MRI-BL\", series_descript))"
   ]
  },
  {
   "cell_type": "code",
   "execution_count": null,
   "metadata": {
    "collapsed": true,
    "hidden": true
   },
   "outputs": [],
   "source": []
  },
  {
   "cell_type": "code",
   "execution_count": 499,
   "metadata": {
    "collapsed": true,
    "hidden": true
   },
   "outputs": [],
   "source": [
    "for path in glob.glob(join(target_dir, \"*\", \"masks\",\"*final*\")):\n",
    "    if not exists(path.replace(\" final\", \"\")):\n",
    "        os.rename(path, path.replace(\" final\", \"\"))"
   ]
  },
  {
   "cell_type": "markdown",
   "metadata": {
    "hidden": true
   },
   "source": [
    "for path in glob.glob(join(target_dir, \"*\")):\n",
    "    os.makedirs(join(path, \"masks\"))"
   ]
  },
  {
   "cell_type": "markdown",
   "metadata": {
    "hidden": true
   },
   "source": [
    "for path in glob.glob(join(target_dir, \"*\", \"*.off\")):\n",
    "    os.rename(path, join(dirname(path), \"masks\", basename(path)))"
   ]
  },
  {
   "cell_type": "markdown",
   "metadata": {
    "heading_collapsed": true,
    "hidden": true
   },
   "source": [
    "### Bias field corr"
   ]
  },
  {
   "cell_type": "code",
   "execution_count": 122,
   "metadata": {
    "collapsed": true,
    "hidden": true
   },
   "outputs": [],
   "source": [
    "mri_raw_paths = glob.glob(join(target_dir, '*', 'MRI-BL', 't1-art.nii.gz'))\n",
    "mri_bfc_paths = [join(dirname(x), \"t1-art-bfc.nii.gz\") for x in mri_raw_paths]"
   ]
  },
  {
   "cell_type": "code",
   "execution_count": 176,
   "metadata": {
    "hidden": true
   },
   "outputs": [
    {
     "data": {
      "text/plain": [
       "<module 'niftiutils.masks' from 'c:\\\\users\\\\clinton\\\\documents\\\\niftiutils\\\\niftiutils\\\\masks.py'>"
      ]
     },
     "execution_count": 176,
     "metadata": {},
     "output_type": "execute_result"
    }
   ],
   "source": [
    "importlib.reload(masks)"
   ]
  },
  {
   "cell_type": "code",
   "execution_count": null,
   "metadata": {
    "collapsed": true,
    "hidden": true
   },
   "outputs": [],
   "source": [
    "glob.glob(join(target_dir, patient_id, ''"
   ]
  },
  {
   "cell_type": "code",
   "execution_count": null,
   "metadata": {
    "collapsed": true,
    "hidden": true
   },
   "outputs": [],
   "source": [
    "masks.mask2nii()"
   ]
  },
  {
   "cell_type": "code",
   "execution_count": 128,
   "metadata": {
    "collapsed": true,
    "hidden": true
   },
   "outputs": [],
   "source": [
    "inputImage = sitk.ReadImage(mri_raw_paths[0])\n",
    "maskImage = sitk.OtsuThreshold( inputImage, 0, 1, 200 )\n",
    "\n",
    "if len ( sys.argv ) > 3:\n",
    "    inputImage = sitk.Shrink( inputImage, [ int(sys.argv[3]) ] * inputImage.GetDimension() )\n",
    "    maskImage = sitk.Shrink( maskImage, [ int(sys.argv[3]) ] * inputImage.GetDimension() )\n",
    "\n",
    "inputImage = sitk.Cast( inputImage, sitk.sitkFloat32 )\n",
    "\n",
    "corrector = sitk.N4BiasFieldCorrectionImageFilter()\n",
    "\n",
    "numberFilltingLevels = 4\n",
    "#corrector.SetMaximumNumberOfIterations( [ int( sys.argv[5] ) ] *numberFilltingLevels  )\n",
    "\n",
    "output = corrector.Execute( inputImage, maskImage )\n",
    "\n",
    "sitk.WriteImage( output, mri_bfc_paths[0] )"
   ]
  },
  {
   "cell_type": "markdown",
   "metadata": {
    "collapsed": true
   },
   "source": [
    "# Pattern analysis"
   ]
  },
  {
   "cell_type": "markdown",
   "metadata": {},
   "source": [
    "### Masks"
   ]
  },
  {
   "cell_type": "code",
   "execution_count": null,
   "metadata": {
    "collapsed": true
   },
   "outputs": [],
   "source": [
    "IVs = np.zeros((181,361,5)) # avg voxel intensity"
   ]
  },
  {
   "cell_type": "code",
   "execution_count": null,
   "metadata": {
    "ExecuteTime": {
     "end_time": "2018-04-05T19:47:17.535441Z",
     "start_time": "2018-04-05T19:47:17.514379Z"
    },
    "collapsed": true
   },
   "outputs": [],
   "source": [
    "highest_I_V = -1000\n",
    "\n",
    "#fix dphi at 360\n",
    "for theta in range(0, 181):\n",
    "    for phi in range(-180, 181):\n",
    "        for dz in range(1,5):\n",
    "            params = radians(theta1), radians(phi1), radians(dtheta), dz/10\n",
    "            I_V = get_intensity_section(ball_ct24_path, ball_mask_path, params)\n",
    "            if highest_I_V < I_V:\n",
    "                best_params = params\n",
    "                highest_I_V = I_V\n",
    "                print(best_params)\n",
    "                        \n",
    "theta1_best, phi1_best, dtheta_best, dz_best = best_params"
   ]
  },
  {
   "cell_type": "code",
   "execution_count": 98,
   "metadata": {
    "ExecuteTime": {
     "end_time": "2018-04-05T20:47:16.927170Z",
     "start_time": "2018-04-05T20:47:16.924162Z"
    },
    "collapsed": true
   },
   "outputs": [],
   "source": [
    "X = np.linspace(0,1,50)"
   ]
  },
  {
   "cell_type": "code",
   "execution_count": 99,
   "metadata": {
    "ExecuteTime": {
     "end_time": "2018-04-05T20:47:20.571597Z",
     "start_time": "2018-04-05T20:47:20.565516Z"
    },
    "collapsed": true
   },
   "outputs": [],
   "source": [
    "Y = [math.acos(x) for x in X]"
   ]
  },
  {
   "cell_type": "code",
   "execution_count": 103,
   "metadata": {
    "ExecuteTime": {
     "end_time": "2018-04-05T20:47:44.209921Z",
     "start_time": "2018-04-05T20:47:44.096514Z"
    }
   },
   "outputs": [
    {
     "data": {
      "text/plain": [
       "[<matplotlib.lines.Line2D at 0x2077286bba8>]"
      ]
     },
     "execution_count": 103,
     "metadata": {},
     "output_type": "execute_result"
    },
    {
     "data": {
      "image/png": "[encoded data removed]",
      "text/plain": [
       "<matplotlib.figure.Figure at 0x20772289b70>"
      ]
     },
     "metadata": {},
     "output_type": "display_data"
    }
   ],
   "source": [
    "pylab.plot(X,Y)"
   ]
  },
  {
   "cell_type": "code",
   "execution_count": 60,
   "metadata": {
    "ExecuteTime": {
     "end_time": "2018-04-05T19:43:39.318761Z",
     "start_time": "2018-04-05T19:43:39.310740Z"
    },
    "collapsed": true
   },
   "outputs": [],
   "source": [
    "def get_avg_ball_intensity(reg_img_path, ball_mask_path):\n",
    "    img, dims = hf.nii_load(reg_img_path)\n",
    "    ball, _ = masks.get_mask(ball_mask_path)\n",
    "    nonzeros = np.argwhere(ball)\n",
    "    \n",
    "    R = (nonzeros[:,0].max() - nonzeros[:,0].min()) / 2\n",
    "    m = ball.shape[0]//2\n",
    "    img[ball == 0] = np.nan\n",
    "    V = ball.sum()\n",
    "    I = np.nansum(img)\n",
    "    return I/V"
   ]
  },
  {
   "cell_type": "code",
   "execution_count": null,
   "metadata": {
    "collapsed": true
   },
   "outputs": [],
   "source": []
  },
  {
   "cell_type": "code",
   "execution_count": 68,
   "metadata": {
    "ExecuteTime": {
     "end_time": "2018-04-05T19:46:47.925780Z",
     "start_time": "2018-04-05T19:46:47.902719Z"
    },
    "collapsed": true
   },
   "outputs": [],
   "source": [
    "def get_intensity_section(reg_img_path, ball_mask_path, params):\n",
    "    theta1, phi1, dtheta, dphi, dz = params\n",
    "    theta2 = theta1 + dtheta\n",
    "    phi2 = phi1 + dphi\n",
    "    \n",
    "    img, dims = hf.nii_load(reg_img_path)\n",
    "    ball, _ = masks.get_mask(ball_mask_path)\n",
    "    nonzeros = np.argwhere(ball)\n",
    "    \n",
    "    R = (nonzeros[:,0].max() - nonzeros[:,0].min()) / 2\n",
    "    r = R * (1-dz)\n",
    "    m = ball.shape[0]//2\n",
    "    \n",
    "    for x in range(ball.shape[0]):\n",
    "        for y in range(ball.shape[1]):\n",
    "            for z in range(ball.shape[2]):\n",
    "                if ball[x,y,z] == 0:\n",
    "                    continue\n",
    "                    \n",
    "                X = m-.5-x\n",
    "                Y = m-.5-y\n",
    "                Z = m-.5-z\n",
    "                RR = (X*X+Y*Y+Z*Z)**.5\n",
    "                theta = math.acos(Z/RR)\n",
    "                if theta + theta1:\n",
    "                    theta += 2*pi\n",
    "                phi = math.atan2(Y,X)\n",
    "                if RR <= R and RR >= r and theta >= theta1 and theta <= theta2 and phi >= phi1 and phi <= phi2:\n",
    "                    ball[x,y,z] = 1\n",
    "\n",
    "    img[ball == 0] = np.nan\n",
    "    V = ball.sum()\n",
    "    I = np.nansum(img)\n",
    "    return I/V"
   ]
  },
  {
   "cell_type": "code",
   "execution_count": 74,
   "metadata": {
    "ExecuteTime": {
     "end_time": "2018-04-05T19:50:16.293659Z",
     "start_time": "2018-04-05T19:50:16.080859Z"
    },
    "collapsed": true
   },
   "outputs": [],
   "source": [
    "D = np.zeros(ball.shape)\n",
    "for x in range(D.shape[0]):\n",
    "    for y in range(D.shape[1]):\n",
    "        for z in range(D.shape[2]):\n",
    "            X = m-.5-x\n",
    "            Y = m-.5-y\n",
    "            Z = m-.5-z\n",
    "            RR = (X*X+Y*Y+Z*Z)**.5\n",
    "            theta = math.acos(Z/RR)\n",
    "            phi = math.atan2(Y,X)"
   ]
  },
  {
   "cell_type": "code",
   "execution_count": 93,
   "metadata": {
    "ExecuteTime": {
     "end_time": "2018-04-05T20:31:33.492358Z",
     "start_time": "2018-04-05T20:31:33.486341Z"
    }
   },
   "outputs": [
    {
     "data": {
      "text/plain": [
       "(0.9553166181245092, -0.7853981633974483)"
      ]
     },
     "execution_count": 93,
     "metadata": {},
     "output_type": "execute_result"
    }
   ],
   "source": [
    "X=1\n",
    "Y=-1\n",
    "Z=1\n",
    "RR = (X*X+Y*Y+Z*Z)**.5\n",
    "math.acos(Z/RR), math.atan2(Y,X)"
   ]
  },
  {
   "cell_type": "code",
   "execution_count": null,
   "metadata": {
    "collapsed": true
   },
   "outputs": [],
   "source": []
  },
  {
   "cell_type": "markdown",
   "metadata": {},
   "source": [
    "## Lipiodol seg"
   ]
  },
  {
   "cell_type": "code",
   "execution_count": 26,
   "metadata": {
    "ExecuteTime": {
     "end_time": "2018-04-05T17:45:33.757372Z",
     "start_time": "2018-04-05T17:45:23.735040Z"
    },
    "collapsed": true,
    "scrolled": false
   },
   "outputs": [],
   "source": [
    "importlib.reload(lm)\n",
    "\n",
    "# Lipiodol 3 masks\n",
    "info = {}\n",
    "for seg in glob.glob(join(mask_dir, \"wholeliver_24hCT*.ids\")):\n",
    "    if dirname(seg) in info.keys():\n",
    "        (ct_img, ct_dims, mask) = info[dirname(seg)]\n",
    "    else:\n",
    "        ct_img, ct_dims = hf.dcm_load(join(target_dir, patient_id, \"CT24h\"), True, True)\n",
    "        mask, _ = masks.get_mask(seg, ct_dims, ct_img.shape)\n",
    "        \n",
    "    lm.seg_lipiodol((mask > 0) * ct_img, dirname(seg), ct_dims)\n",
    "    info[dirname(seg)] = (ct_img, ct_dims, mask)\n",
    "    break"
   ]
  },
  {
   "cell_type": "code",
   "execution_count": null,
   "metadata": {
    "collapsed": true
   },
   "outputs": [],
   "source": [
    "# Lipiodol target vs non-target masks\n",
    "info = {}\n",
    "for seg in glob.glob(join(target_dir,\"*\",\"wholeliver_24hCT*.ids\")):\n",
    "    if dirname(seg) in info.keys():\n",
    "        (ct_img, ct_dims, mask) = info[dirname(seg)]\n",
    "    else:\n",
    "        ct_img, ct_dims = hf.dcm_load(join(dirname(seg), \"CT24h\"), True, True)\n",
    "        mask, _ = masks.get_mask(seg, ct_dims, ct_img.shape)\n",
    "        \n",
    "    lm.seg_target_lipiodol((mask > 0) * ct_img, dirname(seg), ct_dims)\n",
    "    info[dirname(seg)] = (ct_img, ct_dims, mask)\n",
    "    #break"
   ]
  },
  {
   "cell_type": "code",
   "execution_count": null,
   "metadata": {
    "collapsed": true
   },
   "outputs": [],
   "source": []
  }
 ],
 "metadata": {
  "kernelspec": {
   "display_name": "Python 3",
   "language": "python",
   "name": "python3"
  },
  "language_info": {
   "codemirror_mode": {
    "name": "ipython",
    "version": 3
   },
   "file_extension": ".py",
   "mimetype": "text/x-python",
   "name": "python",
   "nbconvert_exporter": "python",
   "pygments_lexer": "ipython3",
   "version": "3.5.0"
  },
  "varInspector": {
   "cols": {
    "lenName": 16,
    "lenType": 16,
    "lenVar": 40
   },
   "kernels_config": {
    "python": {
     "delete_cmd_postfix": "",
     "delete_cmd_prefix": "del ",
     "library": "var_list.py",
     "varRefreshCmd": "print(var_dic_list())"
    },
    "r": {
     "delete_cmd_postfix": ") ",
     "delete_cmd_prefix": "rm(",
     "library": "var_list.r",
     "varRefreshCmd": "cat(var_dic_list()) "
    }
   },
   "types_to_exclude": [
    "module",
    "function",
    "builtin_function_or_method",
    "instance",
    "_Feature"
   ],
   "window_display": false
  }
 },
 "nbformat": 4,
 "nbformat_minor": 2
}
