{
 "cells": [
  {
   "cell_type": "code",
   "execution_count": 1,
   "metadata": {
    "ExecuteTime": {
     "end_time": "2018-04-26T14:59:52.298999Z",
     "start_time": "2018-04-26T14:59:49.860913Z"
    }
   },
   "outputs": [
    {
     "name": "stderr",
     "output_type": "stream",
     "text": [
      "C:\\Users\\Clinton\\AppData\\Local\\conda\\conda\\envs\\old-keras\\lib\\site-packages\\h5py\\__init__.py:34: FutureWarning: Conversion of the second argument of issubdtype from `float` to `np.floating` is deprecated. In future, it will be treated as `np.float64 == np.dtype(float).type`.\n",
      "  from ._conv import register_converters as _register_converters\n",
      "Using TensorFlow backend.\n"
     ]
    }
   ],
   "source": [
    "import copy\n",
    "import glob\n",
    "import importlib\n",
    "import itertools\n",
    "import math\n",
    "import os\n",
    "import random\n",
    "import shutil\n",
    "import sys\n",
    "from math import degrees, pi, radians\n",
    "from os.path import *\n",
    "\n",
    "import matplotlib.pyplot as plt\n",
    "import numpy as np\n",
    "import pandas as pd\n",
    "import scipy.stats\n",
    "import SimpleITK as sitk\n",
    "import skimage.feature as skf\n",
    "from skimage.morphology import ball\n",
    "import seaborn as sns\n",
    "import cnn_builder as cbuild\n",
    "import config\n",
    "import lipiodol_analysis as lan\n",
    "import lipiodol_methods as lm\n",
    "import lipiodol_vis as lvis\n",
    "import niftiutils.helper_fxns as hf\n",
    "import niftiutils.masks as masks\n",
    "import niftiutils.registration as reg\n",
    "import niftiutils.transforms as tr\n",
    "from config import Config\n",
    "sns.set(style=\"ticks\")\n",
    "%matplotlib inline"
   ]
  },
  {
   "cell_type": "code",
   "execution_count": 49,
   "metadata": {
    "ExecuteTime": {
     "end_time": "2018-04-26T16:23:42.798668Z",
     "start_time": "2018-04-26T16:23:42.755526Z"
    },
    "collapsed": true
   },
   "outputs": [],
   "source": [
    "importlib.reload(config)\n",
    "C = config.Config()\n",
    "target_dir = \"D:\\\\Lipiodol\\\\Data\"\n",
    "lesions = [basename(fn) for fn in glob.glob(join(target_dir,\"*\"))]\n",
    "num_lesions = len(lesions)\n",
    "liplvls=[0,75,160,215]\n",
    "\n",
    "lesions.remove(\"BM-06\")\n",
    "lesions.remove(\"BM-17\")\n",
    "lesions.remove(\"BM-30\")\n",
    "lesions.remove(\"PK-07\")"
   ]
  },
  {
   "cell_type": "code",
   "execution_count": 495,
   "metadata": {
    "ExecuteTime": {
     "end_time": "2018-04-26T01:19:08.325442Z",
     "start_time": "2018-04-26T01:19:08.306364Z"
    },
    "collapsed": true
   },
   "outputs": [],
   "source": [
    "pattern_df = pd.read_excel(C.data_xls_path, \"Patterns\")"
   ]
  },
  {
   "cell_type": "code",
   "execution_count": 89,
   "metadata": {
    "ExecuteTime": {
     "end_time": "2018-04-25T16:49:58.179872Z",
     "start_time": "2018-04-25T16:49:58.155298Z"
    },
    "collapsed": true
   },
   "outputs": [],
   "source": [
    "def set_g_bar(g, save_path):\n",
    "    g.set(yticks=[0.,.2,.4,.6,.8,1.], ylim=(0.,1.));\n",
    "    \"\"\"topbar = plt.Rectangle((0,0),1,1,fc=\"#C3C3C3\", edgecolor = 'none')\n",
    "    midbar = plt.Rectangle((0,0),1,1,fc='#A3A3A3',  edgecolor = 'none')\n",
    "    bottombar = plt.Rectangle((0,0),1,1,fc='#737373',  edgecolor = 'none')\n",
    "    l = plt.legend([bottombar, midbar, topbar],\n",
    "                   ['High Lipiodol', 'Medium Lipiodol', 'Low Lipiodol'], loc='upper left')#, ncol=2, prop={'size':16})\n",
    "    l.draw_frame(False)\"\"\"\n",
    "    \n",
    "    for gax in g.axes[0]:\n",
    "        gax.set_xlabel(\"\")\n",
    "        gax.set_ylabel(\"\")\n",
    "        #gax.tick_params('x',width=0)\n",
    "        gax.set_xticks([], minor=False)\n",
    "        gax.set_yticks([], minor=False)\n",
    "        plt.setp(gax.patches, linewidth=1, edgecolor='k')\n",
    "        \n",
    "    g.set_titles(visible=False)\n",
    "    #g.axes[0][0].set_yticklabels([\"0%\", \"20%\", \"40%\", \"60%\", \"80%\", \"100%\"]);\n",
    "    \n",
    "    sns.despine(top=True, right=True, left=True)\n",
    "    g.fig.subplots_adjust(left=.2, top=.95)\n",
    "    \n",
    "    #g.fig.tight_layout(w_pad=1)\n",
    "    #plt.setp(g.ax.lines,linewidth=1);\n",
    "    g.fig.savefig(save_path, width=5, dpi=150, pad_inches=0, transparent=True)\n",
    "    plt.close()"
   ]
  },
  {
   "cell_type": "code",
   "execution_count": 8,
   "metadata": {
    "ExecuteTime": {
     "end_time": "2018-04-26T15:00:29.239149Z",
     "start_time": "2018-04-26T15:00:29.236112Z"
    },
    "collapsed": true
   },
   "outputs": [],
   "source": [
    "def print_subset_stats(subset):\n",
    "    print(\"%.1f%%+-%.1f%% (s.e.=%.1f%%)\" % (np.mean(subset)*100,\n",
    "                np.std(subset)*100, np.std(subset)*100/(len(subset)**.5)))"
   ]
  },
  {
   "cell_type": "markdown",
   "metadata": {
    "heading_collapsed": true
   },
   "source": [
    "## Vascularization statistics"
   ]
  },
  {
   "cell_type": "code",
   "execution_count": 323,
   "metadata": {
    "ExecuteTime": {
     "end_time": "2018-04-25T20:21:23.787371Z",
     "start_time": "2018-04-25T20:21:23.759323Z"
    },
    "collapsed": true,
    "hidden": true
   },
   "outputs": [],
   "source": [
    "vasc_depo_df = pd.read_excel(C.data_xls_path, \"Perfusion-Deposition Data\")"
   ]
  },
  {
   "cell_type": "code",
   "execution_count": 341,
   "metadata": {
    "ExecuteTime": {
     "end_time": "2018-04-25T21:04:05.770737Z",
     "start_time": "2018-04-25T21:04:05.761712Z"
    },
    "collapsed": true,
    "hidden": true
   },
   "outputs": [],
   "source": [
    "def get_dvasc_df(vasc_depo_df, mode=\"density\"):\n",
    "    dvasc_df = copy.deepcopy(vasc_depo_df)\n",
    "    if mode == \"density\":\n",
    "        for l in [\"N\", \"V\", \"A\"]:\n",
    "            dvasc_df[\"0\"+l] = dvasc_df[\"0\"+l] - dvasc_df[\"75\"+l]\n",
    "            dvasc_df[\"75\"+l] = dvasc_df[\"75\"+l] - dvasc_df[\"160\"+l]\n",
    "            dvasc_df[\"160\"+l] = dvasc_df[\"160\"+l] - dvasc_df[\"215\"+l]\n",
    "    elif mode == \"V-N\":\n",
    "        dvasc_df[\"75dVN\"] = dvasc_df[\"75V\"] - dvasc_df[\"75N\"]\n",
    "    return dvasc_df"
   ]
  },
  {
   "cell_type": "code",
   "execution_count": 330,
   "metadata": {
    "ExecuteTime": {
     "end_time": "2018-04-25T20:23:08.645050Z",
     "start_time": "2018-04-25T20:23:08.639037Z"
    },
    "collapsed": true,
    "hidden": true
   },
   "outputs": [],
   "source": [
    "dvasc_df = get_dvasc_df(vasc_depo_df)"
   ]
  },
  {
   "cell_type": "markdown",
   "metadata": {
    "hidden": true
   },
   "source": [
    "### Upper graph"
   ]
  },
  {
   "cell_type": "code",
   "execution_count": 82,
   "metadata": {
    "ExecuteTime": {
     "end_time": "2018-04-25T16:47:44.128176Z",
     "start_time": "2018-04-25T16:47:44.107118Z"
    },
    "hidden": true
   },
   "outputs": [
    {
     "name": "stdout",
     "output_type": "stream",
     "text": [
      "-0.047909277589692406 0.11751047183901932 0.01629577044690582\n",
      "-0.06279384736115459 0.15106131524790584 0.02094843530251364\n",
      "0.009425699200600697 0.09242838200911949 0.012817510409309755\n",
      "0.10127742575024629 0.16765249490841708 0.023249217955837048\n",
      "WilcoxonResult(statistic=404.0, pvalue=0.038078295820399954)\n",
      "WilcoxonResult(statistic=343.0, pvalue=0.0016271628842539235)\n",
      "WilcoxonResult(statistic=539.0, pvalue=0.46470209994046485)\n",
      "WilcoxonResult(statistic=201.0, pvalue=0.00012237265715929783)\n"
     ]
    }
   ],
   "source": [
    "for i in range(4):\n",
    "    subset = (dvasc_df[\"%dV\" % liplvls[i]] - dvasc_df[\"%dN\" % liplvls[i]]).dropna()\n",
    "    print(\"%.1f%%+-%.1f%% (s.e.=%.1f%%)\" % (np.mean(subset)*100,\n",
    "                                    np.std(subset)*100, np.std(subset)*100/(len(subset)**.5)))\n",
    "\n",
    "#DV = dvasc_df.dropna()\n",
    "#[scipy.stats.wilcoxon(DV[\"%dV\" % liplvls[i]], DV[\"%dN\" % liplvls[i]]) for i in range(4)]\n",
    "\n",
    "for i in range(4):\n",
    "    subset = dvasc_df[[\"%dV\" % liplvls[i], \"%dN\" % liplvls[i]]].dropna()\n",
    "    print(scipy.stats.wilcoxon(subset[\"%dV\" % liplvls[i]], subset[\"%dN\" % liplvls[i]]))"
   ]
  },
  {
   "cell_type": "code",
   "execution_count": 368,
   "metadata": {
    "ExecuteTime": {
     "end_time": "2018-04-25T21:13:05.873151Z",
     "start_time": "2018-04-25T21:13:05.841066Z"
    },
    "hidden": true
   },
   "outputs": [
    {
     "name": "stdout",
     "output_type": "stream",
     "text": [
      "0.0013432675407673645\n",
      "76.8%+-26.1% (s.e.=4.0%)\n",
      "53.9%+-25.5% (s.e.=6.6%)\n"
     ]
    }
   ],
   "source": [
    "master_df = pd.read_excel(r\"D:\\Lipiodol\\MASTER SOPHIE.xlsx\", \"Lesions analyzed\", index_col=\"Lesion_ID\")#\"C:\\Users\\Clinton\\Box\\FOR CLINTON BOX FOLDER\\MASTER SS SOPHIE.xlsx\")\n",
    "#dvasc_df = dvasc_df.join(master_df, how='inner')\n",
    "dvasc_df = vasc_depo_df.join(master_df, how='inner')\n",
    "i=1\n",
    "subset1 = dvasc_df.loc[dvasc_df[\"0=well delineated, 1=infiltrative\"] == 0, \"%dA\" % liplvls[i]].dropna()\n",
    "subset2 = dvasc_df.loc[dvasc_df[\"0=well delineated, 1=infiltrative\"] == 1, \"%dA\" % liplvls[i]].dropna()\n",
    "print(scipy.stats.mannwhitneyu(subset1, subset2).pvalue)\n",
    "print_subset_stats(subset1)\n",
    "print_subset_stats(subset2)"
   ]
  },
  {
   "cell_type": "code",
   "execution_count": 104,
   "metadata": {
    "ExecuteTime": {
     "end_time": "2018-04-25T17:37:50.800903Z",
     "start_time": "2018-04-25T17:37:50.796880Z"
    },
    "collapsed": true,
    "hidden": true
   },
   "outputs": [],
   "source": [
    "kwargs = {\"data\":dvasc_df, \"size\":3, \"aspect\":.8, \"kind\":\"bar\", \"color\":\"#C3C3C3\", \"legend\":False}"
   ]
  },
  {
   "cell_type": "code",
   "execution_count": 107,
   "metadata": {
    "ExecuteTime": {
     "end_time": "2018-04-25T17:39:02.317845Z",
     "start_time": "2018-04-25T17:39:02.203553Z"
    },
    "collapsed": true,
    "hidden": true
   },
   "outputs": [],
   "source": [
    "g = sns.factorplot(x=\"0=well delineated, 1=infiltrative\", y=\"75A\", **kwargs)\n",
    "set_g_bar(g, join(C.fig_dir, \"Vascularization figures\", \"well-del vs infilt.png\"))"
   ]
  },
  {
   "cell_type": "code",
   "execution_count": 369,
   "metadata": {
    "ExecuteTime": {
     "end_time": "2018-04-25T21:13:07.281463Z",
     "start_time": "2018-04-25T21:13:07.272439Z"
    },
    "hidden": true
   },
   "outputs": [
    {
     "name": "stdout",
     "output_type": "stream",
     "text": [
      "0.2555479867229442\n",
      "70.0%+-28.7% (s.e.=4.8%)\n",
      "72.4%+-26.3% (s.e.=5.6%)\n"
     ]
    }
   ],
   "source": [
    "i=1\n",
    "subset1 = dvasc_df.loc[dvasc_df[\"selective=0\"] == 0, \"%dA\" % liplvls[i]].dropna()\n",
    "subset2 = dvasc_df.loc[dvasc_df[\"selective=0\"] == 1, \"%dA\" % liplvls[i]].dropna()\n",
    "print(scipy.stats.mannwhitneyu(subset1, subset2).pvalue)\n",
    "print_subset_stats(subset1)\n",
    "print_subset_stats(subset2)"
   ]
  },
  {
   "cell_type": "code",
   "execution_count": 110,
   "metadata": {
    "ExecuteTime": {
     "end_time": "2018-04-25T17:39:27.636408Z",
     "start_time": "2018-04-25T17:39:27.516909Z"
    },
    "collapsed": true,
    "hidden": true
   },
   "outputs": [],
   "source": [
    "g = sns.factorplot(x=\"selective=0\", y=\"75A\", **kwargs)\n",
    "set_g_bar(g, join(C.fig_dir, \"Vascularization figures\", \"selective vs lobar.png\"))"
   ]
  },
  {
   "cell_type": "code",
   "execution_count": 370,
   "metadata": {
    "ExecuteTime": {
     "end_time": "2018-04-25T21:13:12.221218Z",
     "start_time": "2018-04-25T21:13:12.208184Z"
    },
    "hidden": true
   },
   "outputs": [
    {
     "name": "stdout",
     "output_type": "stream",
     "text": [
      "0.00011488191286503419\n",
      "80.2%+-25.4% (s.e.=4.2%)\n",
      "39.6%+-12.7% (s.e.=3.8%)\n",
      "70.9%+-23.0% (s.e.=7.3%)\n"
     ]
    }
   ],
   "source": [
    "i=1\n",
    "subset1 = dvasc_df.loc[dvasc_df[\"HCC(0), ICC(1), other(2)\"] == 0, \"%dA\" % liplvls[i]].dropna()\n",
    "subset2 = dvasc_df.loc[dvasc_df[\"HCC(0), ICC(1), other(2)\"] == 1, \"%dA\" % liplvls[i]].dropna()\n",
    "subset3 = dvasc_df.loc[dvasc_df[\"HCC(0), ICC(1), other(2)\"] == 2, \"%dA\" % liplvls[i]].dropna()\n",
    "print(scipy.stats.kruskal(subset1, subset2, subset3).pvalue)\n",
    "print_subset_stats(subset1)\n",
    "print_subset_stats(subset2)\n",
    "print_subset_stats(subset3)"
   ]
  },
  {
   "cell_type": "code",
   "execution_count": 114,
   "metadata": {
    "ExecuteTime": {
     "end_time": "2018-04-25T17:40:28.192489Z",
     "start_time": "2018-04-25T17:40:28.060341Z"
    },
    "collapsed": true,
    "hidden": true
   },
   "outputs": [],
   "source": [
    "g = sns.factorplot(x=\"HCC(0), ICC(1), other(2)\", y=\"75A\", order=[0,2,1], **kwargs)\n",
    "set_g_bar(g, join(C.fig_dir, \"Vascularization figures\", \"tumor entity.png\"))"
   ]
  },
  {
   "cell_type": "code",
   "execution_count": 116,
   "metadata": {
    "ExecuteTime": {
     "end_time": "2018-04-25T17:41:54.759978Z",
     "start_time": "2018-04-25T17:41:54.651866Z"
    },
    "collapsed": true,
    "hidden": true
   },
   "outputs": [],
   "source": [
    "g = sns.factorplot(x=\"0A\", y=\"75A\", , **kwargs)\n",
    "set_g_bar(g, join(C.fig_dir, \"Vascularization figures\", \"all tumors.png\"))"
   ]
  },
  {
   "cell_type": "markdown",
   "metadata": {
    "heading_collapsed": true,
    "hidden": true
   },
   "source": [
    "### Middle Graph (Necro to Viable diff, no Lip breakdown)"
   ]
  },
  {
   "cell_type": "code",
   "execution_count": 342,
   "metadata": {
    "ExecuteTime": {
     "end_time": "2018-04-25T21:04:16.714837Z",
     "start_time": "2018-04-25T21:04:16.688768Z"
    },
    "collapsed": true,
    "hidden": true
   },
   "outputs": [],
   "source": [
    "Vdf = vasc_depo_df.dropna()\n",
    "dvasc_df = get_dvasc_df(vasc_depo_df, \"V-N\")\n",
    "master_df = pd.read_excel(r\"D:\\Lipiodol\\MASTER SOPHIE.xlsx\", \"Lesions analyzed\", index_col=\"Lesion_ID\")#\"C:\\Users\\Clinton\\Box\\FOR CLINTON BOX FOLDER\\MASTER SS SOPHIE.xlsx\")\n",
    "#master_df = master_df.join(pattern_df)\n",
    "dvasc_df = dvasc_df.join(master_df)"
   ]
  },
  {
   "cell_type": "code",
   "execution_count": 366,
   "metadata": {
    "ExecuteTime": {
     "end_time": "2018-04-25T21:12:05.455433Z",
     "start_time": "2018-04-25T21:12:05.446411Z"
    },
    "hidden": true,
    "scrolled": true
   },
   "outputs": [
    {
     "name": "stdout",
     "output_type": "stream",
     "text": [
      "2.72e-01\n",
      "5.2%+-13.0% (s.e.=2.1%)\n",
      "3.7%+-7.8% (s.e.=2.0%)\n"
     ]
    }
   ],
   "source": [
    "i = 1\n",
    "subset1 = dvasc_df.loc[dvasc_df[\"0=well delineated, 1=infiltrative\"] == 0, \"%ddVN\" % liplvls[i]].dropna()\n",
    "subset2 = dvasc_df.loc[dvasc_df[\"0=well delineated, 1=infiltrative\"] == 1, \"%ddVN\" % liplvls[i]].dropna()\n",
    "print(\"%.2f\" % scipy.stats.mannwhitneyu(subset1, subset2).pvalue)\n",
    "print_subset_stats(subset1)\n",
    "print_subset_stats(subset2)"
   ]
  },
  {
   "cell_type": "code",
   "execution_count": 356,
   "metadata": {
    "ExecuteTime": {
     "end_time": "2018-04-25T21:11:00.764108Z",
     "start_time": "2018-04-25T21:11:00.752075Z"
    },
    "hidden": true
   },
   "outputs": [
    {
     "name": "stdout",
     "output_type": "stream",
     "text": [
      "0.485\n",
      "5.6%+-13.3% (s.e.=2.3%)\n",
      "3.5%+-8.3% (s.e.=1.9%)\n"
     ]
    }
   ],
   "source": [
    "i = 1\n",
    "subset1 = dvasc_df.loc[dvasc_df[\"selective=0\"] == 0, \"%ddVN\" % liplvls[i]].dropna()\n",
    "subset2 = dvasc_df.loc[dvasc_df[\"selective=0\"] == 1, \"%ddVN\" % liplvls[i]].dropna()\n",
    "print(\"%.2f\" % scipy.stats.mannwhitneyu(subset1, subset2).pvalue)\n",
    "print_subset_stats(subset1)\n",
    "print_subset_stats(subset2)"
   ]
  },
  {
   "cell_type": "code",
   "execution_count": 357,
   "metadata": {
    "ExecuteTime": {
     "end_time": "2018-04-25T21:11:07.948453Z",
     "start_time": "2018-04-25T21:11:07.935421Z"
    },
    "hidden": true,
    "scrolled": true
   },
   "outputs": [
    {
     "name": "stdout",
     "output_type": "stream",
     "text": [
      "0.549\n",
      "6.3%+-13.1% (s.e.=2.3%)\n",
      "4.2%+-11.6% (s.e.=3.9%)\n",
      "1.0%+-4.9% (s.e.=1.5%)\n"
     ]
    }
   ],
   "source": [
    "i = 1\n",
    "subset1 = dvasc_df.loc[dvasc_df[\"HCC(0), ICC(1), other(2)\"] == 0, \"%ddVN\" % liplvls[i]].dropna()\n",
    "subset3 = dvasc_df.loc[dvasc_df[\"HCC(0), ICC(1), other(2)\"] == 1, \"%ddVN\" % liplvls[i]].dropna()\n",
    "subset2 = dvasc_df.loc[dvasc_df[\"HCC(0), ICC(1), other(2)\"] == 2, \"%ddVN\" % liplvls[i]].dropna()\n",
    "print(\"%.2f\" % scipy.stats.kruskal(subset1, subset2, subset3).pvalue)\n",
    "print_subset_stats(subset1)\n",
    "print_subset_stats(subset2)\n",
    "print_subset_stats(subset3)"
   ]
  },
  {
   "cell_type": "code",
   "execution_count": 372,
   "metadata": {
    "ExecuteTime": {
     "end_time": "2018-04-25T21:21:30.072260Z",
     "start_time": "2018-04-25T21:21:30.048166Z"
    },
    "collapsed": true,
    "hidden": true
   },
   "outputs": [],
   "source": [
    "df = pd.DataFrame(columns=[\"Any Coverage\", \"Lesion_id\", \"Tissue Type\",\n",
    "                       \"Tumor Growth\", \"Tumor Type\", \"TACE Type\"])\n",
    "\n",
    "master_df = pd.read_excel(r\"D:\\Lipiodol\\MASTER SOPHIE.xlsx\", \"Lesions analyzed\", index_col=\"Lesion_ID\")#\"C:\\Users\\Clinton\\Box\\FOR CLINTON BOX FOLDER\\MASTER SS SOPHIE.xlsx\")\n",
    "master_df = master_df.join(pattern_df)\n",
    "modality = \"mrbl\""
   ]
  },
  {
   "cell_type": "code",
   "execution_count": 373,
   "metadata": {
    "ExecuteTime": {
     "end_time": "2018-04-25T21:21:31.755489Z",
     "start_time": "2018-04-25T21:21:31.454581Z"
    },
    "collapsed": true,
    "hidden": true
   },
   "outputs": [],
   "source": [
    "importlib.reload(lvis)\n",
    "ix = 0\n",
    "for lesion_id, row in Vdf.iterrows():\n",
    "    const = lvis.get_df_entry(lesion_id, master_df, modality)\n",
    "    \n",
    "    df.loc[ix] = [row[\"75N\"], lesion_id, \"Necrosis\"] + const\n",
    "    df.loc[ix+1] = [row[\"75V\"], lesion_id, \"Viable\"] + const\n",
    "    ix += 2"
   ]
  },
  {
   "cell_type": "code",
   "execution_count": null,
   "metadata": {
    "collapsed": true,
    "hidden": true
   },
   "outputs": [],
   "source": [
    "def set_g_bar(g, save_path):\n",
    "    g.set(yticks=[0.,.2,.4,.6,.8,1.], ylim=(0.,1.));\n",
    "    \n",
    "    for gax in g.axes[0]:\n",
    "        gax.set_xlabel(\"\")\n",
    "        gax.set_ylabel(\"\")\n",
    "        #gax.tick_params('x',width=0)\n",
    "        gax.set_xticks([], minor=False)\n",
    "        gax.set_yticks([], minor=False)\n",
    "        plt.setp(gax.patches, linewidth=1, edgecolor='k')\n",
    "        \n",
    "    g.set_titles(visible=False)\n",
    "    #g.axes[0][0].set_yticklabels([\"0%\", \"20%\", \"40%\", \"60%\", \"80%\", \"100%\"]);\n",
    "    \n",
    "    sns.despine(top=True, right=True, left=True)\n",
    "    g.fig.subplots_adjust(left=.2, top=.95)\n",
    "    \n",
    "    #g.fig.tight_layout(w_pad=1)\n",
    "    #plt.setp(g.ax.lines,linewidth=1);\n",
    "    g.fig.savefig(save_path, width=5, dpi=150, pad_inches=0, transparent=True)\n",
    "    plt.close()"
   ]
  },
  {
   "cell_type": "code",
   "execution_count": 376,
   "metadata": {
    "ExecuteTime": {
     "end_time": "2018-04-25T21:27:48.116491Z",
     "start_time": "2018-04-25T21:27:48.112475Z"
    },
    "collapsed": true,
    "hidden": true
   },
   "outputs": [],
   "source": [
    "kwargs = {\"x\":\"Tissue Type\", \"data\":df, \"size\":3, \"aspect\":.8, \"kind\":\"bar\", \"legend\":False}#, \"ci\":None"
   ]
  },
  {
   "cell_type": "code",
   "execution_count": 378,
   "metadata": {
    "ExecuteTime": {
     "end_time": "2018-04-25T21:28:21.382235Z",
     "start_time": "2018-04-25T21:28:20.431608Z"
    },
    "collapsed": true,
    "hidden": true
   },
   "outputs": [],
   "source": [
    "g1 = sns.factorplot(y=\"Any Coverage\", color=\"#D3D3D3\", **kwargs)\n",
    "set_g_bar(g1, join(C.fig_dir, \"Vascularization figures\", \"Mid graph\", \"Mean.png\"))\n",
    "\n",
    "for category, order in [(\"Tumor Growth\", None), (\"Tumor Type\", None),\n",
    "                        (\"TACE Type\", [\"Selective\", \"Lobar\"])]: #, (\"Sparsity\", [\"Sparse\", \"Non\"])\n",
    "    order = lm.get_actual_order(category, df, order)\n",
    "    g1 = sns.factorplot(y=\"Any Coverage\", col=category, color=\"#D3D3D3\", col_order=order, **kwargs)\n",
    "    set_g_bar(g1, join(C.fig_dir, \"Vascularization figures\", \"Mid graph\", \"%s.png\" % category))"
   ]
  },
  {
   "cell_type": "markdown",
   "metadata": {
    "heading_collapsed": true,
    "hidden": true
   },
   "source": [
    "### Alternative Mid Graph (Lip density, no Necro/Viable separation)"
   ]
  },
  {
   "cell_type": "code",
   "execution_count": 332,
   "metadata": {
    "ExecuteTime": {
     "end_time": "2018-04-25T20:23:21.635026Z",
     "start_time": "2018-04-25T20:23:21.631018Z"
    },
    "collapsed": true,
    "hidden": true
   },
   "outputs": [],
   "source": [
    "Vdf = vasc_depo_df.dropna()"
   ]
  },
  {
   "cell_type": "code",
   "execution_count": 331,
   "metadata": {
    "ExecuteTime": {
     "end_time": "2018-04-25T20:23:16.757599Z",
     "start_time": "2018-04-25T20:23:16.750580Z"
    },
    "collapsed": true,
    "hidden": true
   },
   "outputs": [],
   "source": [
    "dvasc_df = get_dvasc_df(vasc_depo_df)"
   ]
  },
  {
   "cell_type": "code",
   "execution_count": 333,
   "metadata": {
    "ExecuteTime": {
     "end_time": "2018-04-25T20:23:59.267989Z",
     "start_time": "2018-04-25T20:23:59.246934Z"
    },
    "collapsed": true,
    "hidden": true
   },
   "outputs": [],
   "source": [
    "master_df = pd.read_excel(r\"D:\\Lipiodol\\MASTER SOPHIE.xlsx\", \"Lesions analyzed\", index_col=\"Lesion_ID\")#\"C:\\Users\\Clinton\\Box\\FOR CLINTON BOX FOLDER\\MASTER SS SOPHIE.xlsx\")\n",
    "#master_df = master_df.join(pattern_df)\n",
    "dvasc_df = dvasc_df.join(master_df)"
   ]
  },
  {
   "cell_type": "code",
   "execution_count": null,
   "metadata": {
    "ExecuteTime": {
     "end_time": "2018-04-25T20:24:10.529296Z",
     "start_time": "2018-04-25T20:24:10.510231Z"
    },
    "collapsed": true,
    "hidden": true
   },
   "outputs": [],
   "source": [
    "for i in range(4):\n",
    "    print(liplvls[i])\n",
    "    subset1 = dvasc_df.loc[dvasc_df[\"0=well delineated, 1=infiltrative\"] == 0, \"%dA\" % liplvls[i]].dropna()\n",
    "    subset2 = dvasc_df.loc[dvasc_df[\"0=well delineated, 1=infiltrative\"] == 1, \"%dA\" % liplvls[i]].dropna()\n",
    "    print(scipy.stats.mannwhitneyu(subset1, subset2))\n",
    "    print(\"%.1f%%+-%.1f%% (s.e.=%.1f%%)\" % (np.mean(subset1)*100, np.std(subset1)*100, np.std(subset1)*100/(len(subset1)**.5)))\n",
    "    print(\"%.1f%%+-%.1f%% (s.e.=%.1f%%)\" % (np.mean(subset2)*100, np.std(subset2)*100, np.std(subset2)*100/(len(subset2)**.5)))"
   ]
  },
  {
   "cell_type": "code",
   "execution_count": null,
   "metadata": {
    "ExecuteTime": {
     "end_time": "2018-04-25T20:27:15.122706Z",
     "start_time": "2018-04-25T20:27:15.103656Z"
    },
    "collapsed": true,
    "hidden": true
   },
   "outputs": [],
   "source": [
    "for i in range(4):\n",
    "    print(liplvls[i])\n",
    "    subset1 = dvasc_df.loc[dvasc_df[\"selective=0\"] == 0, \"%dA\" % liplvls[i]].dropna()\n",
    "    subset2 = dvasc_df.loc[dvasc_df[\"selective=0\"] == 1, \"%dA\" % liplvls[i]].dropna()\n",
    "    print(scipy.stats.mannwhitneyu(subset1, subset2))\n",
    "    print(\"%.1f%%+-%.1f%% (s.e.=%.1f%%)\" % (np.mean(subset1)*100, np.std(subset1)*100, np.std(subset1)*100/(len(subset1)**.5)))\n",
    "    print(\"%.1f%%+-%.1f%% (s.e.=%.1f%%)\" % (np.mean(subset2)*100, np.std(subset2)*100, np.std(subset2)*100/(len(subset2)**.5)))"
   ]
  },
  {
   "cell_type": "code",
   "execution_count": 338,
   "metadata": {
    "ExecuteTime": {
     "end_time": "2018-04-25T20:40:14.952092Z",
     "start_time": "2018-04-25T20:40:14.928029Z"
    },
    "hidden": true,
    "scrolled": true
   },
   "outputs": [
    {
     "name": "stdout",
     "output_type": "stream",
     "text": [
      "KruskalResult(statistic=18.14321160363808, pvalue=0.00011488191286503579)\n",
      "19.8%+-25.4% (s.e.=4.2%)\n",
      "29.1%+-23.0% (s.e.=7.3%)\n",
      "60.4%+-12.7% (s.e.=3.8%)\n",
      "KruskalResult(statistic=15.098642258431852, pvalue=0.0005264674091710209)\n",
      "28.9%+-16.2% (s.e.=2.7%)\n",
      "52.0%+-15.2% (s.e.=4.8%)\n",
      "35.3%+-10.5% (s.e.=3.2%)\n",
      "KruskalResult(statistic=16.318025146008512, pvalue=0.00028614480244862323)\n",
      "16.4%+-10.6% (s.e.=1.7%)\n",
      "12.7%+-10.4% (s.e.=3.3%)\n",
      "3.0%+-3.4% (s.e.=1.0%)\n",
      "KruskalResult(statistic=24.268648160106817, pvalue=5.371925862881901e-06)\n",
      "34.9%+-27.5% (s.e.=4.5%)\n",
      "6.3%+-5.9% (s.e.=1.9%)\n",
      "1.3%+-2.0% (s.e.=0.6%)\n"
     ]
    }
   ],
   "source": [
    "for i in range(4):\n",
    "    subset1 = dvasc_df.loc[dvasc_df[\"HCC(0), ICC(1), other(2)\"] == 0, \"%dA\" % liplvls[i]].dropna()\n",
    "    subset3 = dvasc_df.loc[dvasc_df[\"HCC(0), ICC(1), other(2)\"] == 1, \"%dA\" % liplvls[i]].dropna()\n",
    "    subset2 = dvasc_df.loc[dvasc_df[\"HCC(0), ICC(1), other(2)\"] == 2, \"%dA\" % liplvls[i]].dropna()\n",
    "    print(scipy.stats.kruskal(subset1, subset2, subset3))\n",
    "    print(\"%.1f%%+-%.1f%% (s.e.=%.1f%%)\" % (np.mean(subset1)*100, np.std(subset1)*100, np.std(subset1)*100/(len(subset1)**.5)))\n",
    "    print(\"%.1f%%+-%.1f%% (s.e.=%.1f%%)\" % (np.mean(subset2)*100, np.std(subset2)*100, np.std(subset2)*100/(len(subset2)**.5)))\n",
    "    print(\"%.1f%%+-%.1f%% (s.e.=%.1f%%)\" % (np.mean(subset3)*100, np.std(subset3)*100, np.std(subset3)*100/(len(subset3)**.5)))"
   ]
  },
  {
   "cell_type": "code",
   "execution_count": null,
   "metadata": {
    "collapsed": true,
    "hidden": true
   },
   "outputs": [],
   "source": []
  },
  {
   "cell_type": "code",
   "execution_count": 316,
   "metadata": {
    "ExecuteTime": {
     "end_time": "2018-04-25T20:16:28.146558Z",
     "start_time": "2018-04-25T20:16:28.142520Z"
    },
    "collapsed": true,
    "hidden": true
   },
   "outputs": [],
   "source": [
    "def get_row(row):\n",
    "    char=\"A\"\n",
    "    return [row[\"%d%s\"%(liplvls[1],char)],\n",
    "            row[\"%d%s\"%(liplvls[1],char)] - row[\"%d%s\"%(liplvls[3],char)],\n",
    "            row[\"%d%s\"%(liplvls[1],char)] - row[\"%d%s\"%(liplvls[2],char)]]"
   ]
  },
  {
   "cell_type": "code",
   "execution_count": 317,
   "metadata": {
    "ExecuteTime": {
     "end_time": "2018-04-25T20:16:29.795503Z",
     "start_time": "2018-04-25T20:16:29.578849Z"
    },
    "collapsed": true,
    "hidden": true,
    "scrolled": true
   },
   "outputs": [],
   "source": [
    "df = pd.DataFrame(columns=[\"Any Coverage\", \"Low-Mid Coverage\", \"Low Coverage\", \"Lesion_id\",\n",
    "                       \"Tumor Growth\", \"Tumor Type\", \"TACE Type\"])\n",
    "\n",
    "importlib.reload(lvis)\n",
    "ix = 0\n",
    "modality = \"mrbl\"\n",
    "for lesion_id, row in Vdf.iterrows():\n",
    "    const = lvis.get_df_entry(lesion_id, master_df, modality)\n",
    "    \n",
    "    df.loc[ix] = get_row(row) + [lesion_id] + const\n",
    "    ix += 1"
   ]
  },
  {
   "cell_type": "code",
   "execution_count": 318,
   "metadata": {
    "ExecuteTime": {
     "end_time": "2018-04-25T20:16:32.626435Z",
     "start_time": "2018-04-25T20:16:32.606384Z"
    },
    "collapsed": true,
    "hidden": true
   },
   "outputs": [],
   "source": [
    "def set_g_bar(g, save_path):\n",
    "    g.set(yticks=[0.,.2,.4,.6,.8,1.], ylim=(0.,1.));\n",
    "    \n",
    "    for gax in g.axes[0]:\n",
    "        gax.set_xlabel(\"\")\n",
    "        gax.set_ylabel(\"\")\n",
    "        #gax.tick_params('x',width=0)\n",
    "        gax.set_xticks([], minor=False)\n",
    "        gax.set_yticks([], minor=False)\n",
    "        plt.setp(gax.patches, linewidth=1, edgecolor='k')\n",
    "        \n",
    "    g.set_titles(visible=False)\n",
    "    #g.axes[0][0].set_yticklabels([\"0%\", \"20%\", \"40%\", \"60%\", \"80%\", \"100%\"]);\n",
    "    \n",
    "    sns.despine(top=True, right=True, left=True)\n",
    "    g.fig.subplots_adjust(left=.2, top=.95)\n",
    "    \n",
    "    #g.fig.tight_layout(w_pad=1)\n",
    "    #plt.setp(g.ax.lines,linewidth=1);\n",
    "    g.fig.savefig(save_path, width=5, dpi=150, pad_inches=0, transparent=True)\n",
    "    plt.close()"
   ]
  },
  {
   "cell_type": "code",
   "execution_count": 319,
   "metadata": {
    "ExecuteTime": {
     "end_time": "2018-04-25T20:17:14.578877Z",
     "start_time": "2018-04-25T20:17:14.575868Z"
    },
    "collapsed": true,
    "hidden": true
   },
   "outputs": [],
   "source": [
    "kwargs = {\"data\":df, \"size\":3, \"aspect\":.8, \"kind\":\"bar\", \"ci\":None, \"legend\":False}"
   ]
  },
  {
   "cell_type": "code",
   "execution_count": 320,
   "metadata": {
    "ExecuteTime": {
     "end_time": "2018-04-25T20:17:42.360191Z",
     "start_time": "2018-04-25T20:17:40.670966Z"
    },
    "collapsed": true,
    "hidden": true
   },
   "outputs": [],
   "source": [
    "g1 = sns.factorplot(y=\"Any Coverage\", color=\"#D3D3D3\", **kwargs)\n",
    "set_g_bar(g1, join(C.fig_dir, \"Vascularization figures\", \"Mid graph\", \"Mean1.png\"))\n",
    "g2 = sns.factorplot(y=\"Low-Mid Coverage\", color=\"#939393\", **kwargs)\n",
    "set_g_bar(g2, join(C.fig_dir, \"Vascularization figures\", \"Mid graph\", \"Mean2.png\"))\n",
    "g3 = sns.factorplot(y=\"Low Coverage\", color=\"#333333\", **kwargs)\n",
    "set_g_bar(g3, join(C.fig_dir, \"Vascularization figures\", \"Mid graph\", \"Mean3.png\"))\n",
    "\n",
    "for category, order in [(\"Tumor Growth\", None), (\"Tumor Type\", None),\n",
    "                        (\"TACE Type\", [\"Selective\", \"Lobar\"])]: #, (\"Sparsity\", [\"Sparse\", \"Non\"])\n",
    "\n",
    "    order = lm.get_actual_order(category, df, order)\n",
    "    g1 = sns.factorplot(y=\"Any Coverage\", col=category, color=\"#D3D3D3\", col_order=order, **kwargs)\n",
    "    set_g_bar(g1, join(C.fig_dir, \"Vascularization figures\", \"Mid graph\", \"%s1.png\" % category))\n",
    "    g2 = sns.factorplot(y=\"Low-Mid Coverage\", col=category, color=\"#939393\", col_order=order, **kwargs)\n",
    "    set_g_bar(g2, join(C.fig_dir, \"Vascularization figures\", \"Mid graph\", \"%s2.png\" % category))\n",
    "    g3 = sns.factorplot(y=\"Low Coverage\", col=category, color=\"#333333\", col_order=order, **kwargs)\n",
    "    set_g_bar(g3, join(C.fig_dir, \"Vascularization figures\", \"Mid graph\", \"%s3.png\" % category))"
   ]
  },
  {
   "cell_type": "markdown",
   "metadata": {},
   "source": [
    "## Response statistics"
   ]
  },
  {
   "cell_type": "code",
   "execution_count": 50,
   "metadata": {
    "ExecuteTime": {
     "end_time": "2018-04-26T19:29:41.086509Z",
     "start_time": "2018-04-26T19:29:41.027195Z"
    },
    "collapsed": true
   },
   "outputs": [],
   "source": [
    "depo_resp_df = pd.read_excel(C.data_xls_path, \"Deposition-Response Data\")"
   ]
  },
  {
   "cell_type": "code",
   "execution_count": 51,
   "metadata": {
    "ExecuteTime": {
     "end_time": "2018-04-26T19:29:42.573152Z",
     "start_time": "2018-04-26T19:29:42.568139Z"
    },
    "collapsed": true
   },
   "outputs": [],
   "source": [
    "Rdf = depo_resp_df.dropna()"
   ]
  },
  {
   "cell_type": "code",
   "execution_count": 381,
   "metadata": {
    "ExecuteTime": {
     "end_time": "2018-04-25T22:07:29.674112Z",
     "start_time": "2018-04-25T22:07:29.665120Z"
    }
   },
   "outputs": [
    {
     "data": {
      "text/plain": [
       "FriedmanchisquareResult(statistic=23.937931034482745, pvalue=2.5736515175334642e-05)"
      ]
     },
     "execution_count": 381,
     "metadata": {},
     "output_type": "execute_result"
    }
   ],
   "source": [
    "scipy.stats.friedmanchisquare(*[Rdf[l] for l in liplvls])"
   ]
  },
  {
   "cell_type": "code",
   "execution_count": 387,
   "metadata": {
    "ExecuteTime": {
     "end_time": "2018-04-25T22:09:36.774225Z",
     "start_time": "2018-04-25T22:09:36.769198Z"
    }
   },
   "outputs": [
    {
     "data": {
      "text/plain": [
       "WilcoxonResult(statistic=83.0, pvalue=0.0036337564975753973)"
      ]
     },
     "execution_count": 387,
     "metadata": {},
     "output_type": "execute_result"
    }
   ],
   "source": [
    "scipy.stats.wilcoxon(Rdf[0], Rdf[160])"
   ]
  },
  {
   "cell_type": "code",
   "execution_count": 139,
   "metadata": {
    "ExecuteTime": {
     "end_time": "2018-04-25T18:04:35.250023Z",
     "start_time": "2018-04-25T18:04:35.244008Z"
    },
    "collapsed": true,
    "scrolled": true
   },
   "outputs": [],
   "source": [
    "dresp_df = copy.deepcopy(depo_resp_df)\n",
    "dresp_df[215] = dresp_df[215] - dresp_df[0]\n",
    "dresp_df[160] = dresp_df[160] - dresp_df[0]\n",
    "dresp_df[75] = dresp_df[75] - dresp_df[0]\n",
    "dresp_df[0] = 0"
   ]
  },
  {
   "cell_type": "code",
   "execution_count": 141,
   "metadata": {
    "ExecuteTime": {
     "end_time": "2018-04-25T18:07:23.666663Z",
     "start_time": "2018-04-25T18:07:23.660620Z"
    }
   },
   "outputs": [
    {
     "name": "stdout",
     "output_type": "stream",
     "text": [
      "0.0%+-0.0% (s.e.=0.0%)\n",
      "3.1%+-20.3% (s.e.=2.7%)\n",
      "14.2%+-29.5% (s.e.=3.9%)\n",
      "20.4%+-27.4% (s.e.=3.6%)\n"
     ]
    }
   ],
   "source": [
    "for l in liplvls:\n",
    "    subset=dresp_df[l]\n",
    "    print(\"%.1f%%+-%.1f%% (s.e.=%.1f%%)\" % (np.mean(subset)*100, np.std(subset)*100, np.std(subset)*100/(len(subset)**.5)))"
   ]
  },
  {
   "cell_type": "markdown",
   "metadata": {},
   "source": [
    "### Top graph"
   ]
  },
  {
   "cell_type": "code",
   "execution_count": 64,
   "metadata": {
    "ExecuteTime": {
     "end_time": "2018-04-26T19:34:00.491387Z",
     "start_time": "2018-04-26T19:34:00.441289Z"
    },
    "collapsed": true
   },
   "outputs": [],
   "source": [
    "pattern_df = pd.read_excel(C.data_xls_path, \"Patterns\")\n",
    "df = pd.DataFrame(columns=[\"Response\", \"Lesion_id\", \"Tumor Growth\", \"Tumor Type\", \"TACE Type\", \"Homogeneity\", \"Sparsity\", \"Rim Presence\"])\n",
    "\n",
    "master_df = pd.read_excel(r\"D:\\Lipiodol\\MASTER SOPHIE.xlsx\", \"Lesions analyzed\", index_col=\"Lesion_ID\")#\"C:\\Users\\Clinton\\Box\\FOR CLINTON BOX FOLDER\\MASTER SS SOPHIE.xlsx\")\n",
    "master_df = master_df.join(pattern_df)\n",
    "modality = \"ct24\"\n",
    "master_df[\"lipcoverage_vol\"] = master_df[\"lipcoverage_vol\"].astype(float)\n",
    "master_df[\"high_lip\"] = master_df[\"high_lip\"].astype(float)\n",
    "master_df[\"rim_lipiodol\"] = master_df[\"rim_lipiodol\"].astype(float)\n",
    "master_df[\"low_peripheral\"] = master_df[\"low_peripheral\"].astype(float)\n",
    "master_df[\"mid_peripheral\"] = master_df[\"mid_peripheral\"].astype(float)"
   ]
  },
  {
   "cell_type": "code",
   "execution_count": 65,
   "metadata": {
    "ExecuteTime": {
     "end_time": "2018-04-26T19:34:01.468468Z",
     "start_time": "2018-04-26T19:34:01.080790Z"
    },
    "collapsed": true,
    "scrolled": true
   },
   "outputs": [],
   "source": [
    "importlib.reload(lvis)\n",
    "ix = 0\n",
    "for lesion_id, row in depo_resp_df.iterrows():\n",
    "    const = lvis.get_df_entry(lesion_id, master_df, modality)\n",
    "    df.loc[ix] = [row[\"Avg\"], lesion_id] + const\n",
    "    ix += 1\n",
    "    \n",
    "#df = df[df[\"Lesion_id\"] != \"BM-06\"]\n",
    "#df = df[df[\"Lesion_id\"] != \"BM-17\"]"
   ]
  },
  {
   "cell_type": "code",
   "execution_count": 54,
   "metadata": {
    "ExecuteTime": {
     "end_time": "2018-04-26T19:30:00.729803Z",
     "start_time": "2018-04-26T19:30:00.712780Z"
    },
    "scrolled": true
   },
   "outputs": [
    {
     "name": "stdout",
     "output_type": "stream",
     "text": [
      "0.008597804683213679\n",
      "-67.7%+-29.2% (s.e.=4.5%)\n",
      "-49.5%+-25.1% (s.e.=7.2%)\n"
     ]
    }
   ],
   "source": [
    "#master_df = pd.read_excel(r\"D:\\Lipiodol\\MASTER SOPHIE.xlsx\", \"Lesions analyzed\", index_col=\"Lesion_ID\")#\"C:\\Users\\Clinton\\Box\\FOR CLINTON BOX FOLDER\\MASTER SS SOPHIE.xlsx\")\n",
    "#dvasc_df = dvasc_df.join(master_df, how='inner')\n",
    "Rdf = depo_resp_df.join(master_df)\n",
    "subset1 = Rdf.loc[Rdf[\"0=well delineated, 1=infiltrative\"] == 0, \"Avg\"].dropna()\n",
    "subset2 = Rdf.loc[Rdf[\"0=well delineated, 1=infiltrative\"] == 1, \"Avg\"].dropna()\n",
    "print(scipy.stats.mannwhitneyu(subset1, subset2).pvalue)\n",
    "print_subset_stats(subset1)\n",
    "print_subset_stats(subset2)"
   ]
  },
  {
   "cell_type": "code",
   "execution_count": 55,
   "metadata": {
    "ExecuteTime": {
     "end_time": "2018-04-26T19:30:35.668037Z",
     "start_time": "2018-04-26T19:30:35.640964Z"
    }
   },
   "outputs": [
    {
     "name": "stdout",
     "output_type": "stream",
     "text": [
      "0.1473290227944749\n",
      "-60.5%+-30.5% (s.e.=5.2%)\n",
      "-68.8%+-26.4% (s.e.=5.9%)\n"
     ]
    }
   ],
   "source": [
    "master_df = pd.read_excel(r\"D:\\Lipiodol\\MASTER SOPHIE.xlsx\", \"Lesions analyzed\", index_col=\"Lesion_ID\")#\"C:\\Users\\Clinton\\Box\\FOR CLINTON BOX FOLDER\\MASTER SS SOPHIE.xlsx\")\n",
    "#dvasc_df = dvasc_df.join(master_df, how='inner')\n",
    "Rdf = depo_resp_df.join(master_df)\n",
    "subset1 = Rdf.loc[Rdf[\"selective=0\"] == 0, \"Avg\"].dropna()\n",
    "subset2 = Rdf.loc[Rdf[\"selective=0\"] == 1, \"Avg\"].dropna()\n",
    "print(scipy.stats.mannwhitneyu(subset1, subset2).pvalue)\n",
    "print_subset_stats(subset1)\n",
    "print_subset_stats(subset2)"
   ]
  },
  {
   "cell_type": "code",
   "execution_count": 56,
   "metadata": {
    "ExecuteTime": {
     "end_time": "2018-04-26T19:30:58.122349Z",
     "start_time": "2018-04-26T19:30:58.089261Z"
    }
   },
   "outputs": [
    {
     "name": "stdout",
     "output_type": "stream",
     "text": [
      "0.1990236869527929\n",
      "-68.0%+-27.9% (s.e.=4.6%)\n",
      "-54.6%+-38.8% (s.e.=12.9%)\n",
      "-54.9%+-17.7% (s.e.=5.9%)\n"
     ]
    }
   ],
   "source": [
    "master_df = pd.read_excel(r\"D:\\Lipiodol\\MASTER SOPHIE.xlsx\", \"Lesions analyzed\", index_col=\"Lesion_ID\")#\"C:\\Users\\Clinton\\Box\\FOR CLINTON BOX FOLDER\\MASTER SS SOPHIE.xlsx\")\n",
    "#dvasc_df = dvasc_df.join(master_df, how='inner')\n",
    "Rdf = depo_resp_df.join(master_df)\n",
    "subset1 = Rdf.loc[Rdf[\"HCC(0), ICC(1), other(2)\"] == 0, \"Avg\"].dropna()\n",
    "subset3 = Rdf.loc[Rdf[\"HCC(0), ICC(1), other(2)\"] == 1, \"Avg\"].dropna()\n",
    "subset2 = Rdf.loc[Rdf[\"HCC(0), ICC(1), other(2)\"] == 2, \"Avg\"].dropna()\n",
    "print(scipy.stats.kruskal(subset1, subset2, subset3).pvalue)\n",
    "print_subset_stats(subset1)\n",
    "print_subset_stats(subset2)\n",
    "print_subset_stats(subset3)"
   ]
  },
  {
   "cell_type": "code",
   "execution_count": 57,
   "metadata": {
    "ExecuteTime": {
     "end_time": "2018-04-26T19:31:11.687447Z",
     "start_time": "2018-04-26T19:31:11.672415Z"
    },
    "scrolled": true
   },
   "outputs": [
    {
     "name": "stdout",
     "output_type": "stream",
     "text": [
      "0.03045670348321826\n",
      "-83.4%+-16.5% (s.e.=5.8%)\n",
      "-63.9%+-30.3% (s.e.=5.2%)\n"
     ]
    }
   ],
   "source": [
    "importlib.reload(lan)\n",
    "focal_df = df.dropna(subset=[\"Tumor Growth\"])\n",
    "focal_df = focal_df[focal_df[\"Tumor Growth\"].str.contains(\"Focal\")]\n",
    "\n",
    "subdf = focal_df.dropna(subset=[\"Homogeneity\"])\n",
    "subset1 = subdf.loc[(subdf[\"Homogeneity\"].str.contains(\"Homo\")), \"Response\"]\n",
    "subset2 = subdf.loc[(subdf[\"Homogeneity\"].str.contains(\"Hetero\")), \"Response\"]\n",
    "print(scipy.stats.mannwhitneyu(subset1, subset2).pvalue)\n",
    "print_subset_stats(subset1)\n",
    "print_subset_stats(subset2)"
   ]
  },
  {
   "cell_type": "code",
   "execution_count": 58,
   "metadata": {
    "ExecuteTime": {
     "end_time": "2018-04-26T19:31:29.637646Z",
     "start_time": "2018-04-26T19:31:29.625618Z"
    }
   },
   "outputs": [
    {
     "name": "stdout",
     "output_type": "stream",
     "text": [
      "0.17966996793199436\n",
      "-74.6%+-18.6% (s.e.=5.6%)\n",
      "-59.6%+-33.9% (s.e.=7.2%)\n"
     ]
    }
   ],
   "source": [
    "subdf = focal_df.dropna(subset=[\"Rim Presence\"])\n",
    "subset1 = subdf.loc[(subdf[\"Rim Presence\"].str.contains(\"Rim\")), \"Response\"]\n",
    "subset2 = subdf.loc[(subdf[\"Rim Presence\"].str.contains(\"Non\")), \"Response\"]\n",
    "print(scipy.stats.mannwhitneyu(subset1, subset2).pvalue)\n",
    "print_subset_stats(subset1)\n",
    "print_subset_stats(subset2)"
   ]
  },
  {
   "cell_type": "code",
   "execution_count": 59,
   "metadata": {
    "ExecuteTime": {
     "end_time": "2018-04-26T19:31:44.977484Z",
     "start_time": "2018-04-26T19:31:44.968489Z"
    }
   },
   "outputs": [
    {
     "name": "stdout",
     "output_type": "stream",
     "text": [
      "0.02238234753007397\n",
      "-50.3%+-31.2% (s.e.=6.8%)\n",
      "-68.4%+-25.7% (s.e.=5.1%)\n"
     ]
    }
   ],
   "source": [
    "subdf = df.dropna(subset=[\"Sparsity\"])\n",
    "subset1 = subdf.loc[subdf[\"Sparsity\"].str.contains(\"Sparse\"), \"Response\"]\n",
    "subset2 = subdf.loc[subdf[\"Sparsity\"].str.contains(\"Non\"), \"Response\"]\n",
    "print(scipy.stats.mannwhitneyu(subset1, subset2).pvalue)\n",
    "print_subset_stats(subset1)\n",
    "print_subset_stats(subset2)"
   ]
  },
  {
   "cell_type": "code",
   "execution_count": null,
   "metadata": {
    "ExecuteTime": {
     "end_time": "2018-04-26T15:04:38.703176Z",
     "start_time": "2018-04-26T15:04:38.692175Z"
    },
    "collapsed": true
   },
   "outputs": [],
   "source": [
    "subdf = focal_df.dropna(subset=[\"Sparsity\"])\n",
    "subset1 = subdf.loc[subdf[\"Sparsity\"].str.contains(\"Sparse\"), \"Response\"]\n",
    "subset2 = subdf.loc[subdf[\"Sparsity\"].str.contains(\"Non\"), \"Response\"]\n",
    "print(scipy.stats.mannwhitneyu(subset1, subset2).pvalue)\n",
    "print_subset_stats(subset1)\n",
    "print_subset_stats(subset2)\n",
    "\n",
    "importlib.reload(lan)\n",
    "infil_df = df.dropna(subset=[\"Tumor Growth\"])\n",
    "infil_df = infil_df[infil_df[\"Tumor Growth\"].str.contains(\"Infilt\")]\n",
    "subdf = infil_df.dropna(subset=[\"Sparsity\"])\n",
    "subset1 = subdf.loc[subdf[\"Sparsity\"].str.contains(\"Sparse\"), \"Response\"]\n",
    "subset2 = subdf.loc[subdf[\"Sparsity\"].str.contains(\"Non\"), \"Response\"]\n",
    "print(scipy.stats.mannwhitneyu(subset1, subset2).pvalue)\n",
    "print_subset_stats(subset1)\n",
    "print_subset_stats(subset2)"
   ]
  },
  {
   "cell_type": "code",
   "execution_count": null,
   "metadata": {
    "collapsed": true
   },
   "outputs": [],
   "source": []
  },
  {
   "cell_type": "code",
   "execution_count": 102,
   "metadata": {
    "ExecuteTime": {
     "end_time": "2018-04-26T20:05:25.310291Z",
     "start_time": "2018-04-26T20:05:25.288226Z"
    },
    "collapsed": true
   },
   "outputs": [],
   "source": [
    "#kwargs = {\"x\":\"Lipiodol Deposition\", \"y\":\"Response\", \"data\":df, \"size\":3, \"markers\":[\"s\", \"o\", \"^\"], \"legend\":False}\n",
    "kwargs = {\"y\":\"Response\", \"data\":df, \"size\":3, \"kind\":\"bar\", \"legend\":False}\n",
    "\n",
    "def set_g_bar(g, save_path):\n",
    "    g.set(yticks=[0.,.2,.4,.6,.8,1.], ylim=(0.,1.));\n",
    "    #g.set(yticks=[-1.,-.8,-.6,-.4,-.2,0.], ylim=(-1.,0.));\n",
    "    \n",
    "    for gax in g.axes[0]:\n",
    "        gax.set_xlabel(\"\")\n",
    "        gax.set_ylabel(\"\")\n",
    "        #gax.tick_params('x',width=0)\n",
    "        gax.set_xticks([], minor=False)\n",
    "        gax.set_yticks([], minor=False)\n",
    "        plt.setp(gax.patches, linewidth=1, edgecolor='k')\n",
    "        \n",
    "    g.set_titles(visible=False)\n",
    "    #g.axes[0][0].set_yticklabels([\"0%\", \"20%\", \"40%\", \"60%\", \"80%\", \"100%\"]);\n",
    "    \n",
    "    sns.despine(top=True, right=True, left=True, bottom=False)\n",
    "    g.fig.subplots_adjust(left=.2, top=.95)\n",
    "    \n",
    "    #g.fig.tight_layout(w_pad=1)\n",
    "    #plt.setp(g.ax.lines,linewidth=1);\n",
    "    g.fig.savefig(save_path, width=5, dpi=150, pad_inches=0, transparent=True)\n",
    "    plt.close()"
   ]
  },
  {
   "cell_type": "code",
   "execution_count": 93,
   "metadata": {
    "ExecuteTime": {
     "end_time": "2018-04-26T20:04:51.923020Z",
     "start_time": "2018-04-26T20:04:51.918982Z"
    }
   },
   "outputs": [],
   "source": [
    "df[\"Response\"] = -df[\"Response\"]"
   ]
  },
  {
   "cell_type": "code",
   "execution_count": 103,
   "metadata": {
    "ExecuteTime": {
     "end_time": "2018-04-26T20:05:26.304605Z",
     "start_time": "2018-04-26T20:05:26.169671Z"
    }
   },
   "outputs": [],
   "source": [
    "importlib.reload(lan)\n",
    "for category, order in [(\"Tumor Growth\", None), (\"Tumor Type\", None),\n",
    "                        (\"TACE Type\", [\"Selective\", \"Lobar\"]), (\"Sparsity\", [\"Sparse\", \"Non\"])]:\n",
    "    g = sns.factorplot(x=category, order=lan.get_actual_order(category, df, order), **kwargs)\n",
    "    set_g_bar(g, join(C.fig_dir, \"Deposition figures\", \"Top graph\", \"%s.png\" % category));\n",
    "    \n",
    "#for category, order in [(\"Tumor Growth\", None)]:\n",
    "#    g = sns.factorplot(x=category, order=lan.get_actual_order(category, df, order), **kwargs)\n",
    "#    set_g_bar(g, join(C.fig_dir, \"Deposition figures\", \"Top graph\", \"%s with percentage.png\" % category));"
   ]
  },
  {
   "cell_type": "code",
   "execution_count": 100,
   "metadata": {
    "ExecuteTime": {
     "end_time": "2018-04-26T20:05:09.078380Z",
     "start_time": "2018-04-26T20:05:08.522335Z"
    },
    "scrolled": true
   },
   "outputs": [],
   "source": [
    "importlib.reload(lan)\n",
    "focal_df = df.dropna(subset=[\"Tumor Growth\"])\n",
    "focal_df = focal_df[focal_df[\"Tumor Growth\"].str.contains(\"Focal\")]\n",
    "for ix, row in focal_df.iterrows():\n",
    "    focal_df.loc[ix, \"Tumor Type\"] = lvis.check_column(row[\"Lesion_id\"], master_df, \"HCC(0), ICC(1), other(2)\", \n",
    "                                                  {0: \"HCCs\", 1: \"ICCs\", 2: \"Metastases\"}, \"Focal\")\n",
    "    focal_df.loc[ix, \"Sparsity\"] = lvis.check_sparse(row[\"Lesion_id\"], master_df, modality, \"Focal\")\n",
    "kwargs[\"data\"] = focal_df\n",
    "\n",
    "for category, order in [(\"Sparsity\", [\"Sparse\", \"Non\"]), (\"Rim Presence\", [\"Rim\", \"Non\"]), (\"Homogeneity\", [\"Homo\", \"Hetero\"])]:\n",
    "    g = sns.factorplot(x=category, order=lan.get_actual_order(category, focal_df, order), **kwargs)\n",
    "    set_g_bar(g, join(C.fig_dir, \"Deposition figures\", \"Top graph\", \"Focal_%s.png\" % category));\n",
    "    \n",
    "#for category, order in [(\"Rim Presence\", [\"Rim\", \"Non\"])]:\n",
    "#    g = sns.factorplot(x=category, order=lan.get_actual_order(category, focal_df, order), **kwargs)\n",
    "#    set_g_bar(g, join(C.fig_dir, \"Deposition figures\", \"Top graph\", \"Focal_%s.png\" % category));"
   ]
  },
  {
   "cell_type": "markdown",
   "metadata": {
    "ExecuteTime": {
     "end_time": "2018-04-26T20:05:09.417124Z",
     "start_time": "2018-04-26T20:05:09.185467Z"
    }
   },
   "source": [
    "infil_df = df.dropna(subset=[\"Tumor Growth\"])\n",
    "infil_df = infil_df[infil_df[\"Tumor Growth\"].str.contains(\"Infiltrative\")]\n",
    "for ix, row in infil_df.iterrows():\n",
    "    infil_df.loc[ix, \"Tumor Type\"] = lvis.check_column(row[\"Lesion_id\"], master_df, \"HCC(0), ICC(1), other(2)\", \n",
    "                                                  {0: \"HCCs\", 1: \"ICCs\", 2: \"Metastases\"}, \"Infiltrative\")\n",
    "    infil_df.loc[ix, \"Sparsity\"] = lvis.check_sparse(row[\"Lesion_id\"], master_df, modality, \"Infiltrative\")\n",
    "kwargs[\"data\"] = infil_df\n",
    "\n",
    "for category, order in [(\"Sparsity\", [\"Sparse\", \"Non\"])]:\n",
    "    g = sns.factorplot(x=category, order=lan.get_actual_order(category, infil_df, order), **kwargs)\n",
    "    set_g_bar(g, join(C.fig_dir, \"Deposition figures\", \"Top graph\", \"Infil_%s.png\" % category));"
   ]
  },
  {
   "cell_type": "markdown",
   "metadata": {
    "heading_collapsed": true
   },
   "source": [
    "## Prediction of Lipiodol deposition"
   ]
  },
  {
   "cell_type": "code",
   "execution_count": null,
   "metadata": {
    "collapsed": true,
    "hidden": true
   },
   "outputs": [],
   "source": [
    "pattern_df = pd.read_excel(C.data_xls_path, \"Patterns\")"
   ]
  },
  {
   "cell_type": "code",
   "execution_count": 277,
   "metadata": {
    "ExecuteTime": {
     "end_time": "2018-04-25T19:20:59.378042Z",
     "start_time": "2018-04-25T19:20:59.374002Z"
    },
    "hidden": true
   },
   "outputs": [
    {
     "data": {
      "text/plain": [
       "('BM-09', 6)"
      ]
     },
     "execution_count": 277,
     "metadata": {},
     "output_type": "execute_result"
    }
   ],
   "source": [
    "lesion_id, lesions.index(lesion_id)"
   ]
  },
  {
   "cell_type": "code",
   "execution_count": 5,
   "metadata": {
    "ExecuteTime": {
     "end_time": "2018-04-25T02:50:40.487853Z",
     "start_time": "2018-04-25T02:50:40.483814Z"
    },
    "collapsed": true,
    "hidden": true
   },
   "outputs": [],
   "source": [
    "cols = [\"T_art\", \"DICE_art\", \"T_sub\", \"DICE_sub\"]\n",
    "T_df = pd.DataFrame(columns=cols)"
   ]
  },
  {
   "cell_type": "code",
   "execution_count": null,
   "metadata": {
    "ExecuteTime": {
     "end_time": "2018-04-25T19:26:57.263464Z",
     "start_time": "2018-04-25T19:23:07.572722Z"
    },
    "collapsed": true,
    "hidden": true
   },
   "outputs": [],
   "source": [
    "importlib.reload(lan)\n",
    "for lesion_id in lesions[0:]:\n",
    "    print(lesion_id)\n",
    "    T_df.loc[lesion_id] = lan.get_best_T_lip(lesion_id, target_dir, liplvls[2])"
   ]
  },
  {
   "cell_type": "code",
   "execution_count": 380,
   "metadata": {
    "ExecuteTime": {
     "end_time": "2018-04-25T21:46:46.022751Z",
     "start_time": "2018-04-25T21:46:46.016735Z"
    },
    "hidden": true
   },
   "outputs": [
    {
     "data": {
      "text/plain": [
       "(0.8375604683744453, 0.832073280132539)"
      ]
     },
     "execution_count": 380,
     "metadata": {},
     "output_type": "execute_result"
    }
   ],
   "source": [
    "T_df[\"DICE_art\"].mean(), T_df[\"DICE_sub\"].mean()"
   ]
  },
  {
   "cell_type": "code",
   "execution_count": 279,
   "metadata": {
    "ExecuteTime": {
     "end_time": "2018-04-25T19:21:09.545997Z",
     "start_time": "2018-04-25T19:21:09.541986Z"
    },
    "collapsed": true,
    "hidden": true
   },
   "outputs": [],
   "source": [
    "lesion_id = \"BM-01\""
   ]
  },
  {
   "cell_type": "code",
   "execution_count": 379,
   "metadata": {
    "ExecuteTime": {
     "end_time": "2018-04-25T21:45:02.979099Z",
     "start_time": "2018-04-25T21:45:02.964052Z"
    },
    "hidden": true,
    "scrolled": true
   },
   "outputs": [
    {
     "data": {
      "text/html": [
       "<div>\n",
       "<style>\n",
       "    .dataframe thead tr:only-child th {\n",
       "        text-align: right;\n",
       "    }\n",
       "\n",
       "    .dataframe thead th {\n",
       "        text-align: left;\n",
       "    }\n",
       "\n",
       "    .dataframe tbody tr th {\n",
       "        vertical-align: top;\n",
       "    }\n",
       "</style>\n",
       "<table border=\"1\" class=\"dataframe\">\n",
       "  <thead>\n",
       "    <tr style=\"text-align: right;\">\n",
       "      <th></th>\n",
       "      <th>T_art</th>\n",
       "      <th>DICE_art</th>\n",
       "      <th>T_sub</th>\n",
       "      <th>DICE_sub</th>\n",
       "    </tr>\n",
       "  </thead>\n",
       "  <tbody>\n",
       "    <tr>\n",
       "      <th>BM-01</th>\n",
       "      <td>62.0</td>\n",
       "      <td>0.643176</td>\n",
       "      <td>6.0</td>\n",
       "      <td>0.641502</td>\n",
       "    </tr>\n",
       "    <tr>\n",
       "      <th>BM-02</th>\n",
       "      <td>1985.0</td>\n",
       "      <td>0.907346</td>\n",
       "      <td>1524.0</td>\n",
       "      <td>0.914519</td>\n",
       "    </tr>\n",
       "    <tr>\n",
       "      <th>BM-03</th>\n",
       "      <td>212.0</td>\n",
       "      <td>0.833855</td>\n",
       "      <td>122.0</td>\n",
       "      <td>0.833855</td>\n",
       "    </tr>\n",
       "    <tr>\n",
       "      <th>BM-04B</th>\n",
       "      <td>391.0</td>\n",
       "      <td>0.722067</td>\n",
       "      <td>258.0</td>\n",
       "      <td>0.722067</td>\n",
       "    </tr>\n",
       "    <tr>\n",
       "      <th>BM-06</th>\n",
       "      <td>147.0</td>\n",
       "      <td>0.583491</td>\n",
       "      <td>94.0</td>\n",
       "      <td>0.564450</td>\n",
       "    </tr>\n",
       "    <tr>\n",
       "      <th>BM-07</th>\n",
       "      <td>129.0</td>\n",
       "      <td>0.681140</td>\n",
       "      <td>44.0</td>\n",
       "      <td>0.675962</td>\n",
       "    </tr>\n",
       "    <tr>\n",
       "      <th>BM-09</th>\n",
       "      <td>1471.0</td>\n",
       "      <td>0.828688</td>\n",
       "      <td>1376.0</td>\n",
       "      <td>0.794967</td>\n",
       "    </tr>\n",
       "    <tr>\n",
       "      <th>BM-10</th>\n",
       "      <td>3460.0</td>\n",
       "      <td>0.764697</td>\n",
       "      <td>1921.0</td>\n",
       "      <td>0.701265</td>\n",
       "    </tr>\n",
       "    <tr>\n",
       "      <th>BM-12</th>\n",
       "      <td>989.0</td>\n",
       "      <td>0.738695</td>\n",
       "      <td>301.0</td>\n",
       "      <td>0.741802</td>\n",
       "    </tr>\n",
       "    <tr>\n",
       "      <th>BM-13</th>\n",
       "      <td>424.0</td>\n",
       "      <td>0.948086</td>\n",
       "      <td>284.0</td>\n",
       "      <td>0.948071</td>\n",
       "    </tr>\n",
       "    <tr>\n",
       "      <th>BM-17</th>\n",
       "      <td>174.0</td>\n",
       "      <td>0.947227</td>\n",
       "      <td>72.0</td>\n",
       "      <td>0.947021</td>\n",
       "    </tr>\n",
       "    <tr>\n",
       "      <th>BM-18</th>\n",
       "      <td>86.0</td>\n",
       "      <td>0.940954</td>\n",
       "      <td>3.0</td>\n",
       "      <td>0.915208</td>\n",
       "    </tr>\n",
       "    <tr>\n",
       "      <th>BM-19</th>\n",
       "      <td>2196.0</td>\n",
       "      <td>0.876628</td>\n",
       "      <td>1364.0</td>\n",
       "      <td>0.876628</td>\n",
       "    </tr>\n",
       "    <tr>\n",
       "      <th>BM-20A</th>\n",
       "      <td>190.0</td>\n",
       "      <td>0.984372</td>\n",
       "      <td>146.0</td>\n",
       "      <td>0.984372</td>\n",
       "    </tr>\n",
       "    <tr>\n",
       "      <th>BM-20B</th>\n",
       "      <td>185.0</td>\n",
       "      <td>0.994502</td>\n",
       "      <td>143.0</td>\n",
       "      <td>0.994502</td>\n",
       "    </tr>\n",
       "    <tr>\n",
       "      <th>BM-20C</th>\n",
       "      <td>178.0</td>\n",
       "      <td>0.999606</td>\n",
       "      <td>166.0</td>\n",
       "      <td>0.999606</td>\n",
       "    </tr>\n",
       "    <tr>\n",
       "      <th>BM-20D</th>\n",
       "      <td>191.0</td>\n",
       "      <td>0.997856</td>\n",
       "      <td>131.0</td>\n",
       "      <td>0.997856</td>\n",
       "    </tr>\n",
       "    <tr>\n",
       "      <th>BM-21</th>\n",
       "      <td>311.0</td>\n",
       "      <td>0.712971</td>\n",
       "      <td>122.0</td>\n",
       "      <td>0.747930</td>\n",
       "    </tr>\n",
       "    <tr>\n",
       "      <th>BM-23</th>\n",
       "      <td>320.0</td>\n",
       "      <td>0.903075</td>\n",
       "      <td>225.0</td>\n",
       "      <td>0.903074</td>\n",
       "    </tr>\n",
       "    <tr>\n",
       "      <th>BM-24</th>\n",
       "      <td>264.0</td>\n",
       "      <td>0.905833</td>\n",
       "      <td>185.0</td>\n",
       "      <td>0.905833</td>\n",
       "    </tr>\n",
       "    <tr>\n",
       "      <th>BM-25</th>\n",
       "      <td>184.0</td>\n",
       "      <td>0.910468</td>\n",
       "      <td>34.0</td>\n",
       "      <td>0.913140</td>\n",
       "    </tr>\n",
       "    <tr>\n",
       "      <th>BM-26</th>\n",
       "      <td>581.0</td>\n",
       "      <td>0.994715</td>\n",
       "      <td>567.0</td>\n",
       "      <td>0.994715</td>\n",
       "    </tr>\n",
       "    <tr>\n",
       "      <th>BM-28A</th>\n",
       "      <td>231.0</td>\n",
       "      <td>0.906226</td>\n",
       "      <td>61.0</td>\n",
       "      <td>0.898993</td>\n",
       "    </tr>\n",
       "    <tr>\n",
       "      <th>BM-28B</th>\n",
       "      <td>250.0</td>\n",
       "      <td>0.979576</td>\n",
       "      <td>77.0</td>\n",
       "      <td>0.979703</td>\n",
       "    </tr>\n",
       "    <tr>\n",
       "      <th>BM-29</th>\n",
       "      <td>320.0</td>\n",
       "      <td>0.997735</td>\n",
       "      <td>200.0</td>\n",
       "      <td>0.997731</td>\n",
       "    </tr>\n",
       "    <tr>\n",
       "      <th>BM-30</th>\n",
       "      <td>2548.0</td>\n",
       "      <td>0.867813</td>\n",
       "      <td>2123.0</td>\n",
       "      <td>0.867813</td>\n",
       "    </tr>\n",
       "    <tr>\n",
       "      <th>BM-31</th>\n",
       "      <td>442.0</td>\n",
       "      <td>0.973369</td>\n",
       "      <td>333.0</td>\n",
       "      <td>0.973369</td>\n",
       "    </tr>\n",
       "    <tr>\n",
       "      <th>BM-32</th>\n",
       "      <td>611.0</td>\n",
       "      <td>0.718340</td>\n",
       "      <td>383.0</td>\n",
       "      <td>0.719334</td>\n",
       "    </tr>\n",
       "    <tr>\n",
       "      <th>BM-34</th>\n",
       "      <td>309.0</td>\n",
       "      <td>0.870831</td>\n",
       "      <td>167.0</td>\n",
       "      <td>0.870852</td>\n",
       "    </tr>\n",
       "    <tr>\n",
       "      <th>BM-37</th>\n",
       "      <td>332.0</td>\n",
       "      <td>0.848431</td>\n",
       "      <td>121.0</td>\n",
       "      <td>0.831514</td>\n",
       "    </tr>\n",
       "    <tr>\n",
       "      <th>BM-38</th>\n",
       "      <td>352.0</td>\n",
       "      <td>0.918417</td>\n",
       "      <td>146.0</td>\n",
       "      <td>0.918417</td>\n",
       "    </tr>\n",
       "    <tr>\n",
       "      <th>BM-39</th>\n",
       "      <td>319.0</td>\n",
       "      <td>0.736677</td>\n",
       "      <td>132.0</td>\n",
       "      <td>0.739420</td>\n",
       "    </tr>\n",
       "    <tr>\n",
       "      <th>PK-01A</th>\n",
       "      <td>128.0</td>\n",
       "      <td>0.945920</td>\n",
       "      <td>44.0</td>\n",
       "      <td>0.944023</td>\n",
       "    </tr>\n",
       "    <tr>\n",
       "      <th>PK-01B</th>\n",
       "      <td>145.0</td>\n",
       "      <td>0.769710</td>\n",
       "      <td>72.0</td>\n",
       "      <td>0.726141</td>\n",
       "    </tr>\n",
       "    <tr>\n",
       "      <th>PK-01C</th>\n",
       "      <td>122.0</td>\n",
       "      <td>0.800000</td>\n",
       "      <td>61.0</td>\n",
       "      <td>0.825263</td>\n",
       "    </tr>\n",
       "    <tr>\n",
       "      <th>PK-01D</th>\n",
       "      <td>118.0</td>\n",
       "      <td>0.807036</td>\n",
       "      <td>39.0</td>\n",
       "      <td>0.792033</td>\n",
       "    </tr>\n",
       "    <tr>\n",
       "      <th>PK-01E</th>\n",
       "      <td>164.0</td>\n",
       "      <td>0.811460</td>\n",
       "      <td>73.0</td>\n",
       "      <td>0.817006</td>\n",
       "    </tr>\n",
       "    <tr>\n",
       "      <th>PK-02</th>\n",
       "      <td>233.0</td>\n",
       "      <td>0.627729</td>\n",
       "      <td>89.0</td>\n",
       "      <td>0.562557</td>\n",
       "    </tr>\n",
       "    <tr>\n",
       "      <th>PK-03A</th>\n",
       "      <td>138.0</td>\n",
       "      <td>0.870411</td>\n",
       "      <td>21.0</td>\n",
       "      <td>0.864136</td>\n",
       "    </tr>\n",
       "    <tr>\n",
       "      <th>PK-03B</th>\n",
       "      <td>148.0</td>\n",
       "      <td>0.952381</td>\n",
       "      <td>41.0</td>\n",
       "      <td>0.952381</td>\n",
       "    </tr>\n",
       "    <tr>\n",
       "      <th>PK-04</th>\n",
       "      <td>218.0</td>\n",
       "      <td>0.999633</td>\n",
       "      <td>102.0</td>\n",
       "      <td>0.999633</td>\n",
       "    </tr>\n",
       "    <tr>\n",
       "      <th>PK-05A</th>\n",
       "      <td>88.0</td>\n",
       "      <td>0.680344</td>\n",
       "      <td>26.0</td>\n",
       "      <td>0.681511</td>\n",
       "    </tr>\n",
       "    <tr>\n",
       "      <th>PK-05B</th>\n",
       "      <td>72.0</td>\n",
       "      <td>0.915934</td>\n",
       "      <td>26.0</td>\n",
       "      <td>0.915934</td>\n",
       "    </tr>\n",
       "    <tr>\n",
       "      <th>PK-06</th>\n",
       "      <td>181.0</td>\n",
       "      <td>0.876974</td>\n",
       "      <td>46.0</td>\n",
       "      <td>0.875329</td>\n",
       "    </tr>\n",
       "    <tr>\n",
       "      <th>PK-07</th>\n",
       "      <td>327.0</td>\n",
       "      <td>0.890208</td>\n",
       "      <td>230.0</td>\n",
       "      <td>0.890208</td>\n",
       "    </tr>\n",
       "    <tr>\n",
       "      <th>PK-08</th>\n",
       "      <td>98.0</td>\n",
       "      <td>0.672823</td>\n",
       "      <td>-12.0</td>\n",
       "      <td>0.672535</td>\n",
       "    </tr>\n",
       "    <tr>\n",
       "      <th>PK-10</th>\n",
       "      <td>307.0</td>\n",
       "      <td>0.647421</td>\n",
       "      <td>186.0</td>\n",
       "      <td>0.647421</td>\n",
       "    </tr>\n",
       "    <tr>\n",
       "      <th>PK-11A</th>\n",
       "      <td>177.0</td>\n",
       "      <td>0.646912</td>\n",
       "      <td>0.0</td>\n",
       "      <td>0.631161</td>\n",
       "    </tr>\n",
       "    <tr>\n",
       "      <th>PK-11B</th>\n",
       "      <td>222.0</td>\n",
       "      <td>0.999398</td>\n",
       "      <td>71.0</td>\n",
       "      <td>0.999398</td>\n",
       "    </tr>\n",
       "    <tr>\n",
       "      <th>PK-11C</th>\n",
       "      <td>217.0</td>\n",
       "      <td>0.818417</td>\n",
       "      <td>45.0</td>\n",
       "      <td>0.824704</td>\n",
       "    </tr>\n",
       "    <tr>\n",
       "      <th>PK-15A</th>\n",
       "      <td>127.0</td>\n",
       "      <td>0.836391</td>\n",
       "      <td>-5.0</td>\n",
       "      <td>0.799950</td>\n",
       "    </tr>\n",
       "    <tr>\n",
       "      <th>PK-15B</th>\n",
       "      <td>261.0</td>\n",
       "      <td>0.531335</td>\n",
       "      <td>128.0</td>\n",
       "      <td>0.530962</td>\n",
       "    </tr>\n",
       "    <tr>\n",
       "      <th>PK-15C</th>\n",
       "      <td>200.0</td>\n",
       "      <td>0.821608</td>\n",
       "      <td>69.0</td>\n",
       "      <td>0.771357</td>\n",
       "    </tr>\n",
       "    <tr>\n",
       "      <th>PK-17A</th>\n",
       "      <td>461.0</td>\n",
       "      <td>0.770743</td>\n",
       "      <td>327.0</td>\n",
       "      <td>0.770743</td>\n",
       "    </tr>\n",
       "    <tr>\n",
       "      <th>PK-17B</th>\n",
       "      <td>365.0</td>\n",
       "      <td>0.754163</td>\n",
       "      <td>190.0</td>\n",
       "      <td>0.754956</td>\n",
       "    </tr>\n",
       "    <tr>\n",
       "      <th>PK-23A</th>\n",
       "      <td>277.0</td>\n",
       "      <td>0.846519</td>\n",
       "      <td>175.0</td>\n",
       "      <td>0.846329</td>\n",
       "    </tr>\n",
       "    <tr>\n",
       "      <th>PK-23B</th>\n",
       "      <td>244.0</td>\n",
       "      <td>0.989051</td>\n",
       "      <td>146.0</td>\n",
       "      <td>0.989964</td>\n",
       "    </tr>\n",
       "    <tr>\n",
       "      <th>PK-24</th>\n",
       "      <td>307.0</td>\n",
       "      <td>0.659123</td>\n",
       "      <td>166.0</td>\n",
       "      <td>0.659123</td>\n",
       "    </tr>\n",
       "  </tbody>\n",
       "</table>\n",
       "</div>"
      ],
      "text/plain": [
       "         T_art  DICE_art   T_sub  DICE_sub\n",
       "BM-01     62.0  0.643176     6.0  0.641502\n",
       "BM-02   1985.0  0.907346  1524.0  0.914519\n",
       "BM-03    212.0  0.833855   122.0  0.833855\n",
       "BM-04B   391.0  0.722067   258.0  0.722067\n",
       "BM-06    147.0  0.583491    94.0  0.564450\n",
       "BM-07    129.0  0.681140    44.0  0.675962\n",
       "BM-09   1471.0  0.828688  1376.0  0.794967\n",
       "BM-10   3460.0  0.764697  1921.0  0.701265\n",
       "BM-12    989.0  0.738695   301.0  0.741802\n",
       "BM-13    424.0  0.948086   284.0  0.948071\n",
       "BM-17    174.0  0.947227    72.0  0.947021\n",
       "BM-18     86.0  0.940954     3.0  0.915208\n",
       "BM-19   2196.0  0.876628  1364.0  0.876628\n",
       "BM-20A   190.0  0.984372   146.0  0.984372\n",
       "BM-20B   185.0  0.994502   143.0  0.994502\n",
       "BM-20C   178.0  0.999606   166.0  0.999606\n",
       "BM-20D   191.0  0.997856   131.0  0.997856\n",
       "BM-21    311.0  0.712971   122.0  0.747930\n",
       "BM-23    320.0  0.903075   225.0  0.903074\n",
       "BM-24    264.0  0.905833   185.0  0.905833\n",
       "BM-25    184.0  0.910468    34.0  0.913140\n",
       "BM-26    581.0  0.994715   567.0  0.994715\n",
       "BM-28A   231.0  0.906226    61.0  0.898993\n",
       "BM-28B   250.0  0.979576    77.0  0.979703\n",
       "BM-29    320.0  0.997735   200.0  0.997731\n",
       "BM-30   2548.0  0.867813  2123.0  0.867813\n",
       "BM-31    442.0  0.973369   333.0  0.973369\n",
       "BM-32    611.0  0.718340   383.0  0.719334\n",
       "BM-34    309.0  0.870831   167.0  0.870852\n",
       "BM-37    332.0  0.848431   121.0  0.831514\n",
       "BM-38    352.0  0.918417   146.0  0.918417\n",
       "BM-39    319.0  0.736677   132.0  0.739420\n",
       "PK-01A   128.0  0.945920    44.0  0.944023\n",
       "PK-01B   145.0  0.769710    72.0  0.726141\n",
       "PK-01C   122.0  0.800000    61.0  0.825263\n",
       "PK-01D   118.0  0.807036    39.0  0.792033\n",
       "PK-01E   164.0  0.811460    73.0  0.817006\n",
       "PK-02    233.0  0.627729    89.0  0.562557\n",
       "PK-03A   138.0  0.870411    21.0  0.864136\n",
       "PK-03B   148.0  0.952381    41.0  0.952381\n",
       "PK-04    218.0  0.999633   102.0  0.999633\n",
       "PK-05A    88.0  0.680344    26.0  0.681511\n",
       "PK-05B    72.0  0.915934    26.0  0.915934\n",
       "PK-06    181.0  0.876974    46.0  0.875329\n",
       "PK-07    327.0  0.890208   230.0  0.890208\n",
       "PK-08     98.0  0.672823   -12.0  0.672535\n",
       "PK-10    307.0  0.647421   186.0  0.647421\n",
       "PK-11A   177.0  0.646912     0.0  0.631161\n",
       "PK-11B   222.0  0.999398    71.0  0.999398\n",
       "PK-11C   217.0  0.818417    45.0  0.824704\n",
       "PK-15A   127.0  0.836391    -5.0  0.799950\n",
       "PK-15B   261.0  0.531335   128.0  0.530962\n",
       "PK-15C   200.0  0.821608    69.0  0.771357\n",
       "PK-17A   461.0  0.770743   327.0  0.770743\n",
       "PK-17B   365.0  0.754163   190.0  0.754956\n",
       "PK-23A   277.0  0.846519   175.0  0.846329\n",
       "PK-23B   244.0  0.989051   146.0  0.989964\n",
       "PK-24    307.0  0.659123   166.0  0.659123"
      ]
     },
     "execution_count": 379,
     "metadata": {},
     "output_type": "execute_result"
    }
   ],
   "source": [
    "T_df"
   ]
  },
  {
   "cell_type": "code",
   "execution_count": 280,
   "metadata": {
    "ExecuteTime": {
     "end_time": "2018-04-25T19:21:10.944107Z",
     "start_time": "2018-04-25T19:21:10.939064Z"
    },
    "hidden": true
   },
   "outputs": [
    {
     "data": {
      "text/plain": [
       "T_art       49.000000\n",
       "DICE_art     0.887319\n",
       "T_sub        6.000000\n",
       "DICE_sub     0.887319\n",
       "Name: BM-01, dtype: float64"
      ]
     },
     "execution_count": 280,
     "metadata": {},
     "output_type": "execute_result"
    }
   ],
   "source": [
    "T_df.loc[lesion_id]"
   ]
  },
  {
   "cell_type": "code",
   "execution_count": 237,
   "metadata": {
    "ExecuteTime": {
     "end_time": "2018-04-25T19:14:13.761824Z",
     "start_time": "2018-04-25T19:14:13.758803Z"
    },
    "collapsed": true,
    "hidden": true
   },
   "outputs": [],
   "source": [
    "P = lm.get_paths_dict(lesion_id, target_dir)"
   ]
  },
  {
   "cell_type": "code",
   "execution_count": 266,
   "metadata": {
    "ExecuteTime": {
     "end_time": "2018-04-25T19:19:18.097908Z",
     "start_time": "2018-04-25T19:19:18.093868Z"
    },
    "hidden": true
   },
   "outputs": [
    {
     "data": {
      "text/plain": [
       "1.0765673585060012"
      ]
     },
     "execution_count": 266,
     "metadata": {},
     "output_type": "execute_result"
    }
   ],
   "source": [
    "art.min()"
   ]
  },
  {
   "cell_type": "code",
   "execution_count": 263,
   "metadata": {
    "ExecuteTime": {
     "end_time": "2018-04-25T19:18:01.522061Z",
     "start_time": "2018-04-25T19:18:01.518023Z"
    },
    "hidden": true
   },
   "outputs": [
    {
     "data": {
      "text/plain": [
       "244.51580895122024"
      ]
     },
     "execution_count": 263,
     "metadata": {},
     "output_type": "execute_result"
    }
   ],
   "source": [
    "art = hf.nii_load(P['ct24Tx']['mrbl']['art'])[0]"
   ]
  },
  {
   "cell_type": "code",
   "execution_count": 275,
   "metadata": {
    "ExecuteTime": {
     "end_time": "2018-04-25T19:20:24.849828Z",
     "start_time": "2018-04-25T19:20:24.845793Z"
    },
    "hidden": true
   },
   "outputs": [
    {
     "data": {
      "text/plain": [
       "49.0412244737328"
      ]
     },
     "execution_count": 275,
     "metadata": {},
     "output_type": "execute_result"
    }
   ],
   "source": [
    "art[M != 0].min()"
   ]
  },
  {
   "cell_type": "code",
   "execution_count": 268,
   "metadata": {
    "ExecuteTime": {
     "end_time": "2018-04-25T19:19:37.524744Z",
     "start_time": "2018-04-25T19:19:37.518696Z"
    },
    "collapsed": true,
    "hidden": true
   },
   "outputs": [],
   "source": [
    "img = masks.crop_img_to_mask_vicinity(P['ct24Tx']['mrbl']['art'], P['ct24Tx']['crop']['tumor'])"
   ]
  },
  {
   "cell_type": "code",
   "execution_count": 271,
   "metadata": {
    "ExecuteTime": {
     "end_time": "2018-04-25T19:19:51.256505Z",
     "start_time": "2018-04-25T19:19:51.118136Z"
    },
    "hidden": true
   },
   "outputs": [
    {
     "data": {
      "image/png": "[encoded data removed]",
      "text/plain": [
       "<matplotlib.figure.Figure at 0x1f392480a20>"
      ]
     },
     "metadata": {},
     "output_type": "display_data"
    }
   ],
   "source": [
    "img = masks.draw_mask(P['ct24Tx']['crop']['tumor'], P['ct24Tx']['mrbl']['art']);"
   ]
  },
  {
   "cell_type": "code",
   "execution_count": 273,
   "metadata": {
    "ExecuteTime": {
     "end_time": "2018-04-25T19:19:53.993772Z",
     "start_time": "2018-04-25T19:19:53.988767Z"
    },
    "hidden": true
   },
   "outputs": [
    {
     "data": {
      "text/plain": [
       "0.0"
      ]
     },
     "execution_count": 273,
     "metadata": {},
     "output_type": "execute_result"
    }
   ],
   "source": [
    "img.min()"
   ]
  },
  {
   "cell_type": "code",
   "execution_count": 242,
   "metadata": {
    "ExecuteTime": {
     "end_time": "2018-04-25T19:15:08.958763Z",
     "start_time": "2018-04-25T19:15:08.799341Z"
    },
    "hidden": true
   },
   "outputs": [
    {
     "data": {
      "image/png": "[encoded data removed]",
      "text/plain": [
       "<matplotlib.figure.Figure at 0x1f387627d30>"
      ]
     },
     "metadata": {},
     "output_type": "display_data"
    }
   ],
   "source": [
    "hf.draw_slices(img)"
   ]
  },
  {
   "cell_type": "code",
   "execution_count": 238,
   "metadata": {
    "ExecuteTime": {
     "end_time": "2018-04-25T19:14:18.666477Z",
     "start_time": "2018-04-25T19:14:18.653442Z"
    },
    "hidden": true
   },
   "outputs": [
    {
     "name": "stderr",
     "output_type": "stream",
     "text": [
      "C:\\Users\\Clinton\\AppData\\Local\\conda\\conda\\envs\\old-keras\\lib\\site-packages\\ipykernel_launcher.py:4: RuntimeWarning: invalid value encountered in greater_equal\n",
      "  after removing the cwd from sys.path.\n",
      "C:\\Users\\Clinton\\AppData\\Local\\conda\\conda\\envs\\old-keras\\lib\\site-packages\\ipykernel_launcher.py:5: RuntimeWarning: invalid value encountered in less\n",
      "  \"\"\"\n"
     ]
    }
   ],
   "source": [
    "ct = hf.nii_load(P['ct24Tx']['crop']['img'])[0]\n",
    "M = masks.get_mask(P['ct24Tx']['crop']['tumor'])[0]\n",
    "ct[M != 0] = np.nan\n",
    "ct_U = ct >= T_lip\n",
    "ct_L = ct < T_lip\n",
    "art = hf.nii_load(P['ct24Tx']['mrbl']['art'])[0].astype(int)\n",
    "sub = hf.nii_load(P['ct24Tx']['mrbl']['sub'])[0].astype(int)"
   ]
  },
  {
   "cell_type": "code",
   "execution_count": null,
   "metadata": {
    "ExecuteTime": {
     "end_time": "2018-04-25T18:42:16.464826Z",
     "start_time": "2018-04-25T18:42:16.460788Z"
    },
    "collapsed": true,
    "hidden": true
   },
   "outputs": [],
   "source": [
    "M.sum()/M.max()"
   ]
  },
  {
   "cell_type": "code",
   "execution_count": null,
   "metadata": {
    "collapsed": true,
    "hidden": true
   },
   "outputs": [],
   "source": [
    "ct[M != 0] = np.nan"
   ]
  },
  {
   "cell_type": "code",
   "execution_count": 200,
   "metadata": {
    "ExecuteTime": {
     "end_time": "2018-04-25T18:43:13.782018Z",
     "start_time": "2018-04-25T18:43:13.777005Z"
    },
    "hidden": true
   },
   "outputs": [
    {
     "data": {
      "text/plain": [
       "54287"
      ]
     },
     "execution_count": 200,
     "metadata": {},
     "output_type": "execute_result"
    }
   ],
   "source": [
    "(~np.isnan(ct)).sum()"
   ]
  },
  {
   "cell_type": "code",
   "execution_count": 193,
   "metadata": {
    "ExecuteTime": {
     "end_time": "2018-04-25T18:42:28.384978Z",
     "start_time": "2018-04-25T18:42:28.380967Z"
    },
    "hidden": true,
    "scrolled": true
   },
   "outputs": [
    {
     "name": "stderr",
     "output_type": "stream",
     "text": [
      "C:\\Users\\Clinton\\AppData\\Local\\conda\\conda\\envs\\old-keras\\lib\\site-packages\\ipykernel_launcher.py:1: RuntimeWarning: invalid value encountered in less\n",
      "  \"\"\"Entry point for launching an IPython kernel.\n"
     ]
    },
    {
     "data": {
      "text/plain": [
       "54287"
      ]
     },
     "execution_count": 193,
     "metadata": {},
     "output_type": "execute_result"
    }
   ],
   "source": [
    "(ct < 99999).sum()"
   ]
  },
  {
   "cell_type": "code",
   "execution_count": 202,
   "metadata": {
    "ExecuteTime": {
     "end_time": "2018-04-25T18:43:49.701144Z",
     "start_time": "2018-04-25T18:43:49.693101Z"
    },
    "hidden": true,
    "scrolled": true
   },
   "outputs": [
    {
     "data": {
      "text/html": [
       "<div>\n",
       "<style>\n",
       "    .dataframe thead tr:only-child th {\n",
       "        text-align: right;\n",
       "    }\n",
       "\n",
       "    .dataframe thead th {\n",
       "        text-align: left;\n",
       "    }\n",
       "\n",
       "    .dataframe tbody tr th {\n",
       "        vertical-align: top;\n",
       "    }\n",
       "</style>\n",
       "<table border=\"1\" class=\"dataframe\">\n",
       "  <thead>\n",
       "    <tr style=\"text-align: right;\">\n",
       "      <th></th>\n",
       "      <th>T_art</th>\n",
       "      <th>DICE_art</th>\n",
       "      <th>T_sub</th>\n",
       "      <th>DICE_sub</th>\n",
       "    </tr>\n",
       "  </thead>\n",
       "  <tbody>\n",
       "    <tr>\n",
       "      <th>BM-01</th>\n",
       "      <td>1.0</td>\n",
       "      <td>0.887319</td>\n",
       "      <td>-47.0</td>\n",
       "      <td>0.887319</td>\n",
       "    </tr>\n",
       "    <tr>\n",
       "      <th>BM-02</th>\n",
       "      <td>2802.0</td>\n",
       "      <td>4.106063</td>\n",
       "      <td>2302.0</td>\n",
       "      <td>4.106063</td>\n",
       "    </tr>\n",
       "    <tr>\n",
       "      <th>BM-03</th>\n",
       "      <td>115.0</td>\n",
       "      <td>3.995429</td>\n",
       "      <td>259.0</td>\n",
       "      <td>3.990032</td>\n",
       "    </tr>\n",
       "    <tr>\n",
       "      <th>BM-04B</th>\n",
       "      <td>174.0</td>\n",
       "      <td>8.365082</td>\n",
       "      <td>295.0</td>\n",
       "      <td>7.144821</td>\n",
       "    </tr>\n",
       "    <tr>\n",
       "      <th>BM-06</th>\n",
       "      <td>385.0</td>\n",
       "      <td>4.885093</td>\n",
       "      <td>311.0</td>\n",
       "      <td>4.885093</td>\n",
       "    </tr>\n",
       "    <tr>\n",
       "      <th>BM-07</th>\n",
       "      <td>74.0</td>\n",
       "      <td>3.096933</td>\n",
       "      <td>5.0</td>\n",
       "      <td>3.093746</td>\n",
       "    </tr>\n",
       "  </tbody>\n",
       "</table>\n",
       "</div>"
      ],
      "text/plain": [
       "         T_art  DICE_art   T_sub  DICE_sub\n",
       "BM-01      1.0  0.887319   -47.0  0.887319\n",
       "BM-02   2802.0  4.106063  2302.0  4.106063\n",
       "BM-03    115.0  3.995429   259.0  3.990032\n",
       "BM-04B   174.0  8.365082   295.0  7.144821\n",
       "BM-06    385.0  4.885093   311.0  4.885093\n",
       "BM-07     74.0  3.096933     5.0  3.093746"
      ]
     },
     "execution_count": 202,
     "metadata": {},
     "output_type": "execute_result"
    }
   ],
   "source": [
    "T_df"
   ]
  },
  {
   "cell_type": "code",
   "execution_count": 161,
   "metadata": {
    "ExecuteTime": {
     "end_time": "2018-04-25T18:32:25.634154Z",
     "start_time": "2018-04-25T18:32:22.940819Z"
    },
    "collapsed": true,
    "hidden": true
   },
   "outputs": [],
   "source": [
    "lm.reg_to_ct24(lesion_id, target_dir)"
   ]
  },
  {
   "cell_type": "code",
   "execution_count": 204,
   "metadata": {
    "ExecuteTime": {
     "end_time": "2018-04-25T18:51:44.513592Z",
     "start_time": "2018-04-25T18:51:44.509581Z"
    },
    "hidden": true
   },
   "outputs": [
    {
     "data": {
      "text/plain": [
       "'PK-03B'"
      ]
     },
     "execution_count": 204,
     "metadata": {},
     "output_type": "execute_result"
    }
   ],
   "source": [
    "lesion_id"
   ]
  },
  {
   "cell_type": "code",
   "execution_count": null,
   "metadata": {
    "collapsed": true,
    "hidden": true
   },
   "outputs": [],
   "source": []
  }
 ],
 "metadata": {
  "kernelspec": {
   "display_name": "Python 3",
   "language": "python",
   "name": "python3"
  },
  "language_info": {
   "codemirror_mode": {
    "name": "ipython",
    "version": 3
   },
   "file_extension": ".py",
   "mimetype": "text/x-python",
   "name": "python",
   "nbconvert_exporter": "python",
   "pygments_lexer": "ipython3",
   "version": "3.5.0"
  },
  "varInspector": {
   "cols": {
    "lenName": 16,
    "lenType": 16,
    "lenVar": 40
   },
   "kernels_config": {
    "python": {
     "delete_cmd_postfix": "",
     "delete_cmd_prefix": "del ",
     "library": "var_list.py",
     "varRefreshCmd": "print(var_dic_list())"
    },
    "r": {
     "delete_cmd_postfix": ") ",
     "delete_cmd_prefix": "rm(",
     "library": "var_list.r",
     "varRefreshCmd": "cat(var_dic_list()) "
    }
   },
   "types_to_exclude": [
    "module",
    "function",
    "builtin_function_or_method",
    "instance",
    "_Feature"
   ],
   "window_display": false
  }
 },
 "nbformat": 4,
 "nbformat_minor": 2
}
