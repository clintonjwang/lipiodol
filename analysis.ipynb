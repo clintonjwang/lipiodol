{
 "cells": [
  {
   "cell_type": "code",
   "execution_count": 2,
   "metadata": {
    "ExecuteTime": {
     "end_time": "2018-05-18T16:19:36.275720Z",
     "start_time": "2018-05-18T16:19:33.853677Z"
    }
   },
   "outputs": [
    {
     "name": "stderr",
     "output_type": "stream",
     "text": [
      "C:\\Users\\Clinton\\AppData\\Local\\conda\\conda\\envs\\old-keras\\lib\\site-packages\\h5py\\__init__.py:34: FutureWarning: Conversion of the second argument of issubdtype from `float` to `np.floating` is deprecated. In future, it will be treated as `np.float64 == np.dtype(float).type`.\n",
      "  from ._conv import register_converters as _register_converters\n",
      "Using TensorFlow backend.\n"
     ]
    }
   ],
   "source": [
    "import copy\n",
    "import glob\n",
    "import importlib\n",
    "import itertools\n",
    "import math\n",
    "import os\n",
    "import random\n",
    "import shutil\n",
    "import sys\n",
    "from math import degrees, pi, radians\n",
    "from os.path import *\n",
    "\n",
    "import matplotlib.pyplot as plt\n",
    "import numpy as np\n",
    "import pandas as pd\n",
    "import scipy.stats\n",
    "import SimpleITK as sitk\n",
    "import skimage.feature as skf\n",
    "from skimage.morphology import ball\n",
    "import seaborn as sns\n",
    "import cnn_builder as cbuild\n",
    "import config\n",
    "import lipiodol_analysis as lan\n",
    "import lipiodol_methods as lm\n",
    "import lipiodol_vis as lvis\n",
    "import niftiutils.helper_fxns as hf\n",
    "import niftiutils.masks as masks\n",
    "import niftiutils.registration as reg\n",
    "import niftiutils.transforms as tr\n",
    "from config import Config\n",
    "sns.set(style=\"ticks\")\n",
    "%matplotlib inline"
   ]
  },
  {
   "cell_type": "code",
   "execution_count": 3,
   "metadata": {
    "ExecuteTime": {
     "end_time": "2018-05-18T16:19:36.290686Z",
     "start_time": "2018-05-18T16:19:36.283647Z"
    },
    "collapsed": true
   },
   "outputs": [],
   "source": [
    "importlib.reload(config)\n",
    "C = config.Config()\n",
    "target_dir = \"D:\\\\Lipiodol\\\\Data\"\n",
    "lesions = [basename(fn) for fn in glob.glob(join(target_dir,\"*\"))]\n",
    "num_lesions = len(lesions)\n",
    "liplvls = [0, 87, 155, 241]"
   ]
  },
  {
   "cell_type": "code",
   "execution_count": 4,
   "metadata": {
    "ExecuteTime": {
     "end_time": "2018-05-18T16:19:36.385217Z",
     "start_time": "2018-05-18T16:19:36.350153Z"
    },
    "collapsed": true
   },
   "outputs": [],
   "source": [
    "pattern_df = pd.read_excel(C.data_xls_path, \"Patterns\")"
   ]
  },
  {
   "cell_type": "code",
   "execution_count": 141,
   "metadata": {
    "ExecuteTime": {
     "end_time": "2018-05-18T22:20:14.342693Z",
     "start_time": "2018-05-18T22:20:14.317598Z"
    },
    "collapsed": true
   },
   "outputs": [],
   "source": [
    "def set_g_bar(g, save_path):\n",
    "    g.set(yticks=[0.,.2,.4,.6,.8,1.], ylim=(0.,1.));\n",
    "    \"\"\"topbar = plt.Rectangle((0,0),1,1,fc=\"#C3C3C3\", edgecolor = 'none')\n",
    "    midbar = plt.Rectangle((0,0),1,1,fc='#A3A3A3',  edgecolor = 'none')\n",
    "    bottombar = plt.Rectangle((0,0),1,1,fc='#737373',  edgecolor = 'none')\n",
    "    l = plt.legend([bottombar, midbar, topbar],\n",
    "                   ['High Lipiodol', 'Medium Lipiodol', 'Low Lipiodol'], loc='upper left')#, ncol=2, prop={'size':16})\n",
    "    l.draw_frame(False)\"\"\"\n",
    "    \n",
    "    for gax in g.axes[0]:\n",
    "        gax.set_xlabel(\"\")\n",
    "        gax.set_ylabel(\"\")\n",
    "        #gax.tick_params('x',width=0)\n",
    "        gax.set_xticks([], minor=False)\n",
    "        gax.set_yticks([], minor=False)\n",
    "        plt.setp(gax.patches, linewidth=1, edgecolor='k')\n",
    "        \n",
    "    g.set_titles(visible=False)\n",
    "    #g.axes[0][0].set_yticklabels([\"0%\", \"20%\", \"40%\", \"60%\", \"80%\", \"100%\"]);\n",
    "    \n",
    "    sns.despine(top=True, right=True, left=True)\n",
    "    g.fig.subplots_adjust(left=.2, top=.95)\n",
    "    \n",
    "    #g.fig.tight_layout(w_pad=1)\n",
    "    #plt.setp(g.ax.lines,linewidth=1);\n",
    "    g.fig.savefig(save_path, dpi=150, pad_inches=0, transparent=True) #, width=5\n",
    "    plt.close()"
   ]
  },
  {
   "cell_type": "code",
   "execution_count": 92,
   "metadata": {
    "ExecuteTime": {
     "end_time": "2018-05-18T18:38:23.504987Z",
     "start_time": "2018-05-18T18:38:23.500976Z"
    },
    "collapsed": true
   },
   "outputs": [],
   "source": [
    "def print_subset_stats(subset):\n",
    "    print(\"%.1f%%+-%.1f%% (s.e.=%.1f%%, n=%d)\" % (np.mean(subset)*100,\n",
    "                np.std(subset)*100, np.std(subset)*100/(len(subset)**.5), len(subset)))"
   ]
  },
  {
   "cell_type": "markdown",
   "metadata": {
    "heading_collapsed": true
   },
   "source": [
    "### Colorful graph"
   ]
  },
  {
   "cell_type": "code",
   "execution_count": 78,
   "metadata": {
    "ExecuteTime": {
     "end_time": "2018-05-18T18:00:51.212333Z",
     "start_time": "2018-05-18T18:00:41.072724Z"
    },
    "hidden": true
   },
   "outputs": [
    {
     "name": "stderr",
     "output_type": "stream",
     "text": [
      "C:\\Users\\Clinton\\AppData\\Local\\conda\\conda\\envs\\old-keras\\lib\\site-packages\\ipykernel_launcher.py:28: RuntimeWarning: invalid value encountered in long_scalars\n"
     ]
    }
   ],
   "source": [
    "importlib.reload(lm)\n",
    "Vasc = [[],[],[],[]]\n",
    "NonResp = [[],[],[],[]]\n",
    "\n",
    "for lesion_id in lesions:\n",
    "    P = lm.get_paths_dict(lesion_id, target_dir)\n",
    "    M = masks.get_mask(P['ct24Tx']['crop']['tumor'], img_path=P['ct24Tx']['crop']['img'], overlaid=True)\n",
    "    I,D = hf.nii_load(P['ct24Tx']['crop']['img'])\n",
    "    \n",
    "    if not exists(P['ct24Tx']['mrbl']['enh']+\".off\"):\n",
    "        mrblM = np.zeros(M.shape)\n",
    "    else:\n",
    "        mrblM = masks.get_mask(P['ct24Tx']['mrbl']['enh'], D, I.shape)\n",
    "        \n",
    "    if not exists(P['ct24Tx']['mr30']['enh']+\".off\"):\n",
    "        mr30M = np.zeros(M.shape)\n",
    "    else:\n",
    "        mr30M = masks.get_mask(P['ct24Tx']['mr30']['enh'], D, I.shape)\n",
    "        \n",
    "    Masks = [(M!=0) & (M<liplvls[1]),\n",
    "            (M>liplvls[1]) & (M<liplvls[2]),\n",
    "            (M>liplvls[2]) & (M<liplvls[3]),\n",
    "            M>liplvls[3]]\n",
    "    \n",
    "    for ix,M in enumerate(Masks):\n",
    "        if M.sum() > 0:\n",
    "            Vasc[ix].append((M*mrblM!=0).sum()/M.sum())\n",
    "            NonResp[ix].append((M*mrblM*mr30M!=0).sum()/(M*mrblM!=0).sum())\n",
    "        else:\n",
    "            Vasc[ix].append(np.nan)\n",
    "            NonResp[ix].append(np.nan)\n",
    "    #lm.reg_to_ct24(lesion_id, target_dir)"
   ]
  },
  {
   "cell_type": "code",
   "execution_count": 88,
   "metadata": {
    "ExecuteTime": {
     "end_time": "2018-05-18T18:03:51.843358Z",
     "start_time": "2018-05-18T18:03:51.839346Z"
    },
    "hidden": true
   },
   "outputs": [
    {
     "data": {
      "text/plain": [
       "16"
      ]
     },
     "execution_count": 88,
     "metadata": {},
     "output_type": "execute_result"
    }
   ],
   "source": [
    "np.isnan(Vasc[3]).sum()"
   ]
  },
  {
   "cell_type": "code",
   "execution_count": 80,
   "metadata": {
    "ExecuteTime": {
     "end_time": "2018-05-18T18:01:21.716889Z",
     "start_time": "2018-05-18T18:01:21.712879Z"
    },
    "hidden": true
   },
   "outputs": [
    {
     "data": {
      "text/plain": [
       "array([0.29625662, 0.27145347, 0.22075392, 0.18174122])"
      ]
     },
     "execution_count": 80,
     "metadata": {},
     "output_type": "execute_result"
    }
   ],
   "source": [
    "np.nanmean(Vasc,1)"
   ]
  },
  {
   "cell_type": "markdown",
   "metadata": {},
   "source": [
    "## Vascularization statistics"
   ]
  },
  {
   "cell_type": "code",
   "execution_count": null,
   "metadata": {
    "ExecuteTime": {
     "end_time": "2018-05-18T20:27:56.015432Z",
     "start_time": "2018-05-18T20:27:56.011422Z"
    },
    "collapsed": true
   },
   "outputs": [],
   "source": [
    "sum(master_df['selective=0']==1)"
   ]
  },
  {
   "cell_type": "code",
   "execution_count": 130,
   "metadata": {
    "ExecuteTime": {
     "end_time": "2018-05-18T22:16:31.819325Z",
     "start_time": "2018-05-18T22:16:31.789167Z"
    },
    "collapsed": true
   },
   "outputs": [],
   "source": [
    "vasc_depo_df = pd.read_excel(C.data_xls_path, \"Perfusion-Deposition Data\")"
   ]
  },
  {
   "cell_type": "code",
   "execution_count": 131,
   "metadata": {
    "ExecuteTime": {
     "end_time": "2018-05-18T22:16:35.175429Z",
     "start_time": "2018-05-18T22:16:35.166405Z"
    },
    "collapsed": true
   },
   "outputs": [],
   "source": [
    "def get_dvasc_df(vasc_depo_df, mode=\"density\"):\n",
    "    dvasc_df = copy.deepcopy(vasc_depo_df)\n",
    "    if mode == \"density\":\n",
    "        for l in [\"N\", \"V\", \"A\"]:\n",
    "            for L_ix in range(3):\n",
    "                dvasc_df[str(liplvls[L_ix])+l] = dvasc_df[str(liplvls[L_ix])+l] - dvasc_df[str(liplvls[L_ix+1])+l]\n",
    "    elif mode == \"V-N\":\n",
    "        dvasc_df[\"%ddVN\"%liplvls[1]] = dvasc_df[\"%dV\"%liplvls[1]] - dvasc_df[\"%dN\"%liplvls[1]]\n",
    "    return dvasc_df"
   ]
  },
  {
   "cell_type": "markdown",
   "metadata": {
    "heading_collapsed": true
   },
   "source": [
    "### Upper graph"
   ]
  },
  {
   "cell_type": "code",
   "execution_count": 133,
   "metadata": {
    "ExecuteTime": {
     "end_time": "2018-05-18T22:17:10.114007Z",
     "start_time": "2018-05-18T22:17:10.109006Z"
    },
    "collapsed": true,
    "hidden": true
   },
   "outputs": [],
   "source": [
    "dvasc_df = get_dvasc_df(vasc_depo_df)"
   ]
  },
  {
   "cell_type": "code",
   "execution_count": 120,
   "metadata": {
    "ExecuteTime": {
     "end_time": "2018-05-18T20:07:02.536289Z",
     "start_time": "2018-05-18T20:07:02.528268Z"
    },
    "hidden": true,
    "scrolled": false
   },
   "outputs": [
    {
     "name": "stdout",
     "output_type": "stream",
     "text": [
      "8.6%+-14.7% (s.e.=1.9%)\n",
      "WilcoxonResult(statistic=307.0, pvalue=1.593651093256237e-06)\n"
     ]
    },
    {
     "name": "stderr",
     "output_type": "stream",
     "text": [
      "C:\\Users\\Clinton\\AppData\\Local\\conda\\conda\\envs\\old-keras\\lib\\site-packages\\scipy\\stats\\morestats.py:2388: RuntimeWarning: invalid value encountered in greater\n",
      "  r_plus = np.sum((d > 0) * r, axis=0)\n",
      "C:\\Users\\Clinton\\AppData\\Local\\conda\\conda\\envs\\old-keras\\lib\\site-packages\\scipy\\stats\\morestats.py:2389: RuntimeWarning: invalid value encountered in less\n",
      "  r_minus = np.sum((d < 0) * r, axis=0)\n"
     ]
    }
   ],
   "source": [
    "print(scipy.stats.wilcoxon(vasc_depo_df[\"%dV\"%liplvls[1]], vasc_depo_df[\"%dN\"%liplvls[1]]))"
   ]
  },
  {
   "cell_type": "code",
   "execution_count": 124,
   "metadata": {
    "ExecuteTime": {
     "end_time": "2018-05-18T20:26:19.201813Z",
     "start_time": "2018-05-18T20:26:19.180770Z"
    },
    "hidden": true
   },
   "outputs": [
    {
     "name": "stdout",
     "output_type": "stream",
     "text": [
      "-8.6%+-14.7% (s.e.=1.9%)\n",
      "-6.9%+-14.4% (s.e.=1.9%)\n",
      "3.5%+-14.3% (s.e.=1.9%)\n",
      "11.9%+-19.3% (s.e.=2.6%)\n",
      "WilcoxonResult(statistic=307.0, pvalue=0.00010477134927041804)\n",
      "WilcoxonResult(statistic=385.0, pvalue=0.000754754105706784)\n",
      "WilcoxonResult(statistic=527.0, pvalue=0.06352457698465036)\n",
      "WilcoxonResult(statistic=168.0, pvalue=9.798519283523615e-06)\n"
     ]
    }
   ],
   "source": [
    "for i in range(4):\n",
    "    subset = (dvasc_df[\"%dV\" % liplvls[i]] - dvasc_df[\"%dN\" % liplvls[i]]).dropna()\n",
    "    print(\"%.1f%%+-%.1f%% (s.e.=%.1f%%)\" % (np.mean(subset)*100,\n",
    "                                    np.std(subset)*100, np.std(subset)*100/(len(subset)**.5)))\n",
    "\n",
    "#DV = dvasc_df.dropna()\n",
    "#[scipy.stats.wilcoxon(DV[\"%dV\" % liplvls[i]], DV[\"%dN\" % liplvls[i]]) for i in range(4)]\n",
    "\n",
    "for i in range(4):\n",
    "    subset = dvasc_df[[\"%dV\" % liplvls[i], \"%dN\" % liplvls[i]]].dropna()\n",
    "    print(scipy.stats.wilcoxon(subset[\"%dV\" % liplvls[i]], subset[\"%dN\" % liplvls[i]]))"
   ]
  },
  {
   "cell_type": "code",
   "execution_count": 135,
   "metadata": {
    "ExecuteTime": {
     "end_time": "2018-05-18T22:17:23.322875Z",
     "start_time": "2018-05-18T22:17:23.292795Z"
    },
    "hidden": true
   },
   "outputs": [
    {
     "name": "stdout",
     "output_type": "stream",
     "text": [
      "0.00012339292808787657\n",
      "71.7%+-27.9% (s.e.=3.9%, n=52)\n",
      "37.5%+-22.9% (s.e.=6.4%, n=13)\n"
     ]
    }
   ],
   "source": [
    "master_df = pd.read_excel(r\"D:\\Lipiodol\\MASTER SOPHIE.xlsx\", \"Lesions analyzed\", index_col=\"Lesion_ID\")#\"C:\\Users\\Clinton\\Box\\FOR CLINTON BOX FOLDER\\MASTER SS SOPHIE.xlsx\")\n",
    "#dvasc_df = dvasc_df.join(master_df, how='inner')\n",
    "dvasc_df = vasc_depo_df.join(master_df, how='inner')\n",
    "i=1\n",
    "subset1 = dvasc_df.loc[dvasc_df[\"0=well delineated, 1=infiltrative\"] == 0, \"%dA\" % liplvls[i]].dropna()\n",
    "subset2 = dvasc_df.loc[dvasc_df[\"0=well delineated, 1=infiltrative\"] == 1, \"%dA\" % liplvls[i]].dropna()\n",
    "print(scipy.stats.mannwhitneyu(subset1, subset2).pvalue)\n",
    "print_subset_stats(subset1)\n",
    "print_subset_stats(subset2)"
   ]
  },
  {
   "cell_type": "code",
   "execution_count": 20,
   "metadata": {
    "ExecuteTime": {
     "end_time": "2018-05-18T01:36:05.219964Z",
     "start_time": "2018-05-18T01:36:05.211942Z"
    },
    "hidden": true
   },
   "outputs": [
    {
     "name": "stdout",
     "output_type": "stream",
     "text": [
      "0.07171699708950603\n",
      "72.5%+-25.6% (s.e.=4.5%)\n",
      "57.0%+-32.6% (s.e.=5.8%)\n"
     ]
    }
   ],
   "source": [
    "i=1\n",
    "subset1 = dvasc_df.loc[dvasc_df[\"selective=0\"] == 0, \"%dA\" % liplvls[i]].dropna()\n",
    "subset2 = dvasc_df.loc[dvasc_df[\"selective=0\"] == 1, \"%dA\" % liplvls[i]].dropna()\n",
    "print(scipy.stats.mannwhitneyu(subset1, subset2).pvalue)\n",
    "print_subset_stats(subset1)\n",
    "print_subset_stats(subset2)"
   ]
  },
  {
   "cell_type": "code",
   "execution_count": 21,
   "metadata": {
    "ExecuteTime": {
     "end_time": "2018-05-18T01:36:36.070037Z",
     "start_time": "2018-05-18T01:36:36.060010Z"
    },
    "hidden": true
   },
   "outputs": [
    {
     "name": "stdout",
     "output_type": "stream",
     "text": [
      "3.471764729349071e-05\n",
      "76.9%+-27.4% (s.e.=4.6%)\n",
      "66.7%+-22.8% (s.e.=6.1%)\n",
      "34.4%+-19.9% (s.e.=5.1%)\n"
     ]
    }
   ],
   "source": [
    "i=1\n",
    "subset1 = dvasc_df.loc[dvasc_df[\"HCC(0), ICC(1), other(2)\"] == 0, \"%dA\" % liplvls[i]].dropna()\n",
    "subset3 = dvasc_df.loc[dvasc_df[\"HCC(0), ICC(1), other(2)\"] == 1, \"%dA\" % liplvls[i]].dropna()\n",
    "subset2 = dvasc_df.loc[dvasc_df[\"HCC(0), ICC(1), other(2)\"] == 2, \"%dA\" % liplvls[i]].dropna()\n",
    "print(scipy.stats.kruskal(subset1, subset2, subset3).pvalue)\n",
    "print_subset_stats(subset1)\n",
    "print_subset_stats(subset2)\n",
    "print_subset_stats(subset3)"
   ]
  },
  {
   "cell_type": "code",
   "execution_count": 143,
   "metadata": {
    "ExecuteTime": {
     "end_time": "2018-05-18T22:23:47.182076Z",
     "start_time": "2018-05-18T22:23:46.700169Z"
    },
    "collapsed": true,
    "hidden": true
   },
   "outputs": [],
   "source": [
    "kwargs = {\"data\":dvasc_df, \"size\":3, \"kind\":\"bar\", \"color\":\"#C3C3C3\", \"legend\":False} #, \"aspect\":.8\n",
    "\n",
    "g = sns.factorplot(x=\"0=well delineated, 1=infiltrative\", y=\"%dA\"%liplvls[1], aspect=1., **kwargs)\n",
    "set_g_bar(g, join(C.fig_dir, \"Vascularization figures\", \"Upper graph\", \"well-del vs infilt.png\"))\n",
    "\n",
    "g = sns.factorplot(x=\"selective=0\", y=\"%dA\"%liplvls[1], aspect=1., **kwargs)\n",
    "set_g_bar(g, join(C.fig_dir, \"Vascularization figures\", \"Upper graph\", \"selective vs lobar.png\"))\n",
    "\n",
    "g = sns.factorplot(x=\"HCC(0), ICC(1), other(2)\", y=\"%dA\"%liplvls[1], order=[0,2,1], aspect=1.5, **kwargs)\n",
    "set_g_bar(g, join(C.fig_dir, \"Vascularization figures\", \"Upper graph\", \"tumor entity.png\"))\n",
    "\n",
    "g = sns.factorplot(x=\"0A\", y=\"%dA\"%liplvls[1], aspect=.5, **kwargs)\n",
    "set_g_bar(g, join(C.fig_dir, \"Vascularization figures\", \"Upper graph\", \"all tumors.png\"))"
   ]
  },
  {
   "cell_type": "markdown",
   "metadata": {
    "heading_collapsed": true
   },
   "source": [
    "### Middle Graph (Necro to Viable diff, no Lip breakdown)"
   ]
  },
  {
   "cell_type": "code",
   "execution_count": 52,
   "metadata": {
    "ExecuteTime": {
     "end_time": "2018-05-18T02:05:29.849208Z",
     "start_time": "2018-05-18T02:05:29.828122Z"
    },
    "collapsed": true,
    "hidden": true
   },
   "outputs": [],
   "source": [
    "Vdf = vasc_depo_df.dropna()\n",
    "dvasc_df = get_dvasc_df(vasc_depo_df, \"V-N\")\n",
    "master_df = pd.read_excel(r\"D:\\Lipiodol\\MASTER SOPHIE.xlsx\", \"Lesions analyzed\", index_col=\"Lesion_ID\")#\"C:\\Users\\Clinton\\Box\\FOR CLINTON BOX FOLDER\\MASTER SS SOPHIE.xlsx\")\n",
    "#master_df = master_df.join(pattern_df)\n",
    "dvasc_df = dvasc_df.join(master_df)"
   ]
  },
  {
   "cell_type": "code",
   "execution_count": 53,
   "metadata": {
    "ExecuteTime": {
     "end_time": "2018-05-18T02:05:30.237344Z",
     "start_time": "2018-05-18T02:05:30.229322Z"
    },
    "hidden": true,
    "scrolled": true
   },
   "outputs": [
    {
     "name": "stdout",
     "output_type": "stream",
     "text": [
      "0.40\n",
      "8.9%+-15.7% (s.e.=2.4%)\n",
      "7.5%+-10.5% (s.e.=2.9%)\n"
     ]
    }
   ],
   "source": [
    "i = 1\n",
    "subset1 = dvasc_df.loc[dvasc_df[\"0=well delineated, 1=infiltrative\"] == 0, \"%ddVN\" % liplvls[i]].dropna()\n",
    "subset2 = dvasc_df.loc[dvasc_df[\"0=well delineated, 1=infiltrative\"] == 1, \"%ddVN\" % liplvls[i]].dropna()\n",
    "print(\"%.2f\" % scipy.stats.mannwhitneyu(subset1, subset2).pvalue)\n",
    "print_subset_stats(subset1)\n",
    "print_subset_stats(subset2)"
   ]
  },
  {
   "cell_type": "code",
   "execution_count": 30,
   "metadata": {
    "ExecuteTime": {
     "end_time": "2018-05-18T01:57:26.819334Z",
     "start_time": "2018-05-18T01:57:26.811324Z"
    },
    "hidden": true
   },
   "outputs": [
    {
     "name": "stdout",
     "output_type": "stream",
     "text": [
      "0.43\n",
      "9.5%+-17.6% (s.e.=3.1%)\n",
      "7.4%+-9.3% (s.e.=1.9%)\n"
     ]
    }
   ],
   "source": [
    "i = 1\n",
    "subset1 = dvasc_df.loc[dvasc_df[\"selective=0\"] == 0, \"%ddVN\" % liplvls[i]].dropna()\n",
    "subset2 = dvasc_df.loc[dvasc_df[\"selective=0\"] == 1, \"%ddVN\" % liplvls[i]].dropna()\n",
    "print(\"%.2f\" % scipy.stats.mannwhitneyu(subset1, subset2).pvalue)\n",
    "print_subset_stats(subset1)\n",
    "print_subset_stats(subset2)"
   ]
  },
  {
   "cell_type": "code",
   "execution_count": 31,
   "metadata": {
    "ExecuteTime": {
     "end_time": "2018-05-18T01:57:32.128989Z",
     "start_time": "2018-05-18T01:57:32.117989Z"
    },
    "hidden": true,
    "scrolled": true
   },
   "outputs": [
    {
     "name": "stdout",
     "output_type": "stream",
     "text": [
      "0.30\n",
      "10.9%+-15.0% (s.e.=2.6%)\n",
      "7.1%+-16.1% (s.e.=4.3%)\n",
      "3.1%+-8.6% (s.e.=2.7%)\n"
     ]
    }
   ],
   "source": [
    "i = 1\n",
    "subset1 = dvasc_df.loc[dvasc_df[\"HCC(0), ICC(1), other(2)\"] == 0, \"%ddVN\" % liplvls[i]].dropna()\n",
    "subset3 = dvasc_df.loc[dvasc_df[\"HCC(0), ICC(1), other(2)\"] == 1, \"%ddVN\" % liplvls[i]].dropna()\n",
    "subset2 = dvasc_df.loc[dvasc_df[\"HCC(0), ICC(1), other(2)\"] == 2, \"%ddVN\" % liplvls[i]].dropna()\n",
    "print(\"%.2f\" % scipy.stats.kruskal(subset1, subset2, subset3).pvalue)\n",
    "print_subset_stats(subset1)\n",
    "print_subset_stats(subset2)\n",
    "print_subset_stats(subset3)"
   ]
  },
  {
   "cell_type": "code",
   "execution_count": 32,
   "metadata": {
    "ExecuteTime": {
     "end_time": "2018-05-18T01:57:54.198720Z",
     "start_time": "2018-05-18T01:57:54.177663Z"
    },
    "collapsed": true,
    "hidden": true
   },
   "outputs": [],
   "source": [
    "df = pd.DataFrame(columns=[\"Any Coverage\", \"Lesion_id\", \"Tissue Type\",\n",
    "                       \"Tumor Growth\", \"Tumor Type\", \"TACE Type\"])\n",
    "\n",
    "master_df = pd.read_excel(r\"D:\\Lipiodol\\MASTER SOPHIE.xlsx\", \"Lesions analyzed\", index_col=\"Lesion_ID\")#\"C:\\Users\\Clinton\\Box\\FOR CLINTON BOX FOLDER\\MASTER SS SOPHIE.xlsx\")\n",
    "master_df = master_df.join(pattern_df)\n",
    "modality = \"mrbl\""
   ]
  },
  {
   "cell_type": "code",
   "execution_count": 33,
   "metadata": {
    "ExecuteTime": {
     "end_time": "2018-05-18T01:58:13.888120Z",
     "start_time": "2018-05-18T01:58:13.654057Z"
    },
    "collapsed": true,
    "hidden": true,
    "scrolled": true
   },
   "outputs": [],
   "source": [
    "importlib.reload(lvis)\n",
    "ix = 0\n",
    "for lesion_id, row in Vdf.iterrows():\n",
    "    const = lvis.get_df_entry(lesion_id, master_df, modality)\n",
    "    \n",
    "    df.loc[ix] = [row[\"%dN\"%liplvls[1]], lesion_id, \"Necrosis\"] + const\n",
    "    df.loc[ix+1] = [row[\"%dV\"%liplvls[1]], lesion_id, \"Viable\"] + const\n",
    "    ix += 2"
   ]
  },
  {
   "cell_type": "code",
   "execution_count": 34,
   "metadata": {
    "ExecuteTime": {
     "end_time": "2018-05-18T01:58:15.562810Z",
     "start_time": "2018-05-18T01:58:15.542757Z"
    },
    "collapsed": true,
    "hidden": true
   },
   "outputs": [],
   "source": [
    "def set_g_bar(g, save_path):\n",
    "    g.set(yticks=[0.,.2,.4,.6,.8,1.], ylim=(0.,1.));\n",
    "    \n",
    "    for gax in g.axes[0]:\n",
    "        gax.set_xlabel(\"\")\n",
    "        gax.set_ylabel(\"\")\n",
    "        #gax.tick_params('x',width=0)\n",
    "        gax.set_xticks([], minor=False)\n",
    "        gax.set_yticks([], minor=False)\n",
    "        plt.setp(gax.patches, linewidth=1, edgecolor='k')\n",
    "        \n",
    "    g.set_titles(visible=False)\n",
    "    #g.axes[0][0].set_yticklabels([\"0%\", \"20%\", \"40%\", \"60%\", \"80%\", \"100%\"]);\n",
    "    \n",
    "    sns.despine(top=True, right=True, left=True)\n",
    "    g.fig.subplots_adjust(left=.2, top=.95)\n",
    "    \n",
    "    #g.fig.tight_layout(w_pad=1)\n",
    "    #plt.setp(g.ax.lines,linewidth=1);\n",
    "    g.fig.savefig(save_path, width=5, dpi=150, pad_inches=0, transparent=True)\n",
    "    plt.close()"
   ]
  },
  {
   "cell_type": "code",
   "execution_count": 35,
   "metadata": {
    "ExecuteTime": {
     "end_time": "2018-05-18T01:58:16.702233Z",
     "start_time": "2018-05-18T01:58:16.698196Z"
    },
    "collapsed": true,
    "hidden": true
   },
   "outputs": [],
   "source": [
    "kwargs = {\"x\":\"Tissue Type\", \"data\":df, \"size\":3, \"aspect\":.8, \"kind\":\"bar\", \"legend\":False}#, \"ci\":None"
   ]
  },
  {
   "cell_type": "code",
   "execution_count": 36,
   "metadata": {
    "ExecuteTime": {
     "end_time": "2018-05-18T01:58:19.833307Z",
     "start_time": "2018-05-18T01:58:18.954227Z"
    },
    "collapsed": true,
    "hidden": true
   },
   "outputs": [],
   "source": [
    "g1 = sns.factorplot(y=\"Any Coverage\", color=\"#D3D3D3\", **kwargs)\n",
    "set_g_bar(g1, join(C.fig_dir, \"Vascularization figures\", \"Mid graph\", \"Mean.png\"))\n",
    "\n",
    "for category, order in [(\"Tumor Growth\", None), (\"Tumor Type\", None),\n",
    "                        (\"TACE Type\", [\"Selective\", \"Lobar\"])]: #, (\"Sparsity\", [\"Sparse\", \"Non\"])\n",
    "    order = lan.get_actual_order(category, df, order)\n",
    "    g1 = sns.factorplot(y=\"Any Coverage\", col=category, color=\"#D3D3D3\", col_order=order, **kwargs)\n",
    "    set_g_bar(g1, join(C.fig_dir, \"Vascularization figures\", \"Mid graph\", \"%s.png\" % category))"
   ]
  },
  {
   "cell_type": "markdown",
   "metadata": {
    "heading_collapsed": true
   },
   "source": [
    "### Alternative Mid Graph (Lip density, no Necro/Viable separation)"
   ]
  },
  {
   "cell_type": "code",
   "execution_count": 332,
   "metadata": {
    "ExecuteTime": {
     "end_time": "2018-04-25T20:23:21.635026Z",
     "start_time": "2018-04-25T20:23:21.631018Z"
    },
    "collapsed": true,
    "hidden": true
   },
   "outputs": [],
   "source": [
    "Vdf = vasc_depo_df.dropna()"
   ]
  },
  {
   "cell_type": "code",
   "execution_count": 331,
   "metadata": {
    "ExecuteTime": {
     "end_time": "2018-04-25T20:23:16.757599Z",
     "start_time": "2018-04-25T20:23:16.750580Z"
    },
    "collapsed": true,
    "hidden": true
   },
   "outputs": [],
   "source": [
    "dvasc_df = get_dvasc_df(vasc_depo_df)"
   ]
  },
  {
   "cell_type": "code",
   "execution_count": 333,
   "metadata": {
    "ExecuteTime": {
     "end_time": "2018-04-25T20:23:59.267989Z",
     "start_time": "2018-04-25T20:23:59.246934Z"
    },
    "collapsed": true,
    "hidden": true
   },
   "outputs": [],
   "source": [
    "master_df = pd.read_excel(r\"D:\\Lipiodol\\MASTER SOPHIE.xlsx\", \"Lesions analyzed\", index_col=\"Lesion_ID\")#\"C:\\Users\\Clinton\\Box\\FOR CLINTON BOX FOLDER\\MASTER SS SOPHIE.xlsx\")\n",
    "#master_df = master_df.join(pattern_df)\n",
    "dvasc_df = dvasc_df.join(master_df)"
   ]
  },
  {
   "cell_type": "code",
   "execution_count": null,
   "metadata": {
    "ExecuteTime": {
     "end_time": "2018-04-25T20:24:10.529296Z",
     "start_time": "2018-04-25T20:24:10.510231Z"
    },
    "collapsed": true,
    "hidden": true
   },
   "outputs": [],
   "source": [
    "for i in range(4):\n",
    "    print(liplvls[i])\n",
    "    subset1 = dvasc_df.loc[dvasc_df[\"0=well delineated, 1=infiltrative\"] == 0, \"%dA\" % liplvls[i]].dropna()\n",
    "    subset2 = dvasc_df.loc[dvasc_df[\"0=well delineated, 1=infiltrative\"] == 1, \"%dA\" % liplvls[i]].dropna()\n",
    "    print(scipy.stats.mannwhitneyu(subset1, subset2))\n",
    "    print(\"%.1f%%+-%.1f%% (s.e.=%.1f%%)\" % (np.mean(subset1)*100, np.std(subset1)*100, np.std(subset1)*100/(len(subset1)**.5)))\n",
    "    print(\"%.1f%%+-%.1f%% (s.e.=%.1f%%)\" % (np.mean(subset2)*100, np.std(subset2)*100, np.std(subset2)*100/(len(subset2)**.5)))"
   ]
  },
  {
   "cell_type": "code",
   "execution_count": null,
   "metadata": {
    "ExecuteTime": {
     "end_time": "2018-04-25T20:27:15.122706Z",
     "start_time": "2018-04-25T20:27:15.103656Z"
    },
    "collapsed": true,
    "hidden": true
   },
   "outputs": [],
   "source": [
    "for i in range(4):\n",
    "    print(liplvls[i])\n",
    "    subset1 = dvasc_df.loc[dvasc_df[\"selective=0\"] == 0, \"%dA\" % liplvls[i]].dropna()\n",
    "    subset2 = dvasc_df.loc[dvasc_df[\"selective=0\"] == 1, \"%dA\" % liplvls[i]].dropna()\n",
    "    print(scipy.stats.mannwhitneyu(subset1, subset2))\n",
    "    print(\"%.1f%%+-%.1f%% (s.e.=%.1f%%)\" % (np.mean(subset1)*100, np.std(subset1)*100, np.std(subset1)*100/(len(subset1)**.5)))\n",
    "    print(\"%.1f%%+-%.1f%% (s.e.=%.1f%%)\" % (np.mean(subset2)*100, np.std(subset2)*100, np.std(subset2)*100/(len(subset2)**.5)))"
   ]
  },
  {
   "cell_type": "code",
   "execution_count": 338,
   "metadata": {
    "ExecuteTime": {
     "end_time": "2018-04-25T20:40:14.952092Z",
     "start_time": "2018-04-25T20:40:14.928029Z"
    },
    "hidden": true,
    "scrolled": true
   },
   "outputs": [
    {
     "name": "stdout",
     "output_type": "stream",
     "text": [
      "KruskalResult(statistic=18.14321160363808, pvalue=0.00011488191286503579)\n",
      "19.8%+-25.4% (s.e.=4.2%)\n",
      "29.1%+-23.0% (s.e.=7.3%)\n",
      "60.4%+-12.7% (s.e.=3.8%)\n",
      "KruskalResult(statistic=15.098642258431852, pvalue=0.0005264674091710209)\n",
      "28.9%+-16.2% (s.e.=2.7%)\n",
      "52.0%+-15.2% (s.e.=4.8%)\n",
      "35.3%+-10.5% (s.e.=3.2%)\n",
      "KruskalResult(statistic=16.318025146008512, pvalue=0.00028614480244862323)\n",
      "16.4%+-10.6% (s.e.=1.7%)\n",
      "12.7%+-10.4% (s.e.=3.3%)\n",
      "3.0%+-3.4% (s.e.=1.0%)\n",
      "KruskalResult(statistic=24.268648160106817, pvalue=5.371925862881901e-06)\n",
      "34.9%+-27.5% (s.e.=4.5%)\n",
      "6.3%+-5.9% (s.e.=1.9%)\n",
      "1.3%+-2.0% (s.e.=0.6%)\n"
     ]
    }
   ],
   "source": [
    "for i in range(4):\n",
    "    subset1 = dvasc_df.loc[dvasc_df[\"HCC(0), ICC(1), other(2)\"] == 0, \"%dA\" % liplvls[i]].dropna()\n",
    "    subset3 = dvasc_df.loc[dvasc_df[\"HCC(0), ICC(1), other(2)\"] == 1, \"%dA\" % liplvls[i]].dropna()\n",
    "    subset2 = dvasc_df.loc[dvasc_df[\"HCC(0), ICC(1), other(2)\"] == 2, \"%dA\" % liplvls[i]].dropna()\n",
    "    print(scipy.stats.kruskal(subset1, subset2, subset3))\n",
    "    print(\"%.1f%%+-%.1f%% (s.e.=%.1f%%)\" % (np.mean(subset1)*100, np.std(subset1)*100, np.std(subset1)*100/(len(subset1)**.5)))\n",
    "    print(\"%.1f%%+-%.1f%% (s.e.=%.1f%%)\" % (np.mean(subset2)*100, np.std(subset2)*100, np.std(subset2)*100/(len(subset2)**.5)))\n",
    "    print(\"%.1f%%+-%.1f%% (s.e.=%.1f%%)\" % (np.mean(subset3)*100, np.std(subset3)*100, np.std(subset3)*100/(len(subset3)**.5)))"
   ]
  },
  {
   "cell_type": "code",
   "execution_count": null,
   "metadata": {
    "collapsed": true,
    "hidden": true
   },
   "outputs": [],
   "source": []
  },
  {
   "cell_type": "code",
   "execution_count": 316,
   "metadata": {
    "ExecuteTime": {
     "end_time": "2018-04-25T20:16:28.146558Z",
     "start_time": "2018-04-25T20:16:28.142520Z"
    },
    "collapsed": true,
    "hidden": true
   },
   "outputs": [],
   "source": [
    "def get_row(row):\n",
    "    char=\"A\"\n",
    "    return [row[\"%d%s\"%(liplvls[1],char)],\n",
    "            row[\"%d%s\"%(liplvls[1],char)] - row[\"%d%s\"%(liplvls[3],char)],\n",
    "            row[\"%d%s\"%(liplvls[1],char)] - row[\"%d%s\"%(liplvls[2],char)]]"
   ]
  },
  {
   "cell_type": "code",
   "execution_count": 317,
   "metadata": {
    "ExecuteTime": {
     "end_time": "2018-04-25T20:16:29.795503Z",
     "start_time": "2018-04-25T20:16:29.578849Z"
    },
    "collapsed": true,
    "hidden": true,
    "scrolled": true
   },
   "outputs": [],
   "source": [
    "df = pd.DataFrame(columns=[\"Any Coverage\", \"Low-Mid Coverage\", \"Low Coverage\", \"Lesion_id\",\n",
    "                       \"Tumor Growth\", \"Tumor Type\", \"TACE Type\"])\n",
    "\n",
    "importlib.reload(lvis)\n",
    "ix = 0\n",
    "modality = \"mrbl\"\n",
    "for lesion_id, row in Vdf.iterrows():\n",
    "    const = lvis.get_df_entry(lesion_id, master_df, modality)\n",
    "    \n",
    "    df.loc[ix] = get_row(row) + [lesion_id] + const\n",
    "    ix += 1"
   ]
  },
  {
   "cell_type": "code",
   "execution_count": 318,
   "metadata": {
    "ExecuteTime": {
     "end_time": "2018-04-25T20:16:32.626435Z",
     "start_time": "2018-04-25T20:16:32.606384Z"
    },
    "collapsed": true,
    "hidden": true
   },
   "outputs": [],
   "source": [
    "def set_g_bar(g, save_path):\n",
    "    g.set(yticks=[0.,.2,.4,.6,.8,1.], ylim=(0.,1.));\n",
    "    \n",
    "    for gax in g.axes[0]:\n",
    "        gax.set_xlabel(\"\")\n",
    "        gax.set_ylabel(\"\")\n",
    "        #gax.tick_params('x',width=0)\n",
    "        gax.set_xticks([], minor=False)\n",
    "        gax.set_yticks([], minor=False)\n",
    "        plt.setp(gax.patches, linewidth=1, edgecolor='k')\n",
    "        \n",
    "    g.set_titles(visible=False)\n",
    "    #g.axes[0][0].set_yticklabels([\"0%\", \"20%\", \"40%\", \"60%\", \"80%\", \"100%\"]);\n",
    "    \n",
    "    sns.despine(top=True, right=True, left=True)\n",
    "    g.fig.subplots_adjust(left=.2, top=.95)\n",
    "    \n",
    "    #g.fig.tight_layout(w_pad=1)\n",
    "    #plt.setp(g.ax.lines,linewidth=1);\n",
    "    g.fig.savefig(save_path, width=5, dpi=150, pad_inches=0, transparent=True)\n",
    "    plt.close()"
   ]
  },
  {
   "cell_type": "code",
   "execution_count": 319,
   "metadata": {
    "ExecuteTime": {
     "end_time": "2018-04-25T20:17:14.578877Z",
     "start_time": "2018-04-25T20:17:14.575868Z"
    },
    "collapsed": true,
    "hidden": true
   },
   "outputs": [],
   "source": [
    "kwargs = {\"data\":df, \"size\":3, \"aspect\":.8, \"kind\":\"bar\", \"ci\":None, \"legend\":False}"
   ]
  },
  {
   "cell_type": "code",
   "execution_count": 320,
   "metadata": {
    "ExecuteTime": {
     "end_time": "2018-04-25T20:17:42.360191Z",
     "start_time": "2018-04-25T20:17:40.670966Z"
    },
    "collapsed": true,
    "hidden": true
   },
   "outputs": [],
   "source": [
    "g1 = sns.factorplot(y=\"Any Coverage\", color=\"#D3D3D3\", **kwargs)\n",
    "set_g_bar(g1, join(C.fig_dir, \"Vascularization figures\", \"Mid graph\", \"Mean1.png\"))\n",
    "g2 = sns.factorplot(y=\"Low-Mid Coverage\", color=\"#939393\", **kwargs)\n",
    "set_g_bar(g2, join(C.fig_dir, \"Vascularization figures\", \"Mid graph\", \"Mean2.png\"))\n",
    "g3 = sns.factorplot(y=\"Low Coverage\", color=\"#333333\", **kwargs)\n",
    "set_g_bar(g3, join(C.fig_dir, \"Vascularization figures\", \"Mid graph\", \"Mean3.png\"))\n",
    "\n",
    "for category, order in [(\"Tumor Growth\", None), (\"Tumor Type\", None),\n",
    "                        (\"TACE Type\", [\"Selective\", \"Lobar\"])]: #, (\"Sparsity\", [\"Sparse\", \"Non\"])\n",
    "\n",
    "    order = lm.get_actual_order(category, df, order)\n",
    "    g1 = sns.factorplot(y=\"Any Coverage\", col=category, color=\"#D3D3D3\", col_order=order, **kwargs)\n",
    "    set_g_bar(g1, join(C.fig_dir, \"Vascularization figures\", \"Mid graph\", \"%s1.png\" % category))\n",
    "    g2 = sns.factorplot(y=\"Low-Mid Coverage\", col=category, color=\"#939393\", col_order=order, **kwargs)\n",
    "    set_g_bar(g2, join(C.fig_dir, \"Vascularization figures\", \"Mid graph\", \"%s2.png\" % category))\n",
    "    g3 = sns.factorplot(y=\"Low Coverage\", col=category, color=\"#333333\", col_order=order, **kwargs)\n",
    "    set_g_bar(g3, join(C.fig_dir, \"Vascularization figures\", \"Mid graph\", \"%s3.png\" % category))"
   ]
  },
  {
   "cell_type": "markdown",
   "metadata": {
    "heading_collapsed": true
   },
   "source": [
    "## Response statistics"
   ]
  },
  {
   "cell_type": "code",
   "execution_count": 89,
   "metadata": {
    "ExecuteTime": {
     "end_time": "2018-05-18T18:37:24.325505Z",
     "start_time": "2018-05-18T18:37:24.299403Z"
    },
    "collapsed": true,
    "hidden": true
   },
   "outputs": [],
   "source": [
    "depo_resp_df = pd.read_excel(C.data_xls_path, \"Deposition-Response Data\")"
   ]
  },
  {
   "cell_type": "code",
   "execution_count": 64,
   "metadata": {
    "ExecuteTime": {
     "end_time": "2018-05-18T02:08:26.069016Z",
     "start_time": "2018-05-18T02:08:26.066010Z"
    },
    "collapsed": true,
    "hidden": true
   },
   "outputs": [],
   "source": [
    "Rdf = depo_resp_df.dropna()"
   ]
  },
  {
   "cell_type": "code",
   "execution_count": 42,
   "metadata": {
    "ExecuteTime": {
     "end_time": "2018-05-18T01:59:09.516727Z",
     "start_time": "2018-05-18T01:59:09.508708Z"
    },
    "hidden": true,
    "scrolled": true
   },
   "outputs": [
    {
     "data": {
      "text/plain": [
       "FriedmanchisquareResult(statistic=19.628571428571473, pvalue=0.0002026439953540675)"
      ]
     },
     "execution_count": 42,
     "metadata": {},
     "output_type": "execute_result"
    }
   ],
   "source": [
    "scipy.stats.friedmanchisquare(*[Rdf[l] for l in liplvls])"
   ]
  },
  {
   "cell_type": "code",
   "execution_count": null,
   "metadata": {
    "ExecuteTime": {
     "end_time": "2018-05-18T18:38:26.597488Z",
     "start_time": "2018-05-18T18:38:26.586458Z"
    },
    "collapsed": true,
    "hidden": true
   },
   "outputs": [],
   "source": [
    "for l in liplvls[1:]:\n",
    "    print(0,l,scipy.stats.wilcoxon(Rdf[0], Rdf[l]))\n",
    "print(liplvls[1],liplvls[2],scipy.stats.wilcoxon(Rdf[liplvls[1]], Rdf[liplvls[2]]))\n",
    "print(liplvls[3],liplvls[2],scipy.stats.wilcoxon(Rdf[liplvls[3]], Rdf[liplvls[2]]))"
   ]
  },
  {
   "cell_type": "code",
   "execution_count": 48,
   "metadata": {
    "ExecuteTime": {
     "end_time": "2018-05-18T02:04:18.866646Z",
     "start_time": "2018-05-18T02:04:18.861633Z"
    },
    "collapsed": true,
    "hidden": true,
    "scrolled": true
   },
   "outputs": [],
   "source": [
    "dresp_df = copy.deepcopy(Rdf)\n",
    "for L in liplvls[3:0:-1]:\n",
    "    dresp_df[L] = dresp_df[L] - dresp_df[0]\n",
    "dresp_df[0] = 0"
   ]
  },
  {
   "cell_type": "code",
   "execution_count": 49,
   "metadata": {
    "ExecuteTime": {
     "end_time": "2018-05-18T02:04:19.333334Z",
     "start_time": "2018-05-18T02:04:19.326319Z"
    },
    "hidden": true,
    "scrolled": false
   },
   "outputs": [
    {
     "name": "stdout",
     "output_type": "stream",
     "text": [
      "0.0%+-0.0% (s.e.=0.0%)\n",
      "3.1%+-12.0% (s.e.=2.0%)\n",
      "10.1%+-18.5% (s.e.=3.0%)\n",
      "15.2%+-23.2% (s.e.=3.8%)\n"
     ]
    }
   ],
   "source": [
    "for l in liplvls:\n",
    "    subset=dresp_df[l]\n",
    "    print(\"%.1f%%+-%.1f%% (s.e.=%.1f%%)\" % (np.mean(subset)*100, np.std(subset)*100, np.std(subset)*100/(len(subset)**.5)))"
   ]
  },
  {
   "cell_type": "markdown",
   "metadata": {
    "hidden": true
   },
   "source": [
    "### Top graph"
   ]
  },
  {
   "cell_type": "code",
   "execution_count": 103,
   "metadata": {
    "ExecuteTime": {
     "end_time": "2018-05-18T18:43:49.258788Z",
     "start_time": "2018-05-18T18:43:48.922441Z"
    },
    "collapsed": true,
    "hidden": true
   },
   "outputs": [],
   "source": [
    "pattern_df = pd.read_excel(C.data_xls_path, \"Patterns\")\n",
    "df = pd.DataFrame(columns=[\"Response\", \"Lesion_id\", \"Tumor Growth\", \"Tumor Type\", \"TACE Type\", \"Homogeneity\", \"Sparsity\", \"Rim Presence\"])\n",
    "\n",
    "master_df = pd.read_excel(r\"D:\\Lipiodol\\MASTER SOPHIE.xlsx\", \"Lesions analyzed\", index_col=\"Lesion_ID\")#\"C:\\Users\\Clinton\\Box\\FOR CLINTON BOX FOLDER\\MASTER SS SOPHIE.xlsx\")\n",
    "master_df = master_df.join(pattern_df)\n",
    "modality = \"ct24\"\n",
    "master_df[\"lipcoverage_vol\"] = master_df[\"lipcoverage_vol\"].astype(float)\n",
    "master_df[\"high_lip\"] = master_df[\"high_lip\"].astype(float)\n",
    "master_df[\"rim_lipiodol\"] = master_df[\"rim_lipiodol\"].astype(float)\n",
    "master_df[\"low_peripheral\"] = master_df[\"low_peripheral\"].astype(float)\n",
    "master_df[\"mid_peripheral\"] = master_df[\"mid_peripheral\"].astype(float)\n",
    "\n",
    "importlib.reload(lvis)\n",
    "ix = 0\n",
    "for lesion_id, row in depo_resp_df.iterrows():\n",
    "    const = lvis.get_df_entry(lesion_id, master_df, modality)\n",
    "    df.loc[ix] = [row[\"Avg\"], lesion_id] + const\n",
    "    ix += 1"
   ]
  },
  {
   "cell_type": "code",
   "execution_count": 94,
   "metadata": {
    "ExecuteTime": {
     "end_time": "2018-05-18T18:38:34.549889Z",
     "start_time": "2018-05-18T18:38:34.539861Z"
    },
    "hidden": true,
    "scrolled": true
   },
   "outputs": [
    {
     "name": "stdout",
     "output_type": "stream",
     "text": [
      "0.014722741820050197\n",
      "-64.7%+-37.5% (s.e.=5.4%, n=48)\n",
      "-44.3%+-25.8% (s.e.=7.2%, n=13)\n"
     ]
    }
   ],
   "source": [
    "#master_df = pd.read_excel(r\"D:\\Lipiodol\\MASTER SOPHIE.xlsx\", \"Lesions analyzed\", index_col=\"Lesion_ID\")#\"C:\\Users\\Clinton\\Box\\FOR CLINTON BOX FOLDER\\MASTER SS SOPHIE.xlsx\")\n",
    "#dvasc_df = dvasc_df.join(master_df, how='inner')\n",
    "Rdf = depo_resp_df.join(master_df)\n",
    "subset1 = Rdf.loc[Rdf[\"0=well delineated, 1=infiltrative\"] == 0, \"Avg\"].dropna()\n",
    "subset2 = Rdf.loc[Rdf[\"0=well delineated, 1=infiltrative\"] == 1, \"Avg\"].dropna()\n",
    "print(scipy.stats.mannwhitneyu(subset1, subset2).pvalue)\n",
    "print_subset_stats(subset1)\n",
    "print_subset_stats(subset2)"
   ]
  },
  {
   "cell_type": "code",
   "execution_count": 95,
   "metadata": {
    "ExecuteTime": {
     "end_time": "2018-05-18T18:39:02.022105Z",
     "start_time": "2018-05-18T18:39:01.995003Z"
    },
    "hidden": true
   },
   "outputs": [
    {
     "name": "stdout",
     "output_type": "stream",
     "text": [
      "0.2618928611239476\n",
      "-64.5%+-34.8% (s.e.=6.1%, n=33)\n",
      "-55.5%+-37.4% (s.e.=7.1%, n=28)\n"
     ]
    }
   ],
   "source": [
    "master_df = pd.read_excel(r\"D:\\Lipiodol\\MASTER SOPHIE.xlsx\", \"Lesions analyzed\", index_col=\"Lesion_ID\")#\"C:\\Users\\Clinton\\Box\\FOR CLINTON BOX FOLDER\\MASTER SS SOPHIE.xlsx\")\n",
    "#dvasc_df = dvasc_df.join(master_df, how='inner')\n",
    "Rdf = depo_resp_df.join(master_df)\n",
    "subset1 = Rdf.loc[Rdf[\"selective=0\"] == 0, \"Avg\"].dropna()\n",
    "subset2 = Rdf.loc[Rdf[\"selective=0\"] == 1, \"Avg\"].dropna()\n",
    "print(scipy.stats.mannwhitneyu(subset1, subset2).pvalue)\n",
    "print_subset_stats(subset1)\n",
    "print_subset_stats(subset2)"
   ]
  },
  {
   "cell_type": "code",
   "execution_count": 96,
   "metadata": {
    "ExecuteTime": {
     "end_time": "2018-05-18T18:39:35.847860Z",
     "start_time": "2018-05-18T18:39:35.818782Z"
    },
    "hidden": true,
    "scrolled": true
   },
   "outputs": [
    {
     "name": "stdout",
     "output_type": "stream",
     "text": [
      "0.01912642478962076\n",
      "-68.2%+-32.3% (s.e.=5.4%, n=36)\n",
      "-64.8%+-36.9% (s.e.=9.9%, n=14)\n",
      "-29.0%+-30.9% (s.e.=9.3%, n=11)\n"
     ]
    }
   ],
   "source": [
    "master_df = pd.read_excel(r\"D:\\Lipiodol\\MASTER SOPHIE.xlsx\", \"Lesions analyzed\", index_col=\"Lesion_ID\")#\"C:\\Users\\Clinton\\Box\\FOR CLINTON BOX FOLDER\\MASTER SS SOPHIE.xlsx\")\n",
    "#dvasc_df = dvasc_df.join(master_df, how='inner')\n",
    "Rdf = depo_resp_df.join(master_df)\n",
    "subset1 = Rdf.loc[Rdf[\"HCC(0), ICC(1), other(2)\"] == 0, \"Avg\"].dropna()\n",
    "subset3 = Rdf.loc[Rdf[\"HCC(0), ICC(1), other(2)\"] == 1, \"Avg\"].dropna()\n",
    "subset2 = Rdf.loc[Rdf[\"HCC(0), ICC(1), other(2)\"] == 2, \"Avg\"].dropna()\n",
    "print(scipy.stats.kruskal(subset1, subset2, subset3).pvalue)\n",
    "print_subset_stats(subset1)\n",
    "print_subset_stats(subset2)\n",
    "print_subset_stats(subset3)"
   ]
  },
  {
   "cell_type": "code",
   "execution_count": 104,
   "metadata": {
    "ExecuteTime": {
     "end_time": "2018-05-18T18:43:51.107408Z",
     "start_time": "2018-05-18T18:43:51.098385Z"
    },
    "hidden": true,
    "scrolled": true
   },
   "outputs": [
    {
     "name": "stdout",
     "output_type": "stream",
     "text": [
      "0.00021631674693271154\n",
      "-37.7%+-35.8% (s.e.=6.8%, n=28)\n",
      "-69.4%+-29.6% (s.e.=5.7%, n=27)\n"
     ]
    }
   ],
   "source": [
    "subdf = df.dropna(subset=[\"Sparsity\"])\n",
    "subset1 = subdf.loc[subdf[\"Sparsity\"].str.contains(\"Sparse\"), \"Response\"]\n",
    "subset2 = subdf.loc[subdf[\"Sparsity\"].str.contains(\"Non\"), \"Response\"]\n",
    "print(scipy.stats.mannwhitneyu(subset1, subset2).pvalue)\n",
    "print_subset_stats(subset1)\n",
    "print_subset_stats(subset2)"
   ]
  },
  {
   "cell_type": "code",
   "execution_count": 106,
   "metadata": {
    "ExecuteTime": {
     "end_time": "2018-05-18T18:44:13.390317Z",
     "start_time": "2018-05-18T18:44:13.370265Z"
    },
    "hidden": true,
    "scrolled": false
   },
   "outputs": [
    {
     "name": "stdout",
     "output_type": "stream",
     "text": [
      "0.002190506540975477\n",
      "-90.3%+-15.8% (s.e.=5.0%, n=10)\n",
      "-58.0%+-38.7% (s.e.=6.0%, n=42)\n"
     ]
    }
   ],
   "source": [
    "importlib.reload(lan)\n",
    "focal_df = df.dropna(subset=[\"Tumor Growth\"])\n",
    "focal_df = focal_df[focal_df[\"Tumor Growth\"].str.contains(\"Well\")]\n",
    "\n",
    "subdf = focal_df.dropna(subset=[\"Homogeneity\"])\n",
    "subset1 = subdf.loc[(subdf[\"Homogeneity\"].str.contains(\"Homo\")), \"Response\"]\n",
    "subset2 = subdf.loc[(subdf[\"Homogeneity\"].str.contains(\"Hetero\")), \"Response\"]\n",
    "print(scipy.stats.mannwhitneyu(subset1, subset2).pvalue)\n",
    "print_subset_stats(subset1)\n",
    "print_subset_stats(subset2)"
   ]
  },
  {
   "cell_type": "code",
   "execution_count": 107,
   "metadata": {
    "ExecuteTime": {
     "end_time": "2018-05-18T18:44:26.776833Z",
     "start_time": "2018-05-18T18:44:26.762767Z"
    },
    "hidden": true,
    "scrolled": true
   },
   "outputs": [
    {
     "name": "stdout",
     "output_type": "stream",
     "text": [
      "0.02616259535699922\n",
      "-68.6%+-29.3% (s.e.=10.4%, n=8)\n",
      "-16.0%+-36.9% (s.e.=11.1%, n=11)\n"
     ]
    }
   ],
   "source": [
    "subdf = focal_df.dropna(subset=[\"Rim Presence\"])\n",
    "subset1 = subdf.loc[(subdf[\"Rim Presence\"].str.contains(\"Rim\")) & (subdf[\"Sparsity\"].str.contains(\"Sparse\")), \"Response\"]\n",
    "subset2 = subdf.loc[(subdf[\"Rim Presence\"].str.contains(\"Non\")) & (subdf[\"Sparsity\"].str.contains(\"Sparse\")), \"Response\"]\n",
    "print(scipy.stats.mannwhitneyu(subset1, subset2).pvalue)\n",
    "print_subset_stats(subset1)\n",
    "print_subset_stats(subset2)"
   ]
  },
  {
   "cell_type": "code",
   "execution_count": 108,
   "metadata": {
    "ExecuteTime": {
     "end_time": "2018-05-18T18:44:37.909981Z",
     "start_time": "2018-05-18T18:44:37.897921Z"
    },
    "hidden": true,
    "scrolled": true
   },
   "outputs": [
    {
     "name": "stdout",
     "output_type": "stream",
     "text": [
      "0.4860232665286046\n",
      "-68.1%+-27.0% (s.e.=11.0%, n=6)\n",
      "-69.9%+-32.1% (s.e.=7.8%, n=17)\n"
     ]
    }
   ],
   "source": [
    "subdf = focal_df.dropna(subset=[\"Rim Presence\"])\n",
    "subset1 = subdf.loc[(subdf[\"Rim Presence\"].str.contains(\"Rim\")) & ~(subdf[\"Sparsity\"].str.contains(\"Sparse\")), \"Response\"]\n",
    "subset2 = subdf.loc[(subdf[\"Rim Presence\"].str.contains(\"Non\")) & ~(subdf[\"Sparsity\"].str.contains(\"Sparse\")), \"Response\"]\n",
    "print(scipy.stats.mannwhitneyu(subset1, subset2).pvalue)\n",
    "print_subset_stats(subset1)\n",
    "print_subset_stats(subset2)"
   ]
  },
  {
   "cell_type": "code",
   "execution_count": 109,
   "metadata": {
    "ExecuteTime": {
     "end_time": "2018-05-18T18:46:27.509436Z",
     "start_time": "2018-05-18T18:46:27.482365Z"
    },
    "hidden": true
   },
   "outputs": [
    {
     "name": "stdout",
     "output_type": "stream",
     "text": [
      "0.002606776336451984\n",
      "-40.5%+-42.6% (s.e.=9.8%, n=19)\n",
      "-69.4%+-30.9% (s.e.=6.4%, n=23)\n",
      "0.018621272297989672\n",
      "-33.1%+-19.0% (s.e.=6.3%, n=9)\n",
      "-69.5%+-20.9% (s.e.=10.4%, n=4)\n"
     ]
    }
   ],
   "source": [
    "subdf = focal_df.dropna(subset=[\"Sparsity\"])\n",
    "subset1 = subdf.loc[subdf[\"Sparsity\"].str.contains(\"Sparse\"), \"Response\"]\n",
    "subset2 = subdf.loc[subdf[\"Sparsity\"].str.contains(\"Non\"), \"Response\"]\n",
    "print(scipy.stats.mannwhitneyu(subset1, subset2).pvalue)\n",
    "print_subset_stats(subset1)\n",
    "print_subset_stats(subset2)\n",
    "\n",
    "importlib.reload(lan)\n",
    "infil_df = df.dropna(subset=[\"Tumor Growth\"])\n",
    "infil_df = infil_df[infil_df[\"Tumor Growth\"].str.contains(\"Infilt\")]\n",
    "subdf = infil_df.dropna(subset=[\"Sparsity\"])\n",
    "subset1 = subdf.loc[subdf[\"Sparsity\"].str.contains(\"Sparse\"), \"Response\"]\n",
    "subset2 = subdf.loc[subdf[\"Sparsity\"].str.contains(\"Non\"), \"Response\"]\n",
    "print(scipy.stats.mannwhitneyu(subset1, subset2).pvalue)\n",
    "print_subset_stats(subset1)\n",
    "print_subset_stats(subset2)"
   ]
  },
  {
   "cell_type": "code",
   "execution_count": null,
   "metadata": {
    "collapsed": true,
    "hidden": true
   },
   "outputs": [],
   "source": []
  },
  {
   "cell_type": "code",
   "execution_count": 77,
   "metadata": {
    "ExecuteTime": {
     "end_time": "2018-05-18T03:11:39.606776Z",
     "start_time": "2018-05-18T03:11:39.271887Z"
    },
    "collapsed": true,
    "hidden": true
   },
   "outputs": [],
   "source": [
    "pattern_df = pd.read_excel(C.data_xls_path, \"Patterns\")\n",
    "df = pd.DataFrame(columns=[\"Response\", \"Lesion_id\", \"Tumor Growth\", \"Tumor Type\", \"TACE Type\", \"Homogeneity\", \"Sparsity\", \"Rim Presence\"])\n",
    "\n",
    "master_df = pd.read_excel(r\"D:\\Lipiodol\\MASTER SOPHIE.xlsx\", \"Lesions analyzed\", index_col=\"Lesion_ID\")#\"C:\\Users\\Clinton\\Box\\FOR CLINTON BOX FOLDER\\MASTER SS SOPHIE.xlsx\")\n",
    "master_df = master_df.join(pattern_df)\n",
    "modality = \"ct24\"\n",
    "master_df[\"lipcoverage_vol\"] = master_df[\"lipcoverage_vol\"].astype(float)\n",
    "master_df[\"high_lip\"] = master_df[\"high_lip\"].astype(float)\n",
    "master_df[\"rim_lipiodol\"] = master_df[\"rim_lipiodol\"].astype(float)\n",
    "master_df[\"low_peripheral\"] = master_df[\"low_peripheral\"].astype(float)\n",
    "master_df[\"mid_peripheral\"] = master_df[\"mid_peripheral\"].astype(float)\n",
    "\n",
    "importlib.reload(lvis)\n",
    "ix = 0\n",
    "for lesion_id, row in depo_resp_df.iterrows():\n",
    "    const = lvis.get_df_entry(lesion_id, master_df, modality)\n",
    "    df.loc[ix] = [row[\"Avg\"], lesion_id] + const\n",
    "    ix += 1"
   ]
  },
  {
   "cell_type": "code",
   "execution_count": 78,
   "metadata": {
    "ExecuteTime": {
     "end_time": "2018-05-18T03:11:40.325265Z",
     "start_time": "2018-05-18T03:11:40.301228Z"
    },
    "collapsed": true,
    "hidden": true
   },
   "outputs": [],
   "source": [
    "#kwargs = {\"x\":\"Lipiodol Deposition\", \"y\":\"Response\", \"data\":df, \"size\":3, \"markers\":[\"s\", \"o\", \"^\"], \"legend\":False}\n",
    "kwargs = {\"y\":\"Response\", \"data\":df, \"size\":3, \"kind\":\"bar\", \"legend\":False}\n",
    "\n",
    "def set_g_bar(g, save_path):\n",
    "    g.set(yticks=[0.,.2,.4,.6,.8,1.], ylim=(0.,1.));\n",
    "    #g.set(yticks=[-1.,-.8,-.6,-.4,-.2,0.], ylim=(-1.,0.));\n",
    "    \n",
    "    for gax in g.axes[0]:\n",
    "        gax.set_xlabel(\"\")\n",
    "        gax.set_ylabel(\"\")\n",
    "        #gax.tick_params('x',width=0)\n",
    "        gax.set_xticks([], minor=False)\n",
    "        gax.set_yticks([], minor=False)\n",
    "        plt.setp(gax.patches, linewidth=1, edgecolor='k')\n",
    "        \n",
    "    g.set_titles(visible=False)\n",
    "    #g.axes[0][0].set_yticklabels([\"0%\", \"20%\", \"40%\", \"60%\", \"80%\", \"100%\"]);\n",
    "    \n",
    "    sns.despine(top=True, right=True, left=True, bottom=False)\n",
    "    g.fig.subplots_adjust(left=.2, top=.95)\n",
    "    \n",
    "    #g.fig.tight_layout(w_pad=1)\n",
    "    #plt.setp(g.ax.lines,linewidth=1);\n",
    "    g.fig.savefig(save_path, width=5, dpi=150, pad_inches=0, transparent=True)\n",
    "    plt.close()"
   ]
  },
  {
   "cell_type": "code",
   "execution_count": 79,
   "metadata": {
    "ExecuteTime": {
     "end_time": "2018-05-18T03:11:41.462960Z",
     "start_time": "2018-05-18T03:11:41.459952Z"
    },
    "collapsed": true,
    "hidden": true
   },
   "outputs": [],
   "source": [
    "df[\"Response\"] = -df[\"Response\"]"
   ]
  },
  {
   "cell_type": "code",
   "execution_count": 80,
   "metadata": {
    "ExecuteTime": {
     "end_time": "2018-05-18T03:11:46.494925Z",
     "start_time": "2018-05-18T03:11:45.999183Z"
    },
    "collapsed": true,
    "hidden": true
   },
   "outputs": [],
   "source": [
    "importlib.reload(lan)\n",
    "for category, order in [(\"Tumor Growth\", None), (\"Tumor Type\", None),\n",
    "                        (\"TACE Type\", [\"Selective\", \"Lobar\"]), (\"Sparsity\", [\"Sparse\", \"Non\"])]:\n",
    "    g = sns.factorplot(x=category, order=lan.get_actual_order(category, df, order), **kwargs)\n",
    "    set_g_bar(g, join(C.fig_dir, \"Deposition figures\", \"Top graph\", \"%s.png\" % category));\n",
    "    \n",
    "#for category, order in [(\"Tumor Growth\", None)]:\n",
    "#    g = sns.factorplot(x=category, order=lan.get_actual_order(category, df, order), **kwargs)\n",
    "#    set_g_bar(g, join(C.fig_dir, \"Deposition figures\", \"Top graph\", \"%s with percentage.png\" % category));"
   ]
  },
  {
   "cell_type": "code",
   "execution_count": 81,
   "metadata": {
    "ExecuteTime": {
     "end_time": "2018-05-18T03:11:56.372546Z",
     "start_time": "2018-05-18T03:11:55.636815Z"
    },
    "collapsed": true,
    "hidden": true,
    "scrolled": true
   },
   "outputs": [],
   "source": [
    "importlib.reload(lan)\n",
    "focal_df = df.dropna(subset=[\"Tumor Growth\"])\n",
    "focal_df = focal_df[focal_df[\"Tumor Growth\"].str.contains(\"Well\")]\n",
    "for ix, row in focal_df.iterrows():\n",
    "    focal_df.loc[ix, \"Tumor Type\"] = lvis.check_column(row[\"Lesion_id\"], master_df, \"HCC(0), ICC(1), other(2)\", \n",
    "                                                  {0: \"HCCs\", 1: \"ICCs\", 2: \"Metastases\"}, \"WD\")\n",
    "    focal_df.loc[ix, \"Sparsity\"] = lvis.check_sparse(row[\"Lesion_id\"], master_df, modality, \"WD\")\n",
    "kwargs[\"data\"] = focal_df\n",
    "\n",
    "for category, order in [(\"Sparsity\", [\"Sparse\", \"Non\"]), (\"Homogeneity\", [\"Homo\", \"Hetero\"])]:\n",
    "    g = sns.factorplot(x=category, order=lan.get_actual_order(category, focal_df, order), **kwargs)\n",
    "    set_g_bar(g, join(C.fig_dir, \"Deposition figures\", \"Top graph\", \"Focal_%s.png\" % category));\n",
    "    \n",
    "focal_df = focal_df.dropna(subset=[\"Sparsity\"])\n",
    "\n",
    "kwargs[\"data\"] = focal_df[focal_df[\"Sparsity\"].str.startswith(\"Sparse\")]\n",
    "for category, order in [(\"Rim Presence\", [\"Rim\", \"Non\"])]:\n",
    "    g = sns.factorplot(x=category, order=lan.get_actual_order(category, focal_df, order), **kwargs)\n",
    "    set_g_bar(g, join(C.fig_dir, \"Deposition figures\", \"Top graph\", \"Focal_Sparse_%s.png\" % category));\n",
    "kwargs[\"data\"] = focal_df[focal_df[\"Sparsity\"].str.startswith(\"Non\")]\n",
    "for category, order in [(\"Rim Presence\", [\"Rim\", \"Non\"])]:\n",
    "    g = sns.factorplot(x=category, order=lan.get_actual_order(category, focal_df, order), **kwargs)\n",
    "    set_g_bar(g, join(C.fig_dir, \"Deposition figures\", \"Top graph\", \"Focal_Non-Sparse_%s.png\" % category));"
   ]
  },
  {
   "cell_type": "markdown",
   "metadata": {
    "ExecuteTime": {
     "end_time": "2018-04-26T20:05:09.417124Z",
     "start_time": "2018-04-26T20:05:09.185467Z"
    },
    "hidden": true
   },
   "source": [
    "infil_df = df.dropna(subset=[\"Tumor Growth\"])\n",
    "infil_df = infil_df[infil_df[\"Tumor Growth\"].str.contains(\"Infiltrative\")]\n",
    "for ix, row in infil_df.iterrows():\n",
    "    infil_df.loc[ix, \"Tumor Type\"] = lvis.check_column(row[\"Lesion_id\"], master_df, \"HCC(0), ICC(1), other(2)\", \n",
    "                                                  {0: \"HCCs\", 1: \"ICCs\", 2: \"Metastases\"}, \"Infiltrative\")\n",
    "    infil_df.loc[ix, \"Sparsity\"] = lvis.check_sparse(row[\"Lesion_id\"], master_df, modality, \"Infiltrative\")\n",
    "kwargs[\"data\"] = infil_df\n",
    "\n",
    "for category, order in [(\"Sparsity\", [\"Sparse\", \"Non\"])]:\n",
    "    g = sns.factorplot(x=category, order=lan.get_actual_order(category, infil_df, order), **kwargs)\n",
    "    set_g_bar(g, join(C.fig_dir, \"Deposition figures\", \"Top graph\", \"Infil_%s.png\" % category));"
   ]
  },
  {
   "cell_type": "markdown",
   "metadata": {},
   "source": [
    "## Prediction of Lipiodol deposition"
   ]
  },
  {
   "cell_type": "code",
   "execution_count": null,
   "metadata": {
    "collapsed": true
   },
   "outputs": [],
   "source": [
    "pattern_df = pd.read_excel(C.data_xls_path, \"Patterns\")"
   ]
  },
  {
   "cell_type": "code",
   "execution_count": 277,
   "metadata": {
    "ExecuteTime": {
     "end_time": "2018-04-25T19:20:59.378042Z",
     "start_time": "2018-04-25T19:20:59.374002Z"
    }
   },
   "outputs": [
    {
     "data": {
      "text/plain": [
       "('BM-09', 6)"
      ]
     },
     "execution_count": 277,
     "metadata": {},
     "output_type": "execute_result"
    }
   ],
   "source": [
    "lesion_id, lesions.index(lesion_id)"
   ]
  },
  {
   "cell_type": "code",
   "execution_count": 5,
   "metadata": {
    "ExecuteTime": {
     "end_time": "2018-04-25T02:50:40.487853Z",
     "start_time": "2018-04-25T02:50:40.483814Z"
    },
    "collapsed": true
   },
   "outputs": [],
   "source": [
    "cols = [\"T_art\", \"DICE_art\", \"T_sub\", \"DICE_sub\"]\n",
    "T_df = pd.DataFrame(columns=cols)"
   ]
  },
  {
   "cell_type": "code",
   "execution_count": null,
   "metadata": {
    "ExecuteTime": {
     "end_time": "2018-04-25T19:26:57.263464Z",
     "start_time": "2018-04-25T19:23:07.572722Z"
    },
    "collapsed": true
   },
   "outputs": [],
   "source": [
    "importlib.reload(lan)\n",
    "for lesion_id in lesions[0:]:\n",
    "    print(lesion_id)\n",
    "    T_df.loc[lesion_id] = lan.get_best_T_lip(lesion_id, target_dir, liplvls[2])"
   ]
  },
  {
   "cell_type": "code",
   "execution_count": 380,
   "metadata": {
    "ExecuteTime": {
     "end_time": "2018-04-25T21:46:46.022751Z",
     "start_time": "2018-04-25T21:46:46.016735Z"
    }
   },
   "outputs": [
    {
     "data": {
      "text/plain": [
       "(0.8375604683744453, 0.832073280132539)"
      ]
     },
     "execution_count": 380,
     "metadata": {},
     "output_type": "execute_result"
    }
   ],
   "source": [
    "T_df[\"DICE_art\"].mean(), T_df[\"DICE_sub\"].mean()"
   ]
  },
  {
   "cell_type": "code",
   "execution_count": 279,
   "metadata": {
    "ExecuteTime": {
     "end_time": "2018-04-25T19:21:09.545997Z",
     "start_time": "2018-04-25T19:21:09.541986Z"
    },
    "collapsed": true
   },
   "outputs": [],
   "source": [
    "lesion_id = \"BM-01\""
   ]
  },
  {
   "cell_type": "code",
   "execution_count": null,
   "metadata": {
    "ExecuteTime": {
     "end_time": "2018-04-25T19:14:13.761824Z",
     "start_time": "2018-04-25T19:14:13.758803Z"
    },
    "collapsed": true
   },
   "outputs": [],
   "source": [
    "P = lm.get_paths_dict(lesion_id, target_dir)"
   ]
  },
  {
   "cell_type": "code",
   "execution_count": null,
   "metadata": {
    "ExecuteTime": {
     "end_time": "2018-04-25T19:19:18.097908Z",
     "start_time": "2018-04-25T19:19:18.093868Z"
    },
    "collapsed": true
   },
   "outputs": [],
   "source": [
    "art.min()"
   ]
  },
  {
   "cell_type": "code",
   "execution_count": null,
   "metadata": {
    "ExecuteTime": {
     "end_time": "2018-04-25T19:18:01.522061Z",
     "start_time": "2018-04-25T19:18:01.518023Z"
    },
    "collapsed": true
   },
   "outputs": [],
   "source": [
    "art = hf.nii_load(P['ct24Tx']['mrbl']['art'])[0]"
   ]
  },
  {
   "cell_type": "code",
   "execution_count": null,
   "metadata": {
    "ExecuteTime": {
     "end_time": "2018-04-25T19:20:24.849828Z",
     "start_time": "2018-04-25T19:20:24.845793Z"
    },
    "collapsed": true
   },
   "outputs": [],
   "source": [
    "art[M != 0].min()"
   ]
  },
  {
   "cell_type": "code",
   "execution_count": null,
   "metadata": {
    "ExecuteTime": {
     "end_time": "2018-04-25T19:19:37.524744Z",
     "start_time": "2018-04-25T19:19:37.518696Z"
    },
    "collapsed": true
   },
   "outputs": [],
   "source": [
    "img = masks.crop_img_to_mask_vicinity(P['ct24Tx']['mrbl']['art'], P['ct24Tx']['crop']['tumor'])"
   ]
  },
  {
   "cell_type": "code",
   "execution_count": null,
   "metadata": {
    "ExecuteTime": {
     "end_time": "2018-04-25T19:19:51.256505Z",
     "start_time": "2018-04-25T19:19:51.118136Z"
    },
    "collapsed": true
   },
   "outputs": [],
   "source": [
    "img = masks.draw_mask(P['ct24Tx']['crop']['tumor'], P['ct24Tx']['mrbl']['art']);"
   ]
  },
  {
   "cell_type": "code",
   "execution_count": null,
   "metadata": {
    "ExecuteTime": {
     "end_time": "2018-04-25T19:19:53.993772Z",
     "start_time": "2018-04-25T19:19:53.988767Z"
    },
    "collapsed": true
   },
   "outputs": [],
   "source": [
    "img.min()"
   ]
  },
  {
   "cell_type": "code",
   "execution_count": null,
   "metadata": {
    "ExecuteTime": {
     "end_time": "2018-04-25T19:15:08.958763Z",
     "start_time": "2018-04-25T19:15:08.799341Z"
    },
    "collapsed": true
   },
   "outputs": [],
   "source": [
    "hf.draw_slices(img)"
   ]
  },
  {
   "cell_type": "code",
   "execution_count": 238,
   "metadata": {
    "ExecuteTime": {
     "end_time": "2018-04-25T19:14:18.666477Z",
     "start_time": "2018-04-25T19:14:18.653442Z"
    }
   },
   "outputs": [
    {
     "name": "stderr",
     "output_type": "stream",
     "text": [
      "C:\\Users\\Clinton\\AppData\\Local\\conda\\conda\\envs\\old-keras\\lib\\site-packages\\ipykernel_launcher.py:4: RuntimeWarning: invalid value encountered in greater_equal\n",
      "  after removing the cwd from sys.path.\n",
      "C:\\Users\\Clinton\\AppData\\Local\\conda\\conda\\envs\\old-keras\\lib\\site-packages\\ipykernel_launcher.py:5: RuntimeWarning: invalid value encountered in less\n",
      "  \"\"\"\n"
     ]
    }
   ],
   "source": [
    "ct = hf.nii_load(P['ct24Tx']['crop']['img'])[0]\n",
    "M = masks.get_mask(P['ct24Tx']['crop']['tumor'])[0]\n",
    "ct[M != 0] = np.nan\n",
    "ct_U = ct >= T_lip\n",
    "ct_L = ct < T_lip\n",
    "art = hf.nii_load(P['ct24Tx']['mrbl']['art'])[0].astype(int)\n",
    "sub = hf.nii_load(P['ct24Tx']['mrbl']['sub'])[0].astype(int)"
   ]
  },
  {
   "cell_type": "code",
   "execution_count": null,
   "metadata": {
    "ExecuteTime": {
     "end_time": "2018-04-25T18:42:16.464826Z",
     "start_time": "2018-04-25T18:42:16.460788Z"
    },
    "collapsed": true
   },
   "outputs": [],
   "source": [
    "M.sum()/M.max()"
   ]
  },
  {
   "cell_type": "code",
   "execution_count": null,
   "metadata": {
    "collapsed": true
   },
   "outputs": [],
   "source": [
    "ct[M != 0] = np.nan"
   ]
  },
  {
   "cell_type": "code",
   "execution_count": null,
   "metadata": {
    "ExecuteTime": {
     "end_time": "2018-04-25T18:43:13.782018Z",
     "start_time": "2018-04-25T18:43:13.777005Z"
    },
    "collapsed": true
   },
   "outputs": [],
   "source": [
    "(~np.isnan(ct)).sum()"
   ]
  },
  {
   "cell_type": "code",
   "execution_count": null,
   "metadata": {
    "ExecuteTime": {
     "end_time": "2018-04-25T18:42:28.384978Z",
     "start_time": "2018-04-25T18:42:28.380967Z"
    },
    "collapsed": true
   },
   "outputs": [],
   "source": [
    "(ct < 99999).sum()"
   ]
  },
  {
   "cell_type": "code",
   "execution_count": null,
   "metadata": {
    "ExecuteTime": {
     "end_time": "2018-04-25T18:43:49.701144Z",
     "start_time": "2018-04-25T18:43:49.693101Z"
    },
    "collapsed": true
   },
   "outputs": [],
   "source": [
    "T_df"
   ]
  },
  {
   "cell_type": "code",
   "execution_count": 161,
   "metadata": {
    "ExecuteTime": {
     "end_time": "2018-04-25T18:32:25.634154Z",
     "start_time": "2018-04-25T18:32:22.940819Z"
    },
    "collapsed": true
   },
   "outputs": [],
   "source": [
    "lm.reg_to_ct24(lesion_id, target_dir)"
   ]
  },
  {
   "cell_type": "code",
   "execution_count": 204,
   "metadata": {
    "ExecuteTime": {
     "end_time": "2018-04-25T18:51:44.513592Z",
     "start_time": "2018-04-25T18:51:44.509581Z"
    }
   },
   "outputs": [
    {
     "data": {
      "text/plain": [
       "'PK-03B'"
      ]
     },
     "execution_count": 204,
     "metadata": {},
     "output_type": "execute_result"
    }
   ],
   "source": [
    "lesion_id"
   ]
  },
  {
   "cell_type": "code",
   "execution_count": null,
   "metadata": {
    "collapsed": true
   },
   "outputs": [],
   "source": []
  }
 ],
 "metadata": {
  "kernelspec": {
   "display_name": "Python 3",
   "language": "python",
   "name": "python3"
  },
  "language_info": {
   "codemirror_mode": {
    "name": "ipython",
    "version": 3
   },
   "file_extension": ".py",
   "mimetype": "text/x-python",
   "name": "python",
   "nbconvert_exporter": "python",
   "pygments_lexer": "ipython3",
   "version": "3.5.0"
  },
  "varInspector": {
   "cols": {
    "lenName": 16,
    "lenType": 16,
    "lenVar": 40
   },
   "kernels_config": {
    "python": {
     "delete_cmd_postfix": "",
     "delete_cmd_prefix": "del ",
     "library": "var_list.py",
     "varRefreshCmd": "print(var_dic_list())"
    },
    "r": {
     "delete_cmd_postfix": ") ",
     "delete_cmd_prefix": "rm(",
     "library": "var_list.r",
     "varRefreshCmd": "cat(var_dic_list()) "
    }
   },
   "types_to_exclude": [
    "module",
    "function",
    "builtin_function_or_method",
    "instance",
    "_Feature"
   ],
   "window_display": false
  }
 },
 "nbformat": 4,
 "nbformat_minor": 2
}
