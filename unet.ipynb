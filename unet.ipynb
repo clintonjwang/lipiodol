{
 "cells": [
  {
   "cell_type": "code",
   "execution_count": 1,
   "metadata": {},
   "outputs": [
    {
     "name": "stderr",
     "output_type": "stream",
     "text": [
      "C:\\Users\\Clinton\\AppData\\Local\\conda\\conda\\envs\\old-keras\\lib\\site-packages\\h5py\\__init__.py:34: FutureWarning: Conversion of the second argument of issubdtype from `float` to `np.floating` is deprecated. In future, it will be treated as `np.float64 == np.dtype(float).type`.\n",
      "  from ._conv import register_converters as _register_converters\n",
      "Using TensorFlow backend.\n"
     ]
    }
   ],
   "source": [
    "import random\n",
    "import cnn_builder as cbuild\n",
    "import config\n",
    "import copy\n",
    "import glob\n",
    "import importlib\n",
    "import lipiodol_methods as lm\n",
    "import niftiutils.helper_fxns as hf\n",
    "import niftiutils.transforms as tr\n",
    "import niftiutils.masks as masks\n",
    "import numpy as np\n",
    "import os\n",
    "from os.path import *\n",
    "import shutil\n",
    "from scipy.ndimage.morphology import binary_closing, binary_opening, binary_dilation\n",
    "from skimage.morphology import ball, label\n",
    "\n",
    "from keras import backend as K\n",
    "from keras.engine import Input, Model\n",
    "from keras.layers import *\n",
    "from keras.optimizers import Adam\n",
    "from keras.utils import np_utils\n",
    "%matplotlib inline"
   ]
  },
  {
   "cell_type": "code",
   "execution_count": 2,
   "metadata": {
    "collapsed": true,
    "scrolled": true
   },
   "outputs": [],
   "source": [
    "importlib.reload(config)\n",
    "C = config.Config()"
   ]
  },
  {
   "cell_type": "code",
   "execution_count": 3,
   "metadata": {
    "collapsed": true
   },
   "outputs": [],
   "source": [
    "img_dir = \"D:\\\\Lipiodol\\\\Images all\"\n",
    "seg_dir = \"D:\\\\Lipiodol\\\\Images extracted and segmentations\"\n",
    "target_dir = \"D:\\\\Lipiodol\\\\Data\""
   ]
  },
  {
   "cell_type": "code",
   "execution_count": 92,
   "metadata": {
    "collapsed": true
   },
   "outputs": [],
   "source": [
    "seg = glob.glob(join(target_dir,\"*\",\"wholeliver_24hCT*.ids\"))[0]"
   ]
  },
  {
   "cell_type": "code",
   "execution_count": null,
   "metadata": {
    "collapsed": true
   },
   "outputs": [],
   "source": [
    "lesion_id = \"07\"\n",
    "glob.glob(join(target_dir,lesion_id,\"CT24h\",\"*\"))"
   ]
  },
  {
   "cell_type": "code",
   "execution_count": 27,
   "metadata": {
    "collapsed": true
   },
   "outputs": [],
   "source": [
    "for f in glob.glob(join(target_dir,lesion_id,\"CT24h\",\"*\")):\n",
    "    if \"5 0\" not in f:\n",
    "        shutil.rmtree(f)\n",
    "    else:\n",
    "        shutil.move()"
   ]
  },
  {
   "cell_type": "markdown",
   "metadata": {
    "collapsed": true
   },
   "source": [
    "# MRI"
   ]
  },
  {
   "cell_type": "markdown",
   "metadata": {},
   "source": [
    "### Data prep"
   ]
  },
  {
   "cell_type": "code",
   "execution_count": 4,
   "metadata": {
    "collapsed": true
   },
   "outputs": [],
   "source": [
    "# MRI\n",
    "for seg in glob.glob(join(target_dir,\"*\",\"masks\",\"liver bl.ids\")):\n",
    "    lesion_id = dirname(seg)[len(target_dir)+1:-len(\"masks\")-1]\n",
    "    if exists(join(C.full_img_dir, lesion_id+\"_mri_art.npy\")):\n",
    "        continue\n",
    "    \n",
    "    mri_img, mri_dims = hf.nii_load(join(target_dir, lesion_id, \"MRI-BL\", \"t1-art.nii.gz\"), True, True)\n",
    "    mask, _ = masks.get_mask(seg, mri_dims, mri_img.shape)\n",
    "\n",
    "    mri_img -= mri_img.min()\n",
    "    mri_img /= mri_img.std()\n",
    "    \n",
    "    np.save(join(C.full_img_dir, lesion_id+\"_mri_art.npy\"), mri_img)\n",
    "    np.save(join(C.full_img_dir, lesion_id+\"_mr_bl_liver_mask.npy\"), mask > 128)\n",
    "    \n",
    "    #mri_img, mri_dims = hf.nii_load(join(target_dir, lesion_id, \"MRI-BL\", \"t1-pre.nii.gz\"), True, True)\n",
    "    #mri_img -= mri_img.min()\n",
    "    #mri_img /= mri_img.std()\n",
    "    #np.save(join(C.full_img_dir, lesion_id+\"_mri_art.npy\"), mri_img)"
   ]
  },
  {
   "cell_type": "code",
   "execution_count": 13,
   "metadata": {},
   "outputs": [],
   "source": [
    "data_dir = \"D:\\\\JHU\\\\JHU HCC\"\n",
    "\n",
    "for path in glob.glob(join(data_dir,\"*\",\"*.nii\")):\n",
    "    lesion_id = basename(dirname(path))\n",
    "    lesion_id = lesion_id[:lesion_id.find(\" \")]\n",
    "    \n",
    "    mri_img, mri_dims = hf.nii_load(path)\n",
    "    \n",
    "    mask_paths = glob.glob(join(dirname(path),\"*Segs\",\"Liver\",\"*.ids\"))\n",
    "    if len(mask_paths) != 1:\n",
    "        print(path)\n",
    "        continue\n",
    "    mask, _ = masks.get_mask(mask_paths[0], mri_dims, mri_img.shape)\n",
    "\n",
    "    mri_img -= mri_img.min()\n",
    "    mri_img /= mri_img.std()\n",
    "    \n",
    "    np.save(join(C.full_img_dir, lesion_id+\"_mri_art.npy\"), mri_img)\n",
    "    np.save(join(C.full_img_dir, lesion_id+\"_mr_bl_liver_mask.npy\"), mask > 128)"
   ]
  },
  {
   "cell_type": "markdown",
   "metadata": {},
   "source": [
    "### Train model"
   ]
  },
  {
   "cell_type": "code",
   "execution_count": null,
   "metadata": {
    "collapsed": true
   },
   "outputs": [],
   "source": [
    "importlib.reload(cbuild)\n",
    "model = cbuild.build_unet()\n",
    "#model.summary(120)"
   ]
  },
  {
   "cell_type": "code",
   "execution_count": null,
   "metadata": {
    "collapsed": true
   },
   "outputs": [],
   "source": [
    "hist = model.fit_generator(cbuild.train_gen_mri(), epochs=500, steps_per_epoch=5)"
   ]
  },
  {
   "cell_type": "code",
   "execution_count": 20,
   "metadata": {
    "collapsed": true
   },
   "outputs": [],
   "source": [
    "model.save(join(C.model_dir, \"mri_liver.hdf5\"))"
   ]
  },
  {
   "cell_type": "markdown",
   "metadata": {},
   "source": [
    "### Test"
   ]
  },
  {
   "cell_type": "code",
   "execution_count": 72,
   "metadata": {},
   "outputs": [
    {
     "data": {
      "text/plain": [
       "<module 'lipiodol_methods' from 'C:\\\\Users\\\\Clinton\\\\Documents\\\\Lipiodol\\\\lipiodol_methods.py'>"
      ]
     },
     "execution_count": 72,
     "metadata": {},
     "output_type": "execute_result"
    }
   ],
   "source": [
    "importlib.reload(lm)"
   ]
  },
  {
   "cell_type": "code",
   "execution_count": 81,
   "metadata": {
    "scrolled": true
   },
   "outputs": [],
   "source": [
    "lesion_id = \"12\"\n",
    "mri_nii_path = join(target_dir, lesion_id, \"MRI-30d\", \"t1-art.nii.gz\")\n",
    "save_path = join(target_dir, lesion_id, \"masks\", \"mri_30d_liver\")\n",
    "tumor_mask_path = join(target_dir, lesion_id, \"masks\", \"tumor_30dFU_MRI\")\n",
    "lm.seg_liver_mri_from_path(mri_nii_path, save_path, model, tumor_mask_path)"
   ]
  },
  {
   "cell_type": "markdown",
   "metadata": {},
   "source": [
    "# CT"
   ]
  },
  {
   "cell_type": "code",
   "execution_count": null,
   "metadata": {
    "collapsed": true
   },
   "outputs": [],
   "source": [
    "train_set = []\n",
    "for seg in glob.glob(join(target_dir,\"*\",\"masks\",\"wholeliver_24hCT*.ids\")):\n",
    "    lesion_id = dirname(seg)[len(target_dir)+1:-len(\"masks\")-1]\n",
    "    if exists(join(C.full_img_dir, lesion_id+\"_ct.npy\")):\n",
    "        #train_set.append([np.load(join(C.full_img_dir, lesion_id+\"_ct.npy\")),\n",
    "        #                  np.load(join(C.full_img_dir, lesion_id+\"_mask.npy\")),\n",
    "        #                  lesion_id])\n",
    "        continue\n",
    "    \n",
    "    ct_img, ct_dims = hf.dcm_load(join(dirname(seg), \"CT24h\"), True, True)\n",
    "    mask, _ = masks.get_mask(seg, ct_dims, ct_img.shape)\n",
    "\n",
    "    ct_img = tr.apply_window(ct_img)\n",
    "    ct_img -= np.amin(ct_img)\n",
    "    \n",
    "    np.save(join(C.full_img_dir, lesion_id+\"_ct.npy\"), ct_img)\n",
    "    np.save(join(C.full_img_dir, lesion_id+\"_mask.npy\"), mask > 128)"
   ]
  },
  {
   "cell_type": "code",
   "execution_count": 91,
   "metadata": {
    "scrolled": false
   },
   "outputs": [
    {
     "data": {
      "text/plain": [
       "<module 'cnn_builder' from 'C:\\\\Users\\\\Clinton\\\\Documents\\\\Lipiodol\\\\cnn_builder.py'>"
      ]
     },
     "execution_count": 91,
     "metadata": {},
     "output_type": "execute_result"
    }
   ],
   "source": [
    "importlib.reload(cbuild)\n",
    "model = cbuild.build_ct_unet()\n",
    "model.summary(120)"
   ]
  },
  {
   "cell_type": "code",
   "execution_count": null,
   "metadata": {
    "collapsed": true
   },
   "outputs": [],
   "source": [
    "hist = model.fit_generator(cbuild.train_gen(), epochs=100, steps_per_epoch=50)"
   ]
  },
  {
   "cell_type": "code",
   "execution_count": 38,
   "metadata": {
    "collapsed": true
   },
   "outputs": [],
   "source": [
    "model.save(join(C.model_dir, \"ct17.hdf5\"))"
   ]
  },
  {
   "cell_type": "code",
   "execution_count": 107,
   "metadata": {
    "collapsed": true
   },
   "outputs": [],
   "source": [
    "lesion_id = \"18\"\n",
    "ct_img, ct_dims = hf.dcm_load(join(target_dir, lesion_id, \"CT24h\"), True, True)\n",
    "lm.seg_liver_ct(ct_img, join(target_dir, lesion_id, \"ct24_liver\"), ct_dims, model)"
   ]
  },
  {
   "cell_type": "code",
   "execution_count": 108,
   "metadata": {
    "collapsed": true
   },
   "outputs": [],
   "source": []
  },
  {
   "cell_type": "markdown",
   "metadata": {},
   "source": [
    "# Misc"
   ]
  },
  {
   "cell_type": "code",
   "execution_count": 12,
   "metadata": {
    "collapsed": true
   },
   "outputs": [],
   "source": [
    "info = {}\n",
    "\n",
    "for seg in glob.glob(join(target_dir,\"*\",\"wholeliver_24hCT*.ids\")):\n",
    "    if dirname(seg) in info.keys():\n",
    "        (ct_img, ct_dims, mask) = info[dirname(seg)]\n",
    "    else:\n",
    "        ct_img, ct_dims = hf.dcm_load(join(dirname(seg), \"CT24h\"), True, True)\n",
    "        \n",
    "    seg_liver(ct_img, dirname(seg), ct_dims)\n",
    "    info[dirname(seg)] = (ct_img, ct_dims)\n",
    "    break"
   ]
  },
  {
   "cell_type": "code",
   "execution_count": null,
   "metadata": {
    "collapsed": true
   },
   "outputs": [],
   "source": []
  }
 ],
 "metadata": {
  "kernelspec": {
   "display_name": "Python 3",
   "language": "python",
   "name": "python3"
  },
  "language_info": {
   "codemirror_mode": {
    "name": "ipython",
    "version": 3
   },
   "file_extension": ".py",
   "mimetype": "text/x-python",
   "name": "python",
   "nbconvert_exporter": "python",
   "pygments_lexer": "ipython3",
   "version": "3.5.0"
  }
 },
 "nbformat": 4,
 "nbformat_minor": 2
}
