{
 "cells": [
  {
   "cell_type": "code",
   "execution_count": 6,
   "metadata": {
    "ExecuteTime": {
     "end_time": "2018-04-19T13:46:50.151907Z",
     "start_time": "2018-04-19T13:46:50.101745Z"
    },
    "collapsed": true
   },
   "outputs": [],
   "source": [
    "import random\n",
    "import cnn_builder as cbuild\n",
    "import config\n",
    "import copy\n",
    "import glob\n",
    "import importlib\n",
    "import lipiodol_methods as lm\n",
    "import niftiutils.helper_fxns as hf\n",
    "import niftiutils.transforms as tr\n",
    "import niftiutils.registration as reg\n",
    "import niftiutils.masks as masks\n",
    "import numpy as np\n",
    "import os\n",
    "from os.path import *\n",
    "import shutil\n",
    "from scipy.ndimage.morphology import binary_closing, binary_opening, binary_dilation\n",
    "from skimage.morphology import ball, label\n",
    "\n",
    "from keras import backend as K\n",
    "from keras.engine import Input, Model\n",
    "from keras.layers import *\n",
    "from keras.optimizers import Adam\n",
    "from keras.utils import np_utils\n",
    "%matplotlib inline"
   ]
  },
  {
   "cell_type": "code",
   "execution_count": 179,
   "metadata": {
    "ExecuteTime": {
     "end_time": "2018-04-19T21:16:22.000049Z",
     "start_time": "2018-04-19T21:16:21.993062Z"
    },
    "collapsed": true,
    "scrolled": true
   },
   "outputs": [],
   "source": [
    "importlib.reload(config)\n",
    "C = config.Config()\n",
    "\n",
    "img_dir = \"D:\\\\Lipiodol\\\\Images all\"\n",
    "seg_dir = \"D:\\\\Lipiodol\\\\Images extracted and segmentations\"\n",
    "target_dir = \"D:\\\\Lipiodol\\\\Data\""
   ]
  },
  {
   "cell_type": "markdown",
   "metadata": {
    "collapsed": true
   },
   "source": [
    "## MRI Liver seg"
   ]
  },
  {
   "cell_type": "markdown",
   "metadata": {
    "heading_collapsed": true
   },
   "source": [
    "### Data prep"
   ]
  },
  {
   "cell_type": "code",
   "execution_count": 4,
   "metadata": {
    "collapsed": true,
    "hidden": true
   },
   "outputs": [],
   "source": [
    "# MRI\n",
    "for seg in glob.glob(join(target_dir,\"*\",\"masks\",\"liver bl.ids\")):\n",
    "    lesion_id = dirname(seg)[len(target_dir)+1:-len(\"masks\")-1]\n",
    "    if exists(join(C.train_data_dir, lesion_id+\"_mri_art.npy\")):\n",
    "        continue\n",
    "    \n",
    "    mri_img, mri_dims = hf.nii_load(join(target_dir, lesion_id, \"MRI-BL\", \"t1-art.nii.gz\"))\n",
    "    mask, _ = masks.get_mask(seg, mri_dims, mri_img.shape)\n",
    "\n",
    "    mri_img -= mri_img.min()\n",
    "    mri_img /= mri_img.std()\n",
    "    \n",
    "    np.save(join(C.train_data_dir, lesion_id+\"_mri_art.npy\"), mri_img)\n",
    "    np.save(join(C.train_data_dir, lesion_id+\"_mr_bl_liver_mask.npy\"), mask > 128)\n",
    "    \n",
    "    #mri_img, mri_dims = hf.nii_load(join(target_dir, lesion_id, \"MRI-BL\", \"t1-pre.nii.gz\"), True, True)\n",
    "    #mri_img -= mri_img.min()\n",
    "    #mri_img /= mri_img.std()\n",
    "    #np.save(join(C.train_data_dir, lesion_id+\"_mri_art.npy\"), mri_img)"
   ]
  },
  {
   "cell_type": "code",
   "execution_count": 13,
   "metadata": {
    "collapsed": true,
    "hidden": true
   },
   "outputs": [],
   "source": [
    "data_dir = \"D:\\\\JHU\\\\JHU HCC\"\n",
    "\n",
    "for path in glob.glob(join(data_dir,\"*\",\"*.nii\")):\n",
    "    lesion_id = basename(dirname(path))\n",
    "    lesion_id = lesion_id[:lesion_id.find(\" \")]\n",
    "    \n",
    "    mri_img, mri_dims = hf.nii_load(path)\n",
    "    \n",
    "    mask_paths = glob.glob(join(dirname(path),\"*Segs\",\"Liver\",\"*.ids\"))\n",
    "    if len(mask_paths) != 1:\n",
    "        print(path)\n",
    "        continue\n",
    "    mask, _ = masks.get_mask(mask_paths[0], mri_dims, mri_img.shape)\n",
    "\n",
    "    mri_img -= mri_img.min()\n",
    "    mri_img /= mri_img.std()\n",
    "    \n",
    "    np.save(join(C.train_data_dir, lesion_id+\"_mri_art.npy\"), mri_img)\n",
    "    np.save(join(C.train_data_dir, lesion_id+\"_mr_bl_liver_mask.npy\"), mask > 128)"
   ]
  },
  {
   "cell_type": "markdown",
   "metadata": {},
   "source": [
    "### Train model"
   ]
  },
  {
   "cell_type": "code",
   "execution_count": null,
   "metadata": {
    "collapsed": true
   },
   "outputs": [],
   "source": [
    "importlib.reload(cbuild)\n",
    "model = cbuild.build_unet()\n",
    "#model.summary(120)"
   ]
  },
  {
   "cell_type": "code",
   "execution_count": null,
   "metadata": {
    "collapsed": true
   },
   "outputs": [],
   "source": [
    "hist = model.fit_generator(cbuild.train_gen_mri(), epochs=500, steps_per_epoch=5)"
   ]
  },
  {
   "cell_type": "code",
   "execution_count": 20,
   "metadata": {
    "collapsed": true
   },
   "outputs": [],
   "source": [
    "model.save(join(C.model_dir, \"mri_liver.hdf5\"))"
   ]
  },
  {
   "cell_type": "markdown",
   "metadata": {
    "heading_collapsed": true
   },
   "source": [
    "### Test"
   ]
  },
  {
   "cell_type": "code",
   "execution_count": 72,
   "metadata": {
    "hidden": true
   },
   "outputs": [
    {
     "data": {
      "text/plain": [
       "<module 'lipiodol_methods' from 'C:\\\\Users\\\\Clinton\\\\Documents\\\\Lipiodol\\\\lipiodol_methods.py'>"
      ]
     },
     "execution_count": 72,
     "metadata": {},
     "output_type": "execute_result"
    }
   ],
   "source": [
    "importlib.reload(lm)"
   ]
  },
  {
   "cell_type": "code",
   "execution_count": 81,
   "metadata": {
    "collapsed": true,
    "hidden": true,
    "scrolled": true
   },
   "outputs": [],
   "source": [
    "lesion_id = \"12\"\n",
    "mri_nii_path = join(target_dir, lesion_id, \"MRI-30d\", \"t1-art.nii.gz\")\n",
    "save_path = join(target_dir, lesion_id, \"masks\", \"mri_30d_liver\")\n",
    "tumor_mask_path = join(target_dir, lesion_id, \"masks\", \"tumor_30dFU_MRI\")\n",
    "lm.seg_liver_mri_from_path(mri_nii_path, save_path, model, tumor_mask_path)"
   ]
  },
  {
   "cell_type": "markdown",
   "metadata": {
    "heading_collapsed": true
   },
   "source": [
    "## CT Liver seg"
   ]
  },
  {
   "cell_type": "code",
   "execution_count": 13,
   "metadata": {
    "ExecuteTime": {
     "end_time": "2018-04-07T21:40:21.185360Z",
     "start_time": "2018-04-07T21:40:20.566714Z"
    },
    "collapsed": true,
    "hidden": true
   },
   "outputs": [],
   "source": [
    "for fn in glob.glob(join(C.train_data_dir, \"*\")):\n",
    "    if fn.endswith(\"_ct.npy\") and (not fn.startswith(\"PK\") and not fn.startswith(\"BM\")):\n",
    "        os.remove(fn)\n",
    "        os.remove(fn[:-6]+\"mask.npy\")"
   ]
  },
  {
   "cell_type": "code",
   "execution_count": 21,
   "metadata": {
    "ExecuteTime": {
     "end_time": "2018-04-07T21:42:55.631863Z",
     "start_time": "2018-04-07T21:42:00.510232Z"
    },
    "collapsed": true,
    "hidden": true
   },
   "outputs": [],
   "source": [
    "for seg in glob.glob(join(target_dir,\"*\",\"masks\",\"wholeliver_24hCT*.ids\")):\n",
    "    lesion_id = dirname(seg)[len(target_dir)+1:-len(\"masks\")-1]\n",
    "    if exists(join(C.train_data_dir, lesion_id+\"_ct.npy\")):\n",
    "        continue\n",
    "    \n",
    "    ct_img, ct_dims = hf.nii_load(join(target_dir, lesion_id, \"nii_files\", \"ct24.nii.gz\"))\n",
    "    mask, _ = masks.get_mask(seg, ct_dims, ct_img.shape)\n",
    "\n",
    "    ct_img = tr.apply_window(ct_img)\n",
    "    ct_img -= np.amin(ct_img)\n",
    "    \n",
    "    np.save(join(C.train_data_dir, lesion_id+\"_ct.npy\"), ct_img)\n",
    "    np.save(join(C.train_data_dir, lesion_id+\"_mask.npy\"), mask > mask.max()/2)"
   ]
  },
  {
   "cell_type": "code",
   "execution_count": null,
   "metadata": {
    "ExecuteTime": {
     "end_time": "2018-04-07T21:44:28.052704Z",
     "start_time": "2018-04-07T21:44:26.680755Z"
    },
    "collapsed": true,
    "hidden": true
   },
   "outputs": [],
   "source": [
    "importlib.reload(cbuild)\n",
    "model = cbuild.build_unet()\n",
    "model.summary(120)"
   ]
  },
  {
   "cell_type": "code",
   "execution_count": null,
   "metadata": {
    "ExecuteTime": {
     "end_time": "2018-04-07T22:40:33.107121Z",
     "start_time": "2018-04-07T21:44:28.068746Z"
    },
    "collapsed": true,
    "hidden": true
   },
   "outputs": [],
   "source": [
    "hist = model.fit_generator(cbuild.train_gen_ct(), epochs=500, steps_per_epoch=5)"
   ]
  },
  {
   "cell_type": "code",
   "execution_count": 6,
   "metadata": {
    "ExecuteTime": {
     "end_time": "2018-04-07T22:40:34.173525Z",
     "start_time": "2018-04-07T22:40:33.147635Z"
    },
    "collapsed": true,
    "hidden": true
   },
   "outputs": [],
   "source": [
    "model.save(join(C.model_dir, \"ct_liver.hdf5\"))"
   ]
  },
  {
   "cell_type": "code",
   "execution_count": 107,
   "metadata": {
    "collapsed": true,
    "hidden": true
   },
   "outputs": [],
   "source": [
    "lesion_id = \"18\"\n",
    "ct_img, ct_dims = hf.dcm_load(join(target_dir, lesion_id, \"CT24h\"), True, True)\n",
    "lm.seg_liver_ct(ct_img, join(target_dir, lesion_id, \"ct24_liver\"), ct_dims, model)"
   ]
  },
  {
   "cell_type": "markdown",
   "metadata": {
    "collapsed": true
   },
   "source": [
    "## Predict Lipiodol concentration"
   ]
  },
  {
   "cell_type": "code",
   "execution_count": null,
   "metadata": {
    "ExecuteTime": {
     "end_time": "2018-04-19T22:35:39.813838Z",
     "start_time": "2018-04-19T22:35:39.802837Z"
    },
    "collapsed": true
   },
   "outputs": [],
   "source": [
    "import pickle\n",
    "pickle.dump(lesion_crops, \"D:\\\\lesion_crops\")"
   ]
  },
  {
   "cell_type": "code",
   "execution_count": null,
   "metadata": {
    "collapsed": true
   },
   "outputs": [],
   "source": [
    "A = pickle.load(\"D:\\\\lesion_crops\")"
   ]
  },
  {
   "cell_type": "code",
   "execution_count": 267,
   "metadata": {
    "ExecuteTime": {
     "end_time": "2018-04-19T21:59:00.892809Z",
     "start_time": "2018-04-19T21:59:00.889772Z"
    },
    "collapsed": true
   },
   "outputs": [],
   "source": [
    "lesion_crops = {}"
   ]
  },
  {
   "cell_type": "code",
   "execution_count": 268,
   "metadata": {
    "ExecuteTime": {
     "end_time": "2018-04-19T22:34:03.051782Z",
     "start_time": "2018-04-19T21:59:10.153702Z"
    },
    "collapsed": true
   },
   "outputs": [],
   "source": [
    "importlib.reload(lm)\n",
    "importlib.reload(reg)\n",
    "for fn in glob.glob(join(target_dir,\"*\")):\n",
    "    lesion_id = basename(fn)\n",
    "    try:\n",
    "        P = lm.get_paths_dict(lesion_id, target_dir)\n",
    "    \n",
    "        art, D = hf.nii_load(P['I']['mrbl']['art'])\n",
    "        mask, _ = masks.get_mask(P['M']['mrbl']['tumor'], D, art.shape)\n",
    "        sub = art - hf.nii_load(P['I']['mrbl']['pre'])[0]\n",
    "        equ = hf.nii_load(join(fn, \"MRI-BL\", \"mribl_equ.nii.gz\"))[0]\n",
    "    except:\n",
    "        continue\n",
    "    \n",
    "    xform_path, crops, pads = reg.get_mask_Tx(P['I']['mrbl']['art'], P['M']['mrbl']['tumor'],\n",
    "                                          P['I']['ct24'], P['M']['ct24']['tumor'], padding=.3)\n",
    "    \n",
    "    art = hf.crop_nonzero(art, crops[1])[0]\n",
    "    sub = hf.crop_nonzero(sub, crops[1])[0]\n",
    "    equ = hf.crop_nonzero(equ, crops[1])[0]\n",
    "    mask = hf.crop_nonzero(mask, crops[1])[0]\n",
    "    \n",
    "    reg_ct = reg.transform_region(P['I']['ct24'], xform_path, crops, pads, target_vox_dims=D)#, out_path=reg_ct_path)\n",
    "    reg_ct = hf.crop_nonzero(reg_ct, crops[1])[0]\n",
    "    reg_ct[reg_ct < 100] = 100\n",
    "    reg_ct -= 100\n",
    "    reg_ct = ((reg_ct-100)/200 + 1)**.5 - 1\n",
    "    \n",
    "    np.save(join(C.train_data_dir, lesion_id+\"_mrbl_art.npy\"), art)\n",
    "    np.save(join(C.train_data_dir, lesion_id+\"_mrbl_sub.npy\"), sub)\n",
    "    #np.save(join(C.train_data_dir, lesion_id+\"_mrbl_pv.npy\"), pv)\n",
    "    np.save(join(C.train_data_dir, lesion_id+\"_mrbl_equ.npy\"), equ)\n",
    "    np.save(join(C.train_data_dir, lesion_id+\"_mrbl_tumor_mask.npy\"), mask > mask.max()/2)\n",
    "    np.save(join(C.train_data_dir, lesion_id+\"_lipdensity.npy\"), reg_ct)\n",
    "    \n",
    "    lesion_crops[lesion_id] = crops[1]"
   ]
  },
  {
   "cell_type": "code",
   "execution_count": null,
   "metadata": {
    "ExecuteTime": {
     "end_time": "2018-04-19T21:26:28.418355Z",
     "start_time": "2018-04-19T21:26:27.624684Z"
    },
    "collapsed": true
   },
   "outputs": [],
   "source": [
    "importlib.reload(cbuild)\n",
    "model = cbuild.build_unet_multich()\n",
    "model.summary(120)"
   ]
  },
  {
   "cell_type": "code",
   "execution_count": null,
   "metadata": {
    "ExecuteTime": {
     "end_time": "2018-04-19T21:30:24.030232Z",
     "start_time": "2018-04-19T21:26:35.448738Z"
    },
    "collapsed": true
   },
   "outputs": [],
   "source": [
    "importlib.reload(cbuild)\n",
    "hist = model.fit_generator(cbuild.train_gen_lip(), epochs=50, steps_per_epoch=10)"
   ]
  },
  {
   "cell_type": "code",
   "execution_count": 259,
   "metadata": {
    "ExecuteTime": {
     "end_time": "2018-04-19T21:40:05.611093Z",
     "start_time": "2018-04-19T21:40:05.608088Z"
    },
    "collapsed": true
   },
   "outputs": [],
   "source": [
    "lesion_id = \"BM-07\""
   ]
  },
  {
   "cell_type": "code",
   "execution_count": 260,
   "metadata": {
    "ExecuteTime": {
     "end_time": "2018-04-19T21:40:06.006568Z",
     "start_time": "2018-04-19T21:40:05.833105Z"
    }
   },
   "outputs": [
    {
     "data": {
      "image/png": "[encoded data removed]",
      "text/plain": [
       "<matplotlib.figure.Figure at 0x2deecbdd320>"
      ]
     },
     "metadata": {},
     "output_type": "display_data"
    }
   ],
   "source": [
    "x = np.stack([np.load(join(C.train_data_dir, lesion_id+\"_%s.npy\" % x)) for x in [\"mrbl_art\", \"mrbl_sub\", \"mrbl_equ\", \"mrbl_tumor_mask\"]], -1)\n",
    "x = tr.rescale_img(x, C.small_dims)[0]\n",
    "x = np.expand_dims(x,0)\n",
    "hf.draw_slices(x[0,...])"
   ]
  },
  {
   "cell_type": "code",
   "execution_count": null,
   "metadata": {
    "collapsed": true
   },
   "outputs": [],
   "source": []
  },
  {
   "cell_type": "code",
   "execution_count": 269,
   "metadata": {
    "ExecuteTime": {
     "end_time": "2018-04-19T22:34:03.152320Z",
     "start_time": "2018-04-19T22:34:03.147316Z"
    }
   },
   "outputs": [
    {
     "data": {
      "text/plain": [
       "0.023331389"
      ]
     },
     "execution_count": 269,
     "metadata": {},
     "output_type": "execute_result"
    }
   ],
   "source": [
    "B[0,...,0].min()"
   ]
  },
  {
   "cell_type": "code",
   "execution_count": 266,
   "metadata": {
    "ExecuteTime": {
     "end_time": "2018-04-19T21:40:52.846562Z",
     "start_time": "2018-04-19T21:40:52.697575Z"
    }
   },
   "outputs": [
    {
     "data": {
      "image/png": "[encoded data removed]",
      "text/plain": [
       "<matplotlib.figure.Figure at 0x2dea483cac8>"
      ]
     },
     "metadata": {},
     "output_type": "display_data"
    }
   ],
   "source": [
    "B = model.predict(x)\n",
    "hf.draw_slices(B[0,...,1], normalize=[0,.7])"
   ]
  },
  {
   "cell_type": "code",
   "execution_count": null,
   "metadata": {
    "collapsed": true
   },
   "outputs": [],
   "source": [
    "lesion_crops[lesion_id]\n",
    "out_img = np.pad(out_img, crops_f, 'constant')"
   ]
  },
  {
   "cell_type": "code",
   "execution_count": null,
   "metadata": {
    "collapsed": true
   },
   "outputs": [],
   "source": [
    "art, D = hf.nii_load(P['I']['mrbl']['art'])\n",
    "mask, _ = masks.get_mask(P['M']['mrbl']['tumor'], D, art.shape)\n",
    "sub = art - hf.nii_load(P['I']['mrbl']['pre'])[0]"
   ]
  },
  {
   "cell_type": "code",
   "execution_count": null,
   "metadata": {
    "collapsed": true
   },
   "outputs": [],
   "source": [
    "masks.save_mask()"
   ]
  },
  {
   "cell_type": "code",
   "execution_count": null,
   "metadata": {
    "collapsed": true
   },
   "outputs": [],
   "source": [
    "create_dcm_with_mask(img_path, mask_path, save_dir, padding)"
   ]
  },
  {
   "cell_type": "code",
   "execution_count": 262,
   "metadata": {
    "ExecuteTime": {
     "end_time": "2018-04-19T21:40:14.024240Z",
     "start_time": "2018-04-19T21:40:12.457181Z"
    }
   },
   "outputs": [
    {
     "data": {
      "image/png": "[encoded data removed]",
      "text/plain": [
       "<matplotlib.figure.Figure at 0x2deecd5b208>"
      ]
     },
     "metadata": {},
     "output_type": "display_data"
    }
   ],
   "source": [
    "paths = lm.get_paths(lesion_id, target_dir, check_valid=False)\n",
    "\n",
    "mask_dir, nii_dir, ct24_path, ct24_tumor_mask_path, ct24_liver_mask_path, \\\n",
    "mribl_art_path, mribl_pre_path, mribl_sub_path, \\\n",
    "mribl_tumor_mask_path, mribl_liver_mask_path, \\\n",
    "mribl_enh_mask_path, mribl_nec_mask_path, \\\n",
    "mri30d_art_path, mri30d_pre_path, \\\n",
    "mri30d_tumor_mask_path, mri30d_liver_mask_path, \\\n",
    "mri30d_enh_mask_path, mri30d_nec_mask_path, \\\n",
    "ball_ct24_path, ball_mribl_path, ball_mri30d_path, \\\n",
    "ball_mask_path, ball_mribl_enh_mask_path, ball_mri30d_enh_mask_path, \\\n",
    "midlip_mask_path, ball_midlip_mask_path, \\\n",
    "highlip_mask_path, ball_highlip_mask_path = paths\n",
    "\n",
    "CT=masks.crop_img_to_mask_vicinity(ct24_path, ct24_tumor_mask_path,.1)\n",
    "CT=tr.apply_window(CT)\n",
    "hf.draw_slices(CT)"
   ]
  },
  {
   "cell_type": "code",
   "execution_count": 263,
   "metadata": {
    "ExecuteTime": {
     "end_time": "2018-04-19T21:40:14.254434Z",
     "start_time": "2018-04-19T21:40:14.109019Z"
    }
   },
   "outputs": [
    {
     "data": {
      "image/png": "[encoded data removed]",
      "text/plain": [
       "<matplotlib.figure.Figure at 0x2deca3b6e10>"
      ]
     },
     "metadata": {},
     "output_type": "display_data"
    }
   ],
   "source": [
    "CT[CT < 100] = 100\n",
    "hf.draw_slices(CT)"
   ]
  },
  {
   "cell_type": "code",
   "execution_count": null,
   "metadata": {
    "collapsed": true
   },
   "outputs": [],
   "source": []
  },
  {
   "cell_type": "markdown",
   "metadata": {},
   "source": [
    "# Misc"
   ]
  },
  {
   "cell_type": "code",
   "execution_count": 12,
   "metadata": {
    "collapsed": true
   },
   "outputs": [],
   "source": [
    "info = {}\n",
    "\n",
    "for seg in glob.glob(join(target_dir,\"*\",\"wholeliver_24hCT*.ids\")):\n",
    "    if dirname(seg) in info.keys():\n",
    "        (ct_img, ct_dims, mask) = info[dirname(seg)]\n",
    "    else:\n",
    "        ct_img, ct_dims = hf.dcm_load(join(dirname(seg), \"CT24h\"), True, True)\n",
    "        \n",
    "    seg_liver(ct_img, dirname(seg), ct_dims)\n",
    "    info[dirname(seg)] = (ct_img, ct_dims)\n",
    "    break"
   ]
  },
  {
   "cell_type": "code",
   "execution_count": null,
   "metadata": {
    "collapsed": true
   },
   "outputs": [],
   "source": []
  }
 ],
 "metadata": {
  "kernelspec": {
   "display_name": "Python 3",
   "language": "python",
   "name": "python3"
  },
  "language_info": {
   "codemirror_mode": {
    "name": "ipython",
    "version": 3
   },
   "file_extension": ".py",
   "mimetype": "text/x-python",
   "name": "python",
   "nbconvert_exporter": "python",
   "pygments_lexer": "ipython3",
   "version": "3.5.0"
  },
  "varInspector": {
   "cols": {
    "lenName": 16,
    "lenType": 16,
    "lenVar": 40
   },
   "kernels_config": {
    "python": {
     "delete_cmd_postfix": "",
     "delete_cmd_prefix": "del ",
     "library": "var_list.py",
     "varRefreshCmd": "print(var_dic_list())"
    },
    "r": {
     "delete_cmd_postfix": ") ",
     "delete_cmd_prefix": "rm(",
     "library": "var_list.r",
     "varRefreshCmd": "cat(var_dic_list()) "
    }
   },
   "types_to_exclude": [
    "module",
    "function",
    "builtin_function_or_method",
    "instance",
    "_Feature"
   ],
   "window_display": false
  }
 },
 "nbformat": 4,
 "nbformat_minor": 2
}
