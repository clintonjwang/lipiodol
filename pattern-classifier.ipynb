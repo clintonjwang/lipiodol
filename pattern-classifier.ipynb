{
 "cells": [
  {
   "cell_type": "markdown",
   "metadata": {},
   "source": [
    "## Imports"
   ]
  },
  {
   "cell_type": "code",
   "execution_count": 2,
   "metadata": {
    "ExecuteTime": {
     "end_time": "2018-05-17T22:16:45.486211Z",
     "start_time": "2018-05-17T22:16:42.974715Z"
    }
   },
   "outputs": [
    {
     "name": "stderr",
     "output_type": "stream",
     "text": [
      "C:\\Users\\Clinton\\AppData\\Local\\conda\\conda\\envs\\old-keras\\lib\\site-packages\\h5py\\__init__.py:34: FutureWarning: Conversion of the second argument of issubdtype from `float` to `np.floating` is deprecated. In future, it will be treated as `np.float64 == np.dtype(float).type`.\n",
      "  from ._conv import register_converters as _register_converters\n",
      "Using TensorFlow backend.\n"
     ]
    }
   ],
   "source": [
    "import copy\n",
    "import glob\n",
    "import importlib\n",
    "import itertools\n",
    "import math\n",
    "import os\n",
    "import random\n",
    "import shutil\n",
    "import sys\n",
    "from math import degrees, pi, radians\n",
    "from os.path import *\n",
    "\n",
    "import matplotlib.pyplot as plt\n",
    "import numpy as np\n",
    "import pandas as pd\n",
    "import scipy.stats\n",
    "import SimpleITK as sitk\n",
    "import skimage.feature as skf\n",
    "from skimage.morphology import ball\n",
    "import seaborn as sns\n",
    "import cnn_builder as cbuild\n",
    "import config\n",
    "import lipiodol_methods as lm\n",
    "import lipiodol_analysis as lan\n",
    "import lipiodol_vis as lvis\n",
    "import niftiutils.helper_fxns as hf\n",
    "import niftiutils.masks as masks\n",
    "import niftiutils.registration as reg\n",
    "import niftiutils.transforms as tr\n",
    "import niftiutils.visualization as vis\n",
    "import skimage.filters as filters\n",
    "from config import Config\n",
    "sns.set(style=\"ticks\")\n",
    "%matplotlib inline"
   ]
  },
  {
   "cell_type": "code",
   "execution_count": 80,
   "metadata": {
    "ExecuteTime": {
     "end_time": "2018-05-18T01:30:57.576794Z",
     "start_time": "2018-05-18T01:30:57.570777Z"
    },
    "scrolled": true
   },
   "outputs": [],
   "source": [
    "importlib.reload(config)\n",
    "C = config.Config()\n",
    "target_dir = \"D:\\\\Lipiodol\\\\Data\"\n",
    "lesions = [basename(fn) for fn in glob.glob(join(target_dir,\"*\"))]\n",
    "num_lesions = len(lesions)\n",
    "liplvls = [0, 87, 155, 241]"
   ]
  },
  {
   "cell_type": "markdown",
   "metadata": {
    "collapsed": true
   },
   "source": [
    "## Pattern analysis"
   ]
  },
  {
   "cell_type": "code",
   "execution_count": null,
   "metadata": {
    "ExecuteTime": {
     "end_time": "2018-04-25T04:26:02.606035Z",
     "start_time": "2018-04-25T04:15:21.396027Z"
    },
    "collapsed": true
   },
   "outputs": [],
   "source": [
    "importlib.reload(lm)\n",
    "for fn in lesions:\n",
    "    lesion_id = basename(fn)\n",
    "    print(lesion_id)\n",
    "    P = lm.get_paths_dict(lesion_id, target_dir)\n",
    "    #lm.reg_to_ct24(lesion_id, target_dir)"
   ]
  },
  {
   "cell_type": "markdown",
   "metadata": {},
   "source": [
    "### Validate HU scale"
   ]
  },
  {
   "cell_type": "code",
   "execution_count": 11,
   "metadata": {
    "ExecuteTime": {
     "end_time": "2018-05-17T22:29:01.633848Z",
     "start_time": "2018-05-17T22:28:57.996250Z"
    },
    "collapsed": true
   },
   "outputs": [],
   "source": [
    "ct_img, D = hf.dcm_load(join(target_dir, lesion_id, \"CT24h\"))\n",
    "hf.save_nii(ct_img, P['ct24']['img'], D)"
   ]
  },
  {
   "cell_type": "code",
   "execution_count": 17,
   "metadata": {
    "ExecuteTime": {
     "end_time": "2018-05-18T00:36:46.012761Z",
     "start_time": "2018-05-18T00:35:14.629671Z"
    }
   },
   "outputs": [],
   "source": [
    "LI = {}\n",
    "for lesion_id in lesions:\n",
    "    P = lm.get_paths_dict(lesion_id, target_dir)\n",
    "    M = masks.get_mask(P['ct24']['tumor'], img_path=P['ct24']['img'], overlaid=True)\n",
    "    if (M > liplvls[1]).sum() != 0:\n",
    "        LI[lesion_id] = filters.threshold_otsu(M[M > liplvls[1]])"
   ]
  },
  {
   "cell_type": "code",
   "execution_count": 18,
   "metadata": {
    "ExecuteTime": {
     "end_time": "2018-05-18T00:36:46.053323Z",
     "start_time": "2018-05-18T00:36:46.049312Z"
    },
    "collapsed": true
   },
   "outputs": [],
   "source": [
    "hf.pickle_dump(LI, \"D:\\\\li-thresholds.bin\")"
   ]
  },
  {
   "cell_type": "code",
   "execution_count": null,
   "metadata": {
    "collapsed": true
   },
   "outputs": [],
   "source": [
    "LI = hf.pickle_load(\"D:\\\\li-thresholds.bin\")"
   ]
  },
  {
   "cell_type": "code",
   "execution_count": 43,
   "metadata": {
    "ExecuteTime": {
     "end_time": "2018-05-10T18:33:35.248714Z",
     "start_time": "2018-05-10T18:33:35.114366Z"
    },
    "scrolled": true
   },
   "outputs": [
    {
     "data": {
      "image/png": "[encoded data removed]",
      "text/plain": [
       "<matplotlib.figure.Figure at 0x1c180717ef0>"
      ]
     },
     "metadata": {},
     "output_type": "display_data"
    }
   ],
   "source": [
    "plt.figure(figsize=(8, 1), dpi=300)\n",
    "plt.plot(np.linspace(0,600,100), [0]*100, 'k-', lw=.5)\n",
    "plt.plot(list(LI.values()), np.zeros(len(LI)), '.', markersize=15, alpha=.2)\n",
    "plt.plot([151.9,267.2], [0,0], 'r.', markersize=15, alpha=.5)\n",
    "sns.despine(top=True, right=True, left=True, bottom=True)\n",
    "plt.yticks([]);\n",
    "plt.axes().spines['bottom'].set_position('center')"
   ]
  },
  {
   "cell_type": "code",
   "execution_count": 42,
   "metadata": {
    "ExecuteTime": {
     "end_time": "2018-05-10T18:33:26.470688Z",
     "start_time": "2018-05-10T18:33:25.833576Z"
    },
    "collapsed": true
   },
   "outputs": [],
   "source": [
    "lesion_id = 'BM-09'\n",
    "P = lm.get_paths_dict(lesion_id, target_dir)\n",
    "img,D = hf.nii_load(P['ct24']['img'])\n",
    "M = masks.get_mask(P['ct24']['tumor'], D, img.shape)[0]\n",
    "img = img*M/M.max()"
   ]
  },
  {
   "cell_type": "code",
   "execution_count": 34,
   "metadata": {
    "ExecuteTime": {
     "end_time": "2018-05-10T18:32:07.426131Z",
     "start_time": "2018-05-10T18:32:05.562370Z"
    },
    "collapsed": true
   },
   "outputs": [],
   "source": [
    "importlib.reload(masks)\n",
    "masks.create_mask_from_threshold(img, D, filters.threshold_li(img[img > 75]),\n",
    "                         high_mask_path=\"D:\\\\high_mask_bm09\", primary_mask_path=P['ct24']['tumor'])"
   ]
  },
  {
   "cell_type": "code",
   "execution_count": 41,
   "metadata": {
    "ExecuteTime": {
     "end_time": "2018-05-10T18:33:23.418914Z",
     "start_time": "2018-05-10T18:33:23.401844Z"
    }
   },
   "outputs": [
    {
     "data": {
      "text/plain": [
       "267.2265625"
      ]
     },
     "execution_count": 41,
     "metadata": {},
     "output_type": "execute_result"
    }
   ],
   "source": [
    "filters.threshold_isodata(img[img > 75])"
   ]
  },
  {
   "cell_type": "code",
   "execution_count": 49,
   "metadata": {
    "ExecuteTime": {
     "end_time": "2018-05-10T18:34:41.388984Z",
     "start_time": "2018-05-10T18:34:41.178006Z"
    }
   },
   "outputs": [
    {
     "data": {
      "image/png": "[encoded data removed]",
      "text/plain": [
       "<matplotlib.figure.Figure at 0x1c18060ffd0>"
      ]
     },
     "metadata": {},
     "output_type": "display_data"
    }
   ],
   "source": [
    "plt.figure(figsize=(6,2), dpi=100)\n",
    "plt.hist(img[img > 75].flatten(), 100);#, color='r');\n",
    "#plt.xlabel('Intensity (Hounsfield units)')\n",
    "plt.xlim([0,350])\n",
    "#plt.ylim([0,1500])\n",
    "plt.ylabel('Number of Voxels')\n",
    "sns.despine(top=True, right=True)"
   ]
  },
  {
   "cell_type": "code",
   "execution_count": 25,
   "metadata": {
    "ExecuteTime": {
     "end_time": "2018-05-18T00:38:37.844692Z",
     "start_time": "2018-05-18T00:38:37.839679Z"
    }
   },
   "outputs": [
    {
     "data": {
      "text/plain": [
       "(151.033203125, 243.12109375000009)"
      ]
     },
     "execution_count": 25,
     "metadata": {},
     "output_type": "execute_result"
    }
   ],
   "source": [
    "np.percentile(list(O.values()), 100/3), np.percentile(list(O.values()), 200/3)"
   ]
  },
  {
   "cell_type": "code",
   "execution_count": 22,
   "metadata": {
    "ExecuteTime": {
     "end_time": "2018-05-18T00:38:07.458013Z",
     "start_time": "2018-05-18T00:38:07.451974Z"
    }
   },
   "outputs": [
    {
     "data": {
      "text/plain": [
       "(158.79102482992081, 238.7200039559966)"
      ]
     },
     "execution_count": 22,
     "metadata": {},
     "output_type": "execute_result"
    }
   ],
   "source": [
    "np.percentile(list(LI.values()), 100/3), np.percentile(list(LI.values()), 200/3)"
   ]
  },
  {
   "cell_type": "code",
   "execution_count": 26,
   "metadata": {
    "ExecuteTime": {
     "end_time": "2018-05-18T00:44:07.037415Z",
     "start_time": "2018-05-18T00:44:07.032401Z"
    }
   },
   "outputs": [
    {
     "data": {
      "text/plain": [
       "(154.91211397746042, 240.92054885299834)"
      ]
     },
     "execution_count": 26,
     "metadata": {},
     "output_type": "execute_result"
    }
   ],
   "source": [
    "np.mean([151.033203125,158.79102482992081]), np.mean([238.7200039559966,243.12109375000009])"
   ]
  },
  {
   "cell_type": "markdown",
   "metadata": {
    "heading_collapsed": true
   },
   "source": [
    "### Build DataFrame"
   ]
  },
  {
   "cell_type": "code",
   "execution_count": 28,
   "metadata": {
    "ExecuteTime": {
     "end_time": "2018-05-18T00:45:17.398414Z",
     "start_time": "2018-05-18T00:45:17.386382Z"
    },
    "collapsed": true,
    "hidden": true
   },
   "outputs": [],
   "source": [
    "pattern_feat_cols = [\"lipcoverage_vol\", \"high_lip\", \"rim_lipiodol\", \"low_peripheral\", \"mid_peripheral\"]\n",
    "pattern_df = pd.DataFrame(columns=pattern_feat_cols)"
   ]
  },
  {
   "cell_type": "markdown",
   "metadata": {
    "ExecuteTime": {
     "end_time": "2018-04-09T19:43:44.592180Z",
     "start_time": "2018-04-09T19:43:44.588158Z"
    },
    "hidden": true
   },
   "source": [
    "for name in lipresp_cols:\n",
    "    df.loc[:,\"peripheral_coverage%\"]=pd.Series(np.random.randn(len(df)), index=df.index)"
   ]
  },
  {
   "cell_type": "code",
   "execution_count": 29,
   "metadata": {
    "ExecuteTime": {
     "end_time": "2018-05-18T00:45:35.262265Z",
     "start_time": "2018-05-18T00:45:35.162866Z"
    },
    "collapsed": true,
    "hidden": true
   },
   "outputs": [],
   "source": [
    "pattern_df = pd.read_excel(C.data_xls_path, \"Patterns\")\n",
    "vasc_depo_df = pd.read_excel(C.data_xls_path, \"Perfusion-Deposition Data\")\n",
    "depo_resp_df = pd.read_excel(C.data_xls_path, \"Deposition-Response Data\")"
   ]
  },
  {
   "cell_type": "code",
   "execution_count": 4,
   "metadata": {
    "ExecuteTime": {
     "end_time": "2018-05-03T19:19:45.972478Z",
     "start_time": "2018-05-03T19:19:45.712528Z"
    },
    "collapsed": true,
    "hidden": true
   },
   "outputs": [],
   "source": [
    "writer = pd.ExcelWriter(C.data_xls_path)"
   ]
  },
  {
   "cell_type": "markdown",
   "metadata": {
    "heading_collapsed": true
   },
   "source": [
    "### Get Patterns"
   ]
  },
  {
   "cell_type": "code",
   "execution_count": null,
   "metadata": {
    "ExecuteTime": {
     "end_time": "2018-05-04T14:16:09.691713Z",
     "start_time": "2018-05-04T14:15:34.324014Z"
    },
    "collapsed": true,
    "hidden": true
   },
   "outputs": [],
   "source": [
    "importlib.reload(lan)\n",
    "diams={}\n",
    "for lesion_id in lesions:\n",
    "    print(lesion_id)\n",
    "    diams[lesion_id] = lan.get_RECIST(lm.get_paths_dict(lesion_id, target_dir))\n",
    "    pattern_df.loc[lesion_id, \"diameter\"] = diams[lesion_id]\n",
    "\n",
    "np.mean(list(map(float,diams.values()))), np.std(list(map(float,diams.values())))"
   ]
  },
  {
   "cell_type": "code",
   "execution_count": 59,
   "metadata": {
    "ExecuteTime": {
     "end_time": "2018-05-18T01:01:19.094947Z",
     "start_time": "2018-05-18T01:01:19.076898Z"
    },
    "hidden": true
   },
   "outputs": [
    {
     "data": {
      "text/plain": [
       "<module 'lipiodol_analysis' from 'C:\\\\Users\\\\Clinton\\\\Documents\\\\Lipiodol\\\\lipiodol_analysis.py'>"
      ]
     },
     "execution_count": 59,
     "metadata": {},
     "output_type": "execute_result"
    }
   ],
   "source": [
    "importlib.reload(lan)"
   ]
  },
  {
   "cell_type": "code",
   "execution_count": null,
   "metadata": {
    "ExecuteTime": {
     "end_time": "2018-05-18T01:10:57.787145Z",
     "start_time": "2018-05-18T01:05:04.394324Z"
    },
    "collapsed": true,
    "hidden": true
   },
   "outputs": [],
   "source": [
    "importlib.reload(lan)\n",
    "for lesion_id in lesions:\n",
    "    print(lesion_id)\n",
    "    pattern_df.loc[lesion_id][:5] = lan.get_row_entry(lesion_id, target_dir, liplvls)"
   ]
  },
  {
   "cell_type": "code",
   "execution_count": null,
   "metadata": {
    "ExecuteTime": {
     "end_time": "2018-05-07T15:14:54.541479Z",
     "start_time": "2018-05-07T15:13:14.174636Z"
    },
    "collapsed": true,
    "hidden": true
   },
   "outputs": [],
   "source": [
    "importlib.reload(lan)\n",
    "for lesion_id in lesions:\n",
    "    print(lesion_id)\n",
    "    #pattern_df.loc[lesion_id, ['lipcoverage_vol', 'high_lip']] = lm.get_vol_coverage(lesion_id, target_dir)\n",
    "    pattern_df.loc[lesion_id, \"rim_lipiodol\"] = lan.get_rim_coverage(lesion_id, target_dir, liplvls[1])\n",
    "    #pattern_df.loc[lesion_id, [\"low_peripheral\", \"mid_peripheral\"]] = \\\n",
    "    #        lan.get_peripheral_coverage(lesion_id, target_dir, liplvls[1:3])"
   ]
  },
  {
   "cell_type": "code",
   "execution_count": 86,
   "metadata": {
    "ExecuteTime": {
     "end_time": "2018-05-07T15:13:07.000951Z",
     "start_time": "2018-05-07T15:13:05.630921Z"
    },
    "collapsed": true,
    "hidden": true
   },
   "outputs": [],
   "source": [
    "importlib.reload(lan)\n",
    "lesion_id = \"BM-37\"\n",
    "pattern_df.loc[lesion_id, \"rim_lipiodol\"] = lan.get_rim_coverage(lesion_id, target_dir, liplvls[1])"
   ]
  },
  {
   "cell_type": "code",
   "execution_count": 68,
   "metadata": {
    "ExecuteTime": {
     "end_time": "2018-05-18T01:12:39.450809Z",
     "start_time": "2018-05-18T01:12:39.443761Z"
    },
    "hidden": true,
    "scrolled": true
   },
   "outputs": [
    {
     "name": "stdout",
     "output_type": "stream",
     "text": [
      "0.5092155361865541\n"
     ]
    }
   ],
   "source": [
    "importlib.reload(lan)\n",
    "lan.validate_patterns(pattern_df)"
   ]
  },
  {
   "cell_type": "markdown",
   "metadata": {
    "ExecuteTime": {
     "end_time": "2018-04-17T15:57:55.534367Z",
     "start_time": "2018-04-17T15:57:55.530333Z"
    },
    "collapsed": true,
    "hidden": true
   },
   "source": [
    "exemplars = [x.upper() for x in [\"Pk-01a\",\"Pk-03\",\"Pk-08\",\"Pk-11c\",\"Bm-07\",\"Bm-16a\",\"Bm-16b\",\"Bm-19\",\"Bm-21\",\"Bm-24\",\"Bm-25\",\"Bm-37\"]]"
   ]
  },
  {
   "cell_type": "code",
   "execution_count": null,
   "metadata": {
    "ExecuteTime": {
     "end_time": "2018-05-18T01:17:20.907959Z",
     "start_time": "2018-05-18T01:17:20.898929Z"
    },
    "collapsed": true,
    "hidden": true
   },
   "outputs": [],
   "source": [
    "importlib.reload(lan)\n",
    "lan.get_counts(master_df)"
   ]
  },
  {
   "cell_type": "code",
   "execution_count": 37,
   "metadata": {
    "ExecuteTime": {
     "end_time": "2018-05-04T14:26:20.154093Z",
     "start_time": "2018-05-04T14:26:20.148077Z"
    },
    "hidden": true,
    "scrolled": true
   },
   "outputs": [
    {
     "data": {
      "text/plain": [
       "(53.25277463465104, 46.20693977759877)"
      ]
     },
     "execution_count": 37,
     "metadata": {},
     "output_type": "execute_result"
    }
   ],
   "source": [
    "ixs = master_df['selective=0']==1\n",
    "master_df.loc[ixs,\"diameter\"].values.mean(), master_df.loc[ixs,\"diameter\"].values.std()"
   ]
  },
  {
   "cell_type": "markdown",
   "metadata": {
    "ExecuteTime": {
     "end_time": "2018-04-17T02:14:51.433880Z",
     "start_time": "2018-04-17T02:14:49.515792Z"
    },
    "collapsed": true,
    "hidden": true
   },
   "source": [
    "lesion_id = \"PK-11C\"\n",
    "pattern_df.loc[lesion_id] = lm.get_row_entry(lesion_id, target_dir)"
   ]
  },
  {
   "cell_type": "markdown",
   "metadata": {
    "ExecuteTime": {
     "end_time": "2018-04-09T20:32:14.736305Z",
     "start_time": "2018-04-09T20:32:00.042255Z"
    },
    "hidden": true
   },
   "source": [
    "importlib.reload(lm)\n",
    "for fn in glob.glob(join(target_dir,\"*\")):\n",
    "    lesion_id = basename(fn)\n",
    "    lips = lm.enhancing_to_nec(lesion_id, target_dir, liplvls)\n",
    "    lipresp_df.loc[ix] = np.round(np.array(lips)*100,2).flatten()"
   ]
  },
  {
   "cell_type": "code",
   "execution_count": 86,
   "metadata": {
    "ExecuteTime": {
     "end_time": "2018-05-18T01:59:05.951587Z",
     "start_time": "2018-05-18T01:59:05.857333Z"
    },
    "collapsed": true,
    "hidden": true
   },
   "outputs": [],
   "source": [
    "writer = pd.ExcelWriter(C.data_xls_path)\n",
    "pattern_df.to_excel(writer, \"Patterns\")\n",
    "vasc_depo_df.to_excel(writer, \"Perfusion-Deposition Data\")\n",
    "depo_resp_df.to_excel(writer, \"Deposition-Response Data\")\n",
    "writer.save()"
   ]
  },
  {
   "cell_type": "markdown",
   "metadata": {
    "heading_collapsed": true
   },
   "source": [
    "## Correlating Vasc/Lip Deposition"
   ]
  },
  {
   "cell_type": "code",
   "execution_count": 82,
   "metadata": {
    "ExecuteTime": {
     "end_time": "2018-05-18T01:31:19.638196Z",
     "start_time": "2018-05-18T01:31:18.303331Z"
    },
    "hidden": true
   },
   "outputs": [],
   "source": [
    "importlib.reload(lan)\n",
    "vasc_depo_df = pd.DataFrame(columns=np.transpose([[str(L)+\"N\", str(L)+\"V\", str(L)+\"A\"] for L in liplvls], (1,0)).flatten())\n",
    "for lesion_id in lesions:\n",
    "    vasc_depo_df.loc[lesion_id] = lan.vascular_to_deposition(lesion_id, target_dir, liplvls, exclude_small=True)"
   ]
  },
  {
   "cell_type": "code",
   "execution_count": 70,
   "metadata": {
    "ExecuteTime": {
     "end_time": "2018-05-18T01:14:34.197555Z",
     "start_time": "2018-05-18T01:13:43.013042Z"
    },
    "collapsed": true,
    "hidden": true
   },
   "outputs": [],
   "source": [
    "importlib.reload(lan)\n",
    "depo_resp_df = pd.DataFrame(columns=liplvls+[\"Avg\"])\n",
    "for lesion_id in lesions:\n",
    "    depo_resp_df.loc[lesion_id] = lan.lip_to_response(lesion_id, target_dir, liplvls, exclude_small=True)"
   ]
  },
  {
   "cell_type": "code",
   "execution_count": 118,
   "metadata": {
    "ExecuteTime": {
     "end_time": "2018-05-18T03:21:18.731115Z",
     "start_time": "2018-05-18T03:21:18.727080Z"
    },
    "collapsed": true,
    "hidden": true
   },
   "outputs": [],
   "source": [
    "Vdf = vasc_depo_df.dropna()\n",
    "Rdf = depo_resp_df.dropna()#subset=[100,150,200])"
   ]
  },
  {
   "cell_type": "code",
   "execution_count": null,
   "metadata": {
    "ExecuteTime": {
     "end_time": "2018-04-26T22:27:37.606400Z",
     "start_time": "2018-04-26T22:27:37.497081Z"
    },
    "collapsed": true,
    "hidden": true
   },
   "outputs": [],
   "source": [
    "#plt.plot(depo_resp_df[\"Avg\"].dropna().values, '.')"
   ]
  },
  {
   "cell_type": "code",
   "execution_count": null,
   "metadata": {
    "ExecuteTime": {
     "end_time": "2018-05-18T03:14:06.215131Z",
     "start_time": "2018-05-18T03:14:06.205106Z"
    },
    "collapsed": true,
    "hidden": true
   },
   "outputs": [],
   "source": [
    "depo_resp_df.loc[(master_df['lipcoverage_vol']<.2) & (master_df[\"rim_lipiodol\"]<.5)]"
   ]
  },
  {
   "cell_type": "code",
   "execution_count": null,
   "metadata": {
    "ExecuteTime": {
     "end_time": "2018-05-18T03:14:10.757784Z",
     "start_time": "2018-05-18T03:14:10.308304Z"
    },
    "collapsed": true,
    "hidden": true
   },
   "outputs": [],
   "source": [
    "sparseRdf = depo_resp_df.dropna(subset=liplvls[:2])\n",
    "sparseRdf.loc[(master_df['lipcoverage_vol']<.2) & (master_df[\"rim_lipiodol\"]<.5)]\n",
    "sparseRdf.loc[(master_df['lipcoverage_vol']<.2) & (master_df[\"rim_lipiodol\"]<.5), liplvls[2:]] = np.nan\n",
    "sparseRdf.loc[(master_df['lipcoverage_vol']<.2) & (master_df[\"rim_lipiodol\"]>=.5), liplvls[3:]] = np.nan"
   ]
  },
  {
   "cell_type": "code",
   "execution_count": 111,
   "metadata": {
    "ExecuteTime": {
     "end_time": "2018-05-18T03:20:27.034785Z",
     "start_time": "2018-05-18T03:20:27.031777Z"
    },
    "collapsed": true,
    "hidden": true
   },
   "outputs": [],
   "source": [
    "homoRdf = depo_resp_df.dropna(subset=liplvls[1:3])\n",
    "homoRdf.loc[master_df[\"lipcoverage_vol\"] > .8]"
   ]
  },
  {
   "cell_type": "code",
   "execution_count": null,
   "metadata": {
    "ExecuteTime": {
     "end_time": "2018-05-18T03:20:37.995707Z",
     "start_time": "2018-05-18T03:20:37.851870Z"
    },
    "collapsed": true,
    "hidden": true
   },
   "outputs": [],
   "source": [
    "homoRdf.loc[master_df[\"lipcoverage_vol\"] > .8, liplvls[:1]] = np.nan"
   ]
  },
  {
   "cell_type": "code",
   "execution_count": null,
   "metadata": {
    "ExecuteTime": {
     "end_time": "2018-04-17T21:33:38.673714Z",
     "start_time": "2018-04-17T21:33:38.667700Z"
    },
    "collapsed": true,
    "hidden": true
   },
   "outputs": [],
   "source": [
    "((master_df[\"lipcoverage_vol%\"] < .2) & (master_df[\"rim_lipiodol%\"] <= .9) & (master_df[\"0=well delineated, 1=infiltrative\"] == 1)).sum()"
   ]
  },
  {
   "cell_type": "code",
   "execution_count": 156,
   "metadata": {
    "ExecuteTime": {
     "end_time": "2018-05-03T18:10:35.732368Z",
     "start_time": "2018-05-03T18:10:35.632022Z"
    },
    "collapsed": true,
    "hidden": true
   },
   "outputs": [],
   "source": [
    "writer = pd.ExcelWriter(C.data_xls_path)\n",
    "pattern_df.to_excel(writer, \"Patterns\")\n",
    "vasc_depo_df.to_excel(writer, \"Perfusion-Deposition Data\")\n",
    "depo_resp_df.to_excel(writer, \"Deposition-Response Data\")\n",
    "writer.save()"
   ]
  },
  {
   "cell_type": "markdown",
   "metadata": {
    "heading_collapsed": true
   },
   "source": [
    "## Vascularization subgraphs"
   ]
  },
  {
   "cell_type": "code",
   "execution_count": 95,
   "metadata": {
    "ExecuteTime": {
     "end_time": "2018-05-18T03:14:30.969464Z",
     "start_time": "2018-05-18T03:14:30.948411Z"
    },
    "collapsed": true,
    "hidden": true,
    "scrolled": true
   },
   "outputs": [],
   "source": [
    "df = pd.DataFrame(columns=[\"Any Coverage\", \"Low-Mid Coverage\", \"Low Coverage\", \"Lesion_id\", \"Tissue Type\",\n",
    "                       \"Tumor Growth\", \"Tumor Type\", \"TACE Type\"])\n",
    "\n",
    "master_df = pd.read_excel(r\"D:\\Lipiodol\\MASTER SOPHIE.xlsx\", \"Lesions analyzed\", index_col=\"Lesion_ID\")#\"C:\\Users\\Clinton\\Box\\FOR CLINTON BOX FOLDER\\MASTER SS SOPHIE.xlsx\")\n",
    "master_df = master_df.join(pattern_df)\n",
    "modality = \"mrbl\"\n",
    "#master_df = master_df.join(Vdf, how='inner')"
   ]
  },
  {
   "cell_type": "code",
   "execution_count": 96,
   "metadata": {
    "ExecuteTime": {
     "end_time": "2018-05-18T03:14:32.113979Z",
     "start_time": "2018-05-18T03:14:32.109970Z"
    },
    "collapsed": true,
    "hidden": true
   },
   "outputs": [],
   "source": [
    "def get_row(row, char):\n",
    "    return [row[\"%d%s\"%(liplvls[1],char)],\n",
    "            row[\"%d%s\"%(liplvls[1],char)] - row[\"%d%s\"%(liplvls[3],char)],\n",
    "            row[\"%d%s\"%(liplvls[1],char)] - row[\"%d%s\"%(liplvls[2],char)]]"
   ]
  },
  {
   "cell_type": "code",
   "execution_count": 31,
   "metadata": {
    "ExecuteTime": {
     "end_time": "2018-04-28T01:56:37.861364Z",
     "start_time": "2018-04-28T01:56:37.633044Z"
    },
    "collapsed": true,
    "hidden": true,
    "scrolled": true
   },
   "outputs": [],
   "source": [
    "importlib.reload(lvis)\n",
    "ix = 0\n",
    "for lesion_id, row in Vdf.iterrows():\n",
    "    const = lvis.get_df_entry(lesion_id, master_df, modality)\n",
    "    \n",
    "    df.loc[ix] = get_row(row,\"N\") + [lesion_id, \"Necrosis\"] + const\n",
    "    df.loc[ix+1] = get_row(row,\"V\") + [lesion_id, \"Viable\"] + const\n",
    "    ix += 2"
   ]
  },
  {
   "cell_type": "code",
   "execution_count": 32,
   "metadata": {
    "ExecuteTime": {
     "end_time": "2018-04-28T01:56:38.973241Z",
     "start_time": "2018-04-28T01:56:38.954191Z"
    },
    "collapsed": true,
    "hidden": true
   },
   "outputs": [],
   "source": [
    "def set_g_bar(g, save_path):\n",
    "    g.set(yticks=[0.,.2,.4,.6,.8,1.], ylim=(0.,1.));\n",
    "    \n",
    "    for gax in g.axes[0]:\n",
    "        gax.set_xlabel(\"\")\n",
    "        gax.set_ylabel(\"\")\n",
    "        #gax.tick_params('x',width=0)\n",
    "        gax.set_xticks([], minor=False)\n",
    "        gax.set_yticks([], minor=False)\n",
    "        plt.setp(gax.patches, linewidth=1, edgecolor='k')\n",
    "        \n",
    "    g.set_titles(visible=False)\n",
    "    #g.axes[0][0].set_yticklabels([\"0%\", \"20%\", \"40%\", \"60%\", \"80%\", \"100%\"]);\n",
    "    \n",
    "    sns.despine(top=True, right=True, left=True)\n",
    "    g.fig.subplots_adjust(left=.2, top=.95)\n",
    "    \n",
    "    #g.fig.tight_layout(w_pad=1)\n",
    "    #plt.setp(g.ax.lines,linewidth=1);\n",
    "    g.fig.savefig(save_path, width=5, dpi=150, pad_inches=0, transparent=True)\n",
    "    plt.close()"
   ]
  },
  {
   "cell_type": "code",
   "execution_count": 33,
   "metadata": {
    "ExecuteTime": {
     "end_time": "2018-04-28T01:56:39.282373Z",
     "start_time": "2018-04-28T01:56:39.279365Z"
    },
    "collapsed": true,
    "hidden": true
   },
   "outputs": [],
   "source": [
    "kwargs = {\"x\":\"Tissue Type\", \"data\":df, \"size\":3, \"aspect\":.8, \"kind\":\"bar\", \"ci\":None, \"legend\":False}"
   ]
  },
  {
   "cell_type": "code",
   "execution_count": 34,
   "metadata": {
    "ExecuteTime": {
     "end_time": "2018-04-28T01:56:41.418098Z",
     "start_time": "2018-04-28T01:56:39.500954Z"
    },
    "collapsed": true,
    "hidden": true
   },
   "outputs": [],
   "source": [
    "g1 = sns.factorplot(y=\"Any Coverage\", color=\"#D3D3D3\", **kwargs)\n",
    "set_g_bar(g1, join(C.fig_dir, \"Vascularization figures\", \"Mean1.png\"))\n",
    "g2 = sns.factorplot(y=\"Low-Mid Coverage\", color=\"#939393\", **kwargs)\n",
    "set_g_bar(g2, join(C.fig_dir, \"Vascularization figures\", \"Mean2.png\"))\n",
    "g3 = sns.factorplot(y=\"Low Coverage\", color=\"#333333\", **kwargs)\n",
    "set_g_bar(g3, join(C.fig_dir, \"Vascularization figures\", \"Mean3.png\"))\n",
    "\n",
    "for category, order in [(\"Tumor Growth\", None), (\"Tumor Type\", None),\n",
    "                        (\"TACE Type\", [\"Selective\", \"Lobar\"])]:\n",
    "    order = lan.get_actual_order(category, df, order)\n",
    "    g1 = sns.factorplot(y=\"Any Coverage\", col=category, color=\"#D3D3D3\", col_order=order, **kwargs)\n",
    "    set_g_bar(g1, join(C.fig_dir, \"Vascularization figures\", \"%s1.png\" % category))\n",
    "    g2 = sns.factorplot(y=\"Low-Mid Coverage\", col=category, color=\"#939393\", col_order=order, **kwargs)\n",
    "    set_g_bar(g2, join(C.fig_dir, \"Vascularization figures\", \"%s2.png\" % category))\n",
    "    g3 = sns.factorplot(y=\"Low Coverage\", col=category, color=\"#333333\", col_order=order, **kwargs)\n",
    "    set_g_bar(g3, join(C.fig_dir, \"Vascularization figures\", \"%s3.png\" % category))"
   ]
  },
  {
   "cell_type": "markdown",
   "metadata": {
    "ExecuteTime": {
     "end_time": "2018-04-16T20:18:32.738686Z",
     "start_time": "2018-04-16T20:18:30.262704Z"
    },
    "collapsed": true,
    "hidden": true
   },
   "source": [
    "focal_df = df.dropna(subset=[\"Tumor Growth\"])\n",
    "focal_df = focal_df[focal_df[\"Tumor Growth\"].str.contains(\"Focal\")]\n",
    "for ix, row in focal_df.iterrows():\n",
    "    focal_df.loc[ix, \"Tumor Type\"] = lvis.check_column(row[\"Lesion_id\"], master_df, \"HCC(0), ICC(1), other(2)\", \n",
    "                                                  {0: \"HCCs\", 1: \"ICCs\", 2: \"Metastases\"}, \"Focal\")\n",
    "    focal_df.loc[ix, \"Sparsity\"] = lvis.check_sparse(row[\"Lesion_id\"], master_df, modality, \"Focal\")\n",
    "kwargs[\"data\"] = focal_df\n",
    "\n",
    "for category, order in [(\"Homogeneity\", [\"Homo\", \"Hetero\"]),# (\"Sparsity\", [\"Sparse\", \"Non\"]),\n",
    "                        (\"Rim Presence\", [\"Rim\", \"Non\"])]:\n",
    "    \n",
    "    order = lan.get_actual_order(category, focal_df, order)\n",
    "    g1 = sns.factorplot(y=\"Any Coverage\", col=category, color=\"#D3D3D3\", col_order=order, **kwargs)\n",
    "    set_g_bar(g1, join(C.fig_dir, \"Vascularization figures\", \"Focal_%s1.png\" % category))\n",
    "    g2 = sns.factorplot(y=\"Low-Mid Coverage\", col=category, color=\"#939393\", col_order=order, **kwargs)\n",
    "    set_g_bar(g2, join(C.fig_dir, \"Vascularization figures\", \"Focal_%s2.png\" % category))\n",
    "    g3 = sns.factorplot(y=\"Low Coverage\", col=category, color=\"#333333\", col_order=order, **kwargs)\n",
    "    set_g_bar(g3, join(C.fig_dir, \"Vascularization figures\", \"Focal_%s3.png\" % category))"
   ]
  },
  {
   "cell_type": "markdown",
   "metadata": {
    "ExecuteTime": {
     "end_time": "2018-04-16T20:18:35.362072Z",
     "start_time": "2018-04-16T20:18:33.637653Z"
    },
    "collapsed": true,
    "hidden": true
   },
   "source": [
    "infil_df = df.dropna(subset=[\"Tumor Growth\"])\n",
    "infil_df = infil_df[infil_df[\"Tumor Growth\"].str.contains(\"Infiltrative\")]\n",
    "for ix, row in infil_df.iterrows():\n",
    "    infil_df.loc[ix, \"Tumor Type\"] = lvis.check_column(row[\"Lesion_id\"], master_df, \"HCC(0), ICC(1), other(2)\", \n",
    "                                                  {0: \"HCCs\", 1: \"ICCs\", 2: \"Metastases\"}, \"Infiltrative\")\n",
    "    infil_df.loc[ix, \"Sparsity\"] = lvis.check_sparse(row[\"Lesion_id\"], master_df, modality, \"Infiltrative\")\n",
    "kwargs[\"data\"] = infil_df\n",
    "\n",
    "for category, order in [(\"Tumor Type\", None), (\"TACE Type\", [\"Selective\", \"Lobar\"]), (\"Sparsity\", [\"Sparse\", \"Non\"])]:\n",
    "    \n",
    "    order = lm.get_actual_order(category, infil_df, order)\n",
    "    g1 = sns.factorplot(y=\"Any Coverage\", col=category, color=\"#D3D3D3\", col_order=order, **kwargs)\n",
    "    set_g_bar(g1, join(C.fig_dir, \"Vascularization figures\", \"Infil_%s1.png\" % category))\n",
    "    g2 = sns.factorplot(y=\"Low-Mid Coverage\", col=category, color=\"#939393\", col_order=order, **kwargs)\n",
    "    set_g_bar(g2, join(C.fig_dir, \"Vascularization figures\", \"Infil_%s2.png\" % category))\n",
    "    g3 = sns.factorplot(y=\"Low Coverage\", col=category, color=\"#333333\", col_order=order, **kwargs)\n",
    "    set_g_bar(g3, join(C.fig_dir, \"Vascularization figures\", \"Infil_%s3.png\" % category))"
   ]
  },
  {
   "cell_type": "markdown",
   "metadata": {
    "heading_collapsed": true
   },
   "source": [
    "## Response subgraphs"
   ]
  },
  {
   "cell_type": "code",
   "execution_count": 97,
   "metadata": {
    "ExecuteTime": {
     "end_time": "2018-05-18T03:14:37.066760Z",
     "start_time": "2018-05-18T03:14:37.043726Z"
    },
    "collapsed": true,
    "hidden": true,
    "scrolled": true
   },
   "outputs": [],
   "source": [
    "master_df = pd.read_excel(r\"D:\\Lipiodol\\MASTER SOPHIE.xlsx\", \"Lesions analyzed\", index_col=\"Lesion_ID\")#\"C:\\Users\\Clinton\\Box\\FOR CLINTON BOX FOLDER\\MASTER SS SOPHIE.xlsx\")\n",
    "master_df = master_df.join(pattern_df)\n",
    "modality = \"ct24\"\n",
    "\n",
    "master_df[\"lipcoverage_vol\"] = master_df[\"lipcoverage_vol\"].astype(float)\n",
    "master_df[\"high_lip\"] = master_df[\"high_lip\"].astype(float)\n",
    "master_df[\"rim_lipiodol\"] = master_df[\"rim_lipiodol\"].astype(float)\n",
    "master_df[\"low_peripheral\"] = master_df[\"low_peripheral\"].astype(float)\n",
    "master_df[\"mid_peripheral\"] = master_df[\"mid_peripheral\"].astype(float)\n",
    "\n",
    "#master_df = master_df.join(Rdf, how='inner')"
   ]
  },
  {
   "cell_type": "code",
   "execution_count": 98,
   "metadata": {
    "ExecuteTime": {
     "end_time": "2018-05-18T03:15:18.770374Z",
     "start_time": "2018-05-18T03:14:42.439388Z"
    },
    "collapsed": true,
    "hidden": true
   },
   "outputs": [],
   "source": [
    "importlib.reload(lan)\n",
    "for lesion_id in lesions:#master_df.iterrows():\n",
    "    #print(lesion_id)\n",
    "    master_df.loc[lesion_id, \"qEASL\"] = lan.get_qEASL(lesion_id, target_dir)"
   ]
  },
  {
   "cell_type": "markdown",
   "metadata": {
    "hidden": true
   },
   "source": [
    "### qEASL vs peripheral deposition"
   ]
  },
  {
   "cell_type": "markdown",
   "metadata": {
    "ExecuteTime": {
     "end_time": "2018-04-17T16:43:17.739242Z",
     "start_time": "2018-04-17T16:43:17.736234Z"
    },
    "collapsed": true,
    "hidden": true
   },
   "source": [
    "master_df = master_df[master_df['selective=0']==0]"
   ]
  },
  {
   "cell_type": "code",
   "execution_count": 99,
   "metadata": {
    "ExecuteTime": {
     "end_time": "2018-05-18T03:15:18.955867Z",
     "start_time": "2018-05-18T03:15:18.952859Z"
    },
    "collapsed": true,
    "hidden": true
   },
   "outputs": [],
   "source": [
    "master_df[\"low_peripheral\"] = master_df[\"low_peripheral\"].astype(float)\n",
    "master_df[\"mid_peripheral\"] = master_df[\"mid_peripheral\"].astype(float)"
   ]
  },
  {
   "cell_type": "code",
   "execution_count": null,
   "metadata": {
    "ExecuteTime": {
     "end_time": "2018-05-18T03:16:10.780384Z",
     "start_time": "2018-05-18T03:16:10.774396Z"
    },
    "collapsed": true,
    "hidden": true
   },
   "outputs": [],
   "source": [
    "master_df.sort_values(\"qEASL\",ascending=False)[\"qEASL\"]"
   ]
  },
  {
   "cell_type": "code",
   "execution_count": null,
   "metadata": {
    "ExecuteTime": {
     "end_time": "2018-05-18T03:15:48.537018Z",
     "start_time": "2018-05-18T03:15:48.522981Z"
    },
    "collapsed": true,
    "hidden": true
   },
   "outputs": [],
   "source": [
    "master_df.sort_values(\"low_peripheral\")[[\"low_peripheral\",\"qEASL\"]]"
   ]
  },
  {
   "cell_type": "code",
   "execution_count": 125,
   "metadata": {
    "ExecuteTime": {
     "end_time": "2018-05-18T03:23:42.502456Z",
     "start_time": "2018-05-18T03:23:42.498445Z"
    },
    "hidden": true
   },
   "outputs": [
    {
     "data": {
      "text/plain": [
       "Index(['0=well delineated, 1=infiltrative', 'HCC(0), ICC(1), other(2)',\n",
       "       'selective=0', 'qEASL 30d', 'Unnamed: 5', 'Unnamed: 6', 'Unnamed: 7',\n",
       "       'Unnamed: 8', '0=well delineated, 1=infiltrative.1',\n",
       "       'HCC(0), ICC(1), other(2).1', 'selective=0.1', 'homogenous=0',\n",
       "       'peripheral', 'sparse', 'rim', 'Unnamed: 16', 'Unnamed: 17',\n",
       "       'RECIST 30d', 'mRECIST 30d', 'qEASL(%) 30d', 'Unnamed: 21', 'Pat#',\n",
       "       'CBCT E#', 'lipcoverage_vol', 'high_lip', 'rim_lipiodol',\n",
       "       'low_peripheral', 'mid_peripheral', 'diameter', 'qEASL'],\n",
       "      dtype='object')"
      ]
     },
     "execution_count": 125,
     "metadata": {},
     "output_type": "execute_result"
    }
   ],
   "source": [
    "master_df.columns"
   ]
  },
  {
   "cell_type": "code",
   "execution_count": 129,
   "metadata": {
    "ExecuteTime": {
     "end_time": "2018-05-18T03:24:15.470806Z",
     "start_time": "2018-05-18T03:24:15.466771Z"
    },
    "hidden": true
   },
   "outputs": [
    {
     "data": {
      "text/plain": [
       "0.5348177316501194"
      ]
     },
     "execution_count": 129,
     "metadata": {},
     "output_type": "execute_result"
    }
   ],
   "source": [
    "np.nanmean(master_df.loc[master_df['selective=0']==0,\"low_peripheral\"])"
   ]
  },
  {
   "cell_type": "code",
   "execution_count": null,
   "metadata": {
    "ExecuteTime": {
     "end_time": "2018-05-18T03:15:19.106296Z",
     "start_time": "2018-05-18T03:15:18.991963Z"
    },
    "collapsed": true,
    "hidden": true
   },
   "outputs": [],
   "source": [
    "g=sns.regplot(x=master_df.dropna(subset=[\"qEASL\"]).loc[master_df['selective=0']==0,\"low_peripheral\"],\n",
    "              y=master_df.dropna(subset=[\"qEASL\"]).loc[master_df['selective=0']==0,\"qEASL\"], ci=None)\n",
    "g.set_ylabel(\"Change in Viable Tumor Volume\")\n",
    "g.set_xlabel(\"Peripheral Coverage\")\n",
    "g.set_ylim([-1,.5]);\n",
    "g.set_yticks([-1,-.5,0,.5]);\n",
    "g.set_yticklabels([\"-100%\",\"-50%\",\"0%\",\"50%\"]);\n",
    "g.set_xticks([0,.2,.4,.6,.8,1.]);\n",
    "g.set_xticklabels([\"0%\",\"20%\", \"40%\", \"60%\", \"80%\", \"100%\"]);\n",
    "plt.plot(np.linspace(0,100,1000), [-.65]*1000, 'k--', lw=.3)\n",
    "plt.plot(np.linspace(0,100,1000), [.73]*1000, 'k--', lw=.3)\n",
    "sns.despine(top=True, right=True)"
   ]
  },
  {
   "cell_type": "code",
   "execution_count": 105,
   "metadata": {
    "ExecuteTime": {
     "end_time": "2018-05-18T03:16:45.809489Z",
     "start_time": "2018-05-18T03:16:45.797483Z"
    },
    "hidden": true
   },
   "outputs": [
    {
     "data": {
      "text/plain": [
       "LinregressResult(slope=-0.5969762348470661, intercept=-0.32600490090880385, rvalue=-0.4262165904598939, pvalue=0.013388210982527775, stderr=0.22756872719858146)"
      ]
     },
     "execution_count": 105,
     "metadata": {},
     "output_type": "execute_result"
    }
   ],
   "source": [
    "scipy.stats.linregress(master_df.dropna(subset=[\"qEASL\"]).loc[master_df['selective=0']==0,\"low_peripheral\"],\n",
    "                       master_df.dropna(subset=[\"qEASL\"]).loc[master_df['selective=0']==0,\"qEASL\"])"
   ]
  },
  {
   "cell_type": "code",
   "execution_count": null,
   "metadata": {
    "collapsed": true,
    "hidden": true
   },
   "outputs": [],
   "source": []
  },
  {
   "cell_type": "code",
   "execution_count": null,
   "metadata": {
    "ExecuteTime": {
     "end_time": "2018-04-17T16:43:03.165937Z",
     "start_time": "2018-04-17T16:43:02.617425Z"
    },
    "collapsed": true,
    "hidden": true
   },
   "outputs": [],
   "source": [
    "g=sns.factorplot(x=\"low_peripheral\", y=\"qEASL\", hue=\"selective=0\", data=master_df, join=False)\n",
    "g.ax.set_ylabel(\"Change in Viable Tumor Volume\")\n",
    "g.ax.set_xlabel(\"Peripheral Coverage\")\n",
    "g.ax.set_ylim([-1,2.5]);\n",
    "g.ax.set_yticks([-1,0,1,2]);\n",
    "g.ax.set_yticklabels([\"-100%\",\"0%\",\"100%\",\"200%\"]);\n",
    "g.ax.set_xticks([0,.2,.4,.6,.8,1.]);\n",
    "g.ax.set_xticklabels([\"0%\",\"20%\", \"40%\", \"60%\", \"80%\", \"100%\"]);\n",
    "plt.plot(np.linspace(0,100,1000), [-.65]*1000, 'k--', lw=.3)\n",
    "plt.plot(np.linspace(0,100,1000), [.73]*1000, 'k--', lw=.3)\n",
    "sns.despine(top=True, right=True)"
   ]
  },
  {
   "cell_type": "code",
   "execution_count": null,
   "metadata": {
    "ExecuteTime": {
     "end_time": "2018-04-17T16:08:24.705239Z",
     "start_time": "2018-04-17T16:08:24.414466Z"
    },
    "collapsed": true,
    "hidden": true
   },
   "outputs": [],
   "source": [
    "g=sns.regplot(x=master_df[\"mid_peripheral\"], y=master_df[\"qEASL\"])\n",
    "g.set_ylabel(\"% change in viable tumor volume\")\n",
    "g.set_xlabel(\"% peripheral coverage (150 HU)\")"
   ]
  },
  {
   "cell_type": "code",
   "execution_count": 589,
   "metadata": {
    "ExecuteTime": {
     "end_time": "2018-04-17T04:18:13.150255Z",
     "start_time": "2018-04-17T04:18:13.147247Z"
    },
    "collapsed": true,
    "hidden": true
   },
   "outputs": [],
   "source": [
    "#full_df = Rdf.join(master_df)\n",
    "#full_df[(full_df[\"lipcoverage_vol%\"] < .25) & (full_df[\"high_lip\"] < .1)]"
   ]
  },
  {
   "cell_type": "markdown",
   "metadata": {
    "hidden": true
   },
   "source": [
    "### main analysis"
   ]
  },
  {
   "cell_type": "code",
   "execution_count": null,
   "metadata": {
    "ExecuteTime": {
     "end_time": "2018-05-02T21:57:41.254457Z",
     "start_time": "2018-05-02T21:57:41.244396Z"
    },
    "collapsed": true,
    "hidden": true
   },
   "outputs": [],
   "source": [
    "master_df.loc[(master_df['lipcoverage_vol']<.2), [\"rim_lipiodol\",\"qEASL\"]].dropna().sort_values(\"rim_lipiodol\")"
   ]
  },
  {
   "cell_type": "code",
   "execution_count": 119,
   "metadata": {
    "ExecuteTime": {
     "end_time": "2018-05-18T03:21:40.054834Z",
     "start_time": "2018-05-18T03:21:39.662260Z"
    },
    "collapsed": true,
    "hidden": true,
    "scrolled": true
   },
   "outputs": [],
   "source": [
    "df = pd.DataFrame(columns=[\"Response\", \"Lesion_id\", \"Lipiodol Deposition\",\n",
    "                       \"Tumor Growth\", \"Tumor Type\", \"TACE Type\", \"Homogeneity\", \"Sparsity\", \"Rim Presence\"])\n",
    "\n",
    "importlib.reload(lvis)\n",
    "ix = 0\n",
    "for lesion_id, row in Rdf.iterrows():\n",
    "    const = lvis.get_df_entry(lesion_id, master_df, modality)\n",
    "    for i in range(4):\n",
    "        df.loc[ix+i] = [row[liplvls[i]], lesion_id, [\"None\", \"Low\", \"Medium\", \"High\"][i]] + const\n",
    "    ix += 4"
   ]
  },
  {
   "cell_type": "code",
   "execution_count": 120,
   "metadata": {
    "ExecuteTime": {
     "end_time": "2018-05-18T03:21:43.562395Z",
     "start_time": "2018-05-18T03:21:43.559360Z"
    },
    "collapsed": true,
    "hidden": true
   },
   "outputs": [],
   "source": [
    "kwargs = {\"x\":\"Lipiodol Deposition\", \"y\":\"Response\", \"data\":df, \"size\":3, \"ci\":None,\n",
    "          \"markers\":[\"s\", \"o\", \"^\"], \"legend\":False}"
   ]
  },
  {
   "cell_type": "code",
   "execution_count": 121,
   "metadata": {
    "ExecuteTime": {
     "end_time": "2018-05-18T03:21:43.992514Z",
     "start_time": "2018-05-18T03:21:43.980511Z"
    },
    "collapsed": true,
    "hidden": true
   },
   "outputs": [],
   "source": [
    "def set_g(g, save_path):\n",
    "    g.set(yticks=[0,.2,.4,.6,.8,1.], ylim=(0.,1.));\n",
    "    g.ax.set_yticklabels([\"0%\",\"20%\", \"40%\", \"60%\", \"80%\", \"100%\"]);\n",
    "    g.ax.set_xlabel(\"\")\n",
    "    g.ax.set_ylabel(\"\")\n",
    "    #g.ax.tick_params('y',width=0)\n",
    "    #sns.despine(bottom=True)\n",
    "    #g.fig.tight_layout(w_pad=1)\n",
    "    plt.legend(loc='lower left');\n",
    "    g.fig.subplots_adjust(left=0.2)\n",
    "    #plt.setp(g.ax.lines,linewidth=1);\n",
    "    g.fig.savefig(save_path, dpi=1000, pad_inches=0, transparent=True)\n",
    "    plt.close()"
   ]
  },
  {
   "cell_type": "markdown",
   "metadata": {
    "ExecuteTime": {
     "end_time": "2018-04-17T04:16:12.275819Z",
     "start_time": "2018-04-17T04:16:12.272793Z"
    },
    "hidden": true
   },
   "source": [
    "all_df = copy.deepcopy(df)"
   ]
  },
  {
   "cell_type": "code",
   "execution_count": 122,
   "metadata": {
    "ExecuteTime": {
     "end_time": "2018-05-18T03:21:48.288205Z",
     "start_time": "2018-05-18T03:21:46.278518Z"
    },
    "collapsed": true,
    "hidden": true,
    "scrolled": true
   },
   "outputs": [],
   "source": [
    "for category, order in [(\"Tumor Growth\", None), (\"Tumor Type\", None),\n",
    "                        (\"TACE Type\", [\"Selective\", \"Lobar\"]), (\"Sparsity\", [\"Sparse\", \"Non\"])]:\n",
    "    g = sns.factorplot(hue=category, hue_order=lan.get_actual_order(category, df, order), **kwargs)\n",
    "    set_g(g, join(C.fig_dir, \"Deposition figures\", \"%s.png\" % category));"
   ]
  },
  {
   "cell_type": "code",
   "execution_count": 123,
   "metadata": {
    "ExecuteTime": {
     "end_time": "2018-05-18T03:21:53.836682Z",
     "start_time": "2018-05-18T03:21:52.987772Z"
    },
    "collapsed": true,
    "hidden": true,
    "scrolled": true
   },
   "outputs": [],
   "source": [
    "focal_df = df.dropna(subset=[\"Tumor Growth\"])\n",
    "focal_df = focal_df[focal_df[\"Tumor Growth\"].str.contains(\"Well-del\")]\n",
    "for ix, row in focal_df.iterrows():\n",
    "    focal_df.loc[ix, \"Tumor Type\"] = lvis.check_column(row[\"Lesion_id\"], master_df, \"HCC(0), ICC(1), other(2)\", \n",
    "                                                  {0: \"HCCs\", 1: \"ICCs\", 2: \"Metastases\"}, \"WD\")\n",
    "    focal_df.loc[ix, \"Sparsity\"] = lvis.check_sparse(row[\"Lesion_id\"], master_df, modality, \"WD\")\n",
    "\n",
    "if True:\n",
    "    for category, order in [(\"Homogeneity\", [\"Homo\", \"Hetero\"])]:\n",
    "        g = sns.factorplot(hue=category, hue_order=lan.get_actual_order(category, focal_df, order), **kwargs)\n",
    "        set_g(g, join(C.fig_dir, \"Deposition figures\", \"Focal_%s.png\" % category));\n",
    "\n",
    "elif False:\n",
    "    focal_df = focal_df.dropna(subset=[\"Sparsity\"])\n",
    "    kwargs[\"data\"] = focal_df[focal_df[\"Sparsity\"].str.startswith(\"Sparse\")]\n",
    "    for category, order in [(\"Rim Presence\", [\"Rim\", \"Non\"])]:\n",
    "        g = sns.factorplot(hue=category, hue_order=lan.get_actual_order(category, focal_df, order), **kwargs)\n",
    "        set_g(g, join(C.fig_dir, \"Deposition figures\", \"Focal_Sparse_%s.png\" % category));\n",
    "\n",
    "else:\n",
    "    focal_df = focal_df.dropna(subset=[\"Sparsity\"])\n",
    "    kwargs[\"data\"] = focal_df[focal_df[\"Sparsity\"].str.startswith(\"Non\")]\n",
    "    for category, order in [(\"Rim Presence\", [\"Rim\", \"Non\"])]:\n",
    "        g = sns.factorplot(hue=category, hue_order=lan.get_actual_order(category, focal_df, order), **kwargs)\n",
    "        set_g(g, join(C.fig_dir, \"Deposition figures\", \"Focal_Non-Sparse_%s.png\" % category));"
   ]
  },
  {
   "cell_type": "code",
   "execution_count": 145,
   "metadata": {
    "ExecuteTime": {
     "end_time": "2018-05-03T17:44:12.948997Z",
     "start_time": "2018-05-03T17:44:12.943988Z"
    },
    "hidden": true,
    "scrolled": true
   },
   "outputs": [
    {
     "data": {
      "text/plain": [
       "8.0"
      ]
     },
     "execution_count": 145,
     "metadata": {},
     "output_type": "execute_result"
    }
   ],
   "source": [
    "len(focal_df[(focal_df[\"Sparsity\"].str.startswith(\"Non\")) & (focal_df[\"Rim Presence\"].str.startswith(\"Rim\"))])/4"
   ]
  },
  {
   "cell_type": "code",
   "execution_count": null,
   "metadata": {
    "ExecuteTime": {
     "end_time": "2018-05-02T21:52:25.119823Z",
     "start_time": "2018-05-02T21:52:25.103753Z"
    },
    "collapsed": true,
    "hidden": true
   },
   "outputs": [],
   "source": [
    "focal_df[focal_df[\"Sparsity\"].str.startswith(\"Sparse\")]"
   ]
  },
  {
   "cell_type": "markdown",
   "metadata": {
    "ExecuteTime": {
     "end_time": "2018-04-24T04:11:39.652578Z",
     "start_time": "2018-04-24T04:11:37.839501Z"
    },
    "collapsed": true,
    "hidden": true,
    "scrolled": true
   },
   "source": [
    "infil_df = df.dropna(subset=[\"Tumor Growth\"])\n",
    "infil_df = infil_df[infil_df[\"Tumor Growth\"].str.contains(\"Infiltrative\")]\n",
    "for ix, row in infil_df.iterrows():\n",
    "    infil_df.loc[ix, \"Tumor Type\"] = lvis.check_column(row[\"Lesion_id\"], master_df, \"HCC(0), ICC(1), other(2)\", \n",
    "                                                  {0: \"HCCs\", 1: \"ICCs\", 2: \"Metastases\"}, \"Infiltrative\")\n",
    "    infil_df.loc[ix, \"Sparsity\"] = lvis.check_sparse(row[\"Lesion_id\"], master_df, modality, \"Infiltrative\")\n",
    "kwargs[\"data\"] = infil_df\n",
    "\n",
    "for category, order in [(\"Tumor Type\", None), (\"TACE Type\", [\"Selective\", \"Lobar\"]), (\"Sparsity\", [\"Sparse\", \"Non\"])]:\n",
    "    g = sns.factorplot(hue=category, hue_order=lm.get_actual_order(category, infil_df, order), **kwargs)\n",
    "    set_g(g, join(C.fig_dir, \"Deposition figures\", \"Infil_%s.png\" % category));"
   ]
  },
  {
   "cell_type": "code",
   "execution_count": 205,
   "metadata": {
    "ExecuteTime": {
     "end_time": "2018-04-30T18:56:24.128705Z",
     "start_time": "2018-04-30T18:56:24.108647Z"
    },
    "collapsed": true,
    "hidden": true
   },
   "outputs": [],
   "source": [
    "master_df = pd.read_excel(r\"D:\\Lipiodol\\MASTER SOPHIE.xlsx\", \"Lesions analyzed\", index_col=\"Lesion_ID\")\n",
    "pattern_df = pattern_df.join(master_df)"
   ]
  },
  {
   "cell_type": "code",
   "execution_count": null,
   "metadata": {
    "ExecuteTime": {
     "end_time": "2018-04-30T19:29:04.627853Z",
     "start_time": "2018-04-30T19:29:04.620862Z"
    },
    "collapsed": true,
    "hidden": true
   },
   "outputs": [],
   "source": [
    "len(pattern_df[(pattern_df.lipcoverage_vol < .2) & (pattern_df.lipcoverage_vol < .8) & (pattern_df.rim_lipiodol < .5)])"
   ]
  },
  {
   "cell_type": "code",
   "execution_count": null,
   "metadata": {
    "ExecuteTime": {
     "end_time": "2018-04-16T22:59:24.348775Z",
     "start_time": "2018-04-16T22:59:24.343762Z"
    },
    "collapsed": true,
    "hidden": true
   },
   "outputs": [],
   "source": [
    "## print(len(Rdf))\n",
    "MEAN=Rdf.mean().values"
   ]
  },
  {
   "cell_type": "code",
   "execution_count": 320,
   "metadata": {
    "ExecuteTime": {
     "end_time": "2018-04-16T22:59:31.458372Z",
     "start_time": "2018-04-16T22:59:31.448336Z"
    },
    "hidden": true
   },
   "outputs": [
    {
     "name": "stdout",
     "output_type": "stream",
     "text": [
      "23\n"
     ]
    }
   ],
   "source": [
    "#well delineated\n",
    "print(len(Rdf[master_df.loc[Rdf.index, \"0=well delineated, 1=infiltrative\"] == 0]))\n",
    "FOCAL=Rdf[master_df.loc[Rdf.index, \"0=well delineated, 1=infiltrative\"] == 0].mean().values"
   ]
  },
  {
   "cell_type": "markdown",
   "metadata": {
    "ExecuteTime": {
     "end_time": "2018-04-10T02:49:19.435196Z",
     "start_time": "2018-04-10T02:49:19.430182Z"
    },
    "hidden": true
   },
   "source": [
    "[1-df[i].mean() for i in liplvls]"
   ]
  },
  {
   "cell_type": "markdown",
   "metadata": {
    "ExecuteTime": {
     "end_time": "2018-04-10T02:48:14.341697Z",
     "start_time": "2018-04-10T02:48:14.337687Z"
    },
    "hidden": true
   },
   "source": [
    "[x/(1-x) for x in [0.47604184262689564,\n",
    " 0.3884550297888517,\n",
    " 0.3352322775428981,\n",
    " 0.2986988994268489]]"
   ]
  },
  {
   "cell_type": "code",
   "execution_count": null,
   "metadata": {
    "ExecuteTime": {
     "end_time": "2018-04-10T01:53:03.813064Z",
     "start_time": "2018-04-10T01:53:03.808050Z"
    },
    "collapsed": true,
    "hidden": true
   },
   "outputs": [],
   "source": [
    "[1-df[i].mean() for i in liplvls]"
   ]
  },
  {
   "cell_type": "code",
   "execution_count": null,
   "metadata": {
    "ExecuteTime": {
     "end_time": "2018-04-09T22:37:09.380458Z",
     "start_time": "2018-04-09T22:37:09.376419Z"
    },
    "collapsed": true,
    "hidden": true
   },
   "outputs": [],
   "source": [
    "print([df[i].mean() for i in liplvls])\n",
    "\n",
    "print(np.nanmean(depo_resp_df[0]),\n",
    "np.nanmean(depo_resp_df[100]),\n",
    "np.nanmean(depo_resp_df[150]),\n",
    "np.nanmean(depo_resp_df[200]))"
   ]
  },
  {
   "cell_type": "markdown",
   "metadata": {
    "heading_collapsed": true,
    "hidden": true
   },
   "source": [
    "### Ground truth patterns"
   ]
  },
  {
   "cell_type": "code",
   "execution_count": null,
   "metadata": {
    "ExecuteTime": {
     "end_time": "2018-04-10T17:29:54.686967Z",
     "start_time": "2018-04-10T17:29:54.676914Z"
    },
    "collapsed": true,
    "hidden": true
   },
   "outputs": [],
   "source": [
    "pattern_gtruth_df = pd.read_excel(r\"D:\\Lipiodol\\Results\\Lipiodol Patterns.xlsx\", index_col=0)"
   ]
  },
  {
   "cell_type": "code",
   "execution_count": null,
   "metadata": {
    "ExecuteTime": {
     "end_time": "2018-04-10T17:29:55.096090Z",
     "start_time": "2018-04-10T17:29:55.092082Z"
    },
    "collapsed": true,
    "hidden": true
   },
   "outputs": [],
   "source": [
    "joint_df = pd.concat([vasc_depo_df, pattern_gtruth_df], axis=1, join='inner')"
   ]
  },
  {
   "cell_type": "code",
   "execution_count": null,
   "metadata": {
    "ExecuteTime": {
     "end_time": "2018-04-10T17:29:56.090236Z",
     "start_time": "2018-04-10T17:29:56.086226Z"
    },
    "collapsed": true,
    "hidden": true
   },
   "outputs": [],
   "source": [
    "joint_df.columns"
   ]
  },
  {
   "cell_type": "code",
   "execution_count": null,
   "metadata": {
    "ExecuteTime": {
     "end_time": "2018-04-10T18:16:09.888095Z",
     "start_time": "2018-04-10T18:16:09.874067Z"
    },
    "collapsed": true,
    "hidden": true
   },
   "outputs": [],
   "source": [
    "DF=joint_df.dropna(subset=[\"heterogeneous\"], axis=0)\n",
    "subset_df = DF.loc[DF[\"heterogeneous\"].str.contains(\"yes\"), liplvls+[\"heterogeneous\"]]\n",
    "#subset_df = DF.loc[DF[\"penumbra/margin\"]!=\"no\", liplvls+[\"penumbra/margin\"]]\n",
    "subset_df"
   ]
  },
  {
   "cell_type": "code",
   "execution_count": null,
   "metadata": {
    "ExecuteTime": {
     "end_time": "2018-04-10T18:16:20.021531Z",
     "start_time": "2018-04-10T18:16:20.017520Z"
    },
    "collapsed": true,
    "hidden": true
   },
   "outputs": [],
   "source": [
    "subset_df.index"
   ]
  },
  {
   "cell_type": "code",
   "execution_count": null,
   "metadata": {
    "collapsed": true,
    "hidden": true
   },
   "outputs": [],
   "source": [
    "rim = "
   ]
  },
  {
   "cell_type": "markdown",
   "metadata": {
    "hidden": true
   },
   "source": [
    "RIM: \"BM-07\", \"BM-30\", \"BM-32\", \"BM-37\"\n",
    "Homogeneous: \"BM-18\", \"BM-25\", \"BM-39\", \"PK-03\", \"PK-06\"\n",
    "Heterogeneous: \"BM-18\", \"BM-25\", \"BM-39\", \"PK-03\", \"PK-06\"\n",
    "Central deposition: 'BM-18', 'BM-23', 'BM-25', 'BM-31', 'BM-32', 'BM-39', 'PK-03', 'PK-08'\n",
    "Central recess: 'BM-01', 'BM-07', 'BM-12', 'BM-19', 'BM-24', 'BM-30', 'BM-36', 'PK-02', 'PK-05'\n",
    "Margin: 'BM-30', 'BM-32', 'BM-36', 'BM-37', 'BM-39', 'PK-02', 'PK-03', 'PK-05'"
   ]
  },
  {
   "cell_type": "code",
   "execution_count": null,
   "metadata": {
    "ExecuteTime": {
     "end_time": "2018-04-10T17:56:41.926326Z",
     "start_time": "2018-04-10T17:56:41.922316Z"
    },
    "collapsed": true,
    "hidden": true
   },
   "outputs": [],
   "source": [
    "len(['BM-01', 'BM-07', 'BM-12', 'BM-19', 'BM-24', 'BM-30', 'BM-36', 'PK-02', 'PK-05'])"
   ]
  },
  {
   "cell_type": "code",
   "execution_count": null,
   "metadata": {
    "ExecuteTime": {
     "end_time": "2018-04-10T18:16:42.005170Z",
     "start_time": "2018-04-10T18:16:42.002161Z"
    },
    "collapsed": true,
    "hidden": true
   },
   "outputs": [],
   "source": [
    "len(subset_df)"
   ]
  },
  {
   "cell_type": "code",
   "execution_count": null,
   "metadata": {
    "ExecuteTime": {
     "end_time": "2018-04-10T18:16:25.583163Z",
     "start_time": "2018-04-10T18:16:25.570128Z"
    },
    "collapsed": true,
    "hidden": true
   },
   "outputs": [],
   "source": [
    "subset_df = joint_df.loc[['BM-01', 'BM-02', 'BM-03', 'BM-05', 'BM-06', 'BM-07', 'BM-09', 'BM-10',\n",
    "       'BM-12', 'BM-19', 'BM-23', 'BM-24', 'BM-26', 'BM-27', 'BM-29', 'BM-30',\n",
    "       'BM-31', 'BM-32', 'BM-36', 'BM-37', 'BM-39', 'PK-02', 'PK-05', 'PK-07',\n",
    "       'PK-08'], [0,1,2,3]]\n",
    "subset_df"
   ]
  },
  {
   "cell_type": "code",
   "execution_count": 119,
   "metadata": {
    "ExecuteTime": {
     "end_time": "2018-04-10T18:16:29.863096Z",
     "start_time": "2018-04-10T18:16:29.858082Z"
    },
    "hidden": true
   },
   "outputs": [
    {
     "data": {
      "text/plain": [
       "array([0.49861879, 0.54283119, 0.60239339, 0.64819033])"
      ]
     },
     "execution_count": 119,
     "metadata": {},
     "output_type": "execute_result"
    }
   ],
   "source": [
    "#subset_df.mean().values\n",
    "subset_df.dropna().mean().values"
   ]
  },
  {
   "cell_type": "code",
   "execution_count": 47,
   "metadata": {
    "ExecuteTime": {
     "end_time": "2018-04-10T17:09:31.099557Z",
     "start_time": "2018-04-10T17:09:31.094546Z"
    },
    "hidden": true
   },
   "outputs": [
    {
     "name": "stdout",
     "output_type": "stream",
     "text": [
      "0.4725199969765699 0.7846028172462818\n"
     ]
    }
   ],
   "source": [
    "print(np.mean(subset_df[150]), np.mean(subset_df[200]))"
   ]
  },
  {
   "cell_type": "code",
   "execution_count": 514,
   "metadata": {
    "ExecuteTime": {
     "end_time": "2018-04-09T22:59:06.956145Z",
     "start_time": "2018-04-09T22:59:06.912028Z"
    },
    "collapsed": true,
    "hidden": true
   },
   "outputs": [],
   "source": [
    "vasc_depo_df.to_excel(writer, \"Vascularization-Deposition\")\n",
    "depo_resp_df.to_excel(writer, \"Deposition-Response\")\n",
    "writer.save()"
   ]
  },
  {
   "cell_type": "code",
   "execution_count": null,
   "metadata": {
    "ExecuteTime": {
     "end_time": "2018-04-09T22:38:50.145544Z",
     "start_time": "2018-04-09T22:38:50.129499Z"
    },
    "collapsed": true,
    "hidden": true
   },
   "outputs": [],
   "source": [
    "vasc_depo_df"
   ]
  },
  {
   "cell_type": "code",
   "execution_count": 515,
   "metadata": {
    "ExecuteTime": {
     "end_time": "2018-04-09T23:01:52.722991Z",
     "start_time": "2018-04-09T23:01:52.719981Z"
    },
    "collapsed": true,
    "hidden": true
   },
   "outputs": [],
   "source": [
    "liplvls=[0,100]#,250,300]#list(range(0,401,10))"
   ]
  },
  {
   "cell_type": "code",
   "execution_count": 516,
   "metadata": {
    "ExecuteTime": {
     "end_time": "2018-04-09T23:01:56.255227Z",
     "start_time": "2018-04-09T23:01:52.723994Z"
    },
    "collapsed": true,
    "hidden": true
   },
   "outputs": [],
   "source": [
    "importlib.reload(lm)\n",
    "vasc_depo_df_binary = pd.DataFrame(columns=liplvls)\n",
    "for lesion_id in lipresp_df.index:\n",
    "    vasc_depo_df_binary.loc[lesion_id] = lm.vascular_to_deposition(lesion_id, target_dir, liplvls, exclude_small=True)"
   ]
  },
  {
   "cell_type": "code",
   "execution_count": 517,
   "metadata": {
    "ExecuteTime": {
     "end_time": "2018-04-09T23:02:00.991907Z",
     "start_time": "2018-04-09T23:01:56.257180Z"
    },
    "collapsed": true,
    "hidden": true
   },
   "outputs": [],
   "source": [
    "depo_resp_df_binary = pd.DataFrame(columns=liplvls)\n",
    "for lesion_id in lipresp_df.index:\n",
    "    depo_resp_df_binary.loc[lesion_id] = lm.lip_to_response(lesion_id, target_dir, liplvls, exclude_small=False)"
   ]
  },
  {
   "cell_type": "code",
   "execution_count": 518,
   "metadata": {
    "ExecuteTime": {
     "end_time": "2018-04-09T23:02:18.152783Z",
     "start_time": "2018-04-09T23:02:18.112537Z"
    },
    "collapsed": true,
    "hidden": true
   },
   "outputs": [],
   "source": [
    "vasc_depo_df_binary.to_excel(writer, \"Vasc-Depo-binary\")\n",
    "depo_resp_df_binary.to_excel(writer, \"Depo-Resp-binary\")\n",
    "writer.save()"
   ]
  },
  {
   "cell_type": "markdown",
   "metadata": {
    "heading_collapsed": true
   },
   "source": [
    "## Create Ranked DICOMs"
   ]
  },
  {
   "cell_type": "code",
   "execution_count": 155,
   "metadata": {
    "ExecuteTime": {
     "end_time": "2018-04-23T03:52:49.798409Z",
     "start_time": "2018-04-23T03:48:51.327199Z"
    },
    "collapsed": true,
    "hidden": true
   },
   "outputs": [],
   "source": [
    "importlib.reload(lvis)\n",
    "lvis.write_ranked_imgs(pattern_df, target_dir, \"lipcoverage_vol\", \"P['ct24']['img']\", join(C.ranking_dir, \"coverage_ranking_ct24_fresh\"),\n",
    "                  False, \"P['ct24']['tumor']\", \"ct\")"
   ]
  },
  {
   "cell_type": "code",
   "execution_count": 92,
   "metadata": {
    "ExecuteTime": {
     "end_time": "2018-05-07T15:43:41.702653Z",
     "start_time": "2018-05-07T15:41:36.063570Z"
    },
    "collapsed": true,
    "hidden": true
   },
   "outputs": [],
   "source": [
    "importlib.reload(lvis)\n",
    "lvis.write_ranked_imgs(pattern_df, target_dir, \"rim_lipiodol\", \"P['ct24']['img']\", join(C.ranking_dir, \"rim_ranking_ct24\"),\n",
    "                  False, \"P['ct24']['tumor']\", \"ct\")"
   ]
  },
  {
   "cell_type": "code",
   "execution_count": null,
   "metadata": {
    "collapsed": true,
    "hidden": true
   },
   "outputs": [],
   "source": [
    "lvis.write_ranked_imgs(pattern_df, target_dir, \"low_peripheral\", \"P['ct24']['img']\", join(C.ranking_dir, \"penumbra_ranking_ct24\"),\n",
    "                  False, \"P['ct24']['tumor']\", \"ct\")"
   ]
  },
  {
   "cell_type": "code",
   "execution_count": 141,
   "metadata": {
    "ExecuteTime": {
     "end_time": "2018-04-09T02:23:42.999677Z",
     "start_time": "2018-04-09T02:23:42.598917Z"
    },
    "collapsed": true,
    "hidden": true
   },
   "outputs": [],
   "source": [
    "masks.create_dcm_with_masks(ball_ct24_path, [ball_mribl_enh_mask_path, ball_mri30d_enh_mask_path],\n",
    "                            save_dir, overwrite=True, window=\"ct\")"
   ]
  },
  {
   "cell_type": "markdown",
   "metadata": {
    "ExecuteTime": {
     "end_time": "2018-04-06T05:01:11.688839Z",
     "start_time": "2018-04-06T05:01:11.685831Z"
    },
    "heading_collapsed": true
   },
   "source": [
    "## Tumor Mask Screenshots"
   ]
  },
  {
   "cell_type": "code",
   "execution_count": null,
   "metadata": {
    "ExecuteTime": {
     "end_time": "2018-04-12T15:33:32.345316Z",
     "start_time": "2018-04-12T15:32:07.253084Z"
    },
    "collapsed": true,
    "hidden": true
   },
   "outputs": [],
   "source": [
    "importlib.reload(lm)\n",
    "for fn in glob.glob(join(target_dir,\"*\")):\n",
    "    lesion_id = basename(fn)\n",
    "    P = lm.get_paths_dict(lesion_id, target_dir)\n",
    "\n",
    "    lm.draw_unreg_fig(mribl_art_path, mribl_tumor_mask_path, join(C.png_dir, lesion_id, \"BL MR\"), 'b', 'mr')\n",
    "    lm.draw_unreg_fig(mri30d_art_path, mri30d_tumor_mask_path, join(C.png_dir, lesion_id, \"30d MR\"), 'r', 'mr')\n",
    "    lm.draw_unreg_fig(ct24_path, ct24_tumor_mask_path, join(C.png_dir, lesion_id, \"24h CT\"), 'g', 'ct')"
   ]
  },
  {
   "cell_type": "code",
   "execution_count": null,
   "metadata": {
    "collapsed": true,
    "hidden": true
   },
   "outputs": [],
   "source": [
    "lm.draw_reg_fig(ball_mribl_path, ball_mribl_enh_mask_path, join(C.fig_dir, lesion_id, \"MRIBL\"), 'b', 'mr')\n",
    "lm.draw_reg_fig(ball_mri30d_path, ball_mri30d_enh_mask_path, \"D:\\\\Lipiodol\\\\Figures\\\\MRI30d\", 'r', 'mr')\n",
    "lm.draw_reg_fig(ball_ct24_path, ball_highlip_mask_path, \"D:\\\\Lipiodol\\\\Figures\\\\Lip\", 'g', 'ct')"
   ]
  },
  {
   "cell_type": "code",
   "execution_count": null,
   "metadata": {
    "ExecuteTime": {
     "end_time": "2018-04-06T15:09:57.976409Z",
     "start_time": "2018-04-06T15:09:56.957128Z"
    },
    "collapsed": true,
    "hidden": true
   },
   "outputs": [],
   "source": [
    "# Figure for 24h CT\n",
    "img,_ = hf.nii_load(ball_ct24_path)\n",
    "blmask,_ = masks.get_mask(ball_mribl_enh_mask_path)\n",
    "fumask,_ = masks.get_mask(ball_mri30d_enh_mask_path)\n",
    "\n",
    "for sl in range(img.shape[-1]//4,img.shape[-1]*3//4,img.shape[-1]//12):\n",
    "    plt.close()\n",
    "    plt.imshow(img[...,sl], cmap='gray', vmin=30, vmax=250)\n",
    "    FU=plt.contour(fumask[:,:,sl], colors='r', alpha=.4)\n",
    "    plt.contour(blmask[:,:,sl], colors='b', alpha=.4)\n",
    "    plt.contourf(fumask[:,:,sl], colors=[(0,0,0,0)]*6+[(1,0,0,.2)]) #look at the length of FU.allsegs\n",
    "    plt.contourf(blmask[:,:,sl], colors=[(0,0,0,0)]*6+[(0,0,1,.2)])\n",
    "    plt.axis('off')\n",
    "    plt.savefig(\"D:\\\\Lipiodol\\\\Figures\\\\24hCT_%d.png\" % sl, dpi=100, bbox_inches='tight')"
   ]
  },
  {
   "cell_type": "markdown",
   "metadata": {
    "hidden": true
   },
   "source": [
    "### DICOMs for HU threshold validation"
   ]
  },
  {
   "cell_type": "code",
   "execution_count": 98,
   "metadata": {
    "ExecuteTime": {
     "end_time": "2018-04-29T05:28:13.361822Z",
     "start_time": "2018-04-29T05:23:26.966124Z"
    },
    "collapsed": true,
    "hidden": true
   },
   "outputs": [],
   "source": [
    "importlib.reload(masks)\n",
    "for lesion_id in lesions:\n",
    "    P = lm.get_paths_dict(lesion_id, target_dir)\n",
    "    masks.create_dcm_with_multimask(P[\"ct24\"][\"img\"], [P[\"ct24\"][\"highlip\"], P[\"ct24\"][\"midlip\"], P[\"ct24\"][\"lowlip\"]],\n",
    "                                    join(\"Z:\\Sophie\\HU threshold validation\", lesion_id), overwrite=True, padding=0, window=\"ct\")"
   ]
  },
  {
   "cell_type": "markdown",
   "metadata": {
    "heading_collapsed": true,
    "hidden": true
   },
   "source": [
    "### Binary masks for sphering figure"
   ]
  },
  {
   "cell_type": "code",
   "execution_count": null,
   "metadata": {
    "ExecuteTime": {
     "end_time": "2018-04-14T22:13:36.929832Z",
     "start_time": "2018-04-14T22:11:41.386701Z"
    },
    "collapsed": true,
    "hidden": true
   },
   "outputs": [],
   "source": [
    "importlib.reload(hf)\n",
    "liver_dir = join(C.fig_dir, \"sphering figure\", \"liver binary mask\")\n",
    "tumor_dir = join(C.fig_dir, \"sphering figure\", \"tumor binary mask\")\n",
    "if not exists(liver_dir):\n",
    "    os.makedirs(liver_dir)\n",
    "if not exists(tumor_dir):\n",
    "    os.makedirs(tumor_dir)\n",
    "                \n",
    "for fn in glob.glob(join(target_dir,\"*\")):\n",
    "    lesion_id = basename(fn)\n",
    "    paths = lm.get_paths(lesion_id, target_dir)\n",
    "\n",
    "    mask_dir, nii_dir, ct24_path, ct24_tumor_mask_path, ct24_liver_mask_path, \\\n",
    "    mribl_art_path, mribl_pre_path, mribl_sub_path, \\\n",
    "    mribl_tumor_mask_path, mribl_liver_mask_path, \\\n",
    "    mribl_enh_mask_path, mribl_nec_mask_path, \\\n",
    "    mri30d_art_path, mri30d_pre_path, \\\n",
    "    mri30d_tumor_mask_path, mri30d_liver_mask_path, \\\n",
    "    mri30d_enh_mask_path, mri30d_nec_mask_path, \\\n",
    "    ball_ct24_path, ball_mribl_path, ball_mri30d_path, \\\n",
    "    ball_mask_path, ball_mribl_enh_mask_path, ball_mri30d_enh_mask_path, \\\n",
    "    midlip_mask_path, ball_midlip_mask_path, \\\n",
    "    highlip_mask_path, ball_highlip_mask_path = paths\n",
    "    \n",
    "    if False:\n",
    "        M = hf.crop_nonzero(masks.get_mask(mribl_liver_mask_path)[0], pad=5)[0]\n",
    "        plt.imshow(M[:,:,M.shape[-1]//2], cmap='gray')\n",
    "        plt.axis('off')\n",
    "        plt.savefig(join(liver_dir, \"%s_BLMR.png\" % lesion_id), dpi=100, bbox_inches='tight')\n",
    "\n",
    "        M = hf.crop_nonzero(masks.get_mask(ct24_liver_mask_path)[0], pad=5)[0]\n",
    "        plt.imshow(M[:,:,M.shape[-1]//2], cmap='gray')\n",
    "        plt.axis('off')\n",
    "        plt.savefig(join(liver_dir, \"%s_24hCT.png\" % lesion_id), dpi=100, bbox_inches='tight')\n",
    "\n",
    "        M = hf.crop_nonzero(masks.get_mask(mri30d_liver_mask_path)[0], pad=5)[0]\n",
    "        plt.imshow(M[:,:,M.shape[-1]//2], cmap='gray')\n",
    "        plt.axis('off')\n",
    "        plt.savefig(join(liver_dir, \"%s_30dMR.png\" % lesion_id), dpi=100, bbox_inches='tight')\n",
    "\n",
    "    M = hf.crop_nonzero(masks.get_mask(mribl_tumor_mask_path)[0], pad=5)[0]\n",
    "    plt.imshow(M[:,:,M.shape[-1]//2], cmap='gray')\n",
    "    plt.axis('off')\n",
    "    plt.savefig(join(tumor_dir, \"%s_BLMR.png\" % lesion_id), dpi=100, bbox_inches='tight')\n",
    "                \n",
    "    M = hf.crop_nonzero(masks.get_mask(ct24_tumor_mask_path)[0], pad=5)[0]\n",
    "    plt.imshow(M[:,:,M.shape[-1]//2], cmap='gray')\n",
    "    plt.axis('off')\n",
    "    plt.savefig(join(tumor_dir, \"%s_24hCT.png\" % lesion_id), dpi=100, bbox_inches='tight')\n",
    "\n",
    "    M = hf.crop_nonzero(masks.get_mask(mri30d_tumor_mask_path)[0], pad=5)[0]\n",
    "    plt.imshow(M[:,:,M.shape[-1]//2], cmap='gray')\n",
    "    plt.axis('off')\n",
    "    plt.savefig(join(tumor_dir, \"%s_30dMR.png\" % lesion_id), dpi=100, bbox_inches='tight')"
   ]
  },
  {
   "cell_type": "code",
   "execution_count": null,
   "metadata": {
    "collapsed": true,
    "hidden": true
   },
   "outputs": [],
   "source": [
    "importlib.reload(hf)\n",
    "liver_dir = join(C.fig_dir, \"sphering figure\", \"liver with mask\")\n",
    "tumor_dir = join(C.fig_dir, \"sphering figure\", \"tumor with mask\")\n",
    "if not exists(liver_dir):\n",
    "    os.makedirs(liver_dir)\n",
    "if not exists(tumor_dir):\n",
    "    os.makedirs(tumor_dir)\n",
    "                \n",
    "for fn in glob.glob(join(target_dir,\"*\")):\n",
    "    lesion_id = basename(fn)\n",
    "    paths = lm.get_paths(lesion_id, target_dir)\n",
    "\n",
    "    mask_dir, nii_dir, ct24_path, ct24_tumor_mask_path, ct24_liver_mask_path, \\\n",
    "    mribl_art_path, mribl_pre_path, mribl_sub_path, \\\n",
    "    mribl_tumor_mask_path, mribl_liver_mask_path, \\\n",
    "    mribl_enh_mask_path, mribl_nec_mask_path, \\\n",
    "    mri30d_art_path, mri30d_pre_path, \\\n",
    "    mri30d_tumor_mask_path, mri30d_liver_mask_path, \\\n",
    "    mri30d_enh_mask_path, mri30d_nec_mask_path, \\\n",
    "    ball_ct24_path, ball_mribl_path, ball_mri30d_path, \\\n",
    "    ball_mask_path, ball_mribl_enh_mask_path, ball_mri30d_enh_mask_path, \\\n",
    "    midlip_mask_path, ball_midlip_mask_path, \\\n",
    "    highlip_mask_path, ball_highlip_mask_path = paths\n",
    "    \n",
    "    M = hf.crop_nonzero(masks.get_mask(mribl_liver_mask_path)[0], pad=5)[0]\n",
    "    plt.imshow(M[:,:,M.shape[-1]//2], cmap='gray')\n",
    "    plt.axis('off')\n",
    "    plt.savefig(join(liver_dir, \"%s_BLMR.png\" % lesion_id), dpi=100, bbox_inches='tight')\n",
    "\n",
    "    M = hf.crop_nonzero(masks.get_mask(ct24_liver_mask_path)[0], pad=5)[0]\n",
    "    plt.imshow(M[:,:,M.shape[-1]//2], cmap='gray')\n",
    "    plt.axis('off')\n",
    "    plt.savefig(join(liver_dir, \"%s_24hCT.png\" % lesion_id), dpi=100, bbox_inches='tight')\n",
    "\n",
    "    M = hf.crop_nonzero(masks.get_mask(mri30d_liver_mask_path)[0], pad=5)[0]\n",
    "    plt.imshow(M[:,:,M.shape[-1]//2], cmap='gray')\n",
    "    plt.axis('off')\n",
    "    plt.savefig(join(liver_dir, \"%s_30dMR.png\" % lesion_id), dpi=100, bbox_inches='tight')\n",
    "\n",
    "    M = hf.crop_nonzero(masks.get_mask(mribl_tumor_mask_path)[0], pad=5)[0]\n",
    "    plt.imshow(M[:,:,M.shape[-1]//2], cmap='gray')\n",
    "    plt.axis('off')\n",
    "    plt.savefig(join(tumor_dir, \"%s_BLMR.png\" % lesion_id), dpi=100, bbox_inches='tight')\n",
    "                \n",
    "    M = hf.crop_nonzero(masks.get_mask(ct24_tumor_mask_path)[0], pad=5)[0]\n",
    "    plt.imshow(M[:,:,M.shape[-1]//2], cmap='gray')\n",
    "    plt.axis('off')\n",
    "    plt.savefig(join(tumor_dir, \"%s_24hCT.png\" % lesion_id), dpi=100, bbox_inches='tight')\n",
    "\n",
    "    M = hf.crop_nonzero(masks.get_mask(mri30d_tumor_mask_path)[0], pad=5)[0]\n",
    "    plt.imshow(M[:,:,M.shape[-1]//2], cmap='gray')\n",
    "    plt.axis('off')\n",
    "    plt.savefig(join(tumor_dir, \"%s_30dMR.png\" % lesion_id), dpi=100, bbox_inches='tight')"
   ]
  },
  {
   "cell_type": "code",
   "execution_count": null,
   "metadata": {
    "ExecuteTime": {
     "end_time": "2018-04-15T00:24:45.209030Z",
     "start_time": "2018-04-15T00:24:44.976228Z"
    },
    "collapsed": true,
    "hidden": true
   },
   "outputs": [],
   "source": [
    "M = hf.crop_nonzero(masks.get_mask(ball_mask_path)[0], pad=5)[0]\n",
    "plt.imshow(M[:,:,M.shape[-1]//2+40], cmap='gray')\n",
    "plt.axis('off')\n",
    "plt.savefig(\"D:\\\\ball.png\", dpi=100, bbox_inches='tight')"
   ]
  }
 ],
 "metadata": {
  "kernelspec": {
   "display_name": "Python 3",
   "language": "python",
   "name": "python3"
  },
  "language_info": {
   "codemirror_mode": {
    "name": "ipython",
    "version": 3
   },
   "file_extension": ".py",
   "mimetype": "text/x-python",
   "name": "python",
   "nbconvert_exporter": "python",
   "pygments_lexer": "ipython3",
   "version": "3.5.0"
  },
  "varInspector": {
   "cols": {
    "lenName": 16,
    "lenType": 16,
    "lenVar": 40
   },
   "kernels_config": {
    "python": {
     "delete_cmd_postfix": "",
     "delete_cmd_prefix": "del ",
     "library": "var_list.py",
     "varRefreshCmd": "print(var_dic_list())"
    },
    "r": {
     "delete_cmd_postfix": ") ",
     "delete_cmd_prefix": "rm(",
     "library": "var_list.r",
     "varRefreshCmd": "cat(var_dic_list()) "
    }
   },
   "types_to_exclude": [
    "module",
    "function",
    "builtin_function_or_method",
    "instance",
    "_Feature"
   ],
   "window_display": false
  }
 },
 "nbformat": 4,
 "nbformat_minor": 2
}
