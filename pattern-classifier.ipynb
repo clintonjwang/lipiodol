{
 "cells": [
  {
   "cell_type": "markdown",
   "metadata": {},
   "source": [
    "## Imports"
   ]
  },
  {
   "cell_type": "code",
   "execution_count": 2,
   "metadata": {
    "ExecuteTime": {
     "end_time": "2018-04-11T16:39:15.271388Z",
     "start_time": "2018-04-11T16:39:12.768591Z"
    }
   },
   "outputs": [
    {
     "name": "stderr",
     "output_type": "stream",
     "text": [
      "C:\\Users\\Clinton\\AppData\\Local\\conda\\conda\\envs\\old-keras\\lib\\site-packages\\h5py\\__init__.py:34: FutureWarning: Conversion of the second argument of issubdtype from `float` to `np.floating` is deprecated. In future, it will be treated as `np.float64 == np.dtype(float).type`.\n",
      "  from ._conv import register_converters as _register_converters\n",
      "Using TensorFlow backend.\n"
     ]
    }
   ],
   "source": [
    "import copy\n",
    "import glob\n",
    "import importlib\n",
    "import itertools\n",
    "import math\n",
    "import os\n",
    "import random\n",
    "import shutil\n",
    "import sys\n",
    "from math import degrees, pi, radians\n",
    "from os.path import *\n",
    "\n",
    "import matplotlib.pyplot as plt\n",
    "import numpy as np\n",
    "import pandas as pd\n",
    "import scipy.stats\n",
    "import SimpleITK as sitk\n",
    "import skimage.feature as skf\n",
    "from skimage.morphology import ball\n",
    "\n",
    "import cnn_builder as cbuild\n",
    "import config\n",
    "import lipiodol_methods as lm\n",
    "import niftiutils.helper_fxns as hf\n",
    "import niftiutils.masks as masks\n",
    "import niftiutils.registration as reg\n",
    "import niftiutils.transforms as tr\n",
    "from config import Config\n",
    "\n",
    "%matplotlib inline"
   ]
  },
  {
   "cell_type": "code",
   "execution_count": 362,
   "metadata": {
    "ExecuteTime": {
     "end_time": "2018-04-14T16:02:16.310383Z",
     "start_time": "2018-04-14T16:02:16.303365Z"
    },
    "collapsed": true,
    "scrolled": true
   },
   "outputs": [],
   "source": [
    "importlib.reload(config)\n",
    "C = config.Config()\n",
    "target_dir = \"D:\\\\Lipiodol\\\\Data\""
   ]
  },
  {
   "cell_type": "markdown",
   "metadata": {
    "collapsed": true
   },
   "source": [
    "## Pattern analysis"
   ]
  },
  {
   "cell_type": "code",
   "execution_count": 416,
   "metadata": {
    "ExecuteTime": {
     "end_time": "2018-04-15T19:39:51.629890Z",
     "start_time": "2018-04-15T19:39:51.625879Z"
    },
    "collapsed": true
   },
   "outputs": [],
   "source": [
    "patients = [basename(fn) for fn in glob.glob(join(target_dir,\"*\"))]\n",
    "num_patients = len(patients)"
   ]
  },
  {
   "cell_type": "code",
   "execution_count": 315,
   "metadata": {
    "ExecuteTime": {
     "end_time": "2018-04-09T18:49:25.303098Z",
     "start_time": "2018-04-09T18:49:25.297079Z"
    },
    "collapsed": true
   },
   "outputs": [],
   "source": [
    "patient_id = \"PK-08\"\n",
    "importlib.reload(lm)\n",
    "paths = lm.get_paths(patient_id, target_dir, check_valid=False)\n",
    "\n",
    "mask_dir, nii_dir, ct24_path, ct24_tumor_mask_path, ct24_liver_mask_path, \\\n",
    "mribl_art_path, mribl_pre_path, \\\n",
    "mribl_tumor_mask_path, mribl_liver_mask_path, \\\n",
    "mribl_enh_mask_path, mribl_nec_mask_path, \\\n",
    "mri30d_art_path, mri30d_pre_path, \\\n",
    "mri30d_tumor_mask_path, mri30d_liver_mask_path, \\\n",
    "mri30d_enh_mask_path, mri30d_nec_mask_path, \\\n",
    "ball_ct24_path, ball_mribl_path, ball_mri30d_path, \\\n",
    "ball_mask_path, ball_mribl_enh_mask_path, ball_mri30d_enh_mask_path, \\\n",
    "midlip_mask_path, ball_midlip_mask_path, \\\n",
    "highlip_mask_path, ball_highlip_mask_path = paths"
   ]
  },
  {
   "cell_type": "markdown",
   "metadata": {
    "heading_collapsed": true
   },
   "source": [
    "### Validate HU scale"
   ]
  },
  {
   "cell_type": "code",
   "execution_count": 357,
   "metadata": {
    "ExecuteTime": {
     "end_time": "2018-04-14T02:47:50.969796Z",
     "start_time": "2018-04-14T02:45:47.193505Z"
    },
    "hidden": true
   },
   "outputs": [],
   "source": [
    "LI = []\n",
    "for fn in glob.glob(join(target_dir,\"*\")):\n",
    "    patient_id = basename(fn)\n",
    "    paths = lm.get_paths(patient_id, target_dir)\n",
    "\n",
    "    mask_dir, nii_dir, ct24_path, ct24_tumor_mask_path, ct24_liver_mask_path, \\\n",
    "    mribl_art_path, mribl_pre_path, \\\n",
    "    mribl_tumor_mask_path, mribl_liver_mask_path, \\\n",
    "    mribl_enh_mask_path, mribl_nec_mask_path, \\\n",
    "    mri30d_art_path, mri30d_pre_path, \\\n",
    "    mri30d_tumor_mask_path, mri30d_liver_mask_path, \\\n",
    "    mri30d_enh_mask_path, mri30d_nec_mask_path, \\\n",
    "    ball_ct24_path, ball_mribl_path, ball_mri30d_path, \\\n",
    "    ball_mask_path, ball_mribl_enh_mask_path, ball_mri30d_enh_mask_path, \\\n",
    "    midlip_mask_path, ball_midlip_mask_path, \\\n",
    "    highlip_mask_path, ball_highlip_mask_path = paths\n",
    "    \n",
    "    img,D = hf.nii_load(ct24_path)\n",
    "    M = masks.get_mask(ct24_tumor_mask_path, D, img.shape)[0]\n",
    "    img = img*M/M.max()\n",
    "    \n",
    "    LI.append(filters.threshold_li(img[img > 100]))"
   ]
  },
  {
   "cell_type": "code",
   "execution_count": 342,
   "metadata": {
    "ExecuteTime": {
     "end_time": "2018-04-13T21:27:25.389282Z",
     "start_time": "2018-04-13T21:27:25.384268Z"
    },
    "hidden": true
   },
   "outputs": [
    {
     "data": {
      "text/plain": [
       "(159.8438546709155, 215.4651656444234)"
      ]
     },
     "execution_count": 342,
     "metadata": {},
     "output_type": "execute_result"
    }
   ],
   "source": [
    "np.percentile(LI, 100/3), np.percentile(LI, 200/3)"
   ]
  },
  {
   "cell_type": "markdown",
   "metadata": {},
   "source": [
    "### Build DataFrame"
   ]
  },
  {
   "cell_type": "code",
   "execution_count": 405,
   "metadata": {
    "ExecuteTime": {
     "end_time": "2018-04-15T18:55:54.899205Z",
     "start_time": "2018-04-15T18:55:54.892187Z"
    },
    "collapsed": true
   },
   "outputs": [],
   "source": [
    "pattern_feat_cols = [\"enhancing_vol%\", \"lipcoverage_vol%\",\n",
    "                       \"rim_enhancing%\", \"rim_lipiodol%\",\n",
    "                       \"peripheral_coverage%\"]\n",
    "\n",
    "lipresp_cols = []\n",
    "for name in itertools.product([\"base_\", \"low_\", \"mid_\", \"high_\"], [\"resp%\", \"prog%\", \"bl_enh%\", \"30d_enh%\"]):\n",
    "    lipresp_cols.append(name[0]+name[1])\n",
    "    \n",
    "# resp% is the % of BL enhancing tumor that becomes necrotic within this lipiodol range\n",
    "# prog% is the % of BL necrotic tumor that becomes enhancing within this lipiodol range\n",
    "# bl_enh% is the % of tumor within this lipiodol range that is enhancing on BL MR\n",
    "# 30d_enh% is the % of tumor within this lipiodol range that is enhancing on 30d MR"
   ]
  },
  {
   "cell_type": "code",
   "execution_count": 406,
   "metadata": {
    "ExecuteTime": {
     "end_time": "2018-04-15T18:55:58.800927Z",
     "start_time": "2018-04-15T18:55:58.795918Z"
    },
    "collapsed": true
   },
   "outputs": [],
   "source": [
    "pattern_df = pd.DataFrame(columns=pattern_feat_cols)\n",
    "lipresp_df = pd.DataFrame(columns=lipresp_cols)"
   ]
  },
  {
   "cell_type": "markdown",
   "metadata": {
    "ExecuteTime": {
     "end_time": "2018-04-09T19:43:44.592180Z",
     "start_time": "2018-04-09T19:43:44.588158Z"
    }
   },
   "source": [
    "for name in lipresp_cols:\n",
    "    df.loc[:,\"peripheral_coverage%\"]=pd.Series(np.random.randn(len(df)), index=df.index)"
   ]
  },
  {
   "cell_type": "code",
   "execution_count": 430,
   "metadata": {
    "ExecuteTime": {
     "end_time": "2018-04-09T20:25:24.157520Z",
     "start_time": "2018-04-09T20:25:24.153509Z"
    },
    "collapsed": true
   },
   "outputs": [],
   "source": [
    "importlib.reload(config)\n",
    "C = config.Config()"
   ]
  },
  {
   "cell_type": "code",
   "execution_count": 402,
   "metadata": {
    "ExecuteTime": {
     "end_time": "2018-04-15T18:50:33.363748Z",
     "start_time": "2018-04-15T18:50:33.168132Z"
    },
    "collapsed": true
   },
   "outputs": [],
   "source": [
    "pattern_df = pd.read_excel(C.data_xls_path, \"Patterns\")\n",
    "lipresp_df = pd.read_excel(C.data_xls_path, \"Lip-Resp\")\n",
    "vasc_depo_df = pd.read_excel(C.data_xls_path, \"Vascularization-Deposition\")\n",
    "depo_resp_df = pd.read_excel(C.data_xls_path, \"Deposition-Response\")\n",
    "vasc_depo_df_binary = pd.read_excel(C.data_xls_path, \"Vasc-Depo-binary\")\n",
    "depo_resp_df_binary = pd.read_excel(C.data_xls_path, \"Depo-Resp-binary\")"
   ]
  },
  {
   "cell_type": "code",
   "execution_count": 403,
   "metadata": {
    "ExecuteTime": {
     "end_time": "2018-04-15T18:50:35.147313Z",
     "start_time": "2018-04-15T18:50:35.142273Z"
    },
    "collapsed": true
   },
   "outputs": [],
   "source": [
    "writer = pd.ExcelWriter(C.data_xls_path)"
   ]
  },
  {
   "cell_type": "code",
   "execution_count": 62,
   "metadata": {
    "ExecuteTime": {
     "end_time": "2018-04-09T01:28:27.166787Z",
     "start_time": "2018-04-09T01:28:27.162775Z"
    }
   },
   "outputs": [
    {
     "data": {
      "text/plain": [
       "27"
      ]
     },
     "execution_count": 62,
     "metadata": {},
     "output_type": "execute_result"
    }
   ],
   "source": [
    "[basename(fn) for fn in glob.glob(join(target_dir,\"*\"))].index('PK-02')"
   ]
  },
  {
   "cell_type": "markdown",
   "metadata": {},
   "source": [
    "### Get Patterns"
   ]
  },
  {
   "cell_type": "code",
   "execution_count": 493,
   "metadata": {
    "ExecuteTime": {
     "end_time": "2018-04-15T22:23:51.243979Z",
     "start_time": "2018-04-15T22:18:51.196853Z"
    },
    "collapsed": true,
    "scrolled": true
   },
   "outputs": [],
   "source": [
    "importlib.reload(lm)\n",
    "for fn in glob.glob(join(target_dir,\"*\")):\n",
    "    patient_id = basename(fn)\n",
    "    paths = lm.get_paths(patient_id, target_dir)\n",
    "\n",
    "    mask_dir, nii_dir, ct24_path, ct24_tumor_mask_path, ct24_liver_mask_path, \\\n",
    "    mribl_art_path, mribl_pre_path, \\\n",
    "    mribl_tumor_mask_path, mribl_liver_mask_path, \\\n",
    "    mribl_enh_mask_path, mribl_nec_mask_path, \\\n",
    "    mri30d_art_path, mri30d_pre_path, \\\n",
    "    mri30d_tumor_mask_path, mri30d_liver_mask_path, \\\n",
    "    mri30d_enh_mask_path, mri30d_nec_mask_path, \\\n",
    "    ball_ct24_path, ball_mribl_path, ball_mri30d_path, \\\n",
    "    ball_mask_path, ball_mribl_enh_mask_path, ball_mri30d_enh_mask_path, \\\n",
    "    midlip_mask_path, ball_midlip_mask_path, \\\n",
    "    highlip_mask_path, ball_highlip_mask_path = paths\n",
    "\n",
    "    core_IV = lm.get_avg_core_intensity(ball_ct24_path, ball_mask_path)\n",
    "    row=[]\n",
    "    row = lm.get_rim_coverage(row, masks.get_mask(ball_mribl_enh_mask_path)[0] + 1, ball_mask_path, 1.5)\n",
    "    row = lm.get_rim_coverage(row, hf.nii_load(ball_ct24_path)[0], ball_mask_path, max(core_IV,150))\n",
    "    \n",
    "    pattern_df.loc[patient_id, [\"rim_enhancing%\", \"rim_lipiodol%\"]] = row"
   ]
  },
  {
   "cell_type": "code",
   "execution_count": 16,
   "metadata": {
    "ExecuteTime": {
     "end_time": "2018-04-11T20:28:38.270682Z",
     "start_time": "2018-04-11T20:28:32.573535Z"
    },
    "collapsed": true
   },
   "outputs": [],
   "source": [
    "patient_id = \"BM-27\"\n",
    "pattern_df.loc[patient_id] = lm.get_row_entry(patient_id, target_dir)"
   ]
  },
  {
   "cell_type": "code",
   "execution_count": null,
   "metadata": {
    "ExecuteTime": {
     "end_time": "2018-04-15T19:02:38.423347Z",
     "start_time": "2018-04-15T18:58:12.608969Z"
    },
    "collapsed": true
   },
   "outputs": [],
   "source": [
    "importlib.reload(lm)\n",
    "for fn in glob.glob(join(target_dir,\"*\")):\n",
    "    patient_id = basename(fn)\n",
    "    print(patient_id)\n",
    "    #lm.spherize(patient_id, target_dir)\n",
    "    pattern_df.loc[patient_id] = lm.get_row_entry(patient_id, target_dir)"
   ]
  },
  {
   "cell_type": "code",
   "execution_count": 438,
   "metadata": {
    "ExecuteTime": {
     "end_time": "2018-04-09T20:32:14.736305Z",
     "start_time": "2018-04-09T20:32:00.042255Z"
    }
   },
   "outputs": [
    {
     "name": "stderr",
     "output_type": "stream",
     "text": [
      "C:\\Users\\Clinton\\Documents\\Lipiodol\\lipiodol_methods.py:136: RuntimeWarning: invalid value encountered in long_scalars\n",
      "  samples = np.round(samples).astype(int)\n"
     ]
    }
   ],
   "source": [
    "importlib.reload(lm)\n",
    "for fn in glob.glob(join(target_dir,\"*\")):\n",
    "    patient_id = basename(fn)\n",
    "    lips = lm.enhancing_to_nec(patient_id, target_dir, liplvls)\n",
    "    lipresp_df.loc[ix] = np.round(np.array(lips)*100,2).flatten()"
   ]
  },
  {
   "cell_type": "code",
   "execution_count": 512,
   "metadata": {
    "ExecuteTime": {
     "end_time": "2018-04-09T22:59:00.750596Z",
     "start_time": "2018-04-09T22:59:00.719514Z"
    },
    "collapsed": true
   },
   "outputs": [],
   "source": [
    "pattern_df.to_excel(writer, \"Patterns\")\n",
    "#lipresp_df.to_excel(writer, \"Lip-Resp\")\n",
    "#writer.save()"
   ]
  },
  {
   "cell_type": "markdown",
   "metadata": {},
   "source": [
    "## Correlating Vasc/Lip Deposition"
   ]
  },
  {
   "cell_type": "code",
   "execution_count": 414,
   "metadata": {
    "ExecuteTime": {
     "end_time": "2018-04-15T19:30:54.769800Z",
     "start_time": "2018-04-15T19:30:54.758612Z"
    },
    "collapsed": true
   },
   "outputs": [],
   "source": [
    "liplvls=[0,100,150,200]#,250,300]#list(range(0,401,10))"
   ]
  },
  {
   "cell_type": "code",
   "execution_count": null,
   "metadata": {
    "ExecuteTime": {
     "end_time": "2018-04-15T21:33:54.281234Z",
     "start_time": "2018-04-15T21:33:47.095219Z"
    },
    "collapsed": true
   },
   "outputs": [],
   "source": [
    "importlib.reload(lm)\n",
    "vasc_depo_df = pd.DataFrame(columns=np.transpose([[str(L)+\"N\", str(L)+\"V\"] for L in liplvls], (1,0)).flatten())\n",
    "for patient_id in patients:\n",
    "    print(patient_id)\n",
    "    vasc_depo_df.loc[patient_id] = lm.vascular_to_deposition(patient_id, target_dir, liplvls, exclude_small=True)"
   ]
  },
  {
   "cell_type": "code",
   "execution_count": null,
   "metadata": {
    "ExecuteTime": {
     "end_time": "2018-04-15T21:33:34.969574Z",
     "start_time": "2018-04-15T21:33:28.668960Z"
    },
    "collapsed": true
   },
   "outputs": [],
   "source": [
    "importlib.reload(lm)\n",
    "depo_resp_df = pd.DataFrame(columns=liplvls)\n",
    "for patient_id in patients:\n",
    "    print(patient_id)\n",
    "    depo_resp_df.loc[patient_id] = lm.lip_to_response(patient_id, target_dir, liplvls, exclude_small=False)"
   ]
  },
  {
   "cell_type": "code",
   "execution_count": 448,
   "metadata": {
    "ExecuteTime": {
     "end_time": "2018-04-15T21:48:33.132876Z",
     "start_time": "2018-04-15T21:48:33.127863Z"
    },
    "collapsed": true
   },
   "outputs": [],
   "source": [
    "Vdf = vasc_depo_df.dropna()\n",
    "Rdf = depo_resp_df.dropna()"
   ]
  },
  {
   "cell_type": "markdown",
   "metadata": {
    "ExecuteTime": {
     "end_time": "2018-04-15T21:48:45.978055Z",
     "start_time": "2018-04-15T21:48:45.975046Z"
    }
   },
   "source": [
    "### Vascular nums"
   ]
  },
  {
   "cell_type": "code",
   "execution_count": null,
   "metadata": {
    "ExecuteTime": {
     "end_time": "2018-04-15T21:37:54.189456Z",
     "start_time": "2018-04-15T21:37:54.184415Z"
    },
    "collapsed": true
   },
   "outputs": [],
   "source": [
    "Vdf.mean()"
   ]
  },
  {
   "cell_type": "code",
   "execution_count": null,
   "metadata": {
    "ExecuteTime": {
     "end_time": "2018-04-15T21:39:33.066477Z",
     "start_time": "2018-04-15T21:39:33.060461Z"
    },
    "collapsed": true
   },
   "outputs": [],
   "source": [
    "Vdf[pattern_df[\"enhancing_vol%\"] > .75].mean()"
   ]
  },
  {
   "cell_type": "code",
   "execution_count": null,
   "metadata": {
    "ExecuteTime": {
     "end_time": "2018-04-15T21:39:33.339403Z",
     "start_time": "2018-04-15T21:39:33.332408Z"
    },
    "collapsed": true
   },
   "outputs": [],
   "source": [
    "Vdf[pattern_df[\"enhancing_vol%\"] < .25].mean()"
   ]
  },
  {
   "cell_type": "code",
   "execution_count": null,
   "metadata": {
    "ExecuteTime": {
     "end_time": "2018-04-15T21:39:45.299810Z",
     "start_time": "2018-04-15T21:39:45.293797Z"
    },
    "collapsed": true
   },
   "outputs": [],
   "source": [
    "Vdf[pattern_df[\"rim_enhancing%\"] > .75].mean()"
   ]
  },
  {
   "cell_type": "markdown",
   "metadata": {},
   "source": [
    "### Response nums"
   ]
  },
  {
   "cell_type": "code",
   "execution_count": 543,
   "metadata": {
    "ExecuteTime": {
     "end_time": "2018-04-16T01:42:10.227295Z",
     "start_time": "2018-04-16T01:42:10.119916Z"
    },
    "collapsed": true
   },
   "outputs": [],
   "source": [
    "import seaborn as sns"
   ]
  },
  {
   "cell_type": "code",
   "execution_count": 544,
   "metadata": {
    "ExecuteTime": {
     "end_time": "2018-04-16T01:42:16.710519Z",
     "start_time": "2018-04-16T01:42:16.705506Z"
    },
    "collapsed": true
   },
   "outputs": [],
   "source": [
    "sns.set(style=\"ticks\")"
   ]
  },
  {
   "cell_type": "code",
   "execution_count": 597,
   "metadata": {
    "ExecuteTime": {
     "end_time": "2018-04-16T02:12:25.568797Z",
     "start_time": "2018-04-16T02:12:25.564786Z"
    },
    "collapsed": true
   },
   "outputs": [],
   "source": [
    "pos = np.stack([MEAN, FOCAL, INFIL])\n",
    "step = np.tile(range(4), 3)\n",
    "walk = np.repeat([\"Mean\", \"Focal\", \"Infiltrative\"], 4)"
   ]
  },
  {
   "cell_type": "code",
   "execution_count": 587,
   "metadata": {
    "ExecuteTime": {
     "end_time": "2018-04-16T01:57:22.925610Z",
     "start_time": "2018-04-16T01:57:22.921581Z"
    }
   },
   "outputs": [],
   "source": [
    "df = pd.DataFrame(np.c_[pos.flat, step, walk], columns=[\"Response\", \"Lipiodol Deposition\", \"Group\"])"
   ]
  },
  {
   "cell_type": "code",
   "execution_count": 603,
   "metadata": {
    "ExecuteTime": {
     "end_time": "2018-04-16T02:13:24.293117Z",
     "start_time": "2018-04-16T02:13:24.288104Z"
    },
    "scrolled": true
   },
   "outputs": [],
   "source": [
    "df.Response = df.Response.astype(float)"
   ]
  },
  {
   "cell_type": "code",
   "execution_count": 592,
   "metadata": {
    "ExecuteTime": {
     "end_time": "2018-04-16T02:10:09.669353Z",
     "start_time": "2018-04-16T02:10:09.646292Z"
    },
    "scrolled": true
   },
   "outputs": [
    {
     "data": {
      "text/html": [
       "<div>\n",
       "<style>\n",
       "    .dataframe thead tr:only-child th {\n",
       "        text-align: right;\n",
       "    }\n",
       "\n",
       "    .dataframe thead th {\n",
       "        text-align: left;\n",
       "    }\n",
       "\n",
       "    .dataframe tbody tr th {\n",
       "        vertical-align: top;\n",
       "    }\n",
       "</style>\n",
       "<table border=\"1\" class=\"dataframe\">\n",
       "  <thead>\n",
       "    <tr style=\"text-align: right;\">\n",
       "      <th></th>\n",
       "      <th>Unnamed: 0</th>\n",
       "      <th>id</th>\n",
       "      <th>diet</th>\n",
       "      <th>pulse</th>\n",
       "      <th>time</th>\n",
       "      <th>kind</th>\n",
       "    </tr>\n",
       "  </thead>\n",
       "  <tbody>\n",
       "    <tr>\n",
       "      <th>0</th>\n",
       "      <td>0</td>\n",
       "      <td>1</td>\n",
       "      <td>low fat</td>\n",
       "      <td>85</td>\n",
       "      <td>1 min</td>\n",
       "      <td>rest</td>\n",
       "    </tr>\n",
       "    <tr>\n",
       "      <th>1</th>\n",
       "      <td>1</td>\n",
       "      <td>1</td>\n",
       "      <td>low fat</td>\n",
       "      <td>85</td>\n",
       "      <td>15 min</td>\n",
       "      <td>rest</td>\n",
       "    </tr>\n",
       "    <tr>\n",
       "      <th>2</th>\n",
       "      <td>2</td>\n",
       "      <td>1</td>\n",
       "      <td>low fat</td>\n",
       "      <td>88</td>\n",
       "      <td>30 min</td>\n",
       "      <td>rest</td>\n",
       "    </tr>\n",
       "    <tr>\n",
       "      <th>3</th>\n",
       "      <td>3</td>\n",
       "      <td>2</td>\n",
       "      <td>low fat</td>\n",
       "      <td>90</td>\n",
       "      <td>1 min</td>\n",
       "      <td>rest</td>\n",
       "    </tr>\n",
       "    <tr>\n",
       "      <th>4</th>\n",
       "      <td>4</td>\n",
       "      <td>2</td>\n",
       "      <td>low fat</td>\n",
       "      <td>92</td>\n",
       "      <td>15 min</td>\n",
       "      <td>rest</td>\n",
       "    </tr>\n",
       "    <tr>\n",
       "      <th>5</th>\n",
       "      <td>5</td>\n",
       "      <td>2</td>\n",
       "      <td>low fat</td>\n",
       "      <td>93</td>\n",
       "      <td>30 min</td>\n",
       "      <td>rest</td>\n",
       "    </tr>\n",
       "    <tr>\n",
       "      <th>6</th>\n",
       "      <td>6</td>\n",
       "      <td>3</td>\n",
       "      <td>low fat</td>\n",
       "      <td>97</td>\n",
       "      <td>1 min</td>\n",
       "      <td>rest</td>\n",
       "    </tr>\n",
       "    <tr>\n",
       "      <th>7</th>\n",
       "      <td>7</td>\n",
       "      <td>3</td>\n",
       "      <td>low fat</td>\n",
       "      <td>97</td>\n",
       "      <td>15 min</td>\n",
       "      <td>rest</td>\n",
       "    </tr>\n",
       "    <tr>\n",
       "      <th>8</th>\n",
       "      <td>8</td>\n",
       "      <td>3</td>\n",
       "      <td>low fat</td>\n",
       "      <td>94</td>\n",
       "      <td>30 min</td>\n",
       "      <td>rest</td>\n",
       "    </tr>\n",
       "    <tr>\n",
       "      <th>9</th>\n",
       "      <td>9</td>\n",
       "      <td>4</td>\n",
       "      <td>low fat</td>\n",
       "      <td>80</td>\n",
       "      <td>1 min</td>\n",
       "      <td>rest</td>\n",
       "    </tr>\n",
       "    <tr>\n",
       "      <th>10</th>\n",
       "      <td>10</td>\n",
       "      <td>4</td>\n",
       "      <td>low fat</td>\n",
       "      <td>82</td>\n",
       "      <td>15 min</td>\n",
       "      <td>rest</td>\n",
       "    </tr>\n",
       "    <tr>\n",
       "      <th>11</th>\n",
       "      <td>11</td>\n",
       "      <td>4</td>\n",
       "      <td>low fat</td>\n",
       "      <td>83</td>\n",
       "      <td>30 min</td>\n",
       "      <td>rest</td>\n",
       "    </tr>\n",
       "    <tr>\n",
       "      <th>12</th>\n",
       "      <td>12</td>\n",
       "      <td>5</td>\n",
       "      <td>low fat</td>\n",
       "      <td>91</td>\n",
       "      <td>1 min</td>\n",
       "      <td>rest</td>\n",
       "    </tr>\n",
       "    <tr>\n",
       "      <th>13</th>\n",
       "      <td>13</td>\n",
       "      <td>5</td>\n",
       "      <td>low fat</td>\n",
       "      <td>92</td>\n",
       "      <td>15 min</td>\n",
       "      <td>rest</td>\n",
       "    </tr>\n",
       "    <tr>\n",
       "      <th>14</th>\n",
       "      <td>14</td>\n",
       "      <td>5</td>\n",
       "      <td>low fat</td>\n",
       "      <td>91</td>\n",
       "      <td>30 min</td>\n",
       "      <td>rest</td>\n",
       "    </tr>\n",
       "    <tr>\n",
       "      <th>15</th>\n",
       "      <td>15</td>\n",
       "      <td>6</td>\n",
       "      <td>no fat</td>\n",
       "      <td>83</td>\n",
       "      <td>1 min</td>\n",
       "      <td>rest</td>\n",
       "    </tr>\n",
       "    <tr>\n",
       "      <th>16</th>\n",
       "      <td>16</td>\n",
       "      <td>6</td>\n",
       "      <td>no fat</td>\n",
       "      <td>83</td>\n",
       "      <td>15 min</td>\n",
       "      <td>rest</td>\n",
       "    </tr>\n",
       "    <tr>\n",
       "      <th>17</th>\n",
       "      <td>17</td>\n",
       "      <td>6</td>\n",
       "      <td>no fat</td>\n",
       "      <td>84</td>\n",
       "      <td>30 min</td>\n",
       "      <td>rest</td>\n",
       "    </tr>\n",
       "    <tr>\n",
       "      <th>18</th>\n",
       "      <td>18</td>\n",
       "      <td>7</td>\n",
       "      <td>no fat</td>\n",
       "      <td>87</td>\n",
       "      <td>1 min</td>\n",
       "      <td>rest</td>\n",
       "    </tr>\n",
       "    <tr>\n",
       "      <th>19</th>\n",
       "      <td>19</td>\n",
       "      <td>7</td>\n",
       "      <td>no fat</td>\n",
       "      <td>88</td>\n",
       "      <td>15 min</td>\n",
       "      <td>rest</td>\n",
       "    </tr>\n",
       "    <tr>\n",
       "      <th>20</th>\n",
       "      <td>20</td>\n",
       "      <td>7</td>\n",
       "      <td>no fat</td>\n",
       "      <td>90</td>\n",
       "      <td>30 min</td>\n",
       "      <td>rest</td>\n",
       "    </tr>\n",
       "    <tr>\n",
       "      <th>21</th>\n",
       "      <td>21</td>\n",
       "      <td>8</td>\n",
       "      <td>no fat</td>\n",
       "      <td>92</td>\n",
       "      <td>1 min</td>\n",
       "      <td>rest</td>\n",
       "    </tr>\n",
       "    <tr>\n",
       "      <th>22</th>\n",
       "      <td>22</td>\n",
       "      <td>8</td>\n",
       "      <td>no fat</td>\n",
       "      <td>94</td>\n",
       "      <td>15 min</td>\n",
       "      <td>rest</td>\n",
       "    </tr>\n",
       "    <tr>\n",
       "      <th>23</th>\n",
       "      <td>23</td>\n",
       "      <td>8</td>\n",
       "      <td>no fat</td>\n",
       "      <td>95</td>\n",
       "      <td>30 min</td>\n",
       "      <td>rest</td>\n",
       "    </tr>\n",
       "    <tr>\n",
       "      <th>24</th>\n",
       "      <td>24</td>\n",
       "      <td>9</td>\n",
       "      <td>no fat</td>\n",
       "      <td>97</td>\n",
       "      <td>1 min</td>\n",
       "      <td>rest</td>\n",
       "    </tr>\n",
       "    <tr>\n",
       "      <th>25</th>\n",
       "      <td>25</td>\n",
       "      <td>9</td>\n",
       "      <td>no fat</td>\n",
       "      <td>99</td>\n",
       "      <td>15 min</td>\n",
       "      <td>rest</td>\n",
       "    </tr>\n",
       "    <tr>\n",
       "      <th>26</th>\n",
       "      <td>26</td>\n",
       "      <td>9</td>\n",
       "      <td>no fat</td>\n",
       "      <td>96</td>\n",
       "      <td>30 min</td>\n",
       "      <td>rest</td>\n",
       "    </tr>\n",
       "    <tr>\n",
       "      <th>27</th>\n",
       "      <td>27</td>\n",
       "      <td>10</td>\n",
       "      <td>no fat</td>\n",
       "      <td>100</td>\n",
       "      <td>1 min</td>\n",
       "      <td>rest</td>\n",
       "    </tr>\n",
       "    <tr>\n",
       "      <th>28</th>\n",
       "      <td>28</td>\n",
       "      <td>10</td>\n",
       "      <td>no fat</td>\n",
       "      <td>97</td>\n",
       "      <td>15 min</td>\n",
       "      <td>rest</td>\n",
       "    </tr>\n",
       "    <tr>\n",
       "      <th>29</th>\n",
       "      <td>29</td>\n",
       "      <td>10</td>\n",
       "      <td>no fat</td>\n",
       "      <td>100</td>\n",
       "      <td>30 min</td>\n",
       "      <td>rest</td>\n",
       "    </tr>\n",
       "    <tr>\n",
       "      <th>...</th>\n",
       "      <td>...</td>\n",
       "      <td>...</td>\n",
       "      <td>...</td>\n",
       "      <td>...</td>\n",
       "      <td>...</td>\n",
       "      <td>...</td>\n",
       "    </tr>\n",
       "    <tr>\n",
       "      <th>60</th>\n",
       "      <td>60</td>\n",
       "      <td>21</td>\n",
       "      <td>low fat</td>\n",
       "      <td>93</td>\n",
       "      <td>1 min</td>\n",
       "      <td>running</td>\n",
       "    </tr>\n",
       "    <tr>\n",
       "      <th>61</th>\n",
       "      <td>61</td>\n",
       "      <td>21</td>\n",
       "      <td>low fat</td>\n",
       "      <td>98</td>\n",
       "      <td>15 min</td>\n",
       "      <td>running</td>\n",
       "    </tr>\n",
       "    <tr>\n",
       "      <th>62</th>\n",
       "      <td>62</td>\n",
       "      <td>21</td>\n",
       "      <td>low fat</td>\n",
       "      <td>110</td>\n",
       "      <td>30 min</td>\n",
       "      <td>running</td>\n",
       "    </tr>\n",
       "    <tr>\n",
       "      <th>63</th>\n",
       "      <td>63</td>\n",
       "      <td>22</td>\n",
       "      <td>low fat</td>\n",
       "      <td>98</td>\n",
       "      <td>1 min</td>\n",
       "      <td>running</td>\n",
       "    </tr>\n",
       "    <tr>\n",
       "      <th>64</th>\n",
       "      <td>64</td>\n",
       "      <td>22</td>\n",
       "      <td>low fat</td>\n",
       "      <td>104</td>\n",
       "      <td>15 min</td>\n",
       "      <td>running</td>\n",
       "    </tr>\n",
       "    <tr>\n",
       "      <th>65</th>\n",
       "      <td>65</td>\n",
       "      <td>22</td>\n",
       "      <td>low fat</td>\n",
       "      <td>112</td>\n",
       "      <td>30 min</td>\n",
       "      <td>running</td>\n",
       "    </tr>\n",
       "    <tr>\n",
       "      <th>66</th>\n",
       "      <td>66</td>\n",
       "      <td>23</td>\n",
       "      <td>low fat</td>\n",
       "      <td>98</td>\n",
       "      <td>1 min</td>\n",
       "      <td>running</td>\n",
       "    </tr>\n",
       "    <tr>\n",
       "      <th>67</th>\n",
       "      <td>67</td>\n",
       "      <td>23</td>\n",
       "      <td>low fat</td>\n",
       "      <td>105</td>\n",
       "      <td>15 min</td>\n",
       "      <td>running</td>\n",
       "    </tr>\n",
       "    <tr>\n",
       "      <th>68</th>\n",
       "      <td>68</td>\n",
       "      <td>23</td>\n",
       "      <td>low fat</td>\n",
       "      <td>99</td>\n",
       "      <td>30 min</td>\n",
       "      <td>running</td>\n",
       "    </tr>\n",
       "    <tr>\n",
       "      <th>69</th>\n",
       "      <td>69</td>\n",
       "      <td>24</td>\n",
       "      <td>low fat</td>\n",
       "      <td>87</td>\n",
       "      <td>1 min</td>\n",
       "      <td>running</td>\n",
       "    </tr>\n",
       "    <tr>\n",
       "      <th>70</th>\n",
       "      <td>70</td>\n",
       "      <td>24</td>\n",
       "      <td>low fat</td>\n",
       "      <td>132</td>\n",
       "      <td>15 min</td>\n",
       "      <td>running</td>\n",
       "    </tr>\n",
       "    <tr>\n",
       "      <th>71</th>\n",
       "      <td>71</td>\n",
       "      <td>24</td>\n",
       "      <td>low fat</td>\n",
       "      <td>120</td>\n",
       "      <td>30 min</td>\n",
       "      <td>running</td>\n",
       "    </tr>\n",
       "    <tr>\n",
       "      <th>72</th>\n",
       "      <td>72</td>\n",
       "      <td>25</td>\n",
       "      <td>low fat</td>\n",
       "      <td>94</td>\n",
       "      <td>1 min</td>\n",
       "      <td>running</td>\n",
       "    </tr>\n",
       "    <tr>\n",
       "      <th>73</th>\n",
       "      <td>73</td>\n",
       "      <td>25</td>\n",
       "      <td>low fat</td>\n",
       "      <td>110</td>\n",
       "      <td>15 min</td>\n",
       "      <td>running</td>\n",
       "    </tr>\n",
       "    <tr>\n",
       "      <th>74</th>\n",
       "      <td>74</td>\n",
       "      <td>25</td>\n",
       "      <td>low fat</td>\n",
       "      <td>116</td>\n",
       "      <td>30 min</td>\n",
       "      <td>running</td>\n",
       "    </tr>\n",
       "    <tr>\n",
       "      <th>75</th>\n",
       "      <td>75</td>\n",
       "      <td>26</td>\n",
       "      <td>no fat</td>\n",
       "      <td>95</td>\n",
       "      <td>1 min</td>\n",
       "      <td>running</td>\n",
       "    </tr>\n",
       "    <tr>\n",
       "      <th>76</th>\n",
       "      <td>76</td>\n",
       "      <td>26</td>\n",
       "      <td>no fat</td>\n",
       "      <td>126</td>\n",
       "      <td>15 min</td>\n",
       "      <td>running</td>\n",
       "    </tr>\n",
       "    <tr>\n",
       "      <th>77</th>\n",
       "      <td>77</td>\n",
       "      <td>26</td>\n",
       "      <td>no fat</td>\n",
       "      <td>143</td>\n",
       "      <td>30 min</td>\n",
       "      <td>running</td>\n",
       "    </tr>\n",
       "    <tr>\n",
       "      <th>78</th>\n",
       "      <td>78</td>\n",
       "      <td>27</td>\n",
       "      <td>no fat</td>\n",
       "      <td>100</td>\n",
       "      <td>1 min</td>\n",
       "      <td>running</td>\n",
       "    </tr>\n",
       "    <tr>\n",
       "      <th>79</th>\n",
       "      <td>79</td>\n",
       "      <td>27</td>\n",
       "      <td>no fat</td>\n",
       "      <td>126</td>\n",
       "      <td>15 min</td>\n",
       "      <td>running</td>\n",
       "    </tr>\n",
       "    <tr>\n",
       "      <th>80</th>\n",
       "      <td>80</td>\n",
       "      <td>27</td>\n",
       "      <td>no fat</td>\n",
       "      <td>140</td>\n",
       "      <td>30 min</td>\n",
       "      <td>running</td>\n",
       "    </tr>\n",
       "    <tr>\n",
       "      <th>81</th>\n",
       "      <td>81</td>\n",
       "      <td>28</td>\n",
       "      <td>no fat</td>\n",
       "      <td>103</td>\n",
       "      <td>1 min</td>\n",
       "      <td>running</td>\n",
       "    </tr>\n",
       "    <tr>\n",
       "      <th>82</th>\n",
       "      <td>82</td>\n",
       "      <td>28</td>\n",
       "      <td>no fat</td>\n",
       "      <td>124</td>\n",
       "      <td>15 min</td>\n",
       "      <td>running</td>\n",
       "    </tr>\n",
       "    <tr>\n",
       "      <th>83</th>\n",
       "      <td>83</td>\n",
       "      <td>28</td>\n",
       "      <td>no fat</td>\n",
       "      <td>140</td>\n",
       "      <td>30 min</td>\n",
       "      <td>running</td>\n",
       "    </tr>\n",
       "    <tr>\n",
       "      <th>84</th>\n",
       "      <td>84</td>\n",
       "      <td>29</td>\n",
       "      <td>no fat</td>\n",
       "      <td>94</td>\n",
       "      <td>1 min</td>\n",
       "      <td>running</td>\n",
       "    </tr>\n",
       "    <tr>\n",
       "      <th>85</th>\n",
       "      <td>85</td>\n",
       "      <td>29</td>\n",
       "      <td>no fat</td>\n",
       "      <td>135</td>\n",
       "      <td>15 min</td>\n",
       "      <td>running</td>\n",
       "    </tr>\n",
       "    <tr>\n",
       "      <th>86</th>\n",
       "      <td>86</td>\n",
       "      <td>29</td>\n",
       "      <td>no fat</td>\n",
       "      <td>130</td>\n",
       "      <td>30 min</td>\n",
       "      <td>running</td>\n",
       "    </tr>\n",
       "    <tr>\n",
       "      <th>87</th>\n",
       "      <td>87</td>\n",
       "      <td>30</td>\n",
       "      <td>no fat</td>\n",
       "      <td>99</td>\n",
       "      <td>1 min</td>\n",
       "      <td>running</td>\n",
       "    </tr>\n",
       "    <tr>\n",
       "      <th>88</th>\n",
       "      <td>88</td>\n",
       "      <td>30</td>\n",
       "      <td>no fat</td>\n",
       "      <td>111</td>\n",
       "      <td>15 min</td>\n",
       "      <td>running</td>\n",
       "    </tr>\n",
       "    <tr>\n",
       "      <th>89</th>\n",
       "      <td>89</td>\n",
       "      <td>30</td>\n",
       "      <td>no fat</td>\n",
       "      <td>150</td>\n",
       "      <td>30 min</td>\n",
       "      <td>running</td>\n",
       "    </tr>\n",
       "  </tbody>\n",
       "</table>\n",
       "<p>90 rows × 6 columns</p>\n",
       "</div>"
      ],
      "text/plain": [
       "    Unnamed: 0  id     diet  pulse    time     kind\n",
       "0            0   1  low fat     85   1 min     rest\n",
       "1            1   1  low fat     85  15 min     rest\n",
       "2            2   1  low fat     88  30 min     rest\n",
       "3            3   2  low fat     90   1 min     rest\n",
       "4            4   2  low fat     92  15 min     rest\n",
       "5            5   2  low fat     93  30 min     rest\n",
       "6            6   3  low fat     97   1 min     rest\n",
       "7            7   3  low fat     97  15 min     rest\n",
       "8            8   3  low fat     94  30 min     rest\n",
       "9            9   4  low fat     80   1 min     rest\n",
       "10          10   4  low fat     82  15 min     rest\n",
       "11          11   4  low fat     83  30 min     rest\n",
       "12          12   5  low fat     91   1 min     rest\n",
       "13          13   5  low fat     92  15 min     rest\n",
       "14          14   5  low fat     91  30 min     rest\n",
       "15          15   6   no fat     83   1 min     rest\n",
       "16          16   6   no fat     83  15 min     rest\n",
       "17          17   6   no fat     84  30 min     rest\n",
       "18          18   7   no fat     87   1 min     rest\n",
       "19          19   7   no fat     88  15 min     rest\n",
       "20          20   7   no fat     90  30 min     rest\n",
       "21          21   8   no fat     92   1 min     rest\n",
       "22          22   8   no fat     94  15 min     rest\n",
       "23          23   8   no fat     95  30 min     rest\n",
       "24          24   9   no fat     97   1 min     rest\n",
       "25          25   9   no fat     99  15 min     rest\n",
       "26          26   9   no fat     96  30 min     rest\n",
       "27          27  10   no fat    100   1 min     rest\n",
       "28          28  10   no fat     97  15 min     rest\n",
       "29          29  10   no fat    100  30 min     rest\n",
       "..         ...  ..      ...    ...     ...      ...\n",
       "60          60  21  low fat     93   1 min  running\n",
       "61          61  21  low fat     98  15 min  running\n",
       "62          62  21  low fat    110  30 min  running\n",
       "63          63  22  low fat     98   1 min  running\n",
       "64          64  22  low fat    104  15 min  running\n",
       "65          65  22  low fat    112  30 min  running\n",
       "66          66  23  low fat     98   1 min  running\n",
       "67          67  23  low fat    105  15 min  running\n",
       "68          68  23  low fat     99  30 min  running\n",
       "69          69  24  low fat     87   1 min  running\n",
       "70          70  24  low fat    132  15 min  running\n",
       "71          71  24  low fat    120  30 min  running\n",
       "72          72  25  low fat     94   1 min  running\n",
       "73          73  25  low fat    110  15 min  running\n",
       "74          74  25  low fat    116  30 min  running\n",
       "75          75  26   no fat     95   1 min  running\n",
       "76          76  26   no fat    126  15 min  running\n",
       "77          77  26   no fat    143  30 min  running\n",
       "78          78  27   no fat    100   1 min  running\n",
       "79          79  27   no fat    126  15 min  running\n",
       "80          80  27   no fat    140  30 min  running\n",
       "81          81  28   no fat    103   1 min  running\n",
       "82          82  28   no fat    124  15 min  running\n",
       "83          83  28   no fat    140  30 min  running\n",
       "84          84  29   no fat     94   1 min  running\n",
       "85          85  29   no fat    135  15 min  running\n",
       "86          86  29   no fat    130  30 min  running\n",
       "87          87  30   no fat     99   1 min  running\n",
       "88          88  30   no fat    111  15 min  running\n",
       "89          89  30   no fat    150  30 min  running\n",
       "\n",
       "[90 rows x 6 columns]"
      ]
     },
     "execution_count": 592,
     "metadata": {},
     "output_type": "execute_result"
    }
   ],
   "source": [
    "exercise"
   ]
  },
  {
   "cell_type": "code",
   "execution_count": 637,
   "metadata": {
    "ExecuteTime": {
     "end_time": "2018-04-16T04:02:22.625317Z",
     "start_time": "2018-04-16T04:02:22.621307Z"
    },
    "collapsed": true
   },
   "outputs": [],
   "source": [
    "df = pd.DataFrame(columns=[\"Response\", \"Lesion_id\", \"Lipiodol Deposition\", \"All\",\n",
    "                       \"Focal/Infiltrative\", \"Tumor Type\", \"TACE Type\", \"Homogeneous\", \"Sparse\", \"Rim\"])"
   ]
  },
  {
   "cell_type": "code",
   "execution_count": 654,
   "metadata": {
    "ExecuteTime": {
     "end_time": "2018-04-16T04:03:22.323903Z",
     "start_time": "2018-04-16T04:03:22.312874Z"
    }
   },
   "outputs": [
    {
     "data": {
      "text/html": [
       "<div>\n",
       "<style>\n",
       "    .dataframe thead tr:only-child th {\n",
       "        text-align: right;\n",
       "    }\n",
       "\n",
       "    .dataframe thead th {\n",
       "        text-align: left;\n",
       "    }\n",
       "\n",
       "    .dataframe tbody tr th {\n",
       "        vertical-align: top;\n",
       "    }\n",
       "</style>\n",
       "<table border=\"1\" class=\"dataframe\">\n",
       "  <thead>\n",
       "    <tr style=\"text-align: right;\">\n",
       "      <th></th>\n",
       "      <th>Response</th>\n",
       "      <th>Lesion_id</th>\n",
       "      <th>Lipiodol Deposition</th>\n",
       "      <th>All</th>\n",
       "      <th>Focal/Infiltrative</th>\n",
       "      <th>Tumor Type</th>\n",
       "      <th>TACE Type</th>\n",
       "      <th>Homogeneous</th>\n",
       "      <th>Sparse</th>\n",
       "      <th>Rim</th>\n",
       "    </tr>\n",
       "  </thead>\n",
       "  <tbody>\n",
       "    <tr>\n",
       "      <th>0</th>\n",
       "      <td>0.994969</td>\n",
       "      <td>BM-01</td>\n",
       "      <td>0</td>\n",
       "      <td>Mean</td>\n",
       "      <td>0</td>\n",
       "      <td>0</td>\n",
       "      <td>NaN</td>\n",
       "      <td>False</td>\n",
       "      <td>False</td>\n",
       "      <td>True</td>\n",
       "    </tr>\n",
       "    <tr>\n",
       "      <th>1</th>\n",
       "      <td>0.994969</td>\n",
       "      <td>BM-01</td>\n",
       "      <td>0</td>\n",
       "      <td>Mean</td>\n",
       "      <td>0</td>\n",
       "      <td>0</td>\n",
       "      <td>NaN</td>\n",
       "      <td>False</td>\n",
       "      <td>False</td>\n",
       "      <td>True</td>\n",
       "    </tr>\n",
       "    <tr>\n",
       "      <th>2</th>\n",
       "      <td>0.994969</td>\n",
       "      <td>BM-01</td>\n",
       "      <td>0</td>\n",
       "      <td>Mean</td>\n",
       "      <td>0</td>\n",
       "      <td>0</td>\n",
       "      <td>NaN</td>\n",
       "      <td>False</td>\n",
       "      <td>False</td>\n",
       "      <td>True</td>\n",
       "    </tr>\n",
       "    <tr>\n",
       "      <th>3</th>\n",
       "      <td>0.994969</td>\n",
       "      <td>BM-01</td>\n",
       "      <td>0</td>\n",
       "      <td>Mean</td>\n",
       "      <td>0</td>\n",
       "      <td>0</td>\n",
       "      <td>NaN</td>\n",
       "      <td>False</td>\n",
       "      <td>False</td>\n",
       "      <td>True</td>\n",
       "    </tr>\n",
       "  </tbody>\n",
       "</table>\n",
       "</div>"
      ],
      "text/plain": [
       "   Response Lesion_id Lipiodol Deposition   All Focal/Infiltrative Tumor Type  \\\n",
       "0  0.994969     BM-01                   0  Mean                  0          0   \n",
       "1  0.994969     BM-01                   0  Mean                  0          0   \n",
       "2  0.994969     BM-01                   0  Mean                  0          0   \n",
       "3  0.994969     BM-01                   0  Mean                  0          0   \n",
       "\n",
       "   TACE Type Homogeneous Sparse   Rim  \n",
       "0        NaN       False  False  True  \n",
       "1        NaN       False  False  True  \n",
       "2        NaN       False  False  True  \n",
       "3        NaN       False  False  True  "
      ]
     },
     "execution_count": 654,
     "metadata": {},
     "output_type": "execute_result"
    }
   ],
   "source": [
    "df"
   ]
  },
  {
   "cell_type": "code",
   "execution_count": 669,
   "metadata": {
    "ExecuteTime": {
     "end_time": "2018-04-16T04:07:22.210828Z",
     "start_time": "2018-04-16T04:07:22.126607Z"
    },
    "collapsed": true
   },
   "outputs": [],
   "source": [
    "master_df = pd.read_excel(r\"D:\\Lipiodol\\MASTER SOPHIE.xlsx\", \"Lesions analyzed\", index_col=\"Lesion_ID\")#\"C:\\Users\\Clinton\\Box\\FOR CLINTON BOX FOLDER\\MASTER SS SOPHIE.xlsx\")"
   ]
  },
  {
   "cell_type": "code",
   "execution_count": 674,
   "metadata": {
    "ExecuteTime": {
     "end_time": "2018-04-16T04:11:21.534113Z",
     "start_time": "2018-04-16T04:11:21.204985Z"
    },
    "scrolled": true
   },
   "outputs": [],
   "source": [
    "ix = 0\n",
    "for lesion_id, row in Rdf.iterrows():\n",
    "    const = [\"Mean\",\n",
    "              master_df.loc[lesion_id, \"0=well delineated, 1=infiltrative\"],\n",
    "              master_df.loc[lesion_id, \"HCC(0), ICC(1), other(2)\"],\n",
    "              master_df.loc[lesion_id, \"selective=0\"],\n",
    "              pattern_df.loc[lesion_id, \"lipcoverage_vol%\"] > .75,\n",
    "              pattern_df.loc[lesion_id, \"lipcoverage_vol%\"] < .25,\n",
    "              pattern_df.loc[lesion_id, \"rim_lipiodol%\"] > .3]\n",
    "    for i in range(4):\n",
    "        df.loc[ix+i] = [row[liplvls[i]], lesion_id, [\"None\", \"Low\", \"Medium\", \"High\"][i]] + const\n",
    "    ix += 4"
   ]
  },
  {
   "cell_type": "code",
   "execution_count": 687,
   "metadata": {
    "ExecuteTime": {
     "end_time": "2018-04-16T04:18:01.038224Z",
     "start_time": "2018-04-16T04:18:01.033209Z"
    }
   },
   "outputs": [
    {
     "data": {
      "text/plain": [
       "[<matplotlib.collections.PathCollection at 0x2a6131a4cc0>,\n",
       " <matplotlib.collections.PathCollection at 0x2a613184128>]"
      ]
     },
     "execution_count": 687,
     "metadata": {},
     "output_type": "execute_result"
    }
   ],
   "source": [
    "g.collections"
   ]
  },
  {
   "cell_type": "code",
   "execution_count": 705,
   "metadata": {
    "ExecuteTime": {
     "end_time": "2018-04-16T04:24:27.185407Z",
     "start_time": "2018-04-16T04:24:27.037221Z"
    },
    "scrolled": true
   },
   "outputs": [
    {
     "data": {
      "image/png": "[encoded data removed]",
      "text/plain": [
       "<matplotlib.figure.Figure at 0x2a61035a908>"
      ]
     },
     "metadata": {},
     "output_type": "display_data"
    }
   ],
   "source": [
    "g = sns.factorplot(x=\"Lipiodol Deposition\", y=\"Response\", hue=\"Focal/Infiltrative\", data=df, size=3, ci=None, markers=[\"s\", \"o\"])#, col_wrap=2\n",
    "#plt.setp(g.collections[0], sizes=[100], label=\"x\")\n",
    "#plt.plot(df[\"Lipiodol Deposition\"], df[\"Response\"], linestyle='None', marker=\"s\", color=\"r\", markersize=10)\n",
    "#grid.map(plt.axhline, y=0, ls=\":\", c=\".5\")\n",
    "#grid.map(plt.plot, , marker=\"o\", ms=4)\n",
    "#grid.set(xticks=np.arange(5), yticks=[-3, 3], xlim=(-.5, 4.5), ylim=(-3.5, 3.5))\n",
    "#grid.fig.tight_layout(w_pad=1)"
   ]
  },
  {
   "cell_type": "code",
   "execution_count": 697,
   "metadata": {
    "ExecuteTime": {
     "end_time": "2018-04-16T04:21:57.484192Z",
     "start_time": "2018-04-16T04:21:57.481183Z"
    },
    "collapsed": true
   },
   "outputs": [],
   "source": [
    "from matplotlib.lines import Line2D"
   ]
  },
  {
   "cell_type": "code",
   "execution_count": 698,
   "metadata": {
    "ExecuteTime": {
     "end_time": "2018-04-16T04:22:09.188250Z",
     "start_time": "2018-04-16T04:22:09.184239Z"
    },
    "scrolled": true
   },
   "outputs": [
    {
     "data": {
      "text/plain": [
       "{0: 'tickleft',\n",
       " 1: 'tickright',\n",
       " 'd': 'thin_diamond',\n",
       " 3: 'tickdown',\n",
       " 4: 'caretleft',\n",
       " 5: 'caretright',\n",
       " 6: 'caretup',\n",
       " 7: 'caretdown',\n",
       " 8: 'caretleftbase',\n",
       " 9: 'caretrightbase',\n",
       " 10: 'caretupbase',\n",
       " 2: 'tickup',\n",
       " '<': 'triangle_left',\n",
       " '_': 'hline',\n",
       " 'P': 'plus_filled',\n",
       " 'x': 'x',\n",
       " 'h': 'hexagon1',\n",
       " '8': 'octagon',\n",
       " 'p': 'pentagon',\n",
       " 11: 'caretdownbase',\n",
       " '+': 'plus',\n",
       " '2': 'tri_up',\n",
       " 'v': 'triangle_down',\n",
       " 'H': 'hexagon2',\n",
       " '3': 'tri_left',\n",
       " '|': 'vline',\n",
       " '^': 'triangle_up',\n",
       " None: 'nothing',\n",
       " '1': 'tri_down',\n",
       " '4': 'tri_right',\n",
       " '>': 'triangle_right',\n",
       " 'o': 'circle',\n",
       " ',': 'pixel',\n",
       " 'D': 'diamond',\n",
       " '.': 'point',\n",
       " 's': 'square',\n",
       " '*': 'star',\n",
       " ' ': 'nothing',\n",
       " '': 'nothing',\n",
       " 'None': 'nothing',\n",
       " 'X': 'x_filled'}"
      ]
     },
     "execution_count": 698,
     "metadata": {},
     "output_type": "execute_result"
    }
   ],
   "source": [
    "Line2D.markers"
   ]
  },
  {
   "cell_type": "code",
   "execution_count": 694,
   "metadata": {
    "ExecuteTime": {
     "end_time": "2018-04-16T04:19:09.483141Z",
     "start_time": "2018-04-16T04:19:09.476122Z"
    }
   },
   "outputs": [
    {
     "name": "stdout",
     "output_type": "stream",
     "text": [
      "  agg_filter: unknown\n",
      "  alpha: float or None \n",
      "  animated: [True | False] \n",
      "  antialiased or antialiaseds: Boolean or sequence of booleans \n",
      "  array: unknown\n",
      "  axes: an :class:`~matplotlib.axes.Axes` instance \n",
      "  clim: a length 2 sequence of floats \n",
      "  clip_box: a :class:`matplotlib.transforms.Bbox` instance \n",
      "  clip_on: [True | False] \n",
      "  clip_path: [ (:class:`~matplotlib.path.Path`, :class:`~matplotlib.transforms.Transform`) | :class:`~matplotlib.patches.Patch` | None ] \n",
      "  cmap: a colormap or registered colormap name \n",
      "  color: matplotlib color arg or sequence of rgba tuples\n",
      "  contains: a callable function \n",
      "  edgecolor or edgecolors: matplotlib color spec or sequence of specs \n",
      "  facecolor or facecolors: matplotlib color spec or sequence of specs \n",
      "  figure: a :class:`matplotlib.figure.Figure` instance \n",
      "  gid: an id string \n",
      "  hatch: [ '/' | '\\\\' | '|' | '-' | '+' | 'x' | 'o' | 'O' | '.' | '*' ] \n",
      "  label: string or anything printable with '%s' conversion. \n",
      "  linestyle or dashes or linestyles: ['solid' | 'dashed', 'dashdot', 'dotted' | (offset, on-off-dash-seq) | ``'-'`` | ``'--'`` | ``'-.'`` | ``':'`` | ``'None'`` | ``' '`` | ``''``]\n",
      "  linewidth or linewidths or lw: float or sequence of floats \n",
      "  norm: unknown\n",
      "  offset_position: unknown\n",
      "  offsets: float or sequence of floats \n",
      "  path_effects: unknown\n",
      "  paths: unknown\n",
      "  picker: [None|float|boolean|callable] \n",
      "  pickradius: unknown\n",
      "  rasterized: [True | False | None] \n",
      "  sizes: unknown\n",
      "  sketch_params: unknown\n",
      "  snap: unknown\n",
      "  transform: :class:`~matplotlib.transforms.Transform` instance \n",
      "  url: a url string \n",
      "  urls: unknown\n",
      "  visible: [True | False] \n",
      "  zorder: any number \n"
     ]
    }
   ],
   "source": [
    "plt.setp(g.collections[0])"
   ]
  },
  {
   "cell_type": "code",
   "execution_count": null,
   "metadata": {
    "collapsed": true
   },
   "outputs": [],
   "source": [
    "grid = sns.factorplot(x=\"Lipiodol Deposition\", y=\"Response\", hue=\"Focal/Infiltrative\", data=df, size=3, ci=None)"
   ]
  },
  {
   "cell_type": "code",
   "execution_count": null,
   "metadata": {
    "collapsed": true
   },
   "outputs": [],
   "source": [
    "def format_plt():\n",
    "    plt.ylim(.3,1)\n",
    "    plt.xticks(range(4), [\"None\", \"Low\", \"Medium\", \"High\"])"
   ]
  },
  {
   "cell_type": "code",
   "execution_count": 542,
   "metadata": {
    "ExecuteTime": {
     "end_time": "2018-04-16T01:39:37.673743Z",
     "start_time": "2018-04-16T01:39:37.594562Z"
    },
    "collapsed": true
   },
   "outputs": [
    {
     "data": {
      "text/plain": [
       "([<matplotlib.axis.XTick at 0x2a6138621d0>,\n",
       "  <matplotlib.axis.XTick at 0x2a604a19358>,\n",
       "  <matplotlib.axis.XTick at 0x2a604a1a710>,\n",
       "  <matplotlib.axis.XTick at 0x2a601ad31d0>],\n",
       " <a list of 4 Text xticklabel objects>)"
      ]
     },
     "execution_count": 542,
     "metadata": {},
     "output_type": "execute_result"
    },
    {
     "data": {
      "image/png": "[encoded data removed]",
      "text/plain": [
       "<matplotlib.figure.Figure at 0x2a604a20278>"
      ]
     },
     "metadata": {},
     "output_type": "display_data"
    }
   ],
   "source": [
    "plt.figure(1)\n",
    "plt.subplot(221)\n",
    "plt.plot(MEAN, '.')\n",
    "plt.plot(FOCAL, '.')\n",
    "plt.plot(INFIL)\n",
    "\n",
    "plt.ylim(.3,1)\n",
    "plt.xticks(range(4), [\"None\", \"Low\", \"Medium\", \"High\"])"
   ]
  },
  {
   "cell_type": "code",
   "execution_count": 532,
   "metadata": {
    "ExecuteTime": {
     "end_time": "2018-04-16T01:39:02.900711Z",
     "start_time": "2018-04-16T01:39:02.896700Z"
    }
   },
   "outputs": [
    {
     "name": "stdout",
     "output_type": "stream",
     "text": [
      "44\n"
     ]
    }
   ],
   "source": [
    "print(len(Rdf))\n",
    "MEAN=Rdf.mean().values"
   ]
  },
  {
   "cell_type": "code",
   "execution_count": 533,
   "metadata": {
    "ExecuteTime": {
     "end_time": "2018-04-16T01:39:02.915765Z",
     "start_time": "2018-04-16T01:39:02.901714Z"
    }
   },
   "outputs": [
    {
     "name": "stdout",
     "output_type": "stream",
     "text": [
      "26\n"
     ]
    }
   ],
   "source": [
    "#well delineated\n",
    "print(len(Rdf[master_df.loc[Rdf.index, \"0=well delineated, 1=infiltrative\"] == 0]))\n",
    "FOCAL=Rdf[master_df.loc[Rdf.index, \"0=well delineated, 1=infiltrative\"] == 0].mean().values"
   ]
  },
  {
   "cell_type": "code",
   "execution_count": 534,
   "metadata": {
    "ExecuteTime": {
     "end_time": "2018-04-16T01:39:02.926788Z",
     "start_time": "2018-04-16T01:39:02.916754Z"
    }
   },
   "outputs": [
    {
     "name": "stdout",
     "output_type": "stream",
     "text": [
      "14\n"
     ]
    }
   ],
   "source": [
    "#infiltrative\n",
    "print(len(Rdf[master_df.loc[Rdf.index, \"0=well delineated, 1=infiltrative\"] == 1]))\n",
    "INFIL=Rdf[master_df.loc[Rdf.index, \"0=well delineated, 1=infiltrative\"] == 1].mean().values"
   ]
  },
  {
   "cell_type": "code",
   "execution_count": 535,
   "metadata": {
    "ExecuteTime": {
     "end_time": "2018-04-16T01:39:02.938813Z",
     "start_time": "2018-04-16T01:39:02.927790Z"
    }
   },
   "outputs": [
    {
     "name": "stdout",
     "output_type": "stream",
     "text": [
      "26\n"
     ]
    }
   ],
   "source": [
    "#HCC\n",
    "print(len(Rdf[master_df.loc[Rdf.index, \"HCC(0), ICC(1), other(2)\"] == 0]))\n",
    "HCC=Rdf[master_df.loc[Rdf.index, \"HCC(0), ICC(1), other(2)\"] == 0].mean().values"
   ]
  },
  {
   "cell_type": "code",
   "execution_count": 536,
   "metadata": {
    "ExecuteTime": {
     "end_time": "2018-04-16T01:39:02.950845Z",
     "start_time": "2018-04-16T01:39:02.940817Z"
    }
   },
   "outputs": [
    {
     "name": "stdout",
     "output_type": "stream",
     "text": [
      "8\n"
     ]
    }
   ],
   "source": [
    "#ICC\n",
    "print(len(Rdf[master_df.loc[Rdf.index, \"HCC(0), ICC(1), other(2)\"] == 1]))\n",
    "ICC=Rdf[master_df.loc[Rdf.index, \"HCC(0), ICC(1), other(2)\"] == 1].mean().values"
   ]
  },
  {
   "cell_type": "code",
   "execution_count": 537,
   "metadata": {
    "ExecuteTime": {
     "end_time": "2018-04-16T01:39:02.961873Z",
     "start_time": "2018-04-16T01:39:02.951848Z"
    }
   },
   "outputs": [
    {
     "name": "stdout",
     "output_type": "stream",
     "text": [
      "7\n"
     ]
    }
   ],
   "source": [
    "#met\n",
    "print(len(Rdf[master_df.loc[Rdf.index, \"HCC(0), ICC(1), other(2)\"] == 2]))\n",
    "MET=Rdf[master_df.loc[Rdf.index, \"HCC(0), ICC(1), other(2)\"] == 2].mean().values"
   ]
  },
  {
   "cell_type": "code",
   "execution_count": 538,
   "metadata": {
    "ExecuteTime": {
     "end_time": "2018-04-16T01:39:02.972902Z",
     "start_time": "2018-04-16T01:39:02.962877Z"
    }
   },
   "outputs": [
    {
     "name": "stdout",
     "output_type": "stream",
     "text": [
      "6\n"
     ]
    }
   ],
   "source": [
    "#selective\n",
    "print(len(Rdf[master_df.loc[Rdf.index, \"selective=0\"] == 0]))\n",
    "SEL=Rdf[master_df.loc[Rdf.index, \"selective=0\"] == 0].mean().values"
   ]
  },
  {
   "cell_type": "code",
   "execution_count": 539,
   "metadata": {
    "ExecuteTime": {
     "end_time": "2018-04-16T01:39:02.983933Z",
     "start_time": "2018-04-16T01:39:02.974908Z"
    }
   },
   "outputs": [
    {
     "name": "stdout",
     "output_type": "stream",
     "text": [
      "7\n"
     ]
    }
   ],
   "source": [
    "#lobar\n",
    "print(len(Rdf[master_df.loc[Rdf.index, \"selective=0\"] == 1]))\n",
    "LOB=Rdf[master_df.loc[Rdf.index, \"selective=0\"] == 1].mean().values"
   ]
  },
  {
   "cell_type": "code",
   "execution_count": 511,
   "metadata": {
    "ExecuteTime": {
     "end_time": "2018-04-15T22:47:28.112083Z",
     "start_time": "2018-04-15T22:47:28.106081Z"
    },
    "collapsed": true
   },
   "outputs": [],
   "source": [
    "foc_Rdf = Rdf[master_df.loc[Rdf.index, \"0=well delineated, 1=infiltrative\"] == 0]"
   ]
  },
  {
   "cell_type": "code",
   "execution_count": 513,
   "metadata": {
    "ExecuteTime": {
     "end_time": "2018-04-15T22:47:37.396387Z",
     "start_time": "2018-04-15T22:47:37.388371Z"
    }
   },
   "outputs": [
    {
     "name": "stdout",
     "output_type": "stream",
     "text": [
      "10\n"
     ]
    },
    {
     "name": "stderr",
     "output_type": "stream",
     "text": [
      "C:\\Users\\Clinton\\AppData\\Local\\conda\\conda\\envs\\old-keras\\lib\\site-packages\\ipykernel_launcher.py:2: UserWarning: Boolean Series key will be reindexed to match DataFrame index.\n",
      "  \n",
      "C:\\Users\\Clinton\\AppData\\Local\\conda\\conda\\envs\\old-keras\\lib\\site-packages\\ipykernel_launcher.py:3: UserWarning: Boolean Series key will be reindexed to match DataFrame index.\n",
      "  This is separate from the ipykernel package so we can avoid doing imports until\n"
     ]
    },
    {
     "data": {
      "text/plain": [
       "array([0.39449099, 0.4858583 , 0.52203684, 0.65974027])"
      ]
     },
     "execution_count": 513,
     "metadata": {},
     "output_type": "execute_result"
    }
   ],
   "source": [
    "#homog\n",
    "print(len(foc_Rdf[(pattern_df[\"lipcoverage_vol%\"] > .75)]))\n",
    "foc_Rdf[pattern_df[\"lipcoverage_vol%\"] > .75].mean().values"
   ]
  },
  {
   "cell_type": "code",
   "execution_count": 514,
   "metadata": {
    "ExecuteTime": {
     "end_time": "2018-04-15T22:47:37.979750Z",
     "start_time": "2018-04-15T22:47:37.972699Z"
    }
   },
   "outputs": [
    {
     "name": "stdout",
     "output_type": "stream",
     "text": [
      "16\n"
     ]
    },
    {
     "name": "stderr",
     "output_type": "stream",
     "text": [
      "C:\\Users\\Clinton\\AppData\\Local\\conda\\conda\\envs\\old-keras\\lib\\site-packages\\ipykernel_launcher.py:2: UserWarning: Boolean Series key will be reindexed to match DataFrame index.\n",
      "  \n",
      "C:\\Users\\Clinton\\AppData\\Local\\conda\\conda\\envs\\old-keras\\lib\\site-packages\\ipykernel_launcher.py:3: UserWarning: Boolean Series key will be reindexed to match DataFrame index.\n",
      "  This is separate from the ipykernel package so we can avoid doing imports until\n"
     ]
    },
    {
     "data": {
      "text/plain": [
       "array([0.5524819 , 0.6093798 , 0.63989218, 0.67352547])"
      ]
     },
     "execution_count": 514,
     "metadata": {},
     "output_type": "execute_result"
    }
   ],
   "source": [
    "#focal hetero\n",
    "print(len(foc_Rdf[(pattern_df[\"lipcoverage_vol%\"] <= .75)]))\n",
    "foc_Rdf[pattern_df[\"lipcoverage_vol%\"] <= .75].mean().values"
   ]
  },
  {
   "cell_type": "code",
   "execution_count": 516,
   "metadata": {
    "ExecuteTime": {
     "end_time": "2018-04-15T22:48:10.489984Z",
     "start_time": "2018-04-15T22:48:10.481963Z"
    }
   },
   "outputs": [
    {
     "name": "stdout",
     "output_type": "stream",
     "text": [
      "18\n"
     ]
    },
    {
     "name": "stderr",
     "output_type": "stream",
     "text": [
      "C:\\Users\\Clinton\\AppData\\Local\\conda\\conda\\envs\\old-keras\\lib\\site-packages\\ipykernel_launcher.py:1: UserWarning: Boolean Series key will be reindexed to match DataFrame index.\n",
      "  \"\"\"Entry point for launching an IPython kernel.\n",
      "C:\\Users\\Clinton\\AppData\\Local\\conda\\conda\\envs\\old-keras\\lib\\site-packages\\ipykernel_launcher.py:2: UserWarning: Boolean Series key will be reindexed to match DataFrame index.\n",
      "  \n"
     ]
    },
    {
     "data": {
      "text/plain": [
       "array([0.55600647, 0.61611573, 0.61103582, 0.5965519 ])"
      ]
     },
     "execution_count": 516,
     "metadata": {},
     "output_type": "execute_result"
    }
   ],
   "source": [
    "print(len(Rdf[pattern_df[\"lipcoverage_vol%\"] < .25]))\n",
    "Rdf[pattern_df[\"lipcoverage_vol%\"] < .25].mean().values"
   ]
  },
  {
   "cell_type": "code",
   "execution_count": 500,
   "metadata": {
    "ExecuteTime": {
     "end_time": "2018-04-15T22:35:45.047467Z",
     "start_time": "2018-04-15T22:35:45.036438Z"
    }
   },
   "outputs": [
    {
     "name": "stdout",
     "output_type": "stream",
     "text": [
      "16\n"
     ]
    },
    {
     "name": "stderr",
     "output_type": "stream",
     "text": [
      "C:\\Users\\Clinton\\AppData\\Local\\conda\\conda\\envs\\old-keras\\lib\\site-packages\\ipykernel_launcher.py:1: UserWarning: Boolean Series key will be reindexed to match DataFrame index.\n",
      "  \"\"\"Entry point for launching an IPython kernel.\n",
      "C:\\Users\\Clinton\\AppData\\Local\\conda\\conda\\envs\\old-keras\\lib\\site-packages\\ipykernel_launcher.py:2: UserWarning: Boolean Series key will be reindexed to match DataFrame index.\n",
      "  \n"
     ]
    },
    {
     "data": {
      "text/plain": [
       "array([0.5565615 , 0.59772221, 0.6316417 , 0.69694304])"
      ]
     },
     "execution_count": 500,
     "metadata": {},
     "output_type": "execute_result"
    }
   ],
   "source": [
    "print(len(Rdf[(pattern_df[\"lipcoverage_vol%\"] >= .25) & (pattern_df[\"lipcoverage_vol%\"] <= .75)]))\n",
    "Rdf[(pattern_df[\"lipcoverage_vol%\"] >= .25) & (pattern_df[\"lipcoverage_vol%\"] <= .75)].mean().values"
   ]
  },
  {
   "cell_type": "code",
   "execution_count": 506,
   "metadata": {
    "ExecuteTime": {
     "end_time": "2018-04-15T22:37:32.806152Z",
     "start_time": "2018-04-15T22:37:32.798131Z"
    }
   },
   "outputs": [
    {
     "name": "stdout",
     "output_type": "stream",
     "text": [
      "9\n"
     ]
    },
    {
     "name": "stderr",
     "output_type": "stream",
     "text": [
      "C:\\Users\\Clinton\\AppData\\Local\\conda\\conda\\envs\\old-keras\\lib\\site-packages\\ipykernel_launcher.py:1: UserWarning: Boolean Series key will be reindexed to match DataFrame index.\n",
      "  \"\"\"Entry point for launching an IPython kernel.\n",
      "C:\\Users\\Clinton\\AppData\\Local\\conda\\conda\\envs\\old-keras\\lib\\site-packages\\ipykernel_launcher.py:2: UserWarning: Boolean Series key will be reindexed to match DataFrame index.\n",
      "  \n"
     ]
    },
    {
     "data": {
      "text/plain": [
       "array([0.5611871 , 0.59733044, 0.60364242, 0.66189054])"
      ]
     },
     "execution_count": 506,
     "metadata": {},
     "output_type": "execute_result"
    }
   ],
   "source": [
    "print(len(Rdf[(pattern_df[\"rim_lipiodol%\"] > .25) & (pattern_df[\"lipcoverage_vol%\"] <= .75)]))\n",
    "Rdf[(pattern_df[\"rim_lipiodol%\"] > .25) & (pattern_df[\"lipcoverage_vol%\"] <= .75)].mean().values"
   ]
  },
  {
   "cell_type": "code",
   "execution_count": 507,
   "metadata": {
    "ExecuteTime": {
     "end_time": "2018-04-15T22:37:33.638881Z",
     "start_time": "2018-04-15T22:37:33.630880Z"
    }
   },
   "outputs": [
    {
     "name": "stdout",
     "output_type": "stream",
     "text": [
      "25\n"
     ]
    },
    {
     "name": "stderr",
     "output_type": "stream",
     "text": [
      "C:\\Users\\Clinton\\AppData\\Local\\conda\\conda\\envs\\old-keras\\lib\\site-packages\\ipykernel_launcher.py:1: UserWarning: Boolean Series key will be reindexed to match DataFrame index.\n",
      "  \"\"\"Entry point for launching an IPython kernel.\n",
      "C:\\Users\\Clinton\\AppData\\Local\\conda\\conda\\envs\\old-keras\\lib\\site-packages\\ipykernel_launcher.py:2: UserWarning: Boolean Series key will be reindexed to match DataFrame index.\n",
      "  \n"
     ]
    },
    {
     "data": {
      "text/plain": [
       "array([0.55449667, 0.61110658, 0.62688521, 0.63728032])"
      ]
     },
     "execution_count": 507,
     "metadata": {},
     "output_type": "execute_result"
    }
   ],
   "source": [
    "print(len(Rdf[(pattern_df[\"rim_lipiodol%\"] <= .25) & (pattern_df[\"lipcoverage_vol%\"] <= .75)]))\n",
    "Rdf[(pattern_df[\"rim_lipiodol%\"] <= .25) & (pattern_df[\"lipcoverage_vol%\"] <= .75)].mean().values"
   ]
  },
  {
   "cell_type": "code",
   "execution_count": null,
   "metadata": {
    "ExecuteTime": {
     "end_time": "2018-04-10T02:49:16.128740Z",
     "start_time": "2018-04-10T02:49:16.122697Z"
    },
    "collapsed": true
   },
   "outputs": [],
   "source": [
    "print([df[i].mean() for i in liplvls])"
   ]
  },
  {
   "cell_type": "markdown",
   "metadata": {
    "ExecuteTime": {
     "end_time": "2018-04-10T02:49:19.435196Z",
     "start_time": "2018-04-10T02:49:19.430182Z"
    }
   },
   "source": [
    "[1-df[i].mean() for i in liplvls]"
   ]
  },
  {
   "cell_type": "markdown",
   "metadata": {
    "ExecuteTime": {
     "end_time": "2018-04-10T02:48:14.341697Z",
     "start_time": "2018-04-10T02:48:14.337687Z"
    }
   },
   "source": [
    "[x/(1-x) for x in [0.47604184262689564,\n",
    " 0.3884550297888517,\n",
    " 0.3352322775428981,\n",
    " 0.2986988994268489]]"
   ]
  },
  {
   "cell_type": "code",
   "execution_count": null,
   "metadata": {
    "ExecuteTime": {
     "end_time": "2018-04-10T01:53:03.813064Z",
     "start_time": "2018-04-10T01:53:03.808050Z"
    },
    "collapsed": true
   },
   "outputs": [],
   "source": [
    "[1-df[i].mean() for i in liplvls]"
   ]
  },
  {
   "cell_type": "code",
   "execution_count": null,
   "metadata": {
    "ExecuteTime": {
     "end_time": "2018-04-09T22:37:09.380458Z",
     "start_time": "2018-04-09T22:37:09.376419Z"
    },
    "collapsed": true
   },
   "outputs": [],
   "source": [
    "print([df[i].mean() for i in liplvls])\n",
    "\n",
    "print(np.nanmean(depo_resp_df[0]),\n",
    "np.nanmean(depo_resp_df[100]),\n",
    "np.nanmean(depo_resp_df[150]),\n",
    "np.nanmean(depo_resp_df[200]))"
   ]
  },
  {
   "cell_type": "markdown",
   "metadata": {},
   "source": [
    "### Ground truth patterns"
   ]
  },
  {
   "cell_type": "code",
   "execution_count": 87,
   "metadata": {
    "ExecuteTime": {
     "end_time": "2018-04-10T17:29:54.686967Z",
     "start_time": "2018-04-10T17:29:54.676914Z"
    },
    "collapsed": true
   },
   "outputs": [],
   "source": [
    "pattern_gtruth_df = pd.read_excel(r\"D:\\Lipiodol\\Results\\Lipiodol Patterns.xlsx\", index_col=0)"
   ]
  },
  {
   "cell_type": "code",
   "execution_count": 88,
   "metadata": {
    "ExecuteTime": {
     "end_time": "2018-04-10T17:29:55.096090Z",
     "start_time": "2018-04-10T17:29:55.092082Z"
    },
    "collapsed": true
   },
   "outputs": [],
   "source": [
    "joint_df = pd.concat([vasc_depo_df, pattern_gtruth_df], axis=1, join='inner')"
   ]
  },
  {
   "cell_type": "code",
   "execution_count": 89,
   "metadata": {
    "ExecuteTime": {
     "end_time": "2018-04-10T17:29:56.090236Z",
     "start_time": "2018-04-10T17:29:56.086226Z"
    }
   },
   "outputs": [
    {
     "data": {
      "text/plain": [
       "Index([                   0,                  100,                  150,\n",
       "                        200,        'homogeneous',      'heterogeneous',\n",
       "                      'rim',     'central recess', 'central deposition',\n",
       "          'penumbra/margin',           'comments'],\n",
       "      dtype='object')"
      ]
     },
     "execution_count": 89,
     "metadata": {},
     "output_type": "execute_result"
    }
   ],
   "source": [
    "joint_df.columns"
   ]
  },
  {
   "cell_type": "code",
   "execution_count": 116,
   "metadata": {
    "ExecuteTime": {
     "end_time": "2018-04-10T18:16:09.888095Z",
     "start_time": "2018-04-10T18:16:09.874067Z"
    },
    "scrolled": true
   },
   "outputs": [
    {
     "data": {
      "text/html": [
       "<div>\n",
       "<style>\n",
       "    .dataframe thead tr:only-child th {\n",
       "        text-align: right;\n",
       "    }\n",
       "\n",
       "    .dataframe thead th {\n",
       "        text-align: left;\n",
       "    }\n",
       "\n",
       "    .dataframe tbody tr th {\n",
       "        vertical-align: top;\n",
       "    }\n",
       "</style>\n",
       "<table border=\"1\" class=\"dataframe\">\n",
       "  <thead>\n",
       "    <tr style=\"text-align: right;\">\n",
       "      <th></th>\n",
       "      <th>0</th>\n",
       "      <th>100</th>\n",
       "      <th>150</th>\n",
       "      <th>200</th>\n",
       "      <th>heterogeneous</th>\n",
       "    </tr>\n",
       "  </thead>\n",
       "  <tbody>\n",
       "    <tr>\n",
       "      <th>BM-01</th>\n",
       "      <td>0.979969</td>\n",
       "      <td>0.972471</td>\n",
       "      <td>0.989408</td>\n",
       "      <td>0.989211</td>\n",
       "      <td>yes</td>\n",
       "    </tr>\n",
       "    <tr>\n",
       "      <th>BM-02</th>\n",
       "      <td>0.213386</td>\n",
       "      <td>0.338595</td>\n",
       "      <td>0.488734</td>\n",
       "      <td>0.349517</td>\n",
       "      <td>yes scattered</td>\n",
       "    </tr>\n",
       "    <tr>\n",
       "      <th>BM-03</th>\n",
       "      <td>0.053209</td>\n",
       "      <td>0.034601</td>\n",
       "      <td>0.019784</td>\n",
       "      <td>0.016724</td>\n",
       "      <td>yes</td>\n",
       "    </tr>\n",
       "    <tr>\n",
       "      <th>BM-05</th>\n",
       "      <td>0.776399</td>\n",
       "      <td>0.714221</td>\n",
       "      <td>0.620473</td>\n",
       "      <td>0.560444</td>\n",
       "      <td>yes</td>\n",
       "    </tr>\n",
       "    <tr>\n",
       "      <th>BM-06</th>\n",
       "      <td>0.484110</td>\n",
       "      <td>0.737965</td>\n",
       "      <td>0.766199</td>\n",
       "      <td>0.769996</td>\n",
       "      <td>yes</td>\n",
       "    </tr>\n",
       "    <tr>\n",
       "      <th>BM-07</th>\n",
       "      <td>0.381427</td>\n",
       "      <td>0.579057</td>\n",
       "      <td>0.656548</td>\n",
       "      <td>0.721992</td>\n",
       "      <td>yes</td>\n",
       "    </tr>\n",
       "    <tr>\n",
       "      <th>BM-09</th>\n",
       "      <td>0.373079</td>\n",
       "      <td>0.439064</td>\n",
       "      <td>0.683052</td>\n",
       "      <td>0.738784</td>\n",
       "      <td>yes</td>\n",
       "    </tr>\n",
       "    <tr>\n",
       "      <th>BM-10</th>\n",
       "      <td>0.674982</td>\n",
       "      <td>0.797312</td>\n",
       "      <td>0.918109</td>\n",
       "      <td>0.938735</td>\n",
       "      <td>yes</td>\n",
       "    </tr>\n",
       "    <tr>\n",
       "      <th>BM-12</th>\n",
       "      <td>0.435976</td>\n",
       "      <td>0.563419</td>\n",
       "      <td>0.738764</td>\n",
       "      <td>0.899583</td>\n",
       "      <td>yes</td>\n",
       "    </tr>\n",
       "    <tr>\n",
       "      <th>BM-19</th>\n",
       "      <td>0.807288</td>\n",
       "      <td>0.864336</td>\n",
       "      <td>0.747795</td>\n",
       "      <td>0.843143</td>\n",
       "      <td>yes</td>\n",
       "    </tr>\n",
       "    <tr>\n",
       "      <th>BM-23</th>\n",
       "      <td>0.518857</td>\n",
       "      <td>0.414643</td>\n",
       "      <td>0.438384</td>\n",
       "      <td>0.483520</td>\n",
       "      <td>yes</td>\n",
       "    </tr>\n",
       "    <tr>\n",
       "      <th>BM-24</th>\n",
       "      <td>0.775016</td>\n",
       "      <td>0.779772</td>\n",
       "      <td>0.704981</td>\n",
       "      <td>0.732513</td>\n",
       "      <td>yes</td>\n",
       "    </tr>\n",
       "    <tr>\n",
       "      <th>BM-26</th>\n",
       "      <td>0.277507</td>\n",
       "      <td>0.262718</td>\n",
       "      <td>0.398377</td>\n",
       "      <td>0.355569</td>\n",
       "      <td>yes</td>\n",
       "    </tr>\n",
       "    <tr>\n",
       "      <th>BM-27</th>\n",
       "      <td>0.510550</td>\n",
       "      <td>0.687704</td>\n",
       "      <td>0.732087</td>\n",
       "      <td>0.743601</td>\n",
       "      <td>yes</td>\n",
       "    </tr>\n",
       "    <tr>\n",
       "      <th>BM-29</th>\n",
       "      <td>0.743602</td>\n",
       "      <td>0.442617</td>\n",
       "      <td>0.276282</td>\n",
       "      <td>0.508543</td>\n",
       "      <td>yes</td>\n",
       "    </tr>\n",
       "    <tr>\n",
       "      <th>BM-30</th>\n",
       "      <td>0.163036</td>\n",
       "      <td>0.202413</td>\n",
       "      <td>0.238447</td>\n",
       "      <td>0.305262</td>\n",
       "      <td>yes</td>\n",
       "    </tr>\n",
       "    <tr>\n",
       "      <th>BM-31</th>\n",
       "      <td>0.247848</td>\n",
       "      <td>0.248391</td>\n",
       "      <td>0.211655</td>\n",
       "      <td>0.099563</td>\n",
       "      <td>yes</td>\n",
       "    </tr>\n",
       "    <tr>\n",
       "      <th>BM-32</th>\n",
       "      <td>0.859392</td>\n",
       "      <td>0.879923</td>\n",
       "      <td>0.933449</td>\n",
       "      <td>0.971260</td>\n",
       "      <td>yes</td>\n",
       "    </tr>\n",
       "    <tr>\n",
       "      <th>BM-36</th>\n",
       "      <td>0.282768</td>\n",
       "      <td>0.372742</td>\n",
       "      <td>0.408105</td>\n",
       "      <td>0.401237</td>\n",
       "      <td>yes</td>\n",
       "    </tr>\n",
       "    <tr>\n",
       "      <th>BM-37</th>\n",
       "      <td>0.259232</td>\n",
       "      <td>0.434320</td>\n",
       "      <td>0.657831</td>\n",
       "      <td>0.830736</td>\n",
       "      <td>yes</td>\n",
       "    </tr>\n",
       "    <tr>\n",
       "      <th>BM-39</th>\n",
       "      <td>0.233129</td>\n",
       "      <td>0.158507</td>\n",
       "      <td>0.344192</td>\n",
       "      <td>0.869732</td>\n",
       "      <td>yes</td>\n",
       "    </tr>\n",
       "    <tr>\n",
       "      <th>PK-02</th>\n",
       "      <td>0.902763</td>\n",
       "      <td>0.931767</td>\n",
       "      <td>0.965341</td>\n",
       "      <td>0.968412</td>\n",
       "      <td>yes</td>\n",
       "    </tr>\n",
       "    <tr>\n",
       "      <th>PK-05</th>\n",
       "      <td>0.112738</td>\n",
       "      <td>0.135114</td>\n",
       "      <td>0.264751</td>\n",
       "      <td>0.347874</td>\n",
       "      <td>yes</td>\n",
       "    </tr>\n",
       "    <tr>\n",
       "      <th>PK-07</th>\n",
       "      <td>0.555948</td>\n",
       "      <td>0.738781</td>\n",
       "      <td>0.997954</td>\n",
       "      <td>0.966100</td>\n",
       "      <td>yes</td>\n",
       "    </tr>\n",
       "    <tr>\n",
       "      <th>PK-08</th>\n",
       "      <td>0.843259</td>\n",
       "      <td>0.840324</td>\n",
       "      <td>0.859131</td>\n",
       "      <td>0.792707</td>\n",
       "      <td>yes</td>\n",
       "    </tr>\n",
       "  </tbody>\n",
       "</table>\n",
       "</div>"
      ],
      "text/plain": [
       "              0       100       150       200  heterogeneous\n",
       "BM-01  0.979969  0.972471  0.989408  0.989211            yes\n",
       "BM-02  0.213386  0.338595  0.488734  0.349517  yes scattered\n",
       "BM-03  0.053209  0.034601  0.019784  0.016724            yes\n",
       "BM-05  0.776399  0.714221  0.620473  0.560444            yes\n",
       "BM-06  0.484110  0.737965  0.766199  0.769996            yes\n",
       "BM-07  0.381427  0.579057  0.656548  0.721992            yes\n",
       "BM-09  0.373079  0.439064  0.683052  0.738784            yes\n",
       "BM-10  0.674982  0.797312  0.918109  0.938735            yes\n",
       "BM-12  0.435976  0.563419  0.738764  0.899583            yes\n",
       "BM-19  0.807288  0.864336  0.747795  0.843143            yes\n",
       "BM-23  0.518857  0.414643  0.438384  0.483520            yes\n",
       "BM-24  0.775016  0.779772  0.704981  0.732513            yes\n",
       "BM-26  0.277507  0.262718  0.398377  0.355569            yes\n",
       "BM-27  0.510550  0.687704  0.732087  0.743601            yes\n",
       "BM-29  0.743602  0.442617  0.276282  0.508543            yes\n",
       "BM-30  0.163036  0.202413  0.238447  0.305262            yes\n",
       "BM-31  0.247848  0.248391  0.211655  0.099563            yes\n",
       "BM-32  0.859392  0.879923  0.933449  0.971260            yes\n",
       "BM-36  0.282768  0.372742  0.408105  0.401237            yes\n",
       "BM-37  0.259232  0.434320  0.657831  0.830736            yes\n",
       "BM-39  0.233129  0.158507  0.344192  0.869732            yes\n",
       "PK-02  0.902763  0.931767  0.965341  0.968412            yes\n",
       "PK-05  0.112738  0.135114  0.264751  0.347874            yes\n",
       "PK-07  0.555948  0.738781  0.997954  0.966100            yes\n",
       "PK-08  0.843259  0.840324  0.859131  0.792707            yes"
      ]
     },
     "execution_count": 116,
     "metadata": {},
     "output_type": "execute_result"
    }
   ],
   "source": [
    "DF=joint_df.dropna(subset=[\"heterogeneous\"], axis=0)\n",
    "subset_df = DF.loc[DF[\"heterogeneous\"].str.contains(\"yes\"), liplvls+[\"heterogeneous\"]]\n",
    "#subset_df = DF.loc[DF[\"penumbra/margin\"]!=\"no\", liplvls+[\"penumbra/margin\"]]\n",
    "subset_df"
   ]
  },
  {
   "cell_type": "code",
   "execution_count": 117,
   "metadata": {
    "ExecuteTime": {
     "end_time": "2018-04-10T18:16:20.021531Z",
     "start_time": "2018-04-10T18:16:20.017520Z"
    },
    "scrolled": true
   },
   "outputs": [
    {
     "data": {
      "text/plain": [
       "Index(['BM-01', 'BM-02', 'BM-03', 'BM-05', 'BM-06', 'BM-07', 'BM-09', 'BM-10',\n",
       "       'BM-12', 'BM-19', 'BM-23', 'BM-24', 'BM-26', 'BM-27', 'BM-29', 'BM-30',\n",
       "       'BM-31', 'BM-32', 'BM-36', 'BM-37', 'BM-39', 'PK-02', 'PK-05', 'PK-07',\n",
       "       'PK-08'],\n",
       "      dtype='object')"
      ]
     },
     "execution_count": 117,
     "metadata": {},
     "output_type": "execute_result"
    }
   ],
   "source": [
    "subset_df.index"
   ]
  },
  {
   "cell_type": "code",
   "execution_count": null,
   "metadata": {
    "collapsed": true
   },
   "outputs": [],
   "source": [
    "rim = "
   ]
  },
  {
   "cell_type": "markdown",
   "metadata": {},
   "source": [
    "RIM: \"BM-07\", \"BM-30\", \"BM-32\", \"BM-37\"\n",
    "Homogeneous: \"BM-18\", \"BM-25\", \"BM-39\", \"PK-03\", \"PK-06\"\n",
    "Heterogeneous: \"BM-18\", \"BM-25\", \"BM-39\", \"PK-03\", \"PK-06\"\n",
    "Central deposition: 'BM-18', 'BM-23', 'BM-25', 'BM-31', 'BM-32', 'BM-39', 'PK-03', 'PK-08'\n",
    "Central recess: 'BM-01', 'BM-07', 'BM-12', 'BM-19', 'BM-24', 'BM-30', 'BM-36', 'PK-02', 'PK-05'\n",
    "Margin: 'BM-30', 'BM-32', 'BM-36', 'BM-37', 'BM-39', 'PK-02', 'PK-03', 'PK-05'"
   ]
  },
  {
   "cell_type": "code",
   "execution_count": 114,
   "metadata": {
    "ExecuteTime": {
     "end_time": "2018-04-10T17:56:41.926326Z",
     "start_time": "2018-04-10T17:56:41.922316Z"
    }
   },
   "outputs": [
    {
     "data": {
      "text/plain": [
       "9"
      ]
     },
     "execution_count": 114,
     "metadata": {},
     "output_type": "execute_result"
    }
   ],
   "source": [
    "len(['BM-01', 'BM-07', 'BM-12', 'BM-19', 'BM-24', 'BM-30', 'BM-36', 'PK-02', 'PK-05'])"
   ]
  },
  {
   "cell_type": "code",
   "execution_count": 120,
   "metadata": {
    "ExecuteTime": {
     "end_time": "2018-04-10T18:16:42.005170Z",
     "start_time": "2018-04-10T18:16:42.002161Z"
    }
   },
   "outputs": [
    {
     "data": {
      "text/plain": [
       "25"
      ]
     },
     "execution_count": 120,
     "metadata": {},
     "output_type": "execute_result"
    }
   ],
   "source": [
    "len(subset_df)"
   ]
  },
  {
   "cell_type": "code",
   "execution_count": 118,
   "metadata": {
    "ExecuteTime": {
     "end_time": "2018-04-10T18:16:25.583163Z",
     "start_time": "2018-04-10T18:16:25.570128Z"
    },
    "scrolled": true
   },
   "outputs": [
    {
     "data": {
      "text/html": [
       "<div>\n",
       "<style>\n",
       "    .dataframe thead tr:only-child th {\n",
       "        text-align: right;\n",
       "    }\n",
       "\n",
       "    .dataframe thead th {\n",
       "        text-align: left;\n",
       "    }\n",
       "\n",
       "    .dataframe tbody tr th {\n",
       "        vertical-align: top;\n",
       "    }\n",
       "</style>\n",
       "<table border=\"1\" class=\"dataframe\">\n",
       "  <thead>\n",
       "    <tr style=\"text-align: right;\">\n",
       "      <th></th>\n",
       "      <th>0</th>\n",
       "      <th>100</th>\n",
       "      <th>150</th>\n",
       "      <th>200</th>\n",
       "    </tr>\n",
       "  </thead>\n",
       "  <tbody>\n",
       "    <tr>\n",
       "      <th>BM-01</th>\n",
       "      <td>0.979969</td>\n",
       "      <td>0.972471</td>\n",
       "      <td>0.989408</td>\n",
       "      <td>0.989211</td>\n",
       "    </tr>\n",
       "    <tr>\n",
       "      <th>BM-02</th>\n",
       "      <td>0.213386</td>\n",
       "      <td>0.338595</td>\n",
       "      <td>0.488734</td>\n",
       "      <td>0.349517</td>\n",
       "    </tr>\n",
       "    <tr>\n",
       "      <th>BM-03</th>\n",
       "      <td>0.053209</td>\n",
       "      <td>0.034601</td>\n",
       "      <td>0.019784</td>\n",
       "      <td>0.016724</td>\n",
       "    </tr>\n",
       "    <tr>\n",
       "      <th>BM-05</th>\n",
       "      <td>0.776399</td>\n",
       "      <td>0.714221</td>\n",
       "      <td>0.620473</td>\n",
       "      <td>0.560444</td>\n",
       "    </tr>\n",
       "    <tr>\n",
       "      <th>BM-06</th>\n",
       "      <td>0.484110</td>\n",
       "      <td>0.737965</td>\n",
       "      <td>0.766199</td>\n",
       "      <td>0.769996</td>\n",
       "    </tr>\n",
       "    <tr>\n",
       "      <th>BM-07</th>\n",
       "      <td>0.381427</td>\n",
       "      <td>0.579057</td>\n",
       "      <td>0.656548</td>\n",
       "      <td>0.721992</td>\n",
       "    </tr>\n",
       "    <tr>\n",
       "      <th>BM-09</th>\n",
       "      <td>0.373079</td>\n",
       "      <td>0.439064</td>\n",
       "      <td>0.683052</td>\n",
       "      <td>0.738784</td>\n",
       "    </tr>\n",
       "    <tr>\n",
       "      <th>BM-10</th>\n",
       "      <td>0.674982</td>\n",
       "      <td>0.797312</td>\n",
       "      <td>0.918109</td>\n",
       "      <td>0.938735</td>\n",
       "    </tr>\n",
       "    <tr>\n",
       "      <th>BM-12</th>\n",
       "      <td>0.435976</td>\n",
       "      <td>0.563419</td>\n",
       "      <td>0.738764</td>\n",
       "      <td>0.899583</td>\n",
       "    </tr>\n",
       "    <tr>\n",
       "      <th>BM-19</th>\n",
       "      <td>0.807288</td>\n",
       "      <td>0.864336</td>\n",
       "      <td>0.747795</td>\n",
       "      <td>0.843143</td>\n",
       "    </tr>\n",
       "    <tr>\n",
       "      <th>BM-23</th>\n",
       "      <td>0.518857</td>\n",
       "      <td>0.414643</td>\n",
       "      <td>0.438384</td>\n",
       "      <td>0.483520</td>\n",
       "    </tr>\n",
       "    <tr>\n",
       "      <th>BM-24</th>\n",
       "      <td>0.775016</td>\n",
       "      <td>0.779772</td>\n",
       "      <td>0.704981</td>\n",
       "      <td>0.732513</td>\n",
       "    </tr>\n",
       "    <tr>\n",
       "      <th>BM-26</th>\n",
       "      <td>0.277507</td>\n",
       "      <td>0.262718</td>\n",
       "      <td>0.398377</td>\n",
       "      <td>0.355569</td>\n",
       "    </tr>\n",
       "    <tr>\n",
       "      <th>BM-27</th>\n",
       "      <td>0.510550</td>\n",
       "      <td>0.687704</td>\n",
       "      <td>0.732087</td>\n",
       "      <td>0.743601</td>\n",
       "    </tr>\n",
       "    <tr>\n",
       "      <th>BM-29</th>\n",
       "      <td>0.743602</td>\n",
       "      <td>0.442617</td>\n",
       "      <td>0.276282</td>\n",
       "      <td>0.508543</td>\n",
       "    </tr>\n",
       "    <tr>\n",
       "      <th>BM-30</th>\n",
       "      <td>0.163036</td>\n",
       "      <td>0.202413</td>\n",
       "      <td>0.238447</td>\n",
       "      <td>0.305262</td>\n",
       "    </tr>\n",
       "    <tr>\n",
       "      <th>BM-31</th>\n",
       "      <td>0.247848</td>\n",
       "      <td>0.248391</td>\n",
       "      <td>0.211655</td>\n",
       "      <td>0.099563</td>\n",
       "    </tr>\n",
       "    <tr>\n",
       "      <th>BM-32</th>\n",
       "      <td>0.859392</td>\n",
       "      <td>0.879923</td>\n",
       "      <td>0.933449</td>\n",
       "      <td>0.971260</td>\n",
       "    </tr>\n",
       "    <tr>\n",
       "      <th>BM-36</th>\n",
       "      <td>0.282768</td>\n",
       "      <td>0.372742</td>\n",
       "      <td>0.408105</td>\n",
       "      <td>0.401237</td>\n",
       "    </tr>\n",
       "    <tr>\n",
       "      <th>BM-37</th>\n",
       "      <td>0.259232</td>\n",
       "      <td>0.434320</td>\n",
       "      <td>0.657831</td>\n",
       "      <td>0.830736</td>\n",
       "    </tr>\n",
       "    <tr>\n",
       "      <th>BM-39</th>\n",
       "      <td>0.233129</td>\n",
       "      <td>0.158507</td>\n",
       "      <td>0.344192</td>\n",
       "      <td>0.869732</td>\n",
       "    </tr>\n",
       "    <tr>\n",
       "      <th>PK-02</th>\n",
       "      <td>0.902763</td>\n",
       "      <td>0.931767</td>\n",
       "      <td>0.965341</td>\n",
       "      <td>0.968412</td>\n",
       "    </tr>\n",
       "    <tr>\n",
       "      <th>PK-05</th>\n",
       "      <td>0.112738</td>\n",
       "      <td>0.135114</td>\n",
       "      <td>0.264751</td>\n",
       "      <td>0.347874</td>\n",
       "    </tr>\n",
       "    <tr>\n",
       "      <th>PK-07</th>\n",
       "      <td>0.555948</td>\n",
       "      <td>0.738781</td>\n",
       "      <td>0.997954</td>\n",
       "      <td>0.966100</td>\n",
       "    </tr>\n",
       "    <tr>\n",
       "      <th>PK-08</th>\n",
       "      <td>0.843259</td>\n",
       "      <td>0.840324</td>\n",
       "      <td>0.859131</td>\n",
       "      <td>0.792707</td>\n",
       "    </tr>\n",
       "  </tbody>\n",
       "</table>\n",
       "</div>"
      ],
      "text/plain": [
       "            0         100       150       200\n",
       "BM-01  0.979969  0.972471  0.989408  0.989211\n",
       "BM-02  0.213386  0.338595  0.488734  0.349517\n",
       "BM-03  0.053209  0.034601  0.019784  0.016724\n",
       "BM-05  0.776399  0.714221  0.620473  0.560444\n",
       "BM-06  0.484110  0.737965  0.766199  0.769996\n",
       "BM-07  0.381427  0.579057  0.656548  0.721992\n",
       "BM-09  0.373079  0.439064  0.683052  0.738784\n",
       "BM-10  0.674982  0.797312  0.918109  0.938735\n",
       "BM-12  0.435976  0.563419  0.738764  0.899583\n",
       "BM-19  0.807288  0.864336  0.747795  0.843143\n",
       "BM-23  0.518857  0.414643  0.438384  0.483520\n",
       "BM-24  0.775016  0.779772  0.704981  0.732513\n",
       "BM-26  0.277507  0.262718  0.398377  0.355569\n",
       "BM-27  0.510550  0.687704  0.732087  0.743601\n",
       "BM-29  0.743602  0.442617  0.276282  0.508543\n",
       "BM-30  0.163036  0.202413  0.238447  0.305262\n",
       "BM-31  0.247848  0.248391  0.211655  0.099563\n",
       "BM-32  0.859392  0.879923  0.933449  0.971260\n",
       "BM-36  0.282768  0.372742  0.408105  0.401237\n",
       "BM-37  0.259232  0.434320  0.657831  0.830736\n",
       "BM-39  0.233129  0.158507  0.344192  0.869732\n",
       "PK-02  0.902763  0.931767  0.965341  0.968412\n",
       "PK-05  0.112738  0.135114  0.264751  0.347874\n",
       "PK-07  0.555948  0.738781  0.997954  0.966100\n",
       "PK-08  0.843259  0.840324  0.859131  0.792707"
      ]
     },
     "execution_count": 118,
     "metadata": {},
     "output_type": "execute_result"
    }
   ],
   "source": [
    "subset_df = joint_df.loc[['BM-01', 'BM-02', 'BM-03', 'BM-05', 'BM-06', 'BM-07', 'BM-09', 'BM-10',\n",
    "       'BM-12', 'BM-19', 'BM-23', 'BM-24', 'BM-26', 'BM-27', 'BM-29', 'BM-30',\n",
    "       'BM-31', 'BM-32', 'BM-36', 'BM-37', 'BM-39', 'PK-02', 'PK-05', 'PK-07',\n",
    "       'PK-08'], [0,1,2,3]]\n",
    "subset_df"
   ]
  },
  {
   "cell_type": "code",
   "execution_count": 119,
   "metadata": {
    "ExecuteTime": {
     "end_time": "2018-04-10T18:16:29.863096Z",
     "start_time": "2018-04-10T18:16:29.858082Z"
    }
   },
   "outputs": [
    {
     "data": {
      "text/plain": [
       "array([0.49861879, 0.54283119, 0.60239339, 0.64819033])"
      ]
     },
     "execution_count": 119,
     "metadata": {},
     "output_type": "execute_result"
    }
   ],
   "source": [
    "#subset_df.mean().values\n",
    "subset_df.dropna().mean().values"
   ]
  },
  {
   "cell_type": "code",
   "execution_count": 47,
   "metadata": {
    "ExecuteTime": {
     "end_time": "2018-04-10T17:09:31.099557Z",
     "start_time": "2018-04-10T17:09:31.094546Z"
    }
   },
   "outputs": [
    {
     "name": "stdout",
     "output_type": "stream",
     "text": [
      "0.4725199969765699 0.7846028172462818\n"
     ]
    }
   ],
   "source": [
    "print(np.mean(subset_df[150]), np.mean(subset_df[200]))"
   ]
  },
  {
   "cell_type": "code",
   "execution_count": 514,
   "metadata": {
    "ExecuteTime": {
     "end_time": "2018-04-09T22:59:06.956145Z",
     "start_time": "2018-04-09T22:59:06.912028Z"
    },
    "collapsed": true
   },
   "outputs": [],
   "source": [
    "vasc_depo_df.to_excel(writer, \"Vascularization-Deposition\")\n",
    "depo_resp_df.to_excel(writer, \"Deposition-Response\")\n",
    "writer.save()"
   ]
  },
  {
   "cell_type": "code",
   "execution_count": null,
   "metadata": {
    "ExecuteTime": {
     "end_time": "2018-04-09T22:38:50.145544Z",
     "start_time": "2018-04-09T22:38:50.129499Z"
    },
    "collapsed": true
   },
   "outputs": [],
   "source": [
    "vasc_depo_df"
   ]
  },
  {
   "cell_type": "code",
   "execution_count": 515,
   "metadata": {
    "ExecuteTime": {
     "end_time": "2018-04-09T23:01:52.722991Z",
     "start_time": "2018-04-09T23:01:52.719981Z"
    },
    "collapsed": true
   },
   "outputs": [],
   "source": [
    "liplvls=[0,100]#,250,300]#list(range(0,401,10))"
   ]
  },
  {
   "cell_type": "code",
   "execution_count": 516,
   "metadata": {
    "ExecuteTime": {
     "end_time": "2018-04-09T23:01:56.255227Z",
     "start_time": "2018-04-09T23:01:52.723994Z"
    },
    "collapsed": true
   },
   "outputs": [],
   "source": [
    "importlib.reload(lm)\n",
    "vasc_depo_df_binary = pd.DataFrame(columns=liplvls)\n",
    "for patient_id in lipresp_df.index:\n",
    "    vasc_depo_df_binary.loc[patient_id] = lm.vascular_to_deposition(patient_id, target_dir, liplvls, exclude_small=True)"
   ]
  },
  {
   "cell_type": "code",
   "execution_count": 517,
   "metadata": {
    "ExecuteTime": {
     "end_time": "2018-04-09T23:02:00.991907Z",
     "start_time": "2018-04-09T23:01:56.257180Z"
    },
    "collapsed": true
   },
   "outputs": [],
   "source": [
    "depo_resp_df_binary = pd.DataFrame(columns=liplvls)\n",
    "for patient_id in lipresp_df.index:\n",
    "    depo_resp_df_binary.loc[patient_id] = lm.lip_to_response(patient_id, target_dir, liplvls, exclude_small=False)"
   ]
  },
  {
   "cell_type": "code",
   "execution_count": 518,
   "metadata": {
    "ExecuteTime": {
     "end_time": "2018-04-09T23:02:18.152783Z",
     "start_time": "2018-04-09T23:02:18.112537Z"
    },
    "collapsed": true
   },
   "outputs": [],
   "source": [
    "vasc_depo_df_binary.to_excel(writer, \"Vasc-Depo-binary\")\n",
    "depo_resp_df_binary.to_excel(writer, \"Depo-Resp-binary\")\n",
    "writer.save()"
   ]
  },
  {
   "cell_type": "markdown",
   "metadata": {
    "heading_collapsed": true
   },
   "source": [
    "### T-Test"
   ]
  },
  {
   "cell_type": "code",
   "execution_count": 522,
   "metadata": {
    "ExecuteTime": {
     "end_time": "2018-04-09T23:04:51.928867Z",
     "start_time": "2018-04-09T23:04:51.918841Z"
    },
    "hidden": true
   },
   "outputs": [
    {
     "data": {
      "text/plain": [
       "Ttest_1sampResult(statistic=2.3802691829515616, pvalue=0.025971980984010247)"
      ]
     },
     "execution_count": 522,
     "metadata": {},
     "output_type": "execute_result"
    }
   ],
   "source": [
    "scipy.stats.ttest_1samp((vasc_depo_df_binary[100]-vasc_depo_df_binary[0]).dropna(), 0)"
   ]
  },
  {
   "cell_type": "code",
   "execution_count": 523,
   "metadata": {
    "ExecuteTime": {
     "end_time": "2018-04-09T23:05:17.012215Z",
     "start_time": "2018-04-09T23:05:17.007175Z"
    },
    "hidden": true
   },
   "outputs": [
    {
     "data": {
      "text/plain": [
       "Ttest_1sampResult(statistic=2.428121152144739, pvalue=0.024249353783670376)"
      ]
     },
     "execution_count": 523,
     "metadata": {},
     "output_type": "execute_result"
    }
   ],
   "source": [
    "scipy.stats.ttest_1samp((vasc_depo_df[150]-vasc_depo_df[100]).dropna(), 0)"
   ]
  },
  {
   "cell_type": "code",
   "execution_count": 524,
   "metadata": {
    "ExecuteTime": {
     "end_time": "2018-04-09T23:05:21.747378Z",
     "start_time": "2018-04-09T23:05:21.742371Z"
    },
    "hidden": true
   },
   "outputs": [
    {
     "data": {
      "text/plain": [
       "Ttest_1sampResult(statistic=2.7092952234597485, pvalue=0.013907459079104805)"
      ]
     },
     "execution_count": 524,
     "metadata": {},
     "output_type": "execute_result"
    }
   ],
   "source": [
    "scipy.stats.ttest_1samp((vasc_depo_df[200]-vasc_depo_df[150]).dropna(), 0)"
   ]
  },
  {
   "cell_type": "code",
   "execution_count": null,
   "metadata": {
    "collapsed": true,
    "hidden": true
   },
   "outputs": [],
   "source": []
  },
  {
   "cell_type": "code",
   "execution_count": 525,
   "metadata": {
    "ExecuteTime": {
     "end_time": "2018-04-09T23:05:42.626802Z",
     "start_time": "2018-04-09T23:05:42.622791Z"
    },
    "hidden": true
   },
   "outputs": [
    {
     "data": {
      "text/plain": [
       "Ttest_1sampResult(statistic=3.492729013676934, pvalue=0.0015538515664505574)"
      ]
     },
     "execution_count": 525,
     "metadata": {},
     "output_type": "execute_result"
    }
   ],
   "source": [
    "scipy.stats.ttest_1samp((depo_resp_df_binary[100]-depo_resp_df_binary[0]).dropna(), 0)"
   ]
  },
  {
   "cell_type": "code",
   "execution_count": 533,
   "metadata": {
    "ExecuteTime": {
     "end_time": "2018-04-09T23:06:23.880839Z",
     "start_time": "2018-04-09T23:06:23.876829Z"
    },
    "hidden": true
   },
   "outputs": [
    {
     "data": {
      "text/plain": [
       "Ttest_1sampResult(statistic=1.2250109889424856, pvalue=0.2348033858355313)"
      ]
     },
     "execution_count": 533,
     "metadata": {},
     "output_type": "execute_result"
    }
   ],
   "source": [
    "scipy.stats.ttest_1samp((depo_resp_df[150]-depo_resp_df[100]).dropna(), 0)"
   ]
  },
  {
   "cell_type": "code",
   "execution_count": 534,
   "metadata": {
    "ExecuteTime": {
     "end_time": "2018-04-09T23:06:23.961052Z",
     "start_time": "2018-04-09T23:06:23.956040Z"
    },
    "hidden": true
   },
   "outputs": [
    {
     "data": {
      "text/plain": [
       "Ttest_1sampResult(statistic=2.800068905160147, pvalue=0.011421953792365588)"
      ]
     },
     "execution_count": 534,
     "metadata": {},
     "output_type": "execute_result"
    }
   ],
   "source": [
    "scipy.stats.ttest_1samp((depo_resp_df[200]-depo_resp_df[150]).dropna(), 0)"
   ]
  },
  {
   "cell_type": "markdown",
   "metadata": {
    "heading_collapsed": true
   },
   "source": [
    "## Create Ranked DICOMs"
   ]
  },
  {
   "cell_type": "code",
   "execution_count": 412,
   "metadata": {
    "ExecuteTime": {
     "end_time": "2018-04-15T19:25:15.276358Z",
     "start_time": "2018-04-15T19:07:45.899607Z"
    },
    "collapsed": true,
    "hidden": true,
    "scrolled": true
   },
   "outputs": [],
   "source": [
    "importlib.reload(lm)\n",
    "lm.write_ranked_imgs(pattern_df, target_dir, \"lipcoverage_vol%\", \"ct24_path\", join(C.ranking_dir, \"coverage_ranking_ct24\"),\n",
    "                  False, \"ct24_tumor_mask_path\", \"ct\")\n",
    "lm.write_ranked_imgs(pattern_df, target_dir, \"enhancing_vol%\", \"mribl_art_path\", join(C.ranking_dir, \"coverage_ranking_mrbl\"),\n",
    "                  False, \"mribl_tumor_mask_path\")\n",
    "\n",
    "# make pointers instead?\n",
    "lm.write_ranked_imgs(pattern_df, target_dir, \"rim_lipiodol%\", \"ct24_path\", join(C.ranking_dir, \"rim_ranking_ct24\"),\n",
    "                  False, \"ct24_tumor_mask_path\", \"ct\")\n",
    "lm.write_ranked_imgs(pattern_df, target_dir, \"rim_enhancing%\", \"mribl_art_path\", join(C.ranking_dir, \"rim_ranking_mrbl\"),\n",
    "                  False, \"mribl_tumor_mask_path\")"
   ]
  },
  {
   "cell_type": "code",
   "execution_count": 413,
   "metadata": {
    "ExecuteTime": {
     "end_time": "2018-04-15T19:30:54.711731Z",
     "start_time": "2018-04-15T19:25:15.323015Z"
    },
    "collapsed": true,
    "hidden": true
   },
   "outputs": [],
   "source": [
    "lm.write_ranked_imgs(pattern_df, target_dir, \"peripheral_coverage%\", \"ct24_path\", join(C.ranking_dir, \"penumbra_ranking_ct24\"),\n",
    "                  False, \"ct24_tumor_mask_path\", \"ct\")"
   ]
  },
  {
   "cell_type": "code",
   "execution_count": 141,
   "metadata": {
    "ExecuteTime": {
     "end_time": "2018-04-09T02:23:42.999677Z",
     "start_time": "2018-04-09T02:23:42.598917Z"
    },
    "collapsed": true,
    "hidden": true
   },
   "outputs": [],
   "source": [
    "masks.create_dcm_with_masks(ball_ct24_path, [ball_mribl_enh_mask_path, ball_mri30d_enh_mask_path],\n",
    "                            save_dir, overwrite=True, window=\"ct\")"
   ]
  },
  {
   "cell_type": "markdown",
   "metadata": {
    "ExecuteTime": {
     "end_time": "2018-04-06T05:01:11.688839Z",
     "start_time": "2018-04-06T05:01:11.685831Z"
    },
    "heading_collapsed": true
   },
   "source": [
    "## Tumor Mask Screenshots"
   ]
  },
  {
   "cell_type": "code",
   "execution_count": null,
   "metadata": {
    "ExecuteTime": {
     "end_time": "2018-04-12T15:33:32.345316Z",
     "start_time": "2018-04-12T15:32:07.253084Z"
    },
    "collapsed": true,
    "hidden": true
   },
   "outputs": [],
   "source": [
    "importlib.reload(lm)\n",
    "for fn in glob.glob(join(target_dir,\"*\")):\n",
    "    patient_id = basename(fn)\n",
    "    paths = lm.get_paths(patient_id, target_dir)\n",
    "\n",
    "    mask_dir, nii_dir, ct24_path, ct24_tumor_mask_path, ct24_liver_mask_path, \\\n",
    "    mribl_art_path, mribl_pre_path, \\\n",
    "    mribl_tumor_mask_path, mribl_liver_mask_path, \\\n",
    "    mribl_enh_mask_path, mribl_nec_mask_path, \\\n",
    "    mri30d_art_path, mri30d_pre_path, \\\n",
    "    mri30d_tumor_mask_path, mri30d_liver_mask_path, \\\n",
    "    mri30d_enh_mask_path, mri30d_nec_mask_path, \\\n",
    "    ball_ct24_path, ball_mribl_path, ball_mri30d_path, \\\n",
    "    ball_mask_path, ball_mribl_enh_mask_path, ball_mri30d_enh_mask_path, \\\n",
    "    midlip_mask_path, ball_midlip_mask_path, \\\n",
    "    highlip_mask_path, ball_highlip_mask_path = paths\n",
    "\n",
    "    lm.draw_unreg_fig(mribl_art_path, mribl_tumor_mask_path, join(C.png_dir, patient_id, \"BL MR\"), 'b', 'mr')\n",
    "    lm.draw_unreg_fig(mri30d_art_path, mri30d_tumor_mask_path, join(C.png_dir, patient_id, \"30d MR\"), 'r', 'mr')\n",
    "    lm.draw_unreg_fig(ct24_path, ct24_tumor_mask_path, join(C.png_dir, patient_id, \"24h CT\"), 'g', 'ct')"
   ]
  },
  {
   "cell_type": "code",
   "execution_count": null,
   "metadata": {
    "collapsed": true,
    "hidden": true
   },
   "outputs": [],
   "source": [
    "lm.draw_reg_fig(ball_mribl_path, ball_mribl_enh_mask_path, join(C.fig_dir, patient_id, \"MRIBL\"), 'b', 'mr')\n",
    "lm.draw_reg_fig(ball_mri30d_path, ball_mri30d_enh_mask_path, \"D:\\\\Lipiodol\\\\Figures\\\\MRI30d\", 'r', 'mr')\n",
    "lm.draw_reg_fig(ball_ct24_path, ball_highlip_mask_path, \"D:\\\\Lipiodol\\\\Figures\\\\Lip\", 'g', 'ct')"
   ]
  },
  {
   "cell_type": "code",
   "execution_count": null,
   "metadata": {
    "ExecuteTime": {
     "end_time": "2018-04-06T15:09:57.976409Z",
     "start_time": "2018-04-06T15:09:56.957128Z"
    },
    "collapsed": true,
    "hidden": true
   },
   "outputs": [],
   "source": [
    "# Figure for 24h CT\n",
    "img,_ = hf.nii_load(ball_ct24_path)\n",
    "blmask,_ = masks.get_mask(ball_mribl_enh_mask_path)\n",
    "fumask,_ = masks.get_mask(ball_mri30d_enh_mask_path)\n",
    "\n",
    "for sl in range(img.shape[-1]//4,img.shape[-1]*3//4,img.shape[-1]//12):\n",
    "    plt.close()\n",
    "    plt.imshow(img[...,sl], cmap='gray', vmin=30, vmax=250)\n",
    "    FU=plt.contour(fumask[:,:,sl], colors='r', alpha=.4)\n",
    "    plt.contour(blmask[:,:,sl], colors='b', alpha=.4)\n",
    "    plt.contourf(fumask[:,:,sl], colors=[(0,0,0,0)]*6+[(1,0,0,.2)]) #look at the length of FU.allsegs\n",
    "    plt.contourf(blmask[:,:,sl], colors=[(0,0,0,0)]*6+[(0,0,1,.2)])\n",
    "    plt.axis('off')\n",
    "    plt.savefig(\"D:\\\\Lipiodol\\\\Figures\\\\24hCT_%d.png\" % sl, dpi=100, bbox_inches='tight')"
   ]
  },
  {
   "cell_type": "markdown",
   "metadata": {
    "heading_collapsed": true,
    "hidden": true
   },
   "source": [
    "### DICOMs for HU threshold validation"
   ]
  },
  {
   "cell_type": "code",
   "execution_count": 381,
   "metadata": {
    "ExecuteTime": {
     "end_time": "2018-04-14T21:35:40.337922Z",
     "start_time": "2018-04-14T21:31:34.790586Z"
    },
    "hidden": true
   },
   "outputs": [],
   "source": [
    "importlib.reload(masks)\n",
    "for fn in glob.glob(join(target_dir,\"*\")):\n",
    "    patient_id = basename(fn)\n",
    "    paths = lm.get_paths(patient_id, target_dir)\n",
    "\n",
    "    mask_dir, nii_dir, ct24_path, ct24_tumor_mask_path, ct24_liver_mask_path, \\\n",
    "    mribl_art_path, mribl_pre_path, \\\n",
    "    mribl_tumor_mask_path, mribl_liver_mask_path, \\\n",
    "    mribl_enh_mask_path, mribl_nec_mask_path, \\\n",
    "    mri30d_art_path, mri30d_pre_path, \\\n",
    "    mri30d_tumor_mask_path, mri30d_liver_mask_path, \\\n",
    "    mri30d_enh_mask_path, mri30d_nec_mask_path, \\\n",
    "    ball_ct24_path, ball_mribl_path, ball_mri30d_path, \\\n",
    "    ball_mask_path, ball_mribl_enh_mask_path, ball_mri30d_enh_mask_path, \\\n",
    "    midlip_mask_path, ball_midlip_mask_path, \\\n",
    "    highlip_mask_path, ball_highlip_mask_path = paths\n",
    "    lowlip_mask_path = join(mask_dir, \"low_lipiodol\")\n",
    "\n",
    "    masks.create_dcm_with_multimask(ct24_path, [highlip_mask_path, midlip_mask_path, lowlip_mask_path],\n",
    "                                    join(C.fig_dir, \"HU threshold validation\", patient_id), overwrite=True, padding=0, window=\"ct\")"
   ]
  },
  {
   "cell_type": "markdown",
   "metadata": {
    "heading_collapsed": true,
    "hidden": true
   },
   "source": [
    "### Binary masks for sphering figure"
   ]
  },
  {
   "cell_type": "code",
   "execution_count": null,
   "metadata": {
    "ExecuteTime": {
     "end_time": "2018-04-14T22:13:36.929832Z",
     "start_time": "2018-04-14T22:11:41.386701Z"
    },
    "collapsed": true,
    "hidden": true
   },
   "outputs": [],
   "source": [
    "importlib.reload(hf)\n",
    "liver_dir = join(C.fig_dir, \"sphering figure\", \"liver binary mask\")\n",
    "tumor_dir = join(C.fig_dir, \"sphering figure\", \"tumor binary mask\")\n",
    "if not exists(liver_dir):\n",
    "    os.makedirs(liver_dir)\n",
    "if not exists(tumor_dir):\n",
    "    os.makedirs(tumor_dir)\n",
    "                \n",
    "for fn in glob.glob(join(target_dir,\"*\")):\n",
    "    patient_id = basename(fn)\n",
    "    paths = lm.get_paths(patient_id, target_dir)\n",
    "\n",
    "    mask_dir, nii_dir, ct24_path, ct24_tumor_mask_path, ct24_liver_mask_path, \\\n",
    "    mribl_art_path, mribl_pre_path, \\\n",
    "    mribl_tumor_mask_path, mribl_liver_mask_path, \\\n",
    "    mribl_enh_mask_path, mribl_nec_mask_path, \\\n",
    "    mri30d_art_path, mri30d_pre_path, \\\n",
    "    mri30d_tumor_mask_path, mri30d_liver_mask_path, \\\n",
    "    mri30d_enh_mask_path, mri30d_nec_mask_path, \\\n",
    "    ball_ct24_path, ball_mribl_path, ball_mri30d_path, \\\n",
    "    ball_mask_path, ball_mribl_enh_mask_path, ball_mri30d_enh_mask_path, \\\n",
    "    midlip_mask_path, ball_midlip_mask_path, \\\n",
    "    highlip_mask_path, ball_highlip_mask_path = paths\n",
    "    \n",
    "    if False:\n",
    "        M = hf.crop_nonzero(masks.get_mask(mribl_liver_mask_path)[0], pad=5)[0]\n",
    "        plt.imshow(M[:,:,M.shape[-1]//2], cmap='gray')\n",
    "        plt.axis('off')\n",
    "        plt.savefig(join(liver_dir, \"%s_BLMR.png\" % patient_id), dpi=100, bbox_inches='tight')\n",
    "\n",
    "        M = hf.crop_nonzero(masks.get_mask(ct24_liver_mask_path)[0], pad=5)[0]\n",
    "        plt.imshow(M[:,:,M.shape[-1]//2], cmap='gray')\n",
    "        plt.axis('off')\n",
    "        plt.savefig(join(liver_dir, \"%s_24hCT.png\" % patient_id), dpi=100, bbox_inches='tight')\n",
    "\n",
    "        M = hf.crop_nonzero(masks.get_mask(mri30d_liver_mask_path)[0], pad=5)[0]\n",
    "        plt.imshow(M[:,:,M.shape[-1]//2], cmap='gray')\n",
    "        plt.axis('off')\n",
    "        plt.savefig(join(liver_dir, \"%s_30dMR.png\" % patient_id), dpi=100, bbox_inches='tight')\n",
    "\n",
    "    M = hf.crop_nonzero(masks.get_mask(mribl_tumor_mask_path)[0], pad=5)[0]\n",
    "    plt.imshow(M[:,:,M.shape[-1]//2], cmap='gray')\n",
    "    plt.axis('off')\n",
    "    plt.savefig(join(tumor_dir, \"%s_BLMR.png\" % patient_id), dpi=100, bbox_inches='tight')\n",
    "                \n",
    "    M = hf.crop_nonzero(masks.get_mask(ct24_tumor_mask_path)[0], pad=5)[0]\n",
    "    plt.imshow(M[:,:,M.shape[-1]//2], cmap='gray')\n",
    "    plt.axis('off')\n",
    "    plt.savefig(join(tumor_dir, \"%s_24hCT.png\" % patient_id), dpi=100, bbox_inches='tight')\n",
    "\n",
    "    M = hf.crop_nonzero(masks.get_mask(mri30d_tumor_mask_path)[0], pad=5)[0]\n",
    "    plt.imshow(M[:,:,M.shape[-1]//2], cmap='gray')\n",
    "    plt.axis('off')\n",
    "    plt.savefig(join(tumor_dir, \"%s_30dMR.png\" % patient_id), dpi=100, bbox_inches='tight')"
   ]
  },
  {
   "cell_type": "code",
   "execution_count": null,
   "metadata": {
    "collapsed": true,
    "hidden": true
   },
   "outputs": [],
   "source": [
    "importlib.reload(hf)\n",
    "liver_dir = join(C.fig_dir, \"sphering figure\", \"liver with mask\")\n",
    "tumor_dir = join(C.fig_dir, \"sphering figure\", \"tumor with mask\")\n",
    "if not exists(liver_dir):\n",
    "    os.makedirs(liver_dir)\n",
    "if not exists(tumor_dir):\n",
    "    os.makedirs(tumor_dir)\n",
    "                \n",
    "for fn in glob.glob(join(target_dir,\"*\")):\n",
    "    patient_id = basename(fn)\n",
    "    paths = lm.get_paths(patient_id, target_dir)\n",
    "\n",
    "    mask_dir, nii_dir, ct24_path, ct24_tumor_mask_path, ct24_liver_mask_path, \\\n",
    "    mribl_art_path, mribl_pre_path, \\\n",
    "    mribl_tumor_mask_path, mribl_liver_mask_path, \\\n",
    "    mribl_enh_mask_path, mribl_nec_mask_path, \\\n",
    "    mri30d_art_path, mri30d_pre_path, \\\n",
    "    mri30d_tumor_mask_path, mri30d_liver_mask_path, \\\n",
    "    mri30d_enh_mask_path, mri30d_nec_mask_path, \\\n",
    "    ball_ct24_path, ball_mribl_path, ball_mri30d_path, \\\n",
    "    ball_mask_path, ball_mribl_enh_mask_path, ball_mri30d_enh_mask_path, \\\n",
    "    midlip_mask_path, ball_midlip_mask_path, \\\n",
    "    highlip_mask_path, ball_highlip_mask_path = paths\n",
    "    \n",
    "    M = hf.crop_nonzero(masks.get_mask(mribl_liver_mask_path)[0], pad=5)[0]\n",
    "    plt.imshow(M[:,:,M.shape[-1]//2], cmap='gray')\n",
    "    plt.axis('off')\n",
    "    plt.savefig(join(liver_dir, \"%s_BLMR.png\" % patient_id), dpi=100, bbox_inches='tight')\n",
    "\n",
    "    M = hf.crop_nonzero(masks.get_mask(ct24_liver_mask_path)[0], pad=5)[0]\n",
    "    plt.imshow(M[:,:,M.shape[-1]//2], cmap='gray')\n",
    "    plt.axis('off')\n",
    "    plt.savefig(join(liver_dir, \"%s_24hCT.png\" % patient_id), dpi=100, bbox_inches='tight')\n",
    "\n",
    "    M = hf.crop_nonzero(masks.get_mask(mri30d_liver_mask_path)[0], pad=5)[0]\n",
    "    plt.imshow(M[:,:,M.shape[-1]//2], cmap='gray')\n",
    "    plt.axis('off')\n",
    "    plt.savefig(join(liver_dir, \"%s_30dMR.png\" % patient_id), dpi=100, bbox_inches='tight')\n",
    "\n",
    "    M = hf.crop_nonzero(masks.get_mask(mribl_tumor_mask_path)[0], pad=5)[0]\n",
    "    plt.imshow(M[:,:,M.shape[-1]//2], cmap='gray')\n",
    "    plt.axis('off')\n",
    "    plt.savefig(join(tumor_dir, \"%s_BLMR.png\" % patient_id), dpi=100, bbox_inches='tight')\n",
    "                \n",
    "    M = hf.crop_nonzero(masks.get_mask(ct24_tumor_mask_path)[0], pad=5)[0]\n",
    "    plt.imshow(M[:,:,M.shape[-1]//2], cmap='gray')\n",
    "    plt.axis('off')\n",
    "    plt.savefig(join(tumor_dir, \"%s_24hCT.png\" % patient_id), dpi=100, bbox_inches='tight')\n",
    "\n",
    "    M = hf.crop_nonzero(masks.get_mask(mri30d_tumor_mask_path)[0], pad=5)[0]\n",
    "    plt.imshow(M[:,:,M.shape[-1]//2], cmap='gray')\n",
    "    plt.axis('off')\n",
    "    plt.savefig(join(tumor_dir, \"%s_30dMR.png\" % patient_id), dpi=100, bbox_inches='tight')"
   ]
  },
  {
   "cell_type": "code",
   "execution_count": null,
   "metadata": {
    "ExecuteTime": {
     "end_time": "2018-04-15T00:24:45.209030Z",
     "start_time": "2018-04-15T00:24:44.976228Z"
    },
    "collapsed": true,
    "hidden": true
   },
   "outputs": [],
   "source": [
    "M = hf.crop_nonzero(masks.get_mask(ball_mask_path)[0], pad=5)[0]\n",
    "plt.imshow(M[:,:,M.shape[-1]//2+40], cmap='gray')\n",
    "plt.axis('off')\n",
    "plt.savefig(\"D:\\\\ball.png\", dpi=100, bbox_inches='tight')"
   ]
  },
  {
   "cell_type": "markdown",
   "metadata": {
    "heading_collapsed": true
   },
   "source": [
    "## Extra"
   ]
  },
  {
   "cell_type": "markdown",
   "metadata": {
    "hidden": true
   },
   "source": [
    "IVs = get_intensity_section(ball_ct24_path, ball_mask_path, params)\n",
    "            if highest_I_V < I_V:\n",
    "                best_params = params\n",
    "                highest_I_V = I_V\n",
    "                print(best_params)\n",
    "theta1_best, phi1_best, dtheta_best, dz_best = best_params"
   ]
  },
  {
   "cell_type": "code",
   "execution_count": null,
   "metadata": {
    "ExecuteTime": {
     "end_time": "2018-04-05T22:22:47.402911Z",
     "start_time": "2018-04-05T22:22:47.378848Z"
    },
    "collapsed": true,
    "hidden": true
   },
   "outputs": [],
   "source": [
    "ball_IV = get_avg_ball_intensity(ball_ct24_path, ball_mask_path)\n",
    "core_IV = get_avg_core_intensity(ball_ct24_path, ball_mask_path)"
   ]
  },
  {
   "cell_type": "code",
   "execution_count": 303,
   "metadata": {
    "ExecuteTime": {
     "end_time": "2018-04-06T01:56:56.770027Z",
     "start_time": "2018-04-06T01:56:56.766015Z"
    },
    "hidden": true
   },
   "outputs": [
    {
     "data": {
      "text/plain": [
       "(197.83461276161094, 209.89937589866474)"
      ]
     },
     "execution_count": 303,
     "metadata": {},
     "output_type": "execute_result"
    }
   ],
   "source": [
    "ball_IV, core_IV"
   ]
  },
  {
   "cell_type": "code",
   "execution_count": null,
   "metadata": {
    "ExecuteTime": {
     "end_time": "2018-04-06T02:25:17.074399Z",
     "start_time": "2018-04-06T02:25:15.865084Z"
    },
    "collapsed": true,
    "hidden": true
   },
   "outputs": [],
   "source": [
    "importlib.reload(lm)\n",
    "IVs = lm.calc_intensity_shells_angles(hf.nii_load(ball_ct24_path)[0], ball_mask_path)\n",
    "IVs[IVs==0] = np.nan\n",
    "\n",
    "samples = lm.fibonacci_sphere(2500, True, randomize=True)\n",
    "samples = np.round(samples).astype(int)\n",
    "s0 = samples[:,0]\n",
    "s1 = samples[:,1]\n",
    "for i in range(IVs.shape[-1]):\n",
    "    print(np.nanmean(IVs[s0,s1,i]))"
   ]
  },
  {
   "cell_type": "code",
   "execution_count": 388,
   "metadata": {
    "ExecuteTime": {
     "end_time": "2018-04-06T03:41:24.387987Z",
     "start_time": "2018-04-06T03:41:24.373950Z"
    },
    "collapsed": true,
    "hidden": true
   },
   "outputs": [],
   "source": [
    "loopIVs = np.tile(IVs[:-1,:-1,:], (2,2,1))\n",
    "loopIVs[180:,:,:] = np.nan"
   ]
  },
  {
   "cell_type": "code",
   "execution_count": null,
   "metadata": {
    "ExecuteTime": {
     "end_time": "2018-04-06T04:07:35.800850Z",
     "start_time": "2018-04-06T04:07:28.305059Z"
    },
    "collapsed": true,
    "hidden": true
   },
   "outputs": [],
   "source": [
    "for dtheta in range(30,180,20):\n",
    "    print(dtheta)\n",
    "    best_IV = core_IV\n",
    "    worst_IV = core_IV\n",
    "    for theta in range(0,180,20):\n",
    "        for phi in range(180,480,20):\n",
    "            for shell1 in range(4):\n",
    "                for shell2 in range(shell1+1,5):\n",
    "                    IV = np.nanmean(loopIVs[max(theta-dtheta,0) : theta+dtheta, phi-dtheta : phi+dtheta, shell1:shell2])\n",
    "                    params = theta, phi % 360, shell1, shell2\n",
    "                    if best_IV < IV:\n",
    "                        best_params = params\n",
    "                        best_IV = IV\n",
    "                        \n",
    "            IV = np.nanmean(loopIVs[max(theta-dtheta,0) : theta+dtheta, phi-dtheta : phi+dtheta, :5])\n",
    "            params = theta, phi % 360\n",
    "            if worst_IV > IV:\n",
    "                worst_params = params\n",
    "                worst_IV = IV\n",
    "                \n",
    "    print(best_params, round(best_IV,1))\n",
    "    print(worst_params, round(worst_IV,1))"
   ]
  },
  {
   "cell_type": "code",
   "execution_count": null,
   "metadata": {
    "ExecuteTime": {
     "end_time": "2018-04-06T04:14:42.190274Z",
     "start_time": "2018-04-06T04:14:40.506330Z"
    },
    "collapsed": true,
    "hidden": true
   },
   "outputs": [],
   "source": [
    "importlib.reload(lm)\n",
    "enhmask_density = lm.calc_intensity_shells_angles(masks.get_mask(ball_mribl_enh_mask_path)[0]+1, ball_mask_path)\n",
    "\n",
    "enhmask_density = enhmask_density[...,:5]\n",
    "enhmask_density[enhmask_density==0] = np.nan\n",
    "\n",
    "samples = fibonacci_sphere(2500, True, randomize=True)\n",
    "samples = np.round(samples).astype(int)\n",
    "s0 = samples[:,0]\n",
    "s1 = samples[:,1]\n",
    "for i in range(enhmask_density.shape[-1]):\n",
    "    print(np.nanmean(enhmask_density[s0,s1,i]))"
   ]
  },
  {
   "cell_type": "code",
   "execution_count": null,
   "metadata": {
    "ExecuteTime": {
     "end_time": "2018-04-06T04:15:33.357552Z",
     "start_time": "2018-04-06T04:15:31.657137Z"
    },
    "collapsed": true,
    "hidden": true
   },
   "outputs": [],
   "source": [
    "importlib.reload(lm)\n",
    "enhmask_density = lm.calc_intensity_shells_angles(masks.get_mask(ball_mri30d_enh_mask_path)[0]+1, ball_mask_path)\n",
    "\n",
    "enhmask_density = enhmask_density[...,:5]\n",
    "enhmask_density[enhmask_density==0] = np.nan\n",
    "\n",
    "samples = fibonacci_sphere(2500, True, randomize=True)\n",
    "samples = np.round(samples).astype(int)\n",
    "s0 = samples[:,0]\n",
    "s1 = samples[:,1]\n",
    "for i in range(enhmask_density.shape[-1]):\n",
    "    print(np.nanmean(enhmask_density[s0,s1,i]))"
   ]
  },
  {
   "cell_type": "code",
   "execution_count": null,
   "metadata": {
    "ExecuteTime": {
     "end_time": "2018-04-06T04:03:49.971534Z",
     "start_time": "2018-04-06T04:03:49.958472Z"
    },
    "collapsed": true,
    "hidden": true
   },
   "outputs": [],
   "source": [
    "for i in range(enhmask_density.shape[-1]):\n",
    "    print(np.nanmean(enhmask_density[s0,s1,i]))"
   ]
  },
  {
   "cell_type": "code",
   "execution_count": null,
   "metadata": {
    "collapsed": true,
    "hidden": true
   },
   "outputs": [],
   "source": [
    "enhmask_density ="
   ]
  },
  {
   "cell_type": "code",
   "execution_count": null,
   "metadata": {
    "collapsed": true,
    "hidden": true
   },
   "outputs": [],
   "source": [
    "conv_rate = np.zeros((181,360))"
   ]
  }
 ],
 "metadata": {
  "kernelspec": {
   "display_name": "Python 3",
   "language": "python",
   "name": "python3"
  },
  "language_info": {
   "codemirror_mode": {
    "name": "ipython",
    "version": 3
   },
   "file_extension": ".py",
   "mimetype": "text/x-python",
   "name": "python",
   "nbconvert_exporter": "python",
   "pygments_lexer": "ipython3",
   "version": "3.5.0"
  },
  "varInspector": {
   "cols": {
    "lenName": 16,
    "lenType": 16,
    "lenVar": 40
   },
   "kernels_config": {
    "python": {
     "delete_cmd_postfix": "",
     "delete_cmd_prefix": "del ",
     "library": "var_list.py",
     "varRefreshCmd": "print(var_dic_list())"
    },
    "r": {
     "delete_cmd_postfix": ") ",
     "delete_cmd_prefix": "rm(",
     "library": "var_list.r",
     "varRefreshCmd": "cat(var_dic_list()) "
    }
   },
   "types_to_exclude": [
    "module",
    "function",
    "builtin_function_or_method",
    "instance",
    "_Feature"
   ],
   "window_display": false
  }
 },
 "nbformat": 4,
 "nbformat_minor": 2
}
