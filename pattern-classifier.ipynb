{
 "cells": [
  {
   "cell_type": "markdown",
   "metadata": {
    "heading_collapsed": true
   },
   "source": [
    "## Imports"
   ]
  },
  {
   "cell_type": "code",
   "execution_count": 1,
   "metadata": {
    "ExecuteTime": {
     "end_time": "2018-04-08T20:46:35.573929Z",
     "start_time": "2018-04-08T20:46:33.307328Z"
    },
    "hidden": true
   },
   "outputs": [
    {
     "name": "stderr",
     "output_type": "stream",
     "text": [
      "C:\\Users\\Clinton\\AppData\\Local\\conda\\conda\\envs\\old-keras\\lib\\site-packages\\h5py\\__init__.py:34: FutureWarning: Conversion of the second argument of issubdtype from `float` to `np.floating` is deprecated. In future, it will be treated as `np.float64 == np.dtype(float).type`.\n",
      "  from ._conv import register_converters as _register_converters\n",
      "Using TensorFlow backend.\n"
     ]
    }
   ],
   "source": [
    "import copy\n",
    "import glob\n",
    "import importlib\n",
    "import math\n",
    "import os\n",
    "import random\n",
    "import shutil\n",
    "import sys\n",
    "from math import degrees, pi, radians\n",
    "from os.path import *\n",
    "\n",
    "import keras\n",
    "import matplotlib.pyplot as plt\n",
    "import numpy as np\n",
    "import pandas as pd\n",
    "import SimpleITK as sitk\n",
    "import skimage.feature as skf\n",
    "from skimage.morphology import ball\n",
    "\n",
    "import cnn_builder as cbuild\n",
    "import config\n",
    "import lipiodol_methods as lm\n",
    "import niftiutils.helper_fxns as hf\n",
    "import niftiutils.liver_metrics as lmet\n",
    "import niftiutils.masks as masks\n",
    "import niftiutils.registration as reg\n",
    "import niftiutils.transforms as tr\n",
    "from config import Config\n",
    "\n",
    "%matplotlib inline"
   ]
  },
  {
   "cell_type": "code",
   "execution_count": 2,
   "metadata": {
    "ExecuteTime": {
     "end_time": "2018-04-08T20:46:35.585965Z",
     "start_time": "2018-04-08T20:46:35.581954Z"
    },
    "collapsed": true,
    "hidden": true,
    "scrolled": true
   },
   "outputs": [],
   "source": [
    "importlib.reload(hf)\n",
    "C = config.Config()"
   ]
  },
  {
   "cell_type": "code",
   "execution_count": 3,
   "metadata": {
    "ExecuteTime": {
     "end_time": "2018-04-08T20:46:35.598998Z",
     "start_time": "2018-04-08T20:46:35.592983Z"
    },
    "collapsed": true,
    "hidden": true
   },
   "outputs": [],
   "source": [
    "img_dir = \"D:\\\\Lipiodol\\\\Images all\"\n",
    "seg_dir = \"D:\\\\Lipiodol\\\\Images extracted and segmentations\"\n",
    "target_dir = \"D:\\\\Lipiodol\\\\Data\""
   ]
  },
  {
   "cell_type": "markdown",
   "metadata": {
    "collapsed": true
   },
   "source": [
    "## Pattern analysis"
   ]
  },
  {
   "cell_type": "code",
   "execution_count": null,
   "metadata": {
    "collapsed": true
   },
   "outputs": [],
   "source": [
    "(PK2 image)"
   ]
  },
  {
   "cell_type": "code",
   "execution_count": 47,
   "metadata": {
    "ExecuteTime": {
     "end_time": "2018-04-09T01:22:57.346709Z",
     "start_time": "2018-04-09T01:22:54.718260Z"
    },
    "collapsed": true
   },
   "outputs": [],
   "source": [
    "patient_id = \"PK-02\"\n",
    "importlib.reload(lm)\n",
    "paths = lm.get_paths(patient_id, target_dir, check_valid=False)\n",
    "\n",
    "mask_dir, nii_dir, ct24_path, ct24_tumor_mask_path, ct24_liver_mask_path, \\\n",
    "mribl_art_path, mribl_pre_path, \\\n",
    "mribl_tumor_mask_path, mribl_liver_mask_path, \\\n",
    "mribl_enh_mask_path, mribl_nec_mask_path, \\\n",
    "mri30d_art_path, mri30d_pre_path, \\\n",
    "mri30d_tumor_mask_path, mri30d_liver_mask_path, \\\n",
    "mri30d_enh_mask_path, mri30d_nec_mask_path, \\\n",
    "ball_ct24_path, ball_mribl_path, ball_mri30d_path, \\\n",
    "ball_mask_path, ball_mribl_enh_mask_path, ball_mri30d_enh_mask_path, \\\n",
    "midlip_mask_path, ball_midlip_mask_path, \\\n",
    "highlip_mask_path, ball_highlip_mask_path = paths\n",
    "\n",
    "ctmask,ctd = masks.get_mask(ct24_tumor_mask_path, img_path=ct24_path)\n",
    "mrmask,mrd = masks.get_mask(mribl_tumor_mask_path, img_path=mribl_art_path)\n",
    "ctmask = hf.crop_nonzero(ctmask)[0]\n",
    "mrmask = hf.crop_nonzero(mrmask)[0]\n",
    "mask_scale = (ctmask.sum()*np.product(ctd) / (mrmask.sum()*np.product(mrd)))**(1/6)\n",
    "CT = np.max([ctmask.shape[i] * ctd[i] / mask_scale for i in range(3)])\n",
    "MRBL = np.max([mrmask.shape[i] * mrd[i] for i in range(3)])\n",
    "\n",
    "mrmask,mrd = masks.get_mask(mri30d_tumor_mask_path, img_path=mri30d_art_path)\n",
    "mrmask = hf.crop_nonzero(mrmask)[0]\n",
    "MR30 = np.max([mrmask.shape[i] * mrd[i] for i in range(3)])"
   ]
  },
  {
   "cell_type": "code",
   "execution_count": 49,
   "metadata": {
    "ExecuteTime": {
     "end_time": "2018-04-09T01:23:58.557140Z",
     "start_time": "2018-04-09T01:23:32.631517Z"
    }
   },
   "outputs": [],
   "source": [
    "xform_path, crops, pads = reg.get_mask_Tx_shape(mribl_art_path, mribl_tumor_mask_path, ball_mask_path=ball_mask_path)"
   ]
  },
  {
   "cell_type": "code",
   "execution_count": 53,
   "metadata": {
    "ExecuteTime": {
     "end_time": "2018-04-09T01:24:40.493590Z",
     "start_time": "2018-04-09T01:24:35.987224Z"
    }
   },
   "outputs": [],
   "source": [
    "_ = reg.transform_mask(mribl_enh_mask_path, mribl_art_path, xform_path,\n",
    "                         crops, pads, [1.]*3, ball_mribl_enh_mask_path)"
   ]
  },
  {
   "cell_type": "code",
   "execution_count": 59,
   "metadata": {
    "ExecuteTime": {
     "end_time": "2018-04-09T01:26:45.528986Z",
     "start_time": "2018-04-09T01:26:44.746669Z"
    }
   },
   "outputs": [],
   "source": [
    "img, img_dims = hf.nii_load(mribl_art_path)\n",
    "mask, mask_dims = masks.get_mask(mribl_enh_mask_path, img_dims, img.shape)\n",
    "crops_m, crops_f = crops\n",
    "pads_m, pads_f = pads\n",
    "\n",
    "mask, _ = hf.crop_nonzero(mask, crops_m)\n",
    "mask, _ = tr.rescale_img(mask, [1.]*3, mask_dims)\n",
    "mask = np.pad(mask, pads_m, 'constant')"
   ]
  },
  {
   "cell_type": "code",
   "execution_count": 60,
   "metadata": {
    "ExecuteTime": {
     "end_time": "2018-04-09T01:26:48.971295Z",
     "start_time": "2018-04-09T01:26:48.967284Z"
    }
   },
   "outputs": [
    {
     "data": {
      "text/plain": [
       "(98, 99, 99)"
      ]
     },
     "execution_count": 60,
     "metadata": {},
     "output_type": "execute_result"
    }
   ],
   "source": [
    "mask.shape"
   ]
  },
  {
   "cell_type": "code",
   "execution_count": 57,
   "metadata": {
    "ExecuteTime": {
     "end_time": "2018-04-09T01:26:19.629478Z",
     "start_time": "2018-04-09T01:26:19.620455Z"
    }
   },
   "outputs": [
    {
     "data": {
      "text/plain": [
       "(98, 99, 99)"
      ]
     },
     "execution_count": 57,
     "metadata": {},
     "output_type": "execute_result"
    }
   ],
   "source": [
    "hf.nii_load(mov_tmp_path)[0].shape"
   ]
  },
  {
   "cell_type": "markdown",
   "metadata": {},
   "source": [
    "### Build DataFrame"
   ]
  },
  {
   "cell_type": "code",
   "execution_count": 37,
   "metadata": {
    "ExecuteTime": {
     "end_time": "2018-04-08T22:57:35.152446Z",
     "start_time": "2018-04-08T22:57:35.145429Z"
    },
    "collapsed": true
   },
   "outputs": [],
   "source": [
    "df = pd.DataFrame(columns=[\"enhancing_vol%\", \"lipcoverage_vol%\",\n",
    "                           \"rim_enhancing%\", \"rim_lipiodol%\",\n",
    "                           \"mribl_sum_entropy\", \"mribl_entropy\", \"mribl_diff_entropy\",\n",
    "                           \"midlip_sum_entropy\", \"midlip_entropy\", \"midlip_diff_entropy\"])"
   ]
  },
  {
   "cell_type": "code",
   "execution_count": 88,
   "metadata": {
    "ExecuteTime": {
     "end_time": "2018-04-08T19:42:24.595109Z",
     "start_time": "2018-04-08T19:42:24.583101Z"
    }
   },
   "outputs": [
    {
     "data": {
      "text/plain": [
       "<module 'lipiodol_methods' from 'C:\\\\Users\\\\Clinton\\\\Documents\\\\Lipiodol\\\\lipiodol_methods.py'>"
      ]
     },
     "execution_count": 88,
     "metadata": {},
     "output_type": "execute_result"
    }
   ],
   "source": [
    "importlib.reload(lm)"
   ]
  },
  {
   "cell_type": "code",
   "execution_count": 62,
   "metadata": {
    "ExecuteTime": {
     "end_time": "2018-04-09T01:28:27.166787Z",
     "start_time": "2018-04-09T01:28:27.162775Z"
    }
   },
   "outputs": [
    {
     "data": {
      "text/plain": [
       "27"
      ]
     },
     "execution_count": 62,
     "metadata": {},
     "output_type": "execute_result"
    }
   ],
   "source": [
    "[basename(fn) for fn in glob.glob(join(target_dir,\"*\"))].index('PK-02')"
   ]
  },
  {
   "cell_type": "code",
   "execution_count": null,
   "metadata": {
    "ExecuteTime": {
     "start_time": "2018-04-09T01:28:38.220Z"
    },
    "scrolled": true
   },
   "outputs": [
    {
     "name": "stdout",
     "output_type": "stream",
     "text": [
      "PK-02\n"
     ]
    }
   ],
   "source": [
    "importlib.reload(lm)\n",
    "for fn in glob.glob(join(target_dir,\"*\"))[27:]:\n",
    "    patient_id = basename(fn)\n",
    "    print(patient_id)\n",
    "    lm.spherize(patient_id, target_dir)\n",
    "    df.loc[patient_id] = lm.get_row_entry(patient_id, target_dir)"
   ]
  },
  {
   "cell_type": "code",
   "execution_count": 46,
   "metadata": {
    "ExecuteTime": {
     "end_time": "2018-04-09T01:21:41.797037Z",
     "start_time": "2018-04-09T01:21:40.972631Z"
    }
   },
   "outputs": [
    {
     "data": {
      "image/png": "[encoded data removed]",
      "text/plain": [
       "<matplotlib.figure.Figure at 0x228802b7278>"
      ]
     },
     "metadata": {},
     "output_type": "display_data"
    }
   ],
   "source": [
    "masks.draw_mask(mribl_enh_mask_path)"
   ]
  },
  {
   "cell_type": "markdown",
   "metadata": {
    "ExecuteTime": {
     "end_time": "2018-04-08T19:35:20.399438Z",
     "start_time": "2018-04-08T19:35:19.191688Z"
    }
   },
   "source": [
    "paths = lm.get_paths(patient_id, target_dir)\n",
    "\n",
    "mask_dir, nii_dir, ct24_path, ct24_tumor_mask_path, ct24_liver_mask_path, \\\n",
    "mribl_art_path, mribl_pre_path, \\\n",
    "mribl_tumor_mask_path, mribl_liver_mask_path, \\\n",
    "mribl_enh_mask_path, mribl_nec_mask_path, \\\n",
    "mri30d_art_path, mri30d_pre_path, \\\n",
    "mri30d_tumor_mask_path, mri30d_liver_mask_path, \\\n",
    "mri30d_enh_mask_path, mri30d_nec_mask_path, \\\n",
    "ball_ct24_path, ball_mribl_path, ball_mri30d_path, \\\n",
    "ball_mask_path, ball_mribl_enh_mask_path, ball_mri30d_enh_mask_path, \\\n",
    "midlip_mask_path, ball_midlip_mask_path, \\\n",
    "highlip_mask_path, ball_highlip_mask_path = paths\n",
    "\n",
    "ctmask,ctd = masks.get_mask(ct24_tumor_mask_path, img_path=ct24_path)\n",
    "mrmask,mrd = masks.get_mask(mribl_tumor_mask_path, img_path=mribl_art_path)\n",
    "mask_scale = (ctmask.sum()*np.product(ctd) / (mrmask.sum()*np.product(mrd)))**(1/6)\n",
    "ctmask\n",
    "CT = np.max([ctmask.shape[i] * ctd[i] / mask_scale for i in range(3)])\n",
    "MRBL = np.max([mrmask.shape[i] * mrd[i] for i in range(3)])\n",
    "\n",
    "mrmask,mrd = masks.get_mask(mri30d_tumor_mask_path, img_path=mri30d_art_path)\n",
    "MR30 = np.max([mrmask.shape[i] * mrd[i] for i in range(3)])\n",
    "\n",
    "CT, MRBL, MR30\n",
    "\n",
    "xform_path, crops, pads = reg.get_mask_Tx_shape(mri30d_art_path, mri30d_tumor_mask_path, mask_path=ball_mask_path)\n",
    "\n",
    "target_shape = masks.get_mask(ball_mask_path)[0].shape\n",
    "\n",
    "_ = reg.transform_region(mri30d_art_path, xform_path, crops, pads, [1.]*3, ball_mri30d_path, target_shape=target_shape)\n",
    "_ = reg.transform_mask(mri30d_enh_mask_path, mri30d_art_path, xform_path,\n",
    "                     crops, pads, [1.]*3, ball_mri30d_enh_mask_path)\n",
    "\n",
    "masks.get_mask(ball_mask_path)[0].shape"
   ]
  },
  {
   "cell_type": "code",
   "execution_count": 30,
   "metadata": {
    "ExecuteTime": {
     "end_time": "2018-04-08T22:50:42.751562Z",
     "start_time": "2018-04-08T22:50:42.641981Z"
    },
    "collapsed": true
   },
   "outputs": [],
   "source": []
  },
  {
   "cell_type": "markdown",
   "metadata": {},
   "source": [
    "## Create mini-DICOMs"
   ]
  },
  {
   "cell_type": "code",
   "execution_count": null,
   "metadata": {
    "collapsed": true
   },
   "outputs": [],
   "source": [
    "output_directory = \"D:\\\\rim_ranking\"\n",
    "output_directory = \"D:\\\\sparsity_ranking\"\n",
    "output_directory = \"D:\\\\heterogeneity_ranking\"\n",
    "sorted()"
   ]
  },
  {
   "cell_type": "code",
   "execution_count": null,
   "metadata": {
    "collapsed": true
   },
   "outputs": [],
   "source": [
    "def write_ranked_imgs(df, column, root_dir, ):\n",
    "    for ix,row in df.sort_values([\"length\"], ascending=False).iterrows():\n",
    "        save_dir = \"%d_%s\" % (row[column], ix)\n",
    "        img = tr.apply_window(img)\n",
    "        hf.create_dicom(img, save_dir, overwrite=True)"
   ]
  },
  {
   "cell_type": "code",
   "execution_count": null,
   "metadata": {
    "collapsed": true
   },
   "outputs": [],
   "source": [
    "importlib.reload(hf)"
   ]
  },
  {
   "cell_type": "markdown",
   "metadata": {
    "ExecuteTime": {
     "end_time": "2018-04-06T05:01:11.688839Z",
     "start_time": "2018-04-06T05:01:11.685831Z"
    }
   },
   "source": [
    "## Figures"
   ]
  },
  {
   "cell_type": "code",
   "execution_count": null,
   "metadata": {
    "collapsed": true
   },
   "outputs": [],
   "source": [
    "lm.draw_unreg_fig(mribl_art_path, mribl_enh_mask_path, \"D:\\\\Lipiodol\\\\Figures\\\\unreg\\\\MRIBL\", 'b', 'mr')\n",
    "lm.draw_unreg_fig(mri30d_art_path, mri30d_enh_mask_path, \"D:\\\\Lipiodol\\\\Figures\\\\unreg\\\\MRI30d\", 'r', 'mr')\n",
    "lm.draw_unreg_fig(ct24_path, highlip_mask_path, \"D:\\\\Lipiodol\\\\Figures\\\\unreg\\\\Lip\", 'g', 'ct')"
   ]
  },
  {
   "cell_type": "code",
   "execution_count": null,
   "metadata": {
    "collapsed": true
   },
   "outputs": [],
   "source": [
    "lm.draw_reg_fig(ball_mribl_path, ball_mribl_enh_mask_path, \"D:\\\\Lipiodol\\\\Figures\\\\MRIBL\", 'b', 'mr')\n",
    "lm.draw_reg_fig(ball_mri30d_path, ball_mri30d_enh_mask_path, \"D:\\\\Lipiodol\\\\Figures\\\\MRI30d\", 'r', 'mr')\n",
    "lm.draw_reg_fig(ball_ct24_path, ball_highlip_mask_path, \"D:\\\\Lipiodol\\\\Figures\\\\Lip\", 'g', 'ct')"
   ]
  },
  {
   "cell_type": "code",
   "execution_count": null,
   "metadata": {
    "ExecuteTime": {
     "end_time": "2018-04-06T15:09:57.976409Z",
     "start_time": "2018-04-06T15:09:56.957128Z"
    },
    "collapsed": true
   },
   "outputs": [],
   "source": [
    "# Figure for 24h CT\n",
    "img,_ = hf.nii_load(ball_ct24_path)\n",
    "blmask,_ = masks.get_mask(ball_mribl_enh_mask_path)\n",
    "fumask,_ = masks.get_mask(ball_mri30d_enh_mask_path)\n",
    "\n",
    "for sl in range(img.shape[-1]//4,img.shape[-1]*3//4,img.shape[-1]//12):\n",
    "    plt.close()\n",
    "    plt.imshow(img[...,sl], cmap='gray', vmin=30, vmax=250)\n",
    "    FU=plt.contour(fumask[:,:,sl], colors='r', alpha=.4)\n",
    "    plt.contour(blmask[:,:,sl], colors='b', alpha=.4)\n",
    "    plt.contourf(fumask[:,:,sl], colors=[(0,0,0,0)]*6+[(1,0,0,.2)]) #look at the length of FU.allsegs\n",
    "    plt.contourf(blmask[:,:,sl], colors=[(0,0,0,0)]*6+[(0,0,1,.2)])\n",
    "    plt.axis('off')\n",
    "    plt.savefig(\"D:\\\\Lipiodol\\\\Figures\\\\24hCT_%d.png\" % sl, dpi=100, bbox_inches='tight')"
   ]
  },
  {
   "cell_type": "markdown",
   "metadata": {
    "heading_collapsed": true
   },
   "source": [
    "## Extra"
   ]
  },
  {
   "cell_type": "markdown",
   "metadata": {
    "hidden": true
   },
   "source": [
    "IVs = get_intensity_section(ball_ct24_path, ball_mask_path, params)\n",
    "            if highest_I_V < I_V:\n",
    "                best_params = params\n",
    "                highest_I_V = I_V\n",
    "                print(best_params)\n",
    "theta1_best, phi1_best, dtheta_best, dz_best = best_params"
   ]
  },
  {
   "cell_type": "code",
   "execution_count": null,
   "metadata": {
    "ExecuteTime": {
     "end_time": "2018-04-05T22:22:47.402911Z",
     "start_time": "2018-04-05T22:22:47.378848Z"
    },
    "collapsed": true,
    "hidden": true
   },
   "outputs": [],
   "source": [
    "ball_IV = get_avg_ball_intensity(ball_ct24_path, ball_mask_path)\n",
    "core_IV = get_avg_core_intensity(ball_ct24_path, ball_mask_path)"
   ]
  },
  {
   "cell_type": "code",
   "execution_count": 303,
   "metadata": {
    "ExecuteTime": {
     "end_time": "2018-04-06T01:56:56.770027Z",
     "start_time": "2018-04-06T01:56:56.766015Z"
    },
    "hidden": true
   },
   "outputs": [
    {
     "data": {
      "text/plain": [
       "(197.83461276161094, 209.89937589866474)"
      ]
     },
     "execution_count": 303,
     "metadata": {},
     "output_type": "execute_result"
    }
   ],
   "source": [
    "ball_IV, core_IV"
   ]
  },
  {
   "cell_type": "code",
   "execution_count": null,
   "metadata": {
    "ExecuteTime": {
     "end_time": "2018-04-06T02:25:17.074399Z",
     "start_time": "2018-04-06T02:25:15.865084Z"
    },
    "collapsed": true,
    "hidden": true
   },
   "outputs": [],
   "source": [
    "importlib.reload(lm)\n",
    "IVs = lm.calc_intensity_shells_angles(hf.nii_load(ball_ct24_path)[0], ball_mask_path)\n",
    "IVs[IVs==0] = np.nan\n",
    "\n",
    "samples = lm.fibonacci_sphere(2500, True, randomize=True)\n",
    "samples = np.round(samples).astype(int)\n",
    "s0 = samples[:,0]\n",
    "s1 = samples[:,1]\n",
    "for i in range(IVs.shape[-1]):\n",
    "    print(np.nanmean(IVs[s0,s1,i]))"
   ]
  },
  {
   "cell_type": "code",
   "execution_count": 388,
   "metadata": {
    "ExecuteTime": {
     "end_time": "2018-04-06T03:41:24.387987Z",
     "start_time": "2018-04-06T03:41:24.373950Z"
    },
    "collapsed": true,
    "hidden": true
   },
   "outputs": [],
   "source": [
    "loopIVs = np.tile(IVs[:-1,:-1,:], (2,2,1))\n",
    "loopIVs[180:,:,:] = np.nan"
   ]
  },
  {
   "cell_type": "code",
   "execution_count": null,
   "metadata": {
    "ExecuteTime": {
     "end_time": "2018-04-06T04:07:35.800850Z",
     "start_time": "2018-04-06T04:07:28.305059Z"
    },
    "collapsed": true,
    "hidden": true
   },
   "outputs": [],
   "source": [
    "for dtheta in range(30,180,20):\n",
    "    print(dtheta)\n",
    "    best_IV = core_IV\n",
    "    worst_IV = core_IV\n",
    "    for theta in range(0,180,20):\n",
    "        for phi in range(180,480,20):\n",
    "            for shell1 in range(4):\n",
    "                for shell2 in range(shell1+1,5):\n",
    "                    IV = np.nanmean(loopIVs[max(theta-dtheta,0) : theta+dtheta, phi-dtheta : phi+dtheta, shell1:shell2])\n",
    "                    params = theta, phi % 360, shell1, shell2\n",
    "                    if best_IV < IV:\n",
    "                        best_params = params\n",
    "                        best_IV = IV\n",
    "                        \n",
    "            IV = np.nanmean(loopIVs[max(theta-dtheta,0) : theta+dtheta, phi-dtheta : phi+dtheta, :5])\n",
    "            params = theta, phi % 360\n",
    "            if worst_IV > IV:\n",
    "                worst_params = params\n",
    "                worst_IV = IV\n",
    "                \n",
    "    print(best_params, round(best_IV,1))\n",
    "    print(worst_params, round(worst_IV,1))"
   ]
  },
  {
   "cell_type": "code",
   "execution_count": null,
   "metadata": {
    "ExecuteTime": {
     "end_time": "2018-04-06T04:14:42.190274Z",
     "start_time": "2018-04-06T04:14:40.506330Z"
    },
    "collapsed": true,
    "hidden": true
   },
   "outputs": [],
   "source": [
    "importlib.reload(lm)\n",
    "enhmask_density = lm.calc_intensity_shells_angles(masks.get_mask(ball_mribl_enh_mask_path)[0]+1, ball_mask_path)\n",
    "\n",
    "enhmask_density = enhmask_density[...,:5]\n",
    "enhmask_density[enhmask_density==0] = np.nan\n",
    "\n",
    "samples = fibonacci_sphere(2500, True, randomize=True)\n",
    "samples = np.round(samples).astype(int)\n",
    "s0 = samples[:,0]\n",
    "s1 = samples[:,1]\n",
    "for i in range(enhmask_density.shape[-1]):\n",
    "    print(np.nanmean(enhmask_density[s0,s1,i]))"
   ]
  },
  {
   "cell_type": "code",
   "execution_count": null,
   "metadata": {
    "ExecuteTime": {
     "end_time": "2018-04-06T04:15:33.357552Z",
     "start_time": "2018-04-06T04:15:31.657137Z"
    },
    "collapsed": true,
    "hidden": true
   },
   "outputs": [],
   "source": [
    "importlib.reload(lm)\n",
    "enhmask_density = lm.calc_intensity_shells_angles(masks.get_mask(ball_mri30d_enh_mask_path)[0]+1, ball_mask_path)\n",
    "\n",
    "enhmask_density = enhmask_density[...,:5]\n",
    "enhmask_density[enhmask_density==0] = np.nan\n",
    "\n",
    "samples = fibonacci_sphere(2500, True, randomize=True)\n",
    "samples = np.round(samples).astype(int)\n",
    "s0 = samples[:,0]\n",
    "s1 = samples[:,1]\n",
    "for i in range(enhmask_density.shape[-1]):\n",
    "    print(np.nanmean(enhmask_density[s0,s1,i]))"
   ]
  },
  {
   "cell_type": "code",
   "execution_count": null,
   "metadata": {
    "ExecuteTime": {
     "end_time": "2018-04-06T04:03:49.971534Z",
     "start_time": "2018-04-06T04:03:49.958472Z"
    },
    "collapsed": true,
    "hidden": true
   },
   "outputs": [],
   "source": [
    "for i in range(enhmask_density.shape[-1]):\n",
    "    print(np.nanmean(enhmask_density[s0,s1,i]))"
   ]
  },
  {
   "cell_type": "code",
   "execution_count": null,
   "metadata": {
    "collapsed": true,
    "hidden": true
   },
   "outputs": [],
   "source": [
    "enhmask_density ="
   ]
  },
  {
   "cell_type": "code",
   "execution_count": null,
   "metadata": {
    "collapsed": true,
    "hidden": true
   },
   "outputs": [],
   "source": [
    "conv_rate = np.zeros((181,360))"
   ]
  }
 ],
 "metadata": {
  "kernelspec": {
   "display_name": "Python 3",
   "language": "python",
   "name": "python3"
  },
  "language_info": {
   "codemirror_mode": {
    "name": "ipython",
    "version": 3
   },
   "file_extension": ".py",
   "mimetype": "text/x-python",
   "name": "python",
   "nbconvert_exporter": "python",
   "pygments_lexer": "ipython3",
   "version": "3.5.0"
  },
  "varInspector": {
   "cols": {
    "lenName": 16,
    "lenType": 16,
    "lenVar": 40
   },
   "kernels_config": {
    "python": {
     "delete_cmd_postfix": "",
     "delete_cmd_prefix": "del ",
     "library": "var_list.py",
     "varRefreshCmd": "print(var_dic_list())"
    },
    "r": {
     "delete_cmd_postfix": ") ",
     "delete_cmd_prefix": "rm(",
     "library": "var_list.r",
     "varRefreshCmd": "cat(var_dic_list()) "
    }
   },
   "types_to_exclude": [
    "module",
    "function",
    "builtin_function_or_method",
    "instance",
    "_Feature"
   ],
   "window_display": false
  }
 },
 "nbformat": 4,
 "nbformat_minor": 2
}
