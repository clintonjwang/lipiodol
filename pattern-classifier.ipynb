{
 "cells": [
  {
   "cell_type": "markdown",
   "metadata": {},
   "source": [
    "## Imports"
   ]
  },
  {
   "cell_type": "code",
   "execution_count": 1,
   "metadata": {
    "ExecuteTime": {
     "end_time": "2018-04-21T23:37:23.126945Z",
     "start_time": "2018-04-21T23:37:19.027876Z"
    }
   },
   "outputs": [
    {
     "name": "stderr",
     "output_type": "stream",
     "text": [
      "C:\\Users\\Clinton\\AppData\\Local\\conda\\conda\\envs\\old-keras\\lib\\site-packages\\h5py\\__init__.py:34: FutureWarning: Conversion of the second argument of issubdtype from `float` to `np.floating` is deprecated. In future, it will be treated as `np.float64 == np.dtype(float).type`.\n",
      "  from ._conv import register_converters as _register_converters\n",
      "Using TensorFlow backend.\n"
     ]
    }
   ],
   "source": [
    "import copy\n",
    "import glob\n",
    "import importlib\n",
    "import itertools\n",
    "import math\n",
    "import os\n",
    "import random\n",
    "import shutil\n",
    "import sys\n",
    "from math import degrees, pi, radians\n",
    "from os.path import *\n",
    "\n",
    "import matplotlib.pyplot as plt\n",
    "import numpy as np\n",
    "import pandas as pd\n",
    "import scipy.stats\n",
    "import SimpleITK as sitk\n",
    "import skimage.feature as skf\n",
    "from skimage.morphology import ball\n",
    "import seaborn as sns\n",
    "import cnn_builder as cbuild\n",
    "import config\n",
    "import lipiodol_methods as lm\n",
    "import lipiodol_vis as lvis\n",
    "import niftiutils.helper_fxns as hf\n",
    "import niftiutils.masks as masks\n",
    "import niftiutils.registration as reg\n",
    "import niftiutils.transforms as tr\n",
    "from config import Config\n",
    "sns.set(style=\"ticks\")\n",
    "%matplotlib inline"
   ]
  },
  {
   "cell_type": "code",
   "execution_count": 184,
   "metadata": {
    "ExecuteTime": {
     "end_time": "2018-04-24T02:04:42.641947Z",
     "start_time": "2018-04-24T02:04:42.603823Z"
    },
    "collapsed": true,
    "scrolled": true
   },
   "outputs": [],
   "source": [
    "importlib.reload(config)\n",
    "C = config.Config()\n",
    "target_dir = \"D:\\\\Lipiodol\\\\Data\"\n",
    "patients = [basename(fn) for fn in glob.glob(join(target_dir,\"*\"))]\n",
    "num_patients = len(patients)"
   ]
  },
  {
   "cell_type": "code",
   "execution_count": 185,
   "metadata": {
    "ExecuteTime": {
     "end_time": "2018-04-24T02:04:45.019639Z",
     "start_time": "2018-04-24T02:04:45.016630Z"
    },
    "collapsed": true
   },
   "outputs": [],
   "source": [
    "liplvls=[0,75,160,215]"
   ]
  },
  {
   "cell_type": "code",
   "execution_count": 4,
   "metadata": {
    "ExecuteTime": {
     "end_time": "2018-04-22T03:04:53.814112Z",
     "start_time": "2018-04-22T03:04:52.650603Z"
    }
   },
   "outputs": [],
   "source": [
    "for fn in glob.glob(join(target_dir, \"*\", \"masks\", \"ball*\")):\n",
    "    os.rename(fn, join(dirname(fn), \"reg\", basename(fn)))"
   ]
  },
  {
   "cell_type": "markdown",
   "metadata": {
    "collapsed": true
   },
   "source": [
    "## Pattern analysis"
   ]
  },
  {
   "cell_type": "code",
   "execution_count": 30,
   "metadata": {
    "ExecuteTime": {
     "end_time": "2018-04-22T03:59:12.008244Z",
     "start_time": "2018-04-22T03:59:11.926024Z"
    },
    "collapsed": true
   },
   "outputs": [],
   "source": [
    "master_df = pd.read_excel(r\"D:\\Lipiodol\\MASTER SOPHIE.xlsx\", \"Lesions analyzed\", index_col=\"Lesion_ID\")"
   ]
  },
  {
   "cell_type": "code",
   "execution_count": 106,
   "metadata": {
    "ExecuteTime": {
     "end_time": "2018-04-22T22:45:40.222662Z",
     "start_time": "2018-04-22T22:45:40.214668Z"
    }
   },
   "outputs": [
    {
     "data": {
      "text/plain": [
       "16"
      ]
     },
     "execution_count": 106,
     "metadata": {},
     "output_type": "execute_result"
    }
   ],
   "source": [
    "[basename(fn) for fn in glob.glob(join(target_dir, \"*\"))].index(\"BM-20A\")"
   ]
  },
  {
   "cell_type": "code",
   "execution_count": null,
   "metadata": {
    "ExecuteTime": {
     "end_time": "2018-04-23T00:23:53.428002Z",
     "start_time": "2018-04-22T22:45:42.446823Z"
    },
    "collapsed": true
   },
   "outputs": [],
   "source": [
    "importlib.reload(lm)\n",
    "for fn in glob.glob(join(target_dir, \"*\"))[16:]:\n",
    "    lesion_id = basename(fn)\n",
    "    print(lesion_id)\n",
    "    #P = lm.get_paths_dict(lesion_id, target_dir)\n",
    "    lm.reg_to_ct24(lesion_id, target_dir)"
   ]
  },
  {
   "cell_type": "code",
   "execution_count": null,
   "metadata": {
    "ExecuteTime": {
     "end_time": "2018-04-22T20:47:29.089297Z",
     "start_time": "2018-04-22T20:47:28.919575Z"
    },
    "collapsed": true
   },
   "outputs": [],
   "source": [
    "##### A = hf.nii_load(P['ct24Tx']['crop']['img'])[0]\n",
    "print(A.shape)\n",
    "hf.draw_slices(A)"
   ]
  },
  {
   "cell_type": "code",
   "execution_count": null,
   "metadata": {
    "ExecuteTime": {
     "end_time": "2018-04-22T20:47:29.323688Z",
     "start_time": "2018-04-22T20:47:29.138400Z"
    },
    "collapsed": true
   },
   "outputs": [],
   "source": [
    "A,D = hf.nii_load(P['ct24Tx']['mrbl']['art'])\n",
    "print(A.shape)\n",
    "hf.draw_slices(A)"
   ]
  },
  {
   "cell_type": "code",
   "execution_count": null,
   "metadata": {
    "ExecuteTime": {
     "end_time": "2018-04-22T20:47:29.537046Z",
     "start_time": "2018-04-22T20:47:29.370621Z"
    },
    "collapsed": true
   },
   "outputs": [],
   "source": [
    "A,D = hf.nii_load(P['ct24Tx']['mr30']['art'])\n",
    "print(A.shape)\n",
    "hf.draw_slices(A)"
   ]
  },
  {
   "cell_type": "code",
   "execution_count": null,
   "metadata": {
    "ExecuteTime": {
     "end_time": "2018-04-22T20:13:47.327028Z",
     "start_time": "2018-04-22T20:13:47.141974Z"
    },
    "collapsed": true
   },
   "outputs": [],
   "source": [
    "hf.draw_img(P['ct24Tx']['mr30']['art'])"
   ]
  },
  {
   "cell_type": "markdown",
   "metadata": {
    "heading_collapsed": true
   },
   "source": [
    "### Validate HU scale"
   ]
  },
  {
   "cell_type": "code",
   "execution_count": null,
   "metadata": {
    "collapsed": true,
    "hidden": true
   },
   "outputs": [],
   "source": [
    "valid_blcts = [\"BM-02\", \"\"]"
   ]
  },
  {
   "cell_type": "code",
   "execution_count": 357,
   "metadata": {
    "ExecuteTime": {
     "end_time": "2018-04-14T02:47:50.969796Z",
     "start_time": "2018-04-14T02:45:47.193505Z"
    },
    "collapsed": true,
    "hidden": true
   },
   "outputs": [],
   "source": [
    "LI = []\n",
    "for fn in glob.glob(join(target_dir,\"*\")):\n",
    "    lesion_id = basename(fn)\n",
    "    paths = lm.get_paths(lesion_id, target_dir)\n",
    "\n",
    "    mask_dir, nii_dir, ct24_path, ct24_tumor_mask_path, ct24_liver_mask_path, \\\n",
    "    mribl_art_path, mribl_pre_path, mribl_sub_path, \\\n",
    "    mribl_tumor_mask_path, mribl_liver_mask_path, \\\n",
    "    mribl_enh_mask_path, mribl_nec_mask_path, \\\n",
    "    mri30d_art_path, mri30d_pre_path, \\\n",
    "    mri30d_tumor_mask_path, mri30d_liver_mask_path, \\\n",
    "    mri30d_enh_mask_path, mri30d_nec_mask_path, \\\n",
    "    ball_ct24_path, ball_mribl_path, ball_mri30d_path, \\\n",
    "    ball_mask_path, ball_mribl_enh_mask_path, ball_mri30d_enh_mask_path, \\\n",
    "    midlip_mask_path, ball_midlip_mask_path, \\\n",
    "    highlip_mask_path, ball_highlip_mask_path = paths\n",
    "    \n",
    "    img,D = hf.nii_load(ct24_path)\n",
    "    M = masks.get_mask(ct24_tumor_mask_path, D, img.shape)[0]\n",
    "    img = img*M/M.max()\n",
    "    \n",
    "    LI.append(filters.threshold_li(img[img > 100]))"
   ]
  },
  {
   "cell_type": "code",
   "execution_count": 342,
   "metadata": {
    "ExecuteTime": {
     "end_time": "2018-04-13T21:27:25.389282Z",
     "start_time": "2018-04-13T21:27:25.384268Z"
    },
    "hidden": true
   },
   "outputs": [
    {
     "data": {
      "text/plain": [
       "(159.8438546709155, 215.4651656444234)"
      ]
     },
     "execution_count": 342,
     "metadata": {},
     "output_type": "execute_result"
    }
   ],
   "source": [
    "np.percentile(LI, 100/3), np.percentile(LI, 200/3)"
   ]
  },
  {
   "cell_type": "code",
   "execution_count": 27,
   "metadata": {
    "ExecuteTime": {
     "end_time": "2018-04-17T22:20:45.214631Z",
     "start_time": "2018-04-17T22:20:45.212653Z"
    },
    "collapsed": true,
    "hidden": true
   },
   "outputs": [],
   "source": [
    "#[Alt approach: K-means clustering (2 clusters) + median of peaks: 166.0 HU, 215.1 HU]"
   ]
  },
  {
   "cell_type": "markdown",
   "metadata": {},
   "source": [
    "### Build DataFrame"
   ]
  },
  {
   "cell_type": "code",
   "execution_count": 187,
   "metadata": {
    "ExecuteTime": {
     "end_time": "2018-04-24T02:05:10.581063Z",
     "start_time": "2018-04-24T02:05:10.567024Z"
    },
    "collapsed": true
   },
   "outputs": [],
   "source": [
    "pattern_feat_cols = [\"lipcoverage_vol\", \"high_lip\", \"rim_lipiodol\", \"low_peripheral\", \"mid_peripheral\"]\n",
    "\n",
    "lipresp_cols = []\n",
    "for name in itertools.product([\"base_\", \"low_\", \"mid_\", \"high_\"], [\"resp%\", \"prog%\", \"bl_enh%\", \"30d_enh%\"]):\n",
    "    lipresp_cols.append(name[0]+name[1])\n",
    "    \n",
    "# resp% is the % of BL enhancing tumor that becomes necrotic within this lipiodol range\n",
    "# prog% is the % of BL necrotic tumor that becomes enhancing within this lipiodol range\n",
    "# bl_enh% is the % of tumor within this lipiodol range that is enhancing on BL MR\n",
    "# 30d_enh% is the % of tumor within this lipiodol range that is enhancing on 30d MR\n",
    "\n",
    "pattern_df = pd.DataFrame(columns=pattern_feat_cols)\n",
    "lipresp_df = pd.DataFrame(columns=lipresp_cols)"
   ]
  },
  {
   "cell_type": "markdown",
   "metadata": {
    "ExecuteTime": {
     "end_time": "2018-04-09T19:43:44.592180Z",
     "start_time": "2018-04-09T19:43:44.588158Z"
    }
   },
   "source": [
    "for name in lipresp_cols:\n",
    "    df.loc[:,\"peripheral_coverage%\"]=pd.Series(np.random.randn(len(df)), index=df.index)"
   ]
  },
  {
   "cell_type": "code",
   "execution_count": 171,
   "metadata": {
    "ExecuteTime": {
     "end_time": "2018-04-23T19:26:43.545776Z",
     "start_time": "2018-04-23T19:26:43.539734Z"
    },
    "collapsed": true
   },
   "outputs": [],
   "source": [
    "importlib.reload(config)\n",
    "C = config.Config()"
   ]
  },
  {
   "cell_type": "code",
   "execution_count": 173,
   "metadata": {
    "ExecuteTime": {
     "end_time": "2018-04-23T19:28:35.552502Z",
     "start_time": "2018-04-23T19:28:35.539441Z"
    },
    "collapsed": true
   },
   "outputs": [],
   "source": [
    "pattern_df = pd.read_excel(C.data_xls_path, \"Patterns\")\n",
    "\"\"\"lipresp_df = pd.read_excel(C.data_xls_path, \"Lip-Resp\")\n",
    "vasc_depo_df = pd.read_excel(C.data_xls_path, \"Vascularization-Deposition\")\n",
    "depo_resp_df = pd.read_excel(C.data_xls_path, \"Deposition-Response\")\n",
    "vasc_depo_df_binary = pd.read_excel(C.data_xls_path, \"Vasc-Depo-binary\")\n",
    "depo_resp_df_binary = pd.read_excel(C.data_xls_path, \"Depo-Resp-binary\")\"\"\";"
   ]
  },
  {
   "cell_type": "code",
   "execution_count": 25,
   "metadata": {
    "ExecuteTime": {
     "end_time": "2018-04-22T03:34:57.828273Z",
     "start_time": "2018-04-22T03:34:57.476013Z"
    },
    "collapsed": true
   },
   "outputs": [],
   "source": [
    "writer = pd.ExcelWriter(C.data_xls_path)"
   ]
  },
  {
   "cell_type": "code",
   "execution_count": 62,
   "metadata": {
    "ExecuteTime": {
     "end_time": "2018-04-09T01:28:27.166787Z",
     "start_time": "2018-04-09T01:28:27.162775Z"
    }
   },
   "outputs": [
    {
     "data": {
      "text/plain": [
       "27"
      ]
     },
     "execution_count": 62,
     "metadata": {},
     "output_type": "execute_result"
    }
   ],
   "source": [
    "[basename(fn) for fn in glob.glob(join(target_dir,\"*\"))].index('PK-02')"
   ]
  },
  {
   "cell_type": "markdown",
   "metadata": {},
   "source": [
    "### Get Patterns"
   ]
  },
  {
   "cell_type": "code",
   "execution_count": 134,
   "metadata": {
    "ExecuteTime": {
     "end_time": "2018-04-23T01:01:33.726522Z",
     "start_time": "2018-04-23T01:01:33.721508Z"
    }
   },
   "outputs": [
    {
     "data": {
      "text/plain": [
       "Index(['lipcoverage_vol', 'high_lip', 'rim_lipiodol', 'low_peripheral',\n",
       "       'mid_peripheral'],\n",
       "      dtype='object')"
      ]
     },
     "execution_count": 134,
     "metadata": {},
     "output_type": "execute_result"
    }
   ],
   "source": [
    "pattern_df.columns"
   ]
  },
  {
   "cell_type": "code",
   "execution_count": null,
   "metadata": {
    "ExecuteTime": {
     "end_time": "2018-04-24T03:14:22.596334Z",
     "start_time": "2018-04-24T03:14:14.607674Z"
    },
    "collapsed": true
   },
   "outputs": [],
   "source": [
    "importlib.reload(lm)\n",
    "for fn in patients[13:17]:\n",
    "    lesion_id = basename(fn)\n",
    "    print(lesion_id)\n",
    "    P = lm.get_paths_dict(lesion_id, target_dir)\n",
    "    \n",
    "    pattern_df.loc[lesion_id, ['lipcoverage_vol', 'high_lip']] = lm.get_vol_coverage(lesion_id, target_dir)\n",
    "    \n",
    "    \"\"\"if lesion_id in master_df.index and master_df.loc[lesion_id, \"0=well delineated, 1=infiltrative\"] == 0:\n",
    "        core_IV = lm.get_avg_core_intensity(P['ball']['ct24']['img'], P['ball']['mask'])\n",
    "        pattern_df.loc[lesion_id, \"rim_lipiodol\"] = lm.get_rim_coverage( \\\n",
    "                              hf.nii_load(P['ball']['ct24']['img'])[0], P['ball']['mask'], max(core_IV, liplvls[1]))\n",
    "    else:\n",
    "        pattern_df.loc[lesion_id, \"rim_lipiodol\"] = np.nan\"\"\"\n",
    "    #pattern_df.loc[lesion_id, [\"low_peripheral\", \"mid_peripheral\"]] = \\\n",
    "    #    lm.get_peripheral_coverage(lesion_id, target_dir, liplvls[1:3])"
   ]
  },
  {
   "cell_type": "code",
   "execution_count": 637,
   "metadata": {
    "ExecuteTime": {
     "end_time": "2018-04-17T15:57:55.534367Z",
     "start_time": "2018-04-17T15:57:55.530333Z"
    },
    "collapsed": true
   },
   "outputs": [],
   "source": [
    "exemplars = [x.upper() for x in [\"Pk-01a\",\"Pk-03\",\"Pk-08\",\"Pk-11c\",\"Bm-07\",\"Bm-16a\",\"Bm-16b\",\"Bm-19\",\"Bm-21\",\"Bm-24\",\"Bm-25\",\"Bm-37\"]]"
   ]
  },
  {
   "cell_type": "markdown",
   "metadata": {
    "ExecuteTime": {
     "end_time": "2018-04-17T02:14:51.433880Z",
     "start_time": "2018-04-17T02:14:49.515792Z"
    },
    "collapsed": true
   },
   "source": [
    "lesion_id = \"PK-11C\"\n",
    "pattern_df.loc[lesion_id] = lm.get_row_entry(lesion_id, target_dir)"
   ]
  },
  {
   "cell_type": "code",
   "execution_count": 263,
   "metadata": {
    "ExecuteTime": {
     "end_time": "2018-04-24T03:15:08.785392Z",
     "start_time": "2018-04-24T03:15:02.615344Z"
    }
   },
   "outputs": [
    {
     "name": "stdout",
     "output_type": "stream",
     "text": [
      "BM-20D\n"
     ]
    }
   ],
   "source": [
    "importlib.reload(lm)\n",
    "for fn in patients[13:17]:\n",
    "    lesion_id = basename(fn)\n",
    "    print(lesion_id)\n",
    "    pattern_df.loc[lesion_id] = lm.get_row_entry(lesion_id, target_dir, liplvls)"
   ]
  },
  {
   "cell_type": "markdown",
   "metadata": {
    "ExecuteTime": {
     "end_time": "2018-04-09T20:32:14.736305Z",
     "start_time": "2018-04-09T20:32:00.042255Z"
    }
   },
   "source": [
    "importlib.reload(lm)\n",
    "for fn in glob.glob(join(target_dir,\"*\")):\n",
    "    lesion_id = basename(fn)\n",
    "    lips = lm.enhancing_to_nec(lesion_id, target_dir, liplvls)\n",
    "    lipresp_df.loc[ix] = np.round(np.array(lips)*100,2).flatten()"
   ]
  },
  {
   "cell_type": "code",
   "execution_count": 264,
   "metadata": {
    "ExecuteTime": {
     "end_time": "2018-04-24T03:15:11.710188Z",
     "start_time": "2018-04-24T03:15:11.682084Z"
    },
    "collapsed": true
   },
   "outputs": [],
   "source": [
    "pattern_df.to_excel(writer, \"Patterns\")\n",
    "#lipresp_df.to_excel(writer, \"Lip-Resp\")\n",
    "writer.save()"
   ]
  },
  {
   "cell_type": "markdown",
   "metadata": {},
   "source": [
    "## Correlating Vasc/Lip Deposition"
   ]
  },
  {
   "cell_type": "code",
   "execution_count": null,
   "metadata": {
    "ExecuteTime": {
     "end_time": "2018-04-24T02:05:34.445366Z",
     "start_time": "2018-04-24T02:05:32.004562Z"
    },
    "collapsed": true
   },
   "outputs": [],
   "source": [
    "importlib.reload(lm)\n",
    "vasc_depo_df = pd.DataFrame(columns=np.transpose([[str(L)+\"N\", str(L)+\"V\"] for L in liplvls], (1,0)).flatten())\n",
    "for lesion_id in patients:\n",
    "    vasc_depo_df.loc[lesion_id] = lm.vascular_to_deposition(lesion_id, target_dir, liplvls, exclude_small=True)"
   ]
  },
  {
   "cell_type": "code",
   "execution_count": 272,
   "metadata": {
    "ExecuteTime": {
     "end_time": "2018-04-24T03:16:25.652699Z",
     "start_time": "2018-04-24T03:16:16.600765Z"
    },
    "collapsed": true
   },
   "outputs": [],
   "source": [
    "importlib.reload(lm)\n",
    "depo_resp_df = pd.DataFrame(columns=liplvls)\n",
    "for lesion_id in patients:\n",
    "    depo_resp_df.loc[lesion_id] = lm.lip_to_response(lesion_id, target_dir, liplvls, exclude_small=True)"
   ]
  },
  {
   "cell_type": "code",
   "execution_count": 273,
   "metadata": {
    "ExecuteTime": {
     "end_time": "2018-04-24T03:16:25.784566Z",
     "start_time": "2018-04-24T03:16:25.780556Z"
    },
    "collapsed": true
   },
   "outputs": [],
   "source": [
    "Vdf = vasc_depo_df.dropna()\n",
    "Rdf = depo_resp_df.dropna()#subset=[100,150,200])"
   ]
  },
  {
   "cell_type": "code",
   "execution_count": 182,
   "metadata": {
    "ExecuteTime": {
     "end_time": "2018-04-23T22:26:17.131341Z",
     "start_time": "2018-04-23T22:26:17.127359Z"
    }
   },
   "outputs": [],
   "source": [
    "depo_resp_df['dlip'] = depo_resp_df[160] - depo_resp_df[75]#, depo_resp_df[75] - depo_resp_df[0])"
   ]
  },
  {
   "cell_type": "code",
   "execution_count": null,
   "metadata": {
    "ExecuteTime": {
     "end_time": "2018-04-23T22:26:17.635172Z",
     "start_time": "2018-04-23T22:26:17.615147Z"
    },
    "collapsed": true
   },
   "outputs": [],
   "source": [
    "depo_resp_df.sort_values(['dlip'])"
   ]
  },
  {
   "cell_type": "code",
   "execution_count": null,
   "metadata": {
    "ExecuteTime": {
     "end_time": "2018-04-24T02:59:01.594796Z",
     "start_time": "2018-04-24T02:59:01.584769Z"
    },
    "collapsed": true
   },
   "outputs": [],
   "source": [
    "#master_df = master_df.join(Rdf, how='inner')\n",
    "Rdf.loc[master_df[\"lipcoverage_vol\"] > .8]"
   ]
  },
  {
   "cell_type": "code",
   "execution_count": 274,
   "metadata": {
    "ExecuteTime": {
     "end_time": "2018-04-24T03:16:25.936977Z",
     "start_time": "2018-04-24T03:16:25.922935Z"
    }
   },
   "outputs": [
    {
     "data": {
      "text/html": [
       "<div>\n",
       "<style>\n",
       "    .dataframe thead tr:only-child th {\n",
       "        text-align: right;\n",
       "    }\n",
       "\n",
       "    .dataframe thead th {\n",
       "        text-align: left;\n",
       "    }\n",
       "\n",
       "    .dataframe tbody tr th {\n",
       "        vertical-align: top;\n",
       "    }\n",
       "</style>\n",
       "<table border=\"1\" class=\"dataframe\">\n",
       "  <thead>\n",
       "    <tr style=\"text-align: right;\">\n",
       "      <th></th>\n",
       "      <th>0</th>\n",
       "      <th>75</th>\n",
       "      <th>160</th>\n",
       "      <th>215</th>\n",
       "    </tr>\n",
       "  </thead>\n",
       "  <tbody>\n",
       "    <tr>\n",
       "      <th>BM-02</th>\n",
       "      <td>0.806403</td>\n",
       "      <td>0.788588</td>\n",
       "      <td>NaN</td>\n",
       "      <td>0.535984</td>\n",
       "    </tr>\n",
       "    <tr>\n",
       "      <th>BM-03</th>\n",
       "      <td>0.507769</td>\n",
       "      <td>0.722770</td>\n",
       "      <td>0.787291</td>\n",
       "      <td>0.708234</td>\n",
       "    </tr>\n",
       "    <tr>\n",
       "      <th>BM-13</th>\n",
       "      <td>0.496381</td>\n",
       "      <td>0.587427</td>\n",
       "      <td>NaN</td>\n",
       "      <td>NaN</td>\n",
       "    </tr>\n",
       "    <tr>\n",
       "      <th>BM-17</th>\n",
       "      <td>NaN</td>\n",
       "      <td>NaN</td>\n",
       "      <td>NaN</td>\n",
       "      <td>NaN</td>\n",
       "    </tr>\n",
       "    <tr>\n",
       "      <th>BM-19</th>\n",
       "      <td>0.873160</td>\n",
       "      <td>0.923115</td>\n",
       "      <td>0.984375</td>\n",
       "      <td>0.994487</td>\n",
       "    </tr>\n",
       "    <tr>\n",
       "      <th>BM-20A</th>\n",
       "      <td>0.388411</td>\n",
       "      <td>0.206961</td>\n",
       "      <td>NaN</td>\n",
       "      <td>NaN</td>\n",
       "    </tr>\n",
       "    <tr>\n",
       "      <th>BM-20B</th>\n",
       "      <td>0.819608</td>\n",
       "      <td>0.607330</td>\n",
       "      <td>NaN</td>\n",
       "      <td>NaN</td>\n",
       "    </tr>\n",
       "    <tr>\n",
       "      <th>BM-20C</th>\n",
       "      <td>0.889286</td>\n",
       "      <td>0.821053</td>\n",
       "      <td>NaN</td>\n",
       "      <td>NaN</td>\n",
       "    </tr>\n",
       "    <tr>\n",
       "      <th>BM-20D</th>\n",
       "      <td>0.845475</td>\n",
       "      <td>0.719101</td>\n",
       "      <td>NaN</td>\n",
       "      <td>NaN</td>\n",
       "    </tr>\n",
       "    <tr>\n",
       "      <th>BM-23</th>\n",
       "      <td>0.243080</td>\n",
       "      <td>0.479575</td>\n",
       "      <td>0.807332</td>\n",
       "      <td>0.904072</td>\n",
       "    </tr>\n",
       "    <tr>\n",
       "      <th>BM-24</th>\n",
       "      <td>0.280957</td>\n",
       "      <td>0.503774</td>\n",
       "      <td>0.539984</td>\n",
       "      <td>NaN</td>\n",
       "    </tr>\n",
       "    <tr>\n",
       "      <th>BM-26</th>\n",
       "      <td>0.538796</td>\n",
       "      <td>0.804757</td>\n",
       "      <td>NaN</td>\n",
       "      <td>NaN</td>\n",
       "    </tr>\n",
       "    <tr>\n",
       "      <th>BM-28A</th>\n",
       "      <td>0.635815</td>\n",
       "      <td>0.650000</td>\n",
       "      <td>0.297030</td>\n",
       "      <td>NaN</td>\n",
       "    </tr>\n",
       "    <tr>\n",
       "      <th>BM-28B</th>\n",
       "      <td>0.945360</td>\n",
       "      <td>0.987254</td>\n",
       "      <td>NaN</td>\n",
       "      <td>NaN</td>\n",
       "    </tr>\n",
       "    <tr>\n",
       "      <th>BM-29</th>\n",
       "      <td>0.507527</td>\n",
       "      <td>0.671951</td>\n",
       "      <td>NaN</td>\n",
       "      <td>NaN</td>\n",
       "    </tr>\n",
       "    <tr>\n",
       "      <th>BM-30</th>\n",
       "      <td>0.375241</td>\n",
       "      <td>0.435421</td>\n",
       "      <td>0.457739</td>\n",
       "      <td>0.528090</td>\n",
       "    </tr>\n",
       "    <tr>\n",
       "      <th>BM-31</th>\n",
       "      <td>0.515740</td>\n",
       "      <td>0.512462</td>\n",
       "      <td>NaN</td>\n",
       "      <td>NaN</td>\n",
       "    </tr>\n",
       "    <tr>\n",
       "      <th>BM-34</th>\n",
       "      <td>0.690535</td>\n",
       "      <td>0.714628</td>\n",
       "      <td>0.818255</td>\n",
       "      <td>0.879878</td>\n",
       "    </tr>\n",
       "    <tr>\n",
       "      <th>BM-38</th>\n",
       "      <td>0.259354</td>\n",
       "      <td>0.319037</td>\n",
       "      <td>0.635945</td>\n",
       "      <td>NaN</td>\n",
       "    </tr>\n",
       "    <tr>\n",
       "      <th>PK-04</th>\n",
       "      <td>0.128139</td>\n",
       "      <td>NaN</td>\n",
       "      <td>NaN</td>\n",
       "      <td>NaN</td>\n",
       "    </tr>\n",
       "    <tr>\n",
       "      <th>PK-07</th>\n",
       "      <td>0.398693</td>\n",
       "      <td>0.629338</td>\n",
       "      <td>0.820094</td>\n",
       "      <td>0.803691</td>\n",
       "    </tr>\n",
       "    <tr>\n",
       "      <th>PK-11B</th>\n",
       "      <td>0.296980</td>\n",
       "      <td>NaN</td>\n",
       "      <td>NaN</td>\n",
       "      <td>NaN</td>\n",
       "    </tr>\n",
       "    <tr>\n",
       "      <th>PK-23A</th>\n",
       "      <td>0.806818</td>\n",
       "      <td>0.867574</td>\n",
       "      <td>0.940150</td>\n",
       "      <td>NaN</td>\n",
       "    </tr>\n",
       "    <tr>\n",
       "      <th>PK-23B</th>\n",
       "      <td>NaN</td>\n",
       "      <td>NaN</td>\n",
       "      <td>NaN</td>\n",
       "      <td>NaN</td>\n",
       "    </tr>\n",
       "  </tbody>\n",
       "</table>\n",
       "</div>"
      ],
      "text/plain": [
       "             0         75        160       215\n",
       "BM-02   0.806403  0.788588       NaN  0.535984\n",
       "BM-03   0.507769  0.722770  0.787291  0.708234\n",
       "BM-13   0.496381  0.587427       NaN       NaN\n",
       "BM-17        NaN       NaN       NaN       NaN\n",
       "BM-19   0.873160  0.923115  0.984375  0.994487\n",
       "BM-20A  0.388411  0.206961       NaN       NaN\n",
       "BM-20B  0.819608  0.607330       NaN       NaN\n",
       "BM-20C  0.889286  0.821053       NaN       NaN\n",
       "BM-20D  0.845475  0.719101       NaN       NaN\n",
       "BM-23   0.243080  0.479575  0.807332  0.904072\n",
       "BM-24   0.280957  0.503774  0.539984       NaN\n",
       "BM-26   0.538796  0.804757       NaN       NaN\n",
       "BM-28A  0.635815  0.650000  0.297030       NaN\n",
       "BM-28B  0.945360  0.987254       NaN       NaN\n",
       "BM-29   0.507527  0.671951       NaN       NaN\n",
       "BM-30   0.375241  0.435421  0.457739  0.528090\n",
       "BM-31   0.515740  0.512462       NaN       NaN\n",
       "BM-34   0.690535  0.714628  0.818255  0.879878\n",
       "BM-38   0.259354  0.319037  0.635945       NaN\n",
       "PK-04   0.128139       NaN       NaN       NaN\n",
       "PK-07   0.398693  0.629338  0.820094  0.803691\n",
       "PK-11B  0.296980       NaN       NaN       NaN\n",
       "PK-23A  0.806818  0.867574  0.940150       NaN\n",
       "PK-23B       NaN       NaN       NaN       NaN"
      ]
     },
     "execution_count": 274,
     "metadata": {},
     "output_type": "execute_result"
    }
   ],
   "source": [
    "#master_df = master_df.join(depo_resp_df, how='inner')\n",
    "depo_resp_df.loc[master_df[\"lipcoverage_vol\"] < .2]"
   ]
  },
  {
   "cell_type": "code",
   "execution_count": 254,
   "metadata": {
    "ExecuteTime": {
     "end_time": "2018-04-24T03:03:11.334954Z",
     "start_time": "2018-04-24T03:03:11.329940Z"
    },
    "collapsed": true
   },
   "outputs": [],
   "source": [
    "Rdf = depo_resp_df.dropna(subset=liplvls[1:3])"
   ]
  },
  {
   "cell_type": "code",
   "execution_count": null,
   "metadata": {
    "ExecuteTime": {
     "end_time": "2018-04-24T02:30:01.825784Z",
     "start_time": "2018-04-24T02:30:01.569102Z"
    },
    "collapsed": true
   },
   "outputs": [],
   "source": [
    "Rdf.loc[master_df[\"lipcoverage_vol\"] > .8, 0] = np.nan"
   ]
  },
  {
   "cell_type": "code",
   "execution_count": null,
   "metadata": {
    "ExecuteTime": {
     "end_time": "2018-04-17T21:33:38.673714Z",
     "start_time": "2018-04-17T21:33:38.667700Z"
    },
    "collapsed": true
   },
   "outputs": [],
   "source": [
    "((master_df[\"lipcoverage_vol%\"] < .2) & (master_df[\"rim_lipiodol%\"] <= .9) & (master_df[\"0=well delineated, 1=infiltrative\"] == 1)).sum()"
   ]
  },
  {
   "cell_type": "markdown",
   "metadata": {
    "heading_collapsed": true
   },
   "source": [
    "## Vascularization subgraphs"
   ]
  },
  {
   "cell_type": "code",
   "execution_count": 191,
   "metadata": {
    "ExecuteTime": {
     "end_time": "2018-04-24T02:06:05.188769Z",
     "start_time": "2018-04-24T02:06:05.128582Z"
    },
    "hidden": true,
    "scrolled": true
   },
   "outputs": [],
   "source": [
    "df = pd.DataFrame(columns=[\"Any Coverage\", \"Low-Mid Coverage\", \"Low Coverage\", \"Lesion_id\", \"Tissue Type\",\n",
    "                       \"Tumor Growth\", \"Tumor Type\", \"TACE Type\"])\n",
    "\n",
    "master_df = pd.read_excel(r\"D:\\Lipiodol\\MASTER SOPHIE.xlsx\", \"Lesions analyzed\", index_col=\"Lesion_ID\")#\"C:\\Users\\Clinton\\Box\\FOR CLINTON BOX FOLDER\\MASTER SS SOPHIE.xlsx\")\n",
    "master_df = master_df.join(pattern_df)\n",
    "modality = \"mrbl\"\n",
    "#master_df = master_df.join(Vdf, how='inner')"
   ]
  },
  {
   "cell_type": "code",
   "execution_count": 192,
   "metadata": {
    "ExecuteTime": {
     "end_time": "2018-04-24T02:06:05.937592Z",
     "start_time": "2018-04-24T02:06:05.932581Z"
    },
    "collapsed": true,
    "hidden": true
   },
   "outputs": [],
   "source": [
    "def get_row(row, char):\n",
    "    return [row[\"%d%s\"%(liplvls[1],char)],\n",
    "            row[\"%d%s\"%(liplvls[1],char)] - row[\"%d%s\"%(liplvls[3],char)],\n",
    "            row[\"%d%s\"%(liplvls[1],char)] - row[\"%d%s\"%(liplvls[2],char)]]"
   ]
  },
  {
   "cell_type": "code",
   "execution_count": 193,
   "metadata": {
    "ExecuteTime": {
     "end_time": "2018-04-24T02:06:06.777163Z",
     "start_time": "2018-04-24T02:06:06.372749Z"
    },
    "hidden": true,
    "scrolled": true
   },
   "outputs": [],
   "source": [
    "importlib.reload(lvis)\n",
    "ix = 0\n",
    "for lesion_id, row in Vdf.iterrows():\n",
    "    const = lvis.get_df_entry(lesion_id, master_df, modality)\n",
    "    \n",
    "    df.loc[ix] = get_row(row,\"N\") + [lesion_id, \"Necrosis\"] + const\n",
    "    df.loc[ix+1] = get_row(row,\"V\") + [lesion_id, \"Viable\"] + const\n",
    "    ix += 2"
   ]
  },
  {
   "cell_type": "code",
   "execution_count": 194,
   "metadata": {
    "ExecuteTime": {
     "end_time": "2018-04-24T02:06:08.095778Z",
     "start_time": "2018-04-24T02:06:08.069708Z"
    },
    "collapsed": true,
    "hidden": true
   },
   "outputs": [],
   "source": [
    "def set_g_bar(g, save_path):\n",
    "    g.set(yticks=[0.,.2,.4,.6,.8,1.], ylim=(0.,1.));\n",
    "    \"\"\"topbar = plt.Rectangle((0,0),1,1,fc=\"#C3C3C3\", edgecolor = 'none')\n",
    "    midbar = plt.Rectangle((0,0),1,1,fc='#A3A3A3',  edgecolor = 'none')\n",
    "    bottombar = plt.Rectangle((0,0),1,1,fc='#737373',  edgecolor = 'none')\n",
    "    l = plt.legend([bottombar, midbar, topbar],\n",
    "                   ['High Lipiodol', 'Medium Lipiodol', 'Low Lipiodol'], loc='upper left')#, ncol=2, prop={'size':16})\n",
    "    l.draw_frame(False)\"\"\"\n",
    "    \n",
    "    for gax in g.axes[0]:\n",
    "        gax.set_xlabel(\"\")\n",
    "        gax.set_ylabel(\"\")\n",
    "        #gax.tick_params('x',width=0)\n",
    "        gax.set_xticks([], minor=False)\n",
    "        gax.set_yticks([], minor=False)\n",
    "        plt.setp(gax.patches, linewidth=1, edgecolor='k')\n",
    "        \n",
    "    g.set_titles(visible=False)\n",
    "    #g.axes[0][0].set_yticklabels([\"0%\", \"20%\", \"40%\", \"60%\", \"80%\", \"100%\"]);\n",
    "    \n",
    "    sns.despine(top=True, right=True, left=True)\n",
    "    g.fig.subplots_adjust(left=.2, top=.95)\n",
    "    \n",
    "    #g.fig.tight_layout(w_pad=1)\n",
    "    #plt.setp(g.ax.lines,linewidth=1);\n",
    "    g.fig.savefig(save_path, width=5, dpi=150, pad_inches=0, transparent=True)\n",
    "    plt.close()"
   ]
  },
  {
   "cell_type": "code",
   "execution_count": 195,
   "metadata": {
    "ExecuteTime": {
     "end_time": "2018-04-24T02:06:09.273556Z",
     "start_time": "2018-04-24T02:06:09.269545Z"
    },
    "collapsed": true,
    "hidden": true
   },
   "outputs": [],
   "source": [
    "kwargs = {\"x\":\"Tissue Type\", \"data\":df, \"size\":3, \"aspect\":.8, \"kind\":\"bar\", \"ci\":None, \"legend\":False}"
   ]
  },
  {
   "cell_type": "code",
   "execution_count": 196,
   "metadata": {
    "ExecuteTime": {
     "end_time": "2018-04-24T02:06:12.335770Z",
     "start_time": "2018-04-24T02:06:09.933622Z"
    },
    "hidden": true,
    "scrolled": true
   },
   "outputs": [],
   "source": [
    "g1 = sns.factorplot(y=\"Any Coverage\", color=\"#D3D3D3\", **kwargs)\n",
    "set_g_bar(g1, join(C.fig_dir, \"Vascularization figures\", \"Mean1.png\"))\n",
    "g2 = sns.factorplot(y=\"Low-Mid Coverage\", color=\"#939393\", **kwargs)\n",
    "set_g_bar(g2, join(C.fig_dir, \"Vascularization figures\", \"Mean2.png\"))\n",
    "g3 = sns.factorplot(y=\"Low Coverage\", color=\"#333333\", **kwargs)\n",
    "set_g_bar(g3, join(C.fig_dir, \"Vascularization figures\", \"Mean3.png\"))\n",
    "\n",
    "for category, order in [(\"Tumor Growth\", None), (\"Tumor Type\", None),\n",
    "                        (\"TACE Type\", [\"Selective\", \"Lobar\"])]: #, (\"Sparsity\", [\"Sparse\", \"Non\"])\n",
    "\n",
    "    order = lm.get_actual_order(category, df, order)\n",
    "    g1 = sns.factorplot(y=\"Any Coverage\", col=category, color=\"#D3D3D3\", col_order=order, **kwargs)\n",
    "    set_g_bar(g1, join(C.fig_dir, \"Vascularization figures\", \"%s1.png\" % category))\n",
    "    g2 = sns.factorplot(y=\"Low-Mid Coverage\", col=category, color=\"#939393\", col_order=order, **kwargs)\n",
    "    set_g_bar(g2, join(C.fig_dir, \"Vascularization figures\", \"%s2.png\" % category))\n",
    "    g3 = sns.factorplot(y=\"Low Coverage\", col=category, color=\"#333333\", col_order=order, **kwargs)\n",
    "    set_g_bar(g3, join(C.fig_dir, \"Vascularization figures\", \"%s3.png\" % category))"
   ]
  },
  {
   "cell_type": "code",
   "execution_count": 244,
   "metadata": {
    "ExecuteTime": {
     "end_time": "2018-04-16T20:18:32.738686Z",
     "start_time": "2018-04-16T20:18:30.262704Z"
    },
    "collapsed": true,
    "hidden": true
   },
   "outputs": [],
   "source": [
    "focal_df = df.dropna(subset=[\"Tumor Growth\"])\n",
    "focal_df = focal_df[focal_df[\"Tumor Growth\"].str.contains(\"Focal\")]\n",
    "for ix, row in focal_df.iterrows():\n",
    "    focal_df.loc[ix, \"Tumor Type\"] = lvis.check_column(row[\"Lesion_id\"], master_df, \"HCC(0), ICC(1), other(2)\", \n",
    "                                                  {0: \"HCCs\", 1: \"ICCs\", 2: \"Metastases\"}, \"Focal\")\n",
    "    focal_df.loc[ix, \"Sparsity\"] = lvis.check_sparse(row[\"Lesion_id\"], master_df, modality, \"Focal\")\n",
    "kwargs[\"data\"] = focal_df\n",
    "\n",
    "for category, order in [(\"Tumor Type\", None), (\"TACE Type\", [\"Selective\", \"Lobar\"]),\n",
    "                        (\"Homogeneity\", [\"Homo\", \"Hetero\"]), (\"Sparsity\", [\"Sparse\", \"Non\"]),\n",
    "                        (\"Rim Presence\", [\"Rim\", \"Non\"])]:\n",
    "    \n",
    "    order = lm.get_actual_order(category, focal_df, order)\n",
    "    g1 = sns.factorplot(y=\"Any Coverage\", col=category, color=\"#D3D3D3\", col_order=order, **kwargs)\n",
    "    set_g_bar(g1, join(C.fig_dir, \"Vascularization figures\", \"Focal_%s1.png\" % category))\n",
    "    g2 = sns.factorplot(y=\"Low-Mid Coverage\", col=category, color=\"#939393\", col_order=order, **kwargs)\n",
    "    set_g_bar(g2, join(C.fig_dir, \"Vascularization figures\", \"Focal_%s2.png\" % category))\n",
    "    g3 = sns.factorplot(y=\"Low Coverage\", col=category, color=\"#333333\", col_order=order, **kwargs)\n",
    "    set_g_bar(g3, join(C.fig_dir, \"Vascularization figures\", \"Focal_%s3.png\" % category))"
   ]
  },
  {
   "cell_type": "code",
   "execution_count": 245,
   "metadata": {
    "ExecuteTime": {
     "end_time": "2018-04-16T20:18:35.362072Z",
     "start_time": "2018-04-16T20:18:33.637653Z"
    },
    "collapsed": true,
    "hidden": true
   },
   "outputs": [],
   "source": [
    "infil_df = df.dropna(subset=[\"Tumor Growth\"])\n",
    "infil_df = infil_df[infil_df[\"Tumor Growth\"].str.contains(\"Infiltrative\")]\n",
    "for ix, row in infil_df.iterrows():\n",
    "    infil_df.loc[ix, \"Tumor Type\"] = lvis.check_column(row[\"Lesion_id\"], master_df, \"HCC(0), ICC(1), other(2)\", \n",
    "                                                  {0: \"HCCs\", 1: \"ICCs\", 2: \"Metastases\"}, \"Infiltrative\")\n",
    "    infil_df.loc[ix, \"Sparsity\"] = lvis.check_sparse(row[\"Lesion_id\"], master_df, modality, \"Infiltrative\")\n",
    "kwargs[\"data\"] = infil_df\n",
    "\n",
    "for category, order in [(\"Tumor Type\", None), (\"TACE Type\", [\"Selective\", \"Lobar\"]), (\"Sparsity\", [\"Sparse\", \"Non\"])]:\n",
    "    \n",
    "    order = lm.get_actual_order(category, infil_df, order)\n",
    "    g1 = sns.factorplot(y=\"Any Coverage\", col=category, color=\"#D3D3D3\", col_order=order, **kwargs)\n",
    "    set_g_bar(g1, join(C.fig_dir, \"Vascularization figures\", \"Infil_%s1.png\" % category))\n",
    "    g2 = sns.factorplot(y=\"Low-Mid Coverage\", col=category, color=\"#939393\", col_order=order, **kwargs)\n",
    "    set_g_bar(g2, join(C.fig_dir, \"Vascularization figures\", \"Infil_%s2.png\" % category))\n",
    "    g3 = sns.factorplot(y=\"Low Coverage\", col=category, color=\"#333333\", col_order=order, **kwargs)\n",
    "    set_g_bar(g3, join(C.fig_dir, \"Vascularization figures\", \"Infil_%s3.png\" % category))"
   ]
  },
  {
   "cell_type": "markdown",
   "metadata": {},
   "source": [
    "## Response subgraphs"
   ]
  },
  {
   "cell_type": "code",
   "execution_count": 252,
   "metadata": {
    "ExecuteTime": {
     "end_time": "2018-04-24T03:02:23.984452Z",
     "start_time": "2018-04-24T03:02:23.952358Z"
    },
    "collapsed": true
   },
   "outputs": [],
   "source": [
    "df = pd.DataFrame(columns=[\"Response\", \"Lesion_id\", \"Lipiodol Deposition\",\n",
    "                       \"Tumor Growth\", \"Tumor Type\", \"TACE Type\", \"Homogeneity\", \"Sparsity\", \"Rim Presence\"])\n",
    "\n",
    "master_df = pd.read_excel(r\"D:\\Lipiodol\\MASTER SOPHIE.xlsx\", \"Lesions analyzed\", index_col=\"Lesion_ID\")#\"C:\\Users\\Clinton\\Box\\FOR CLINTON BOX FOLDER\\MASTER SS SOPHIE.xlsx\")\n",
    "master_df = master_df.join(pattern_df)\n",
    "modality = \"ct24\"\n",
    "\n",
    "master_df[\"lipcoverage_vol\"] = master_df[\"lipcoverage_vol\"].astype(float)\n",
    "master_df[\"high_lip\"] = master_df[\"high_lip\"].astype(float)\n",
    "master_df[\"rim_lipiodol\"] = master_df[\"rim_lipiodol\"].astype(float)\n",
    "master_df[\"low_peripheral\"] = master_df[\"low_peripheral\"].astype(float)\n",
    "master_df[\"mid_peripheral\"] = master_df[\"mid_peripheral\"].astype(float)\n",
    "\n",
    "#master_df = master_df.join(Rdf, how='inner')"
   ]
  },
  {
   "cell_type": "markdown",
   "metadata": {
    "heading_collapsed": true
   },
   "source": [
    "### qEASL vs peripheral deposition"
   ]
  },
  {
   "cell_type": "code",
   "execution_count": 749,
   "metadata": {
    "ExecuteTime": {
     "end_time": "2018-04-17T16:43:17.739242Z",
     "start_time": "2018-04-17T16:43:17.736234Z"
    },
    "collapsed": true,
    "hidden": true
   },
   "outputs": [],
   "source": [
    "master_df = master_df[master_df['selective=0']==0]"
   ]
  },
  {
   "cell_type": "code",
   "execution_count": 707,
   "metadata": {
    "ExecuteTime": {
     "end_time": "2018-04-17T16:36:25.334505Z",
     "start_time": "2018-04-17T16:36:03.814884Z"
    },
    "collapsed": true,
    "hidden": true,
    "scrolled": true
   },
   "outputs": [],
   "source": [
    "importlib.reload(lm)\n",
    "for lesion_id, row in master_df.iterrows():\n",
    "    master_df.loc[lesion_id, \"qEASL\"] = lm.get_qEASL(lesion_id, target_dir)"
   ]
  },
  {
   "cell_type": "code",
   "execution_count": 708,
   "metadata": {
    "ExecuteTime": {
     "end_time": "2018-04-17T16:36:25.758588Z",
     "start_time": "2018-04-17T16:36:25.754577Z"
    },
    "collapsed": true,
    "hidden": true
   },
   "outputs": [],
   "source": [
    "master_df[\"low_peripheral\"] = master_df[\"low_peripheral\"].astype(float)\n",
    "master_df[\"mid_peripheral\"] = master_df[\"mid_peripheral\"].astype(float)"
   ]
  },
  {
   "cell_type": "code",
   "execution_count": 756,
   "metadata": {
    "ExecuteTime": {
     "end_time": "2018-04-17T16:45:36.948726Z",
     "start_time": "2018-04-17T16:45:36.814369Z"
    },
    "hidden": true
   },
   "outputs": [
    {
     "data": {
      "image/png": "[encoded data removed]",
      "text/plain": [
       "<matplotlib.figure.Figure at 0x2710c94bd68>"
      ]
     },
     "metadata": {},
     "output_type": "display_data"
    }
   ],
   "source": [
    "g=sns.regplot(x=master_df[\"low_peripheral\"], y=master_df[\"qEASL\"], ci=None)\n",
    "g.set_ylabel(\"Change in Viable Tumor Volume\")\n",
    "g.set_xlabel(\"Peripheral Coverage\")\n",
    "g.set_ylim([-1,2.5]);\n",
    "g.set_yticks([-1,0,1,2]);\n",
    "g.set_yticklabels([\"-100%\",\"0%\",\"100%\",\"200%\"]);\n",
    "g.set_xticks([0,.2,.4,.6,.8,1.]);\n",
    "g.set_xticklabels([\"0%\",\"20%\", \"40%\", \"60%\", \"80%\", \"100%\"]);\n",
    "plt.plot(np.linspace(0,100,1000), [-.65]*1000, 'k--', lw=.3)\n",
    "plt.plot(np.linspace(0,100,1000), [.73]*1000, 'k--', lw=.3)\n",
    "sns.despine(top=True, right=True)"
   ]
  },
  {
   "cell_type": "code",
   "execution_count": null,
   "metadata": {
    "ExecuteTime": {
     "end_time": "2018-04-17T16:43:03.165937Z",
     "start_time": "2018-04-17T16:43:02.617425Z"
    },
    "collapsed": true,
    "hidden": true
   },
   "outputs": [],
   "source": [
    "g=sns.factorplot(x=\"low_peripheral\", y=\"qEASL\", hue=\"selective=0\", data=master_df, join=False)\n",
    "g.ax.set_ylabel(\"Change in Viable Tumor Volume\")\n",
    "g.ax.set_xlabel(\"Peripheral Coverage\")\n",
    "g.ax.set_ylim([-1,2.5]);\n",
    "g.ax.set_yticks([-1,0,1,2]);\n",
    "g.ax.set_yticklabels([\"-100%\",\"0%\",\"100%\",\"200%\"]);\n",
    "g.ax.set_xticks([0,.2,.4,.6,.8,1.]);\n",
    "g.ax.set_xticklabels([\"0%\",\"20%\", \"40%\", \"60%\", \"80%\", \"100%\"]);\n",
    "plt.plot(np.linspace(0,100,1000), [-.65]*1000, 'k--', lw=.3)\n",
    "plt.plot(np.linspace(0,100,1000), [.73]*1000, 'k--', lw=.3)\n",
    "sns.despine(top=True, right=True)"
   ]
  },
  {
   "cell_type": "code",
   "execution_count": null,
   "metadata": {
    "ExecuteTime": {
     "end_time": "2018-04-17T16:08:24.705239Z",
     "start_time": "2018-04-17T16:08:24.414466Z"
    },
    "collapsed": true,
    "hidden": true
   },
   "outputs": [],
   "source": [
    "g=sns.regplot(x=master_df[\"mid_peripheral\"], y=master_df[\"qEASL\"])\n",
    "g.set_ylabel(\"% change in viable tumor volume\")\n",
    "g.set_xlabel(\"% peripheral coverage (150 HU)\")"
   ]
  },
  {
   "cell_type": "code",
   "execution_count": 589,
   "metadata": {
    "ExecuteTime": {
     "end_time": "2018-04-17T04:18:13.150255Z",
     "start_time": "2018-04-17T04:18:13.147247Z"
    },
    "collapsed": true,
    "hidden": true
   },
   "outputs": [],
   "source": [
    "#full_df = Rdf.join(master_df)\n",
    "#full_df[(full_df[\"lipcoverage_vol%\"] < .25) & (full_df[\"high_lip\"] < .1)]"
   ]
  },
  {
   "cell_type": "markdown",
   "metadata": {},
   "source": [
    "### main analysis"
   ]
  },
  {
   "cell_type": "code",
   "execution_count": 255,
   "metadata": {
    "ExecuteTime": {
     "end_time": "2018-04-24T03:03:39.474993Z",
     "start_time": "2018-04-24T03:03:38.798804Z"
    },
    "scrolled": true
   },
   "outputs": [],
   "source": [
    "importlib.reload(lvis)\n",
    "ix = 0\n",
    "for lesion_id, row in Rdf.iterrows():\n",
    "    const = lvis.get_df_entry(lesion_id, master_df, modality)\n",
    "    for i in range(4):\n",
    "        df.loc[ix+i] = [row[liplvls[i]], lesion_id, [\"None\", \"Low\", \"Medium\", \"High\"][i]] + const\n",
    "    ix += 4\n",
    "\n",
    "df = df[df[\"Lesion_id\"] != \"BM-06\"]\n",
    "df = df[df[\"Lesion_id\"] != \"BM-17\"]"
   ]
  },
  {
   "cell_type": "code",
   "execution_count": 256,
   "metadata": {
    "ExecuteTime": {
     "end_time": "2018-04-24T03:03:40.475894Z",
     "start_time": "2018-04-24T03:03:40.471883Z"
    },
    "collapsed": true
   },
   "outputs": [],
   "source": [
    "kwargs = {\"x\":\"Lipiodol Deposition\", \"y\":\"Response\", \"data\":df, \"size\":3, \"ci\":None,\n",
    "          \"markers\":[\"s\", \"o\", \"^\"], \"legend\":False}"
   ]
  },
  {
   "cell_type": "code",
   "execution_count": 257,
   "metadata": {
    "ExecuteTime": {
     "end_time": "2018-04-24T03:03:40.689462Z",
     "start_time": "2018-04-24T03:03:40.674422Z"
    },
    "collapsed": true
   },
   "outputs": [],
   "source": [
    "def set_g(g, save_path):\n",
    "    g.set(yticks=[0,.2,.4,.6,.8,1.], ylim=(0.,1.));\n",
    "    g.ax.set_yticklabels([\"0%\",\"20%\", \"40%\", \"60%\", \"80%\", \"100%\"]);\n",
    "    g.ax.set_xlabel(\"\")\n",
    "    g.ax.set_ylabel(\"\")\n",
    "    #g.ax.tick_params('y',width=0)\n",
    "    #sns.despine(bottom=True)\n",
    "    #g.fig.tight_layout(w_pad=1)\n",
    "    plt.legend(loc='lower left');\n",
    "    g.fig.subplots_adjust(left=0.2)\n",
    "    #plt.setp(g.ax.lines,linewidth=1);\n",
    "    g.fig.savefig(save_path, dpi=1000, pad_inches=0, transparent=True)\n",
    "    plt.close()"
   ]
  },
  {
   "cell_type": "markdown",
   "metadata": {
    "ExecuteTime": {
     "end_time": "2018-04-17T04:16:12.275819Z",
     "start_time": "2018-04-17T04:16:12.272793Z"
    }
   },
   "source": [
    "all_df = copy.deepcopy(df)"
   ]
  },
  {
   "cell_type": "code",
   "execution_count": 246,
   "metadata": {
    "ExecuteTime": {
     "end_time": "2018-04-24T02:59:20.730454Z",
     "start_time": "2018-04-24T02:59:18.472771Z"
    },
    "scrolled": true
   },
   "outputs": [],
   "source": [
    "for category, order in [(\"Tumor Growth\", None), (\"Tumor Type\", None),\n",
    "                        (\"TACE Type\", [\"Selective\", \"Lobar\"]), (\"Sparsity\", [\"Sparse\", \"Non\"])]:\n",
    "    g = sns.factorplot(hue=category, hue_order=lm.get_actual_order(category, df, order), **kwargs)\n",
    "    set_g(g, join(C.fig_dir, \"Deposition figures\", \"%s.png\" % category));"
   ]
  },
  {
   "cell_type": "code",
   "execution_count": 258,
   "metadata": {
    "ExecuteTime": {
     "end_time": "2018-04-24T03:04:21.436980Z",
     "start_time": "2018-04-24T03:04:20.336201Z"
    },
    "collapsed": true,
    "scrolled": true
   },
   "outputs": [],
   "source": [
    "focal_df = df.dropna(subset=[\"Tumor Growth\"])\n",
    "focal_df = focal_df[focal_df[\"Tumor Growth\"].str.contains(\"Focal\")]\n",
    "for ix, row in focal_df.iterrows():\n",
    "    focal_df.loc[ix, \"Tumor Type\"] = lvis.check_column(row[\"Lesion_id\"], master_df, \"HCC(0), ICC(1), other(2)\", \n",
    "                                                  {0: \"HCCs\", 1: \"ICCs\", 2: \"Metastases\"}, \"Focal\")\n",
    "    focal_df.loc[ix, \"Sparsity\"] = lvis.check_sparse(row[\"Lesion_id\"], master_df, modality, \"Focal\")\n",
    "kwargs[\"data\"] = focal_df\n",
    "\n",
    "for category, order in [(\"Tumor Type\", None), (\"TACE Type\", [\"Selective\", \"Lobar\"]),\n",
    "                        (\"Sparsity\", [\"Sparse\", \"Non\"]), (\"Rim Presence\", [\"Rim\", \"Non\"])]:\n",
    "    g = sns.factorplot(hue=category, hue_order=lm.get_actual_order(category, focal_df, order), **kwargs)\n",
    "    \n",
    "    set_g(g, join(C.fig_dir, \"Deposition figures\", \"Focal_%s.png\" % category));\n",
    "    \n",
    "#for category, order in [(\"Homogeneity\", [\"Homo\", \"Hetero\"])]:\n",
    "#for category, order in [(\"Sparsity\", [\"Sparse\", \"Non\"])]:\n",
    "#    g = sns.factorplot(hue=category, hue_order=lm.get_actual_order(category, focal_df, order), **kwargs)\n",
    "#    set_g(g, join(C.fig_dir, \"Deposition figures\", \"Focal_%s.png\" % category));"
   ]
  },
  {
   "cell_type": "code",
   "execution_count": 259,
   "metadata": {
    "ExecuteTime": {
     "end_time": "2018-04-24T03:04:59.520710Z",
     "start_time": "2018-04-24T03:04:58.698975Z"
    },
    "scrolled": true
   },
   "outputs": [],
   "source": [
    "infil_df = df.dropna(subset=[\"Tumor Growth\"])\n",
    "infil_df = infil_df[infil_df[\"Tumor Growth\"].str.contains(\"Infiltrative\")]\n",
    "for ix, row in infil_df.iterrows():\n",
    "    infil_df.loc[ix, \"Tumor Type\"] = lvis.check_column(row[\"Lesion_id\"], master_df, \"HCC(0), ICC(1), other(2)\", \n",
    "                                                  {0: \"HCCs\", 1: \"ICCs\", 2: \"Metastases\"}, \"Infiltrative\")\n",
    "    infil_df.loc[ix, \"Sparsity\"] = lvis.check_sparse(row[\"Lesion_id\"], master_df, modality, \"Infiltrative\")\n",
    "kwargs[\"data\"] = infil_df\n",
    "\n",
    "for category, order in [(\"Tumor Type\", None), (\"TACE Type\", [\"Selective\", \"Lobar\"]), (\"Sparsity\", [\"Sparse\", \"Non\"])]:\n",
    "    g = sns.factorplot(hue=category, hue_order=lm.get_actual_order(category, infil_df, order), **kwargs)\n",
    "    set_g(g, join(C.fig_dir, \"Deposition figures\", \"Infil_%s.png\" % category));\n",
    "#for category, order in [(\"Sparsity\", [\"Sparse\", \"Non\"])]:\n",
    "#    g = sns.factorplot(hue=category, hue_order=lm.get_actual_order(category, infil_df, order), **kwargs)\n",
    "#    set_g(g, join(C.fig_dir, \"Deposition figures\", \"Infil_%s.png\" % category));"
   ]
  },
  {
   "cell_type": "code",
   "execution_count": null,
   "metadata": {
    "ExecuteTime": {
     "end_time": "2018-04-16T22:59:24.348775Z",
     "start_time": "2018-04-16T22:59:24.343762Z"
    },
    "collapsed": true
   },
   "outputs": [],
   "source": [
    "## print(len(Rdf))\n",
    "MEAN=Rdf.mean().values"
   ]
  },
  {
   "cell_type": "code",
   "execution_count": 320,
   "metadata": {
    "ExecuteTime": {
     "end_time": "2018-04-16T22:59:31.458372Z",
     "start_time": "2018-04-16T22:59:31.448336Z"
    }
   },
   "outputs": [
    {
     "name": "stdout",
     "output_type": "stream",
     "text": [
      "23\n"
     ]
    }
   ],
   "source": [
    "#well delineated\n",
    "print(len(Rdf[master_df.loc[Rdf.index, \"0=well delineated, 1=infiltrative\"] == 0]))\n",
    "FOCAL=Rdf[master_df.loc[Rdf.index, \"0=well delineated, 1=infiltrative\"] == 0].mean().values"
   ]
  },
  {
   "cell_type": "markdown",
   "metadata": {
    "ExecuteTime": {
     "end_time": "2018-04-10T02:49:19.435196Z",
     "start_time": "2018-04-10T02:49:19.430182Z"
    }
   },
   "source": [
    "[1-df[i].mean() for i in liplvls]"
   ]
  },
  {
   "cell_type": "markdown",
   "metadata": {
    "ExecuteTime": {
     "end_time": "2018-04-10T02:48:14.341697Z",
     "start_time": "2018-04-10T02:48:14.337687Z"
    }
   },
   "source": [
    "[x/(1-x) for x in [0.47604184262689564,\n",
    " 0.3884550297888517,\n",
    " 0.3352322775428981,\n",
    " 0.2986988994268489]]"
   ]
  },
  {
   "cell_type": "code",
   "execution_count": null,
   "metadata": {
    "ExecuteTime": {
     "end_time": "2018-04-10T01:53:03.813064Z",
     "start_time": "2018-04-10T01:53:03.808050Z"
    },
    "collapsed": true
   },
   "outputs": [],
   "source": [
    "[1-df[i].mean() for i in liplvls]"
   ]
  },
  {
   "cell_type": "code",
   "execution_count": null,
   "metadata": {
    "ExecuteTime": {
     "end_time": "2018-04-09T22:37:09.380458Z",
     "start_time": "2018-04-09T22:37:09.376419Z"
    },
    "collapsed": true
   },
   "outputs": [],
   "source": [
    "print([df[i].mean() for i in liplvls])\n",
    "\n",
    "print(np.nanmean(depo_resp_df[0]),\n",
    "np.nanmean(depo_resp_df[100]),\n",
    "np.nanmean(depo_resp_df[150]),\n",
    "np.nanmean(depo_resp_df[200]))"
   ]
  },
  {
   "cell_type": "markdown",
   "metadata": {
    "heading_collapsed": true
   },
   "source": [
    "### Ground truth patterns"
   ]
  },
  {
   "cell_type": "code",
   "execution_count": null,
   "metadata": {
    "ExecuteTime": {
     "end_time": "2018-04-10T17:29:54.686967Z",
     "start_time": "2018-04-10T17:29:54.676914Z"
    },
    "collapsed": true,
    "hidden": true
   },
   "outputs": [],
   "source": [
    "pattern_gtruth_df = pd.read_excel(r\"D:\\Lipiodol\\Results\\Lipiodol Patterns.xlsx\", index_col=0)"
   ]
  },
  {
   "cell_type": "code",
   "execution_count": null,
   "metadata": {
    "ExecuteTime": {
     "end_time": "2018-04-10T17:29:55.096090Z",
     "start_time": "2018-04-10T17:29:55.092082Z"
    },
    "collapsed": true,
    "hidden": true
   },
   "outputs": [],
   "source": [
    "joint_df = pd.concat([vasc_depo_df, pattern_gtruth_df], axis=1, join='inner')"
   ]
  },
  {
   "cell_type": "code",
   "execution_count": null,
   "metadata": {
    "ExecuteTime": {
     "end_time": "2018-04-10T17:29:56.090236Z",
     "start_time": "2018-04-10T17:29:56.086226Z"
    },
    "collapsed": true,
    "hidden": true
   },
   "outputs": [],
   "source": [
    "joint_df.columns"
   ]
  },
  {
   "cell_type": "code",
   "execution_count": null,
   "metadata": {
    "ExecuteTime": {
     "end_time": "2018-04-10T18:16:09.888095Z",
     "start_time": "2018-04-10T18:16:09.874067Z"
    },
    "collapsed": true,
    "hidden": true
   },
   "outputs": [],
   "source": [
    "DF=joint_df.dropna(subset=[\"heterogeneous\"], axis=0)\n",
    "subset_df = DF.loc[DF[\"heterogeneous\"].str.contains(\"yes\"), liplvls+[\"heterogeneous\"]]\n",
    "#subset_df = DF.loc[DF[\"penumbra/margin\"]!=\"no\", liplvls+[\"penumbra/margin\"]]\n",
    "subset_df"
   ]
  },
  {
   "cell_type": "code",
   "execution_count": null,
   "metadata": {
    "ExecuteTime": {
     "end_time": "2018-04-10T18:16:20.021531Z",
     "start_time": "2018-04-10T18:16:20.017520Z"
    },
    "collapsed": true,
    "hidden": true
   },
   "outputs": [],
   "source": [
    "subset_df.index"
   ]
  },
  {
   "cell_type": "code",
   "execution_count": null,
   "metadata": {
    "collapsed": true,
    "hidden": true
   },
   "outputs": [],
   "source": [
    "rim = "
   ]
  },
  {
   "cell_type": "markdown",
   "metadata": {
    "hidden": true
   },
   "source": [
    "RIM: \"BM-07\", \"BM-30\", \"BM-32\", \"BM-37\"\n",
    "Homogeneous: \"BM-18\", \"BM-25\", \"BM-39\", \"PK-03\", \"PK-06\"\n",
    "Heterogeneous: \"BM-18\", \"BM-25\", \"BM-39\", \"PK-03\", \"PK-06\"\n",
    "Central deposition: 'BM-18', 'BM-23', 'BM-25', 'BM-31', 'BM-32', 'BM-39', 'PK-03', 'PK-08'\n",
    "Central recess: 'BM-01', 'BM-07', 'BM-12', 'BM-19', 'BM-24', 'BM-30', 'BM-36', 'PK-02', 'PK-05'\n",
    "Margin: 'BM-30', 'BM-32', 'BM-36', 'BM-37', 'BM-39', 'PK-02', 'PK-03', 'PK-05'"
   ]
  },
  {
   "cell_type": "code",
   "execution_count": null,
   "metadata": {
    "ExecuteTime": {
     "end_time": "2018-04-10T17:56:41.926326Z",
     "start_time": "2018-04-10T17:56:41.922316Z"
    },
    "collapsed": true,
    "hidden": true
   },
   "outputs": [],
   "source": [
    "len(['BM-01', 'BM-07', 'BM-12', 'BM-19', 'BM-24', 'BM-30', 'BM-36', 'PK-02', 'PK-05'])"
   ]
  },
  {
   "cell_type": "code",
   "execution_count": null,
   "metadata": {
    "ExecuteTime": {
     "end_time": "2018-04-10T18:16:42.005170Z",
     "start_time": "2018-04-10T18:16:42.002161Z"
    },
    "collapsed": true,
    "hidden": true
   },
   "outputs": [],
   "source": [
    "len(subset_df)"
   ]
  },
  {
   "cell_type": "code",
   "execution_count": null,
   "metadata": {
    "ExecuteTime": {
     "end_time": "2018-04-10T18:16:25.583163Z",
     "start_time": "2018-04-10T18:16:25.570128Z"
    },
    "collapsed": true,
    "hidden": true
   },
   "outputs": [],
   "source": [
    "subset_df = joint_df.loc[['BM-01', 'BM-02', 'BM-03', 'BM-05', 'BM-06', 'BM-07', 'BM-09', 'BM-10',\n",
    "       'BM-12', 'BM-19', 'BM-23', 'BM-24', 'BM-26', 'BM-27', 'BM-29', 'BM-30',\n",
    "       'BM-31', 'BM-32', 'BM-36', 'BM-37', 'BM-39', 'PK-02', 'PK-05', 'PK-07',\n",
    "       'PK-08'], [0,1,2,3]]\n",
    "subset_df"
   ]
  },
  {
   "cell_type": "code",
   "execution_count": 119,
   "metadata": {
    "ExecuteTime": {
     "end_time": "2018-04-10T18:16:29.863096Z",
     "start_time": "2018-04-10T18:16:29.858082Z"
    },
    "hidden": true
   },
   "outputs": [
    {
     "data": {
      "text/plain": [
       "array([0.49861879, 0.54283119, 0.60239339, 0.64819033])"
      ]
     },
     "execution_count": 119,
     "metadata": {},
     "output_type": "execute_result"
    }
   ],
   "source": [
    "#subset_df.mean().values\n",
    "subset_df.dropna().mean().values"
   ]
  },
  {
   "cell_type": "code",
   "execution_count": 47,
   "metadata": {
    "ExecuteTime": {
     "end_time": "2018-04-10T17:09:31.099557Z",
     "start_time": "2018-04-10T17:09:31.094546Z"
    },
    "hidden": true
   },
   "outputs": [
    {
     "name": "stdout",
     "output_type": "stream",
     "text": [
      "0.4725199969765699 0.7846028172462818\n"
     ]
    }
   ],
   "source": [
    "print(np.mean(subset_df[150]), np.mean(subset_df[200]))"
   ]
  },
  {
   "cell_type": "code",
   "execution_count": 514,
   "metadata": {
    "ExecuteTime": {
     "end_time": "2018-04-09T22:59:06.956145Z",
     "start_time": "2018-04-09T22:59:06.912028Z"
    },
    "collapsed": true,
    "hidden": true
   },
   "outputs": [],
   "source": [
    "vasc_depo_df.to_excel(writer, \"Vascularization-Deposition\")\n",
    "depo_resp_df.to_excel(writer, \"Deposition-Response\")\n",
    "writer.save()"
   ]
  },
  {
   "cell_type": "code",
   "execution_count": null,
   "metadata": {
    "ExecuteTime": {
     "end_time": "2018-04-09T22:38:50.145544Z",
     "start_time": "2018-04-09T22:38:50.129499Z"
    },
    "collapsed": true,
    "hidden": true
   },
   "outputs": [],
   "source": [
    "vasc_depo_df"
   ]
  },
  {
   "cell_type": "code",
   "execution_count": 515,
   "metadata": {
    "ExecuteTime": {
     "end_time": "2018-04-09T23:01:52.722991Z",
     "start_time": "2018-04-09T23:01:52.719981Z"
    },
    "collapsed": true,
    "hidden": true
   },
   "outputs": [],
   "source": [
    "liplvls=[0,100]#,250,300]#list(range(0,401,10))"
   ]
  },
  {
   "cell_type": "code",
   "execution_count": 516,
   "metadata": {
    "ExecuteTime": {
     "end_time": "2018-04-09T23:01:56.255227Z",
     "start_time": "2018-04-09T23:01:52.723994Z"
    },
    "collapsed": true,
    "hidden": true
   },
   "outputs": [],
   "source": [
    "importlib.reload(lm)\n",
    "vasc_depo_df_binary = pd.DataFrame(columns=liplvls)\n",
    "for lesion_id in lipresp_df.index:\n",
    "    vasc_depo_df_binary.loc[lesion_id] = lm.vascular_to_deposition(lesion_id, target_dir, liplvls, exclude_small=True)"
   ]
  },
  {
   "cell_type": "code",
   "execution_count": 517,
   "metadata": {
    "ExecuteTime": {
     "end_time": "2018-04-09T23:02:00.991907Z",
     "start_time": "2018-04-09T23:01:56.257180Z"
    },
    "collapsed": true,
    "hidden": true
   },
   "outputs": [],
   "source": [
    "depo_resp_df_binary = pd.DataFrame(columns=liplvls)\n",
    "for lesion_id in lipresp_df.index:\n",
    "    depo_resp_df_binary.loc[lesion_id] = lm.lip_to_response(lesion_id, target_dir, liplvls, exclude_small=False)"
   ]
  },
  {
   "cell_type": "code",
   "execution_count": 518,
   "metadata": {
    "ExecuteTime": {
     "end_time": "2018-04-09T23:02:18.152783Z",
     "start_time": "2018-04-09T23:02:18.112537Z"
    },
    "collapsed": true,
    "hidden": true
   },
   "outputs": [],
   "source": [
    "vasc_depo_df_binary.to_excel(writer, \"Vasc-Depo-binary\")\n",
    "depo_resp_df_binary.to_excel(writer, \"Depo-Resp-binary\")\n",
    "writer.save()"
   ]
  },
  {
   "cell_type": "markdown",
   "metadata": {
    "heading_collapsed": true
   },
   "source": [
    "### T-Test"
   ]
  },
  {
   "cell_type": "code",
   "execution_count": 522,
   "metadata": {
    "ExecuteTime": {
     "end_time": "2018-04-09T23:04:51.928867Z",
     "start_time": "2018-04-09T23:04:51.918841Z"
    },
    "hidden": true
   },
   "outputs": [
    {
     "data": {
      "text/plain": [
       "Ttest_1sampResult(statistic=2.3802691829515616, pvalue=0.025971980984010247)"
      ]
     },
     "execution_count": 522,
     "metadata": {},
     "output_type": "execute_result"
    }
   ],
   "source": [
    "scipy.stats.ttest_1samp((vasc_depo_df_binary[100]-vasc_depo_df_binary[0]).dropna(), 0)"
   ]
  },
  {
   "cell_type": "code",
   "execution_count": 523,
   "metadata": {
    "ExecuteTime": {
     "end_time": "2018-04-09T23:05:17.012215Z",
     "start_time": "2018-04-09T23:05:17.007175Z"
    },
    "hidden": true
   },
   "outputs": [
    {
     "data": {
      "text/plain": [
       "Ttest_1sampResult(statistic=2.428121152144739, pvalue=0.024249353783670376)"
      ]
     },
     "execution_count": 523,
     "metadata": {},
     "output_type": "execute_result"
    }
   ],
   "source": [
    "scipy.stats.ttest_1samp((vasc_depo_df[150]-vasc_depo_df[100]).dropna(), 0)"
   ]
  },
  {
   "cell_type": "code",
   "execution_count": 524,
   "metadata": {
    "ExecuteTime": {
     "end_time": "2018-04-09T23:05:21.747378Z",
     "start_time": "2018-04-09T23:05:21.742371Z"
    },
    "hidden": true
   },
   "outputs": [
    {
     "data": {
      "text/plain": [
       "Ttest_1sampResult(statistic=2.7092952234597485, pvalue=0.013907459079104805)"
      ]
     },
     "execution_count": 524,
     "metadata": {},
     "output_type": "execute_result"
    }
   ],
   "source": [
    "scipy.stats.ttest_1samp((vasc_depo_df[200]-vasc_depo_df[150]).dropna(), 0)"
   ]
  },
  {
   "cell_type": "code",
   "execution_count": null,
   "metadata": {
    "collapsed": true,
    "hidden": true
   },
   "outputs": [],
   "source": []
  },
  {
   "cell_type": "code",
   "execution_count": 525,
   "metadata": {
    "ExecuteTime": {
     "end_time": "2018-04-09T23:05:42.626802Z",
     "start_time": "2018-04-09T23:05:42.622791Z"
    },
    "hidden": true
   },
   "outputs": [
    {
     "data": {
      "text/plain": [
       "Ttest_1sampResult(statistic=3.492729013676934, pvalue=0.0015538515664505574)"
      ]
     },
     "execution_count": 525,
     "metadata": {},
     "output_type": "execute_result"
    }
   ],
   "source": [
    "scipy.stats.ttest_1samp((depo_resp_df_binary[100]-depo_resp_df_binary[0]).dropna(), 0)"
   ]
  },
  {
   "cell_type": "code",
   "execution_count": 533,
   "metadata": {
    "ExecuteTime": {
     "end_time": "2018-04-09T23:06:23.880839Z",
     "start_time": "2018-04-09T23:06:23.876829Z"
    },
    "hidden": true
   },
   "outputs": [
    {
     "data": {
      "text/plain": [
       "Ttest_1sampResult(statistic=1.2250109889424856, pvalue=0.2348033858355313)"
      ]
     },
     "execution_count": 533,
     "metadata": {},
     "output_type": "execute_result"
    }
   ],
   "source": [
    "scipy.stats.ttest_1samp((depo_resp_df[150]-depo_resp_df[100]).dropna(), 0)"
   ]
  },
  {
   "cell_type": "code",
   "execution_count": 534,
   "metadata": {
    "ExecuteTime": {
     "end_time": "2018-04-09T23:06:23.961052Z",
     "start_time": "2018-04-09T23:06:23.956040Z"
    },
    "hidden": true
   },
   "outputs": [
    {
     "data": {
      "text/plain": [
       "Ttest_1sampResult(statistic=2.800068905160147, pvalue=0.011421953792365588)"
      ]
     },
     "execution_count": 534,
     "metadata": {},
     "output_type": "execute_result"
    }
   ],
   "source": [
    "scipy.stats.ttest_1samp((depo_resp_df[200]-depo_resp_df[150]).dropna(), 0)"
   ]
  },
  {
   "cell_type": "markdown",
   "metadata": {},
   "source": [
    "## Create Ranked DICOMs"
   ]
  },
  {
   "cell_type": "code",
   "execution_count": 155,
   "metadata": {
    "ExecuteTime": {
     "end_time": "2018-04-23T03:52:49.798409Z",
     "start_time": "2018-04-23T03:48:51.327199Z"
    },
    "collapsed": true
   },
   "outputs": [],
   "source": [
    "importlib.reload(lvis)\n",
    "lvis.write_ranked_imgs(pattern_df, target_dir, \"lipcoverage_vol\", \"P['ct24']['img']\", join(C.ranking_dir, \"coverage_ranking_ct24_fresh\"),\n",
    "                  False, \"P['ct24']['tumor']\", \"ct\")"
   ]
  },
  {
   "cell_type": "code",
   "execution_count": 239,
   "metadata": {
    "ExecuteTime": {
     "end_time": "2018-04-24T02:35:07.390565Z",
     "start_time": "2018-04-24T02:32:20.714090Z"
    }
   },
   "outputs": [],
   "source": [
    "importlib.reload(lvis)\n",
    "lvis.write_ranked_imgs(pattern_df, target_dir, \"rim_lipiodol\", \"P['ct24']['img']\", join(C.ranking_dir, \"rim_ranking_ct24_schlecht\"),\n",
    "                  False, \"P['ct24']['tumor']\", \"ct\")"
   ]
  },
  {
   "cell_type": "code",
   "execution_count": null,
   "metadata": {
    "collapsed": true
   },
   "outputs": [],
   "source": [
    "lvis.write_ranked_imgs(pattern_df, target_dir, \"low_peripheral\", \"P['ct24']['img']\", join(C.ranking_dir, \"penumbra_ranking_ct24\"),\n",
    "                  False, \"P['ct24']['tumor']\", \"ct\")"
   ]
  },
  {
   "cell_type": "code",
   "execution_count": 260,
   "metadata": {
    "ExecuteTime": {
     "end_time": "2018-04-16T22:09:21.161055Z",
     "start_time": "2018-04-16T22:05:53.320237Z"
    },
    "collapsed": true
   },
   "outputs": [],
   "source": [
    "importlib.reload(lvis)\n",
    "lvis.write_ranked_imgs(pattern_df, target_dir, \"enhancing_vol\", \"mribl_sub_path\", join(C.ranking_dir, \"coverage_ranking_mrbl\"),\n",
    "                  False, \"mribl_tumor_mask_path\")\n",
    "lvis.write_ranked_imgs(pattern_df, target_dir, \"rim_enhancing\", \"mribl_sub_path\", join(C.ranking_dir, \"rim_ranking_mrbl\"),\n",
    "                  False, \"mribl_tumor_mask_path\")"
   ]
  },
  {
   "cell_type": "code",
   "execution_count": 141,
   "metadata": {
    "ExecuteTime": {
     "end_time": "2018-04-09T02:23:42.999677Z",
     "start_time": "2018-04-09T02:23:42.598917Z"
    },
    "collapsed": true
   },
   "outputs": [],
   "source": [
    "masks.create_dcm_with_masks(ball_ct24_path, [ball_mribl_enh_mask_path, ball_mri30d_enh_mask_path],\n",
    "                            save_dir, overwrite=True, window=\"ct\")"
   ]
  },
  {
   "cell_type": "markdown",
   "metadata": {
    "ExecuteTime": {
     "end_time": "2018-04-06T05:01:11.688839Z",
     "start_time": "2018-04-06T05:01:11.685831Z"
    },
    "heading_collapsed": true
   },
   "source": [
    "## Tumor Mask Screenshots"
   ]
  },
  {
   "cell_type": "code",
   "execution_count": null,
   "metadata": {
    "ExecuteTime": {
     "end_time": "2018-04-12T15:33:32.345316Z",
     "start_time": "2018-04-12T15:32:07.253084Z"
    },
    "collapsed": true,
    "hidden": true
   },
   "outputs": [],
   "source": [
    "importlib.reload(lm)\n",
    "for fn in glob.glob(join(target_dir,\"*\")):\n",
    "    lesion_id = basename(fn)\n",
    "    paths = lm.get_paths(lesion_id, target_dir)\n",
    "\n",
    "    mask_dir, nii_dir, ct24_path, ct24_tumor_mask_path, ct24_liver_mask_path, \\\n",
    "    mribl_art_path, mribl_pre_path, mribl_sub_path, \\\n",
    "    mribl_tumor_mask_path, mribl_liver_mask_path, \\\n",
    "    mribl_enh_mask_path, mribl_nec_mask_path, \\\n",
    "    mri30d_art_path, mri30d_pre_path, \\\n",
    "    mri30d_tumor_mask_path, mri30d_liver_mask_path, \\\n",
    "    mri30d_enh_mask_path, mri30d_nec_mask_path, \\\n",
    "    ball_ct24_path, ball_mribl_path, ball_mri30d_path, \\\n",
    "    ball_mask_path, ball_mribl_enh_mask_path, ball_mri30d_enh_mask_path, \\\n",
    "    midlip_mask_path, ball_midlip_mask_path, \\\n",
    "    highlip_mask_path, ball_highlip_mask_path = paths\n",
    "\n",
    "    lm.draw_unreg_fig(mribl_art_path, mribl_tumor_mask_path, join(C.png_dir, lesion_id, \"BL MR\"), 'b', 'mr')\n",
    "    lm.draw_unreg_fig(mri30d_art_path, mri30d_tumor_mask_path, join(C.png_dir, lesion_id, \"30d MR\"), 'r', 'mr')\n",
    "    lm.draw_unreg_fig(ct24_path, ct24_tumor_mask_path, join(C.png_dir, lesion_id, \"24h CT\"), 'g', 'ct')"
   ]
  },
  {
   "cell_type": "code",
   "execution_count": null,
   "metadata": {
    "collapsed": true,
    "hidden": true
   },
   "outputs": [],
   "source": [
    "lm.draw_reg_fig(ball_mribl_path, ball_mribl_enh_mask_path, join(C.fig_dir, lesion_id, \"MRIBL\"), 'b', 'mr')\n",
    "lm.draw_reg_fig(ball_mri30d_path, ball_mri30d_enh_mask_path, \"D:\\\\Lipiodol\\\\Figures\\\\MRI30d\", 'r', 'mr')\n",
    "lm.draw_reg_fig(ball_ct24_path, ball_highlip_mask_path, \"D:\\\\Lipiodol\\\\Figures\\\\Lip\", 'g', 'ct')"
   ]
  },
  {
   "cell_type": "code",
   "execution_count": null,
   "metadata": {
    "ExecuteTime": {
     "end_time": "2018-04-06T15:09:57.976409Z",
     "start_time": "2018-04-06T15:09:56.957128Z"
    },
    "collapsed": true,
    "hidden": true
   },
   "outputs": [],
   "source": [
    "# Figure for 24h CT\n",
    "img,_ = hf.nii_load(ball_ct24_path)\n",
    "blmask,_ = masks.get_mask(ball_mribl_enh_mask_path)\n",
    "fumask,_ = masks.get_mask(ball_mri30d_enh_mask_path)\n",
    "\n",
    "for sl in range(img.shape[-1]//4,img.shape[-1]*3//4,img.shape[-1]//12):\n",
    "    plt.close()\n",
    "    plt.imshow(img[...,sl], cmap='gray', vmin=30, vmax=250)\n",
    "    FU=plt.contour(fumask[:,:,sl], colors='r', alpha=.4)\n",
    "    plt.contour(blmask[:,:,sl], colors='b', alpha=.4)\n",
    "    plt.contourf(fumask[:,:,sl], colors=[(0,0,0,0)]*6+[(1,0,0,.2)]) #look at the length of FU.allsegs\n",
    "    plt.contourf(blmask[:,:,sl], colors=[(0,0,0,0)]*6+[(0,0,1,.2)])\n",
    "    plt.axis('off')\n",
    "    plt.savefig(\"D:\\\\Lipiodol\\\\Figures\\\\24hCT_%d.png\" % sl, dpi=100, bbox_inches='tight')"
   ]
  },
  {
   "cell_type": "markdown",
   "metadata": {
    "heading_collapsed": true,
    "hidden": true
   },
   "source": [
    "### DICOMs for HU threshold validation"
   ]
  },
  {
   "cell_type": "code",
   "execution_count": 381,
   "metadata": {
    "ExecuteTime": {
     "end_time": "2018-04-14T21:35:40.337922Z",
     "start_time": "2018-04-14T21:31:34.790586Z"
    },
    "collapsed": true,
    "hidden": true
   },
   "outputs": [],
   "source": [
    "importlib.reload(masks)\n",
    "for fn in glob.glob(join(target_dir,\"*\")):\n",
    "    lesion_id = basename(fn)\n",
    "    paths = lm.get_paths(lesion_id, target_dir)\n",
    "\n",
    "    mask_dir, nii_dir, ct24_path, ct24_tumor_mask_path, ct24_liver_mask_path, \\\n",
    "    mribl_art_path, mribl_pre_path, mribl_sub_path, \\\n",
    "    mribl_tumor_mask_path, mribl_liver_mask_path, \\\n",
    "    mribl_enh_mask_path, mribl_nec_mask_path, \\\n",
    "    mri30d_art_path, mri30d_pre_path, \\\n",
    "    mri30d_tumor_mask_path, mri30d_liver_mask_path, \\\n",
    "    mri30d_enh_mask_path, mri30d_nec_mask_path, \\\n",
    "    ball_ct24_path, ball_mribl_path, ball_mri30d_path, \\\n",
    "    ball_mask_path, ball_mribl_enh_mask_path, ball_mri30d_enh_mask_path, \\\n",
    "    midlip_mask_path, ball_midlip_mask_path, \\\n",
    "    highlip_mask_path, ball_highlip_mask_path = paths\n",
    "    lowlip_mask_path = join(mask_dir, \"low_lipiodol\")\n",
    "\n",
    "    masks.create_dcm_with_multimask(ct24_path, [highlip_mask_path, midlip_mask_path, lowlip_mask_path],\n",
    "                                    join(C.fig_dir, \"HU threshold validation\", lesion_id), overwrite=True, padding=0, window=\"ct\")"
   ]
  },
  {
   "cell_type": "markdown",
   "metadata": {
    "heading_collapsed": true,
    "hidden": true
   },
   "source": [
    "### Binary masks for sphering figure"
   ]
  },
  {
   "cell_type": "code",
   "execution_count": null,
   "metadata": {
    "ExecuteTime": {
     "end_time": "2018-04-14T22:13:36.929832Z",
     "start_time": "2018-04-14T22:11:41.386701Z"
    },
    "collapsed": true,
    "hidden": true
   },
   "outputs": [],
   "source": [
    "importlib.reload(hf)\n",
    "liver_dir = join(C.fig_dir, \"sphering figure\", \"liver binary mask\")\n",
    "tumor_dir = join(C.fig_dir, \"sphering figure\", \"tumor binary mask\")\n",
    "if not exists(liver_dir):\n",
    "    os.makedirs(liver_dir)\n",
    "if not exists(tumor_dir):\n",
    "    os.makedirs(tumor_dir)\n",
    "                \n",
    "for fn in glob.glob(join(target_dir,\"*\")):\n",
    "    lesion_id = basename(fn)\n",
    "    paths = lm.get_paths(lesion_id, target_dir)\n",
    "\n",
    "    mask_dir, nii_dir, ct24_path, ct24_tumor_mask_path, ct24_liver_mask_path, \\\n",
    "    mribl_art_path, mribl_pre_path, mribl_sub_path, \\\n",
    "    mribl_tumor_mask_path, mribl_liver_mask_path, \\\n",
    "    mribl_enh_mask_path, mribl_nec_mask_path, \\\n",
    "    mri30d_art_path, mri30d_pre_path, \\\n",
    "    mri30d_tumor_mask_path, mri30d_liver_mask_path, \\\n",
    "    mri30d_enh_mask_path, mri30d_nec_mask_path, \\\n",
    "    ball_ct24_path, ball_mribl_path, ball_mri30d_path, \\\n",
    "    ball_mask_path, ball_mribl_enh_mask_path, ball_mri30d_enh_mask_path, \\\n",
    "    midlip_mask_path, ball_midlip_mask_path, \\\n",
    "    highlip_mask_path, ball_highlip_mask_path = paths\n",
    "    \n",
    "    if False:\n",
    "        M = hf.crop_nonzero(masks.get_mask(mribl_liver_mask_path)[0], pad=5)[0]\n",
    "        plt.imshow(M[:,:,M.shape[-1]//2], cmap='gray')\n",
    "        plt.axis('off')\n",
    "        plt.savefig(join(liver_dir, \"%s_BLMR.png\" % lesion_id), dpi=100, bbox_inches='tight')\n",
    "\n",
    "        M = hf.crop_nonzero(masks.get_mask(ct24_liver_mask_path)[0], pad=5)[0]\n",
    "        plt.imshow(M[:,:,M.shape[-1]//2], cmap='gray')\n",
    "        plt.axis('off')\n",
    "        plt.savefig(join(liver_dir, \"%s_24hCT.png\" % lesion_id), dpi=100, bbox_inches='tight')\n",
    "\n",
    "        M = hf.crop_nonzero(masks.get_mask(mri30d_liver_mask_path)[0], pad=5)[0]\n",
    "        plt.imshow(M[:,:,M.shape[-1]//2], cmap='gray')\n",
    "        plt.axis('off')\n",
    "        plt.savefig(join(liver_dir, \"%s_30dMR.png\" % lesion_id), dpi=100, bbox_inches='tight')\n",
    "\n",
    "    M = hf.crop_nonzero(masks.get_mask(mribl_tumor_mask_path)[0], pad=5)[0]\n",
    "    plt.imshow(M[:,:,M.shape[-1]//2], cmap='gray')\n",
    "    plt.axis('off')\n",
    "    plt.savefig(join(tumor_dir, \"%s_BLMR.png\" % lesion_id), dpi=100, bbox_inches='tight')\n",
    "                \n",
    "    M = hf.crop_nonzero(masks.get_mask(ct24_tumor_mask_path)[0], pad=5)[0]\n",
    "    plt.imshow(M[:,:,M.shape[-1]//2], cmap='gray')\n",
    "    plt.axis('off')\n",
    "    plt.savefig(join(tumor_dir, \"%s_24hCT.png\" % lesion_id), dpi=100, bbox_inches='tight')\n",
    "\n",
    "    M = hf.crop_nonzero(masks.get_mask(mri30d_tumor_mask_path)[0], pad=5)[0]\n",
    "    plt.imshow(M[:,:,M.shape[-1]//2], cmap='gray')\n",
    "    plt.axis('off')\n",
    "    plt.savefig(join(tumor_dir, \"%s_30dMR.png\" % lesion_id), dpi=100, bbox_inches='tight')"
   ]
  },
  {
   "cell_type": "code",
   "execution_count": null,
   "metadata": {
    "collapsed": true,
    "hidden": true
   },
   "outputs": [],
   "source": [
    "importlib.reload(hf)\n",
    "liver_dir = join(C.fig_dir, \"sphering figure\", \"liver with mask\")\n",
    "tumor_dir = join(C.fig_dir, \"sphering figure\", \"tumor with mask\")\n",
    "if not exists(liver_dir):\n",
    "    os.makedirs(liver_dir)\n",
    "if not exists(tumor_dir):\n",
    "    os.makedirs(tumor_dir)\n",
    "                \n",
    "for fn in glob.glob(join(target_dir,\"*\")):\n",
    "    lesion_id = basename(fn)\n",
    "    paths = lm.get_paths(lesion_id, target_dir)\n",
    "\n",
    "    mask_dir, nii_dir, ct24_path, ct24_tumor_mask_path, ct24_liver_mask_path, \\\n",
    "    mribl_art_path, mribl_pre_path, mribl_sub_path, \\\n",
    "    mribl_tumor_mask_path, mribl_liver_mask_path, \\\n",
    "    mribl_enh_mask_path, mribl_nec_mask_path, \\\n",
    "    mri30d_art_path, mri30d_pre_path, \\\n",
    "    mri30d_tumor_mask_path, mri30d_liver_mask_path, \\\n",
    "    mri30d_enh_mask_path, mri30d_nec_mask_path, \\\n",
    "    ball_ct24_path, ball_mribl_path, ball_mri30d_path, \\\n",
    "    ball_mask_path, ball_mribl_enh_mask_path, ball_mri30d_enh_mask_path, \\\n",
    "    midlip_mask_path, ball_midlip_mask_path, \\\n",
    "    highlip_mask_path, ball_highlip_mask_path = paths\n",
    "    \n",
    "    M = hf.crop_nonzero(masks.get_mask(mribl_liver_mask_path)[0], pad=5)[0]\n",
    "    plt.imshow(M[:,:,M.shape[-1]//2], cmap='gray')\n",
    "    plt.axis('off')\n",
    "    plt.savefig(join(liver_dir, \"%s_BLMR.png\" % lesion_id), dpi=100, bbox_inches='tight')\n",
    "\n",
    "    M = hf.crop_nonzero(masks.get_mask(ct24_liver_mask_path)[0], pad=5)[0]\n",
    "    plt.imshow(M[:,:,M.shape[-1]//2], cmap='gray')\n",
    "    plt.axis('off')\n",
    "    plt.savefig(join(liver_dir, \"%s_24hCT.png\" % lesion_id), dpi=100, bbox_inches='tight')\n",
    "\n",
    "    M = hf.crop_nonzero(masks.get_mask(mri30d_liver_mask_path)[0], pad=5)[0]\n",
    "    plt.imshow(M[:,:,M.shape[-1]//2], cmap='gray')\n",
    "    plt.axis('off')\n",
    "    plt.savefig(join(liver_dir, \"%s_30dMR.png\" % lesion_id), dpi=100, bbox_inches='tight')\n",
    "\n",
    "    M = hf.crop_nonzero(masks.get_mask(mribl_tumor_mask_path)[0], pad=5)[0]\n",
    "    plt.imshow(M[:,:,M.shape[-1]//2], cmap='gray')\n",
    "    plt.axis('off')\n",
    "    plt.savefig(join(tumor_dir, \"%s_BLMR.png\" % lesion_id), dpi=100, bbox_inches='tight')\n",
    "                \n",
    "    M = hf.crop_nonzero(masks.get_mask(ct24_tumor_mask_path)[0], pad=5)[0]\n",
    "    plt.imshow(M[:,:,M.shape[-1]//2], cmap='gray')\n",
    "    plt.axis('off')\n",
    "    plt.savefig(join(tumor_dir, \"%s_24hCT.png\" % lesion_id), dpi=100, bbox_inches='tight')\n",
    "\n",
    "    M = hf.crop_nonzero(masks.get_mask(mri30d_tumor_mask_path)[0], pad=5)[0]\n",
    "    plt.imshow(M[:,:,M.shape[-1]//2], cmap='gray')\n",
    "    plt.axis('off')\n",
    "    plt.savefig(join(tumor_dir, \"%s_30dMR.png\" % lesion_id), dpi=100, bbox_inches='tight')"
   ]
  },
  {
   "cell_type": "code",
   "execution_count": null,
   "metadata": {
    "ExecuteTime": {
     "end_time": "2018-04-15T00:24:45.209030Z",
     "start_time": "2018-04-15T00:24:44.976228Z"
    },
    "collapsed": true,
    "hidden": true
   },
   "outputs": [],
   "source": [
    "M = hf.crop_nonzero(masks.get_mask(ball_mask_path)[0], pad=5)[0]\n",
    "plt.imshow(M[:,:,M.shape[-1]//2+40], cmap='gray')\n",
    "plt.axis('off')\n",
    "plt.savefig(\"D:\\\\ball.png\", dpi=100, bbox_inches='tight')"
   ]
  },
  {
   "cell_type": "markdown",
   "metadata": {
    "heading_collapsed": true
   },
   "source": [
    "## Extra"
   ]
  },
  {
   "cell_type": "markdown",
   "metadata": {
    "hidden": true
   },
   "source": [
    "IVs = get_intensity_section(ball_ct24_path, ball_mask_path, params)\n",
    "            if highest_I_V < I_V:\n",
    "                best_params = params\n",
    "                highest_I_V = I_V\n",
    "                print(best_params)\n",
    "theta1_best, phi1_best, dtheta_best, dz_best = best_params"
   ]
  },
  {
   "cell_type": "code",
   "execution_count": null,
   "metadata": {
    "ExecuteTime": {
     "end_time": "2018-04-05T22:22:47.402911Z",
     "start_time": "2018-04-05T22:22:47.378848Z"
    },
    "collapsed": true,
    "hidden": true
   },
   "outputs": [],
   "source": [
    "ball_IV = get_avg_ball_intensity(ball_ct24_path, ball_mask_path)\n",
    "core_IV = get_avg_core_intensity(ball_ct24_path, ball_mask_path)"
   ]
  },
  {
   "cell_type": "code",
   "execution_count": 303,
   "metadata": {
    "ExecuteTime": {
     "end_time": "2018-04-06T01:56:56.770027Z",
     "start_time": "2018-04-06T01:56:56.766015Z"
    },
    "hidden": true
   },
   "outputs": [
    {
     "data": {
      "text/plain": [
       "(197.83461276161094, 209.89937589866474)"
      ]
     },
     "execution_count": 303,
     "metadata": {},
     "output_type": "execute_result"
    }
   ],
   "source": [
    "ball_IV, core_IV"
   ]
  },
  {
   "cell_type": "code",
   "execution_count": null,
   "metadata": {
    "ExecuteTime": {
     "end_time": "2018-04-06T02:25:17.074399Z",
     "start_time": "2018-04-06T02:25:15.865084Z"
    },
    "collapsed": true,
    "hidden": true
   },
   "outputs": [],
   "source": [
    "importlib.reload(lm)\n",
    "IVs = lm.calc_intensity_shells_angles(hf.nii_load(ball_ct24_path)[0], ball_mask_path)\n",
    "IVs[IVs==0] = np.nan\n",
    "\n",
    "samples = lm.fibonacci_sphere(2500, True, randomize=True)\n",
    "samples = np.round(samples).astype(int)\n",
    "s0 = samples[:,0]\n",
    "s1 = samples[:,1]\n",
    "for i in range(IVs.shape[-1]):\n",
    "    print(np.nanmean(IVs[s0,s1,i]))"
   ]
  },
  {
   "cell_type": "code",
   "execution_count": 388,
   "metadata": {
    "ExecuteTime": {
     "end_time": "2018-04-06T03:41:24.387987Z",
     "start_time": "2018-04-06T03:41:24.373950Z"
    },
    "collapsed": true,
    "hidden": true
   },
   "outputs": [],
   "source": [
    "loopIVs = np.tile(IVs[:-1,:-1,:], (2,2,1))\n",
    "loopIVs[180:,:,:] = np.nan"
   ]
  },
  {
   "cell_type": "code",
   "execution_count": null,
   "metadata": {
    "ExecuteTime": {
     "end_time": "2018-04-06T04:07:35.800850Z",
     "start_time": "2018-04-06T04:07:28.305059Z"
    },
    "collapsed": true,
    "hidden": true
   },
   "outputs": [],
   "source": [
    "for dtheta in range(30,180,20):\n",
    "    print(dtheta)\n",
    "    best_IV = core_IV\n",
    "    worst_IV = core_IV\n",
    "    for theta in range(0,180,20):\n",
    "        for phi in range(180,480,20):\n",
    "            for shell1 in range(4):\n",
    "                for shell2 in range(shell1+1,5):\n",
    "                    IV = np.nanmean(loopIVs[max(theta-dtheta,0) : theta+dtheta, phi-dtheta : phi+dtheta, shell1:shell2])\n",
    "                    params = theta, phi % 360, shell1, shell2\n",
    "                    if best_IV < IV:\n",
    "                        best_params = params\n",
    "                        best_IV = IV\n",
    "                        \n",
    "            IV = np.nanmean(loopIVs[max(theta-dtheta,0) : theta+dtheta, phi-dtheta : phi+dtheta, :5])\n",
    "            params = theta, phi % 360\n",
    "            if worst_IV > IV:\n",
    "                worst_params = params\n",
    "                worst_IV = IV\n",
    "                \n",
    "    print(best_params, round(best_IV,1))\n",
    "    print(worst_params, round(worst_IV,1))"
   ]
  },
  {
   "cell_type": "code",
   "execution_count": null,
   "metadata": {
    "ExecuteTime": {
     "end_time": "2018-04-06T04:14:42.190274Z",
     "start_time": "2018-04-06T04:14:40.506330Z"
    },
    "collapsed": true,
    "hidden": true
   },
   "outputs": [],
   "source": [
    "importlib.reload(lm)\n",
    "enhmask_density = lm.calc_intensity_shells_angles(masks.get_mask(ball_mribl_enh_mask_path)[0]+1, ball_mask_path)\n",
    "\n",
    "enhmask_density = enhmask_density[...,:5]\n",
    "enhmask_density[enhmask_density==0] = np.nan\n",
    "\n",
    "samples = fibonacci_sphere(2500, True, randomize=True)\n",
    "samples = np.round(samples).astype(int)\n",
    "s0 = samples[:,0]\n",
    "s1 = samples[:,1]\n",
    "for i in range(enhmask_density.shape[-1]):\n",
    "    print(np.nanmean(enhmask_density[s0,s1,i]))"
   ]
  },
  {
   "cell_type": "code",
   "execution_count": null,
   "metadata": {
    "ExecuteTime": {
     "end_time": "2018-04-06T04:15:33.357552Z",
     "start_time": "2018-04-06T04:15:31.657137Z"
    },
    "collapsed": true,
    "hidden": true
   },
   "outputs": [],
   "source": [
    "importlib.reload(lm)\n",
    "enhmask_density = lm.calc_intensity_shells_angles(masks.get_mask(ball_mri30d_enh_mask_path)[0]+1, ball_mask_path)\n",
    "\n",
    "enhmask_density = enhmask_density[...,:5]\n",
    "enhmask_density[enhmask_density==0] = np.nan\n",
    "\n",
    "samples = fibonacci_sphere(2500, True, randomize=True)\n",
    "samples = np.round(samples).astype(int)\n",
    "s0 = samples[:,0]\n",
    "s1 = samples[:,1]\n",
    "for i in range(enhmask_density.shape[-1]):\n",
    "    print(np.nanmean(enhmask_density[s0,s1,i]))"
   ]
  },
  {
   "cell_type": "code",
   "execution_count": null,
   "metadata": {
    "ExecuteTime": {
     "end_time": "2018-04-06T04:03:49.971534Z",
     "start_time": "2018-04-06T04:03:49.958472Z"
    },
    "collapsed": true,
    "hidden": true
   },
   "outputs": [],
   "source": [
    "for i in range(enhmask_density.shape[-1]):\n",
    "    print(np.nanmean(enhmask_density[s0,s1,i]))"
   ]
  },
  {
   "cell_type": "code",
   "execution_count": null,
   "metadata": {
    "collapsed": true,
    "hidden": true
   },
   "outputs": [],
   "source": [
    "enhmask_density ="
   ]
  },
  {
   "cell_type": "code",
   "execution_count": null,
   "metadata": {
    "collapsed": true,
    "hidden": true
   },
   "outputs": [],
   "source": [
    "conv_rate = np.zeros((181,360))"
   ]
  }
 ],
 "metadata": {
  "kernelspec": {
   "display_name": "Python 3",
   "language": "python",
   "name": "python3"
  },
  "language_info": {
   "codemirror_mode": {
    "name": "ipython",
    "version": 3
   },
   "file_extension": ".py",
   "mimetype": "text/x-python",
   "name": "python",
   "nbconvert_exporter": "python",
   "pygments_lexer": "ipython3",
   "version": "3.5.0"
  },
  "varInspector": {
   "cols": {
    "lenName": 16,
    "lenType": 16,
    "lenVar": 40
   },
   "kernels_config": {
    "python": {
     "delete_cmd_postfix": "",
     "delete_cmd_prefix": "del ",
     "library": "var_list.py",
     "varRefreshCmd": "print(var_dic_list())"
    },
    "r": {
     "delete_cmd_postfix": ") ",
     "delete_cmd_prefix": "rm(",
     "library": "var_list.r",
     "varRefreshCmd": "cat(var_dic_list()) "
    }
   },
   "types_to_exclude": [
    "module",
    "function",
    "builtin_function_or_method",
    "instance",
    "_Feature"
   ],
   "window_display": false
  }
 },
 "nbformat": 4,
 "nbformat_minor": 2
}
