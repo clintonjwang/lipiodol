{
 "cells": [
  {
   "cell_type": "markdown",
   "metadata": {},
   "source": [
    "## Imports"
   ]
  },
  {
   "cell_type": "code",
   "execution_count": 2,
   "metadata": {
    "ExecuteTime": {
     "end_time": "2018-04-11T16:39:15.271388Z",
     "start_time": "2018-04-11T16:39:12.768591Z"
    }
   },
   "outputs": [
    {
     "name": "stderr",
     "output_type": "stream",
     "text": [
      "C:\\Users\\Clinton\\AppData\\Local\\conda\\conda\\envs\\old-keras\\lib\\site-packages\\h5py\\__init__.py:34: FutureWarning: Conversion of the second argument of issubdtype from `float` to `np.floating` is deprecated. In future, it will be treated as `np.float64 == np.dtype(float).type`.\n",
      "  from ._conv import register_converters as _register_converters\n",
      "Using TensorFlow backend.\n"
     ]
    }
   ],
   "source": [
    "import copy\n",
    "import glob\n",
    "import importlib\n",
    "import itertools\n",
    "import math\n",
    "import os\n",
    "import random\n",
    "import shutil\n",
    "import sys\n",
    "from math import degrees, pi, radians\n",
    "from os.path import *\n",
    "\n",
    "import matplotlib.pyplot as plt\n",
    "import numpy as np\n",
    "import pandas as pd\n",
    "import scipy.stats\n",
    "import SimpleITK as sitk\n",
    "import skimage.feature as skf\n",
    "from skimage.morphology import ball\n",
    "\n",
    "import cnn_builder as cbuild\n",
    "import config\n",
    "import lipiodol_methods as lm\n",
    "import niftiutils.helper_fxns as hf\n",
    "import niftiutils.masks as masks\n",
    "import niftiutils.registration as reg\n",
    "import niftiutils.transforms as tr\n",
    "from config import Config\n",
    "\n",
    "%matplotlib inline"
   ]
  },
  {
   "cell_type": "code",
   "execution_count": 64,
   "metadata": {
    "ExecuteTime": {
     "end_time": "2018-04-12T15:16:39.508907Z",
     "start_time": "2018-04-12T15:16:39.503894Z"
    },
    "collapsed": true,
    "scrolled": true
   },
   "outputs": [],
   "source": [
    "importlib.reload(config)\n",
    "C = config.Config()"
   ]
  },
  {
   "cell_type": "code",
   "execution_count": 4,
   "metadata": {
    "ExecuteTime": {
     "end_time": "2018-04-11T16:39:15.306481Z",
     "start_time": "2018-04-11T16:39:15.302471Z"
    },
    "collapsed": true
   },
   "outputs": [],
   "source": [
    "img_dir = \"D:\\\\Lipiodol\\\\Images all\"\n",
    "seg_dir = \"D:\\\\Lipiodol\\\\Images extracted and segmentations\"\n",
    "target_dir = \"D:\\\\Lipiodol\\\\Data\""
   ]
  },
  {
   "cell_type": "markdown",
   "metadata": {
    "collapsed": true
   },
   "source": [
    "## Pattern analysis"
   ]
  },
  {
   "cell_type": "code",
   "execution_count": 32,
   "metadata": {
    "ExecuteTime": {
     "end_time": "2018-04-10T17:04:59.947673Z",
     "start_time": "2018-04-10T17:04:59.942660Z"
    },
    "collapsed": true
   },
   "outputs": [],
   "source": [
    "patients = [basename(fn) for fn in glob.glob(join(target_dir,\"*\"))]\n",
    "num_patients = len(patients)"
   ]
  },
  {
   "cell_type": "code",
   "execution_count": 315,
   "metadata": {
    "ExecuteTime": {
     "end_time": "2018-04-09T18:49:25.303098Z",
     "start_time": "2018-04-09T18:49:25.297079Z"
    },
    "collapsed": true
   },
   "outputs": [],
   "source": [
    "patient_id = \"PK-08\"\n",
    "importlib.reload(lm)\n",
    "paths = lm.get_paths(patient_id, target_dir, check_valid=False)\n",
    "\n",
    "mask_dir, nii_dir, ct24_path, ct24_tumor_mask_path, ct24_liver_mask_path, \\\n",
    "mribl_art_path, mribl_pre_path, \\\n",
    "mribl_tumor_mask_path, mribl_liver_mask_path, \\\n",
    "mribl_enh_mask_path, mribl_nec_mask_path, \\\n",
    "mri30d_art_path, mri30d_pre_path, \\\n",
    "mri30d_tumor_mask_path, mri30d_liver_mask_path, \\\n",
    "mri30d_enh_mask_path, mri30d_nec_mask_path, \\\n",
    "ball_ct24_path, ball_mribl_path, ball_mri30d_path, \\\n",
    "ball_mask_path, ball_mribl_enh_mask_path, ball_mri30d_enh_mask_path, \\\n",
    "midlip_mask_path, ball_midlip_mask_path, \\\n",
    "highlip_mask_path, ball_highlip_mask_path = paths"
   ]
  },
  {
   "cell_type": "markdown",
   "metadata": {},
   "source": [
    "### Validate HU scale"
   ]
  },
  {
   "cell_type": "code",
   "execution_count": 132,
   "metadata": {
    "ExecuteTime": {
     "end_time": "2018-04-13T15:08:30.308216Z",
     "start_time": "2018-04-13T15:08:30.305208Z"
    },
    "collapsed": true
   },
   "outputs": [],
   "source": [
    "Bins = list(range(0,501,10))\n",
    "LxL = np.zeros((len(Bins),len(Bins)), int)"
   ]
  },
  {
   "cell_type": "code",
   "execution_count": 153,
   "metadata": {
    "ExecuteTime": {
     "end_time": "2018-04-13T15:18:07.167529Z",
     "start_time": "2018-04-13T15:18:07.153506Z"
    },
    "collapsed": true
   },
   "outputs": [],
   "source": [
    "def otsu_2d(img, ignore_below=0):\n",
    "    for i in range(img.shape[0]):\n",
    "        for j in range(img.shape[1]):\n",
    "            for k in range(img.shape[2]):\n",
    "                if np.isnan(img[i,j,k]):\n",
    "                    continue\n",
    "                #I = int(min(round(img[i,j,k]/10), len(Bins)-1))\n",
    "                \n",
    "                neighborhood = [slice(max(i-2,0),i+2), slice(max(j-2,0),j+2), slice(max(k-1,0),k+1)]\n",
    "                #J = int(min(round(np.mean(img[neighborhood])/10), len(Bins)-1))\n",
    "                n = np.count_nonzero(~np.isnan(img[neighborhood]))\n",
    "                voxel_ints_2d.append([img[i,j,k], (np.nansum(img[neighborhood])-img[i,j,k])/(n-1)])\n",
    "                #LxL[I,J] += 1\n",
    "        print(n)"
   ]
  },
  {
   "cell_type": "code",
   "execution_count": 344,
   "metadata": {
    "ExecuteTime": {
     "end_time": "2018-04-13T21:48:04.756137Z",
     "start_time": "2018-04-13T21:46:09.018206Z"
    }
   },
   "outputs": [],
   "source": [
    "#voxel_ints = []\n",
    "#voxel_ints_2d = []\n",
    "#otsus = []\n",
    "#LI = []\n",
    "#ISO = []\n",
    "#YEN = []\n",
    "KM = []\n",
    "for fn in glob.glob(join(target_dir,\"*\")):\n",
    "    patient_id = basename(fn)\n",
    "    paths = lm.get_paths(patient_id, target_dir)\n",
    "\n",
    "    mask_dir, nii_dir, ct24_path, ct24_tumor_mask_path, ct24_liver_mask_path, \\\n",
    "    mribl_art_path, mribl_pre_path, \\\n",
    "    mribl_tumor_mask_path, mribl_liver_mask_path, \\\n",
    "    mribl_enh_mask_path, mribl_nec_mask_path, \\\n",
    "    mri30d_art_path, mri30d_pre_path, \\\n",
    "    mri30d_tumor_mask_path, mri30d_liver_mask_path, \\\n",
    "    mri30d_enh_mask_path, mri30d_nec_mask_path, \\\n",
    "    ball_ct24_path, ball_mribl_path, ball_mri30d_path, \\\n",
    "    ball_mask_path, ball_mribl_enh_mask_path, ball_mri30d_enh_mask_path, \\\n",
    "    midlip_mask_path, ball_midlip_mask_path, \\\n",
    "    highlip_mask_path, ball_highlip_mask_path = paths\n",
    "    \n",
    "    img,D = hf.nii_load(ct24_path)\n",
    "    M = masks.get_mask(ct24_tumor_mask_path, D, img.shape)[0]\n",
    "    img = img*M/M.max()\n",
    "    \n",
    "    km=sklearn.cluster.KMeans(2, n_jobs=2)#, algorithm=\"full\")\n",
    "    km.fit(img[img > 100].reshape(-1,1))\n",
    "    KM.append(km.cluster_centers_)\n",
    "    \n",
    "    #LI.append(filters.threshold_li(img[img > 100]))\n",
    "    #ISO.append(filters.threshold_isodata(img[img > 100]))\n",
    "    #YEN.append(filters.threshold_yen(img[img > 100]))\n",
    "    #otsus.append(filters.threshold_otsu(img[img > 100]))\n",
    "    \n",
    "    #voxel_ints.append(img[img>0])\n",
    "    \n",
    "    #img[img <= 0] = np.nan\n",
    "    #img = hf.crop_nonzero(img)[0]\n",
    "    #otsu_2d(img)"
   ]
  },
  {
   "cell_type": "code",
   "execution_count": null,
   "metadata": {
    "collapsed": true
   },
   "outputs": [],
   "source": [
    "KM"
   ]
  },
  {
   "cell_type": "code",
   "execution_count": 341,
   "metadata": {
    "ExecuteTime": {
     "end_time": "2018-04-13T21:27:19.788449Z",
     "start_time": "2018-04-13T21:27:19.783436Z"
    }
   },
   "outputs": [
    {
     "data": {
      "text/plain": [
       "205.5531766545207"
      ]
     },
     "execution_count": 341,
     "metadata": {},
     "output_type": "execute_result"
    }
   ],
   "source": [
    "filters.threshold_mean(LI)"
   ]
  },
  {
   "cell_type": "code",
   "execution_count": null,
   "metadata": {
    "ExecuteTime": {
     "end_time": "2018-04-13T18:37:21.317748Z",
     "start_time": "2018-04-13T18:37:21.173507Z"
    },
    "collapsed": true
   },
   "outputs": [],
   "source": [
    "plt.hist(LI,30)"
   ]
  },
  {
   "cell_type": "code",
   "execution_count": 342,
   "metadata": {
    "ExecuteTime": {
     "end_time": "2018-04-13T21:27:25.389282Z",
     "start_time": "2018-04-13T21:27:25.384268Z"
    }
   },
   "outputs": [
    {
     "data": {
      "text/plain": [
       "(159.8438546709155, 215.4651656444234)"
      ]
     },
     "execution_count": 342,
     "metadata": {},
     "output_type": "execute_result"
    }
   ],
   "source": [
    "np.percentile(LI, 100/3), np.percentile(LI, 200/3)"
   ]
  },
  {
   "cell_type": "code",
   "execution_count": null,
   "metadata": {
    "collapsed": true
   },
   "outputs": [],
   "source": []
  },
  {
   "cell_type": "code",
   "execution_count": 169,
   "metadata": {
    "ExecuteTime": {
     "end_time": "2018-04-13T16:25:00.952034Z",
     "start_time": "2018-04-13T16:24:52.292500Z"
    }
   },
   "outputs": [],
   "source": [
    "V = np.stack(voxel_ints_2d, 0)\n",
    "W = V[~np.isnan(V)]\n",
    "W = W.reshape((-1,2))"
   ]
  },
  {
   "cell_type": "code",
   "execution_count": 83,
   "metadata": {
    "ExecuteTime": {
     "end_time": "2018-04-12T23:34:02.587556Z",
     "start_time": "2018-04-12T23:34:02.583546Z"
    },
    "collapsed": true
   },
   "outputs": [],
   "source": [
    "import sklearn.cluster"
   ]
  },
  {
   "cell_type": "code",
   "execution_count": 200,
   "metadata": {
    "ExecuteTime": {
     "end_time": "2018-04-13T18:02:47.408936Z",
     "start_time": "2018-04-13T18:02:47.403924Z"
    }
   },
   "outputs": [
    {
     "data": {
      "text/plain": [
       "(3748793, 2)"
      ]
     },
     "execution_count": 200,
     "metadata": {},
     "output_type": "execute_result"
    }
   ],
   "source": [
    "W.shape"
   ]
  },
  {
   "cell_type": "code",
   "execution_count": 201,
   "metadata": {
    "ExecuteTime": {
     "end_time": "2018-04-13T18:02:52.020212Z",
     "start_time": "2018-04-13T18:02:51.982101Z"
    }
   },
   "outputs": [],
   "source": [
    "V = W[W[:,0]>100]"
   ]
  },
  {
   "cell_type": "code",
   "execution_count": 212,
   "metadata": {
    "ExecuteTime": {
     "end_time": "2018-04-13T18:08:01.274780Z",
     "start_time": "2018-04-13T18:08:01.270769Z"
    }
   },
   "outputs": [
    {
     "data": {
      "text/plain": [
       "(1188295, 2)"
      ]
     },
     "execution_count": 212,
     "metadata": {},
     "output_type": "execute_result"
    }
   ],
   "source": [
    "V.shape"
   ]
  },
  {
   "cell_type": "code",
   "execution_count": 221,
   "metadata": {
    "ExecuteTime": {
     "end_time": "2018-04-13T18:12:27.199682Z",
     "start_time": "2018-04-13T18:12:26.980811Z"
    },
    "collapsed": true
   },
   "outputs": [],
   "source": [
    "np.save(\"D:\\\\W.npy\", W)"
   ]
  },
  {
   "cell_type": "code",
   "execution_count": 264,
   "metadata": {
    "ExecuteTime": {
     "end_time": "2018-04-13T18:44:10.150610Z",
     "start_time": "2018-04-13T18:44:09.253222Z"
    }
   },
   "outputs": [
    {
     "data": {
      "text/plain": [
       "KMeans(algorithm='auto', copy_x=True, init='k-means++', max_iter=300,\n",
       "    n_clusters=2, n_init=10, n_jobs=2, precompute_distances='auto',\n",
       "    random_state=None, tol=0.0001, verbose=0)"
      ]
     },
     "execution_count": 264,
     "metadata": {},
     "output_type": "execute_result"
    }
   ],
   "source": [
    "KM=sklearn.cluster.KMeans(2, n_jobs=2)#, algorithm=\"full\")\n",
    "KM.fit(np.array(otsus).reshape(-1,1))\n",
    "KM.cluster_centers_"
   ]
  },
  {
   "cell_type": "code",
   "execution_count": 237,
   "metadata": {
    "ExecuteTime": {
     "end_time": "2018-04-13T18:24:40.469770Z",
     "start_time": "2018-04-13T18:24:40.451693Z"
    }
   },
   "outputs": [
    {
     "data": {
      "text/plain": [
       "132.0"
      ]
     },
     "execution_count": 237,
     "metadata": {},
     "output_type": "execute_result"
    }
   ],
   "source": [
    "np.percentile(V[:,0],33)"
   ]
  },
  {
   "cell_type": "code",
   "execution_count": 236,
   "metadata": {
    "ExecuteTime": {
     "end_time": "2018-04-13T18:24:36.021503Z",
     "start_time": "2018-04-13T18:24:36.005431Z"
    },
    "scrolled": true
   },
   "outputs": [
    {
     "data": {
      "text/plain": [
       "184.57746478873239"
      ]
     },
     "execution_count": 236,
     "metadata": {},
     "output_type": "execute_result"
    }
   ],
   "source": [
    "np.percentile(V[:,0],67)"
   ]
  },
  {
   "cell_type": "code",
   "execution_count": 233,
   "metadata": {
    "ExecuteTime": {
     "end_time": "2018-04-13T18:19:42.743452Z",
     "start_time": "2018-04-13T18:19:42.736501Z"
    }
   },
   "outputs": [
    {
     "data": {
      "text/plain": [
       "(211.89185481710794, 317.71118035792426)"
      ]
     },
     "execution_count": 233,
     "metadata": {},
     "output_type": "execute_result"
    }
   ],
   "source": [
    "np.mean(KM.cluster_centers_[:2]), np.mean(KM.cluster_centers_[[0,2]])"
   ]
  },
  {
   "cell_type": "code",
   "execution_count": 299,
   "metadata": {
    "ExecuteTime": {
     "end_time": "2018-04-13T19:30:10.233234Z",
     "start_time": "2018-04-13T19:30:10.230203Z"
    }
   },
   "outputs": [],
   "source": [
    "ZZ=np.stack([list(range(100,500,10)), list(range(100,500,10))], -1)"
   ]
  },
  {
   "cell_type": "code",
   "execution_count": 309,
   "metadata": {
    "ExecuteTime": {
     "end_time": "2018-04-13T19:31:44.649276Z",
     "start_time": "2018-04-13T19:31:44.646269Z"
    },
    "collapsed": true
   },
   "outputs": [],
   "source": [
    "from sklearn.cluster import MeanShift\n",
    "MS = MeanShift(min_bin_freq=1, cluster_all=True, n_jobs=2)"
   ]
  },
  {
   "cell_type": "code",
   "execution_count": 310,
   "metadata": {
    "ExecuteTime": {
     "end_time": "2018-04-13T19:31:49.544487Z",
     "start_time": "2018-04-13T19:31:44.951736Z"
    }
   },
   "outputs": [
    {
     "data": {
      "text/plain": [
       "MeanShift(bandwidth=None, bin_seeding=False, cluster_all=True, min_bin_freq=1,\n",
       "     n_jobs=2, seeds=None)"
      ]
     },
     "execution_count": 310,
     "metadata": {},
     "output_type": "execute_result"
    }
   ],
   "source": [
    "MS.fit(np.array(otsus).reshape(-1, 1))"
   ]
  },
  {
   "cell_type": "code",
   "execution_count": 311,
   "metadata": {
    "ExecuteTime": {
     "end_time": "2018-04-13T19:31:49.599633Z",
     "start_time": "2018-04-13T19:31:49.595624Z"
    }
   },
   "outputs": [
    {
     "data": {
      "text/plain": [
       "array([[169.99059606],\n",
       "       [281.62555804],\n",
       "       [396.90169271],\n",
       "       [571.9921875 ],\n",
       "       [485.10546875]])"
      ]
     },
     "execution_count": 311,
     "metadata": {},
     "output_type": "execute_result"
    }
   ],
   "source": [
    "MS.cluster_centers_"
   ]
  },
  {
   "cell_type": "code",
   "execution_count": 289,
   "metadata": {
    "ExecuteTime": {
     "end_time": "2018-04-13T19:25:02.186202Z",
     "start_time": "2018-04-13T19:25:02.182222Z"
    }
   },
   "outputs": [
    {
     "data": {
      "text/plain": [
       "118829"
      ]
     },
     "execution_count": 289,
     "metadata": {},
     "output_type": "execute_result"
    }
   ],
   "source": [
    "V[:,0].size//10"
   ]
  },
  {
   "cell_type": "code",
   "execution_count": 329,
   "metadata": {
    "ExecuteTime": {
     "end_time": "2018-04-13T20:08:27.038040Z",
     "start_time": "2018-04-13T20:08:27.014980Z"
    }
   },
   "outputs": [
    {
     "data": {
      "text/plain": [
       "[1.0, 0.5239010515065703, 0.26654324052529044, 0.1406048161441393]"
      ]
     },
     "execution_count": 329,
     "metadata": {},
     "output_type": "execute_result"
    }
   ],
   "source": [
    "[(V[:,0] > x[0]).sum()/V[:,0].size for x in KM.cluster_centers_]"
   ]
  },
  {
   "cell_type": "code",
   "execution_count": 107,
   "metadata": {
    "ExecuteTime": {
     "end_time": "2018-04-13T14:25:43.190458Z",
     "start_time": "2018-04-13T14:25:42.928763Z"
    }
   },
   "outputs": [
    {
     "data": {
      "image/png": "[encoded data removed]",
      "text/plain": [
       "<matplotlib.figure.Figure at 0x2a617df2eb8>"
      ]
     },
     "metadata": {},
     "output_type": "display_data"
    }
   ],
   "source": [
    "H=plt.hist(voxel_ints,bins=100)"
   ]
  },
  {
   "cell_type": "code",
   "execution_count": 108,
   "metadata": {
    "ExecuteTime": {
     "end_time": "2018-04-13T14:25:45.631683Z",
     "start_time": "2018-04-13T14:25:45.536402Z"
    }
   },
   "outputs": [
    {
     "data": {
      "text/plain": [
       "[<matplotlib.lines.Line2D at 0x2a61883fa20>]"
      ]
     },
     "execution_count": 108,
     "metadata": {},
     "output_type": "execute_result"
    },
    {
     "data": {
      "image/png": "[encoded data removed]",
      "text/plain": [
       "<matplotlib.figure.Figure at 0x2a617df4160>"
      ]
     },
     "metadata": {},
     "output_type": "display_data"
    }
   ],
   "source": [
    "plt.plot(H[1][:-81],H[0][:-80])"
   ]
  },
  {
   "cell_type": "code",
   "execution_count": 103,
   "metadata": {
    "ExecuteTime": {
     "end_time": "2018-04-13T14:25:20.586928Z",
     "start_time": "2018-04-13T14:25:19.536824Z"
    },
    "collapsed": true
   },
   "outputs": [],
   "source": [
    "voxel_ints = []\n",
    "for fn in glob.glob(join(target_dir,\"*\")):\n",
    "    patient_id = basename(fn)\n",
    "    paths = lm.get_paths(patient_id, target_dir)\n",
    "\n",
    "    mask_dir, nii_dir, ct24_path, ct24_tumor_mask_path, ct24_liver_mask_path, \\\n",
    "    mribl_art_path, mribl_pre_path, \\\n",
    "    mribl_tumor_mask_path, mribl_liver_mask_path, \\\n",
    "    mribl_enh_mask_path, mribl_nec_mask_path, \\\n",
    "    mri30d_art_path, mri30d_pre_path, \\\n",
    "    mri30d_tumor_mask_path, mri30d_liver_mask_path, \\\n",
    "    mri30d_enh_mask_path, mri30d_nec_mask_path, \\\n",
    "    ball_ct24_path, ball_mribl_path, ball_mri30d_path, \\\n",
    "    ball_mask_path, ball_mribl_enh_mask_path, ball_mri30d_enh_mask_path, \\\n",
    "    midlip_mask_path, ball_midlip_mask_path, \\\n",
    "    highlip_mask_path, ball_highlip_mask_path = paths\n",
    "    \n",
    "    img,D = hf.nii_load(ct24_path)\n",
    "    M = masks.get_mask(ct24_tumor_mask_path, D, img.shape)[0]\n",
    "    img = img*M/M.max()\n",
    "    voxel_ints.append(img[img>0])\n",
    "    break"
   ]
  },
  {
   "cell_type": "code",
   "execution_count": null,
   "metadata": {
    "collapsed": true
   },
   "outputs": [],
   "source": [
    "\n",
    "ctbl_\n",
    "\n",
    "img,D = hf.nii_load(ct24_path)\n",
    "M = masks.get_mask(ct24_tumor_mask_path, D, img.shape)[0]\n",
    "img = img*M/M.max()\n",
    "voxel_ints.append(img[img>0])"
   ]
  },
  {
   "cell_type": "markdown",
   "metadata": {},
   "source": [
    "### Build DataFrame"
   ]
  },
  {
   "cell_type": "markdown",
   "metadata": {
    "ExecuteTime": {
     "end_time": "2018-04-09T15:01:13.363620Z",
     "start_time": "2018-04-09T15:01:13.358606Z"
    }
   },
   "source": [
    "pattern_df = pd.DataFrame(columns=pattern_feat_cols)\n",
    "lipresp_df = pd.DataFrame(columns=lipresp_cols)"
   ]
  },
  {
   "cell_type": "markdown",
   "metadata": {
    "ExecuteTime": {
     "end_time": "2018-04-09T19:43:44.592180Z",
     "start_time": "2018-04-09T19:43:44.588158Z"
    }
   },
   "source": [
    "for name in lipresp_cols:\n",
    "    df.loc[:,\"peripheral_coverage%\"]=pd.Series(np.random.randn(len(df)), index=df.index)"
   ]
  },
  {
   "cell_type": "code",
   "execution_count": 428,
   "metadata": {
    "ExecuteTime": {
     "end_time": "2018-04-09T20:25:13.249796Z",
     "start_time": "2018-04-09T20:25:13.241748Z"
    },
    "collapsed": true
   },
   "outputs": [],
   "source": [
    "pattern_feat_cols = [\"enhancing_vol%\", \"lipcoverage_vol%\",\n",
    "                       \"rim_enhancing%\", \"rim_lipiodol%\",\n",
    "                       \"mribl_contrast\", \"mribl_variance\", \"mribl_homog\",\n",
    "                       \"lip_contrast\", \"lip_variance\", \"lip_homog\",\n",
    "                       \"peripheral_coverage%\"]\n",
    "\n",
    "lipresp_cols = []\n",
    "for name in itertools.product([\"base_\", \"low_\", \"mid_\", \"high_\"], [\"resp%\", \"prog%\", \"bl_enh%\", \"30d_enh%\"]):\n",
    "    lipresp_cols.append(name[0]+name[1])\n",
    "    \n",
    "# resp% is the % of BL enhancing tumor that becomes necrotic within this lipiodol range\n",
    "# prog% is the % of BL necrotic tumor that becomes enhancing within this lipiodol range\n",
    "# bl_enh% is the % of tumor within this lipiodol range that is enhancing on BL MR\n",
    "# 30d_enh% is the % of tumor within this lipiodol range that is enhancing on 30d MR"
   ]
  },
  {
   "cell_type": "code",
   "execution_count": 430,
   "metadata": {
    "ExecuteTime": {
     "end_time": "2018-04-09T20:25:24.157520Z",
     "start_time": "2018-04-09T20:25:24.153509Z"
    },
    "collapsed": true
   },
   "outputs": [],
   "source": [
    "importlib.reload(config)\n",
    "C = config.Config()"
   ]
  },
  {
   "cell_type": "code",
   "execution_count": 8,
   "metadata": {
    "ExecuteTime": {
     "end_time": "2018-04-11T18:43:07.027539Z",
     "start_time": "2018-04-11T18:43:06.892187Z"
    },
    "collapsed": true
   },
   "outputs": [],
   "source": [
    "pattern_df = pd.read_excel(C.data_xls_path, \"Patterns\")\n",
    "lipresp_df = pd.read_excel(C.data_xls_path, \"Lip-Resp\")\n",
    "vasc_depo_df = pd.read_excel(C.data_xls_path, \"Vascularization-Deposition\")\n",
    "depo_resp_df = pd.read_excel(C.data_xls_path, \"Deposition-Response\")\n",
    "vasc_depo_df_binary = pd.read_excel(C.data_xls_path, \"Vasc-Depo-binary\")\n",
    "depo_resp_df_binary = pd.read_excel(C.data_xls_path, \"Depo-Resp-binary\")"
   ]
  },
  {
   "cell_type": "code",
   "execution_count": 7,
   "metadata": {
    "ExecuteTime": {
     "end_time": "2018-04-11T18:43:04.858271Z",
     "start_time": "2018-04-11T18:43:04.507752Z"
    },
    "collapsed": true
   },
   "outputs": [],
   "source": [
    "writer = pd.ExcelWriter(C.data_xls_path)"
   ]
  },
  {
   "cell_type": "code",
   "execution_count": 62,
   "metadata": {
    "ExecuteTime": {
     "end_time": "2018-04-09T01:28:27.166787Z",
     "start_time": "2018-04-09T01:28:27.162775Z"
    }
   },
   "outputs": [
    {
     "data": {
      "text/plain": [
       "27"
      ]
     },
     "execution_count": 62,
     "metadata": {},
     "output_type": "execute_result"
    }
   ],
   "source": [
    "[basename(fn) for fn in glob.glob(join(target_dir,\"*\"))].index('PK-02')"
   ]
  },
  {
   "cell_type": "code",
   "execution_count": 62,
   "metadata": {
    "ExecuteTime": {
     "end_time": "2018-04-11T22:28:20.221051Z",
     "start_time": "2018-04-11T22:26:08.513680Z"
    },
    "collapsed": true,
    "scrolled": true
   },
   "outputs": [],
   "source": [
    "importlib.reload(lm)\n",
    "for fn in glob.glob(join(target_dir,\"*\")):\n",
    "    patient_id = basename(fn)\n",
    "    paths = lm.get_paths(patient_id, target_dir)\n",
    "\n",
    "    mask_dir, nii_dir, ct24_path, ct24_tumor_mask_path, ct24_liver_mask_path, \\\n",
    "    mribl_art_path, mribl_pre_path, \\\n",
    "    mribl_tumor_mask_path, mribl_liver_mask_path, \\\n",
    "    mribl_enh_mask_path, mribl_nec_mask_path, \\\n",
    "    mri30d_art_path, mri30d_pre_path, \\\n",
    "    mri30d_tumor_mask_path, mri30d_liver_mask_path, \\\n",
    "    mri30d_enh_mask_path, mri30d_nec_mask_path, \\\n",
    "    ball_ct24_path, ball_mribl_path, ball_mri30d_path, \\\n",
    "    ball_mask_path, ball_mribl_enh_mask_path, ball_mri30d_enh_mask_path, \\\n",
    "    midlip_mask_path, ball_midlip_mask_path, \\\n",
    "    highlip_mask_path, ball_highlip_mask_path = paths\n",
    "\n",
    "    ball_IV = lm.get_avg_ball_intensity(ball_ct24_path, ball_mask_path)\n",
    "    row=[]\n",
    "    #row = lm.get_rim_coverage(row, masks.get_mask(ball_mribl_enh_mask_path)[0] + 1, ball_mask_path, 1.5)\n",
    "    row = lm.get_rim_coverage(row, hf.nii_load(ball_ct24_path)[0], ball_mask_path, max(ball_IV,150))\n",
    "    \n",
    "    pattern_df.loc[patient_id, [\"rim_enhancing%\", \"rim_lipiodol%\"]] = row"
   ]
  },
  {
   "cell_type": "code",
   "execution_count": 16,
   "metadata": {
    "ExecuteTime": {
     "end_time": "2018-04-11T20:28:38.270682Z",
     "start_time": "2018-04-11T20:28:32.573535Z"
    },
    "collapsed": true
   },
   "outputs": [],
   "source": [
    "patient_id = \"BM-27\"\n",
    "pattern_df.loc[patient_id] = lm.get_row_entry(patient_id, target_dir)"
   ]
  },
  {
   "cell_type": "code",
   "execution_count": 31,
   "metadata": {
    "ExecuteTime": {
     "end_time": "2018-04-11T21:24:28.660579Z",
     "start_time": "2018-04-11T21:24:28.655569Z"
    },
    "collapsed": true
   },
   "outputs": [],
   "source": [
    "pattern_df.loc[pattern_df[\"rim_lipiodol%\"]==0, \"rim_lipiodol%\"] = np.nan"
   ]
  },
  {
   "cell_type": "code",
   "execution_count": 19,
   "metadata": {
    "ExecuteTime": {
     "end_time": "2018-04-11T20:53:45.788948Z",
     "start_time": "2018-04-11T20:39:18.511078Z"
    },
    "collapsed": true,
    "scrolled": true
   },
   "outputs": [],
   "source": [
    "importlib.reload(lm)\n",
    "for fn in glob.glob(join(target_dir,\"*\")):\n",
    "    patient_id = basename(fn)\n",
    "    #print(patient_id)\n",
    "    #lm.spherize(patient_id, target_dir)\n",
    "    pattern_df.loc[patient_id] = lm.get_row_entry(patient_id, target_dir)"
   ]
  },
  {
   "cell_type": "code",
   "execution_count": 438,
   "metadata": {
    "ExecuteTime": {
     "end_time": "2018-04-09T20:32:14.736305Z",
     "start_time": "2018-04-09T20:32:00.042255Z"
    }
   },
   "outputs": [
    {
     "name": "stderr",
     "output_type": "stream",
     "text": [
      "C:\\Users\\Clinton\\Documents\\Lipiodol\\lipiodol_methods.py:136: RuntimeWarning: invalid value encountered in long_scalars\n",
      "  samples = np.round(samples).astype(int)\n"
     ]
    }
   ],
   "source": [
    "importlib.reload(lm)\n",
    "for fn in glob.glob(join(target_dir,\"*\")):\n",
    "    patient_id = basename(fn)\n",
    "    lips = lm.enhancing_to_nec(patient_id, target_dir, liplvls)\n",
    "    lipresp_df.loc[ix] = np.round(np.array(lips)*100,2).flatten()"
   ]
  },
  {
   "cell_type": "code",
   "execution_count": 512,
   "metadata": {
    "ExecuteTime": {
     "end_time": "2018-04-09T22:59:00.750596Z",
     "start_time": "2018-04-09T22:59:00.719514Z"
    },
    "collapsed": true
   },
   "outputs": [],
   "source": [
    "pattern_df.to_excel(writer, \"Patterns\")\n",
    "lipresp_df.to_excel(writer, \"Lip-Resp\")\n",
    "#writer.save()"
   ]
  },
  {
   "cell_type": "markdown",
   "metadata": {
    "heading_collapsed": true
   },
   "source": [
    "## Correlating Vasc/Lip Deposition"
   ]
  },
  {
   "cell_type": "code",
   "execution_count": 20,
   "metadata": {
    "ExecuteTime": {
     "end_time": "2018-04-10T14:12:35.732237Z",
     "start_time": "2018-04-10T14:12:35.729229Z"
    },
    "collapsed": true,
    "hidden": true
   },
   "outputs": [],
   "source": [
    "liplvls=[0,100,150,200]#,250,300]#list(range(0,401,10))"
   ]
  },
  {
   "cell_type": "code",
   "execution_count": 34,
   "metadata": {
    "ExecuteTime": {
     "end_time": "2018-04-10T17:05:42.827622Z",
     "start_time": "2018-04-10T17:05:32.870403Z"
    },
    "collapsed": true,
    "hidden": true
   },
   "outputs": [],
   "source": [
    "importlib.reload(lm)\n",
    "vasc_depo_df = pd.DataFrame(columns=liplvls)\n",
    "for patient_id in patients:\n",
    "    vasc_depo_df.loc[patient_id] = lm.vascular_to_deposition(patient_id, target_dir, liplvls, exclude_small=True)"
   ]
  },
  {
   "cell_type": "code",
   "execution_count": 35,
   "metadata": {
    "ExecuteTime": {
     "end_time": "2018-04-10T17:05:42.892697Z",
     "start_time": "2018-04-10T17:05:42.887675Z"
    },
    "collapsed": true,
    "hidden": true
   },
   "outputs": [],
   "source": [
    "df=vasc_depo_df.dropna()"
   ]
  },
  {
   "cell_type": "code",
   "execution_count": 548,
   "metadata": {
    "ExecuteTime": {
     "end_time": "2018-04-10T02:49:14.638748Z",
     "start_time": "2018-04-10T02:49:08.589558Z"
    },
    "collapsed": true,
    "hidden": true
   },
   "outputs": [],
   "source": [
    "importlib.reload(lm)\n",
    "depo_resp_df = pd.DataFrame(columns=liplvls)\n",
    "for patient_id in patients:\n",
    "    depo_resp_df.loc[patient_id] = lm.lip_to_response(patient_id, target_dir, liplvls, exclude_small=False)"
   ]
  },
  {
   "cell_type": "markdown",
   "metadata": {
    "ExecuteTime": {
     "end_time": "2018-04-10T02:49:15.899997Z",
     "start_time": "2018-04-10T02:49:15.896987Z"
    },
    "collapsed": true,
    "hidden": true
   },
   "source": [
    "df = depo_resp_df.dropna()"
   ]
  },
  {
   "cell_type": "code",
   "execution_count": null,
   "metadata": {
    "ExecuteTime": {
     "end_time": "2018-04-10T02:49:16.128740Z",
     "start_time": "2018-04-10T02:49:16.122697Z"
    },
    "collapsed": true,
    "hidden": true
   },
   "outputs": [],
   "source": [
    "print([df[i].mean() for i in liplvls])"
   ]
  },
  {
   "cell_type": "markdown",
   "metadata": {
    "ExecuteTime": {
     "end_time": "2018-04-10T02:49:19.435196Z",
     "start_time": "2018-04-10T02:49:19.430182Z"
    },
    "hidden": true
   },
   "source": [
    "[1-df[i].mean() for i in liplvls]"
   ]
  },
  {
   "cell_type": "markdown",
   "metadata": {
    "ExecuteTime": {
     "end_time": "2018-04-10T02:48:14.341697Z",
     "start_time": "2018-04-10T02:48:14.337687Z"
    },
    "hidden": true
   },
   "source": [
    "[x/(1-x) for x in [0.47604184262689564,\n",
    " 0.3884550297888517,\n",
    " 0.3352322775428981,\n",
    " 0.2986988994268489]]"
   ]
  },
  {
   "cell_type": "code",
   "execution_count": null,
   "metadata": {
    "ExecuteTime": {
     "end_time": "2018-04-10T01:53:03.813064Z",
     "start_time": "2018-04-10T01:53:03.808050Z"
    },
    "collapsed": true,
    "hidden": true
   },
   "outputs": [],
   "source": [
    "[1-df[i].mean() for i in liplvls]"
   ]
  },
  {
   "cell_type": "code",
   "execution_count": null,
   "metadata": {
    "ExecuteTime": {
     "end_time": "2018-04-09T22:37:09.380458Z",
     "start_time": "2018-04-09T22:37:09.376419Z"
    },
    "collapsed": true,
    "hidden": true
   },
   "outputs": [],
   "source": [
    "print([df[i].mean() for i in liplvls])\n",
    "\n",
    "print(np.nanmean(depo_resp_df[0]),\n",
    "np.nanmean(depo_resp_df[100]),\n",
    "np.nanmean(depo_resp_df[150]),\n",
    "np.nanmean(depo_resp_df[200]))"
   ]
  },
  {
   "cell_type": "code",
   "execution_count": 87,
   "metadata": {
    "ExecuteTime": {
     "end_time": "2018-04-10T17:29:54.686967Z",
     "start_time": "2018-04-10T17:29:54.676914Z"
    },
    "collapsed": true,
    "hidden": true
   },
   "outputs": [],
   "source": [
    "pattern_gtruth_df = pd.read_excel(r\"D:\\Lipiodol\\Results\\Lipiodol Patterns.xlsx\", index_col=0)"
   ]
  },
  {
   "cell_type": "code",
   "execution_count": 88,
   "metadata": {
    "ExecuteTime": {
     "end_time": "2018-04-10T17:29:55.096090Z",
     "start_time": "2018-04-10T17:29:55.092082Z"
    },
    "collapsed": true,
    "hidden": true
   },
   "outputs": [],
   "source": [
    "joint_df = pd.concat([vasc_depo_df, pattern_gtruth_df], axis=1, join='inner')"
   ]
  },
  {
   "cell_type": "code",
   "execution_count": 89,
   "metadata": {
    "ExecuteTime": {
     "end_time": "2018-04-10T17:29:56.090236Z",
     "start_time": "2018-04-10T17:29:56.086226Z"
    },
    "hidden": true
   },
   "outputs": [
    {
     "data": {
      "text/plain": [
       "Index([                   0,                  100,                  150,\n",
       "                        200,        'homogeneous',      'heterogeneous',\n",
       "                      'rim',     'central recess', 'central deposition',\n",
       "          'penumbra/margin',           'comments'],\n",
       "      dtype='object')"
      ]
     },
     "execution_count": 89,
     "metadata": {},
     "output_type": "execute_result"
    }
   ],
   "source": [
    "joint_df.columns"
   ]
  },
  {
   "cell_type": "code",
   "execution_count": 116,
   "metadata": {
    "ExecuteTime": {
     "end_time": "2018-04-10T18:16:09.888095Z",
     "start_time": "2018-04-10T18:16:09.874067Z"
    },
    "hidden": true,
    "scrolled": true
   },
   "outputs": [
    {
     "data": {
      "text/html": [
       "<div>\n",
       "<style>\n",
       "    .dataframe thead tr:only-child th {\n",
       "        text-align: right;\n",
       "    }\n",
       "\n",
       "    .dataframe thead th {\n",
       "        text-align: left;\n",
       "    }\n",
       "\n",
       "    .dataframe tbody tr th {\n",
       "        vertical-align: top;\n",
       "    }\n",
       "</style>\n",
       "<table border=\"1\" class=\"dataframe\">\n",
       "  <thead>\n",
       "    <tr style=\"text-align: right;\">\n",
       "      <th></th>\n",
       "      <th>0</th>\n",
       "      <th>100</th>\n",
       "      <th>150</th>\n",
       "      <th>200</th>\n",
       "      <th>heterogeneous</th>\n",
       "    </tr>\n",
       "  </thead>\n",
       "  <tbody>\n",
       "    <tr>\n",
       "      <th>BM-01</th>\n",
       "      <td>0.979969</td>\n",
       "      <td>0.972471</td>\n",
       "      <td>0.989408</td>\n",
       "      <td>0.989211</td>\n",
       "      <td>yes</td>\n",
       "    </tr>\n",
       "    <tr>\n",
       "      <th>BM-02</th>\n",
       "      <td>0.213386</td>\n",
       "      <td>0.338595</td>\n",
       "      <td>0.488734</td>\n",
       "      <td>0.349517</td>\n",
       "      <td>yes scattered</td>\n",
       "    </tr>\n",
       "    <tr>\n",
       "      <th>BM-03</th>\n",
       "      <td>0.053209</td>\n",
       "      <td>0.034601</td>\n",
       "      <td>0.019784</td>\n",
       "      <td>0.016724</td>\n",
       "      <td>yes</td>\n",
       "    </tr>\n",
       "    <tr>\n",
       "      <th>BM-05</th>\n",
       "      <td>0.776399</td>\n",
       "      <td>0.714221</td>\n",
       "      <td>0.620473</td>\n",
       "      <td>0.560444</td>\n",
       "      <td>yes</td>\n",
       "    </tr>\n",
       "    <tr>\n",
       "      <th>BM-06</th>\n",
       "      <td>0.484110</td>\n",
       "      <td>0.737965</td>\n",
       "      <td>0.766199</td>\n",
       "      <td>0.769996</td>\n",
       "      <td>yes</td>\n",
       "    </tr>\n",
       "    <tr>\n",
       "      <th>BM-07</th>\n",
       "      <td>0.381427</td>\n",
       "      <td>0.579057</td>\n",
       "      <td>0.656548</td>\n",
       "      <td>0.721992</td>\n",
       "      <td>yes</td>\n",
       "    </tr>\n",
       "    <tr>\n",
       "      <th>BM-09</th>\n",
       "      <td>0.373079</td>\n",
       "      <td>0.439064</td>\n",
       "      <td>0.683052</td>\n",
       "      <td>0.738784</td>\n",
       "      <td>yes</td>\n",
       "    </tr>\n",
       "    <tr>\n",
       "      <th>BM-10</th>\n",
       "      <td>0.674982</td>\n",
       "      <td>0.797312</td>\n",
       "      <td>0.918109</td>\n",
       "      <td>0.938735</td>\n",
       "      <td>yes</td>\n",
       "    </tr>\n",
       "    <tr>\n",
       "      <th>BM-12</th>\n",
       "      <td>0.435976</td>\n",
       "      <td>0.563419</td>\n",
       "      <td>0.738764</td>\n",
       "      <td>0.899583</td>\n",
       "      <td>yes</td>\n",
       "    </tr>\n",
       "    <tr>\n",
       "      <th>BM-19</th>\n",
       "      <td>0.807288</td>\n",
       "      <td>0.864336</td>\n",
       "      <td>0.747795</td>\n",
       "      <td>0.843143</td>\n",
       "      <td>yes</td>\n",
       "    </tr>\n",
       "    <tr>\n",
       "      <th>BM-23</th>\n",
       "      <td>0.518857</td>\n",
       "      <td>0.414643</td>\n",
       "      <td>0.438384</td>\n",
       "      <td>0.483520</td>\n",
       "      <td>yes</td>\n",
       "    </tr>\n",
       "    <tr>\n",
       "      <th>BM-24</th>\n",
       "      <td>0.775016</td>\n",
       "      <td>0.779772</td>\n",
       "      <td>0.704981</td>\n",
       "      <td>0.732513</td>\n",
       "      <td>yes</td>\n",
       "    </tr>\n",
       "    <tr>\n",
       "      <th>BM-26</th>\n",
       "      <td>0.277507</td>\n",
       "      <td>0.262718</td>\n",
       "      <td>0.398377</td>\n",
       "      <td>0.355569</td>\n",
       "      <td>yes</td>\n",
       "    </tr>\n",
       "    <tr>\n",
       "      <th>BM-27</th>\n",
       "      <td>0.510550</td>\n",
       "      <td>0.687704</td>\n",
       "      <td>0.732087</td>\n",
       "      <td>0.743601</td>\n",
       "      <td>yes</td>\n",
       "    </tr>\n",
       "    <tr>\n",
       "      <th>BM-29</th>\n",
       "      <td>0.743602</td>\n",
       "      <td>0.442617</td>\n",
       "      <td>0.276282</td>\n",
       "      <td>0.508543</td>\n",
       "      <td>yes</td>\n",
       "    </tr>\n",
       "    <tr>\n",
       "      <th>BM-30</th>\n",
       "      <td>0.163036</td>\n",
       "      <td>0.202413</td>\n",
       "      <td>0.238447</td>\n",
       "      <td>0.305262</td>\n",
       "      <td>yes</td>\n",
       "    </tr>\n",
       "    <tr>\n",
       "      <th>BM-31</th>\n",
       "      <td>0.247848</td>\n",
       "      <td>0.248391</td>\n",
       "      <td>0.211655</td>\n",
       "      <td>0.099563</td>\n",
       "      <td>yes</td>\n",
       "    </tr>\n",
       "    <tr>\n",
       "      <th>BM-32</th>\n",
       "      <td>0.859392</td>\n",
       "      <td>0.879923</td>\n",
       "      <td>0.933449</td>\n",
       "      <td>0.971260</td>\n",
       "      <td>yes</td>\n",
       "    </tr>\n",
       "    <tr>\n",
       "      <th>BM-36</th>\n",
       "      <td>0.282768</td>\n",
       "      <td>0.372742</td>\n",
       "      <td>0.408105</td>\n",
       "      <td>0.401237</td>\n",
       "      <td>yes</td>\n",
       "    </tr>\n",
       "    <tr>\n",
       "      <th>BM-37</th>\n",
       "      <td>0.259232</td>\n",
       "      <td>0.434320</td>\n",
       "      <td>0.657831</td>\n",
       "      <td>0.830736</td>\n",
       "      <td>yes</td>\n",
       "    </tr>\n",
       "    <tr>\n",
       "      <th>BM-39</th>\n",
       "      <td>0.233129</td>\n",
       "      <td>0.158507</td>\n",
       "      <td>0.344192</td>\n",
       "      <td>0.869732</td>\n",
       "      <td>yes</td>\n",
       "    </tr>\n",
       "    <tr>\n",
       "      <th>PK-02</th>\n",
       "      <td>0.902763</td>\n",
       "      <td>0.931767</td>\n",
       "      <td>0.965341</td>\n",
       "      <td>0.968412</td>\n",
       "      <td>yes</td>\n",
       "    </tr>\n",
       "    <tr>\n",
       "      <th>PK-05</th>\n",
       "      <td>0.112738</td>\n",
       "      <td>0.135114</td>\n",
       "      <td>0.264751</td>\n",
       "      <td>0.347874</td>\n",
       "      <td>yes</td>\n",
       "    </tr>\n",
       "    <tr>\n",
       "      <th>PK-07</th>\n",
       "      <td>0.555948</td>\n",
       "      <td>0.738781</td>\n",
       "      <td>0.997954</td>\n",
       "      <td>0.966100</td>\n",
       "      <td>yes</td>\n",
       "    </tr>\n",
       "    <tr>\n",
       "      <th>PK-08</th>\n",
       "      <td>0.843259</td>\n",
       "      <td>0.840324</td>\n",
       "      <td>0.859131</td>\n",
       "      <td>0.792707</td>\n",
       "      <td>yes</td>\n",
       "    </tr>\n",
       "  </tbody>\n",
       "</table>\n",
       "</div>"
      ],
      "text/plain": [
       "              0       100       150       200  heterogeneous\n",
       "BM-01  0.979969  0.972471  0.989408  0.989211            yes\n",
       "BM-02  0.213386  0.338595  0.488734  0.349517  yes scattered\n",
       "BM-03  0.053209  0.034601  0.019784  0.016724            yes\n",
       "BM-05  0.776399  0.714221  0.620473  0.560444            yes\n",
       "BM-06  0.484110  0.737965  0.766199  0.769996            yes\n",
       "BM-07  0.381427  0.579057  0.656548  0.721992            yes\n",
       "BM-09  0.373079  0.439064  0.683052  0.738784            yes\n",
       "BM-10  0.674982  0.797312  0.918109  0.938735            yes\n",
       "BM-12  0.435976  0.563419  0.738764  0.899583            yes\n",
       "BM-19  0.807288  0.864336  0.747795  0.843143            yes\n",
       "BM-23  0.518857  0.414643  0.438384  0.483520            yes\n",
       "BM-24  0.775016  0.779772  0.704981  0.732513            yes\n",
       "BM-26  0.277507  0.262718  0.398377  0.355569            yes\n",
       "BM-27  0.510550  0.687704  0.732087  0.743601            yes\n",
       "BM-29  0.743602  0.442617  0.276282  0.508543            yes\n",
       "BM-30  0.163036  0.202413  0.238447  0.305262            yes\n",
       "BM-31  0.247848  0.248391  0.211655  0.099563            yes\n",
       "BM-32  0.859392  0.879923  0.933449  0.971260            yes\n",
       "BM-36  0.282768  0.372742  0.408105  0.401237            yes\n",
       "BM-37  0.259232  0.434320  0.657831  0.830736            yes\n",
       "BM-39  0.233129  0.158507  0.344192  0.869732            yes\n",
       "PK-02  0.902763  0.931767  0.965341  0.968412            yes\n",
       "PK-05  0.112738  0.135114  0.264751  0.347874            yes\n",
       "PK-07  0.555948  0.738781  0.997954  0.966100            yes\n",
       "PK-08  0.843259  0.840324  0.859131  0.792707            yes"
      ]
     },
     "execution_count": 116,
     "metadata": {},
     "output_type": "execute_result"
    }
   ],
   "source": [
    "DF=joint_df.dropna(subset=[\"heterogeneous\"], axis=0)\n",
    "subset_df = DF.loc[DF[\"heterogeneous\"].str.contains(\"yes\"), liplvls+[\"heterogeneous\"]]\n",
    "#subset_df = DF.loc[DF[\"penumbra/margin\"]!=\"no\", liplvls+[\"penumbra/margin\"]]\n",
    "subset_df"
   ]
  },
  {
   "cell_type": "code",
   "execution_count": 117,
   "metadata": {
    "ExecuteTime": {
     "end_time": "2018-04-10T18:16:20.021531Z",
     "start_time": "2018-04-10T18:16:20.017520Z"
    },
    "hidden": true,
    "scrolled": true
   },
   "outputs": [
    {
     "data": {
      "text/plain": [
       "Index(['BM-01', 'BM-02', 'BM-03', 'BM-05', 'BM-06', 'BM-07', 'BM-09', 'BM-10',\n",
       "       'BM-12', 'BM-19', 'BM-23', 'BM-24', 'BM-26', 'BM-27', 'BM-29', 'BM-30',\n",
       "       'BM-31', 'BM-32', 'BM-36', 'BM-37', 'BM-39', 'PK-02', 'PK-05', 'PK-07',\n",
       "       'PK-08'],\n",
       "      dtype='object')"
      ]
     },
     "execution_count": 117,
     "metadata": {},
     "output_type": "execute_result"
    }
   ],
   "source": [
    "subset_df.index"
   ]
  },
  {
   "cell_type": "markdown",
   "metadata": {
    "hidden": true
   },
   "source": [
    "RIM: \"BM-07\", \"BM-30\", \"BM-32\", \"BM-37\"\n",
    "Homogeneous: \"BM-18\", \"BM-25\", \"BM-39\", \"PK-03\", \"PK-06\"\n",
    "Heterogeneous: \"BM-18\", \"BM-25\", \"BM-39\", \"PK-03\", \"PK-06\"\n",
    "Central deposition: 'BM-18', 'BM-23', 'BM-25', 'BM-31', 'BM-32', 'BM-39', 'PK-03', 'PK-08'\n",
    "Central recess: 'BM-01', 'BM-07', 'BM-12', 'BM-19', 'BM-24', 'BM-30', 'BM-36', 'PK-02', 'PK-05'\n",
    "Margin: 'BM-30', 'BM-32', 'BM-36', 'BM-37', 'BM-39', 'PK-02', 'PK-03', 'PK-05'"
   ]
  },
  {
   "cell_type": "code",
   "execution_count": 114,
   "metadata": {
    "ExecuteTime": {
     "end_time": "2018-04-10T17:56:41.926326Z",
     "start_time": "2018-04-10T17:56:41.922316Z"
    },
    "hidden": true
   },
   "outputs": [
    {
     "data": {
      "text/plain": [
       "9"
      ]
     },
     "execution_count": 114,
     "metadata": {},
     "output_type": "execute_result"
    }
   ],
   "source": [
    "len(['BM-01', 'BM-07', 'BM-12', 'BM-19', 'BM-24', 'BM-30', 'BM-36', 'PK-02', 'PK-05'])"
   ]
  },
  {
   "cell_type": "code",
   "execution_count": 120,
   "metadata": {
    "ExecuteTime": {
     "end_time": "2018-04-10T18:16:42.005170Z",
     "start_time": "2018-04-10T18:16:42.002161Z"
    },
    "hidden": true
   },
   "outputs": [
    {
     "data": {
      "text/plain": [
       "25"
      ]
     },
     "execution_count": 120,
     "metadata": {},
     "output_type": "execute_result"
    }
   ],
   "source": [
    "len(subset_df)"
   ]
  },
  {
   "cell_type": "code",
   "execution_count": 118,
   "metadata": {
    "ExecuteTime": {
     "end_time": "2018-04-10T18:16:25.583163Z",
     "start_time": "2018-04-10T18:16:25.570128Z"
    },
    "hidden": true,
    "scrolled": true
   },
   "outputs": [
    {
     "data": {
      "text/html": [
       "<div>\n",
       "<style>\n",
       "    .dataframe thead tr:only-child th {\n",
       "        text-align: right;\n",
       "    }\n",
       "\n",
       "    .dataframe thead th {\n",
       "        text-align: left;\n",
       "    }\n",
       "\n",
       "    .dataframe tbody tr th {\n",
       "        vertical-align: top;\n",
       "    }\n",
       "</style>\n",
       "<table border=\"1\" class=\"dataframe\">\n",
       "  <thead>\n",
       "    <tr style=\"text-align: right;\">\n",
       "      <th></th>\n",
       "      <th>0</th>\n",
       "      <th>100</th>\n",
       "      <th>150</th>\n",
       "      <th>200</th>\n",
       "    </tr>\n",
       "  </thead>\n",
       "  <tbody>\n",
       "    <tr>\n",
       "      <th>BM-01</th>\n",
       "      <td>0.979969</td>\n",
       "      <td>0.972471</td>\n",
       "      <td>0.989408</td>\n",
       "      <td>0.989211</td>\n",
       "    </tr>\n",
       "    <tr>\n",
       "      <th>BM-02</th>\n",
       "      <td>0.213386</td>\n",
       "      <td>0.338595</td>\n",
       "      <td>0.488734</td>\n",
       "      <td>0.349517</td>\n",
       "    </tr>\n",
       "    <tr>\n",
       "      <th>BM-03</th>\n",
       "      <td>0.053209</td>\n",
       "      <td>0.034601</td>\n",
       "      <td>0.019784</td>\n",
       "      <td>0.016724</td>\n",
       "    </tr>\n",
       "    <tr>\n",
       "      <th>BM-05</th>\n",
       "      <td>0.776399</td>\n",
       "      <td>0.714221</td>\n",
       "      <td>0.620473</td>\n",
       "      <td>0.560444</td>\n",
       "    </tr>\n",
       "    <tr>\n",
       "      <th>BM-06</th>\n",
       "      <td>0.484110</td>\n",
       "      <td>0.737965</td>\n",
       "      <td>0.766199</td>\n",
       "      <td>0.769996</td>\n",
       "    </tr>\n",
       "    <tr>\n",
       "      <th>BM-07</th>\n",
       "      <td>0.381427</td>\n",
       "      <td>0.579057</td>\n",
       "      <td>0.656548</td>\n",
       "      <td>0.721992</td>\n",
       "    </tr>\n",
       "    <tr>\n",
       "      <th>BM-09</th>\n",
       "      <td>0.373079</td>\n",
       "      <td>0.439064</td>\n",
       "      <td>0.683052</td>\n",
       "      <td>0.738784</td>\n",
       "    </tr>\n",
       "    <tr>\n",
       "      <th>BM-10</th>\n",
       "      <td>0.674982</td>\n",
       "      <td>0.797312</td>\n",
       "      <td>0.918109</td>\n",
       "      <td>0.938735</td>\n",
       "    </tr>\n",
       "    <tr>\n",
       "      <th>BM-12</th>\n",
       "      <td>0.435976</td>\n",
       "      <td>0.563419</td>\n",
       "      <td>0.738764</td>\n",
       "      <td>0.899583</td>\n",
       "    </tr>\n",
       "    <tr>\n",
       "      <th>BM-19</th>\n",
       "      <td>0.807288</td>\n",
       "      <td>0.864336</td>\n",
       "      <td>0.747795</td>\n",
       "      <td>0.843143</td>\n",
       "    </tr>\n",
       "    <tr>\n",
       "      <th>BM-23</th>\n",
       "      <td>0.518857</td>\n",
       "      <td>0.414643</td>\n",
       "      <td>0.438384</td>\n",
       "      <td>0.483520</td>\n",
       "    </tr>\n",
       "    <tr>\n",
       "      <th>BM-24</th>\n",
       "      <td>0.775016</td>\n",
       "      <td>0.779772</td>\n",
       "      <td>0.704981</td>\n",
       "      <td>0.732513</td>\n",
       "    </tr>\n",
       "    <tr>\n",
       "      <th>BM-26</th>\n",
       "      <td>0.277507</td>\n",
       "      <td>0.262718</td>\n",
       "      <td>0.398377</td>\n",
       "      <td>0.355569</td>\n",
       "    </tr>\n",
       "    <tr>\n",
       "      <th>BM-27</th>\n",
       "      <td>0.510550</td>\n",
       "      <td>0.687704</td>\n",
       "      <td>0.732087</td>\n",
       "      <td>0.743601</td>\n",
       "    </tr>\n",
       "    <tr>\n",
       "      <th>BM-29</th>\n",
       "      <td>0.743602</td>\n",
       "      <td>0.442617</td>\n",
       "      <td>0.276282</td>\n",
       "      <td>0.508543</td>\n",
       "    </tr>\n",
       "    <tr>\n",
       "      <th>BM-30</th>\n",
       "      <td>0.163036</td>\n",
       "      <td>0.202413</td>\n",
       "      <td>0.238447</td>\n",
       "      <td>0.305262</td>\n",
       "    </tr>\n",
       "    <tr>\n",
       "      <th>BM-31</th>\n",
       "      <td>0.247848</td>\n",
       "      <td>0.248391</td>\n",
       "      <td>0.211655</td>\n",
       "      <td>0.099563</td>\n",
       "    </tr>\n",
       "    <tr>\n",
       "      <th>BM-32</th>\n",
       "      <td>0.859392</td>\n",
       "      <td>0.879923</td>\n",
       "      <td>0.933449</td>\n",
       "      <td>0.971260</td>\n",
       "    </tr>\n",
       "    <tr>\n",
       "      <th>BM-36</th>\n",
       "      <td>0.282768</td>\n",
       "      <td>0.372742</td>\n",
       "      <td>0.408105</td>\n",
       "      <td>0.401237</td>\n",
       "    </tr>\n",
       "    <tr>\n",
       "      <th>BM-37</th>\n",
       "      <td>0.259232</td>\n",
       "      <td>0.434320</td>\n",
       "      <td>0.657831</td>\n",
       "      <td>0.830736</td>\n",
       "    </tr>\n",
       "    <tr>\n",
       "      <th>BM-39</th>\n",
       "      <td>0.233129</td>\n",
       "      <td>0.158507</td>\n",
       "      <td>0.344192</td>\n",
       "      <td>0.869732</td>\n",
       "    </tr>\n",
       "    <tr>\n",
       "      <th>PK-02</th>\n",
       "      <td>0.902763</td>\n",
       "      <td>0.931767</td>\n",
       "      <td>0.965341</td>\n",
       "      <td>0.968412</td>\n",
       "    </tr>\n",
       "    <tr>\n",
       "      <th>PK-05</th>\n",
       "      <td>0.112738</td>\n",
       "      <td>0.135114</td>\n",
       "      <td>0.264751</td>\n",
       "      <td>0.347874</td>\n",
       "    </tr>\n",
       "    <tr>\n",
       "      <th>PK-07</th>\n",
       "      <td>0.555948</td>\n",
       "      <td>0.738781</td>\n",
       "      <td>0.997954</td>\n",
       "      <td>0.966100</td>\n",
       "    </tr>\n",
       "    <tr>\n",
       "      <th>PK-08</th>\n",
       "      <td>0.843259</td>\n",
       "      <td>0.840324</td>\n",
       "      <td>0.859131</td>\n",
       "      <td>0.792707</td>\n",
       "    </tr>\n",
       "  </tbody>\n",
       "</table>\n",
       "</div>"
      ],
      "text/plain": [
       "            0         100       150       200\n",
       "BM-01  0.979969  0.972471  0.989408  0.989211\n",
       "BM-02  0.213386  0.338595  0.488734  0.349517\n",
       "BM-03  0.053209  0.034601  0.019784  0.016724\n",
       "BM-05  0.776399  0.714221  0.620473  0.560444\n",
       "BM-06  0.484110  0.737965  0.766199  0.769996\n",
       "BM-07  0.381427  0.579057  0.656548  0.721992\n",
       "BM-09  0.373079  0.439064  0.683052  0.738784\n",
       "BM-10  0.674982  0.797312  0.918109  0.938735\n",
       "BM-12  0.435976  0.563419  0.738764  0.899583\n",
       "BM-19  0.807288  0.864336  0.747795  0.843143\n",
       "BM-23  0.518857  0.414643  0.438384  0.483520\n",
       "BM-24  0.775016  0.779772  0.704981  0.732513\n",
       "BM-26  0.277507  0.262718  0.398377  0.355569\n",
       "BM-27  0.510550  0.687704  0.732087  0.743601\n",
       "BM-29  0.743602  0.442617  0.276282  0.508543\n",
       "BM-30  0.163036  0.202413  0.238447  0.305262\n",
       "BM-31  0.247848  0.248391  0.211655  0.099563\n",
       "BM-32  0.859392  0.879923  0.933449  0.971260\n",
       "BM-36  0.282768  0.372742  0.408105  0.401237\n",
       "BM-37  0.259232  0.434320  0.657831  0.830736\n",
       "BM-39  0.233129  0.158507  0.344192  0.869732\n",
       "PK-02  0.902763  0.931767  0.965341  0.968412\n",
       "PK-05  0.112738  0.135114  0.264751  0.347874\n",
       "PK-07  0.555948  0.738781  0.997954  0.966100\n",
       "PK-08  0.843259  0.840324  0.859131  0.792707"
      ]
     },
     "execution_count": 118,
     "metadata": {},
     "output_type": "execute_result"
    }
   ],
   "source": [
    "subset_df = joint_df.loc[['BM-01', 'BM-02', 'BM-03', 'BM-05', 'BM-06', 'BM-07', 'BM-09', 'BM-10',\n",
    "       'BM-12', 'BM-19', 'BM-23', 'BM-24', 'BM-26', 'BM-27', 'BM-29', 'BM-30',\n",
    "       'BM-31', 'BM-32', 'BM-36', 'BM-37', 'BM-39', 'PK-02', 'PK-05', 'PK-07',\n",
    "       'PK-08'], [0,1,2,3]]\n",
    "subset_df"
   ]
  },
  {
   "cell_type": "code",
   "execution_count": 119,
   "metadata": {
    "ExecuteTime": {
     "end_time": "2018-04-10T18:16:29.863096Z",
     "start_time": "2018-04-10T18:16:29.858082Z"
    },
    "hidden": true
   },
   "outputs": [
    {
     "data": {
      "text/plain": [
       "array([0.49861879, 0.54283119, 0.60239339, 0.64819033])"
      ]
     },
     "execution_count": 119,
     "metadata": {},
     "output_type": "execute_result"
    }
   ],
   "source": [
    "#subset_df.mean().values\n",
    "subset_df.dropna().mean().values"
   ]
  },
  {
   "cell_type": "code",
   "execution_count": 47,
   "metadata": {
    "ExecuteTime": {
     "end_time": "2018-04-10T17:09:31.099557Z",
     "start_time": "2018-04-10T17:09:31.094546Z"
    },
    "hidden": true
   },
   "outputs": [
    {
     "name": "stdout",
     "output_type": "stream",
     "text": [
      "0.4725199969765699 0.7846028172462818\n"
     ]
    }
   ],
   "source": [
    "print(np.mean(subset_df[150]), np.mean(subset_df[200]))"
   ]
  },
  {
   "cell_type": "code",
   "execution_count": 514,
   "metadata": {
    "ExecuteTime": {
     "end_time": "2018-04-09T22:59:06.956145Z",
     "start_time": "2018-04-09T22:59:06.912028Z"
    },
    "collapsed": true,
    "hidden": true
   },
   "outputs": [],
   "source": [
    "vasc_depo_df.to_excel(writer, \"Vascularization-Deposition\")\n",
    "depo_resp_df.to_excel(writer, \"Deposition-Response\")\n",
    "writer.save()"
   ]
  },
  {
   "cell_type": "code",
   "execution_count": null,
   "metadata": {
    "ExecuteTime": {
     "end_time": "2018-04-09T22:38:50.145544Z",
     "start_time": "2018-04-09T22:38:50.129499Z"
    },
    "collapsed": true,
    "hidden": true
   },
   "outputs": [],
   "source": [
    "vasc_depo_df"
   ]
  },
  {
   "cell_type": "code",
   "execution_count": 515,
   "metadata": {
    "ExecuteTime": {
     "end_time": "2018-04-09T23:01:52.722991Z",
     "start_time": "2018-04-09T23:01:52.719981Z"
    },
    "collapsed": true,
    "hidden": true
   },
   "outputs": [],
   "source": [
    "liplvls=[0,100]#,250,300]#list(range(0,401,10))"
   ]
  },
  {
   "cell_type": "code",
   "execution_count": 516,
   "metadata": {
    "ExecuteTime": {
     "end_time": "2018-04-09T23:01:56.255227Z",
     "start_time": "2018-04-09T23:01:52.723994Z"
    },
    "collapsed": true,
    "hidden": true
   },
   "outputs": [],
   "source": [
    "importlib.reload(lm)\n",
    "vasc_depo_df_binary = pd.DataFrame(columns=liplvls)\n",
    "for patient_id in lipresp_df.index:\n",
    "    vasc_depo_df_binary.loc[patient_id] = lm.vascular_to_deposition(patient_id, target_dir, liplvls, exclude_small=True)"
   ]
  },
  {
   "cell_type": "code",
   "execution_count": 517,
   "metadata": {
    "ExecuteTime": {
     "end_time": "2018-04-09T23:02:00.991907Z",
     "start_time": "2018-04-09T23:01:56.257180Z"
    },
    "collapsed": true,
    "hidden": true
   },
   "outputs": [],
   "source": [
    "depo_resp_df_binary = pd.DataFrame(columns=liplvls)\n",
    "for patient_id in lipresp_df.index:\n",
    "    depo_resp_df_binary.loc[patient_id] = lm.lip_to_response(patient_id, target_dir, liplvls, exclude_small=False)"
   ]
  },
  {
   "cell_type": "code",
   "execution_count": 518,
   "metadata": {
    "ExecuteTime": {
     "end_time": "2018-04-09T23:02:18.152783Z",
     "start_time": "2018-04-09T23:02:18.112537Z"
    },
    "collapsed": true,
    "hidden": true
   },
   "outputs": [],
   "source": [
    "vasc_depo_df_binary.to_excel(writer, \"Vasc-Depo-binary\")\n",
    "depo_resp_df_binary.to_excel(writer, \"Depo-Resp-binary\")\n",
    "writer.save()"
   ]
  },
  {
   "cell_type": "markdown",
   "metadata": {
    "heading_collapsed": true,
    "hidden": true
   },
   "source": [
    "### T-Test"
   ]
  },
  {
   "cell_type": "code",
   "execution_count": 522,
   "metadata": {
    "ExecuteTime": {
     "end_time": "2018-04-09T23:04:51.928867Z",
     "start_time": "2018-04-09T23:04:51.918841Z"
    },
    "hidden": true
   },
   "outputs": [
    {
     "data": {
      "text/plain": [
       "Ttest_1sampResult(statistic=2.3802691829515616, pvalue=0.025971980984010247)"
      ]
     },
     "execution_count": 522,
     "metadata": {},
     "output_type": "execute_result"
    }
   ],
   "source": [
    "scipy.stats.ttest_1samp((vasc_depo_df_binary[100]-vasc_depo_df_binary[0]).dropna(), 0)"
   ]
  },
  {
   "cell_type": "code",
   "execution_count": 523,
   "metadata": {
    "ExecuteTime": {
     "end_time": "2018-04-09T23:05:17.012215Z",
     "start_time": "2018-04-09T23:05:17.007175Z"
    },
    "hidden": true
   },
   "outputs": [
    {
     "data": {
      "text/plain": [
       "Ttest_1sampResult(statistic=2.428121152144739, pvalue=0.024249353783670376)"
      ]
     },
     "execution_count": 523,
     "metadata": {},
     "output_type": "execute_result"
    }
   ],
   "source": [
    "scipy.stats.ttest_1samp((vasc_depo_df[150]-vasc_depo_df[100]).dropna(), 0)"
   ]
  },
  {
   "cell_type": "code",
   "execution_count": 524,
   "metadata": {
    "ExecuteTime": {
     "end_time": "2018-04-09T23:05:21.747378Z",
     "start_time": "2018-04-09T23:05:21.742371Z"
    },
    "hidden": true
   },
   "outputs": [
    {
     "data": {
      "text/plain": [
       "Ttest_1sampResult(statistic=2.7092952234597485, pvalue=0.013907459079104805)"
      ]
     },
     "execution_count": 524,
     "metadata": {},
     "output_type": "execute_result"
    }
   ],
   "source": [
    "scipy.stats.ttest_1samp((vasc_depo_df[200]-vasc_depo_df[150]).dropna(), 0)"
   ]
  },
  {
   "cell_type": "code",
   "execution_count": null,
   "metadata": {
    "collapsed": true,
    "hidden": true
   },
   "outputs": [],
   "source": []
  },
  {
   "cell_type": "code",
   "execution_count": 525,
   "metadata": {
    "ExecuteTime": {
     "end_time": "2018-04-09T23:05:42.626802Z",
     "start_time": "2018-04-09T23:05:42.622791Z"
    },
    "hidden": true
   },
   "outputs": [
    {
     "data": {
      "text/plain": [
       "Ttest_1sampResult(statistic=3.492729013676934, pvalue=0.0015538515664505574)"
      ]
     },
     "execution_count": 525,
     "metadata": {},
     "output_type": "execute_result"
    }
   ],
   "source": [
    "scipy.stats.ttest_1samp((depo_resp_df_binary[100]-depo_resp_df_binary[0]).dropna(), 0)"
   ]
  },
  {
   "cell_type": "code",
   "execution_count": 533,
   "metadata": {
    "ExecuteTime": {
     "end_time": "2018-04-09T23:06:23.880839Z",
     "start_time": "2018-04-09T23:06:23.876829Z"
    },
    "hidden": true
   },
   "outputs": [
    {
     "data": {
      "text/plain": [
       "Ttest_1sampResult(statistic=1.2250109889424856, pvalue=0.2348033858355313)"
      ]
     },
     "execution_count": 533,
     "metadata": {},
     "output_type": "execute_result"
    }
   ],
   "source": [
    "scipy.stats.ttest_1samp((depo_resp_df[150]-depo_resp_df[100]).dropna(), 0)"
   ]
  },
  {
   "cell_type": "code",
   "execution_count": 534,
   "metadata": {
    "ExecuteTime": {
     "end_time": "2018-04-09T23:06:23.961052Z",
     "start_time": "2018-04-09T23:06:23.956040Z"
    },
    "hidden": true
   },
   "outputs": [
    {
     "data": {
      "text/plain": [
       "Ttest_1sampResult(statistic=2.800068905160147, pvalue=0.011421953792365588)"
      ]
     },
     "execution_count": 534,
     "metadata": {},
     "output_type": "execute_result"
    }
   ],
   "source": [
    "scipy.stats.ttest_1samp((depo_resp_df[200]-depo_resp_df[150]).dropna(), 0)"
   ]
  },
  {
   "cell_type": "markdown",
   "metadata": {
    "heading_collapsed": true
   },
   "source": [
    "## Create Ranked DICOMs"
   ]
  },
  {
   "cell_type": "code",
   "execution_count": 15,
   "metadata": {
    "ExecuteTime": {
     "end_time": "2018-04-11T20:22:57.876010Z",
     "start_time": "2018-04-11T19:57:55.391775Z"
    },
    "collapsed": true,
    "hidden": true,
    "scrolled": true
   },
   "outputs": [],
   "source": [
    "importlib.reload(lm)\n",
    "lm.write_ranked_imgs(pattern_df, target_dir, \"lipcoverage_vol%\", \"ct24_path\", join(C.ranking_dir, \"sparsity_ranking_ct24\"),\n",
    "                  False, \"ct24_tumor_mask_path\", \"ct\")\n",
    "lm.write_ranked_imgs(pattern_df, target_dir, \"enhancing_vol%\", \"mribl_art_path\", join(C.ranking_dir, \"sparsity_ranking_mrbl\"),\n",
    "                  False, \"mribl_tumor_mask_path\")\n",
    "\n",
    "# make pointers instead?\n",
    "lm.write_ranked_imgs(pattern_df, target_dir, \"rim_lipiodol%\", \"ct24_path\", join(C.ranking_dir, \"rim_ranking_ct24\"),\n",
    "                  False, \"ct24_tumor_mask_path\", \"ct\")\n",
    "lm.write_ranked_imgs(pattern_df, target_dir, \"rim_enhancing%\", \"mribl_art_path\", join(C.ranking_dir, \"rim_ranking_mrbl\"),\n",
    "                  False, \"mribl_tumor_mask_path\")\n",
    "\n",
    "lm.write_ranked_imgs(pattern_df, target_dir, \"lip_homog\", \"ct24_path\", join(C.ranking_dir, \"homogen_ranking_ct24\"),\n",
    "                  False, \"ct24_tumor_mask_path\", window=\"ct\")\n",
    "lm.write_ranked_imgs(pattern_df, target_dir, \"mribl_homog\", \"mribl_art_path\", join(C.ranking_dir, \"homogen_ranking_mrbl\"),\n",
    "                  False, \"mribl_tumor_mask_path\")"
   ]
  },
  {
   "cell_type": "code",
   "execution_count": 63,
   "metadata": {
    "ExecuteTime": {
     "end_time": "2018-04-11T22:31:53.429031Z",
     "start_time": "2018-04-11T22:28:48.847853Z"
    },
    "collapsed": true,
    "hidden": true
   },
   "outputs": [],
   "source": [
    "lm.write_ranked_imgs(pattern_df.dropna(0,subset=[\"rim_lipiodol%\"]), target_dir, \"rim_lipiodol%\", \"ct24_path\", join(C.ranking_dir, \"rim_ranking_ct24\"),\n",
    "                  False, \"ct24_tumor_mask_path\", \"ct\")\n",
    "#lm.write_ranked_imgs(pattern_df.dropna(0,subset=[\"rim_lipiodol%\"]), target_dir, \"rim_enhancing%\", \"mribl_art_path\", join(C.ranking_dir, \"rim_ranking_mrbl\"),\n",
    "#                  False, \"mribl_tumor_mask_path\")"
   ]
  },
  {
   "cell_type": "code",
   "execution_count": 17,
   "metadata": {
    "ExecuteTime": {
     "end_time": "2018-04-11T20:31:40.485539Z",
     "start_time": "2018-04-11T20:28:40.845619Z"
    },
    "collapsed": true,
    "hidden": true
   },
   "outputs": [],
   "source": [
    "lm.write_ranked_imgs(pattern_df, target_dir, \"peripheral_coverage%\", \"ct24_path\", join(C.ranking_dir, \"penumbra_ranking_ct24\"),\n",
    "                  False, \"ct24_tumor_mask_path\", \"ct\")"
   ]
  },
  {
   "cell_type": "code",
   "execution_count": 141,
   "metadata": {
    "ExecuteTime": {
     "end_time": "2018-04-09T02:23:42.999677Z",
     "start_time": "2018-04-09T02:23:42.598917Z"
    },
    "collapsed": true,
    "hidden": true
   },
   "outputs": [],
   "source": [
    "masks.create_dcm_with_masks(ball_ct24_path, [ball_mribl_enh_mask_path, ball_mri30d_enh_mask_path],\n",
    "                            save_dir, overwrite=True, window=\"ct\")"
   ]
  },
  {
   "cell_type": "markdown",
   "metadata": {
    "ExecuteTime": {
     "end_time": "2018-04-06T05:01:11.688839Z",
     "start_time": "2018-04-06T05:01:11.685831Z"
    }
   },
   "source": [
    "## Tumor Mask Screenshots"
   ]
  },
  {
   "cell_type": "code",
   "execution_count": null,
   "metadata": {
    "ExecuteTime": {
     "end_time": "2018-04-12T15:33:32.345316Z",
     "start_time": "2018-04-12T15:32:07.253084Z"
    },
    "collapsed": true
   },
   "outputs": [],
   "source": [
    "importlib.reload(lm)\n",
    "for fn in glob.glob(join(target_dir,\"*\")):\n",
    "    patient_id = basename(fn)\n",
    "    paths = lm.get_paths(patient_id, target_dir)\n",
    "\n",
    "    mask_dir, nii_dir, ct24_path, ct24_tumor_mask_path, ct24_liver_mask_path, \\\n",
    "    mribl_art_path, mribl_pre_path, \\\n",
    "    mribl_tumor_mask_path, mribl_liver_mask_path, \\\n",
    "    mribl_enh_mask_path, mribl_nec_mask_path, \\\n",
    "    mri30d_art_path, mri30d_pre_path, \\\n",
    "    mri30d_tumor_mask_path, mri30d_liver_mask_path, \\\n",
    "    mri30d_enh_mask_path, mri30d_nec_mask_path, \\\n",
    "    ball_ct24_path, ball_mribl_path, ball_mri30d_path, \\\n",
    "    ball_mask_path, ball_mribl_enh_mask_path, ball_mri30d_enh_mask_path, \\\n",
    "    midlip_mask_path, ball_midlip_mask_path, \\\n",
    "    highlip_mask_path, ball_highlip_mask_path = paths\n",
    "\n",
    "    lm.draw_unreg_fig(mribl_art_path, mribl_tumor_mask_path, join(C.png_dir, patient_id, \"BL MR\"), 'b', 'mr')\n",
    "    lm.draw_unreg_fig(mri30d_art_path, mri30d_tumor_mask_path, join(C.png_dir, patient_id, \"30d MR\"), 'r', 'mr')\n",
    "    lm.draw_unreg_fig(ct24_path, ct24_tumor_mask_path, join(C.png_dir, patient_id, \"24h CT\"), 'g', 'ct')"
   ]
  },
  {
   "cell_type": "code",
   "execution_count": null,
   "metadata": {
    "collapsed": true
   },
   "outputs": [],
   "source": [
    "patient_id = \"BM-20\"\n",
    "paths = lm.get_paths(patient_id, target_dir)\n",
    "\n",
    "mask_dir, nii_dir, ct24_path, ct24_tumor_mask_path, ct24_liver_mask_path, \\\n",
    "mribl_art_path, mribl_pre_path, \\\n",
    "mribl_tumor_mask_path, mribl_liver_mask_path, \\\n",
    "mribl_enh_mask_path, mribl_nec_mask_path, \\\n",
    "mri30d_art_path, mri30d_pre_path, \\\n",
    "mri30d_tumor_mask_path, mri30d_liver_mask_path, \\\n",
    "mri30d_enh_mask_path, mri30d_nec_mask_path, \\\n",
    "ball_ct24_path, ball_mribl_path, ball_mri30d_path, \\\n",
    "ball_mask_path, ball_mribl_enh_mask_path, ball_mri30d_enh_mask_path, \\\n",
    "midlip_mask_path, ball_midlip_mask_path, \\\n",
    "highlip_mask_path, ball_highlip_mask_path = paths\n",
    "masks.(mribl_art_path, mribl_liver_mask_path, join(C.png_dir, patient_id, \"BL MR\"), 'b', 'mr')"
   ]
  },
  {
   "cell_type": "code",
   "execution_count": null,
   "metadata": {
    "collapsed": true
   },
   "outputs": [],
   "source": [
    "lm.draw_reg_fig(ball_mribl_path, ball_mribl_enh_mask_path, join(C.fig_dir, patient_id, \"MRIBL\"), 'b', 'mr')\n",
    "lm.draw_reg_fig(ball_mri30d_path, ball_mri30d_enh_mask_path, \"D:\\\\Lipiodol\\\\Figures\\\\MRI30d\", 'r', 'mr')\n",
    "lm.draw_reg_fig(ball_ct24_path, ball_highlip_mask_path, \"D:\\\\Lipiodol\\\\Figures\\\\Lip\", 'g', 'ct')"
   ]
  },
  {
   "cell_type": "code",
   "execution_count": null,
   "metadata": {
    "ExecuteTime": {
     "end_time": "2018-04-06T15:09:57.976409Z",
     "start_time": "2018-04-06T15:09:56.957128Z"
    },
    "collapsed": true
   },
   "outputs": [],
   "source": [
    "# Figure for 24h CT\n",
    "img,_ = hf.nii_load(ball_ct24_path)\n",
    "blmask,_ = masks.get_mask(ball_mribl_enh_mask_path)\n",
    "fumask,_ = masks.get_mask(ball_mri30d_enh_mask_path)\n",
    "\n",
    "for sl in range(img.shape[-1]//4,img.shape[-1]*3//4,img.shape[-1]//12):\n",
    "    plt.close()\n",
    "    plt.imshow(img[...,sl], cmap='gray', vmin=30, vmax=250)\n",
    "    FU=plt.contour(fumask[:,:,sl], colors='r', alpha=.4)\n",
    "    plt.contour(blmask[:,:,sl], colors='b', alpha=.4)\n",
    "    plt.contourf(fumask[:,:,sl], colors=[(0,0,0,0)]*6+[(1,0,0,.2)]) #look at the length of FU.allsegs\n",
    "    plt.contourf(blmask[:,:,sl], colors=[(0,0,0,0)]*6+[(0,0,1,.2)])\n",
    "    plt.axis('off')\n",
    "    plt.savefig(\"D:\\\\Lipiodol\\\\Figures\\\\24hCT_%d.png\" % sl, dpi=100, bbox_inches='tight')"
   ]
  },
  {
   "cell_type": "markdown",
   "metadata": {
    "heading_collapsed": true
   },
   "source": [
    "## Extra"
   ]
  },
  {
   "cell_type": "markdown",
   "metadata": {
    "hidden": true
   },
   "source": [
    "IVs = get_intensity_section(ball_ct24_path, ball_mask_path, params)\n",
    "            if highest_I_V < I_V:\n",
    "                best_params = params\n",
    "                highest_I_V = I_V\n",
    "                print(best_params)\n",
    "theta1_best, phi1_best, dtheta_best, dz_best = best_params"
   ]
  },
  {
   "cell_type": "code",
   "execution_count": null,
   "metadata": {
    "ExecuteTime": {
     "end_time": "2018-04-05T22:22:47.402911Z",
     "start_time": "2018-04-05T22:22:47.378848Z"
    },
    "collapsed": true,
    "hidden": true
   },
   "outputs": [],
   "source": [
    "ball_IV = get_avg_ball_intensity(ball_ct24_path, ball_mask_path)\n",
    "core_IV = get_avg_core_intensity(ball_ct24_path, ball_mask_path)"
   ]
  },
  {
   "cell_type": "code",
   "execution_count": 303,
   "metadata": {
    "ExecuteTime": {
     "end_time": "2018-04-06T01:56:56.770027Z",
     "start_time": "2018-04-06T01:56:56.766015Z"
    },
    "hidden": true
   },
   "outputs": [
    {
     "data": {
      "text/plain": [
       "(197.83461276161094, 209.89937589866474)"
      ]
     },
     "execution_count": 303,
     "metadata": {},
     "output_type": "execute_result"
    }
   ],
   "source": [
    "ball_IV, core_IV"
   ]
  },
  {
   "cell_type": "code",
   "execution_count": null,
   "metadata": {
    "ExecuteTime": {
     "end_time": "2018-04-06T02:25:17.074399Z",
     "start_time": "2018-04-06T02:25:15.865084Z"
    },
    "collapsed": true,
    "hidden": true
   },
   "outputs": [],
   "source": [
    "importlib.reload(lm)\n",
    "IVs = lm.calc_intensity_shells_angles(hf.nii_load(ball_ct24_path)[0], ball_mask_path)\n",
    "IVs[IVs==0] = np.nan\n",
    "\n",
    "samples = lm.fibonacci_sphere(2500, True, randomize=True)\n",
    "samples = np.round(samples).astype(int)\n",
    "s0 = samples[:,0]\n",
    "s1 = samples[:,1]\n",
    "for i in range(IVs.shape[-1]):\n",
    "    print(np.nanmean(IVs[s0,s1,i]))"
   ]
  },
  {
   "cell_type": "code",
   "execution_count": 388,
   "metadata": {
    "ExecuteTime": {
     "end_time": "2018-04-06T03:41:24.387987Z",
     "start_time": "2018-04-06T03:41:24.373950Z"
    },
    "collapsed": true,
    "hidden": true
   },
   "outputs": [],
   "source": [
    "loopIVs = np.tile(IVs[:-1,:-1,:], (2,2,1))\n",
    "loopIVs[180:,:,:] = np.nan"
   ]
  },
  {
   "cell_type": "code",
   "execution_count": null,
   "metadata": {
    "ExecuteTime": {
     "end_time": "2018-04-06T04:07:35.800850Z",
     "start_time": "2018-04-06T04:07:28.305059Z"
    },
    "collapsed": true,
    "hidden": true
   },
   "outputs": [],
   "source": [
    "for dtheta in range(30,180,20):\n",
    "    print(dtheta)\n",
    "    best_IV = core_IV\n",
    "    worst_IV = core_IV\n",
    "    for theta in range(0,180,20):\n",
    "        for phi in range(180,480,20):\n",
    "            for shell1 in range(4):\n",
    "                for shell2 in range(shell1+1,5):\n",
    "                    IV = np.nanmean(loopIVs[max(theta-dtheta,0) : theta+dtheta, phi-dtheta : phi+dtheta, shell1:shell2])\n",
    "                    params = theta, phi % 360, shell1, shell2\n",
    "                    if best_IV < IV:\n",
    "                        best_params = params\n",
    "                        best_IV = IV\n",
    "                        \n",
    "            IV = np.nanmean(loopIVs[max(theta-dtheta,0) : theta+dtheta, phi-dtheta : phi+dtheta, :5])\n",
    "            params = theta, phi % 360\n",
    "            if worst_IV > IV:\n",
    "                worst_params = params\n",
    "                worst_IV = IV\n",
    "                \n",
    "    print(best_params, round(best_IV,1))\n",
    "    print(worst_params, round(worst_IV,1))"
   ]
  },
  {
   "cell_type": "code",
   "execution_count": null,
   "metadata": {
    "ExecuteTime": {
     "end_time": "2018-04-06T04:14:42.190274Z",
     "start_time": "2018-04-06T04:14:40.506330Z"
    },
    "collapsed": true,
    "hidden": true
   },
   "outputs": [],
   "source": [
    "importlib.reload(lm)\n",
    "enhmask_density = lm.calc_intensity_shells_angles(masks.get_mask(ball_mribl_enh_mask_path)[0]+1, ball_mask_path)\n",
    "\n",
    "enhmask_density = enhmask_density[...,:5]\n",
    "enhmask_density[enhmask_density==0] = np.nan\n",
    "\n",
    "samples = fibonacci_sphere(2500, True, randomize=True)\n",
    "samples = np.round(samples).astype(int)\n",
    "s0 = samples[:,0]\n",
    "s1 = samples[:,1]\n",
    "for i in range(enhmask_density.shape[-1]):\n",
    "    print(np.nanmean(enhmask_density[s0,s1,i]))"
   ]
  },
  {
   "cell_type": "code",
   "execution_count": null,
   "metadata": {
    "ExecuteTime": {
     "end_time": "2018-04-06T04:15:33.357552Z",
     "start_time": "2018-04-06T04:15:31.657137Z"
    },
    "collapsed": true,
    "hidden": true
   },
   "outputs": [],
   "source": [
    "importlib.reload(lm)\n",
    "enhmask_density = lm.calc_intensity_shells_angles(masks.get_mask(ball_mri30d_enh_mask_path)[0]+1, ball_mask_path)\n",
    "\n",
    "enhmask_density = enhmask_density[...,:5]\n",
    "enhmask_density[enhmask_density==0] = np.nan\n",
    "\n",
    "samples = fibonacci_sphere(2500, True, randomize=True)\n",
    "samples = np.round(samples).astype(int)\n",
    "s0 = samples[:,0]\n",
    "s1 = samples[:,1]\n",
    "for i in range(enhmask_density.shape[-1]):\n",
    "    print(np.nanmean(enhmask_density[s0,s1,i]))"
   ]
  },
  {
   "cell_type": "code",
   "execution_count": null,
   "metadata": {
    "ExecuteTime": {
     "end_time": "2018-04-06T04:03:49.971534Z",
     "start_time": "2018-04-06T04:03:49.958472Z"
    },
    "collapsed": true,
    "hidden": true
   },
   "outputs": [],
   "source": [
    "for i in range(enhmask_density.shape[-1]):\n",
    "    print(np.nanmean(enhmask_density[s0,s1,i]))"
   ]
  },
  {
   "cell_type": "code",
   "execution_count": null,
   "metadata": {
    "collapsed": true,
    "hidden": true
   },
   "outputs": [],
   "source": [
    "enhmask_density ="
   ]
  },
  {
   "cell_type": "code",
   "execution_count": null,
   "metadata": {
    "collapsed": true,
    "hidden": true
   },
   "outputs": [],
   "source": [
    "conv_rate = np.zeros((181,360))"
   ]
  }
 ],
 "metadata": {
  "kernelspec": {
   "display_name": "Python 3",
   "language": "python",
   "name": "python3"
  },
  "language_info": {
   "codemirror_mode": {
    "name": "ipython",
    "version": 3
   },
   "file_extension": ".py",
   "mimetype": "text/x-python",
   "name": "python",
   "nbconvert_exporter": "python",
   "pygments_lexer": "ipython3",
   "version": "3.5.0"
  },
  "varInspector": {
   "cols": {
    "lenName": 16,
    "lenType": 16,
    "lenVar": 40
   },
   "kernels_config": {
    "python": {
     "delete_cmd_postfix": "",
     "delete_cmd_prefix": "del ",
     "library": "var_list.py",
     "varRefreshCmd": "print(var_dic_list())"
    },
    "r": {
     "delete_cmd_postfix": ") ",
     "delete_cmd_prefix": "rm(",
     "library": "var_list.r",
     "varRefreshCmd": "cat(var_dic_list()) "
    }
   },
   "types_to_exclude": [
    "module",
    "function",
    "builtin_function_or_method",
    "instance",
    "_Feature"
   ],
   "window_display": false
  }
 },
 "nbformat": 4,
 "nbformat_minor": 2
}
