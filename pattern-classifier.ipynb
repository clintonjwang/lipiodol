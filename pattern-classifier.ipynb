{
 "cells": [
  {
   "cell_type": "markdown",
   "metadata": {},
   "source": [
    "## Imports"
   ]
  },
  {
   "cell_type": "code",
   "execution_count": 1,
   "metadata": {
    "ExecuteTime": {
     "end_time": "2018-04-16T17:01:09.450872Z",
     "start_time": "2018-04-16T17:01:06.073745Z"
    }
   },
   "outputs": [
    {
     "name": "stderr",
     "output_type": "stream",
     "text": [
      "C:\\Users\\Clinton\\AppData\\Local\\conda\\conda\\envs\\old-keras\\lib\\site-packages\\h5py\\__init__.py:34: FutureWarning: Conversion of the second argument of issubdtype from `float` to `np.floating` is deprecated. In future, it will be treated as `np.float64 == np.dtype(float).type`.\n",
      "  from ._conv import register_converters as _register_converters\n",
      "Using TensorFlow backend.\n"
     ]
    }
   ],
   "source": [
    "import copy\n",
    "import glob\n",
    "import importlib\n",
    "import itertools\n",
    "import math\n",
    "import os\n",
    "import random\n",
    "import shutil\n",
    "import sys\n",
    "from math import degrees, pi, radians\n",
    "from os.path import *\n",
    "\n",
    "import matplotlib.pyplot as plt\n",
    "import numpy as np\n",
    "import pandas as pd\n",
    "import scipy.stats\n",
    "import SimpleITK as sitk\n",
    "import skimage.feature as skf\n",
    "from skimage.morphology import ball\n",
    "import seaborn as sns\n",
    "import cnn_builder as cbuild\n",
    "import config\n",
    "import lipiodol_methods as lm\n",
    "import lipiodol_vis as lvis\n",
    "import niftiutils.helper_fxns as hf\n",
    "import niftiutils.masks as masks\n",
    "import niftiutils.registration as reg\n",
    "import niftiutils.transforms as tr\n",
    "from config import Config\n",
    "sns.set(style=\"ticks\")\n",
    "%matplotlib inline"
   ]
  },
  {
   "cell_type": "code",
   "execution_count": 5,
   "metadata": {
    "ExecuteTime": {
     "end_time": "2018-04-16T17:01:18.837559Z",
     "start_time": "2018-04-16T17:01:18.833549Z"
    },
    "collapsed": true,
    "scrolled": true
   },
   "outputs": [],
   "source": [
    "importlib.reload(config)\n",
    "C = config.Config()\n",
    "target_dir = \"D:\\\\Lipiodol\\\\Data\""
   ]
  },
  {
   "cell_type": "markdown",
   "metadata": {
    "collapsed": true
   },
   "source": [
    "## Pattern analysis"
   ]
  },
  {
   "cell_type": "code",
   "execution_count": 6,
   "metadata": {
    "ExecuteTime": {
     "end_time": "2018-04-16T17:01:20.117731Z",
     "start_time": "2018-04-16T17:01:20.113719Z"
    }
   },
   "outputs": [],
   "source": [
    "patients = [basename(fn) for fn in glob.glob(join(target_dir,\"*\"))]\n",
    "num_patients = len(patients)"
   ]
  },
  {
   "cell_type": "code",
   "execution_count": 315,
   "metadata": {
    "ExecuteTime": {
     "end_time": "2018-04-09T18:49:25.303098Z",
     "start_time": "2018-04-09T18:49:25.297079Z"
    },
    "collapsed": true
   },
   "outputs": [],
   "source": [
    "patient_id = \"PK-08\"\n",
    "importlib.reload(lm)\n",
    "paths = lm.get_paths(patient_id, target_dir, check_valid=False)\n",
    "\n",
    "mask_dir, nii_dir, ct24_path, ct24_tumor_mask_path, ct24_liver_mask_path, \\\n",
    "mribl_art_path, mribl_pre_path, \\\n",
    "mribl_tumor_mask_path, mribl_liver_mask_path, \\\n",
    "mribl_enh_mask_path, mribl_nec_mask_path, \\\n",
    "mri30d_art_path, mri30d_pre_path, \\\n",
    "mri30d_tumor_mask_path, mri30d_liver_mask_path, \\\n",
    "mri30d_enh_mask_path, mri30d_nec_mask_path, \\\n",
    "ball_ct24_path, ball_mribl_path, ball_mri30d_path, \\\n",
    "ball_mask_path, ball_mribl_enh_mask_path, ball_mri30d_enh_mask_path, \\\n",
    "midlip_mask_path, ball_midlip_mask_path, \\\n",
    "highlip_mask_path, ball_highlip_mask_path = paths"
   ]
  },
  {
   "cell_type": "markdown",
   "metadata": {
    "heading_collapsed": true
   },
   "source": [
    "### Validate HU scale"
   ]
  },
  {
   "cell_type": "code",
   "execution_count": 357,
   "metadata": {
    "ExecuteTime": {
     "end_time": "2018-04-14T02:47:50.969796Z",
     "start_time": "2018-04-14T02:45:47.193505Z"
    },
    "hidden": true
   },
   "outputs": [],
   "source": [
    "LI = []\n",
    "for fn in glob.glob(join(target_dir,\"*\")):\n",
    "    patient_id = basename(fn)\n",
    "    paths = lm.get_paths(patient_id, target_dir)\n",
    "\n",
    "    mask_dir, nii_dir, ct24_path, ct24_tumor_mask_path, ct24_liver_mask_path, \\\n",
    "    mribl_art_path, mribl_pre_path, \\\n",
    "    mribl_tumor_mask_path, mribl_liver_mask_path, \\\n",
    "    mribl_enh_mask_path, mribl_nec_mask_path, \\\n",
    "    mri30d_art_path, mri30d_pre_path, \\\n",
    "    mri30d_tumor_mask_path, mri30d_liver_mask_path, \\\n",
    "    mri30d_enh_mask_path, mri30d_nec_mask_path, \\\n",
    "    ball_ct24_path, ball_mribl_path, ball_mri30d_path, \\\n",
    "    ball_mask_path, ball_mribl_enh_mask_path, ball_mri30d_enh_mask_path, \\\n",
    "    midlip_mask_path, ball_midlip_mask_path, \\\n",
    "    highlip_mask_path, ball_highlip_mask_path = paths\n",
    "    \n",
    "    img,D = hf.nii_load(ct24_path)\n",
    "    M = masks.get_mask(ct24_tumor_mask_path, D, img.shape)[0]\n",
    "    img = img*M/M.max()\n",
    "    \n",
    "    LI.append(filters.threshold_li(img[img > 100]))"
   ]
  },
  {
   "cell_type": "code",
   "execution_count": 342,
   "metadata": {
    "ExecuteTime": {
     "end_time": "2018-04-13T21:27:25.389282Z",
     "start_time": "2018-04-13T21:27:25.384268Z"
    },
    "hidden": true
   },
   "outputs": [
    {
     "data": {
      "text/plain": [
       "(159.8438546709155, 215.4651656444234)"
      ]
     },
     "execution_count": 342,
     "metadata": {},
     "output_type": "execute_result"
    }
   ],
   "source": [
    "np.percentile(LI, 100/3), np.percentile(LI, 200/3)"
   ]
  },
  {
   "cell_type": "markdown",
   "metadata": {},
   "source": [
    "### Build DataFrame"
   ]
  },
  {
   "cell_type": "code",
   "execution_count": 20,
   "metadata": {
    "ExecuteTime": {
     "end_time": "2018-04-16T18:21:01.773549Z",
     "start_time": "2018-04-16T18:21:01.763521Z"
    },
    "collapsed": true
   },
   "outputs": [],
   "source": [
    "pattern_feat_cols = [\"enhancing_vol%\", \"lipcoverage_vol%\",\n",
    "                       \"rim_enhancing%\", \"rim_lipiodol%\",\n",
    "                       \"peripheral_coverage%\"]\n",
    "\n",
    "lipresp_cols = []\n",
    "for name in itertools.product([\"base_\", \"low_\", \"mid_\", \"high_\"], [\"resp%\", \"prog%\", \"bl_enh%\", \"30d_enh%\"]):\n",
    "    lipresp_cols.append(name[0]+name[1])\n",
    "    \n",
    "# resp% is the % of BL enhancing tumor that becomes necrotic within this lipiodol range\n",
    "# prog% is the % of BL necrotic tumor that becomes enhancing within this lipiodol range\n",
    "# bl_enh% is the % of tumor within this lipiodol range that is enhancing on BL MR\n",
    "# 30d_enh% is the % of tumor within this lipiodol range that is enhancing on 30d MR"
   ]
  },
  {
   "cell_type": "code",
   "execution_count": 21,
   "metadata": {
    "ExecuteTime": {
     "end_time": "2018-04-16T18:21:02.040508Z",
     "start_time": "2018-04-16T18:21:02.035497Z"
    }
   },
   "outputs": [],
   "source": [
    "pattern_df = pd.DataFrame(columns=pattern_feat_cols)\n",
    "lipresp_df = pd.DataFrame(columns=lipresp_cols)"
   ]
  },
  {
   "cell_type": "markdown",
   "metadata": {
    "ExecuteTime": {
     "end_time": "2018-04-09T19:43:44.592180Z",
     "start_time": "2018-04-09T19:43:44.588158Z"
    }
   },
   "source": [
    "for name in lipresp_cols:\n",
    "    df.loc[:,\"peripheral_coverage%\"]=pd.Series(np.random.randn(len(df)), index=df.index)"
   ]
  },
  {
   "cell_type": "code",
   "execution_count": 430,
   "metadata": {
    "ExecuteTime": {
     "end_time": "2018-04-09T20:25:24.157520Z",
     "start_time": "2018-04-09T20:25:24.153509Z"
    },
    "collapsed": true
   },
   "outputs": [],
   "source": [
    "importlib.reload(config)\n",
    "C = config.Config()"
   ]
  },
  {
   "cell_type": "code",
   "execution_count": 402,
   "metadata": {
    "ExecuteTime": {
     "end_time": "2018-04-15T18:50:33.363748Z",
     "start_time": "2018-04-15T18:50:33.168132Z"
    },
    "collapsed": true
   },
   "outputs": [],
   "source": [
    "pattern_df = pd.read_excel(C.data_xls_path, \"Patterns\")\n",
    "lipresp_df = pd.read_excel(C.data_xls_path, \"Lip-Resp\")\n",
    "vasc_depo_df = pd.read_excel(C.data_xls_path, \"Vascularization-Deposition\")\n",
    "depo_resp_df = pd.read_excel(C.data_xls_path, \"Deposition-Response\")\n",
    "vasc_depo_df_binary = pd.read_excel(C.data_xls_path, \"Vasc-Depo-binary\")\n",
    "depo_resp_df_binary = pd.read_excel(C.data_xls_path, \"Depo-Resp-binary\")"
   ]
  },
  {
   "cell_type": "code",
   "execution_count": 403,
   "metadata": {
    "ExecuteTime": {
     "end_time": "2018-04-15T18:50:35.147313Z",
     "start_time": "2018-04-15T18:50:35.142273Z"
    },
    "collapsed": true
   },
   "outputs": [],
   "source": [
    "writer = pd.ExcelWriter(C.data_xls_path)"
   ]
  },
  {
   "cell_type": "code",
   "execution_count": 62,
   "metadata": {
    "ExecuteTime": {
     "end_time": "2018-04-09T01:28:27.166787Z",
     "start_time": "2018-04-09T01:28:27.162775Z"
    }
   },
   "outputs": [
    {
     "data": {
      "text/plain": [
       "27"
      ]
     },
     "execution_count": 62,
     "metadata": {},
     "output_type": "execute_result"
    }
   ],
   "source": [
    "[basename(fn) for fn in glob.glob(join(target_dir,\"*\"))].index('PK-02')"
   ]
  },
  {
   "cell_type": "markdown",
   "metadata": {},
   "source": [
    "### Get Patterns"
   ]
  },
  {
   "cell_type": "code",
   "execution_count": null,
   "metadata": {
    "ExecuteTime": {
     "end_time": "2018-04-16T18:21:12.472461Z",
     "start_time": "2018-04-16T18:21:07.667518Z"
    },
    "collapsed": true
   },
   "outputs": [],
   "source": [
    "importlib.reload(lm)\n",
    "for fn in glob.glob(join(target_dir,\"*\")):\n",
    "    patient_id = basename(fn)\n",
    "    paths = lm.get_paths(patient_id, target_dir)\n",
    "\n",
    "    mask_dir, nii_dir, ct24_path, ct24_tumor_mask_path, ct24_liver_mask_path, \\\n",
    "    mribl_art_path, mribl_pre_path, \\\n",
    "    mribl_tumor_mask_path, mribl_liver_mask_path, \\\n",
    "    mribl_enh_mask_path, mribl_nec_mask_path, \\\n",
    "    mri30d_art_path, mri30d_pre_path, \\\n",
    "    mri30d_tumor_mask_path, mri30d_liver_mask_path, \\\n",
    "    mri30d_enh_mask_path, mri30d_nec_mask_path, \\\n",
    "    ball_ct24_path, ball_mribl_path, ball_mri30d_path, \\\n",
    "    ball_mask_path, ball_mribl_enh_mask_path, ball_mri30d_enh_mask_path, \\\n",
    "    midlip_mask_path, ball_midlip_mask_path, \\\n",
    "    highlip_mask_path, ball_highlip_mask_path = paths\n",
    "\n",
    "    core_IV = lm.get_avg_core_intensity(ball_ct24_path, ball_mask_path)\n",
    "    row=[]\n",
    "    row = lm.get_rim_coverage(row, masks.get_mask(ball_mribl_enh_mask_path)[0] + 1, ball_mask_path, 1.5)\n",
    "    row = lm.get_rim_coverage(row, hf.nii_load(ball_ct24_path)[0], ball_mask_path, max(core_IV,150))\n",
    "    \n",
    "    pattern_df.loc[patient_id, [\"rim_enhancing%\", \"rim_lipiodol%\"]] = row"
   ]
  },
  {
   "cell_type": "code",
   "execution_count": 16,
   "metadata": {
    "ExecuteTime": {
     "end_time": "2018-04-11T20:28:38.270682Z",
     "start_time": "2018-04-11T20:28:32.573535Z"
    },
    "collapsed": true
   },
   "outputs": [],
   "source": [
    "patient_id = \"BM-27\"\n",
    "pattern_df.loc[patient_id] = lm.get_row_entry(patient_id, target_dir)"
   ]
  },
  {
   "cell_type": "code",
   "execution_count": null,
   "metadata": {
    "ExecuteTime": {
     "end_time": "2018-04-16T18:28:03.337213Z",
     "start_time": "2018-04-16T18:21:16.692025Z"
    },
    "collapsed": true
   },
   "outputs": [],
   "source": [
    "importlib.reload(lm)\n",
    "for fn in glob.glob(join(target_dir,\"*\")):\n",
    "    patient_id = basename(fn)\n",
    "    print(patient_id)\n",
    "    #lm.spherize(patient_id, target_dir)\n",
    "    pattern_df.loc[patient_id] = lm.get_row_entry(patient_id, target_dir)"
   ]
  },
  {
   "cell_type": "code",
   "execution_count": 438,
   "metadata": {
    "ExecuteTime": {
     "end_time": "2018-04-09T20:32:14.736305Z",
     "start_time": "2018-04-09T20:32:00.042255Z"
    }
   },
   "outputs": [
    {
     "name": "stderr",
     "output_type": "stream",
     "text": [
      "C:\\Users\\Clinton\\Documents\\Lipiodol\\lipiodol_methods.py:136: RuntimeWarning: invalid value encountered in long_scalars\n",
      "  samples = np.round(samples).astype(int)\n"
     ]
    }
   ],
   "source": [
    "importlib.reload(lm)\n",
    "for fn in glob.glob(join(target_dir,\"*\")):\n",
    "    patient_id = basename(fn)\n",
    "    lips = lm.enhancing_to_nec(patient_id, target_dir, liplvls)\n",
    "    lipresp_df.loc[ix] = np.round(np.array(lips)*100,2).flatten()"
   ]
  },
  {
   "cell_type": "code",
   "execution_count": 512,
   "metadata": {
    "ExecuteTime": {
     "end_time": "2018-04-09T22:59:00.750596Z",
     "start_time": "2018-04-09T22:59:00.719514Z"
    },
    "collapsed": true
   },
   "outputs": [],
   "source": [
    "pattern_df.to_excel(writer, \"Patterns\")\n",
    "#lipresp_df.to_excel(writer, \"Lip-Resp\")\n",
    "#writer.save()"
   ]
  },
  {
   "cell_type": "markdown",
   "metadata": {},
   "source": [
    "## Correlating Vasc/Lip Deposition"
   ]
  },
  {
   "cell_type": "code",
   "execution_count": 7,
   "metadata": {
    "ExecuteTime": {
     "end_time": "2018-04-16T17:01:23.364634Z",
     "start_time": "2018-04-16T17:01:23.362624Z"
    },
    "collapsed": true
   },
   "outputs": [],
   "source": [
    "liplvls=[0,100,150,200]#,250,300]#list(range(0,401,10))"
   ]
  },
  {
   "cell_type": "code",
   "execution_count": null,
   "metadata": {
    "ExecuteTime": {
     "end_time": "2018-04-16T17:04:52.542100Z",
     "start_time": "2018-04-16T17:04:46.690414Z"
    },
    "collapsed": true
   },
   "outputs": [],
   "source": [
    "importlib.reload(lm)\n",
    "vasc_depo_df = pd.DataFrame(columns=np.transpose([[str(L)+\"N\", str(L)+\"V\"] for L in liplvls], (1,0)).flatten())\n",
    "for patient_id in patients:\n",
    "    print(patient_id)\n",
    "    vasc_depo_df.loc[patient_id] = lm.vascular_to_deposition(patient_id, target_dir, liplvls, exclude_small=True)"
   ]
  },
  {
   "cell_type": "code",
   "execution_count": null,
   "metadata": {
    "ExecuteTime": {
     "end_time": "2018-04-16T17:05:01.990516Z",
     "start_time": "2018-04-16T17:04:54.689755Z"
    },
    "collapsed": true
   },
   "outputs": [],
   "source": [
    "importlib.reload(lm)\n",
    "depo_resp_df = pd.DataFrame(columns=liplvls)\n",
    "for patient_id in patients:\n",
    "    print(patient_id)\n",
    "    depo_resp_df.loc[patient_id] = lm.lip_to_response(patient_id, target_dir, liplvls, exclude_small=True)"
   ]
  },
  {
   "cell_type": "code",
   "execution_count": 14,
   "metadata": {
    "ExecuteTime": {
     "end_time": "2018-04-16T17:05:02.074769Z",
     "start_time": "2018-04-16T17:05:02.070729Z"
    }
   },
   "outputs": [],
   "source": [
    "Vdf = vasc_depo_df.dropna()\n",
    "Rdf = depo_resp_df.dropna()"
   ]
  },
  {
   "cell_type": "markdown",
   "metadata": {},
   "source": [
    "## Vascularization subgraphs"
   ]
  },
  {
   "cell_type": "code",
   "execution_count": 37,
   "metadata": {
    "ExecuteTime": {
     "end_time": "2018-04-16T18:39:37.944468Z",
     "start_time": "2018-04-16T18:39:37.923413Z"
    },
    "scrolled": true
   },
   "outputs": [],
   "source": [
    "df = pd.DataFrame(columns=[\"Any Coverage\", \"Low-Mid Coverage\", \"Low Coverage\", \"Lesion_id\", \"Tissue Type\", \"All\",\n",
    "                       \"Tumor Growth\", \"Tumor Type\", \"TACE Type\", \"Homogeneity\", \"Sparsity\", \"Rim Presence\"])\n",
    "\n",
    "master_df = pd.read_excel(r\"D:\\Lipiodol\\MASTER SOPHIE.xlsx\", \"Lesions analyzed\", index_col=\"Lesion_ID\")#\"C:\\Users\\Clinton\\Box\\FOR CLINTON BOX FOLDER\\MASTER SS SOPHIE.xlsx\")\n",
    "master_df = master_df.join(pattern_df)\n",
    "modality = \"mrbl\"\n",
    "\n",
    "master_df[\"enhancing_vol%\"] = master_df[\"enhancing_vol%\"].astype(float)\n",
    "master_df[\"rim_enhancing%\"] = master_df[\"rim_enhancing%\"].astype(float)"
   ]
  },
  {
   "cell_type": "code",
   "execution_count": 25,
   "metadata": {
    "ExecuteTime": {
     "end_time": "2018-04-16T18:33:25.735891Z",
     "start_time": "2018-04-16T18:33:25.731880Z"
    }
   },
   "outputs": [],
   "source": [
    "def get_row(row, char):\n",
    "    return [row[\"%d%s\"%(liplvls[1],char)],\n",
    "            row[\"%d%s\"%(liplvls[1],char)] - row[\"%d%s\"%(liplvls[3],char)],\n",
    "            row[\"%d%s\"%(liplvls[1],char)] - row[\"%d%s\"%(liplvls[2],char)]]"
   ]
  },
  {
   "cell_type": "code",
   "execution_count": 39,
   "metadata": {
    "ExecuteTime": {
     "end_time": "2018-04-16T18:39:42.466155Z",
     "start_time": "2018-04-16T18:39:42.004813Z"
    },
    "scrolled": true
   },
   "outputs": [],
   "source": [
    "importlib.reload(lvis)\n",
    "ix = 0\n",
    "for lesion_id, row in Vdf.iterrows():\n",
    "    const = lvis.get_df_entry(lesion_id, master_df, modality)\n",
    "    \n",
    "    df.loc[ix] = get_row(row,\"N\") + [lesion_id, \"Necrosis\"] + const\n",
    "    df.loc[ix+1] = get_row(row,\"V\") + [lesion_id, \"Viable\"] + const\n",
    "    ix += 2"
   ]
  },
  {
   "cell_type": "code",
   "execution_count": null,
   "metadata": {
    "collapsed": true
   },
   "outputs": [],
   "source": [
    "hue=\"Tumor Growth\""
   ]
  },
  {
   "cell_type": "code",
   "execution_count": 78,
   "metadata": {
    "ExecuteTime": {
     "end_time": "2018-04-16T18:51:13.368442Z",
     "start_time": "2018-04-16T18:51:13.348413Z"
    },
    "collapsed": true
   },
   "outputs": [],
   "source": [
    "def set_g(g, save_path):\n",
    "    topbar = plt.Rectangle((0,0),1,1,fc=\"#C3C3C3\", edgecolor = 'none')\n",
    "    midbar = plt.Rectangle((0,0),1,1,fc='#A3A3A3',  edgecolor = 'none')\n",
    "    bottombar = plt.Rectangle((0,0),1,1,fc='#737373',  edgecolor = 'none')\n",
    "    l = plt.legend([bottombar, midbar, topbar],\n",
    "                   ['High Lipiodol', 'Medium Lipiodol', 'Low Lipiodol'], loc='upper left')#, ncol=2, prop={'size':16})\n",
    "    l.draw_frame(False)\n",
    "    \n",
    "    g.set(yticks=[0.,.2,.4,.6,.8,1.], ylim=(0.,1.));\n",
    "    g.set_yticklabels([\"0%\", \"20%\", \"40%\", \"60%\", \"80%\", \"100%\"]);\n",
    "    g.set_xlabel(\"\")\n",
    "    g.set_ylabel(\"\")\n",
    "    g.tick_params('x',width=0)\n",
    "    sns.despine(top=True, right=True)\n",
    "    #g.fig.tight_layout(w_pad=1)\n",
    "    #plt.setp(g.ax.lines,linewidth=1);\n",
    "    g.get_figure().savefig(save_path, dpi=1000, pad_inches=0, transparent=False)\n",
    "    #plt.close()"
   ]
  },
  {
   "cell_type": "code",
   "execution_count": 152,
   "metadata": {
    "ExecuteTime": {
     "end_time": "2018-04-16T19:20:53.546162Z",
     "start_time": "2018-04-16T19:20:53.526109Z"
    }
   },
   "outputs": [],
   "source": [
    "def set_g_bar(g, save_path):\n",
    "    g.set(yticks=[0.,.2,.4,.6,.8,1.], ylim=(0.,1.));\n",
    "    \"\"\"topbar = plt.Rectangle((0,0),1,1,fc=\"#C3C3C3\", edgecolor = 'none')\n",
    "    midbar = plt.Rectangle((0,0),1,1,fc='#A3A3A3',  edgecolor = 'none')\n",
    "    bottombar = plt.Rectangle((0,0),1,1,fc='#737373',  edgecolor = 'none')\n",
    "    l = plt.legend([bottombar, midbar, topbar],\n",
    "                   ['High Lipiodol', 'Medium Lipiodol', 'Low Lipiodol'], loc='upper left')#, ncol=2, prop={'size':16})\n",
    "    l.draw_frame(False)\"\"\"\n",
    "    \n",
    "    for gax in g.axes[0]:\n",
    "        gax.set_xlabel(\"\")\n",
    "        gax.set_ylabel(\"\")\n",
    "        gax.tick_params('x',width=0)\n",
    "        plt.setp(gax.patches, linewidth=1)\n",
    "        \n",
    "    g.axes[0][0].set_yticklabels([\"0%\", \"20%\", \"40%\", \"60%\", \"80%\", \"100%\"]);\n",
    "    g.axes[0][1].get_yaxis().set_visible(False)\n",
    "    \n",
    "    sns.despine(top=True, right=True, left=True)\n",
    "    g.fig.subplots_adjust(left=.2)\n",
    "    \n",
    "    #g.fig.tight_layout(w_pad=1)\n",
    "    #plt.setp(g.ax.lines,linewidth=1);\n",
    "    g.fig.savefig(save_path, width=5,dpi=1000, pad_inches=0, transparent=True)\n",
    "    plt.close()"
   ]
  },
  {
   "cell_type": "code",
   "execution_count": 149,
   "metadata": {
    "ExecuteTime": {
     "end_time": "2018-04-16T19:20:11.919375Z",
     "start_time": "2018-04-16T19:20:08.788467Z"
    }
   },
   "outputs": [],
   "source": [
    "g1 = sns.factorplot(x=\"Tissue Type\", y=\"Any Coverage\", col=\"Tumor Growth\", data=df, color=\"#C3C3C3\", aspect=.7, kind=\"bar\", ci=None)\n",
    "set_g_bar(g1, \"D:\\\\test.png\")\n",
    "g2 = sns.factorplot(x=\"Tissue Type\", y=\"Low-Mid Coverage\", col=\"Tumor Growth\", data=df, color=\"#939393\", aspect=.7, kind=\"bar\", ci=None)\n",
    "set_g_bar(g2, \"D:\\\\test2.png\")\n",
    "g3 = sns.factorplot(x=\"Tissue Type\", y=\"Low Coverage\", col=\"Tumor Growth\", data=df, color=\"#333333\", aspect=.7, kind=\"bar\", ci=None)\n",
    "set_g_bar(g3, \"D:\\\\test3.png\")"
   ]
  },
  {
   "cell_type": "code",
   "execution_count": 144,
   "metadata": {
    "ExecuteTime": {
     "end_time": "2018-04-16T19:18:32.312050Z",
     "start_time": "2018-04-16T19:18:32.308059Z"
    },
    "collapsed": true
   },
   "outputs": [],
   "source": [
    "kwargs = {\"x\":\"Tissue Type\", \"data\":df, \"size\":3, \"aspect\":.6, \"kind\":\"bar\", \"ci\":None, \"legend\":False}"
   ]
  },
  {
   "cell_type": "code",
   "execution_count": 151,
   "metadata": {
    "ExecuteTime": {
     "end_time": "2018-04-16T19:20:33.092932Z",
     "start_time": "2018-04-16T19:20:25.189290Z"
    },
    "scrolled": true
   },
   "outputs": [],
   "source": [
    "for category, order in [(\"Tumor Growth\", None), (\"Tumor Type\", None),\n",
    "                        (\"TACE Type\", [\"Selective\", \"Lobar\"]), (\"Sparsity\", [\"Sparse\", \"Non\"])]:\n",
    "\n",
    "    order = get_actual_order(category, df, order)\n",
    "    g1 = sns.factorplot(y=\"Any Coverage\", col=category, color=\"#C3C3C3\", order=order, **kwargs)\n",
    "    set_g_bar(g1, join(C.fig_dir, \"Vascularization figures\", \"%s1.png\" % category))\n",
    "    g2 = sns.factorplot(y=\"Low-Mid Coverage\", col=category, color=\"#939393\", order=order, **kwargs)\n",
    "    set_g_bar(g2, join(C.fig_dir, \"Vascularization figures\", \"%s2.png\" % category))\n",
    "    g3 = sns.factorplot(y=\"Low Coverage\", col=category, color=\"#333333\", order=order, **kwargs)\n",
    "    set_g_bar(g3, join(C.fig_dir, \"Vascularization figures\", \"%s3.png\" % category))"
   ]
  },
  {
   "cell_type": "code",
   "execution_count": null,
   "metadata": {
    "ExecuteTime": {
     "end_time": "2018-04-16T19:06:21.868940Z",
     "start_time": "2018-04-16T19:06:21.735566Z"
    },
    "collapsed": true
   },
   "outputs": [],
   "source": [
    "gax = sns.barplot(x=\"Tissue Type\", y=\"Any Coverage\", data=df, color=\"#C3C3C3\", aspect=5)\n",
    "mid_plot = sns.barplot(x=\"Tissue Type\", y=\"Low-Mid Coverage\", data=df, color=\"#A3A3A3\", aspect=5)\n",
    "low_plot = sns.barplot(x=\"Tissue Type\", y=\"Low Coverage\", data=df, color=\"#737373\", aspect=5)\n",
    "set_g(gax, \"D:\\\\test.png\")"
   ]
  },
  {
   "cell_type": "code",
   "execution_count": null,
   "metadata": {
    "collapsed": true
   },
   "outputs": [],
   "source": [
    "g.get_figure"
   ]
  },
  {
   "cell_type": "code",
   "execution_count": null,
   "metadata": {
    "collapsed": true
   },
   "outputs": [],
   "source": []
  },
  {
   "cell_type": "markdown",
   "metadata": {},
   "source": [
    "## Response subgraphs"
   ]
  },
  {
   "cell_type": "code",
   "execution_count": 1053,
   "metadata": {
    "ExecuteTime": {
     "end_time": "2018-04-16T16:51:06.198644Z",
     "start_time": "2018-04-16T16:51:06.113418Z"
    },
    "collapsed": true
   },
   "outputs": [],
   "source": [
    "df = pd.DataFrame(columns=[\"Response\", \"Lesion_id\", \"Lipiodol Deposition\", \"All\",\n",
    "                       \"Tumor Growth\", \"Tumor Type\", \"TACE Type\", \"Homogeneity\", \"Sparsity\", \"Rim Presence\"])\n",
    "\n",
    "master_df = pd.read_excel(r\"D:\\Lipiodol\\MASTER SOPHIE.xlsx\", \"Lesions analyzed\", index_col=\"Lesion_ID\")#\"C:\\Users\\Clinton\\Box\\FOR CLINTON BOX FOLDER\\MASTER SS SOPHIE.xlsx\")\n",
    "master_df = master_df.join(pattern_df)\n",
    "modality = \"ct24\""
   ]
  },
  {
   "cell_type": "code",
   "execution_count": 1054,
   "metadata": {
    "ExecuteTime": {
     "end_time": "2018-04-16T16:51:06.868879Z",
     "start_time": "2018-04-16T16:51:06.385355Z"
    },
    "scrolled": true
   },
   "outputs": [],
   "source": [
    "importlib.reload(lvis)\n",
    "ix = 0\n",
    "for lesion_id, row in Rdf.iterrows():\n",
    "    const = lvis.get_df_entry(lesion_id, master_df, modality)\n",
    "    for i in range(4):\n",
    "        df.loc[ix+i] = [row[liplvls[i]], lesion_id, [\"None\", \"Low\", \"Medium\", \"High\"][i]] + const\n",
    "    ix += 4"
   ]
  },
  {
   "cell_type": "code",
   "execution_count": 1062,
   "metadata": {
    "ExecuteTime": {
     "end_time": "2018-04-16T16:53:02.644991Z",
     "start_time": "2018-04-16T16:53:02.640981Z"
    }
   },
   "outputs": [],
   "source": [
    "kwargs = {\"x\":\"Lipiodol Deposition\", \"y\":\"Response\", \"data\":df, \"size\":3, \"ci\":None,\n",
    "          \"markers\":[\"s\", \"o\", \"^\"], \"legend\":False}"
   ]
  },
  {
   "cell_type": "code",
   "execution_count": 132,
   "metadata": {
    "ExecuteTime": {
     "end_time": "2018-04-16T19:06:57.376860Z",
     "start_time": "2018-04-16T19:06:57.363825Z"
    },
    "collapsed": true
   },
   "outputs": [],
   "source": [
    "def set_g(g, save_path):\n",
    "    g.set(yticks=[.2,.4,.6,.8,1.], ylim=(.2,1.));\n",
    "    g.ax.set_yticklabels([\"20%\", \"40%\", \"60%\", \"80%\", \"100%\"]);\n",
    "    g.ax.set_xlabel(\"\")\n",
    "    g.ax.set_ylabel(\"\")\n",
    "    #g.ax.tick_params('y',width=0)\n",
    "    #sns.despine(bottom=True)\n",
    "    #g.fig.tight_layout(w_pad=1)\n",
    "    plt.legend(loc='upper left');\n",
    "    g.fig.subplots_adjust(left=0.1)\n",
    "    #plt.setp(g.ax.lines,linewidth=1);\n",
    "    g.fig.savefig(save_path, dpi=1000, pad_inches=0, transparent=True)\n",
    "    plt.close()"
   ]
  },
  {
   "cell_type": "code",
   "execution_count": 146,
   "metadata": {
    "ExecuteTime": {
     "end_time": "2018-04-16T19:19:48.539186Z",
     "start_time": "2018-04-16T19:19:48.532168Z"
    },
    "collapsed": true
   },
   "outputs": [],
   "source": [
    "def get_actual_order(category, df, order):\n",
    "    if order is None:\n",
    "        return None\n",
    "    \n",
    "    vals = np.unique(df.dropna(subset=[category])[category].values)\n",
    "    new_order=[]\n",
    "    for o in order:\n",
    "        new_order.append([v for v in vals if v.startswith(o)][0])\n",
    "        \n",
    "    return new_order"
   ]
  },
  {
   "cell_type": "code",
   "execution_count": 1061,
   "metadata": {
    "ExecuteTime": {
     "end_time": "2018-04-16T16:52:13.371024Z",
     "start_time": "2018-04-16T16:52:11.361650Z"
    },
    "scrolled": true
   },
   "outputs": [],
   "source": [
    "for category, order in [(\"Tumor Growth\", None), (\"Tumor Type\", None),\n",
    "                        (\"TACE Type\", [\"Selective\", \"Lobar\"]), (\"Sparsity\", [\"Sparse\", \"Non\"])]:\n",
    "    g = sns.factorplot(hue=category, hue_order=get_actual_order(category, df, order), **kwargs)\n",
    "    set_g(g, join(C.fig_dir, \"Deposition figures\", \"%s.png\" % category));"
   ]
  },
  {
   "cell_type": "code",
   "execution_count": 1049,
   "metadata": {
    "ExecuteTime": {
     "end_time": "2018-04-16T16:47:13.913176Z",
     "start_time": "2018-04-16T16:47:11.105346Z"
    },
    "scrolled": true
   },
   "outputs": [],
   "source": [
    "focal_df = df.dropna(subset=[\"Tumor Growth\"])\n",
    "focal_df = focal_df[focal_df[\"Tumor Growth\"].str.contains(\"Focal\")]\n",
    "for ix, row in focal_df.iterrows():\n",
    "    focal_df.loc[ix, \"Tumor Type\"] = lvis.check_column(row[\"Lesion_id\"], master_df, \"HCC(0), ICC(1), other(2)\", \n",
    "                                                  {0: \"HCCs\", 1: \"ICCs\", 2: \"Metastases\"}, \"Focal\")\n",
    "    focal_df.loc[ix, \"Sparsity\"] = lvis.check_sparse(row[\"Lesion_id\"], master_df, modality, \"Focal\")\n",
    "kwargs[\"data\"] = focal_df\n",
    "\n",
    "for category, order in [(\"Tumor Type\", None), (\"TACE Type\", [\"Selective\", \"Lobar\"]),\n",
    "                        (\"Homogeneity\", [\"Homo\", \"Hetero\"]), (\"Sparsity\", [\"Sparse\", \"Non\"]),\n",
    "                        (\"Rim Presence\", [\"Rim\", \"Non\"])]:\n",
    "    g = sns.factorplot(hue=category, hue_order=get_actual_order(category, focal_df, order), **kwargs)\n",
    "    set_g(g, join(C.fig_dir, \"Deposition figures\", \"Focal_%s.png\" % category));"
   ]
  },
  {
   "cell_type": "code",
   "execution_count": 1050,
   "metadata": {
    "ExecuteTime": {
     "end_time": "2018-04-16T16:47:53.031867Z",
     "start_time": "2018-04-16T16:47:51.297479Z"
    },
    "scrolled": true
   },
   "outputs": [],
   "source": [
    "infil_df = df.dropna(subset=[\"Tumor Growth\"])\n",
    "infil_df = infil_df[infil_df[\"Tumor Growth\"].str.contains(\"Infiltrative\")]\n",
    "for ix, row in infil_df.iterrows():\n",
    "    infil_df.loc[ix, \"Tumor Type\"] = lvis.check_column(row[\"Lesion_id\"], master_df, \"HCC(0), ICC(1), other(2)\", \n",
    "                                                  {0: \"HCCs\", 1: \"ICCs\", 2: \"Metastases\"}, \"Infiltrative\")\n",
    "    infil_df.loc[ix, \"Sparsity\"] = lvis.check_sparse(row[\"Lesion_id\"], master_df, modality, \"Infiltrative\")\n",
    "kwargs[\"data\"] = infil_df\n",
    "\n",
    "for category, order in [(\"Tumor Type\", None), (\"TACE Type\", [\"Selective\", \"Lobar\"]), (\"Sparsity\", [\"Sparse\", \"Non\"])]:\n",
    "    g = sns.factorplot(hue=category, hue_order=get_actual_order(category, infil_df, order), **kwargs)\n",
    "    set_g(g, join(C.fig_dir, \"Deposition figures\", \"Infil_%s.png\" % category));"
   ]
  },
  {
   "cell_type": "markdown",
   "metadata": {
    "ExecuteTime": {
     "end_time": "2018-04-10T02:49:19.435196Z",
     "start_time": "2018-04-10T02:49:19.430182Z"
    }
   },
   "source": [
    "[1-df[i].mean() for i in liplvls]"
   ]
  },
  {
   "cell_type": "markdown",
   "metadata": {
    "ExecuteTime": {
     "end_time": "2018-04-10T02:48:14.341697Z",
     "start_time": "2018-04-10T02:48:14.337687Z"
    }
   },
   "source": [
    "[x/(1-x) for x in [0.47604184262689564,\n",
    " 0.3884550297888517,\n",
    " 0.3352322775428981,\n",
    " 0.2986988994268489]]"
   ]
  },
  {
   "cell_type": "code",
   "execution_count": null,
   "metadata": {
    "ExecuteTime": {
     "end_time": "2018-04-10T01:53:03.813064Z",
     "start_time": "2018-04-10T01:53:03.808050Z"
    },
    "collapsed": true
   },
   "outputs": [],
   "source": [
    "[1-df[i].mean() for i in liplvls]"
   ]
  },
  {
   "cell_type": "code",
   "execution_count": null,
   "metadata": {
    "ExecuteTime": {
     "end_time": "2018-04-09T22:37:09.380458Z",
     "start_time": "2018-04-09T22:37:09.376419Z"
    },
    "collapsed": true
   },
   "outputs": [],
   "source": [
    "print([df[i].mean() for i in liplvls])\n",
    "\n",
    "print(np.nanmean(depo_resp_df[0]),\n",
    "np.nanmean(depo_resp_df[100]),\n",
    "np.nanmean(depo_resp_df[150]),\n",
    "np.nanmean(depo_resp_df[200]))"
   ]
  },
  {
   "cell_type": "markdown",
   "metadata": {
    "heading_collapsed": true
   },
   "source": [
    "### Ground truth patterns"
   ]
  },
  {
   "cell_type": "code",
   "execution_count": null,
   "metadata": {
    "ExecuteTime": {
     "end_time": "2018-04-10T17:29:54.686967Z",
     "start_time": "2018-04-10T17:29:54.676914Z"
    },
    "collapsed": true,
    "hidden": true
   },
   "outputs": [],
   "source": [
    "pattern_gtruth_df = pd.read_excel(r\"D:\\Lipiodol\\Results\\Lipiodol Patterns.xlsx\", index_col=0)"
   ]
  },
  {
   "cell_type": "code",
   "execution_count": null,
   "metadata": {
    "ExecuteTime": {
     "end_time": "2018-04-10T17:29:55.096090Z",
     "start_time": "2018-04-10T17:29:55.092082Z"
    },
    "collapsed": true,
    "hidden": true
   },
   "outputs": [],
   "source": [
    "joint_df = pd.concat([vasc_depo_df, pattern_gtruth_df], axis=1, join='inner')"
   ]
  },
  {
   "cell_type": "code",
   "execution_count": null,
   "metadata": {
    "ExecuteTime": {
     "end_time": "2018-04-10T17:29:56.090236Z",
     "start_time": "2018-04-10T17:29:56.086226Z"
    },
    "collapsed": true,
    "hidden": true
   },
   "outputs": [],
   "source": [
    "joint_df.columns"
   ]
  },
  {
   "cell_type": "code",
   "execution_count": null,
   "metadata": {
    "ExecuteTime": {
     "end_time": "2018-04-10T18:16:09.888095Z",
     "start_time": "2018-04-10T18:16:09.874067Z"
    },
    "collapsed": true,
    "hidden": true
   },
   "outputs": [],
   "source": [
    "DF=joint_df.dropna(subset=[\"heterogeneous\"], axis=0)\n",
    "subset_df = DF.loc[DF[\"heterogeneous\"].str.contains(\"yes\"), liplvls+[\"heterogeneous\"]]\n",
    "#subset_df = DF.loc[DF[\"penumbra/margin\"]!=\"no\", liplvls+[\"penumbra/margin\"]]\n",
    "subset_df"
   ]
  },
  {
   "cell_type": "code",
   "execution_count": null,
   "metadata": {
    "ExecuteTime": {
     "end_time": "2018-04-10T18:16:20.021531Z",
     "start_time": "2018-04-10T18:16:20.017520Z"
    },
    "collapsed": true,
    "hidden": true
   },
   "outputs": [],
   "source": [
    "subset_df.index"
   ]
  },
  {
   "cell_type": "code",
   "execution_count": null,
   "metadata": {
    "collapsed": true,
    "hidden": true
   },
   "outputs": [],
   "source": [
    "rim = "
   ]
  },
  {
   "cell_type": "markdown",
   "metadata": {
    "hidden": true
   },
   "source": [
    "RIM: \"BM-07\", \"BM-30\", \"BM-32\", \"BM-37\"\n",
    "Homogeneous: \"BM-18\", \"BM-25\", \"BM-39\", \"PK-03\", \"PK-06\"\n",
    "Heterogeneous: \"BM-18\", \"BM-25\", \"BM-39\", \"PK-03\", \"PK-06\"\n",
    "Central deposition: 'BM-18', 'BM-23', 'BM-25', 'BM-31', 'BM-32', 'BM-39', 'PK-03', 'PK-08'\n",
    "Central recess: 'BM-01', 'BM-07', 'BM-12', 'BM-19', 'BM-24', 'BM-30', 'BM-36', 'PK-02', 'PK-05'\n",
    "Margin: 'BM-30', 'BM-32', 'BM-36', 'BM-37', 'BM-39', 'PK-02', 'PK-03', 'PK-05'"
   ]
  },
  {
   "cell_type": "code",
   "execution_count": null,
   "metadata": {
    "ExecuteTime": {
     "end_time": "2018-04-10T17:56:41.926326Z",
     "start_time": "2018-04-10T17:56:41.922316Z"
    },
    "collapsed": true,
    "hidden": true
   },
   "outputs": [],
   "source": [
    "len(['BM-01', 'BM-07', 'BM-12', 'BM-19', 'BM-24', 'BM-30', 'BM-36', 'PK-02', 'PK-05'])"
   ]
  },
  {
   "cell_type": "code",
   "execution_count": null,
   "metadata": {
    "ExecuteTime": {
     "end_time": "2018-04-10T18:16:42.005170Z",
     "start_time": "2018-04-10T18:16:42.002161Z"
    },
    "collapsed": true,
    "hidden": true
   },
   "outputs": [],
   "source": [
    "len(subset_df)"
   ]
  },
  {
   "cell_type": "code",
   "execution_count": null,
   "metadata": {
    "ExecuteTime": {
     "end_time": "2018-04-10T18:16:25.583163Z",
     "start_time": "2018-04-10T18:16:25.570128Z"
    },
    "collapsed": true,
    "hidden": true
   },
   "outputs": [],
   "source": [
    "subset_df = joint_df.loc[['BM-01', 'BM-02', 'BM-03', 'BM-05', 'BM-06', 'BM-07', 'BM-09', 'BM-10',\n",
    "       'BM-12', 'BM-19', 'BM-23', 'BM-24', 'BM-26', 'BM-27', 'BM-29', 'BM-30',\n",
    "       'BM-31', 'BM-32', 'BM-36', 'BM-37', 'BM-39', 'PK-02', 'PK-05', 'PK-07',\n",
    "       'PK-08'], [0,1,2,3]]\n",
    "subset_df"
   ]
  },
  {
   "cell_type": "code",
   "execution_count": 119,
   "metadata": {
    "ExecuteTime": {
     "end_time": "2018-04-10T18:16:29.863096Z",
     "start_time": "2018-04-10T18:16:29.858082Z"
    },
    "hidden": true
   },
   "outputs": [
    {
     "data": {
      "text/plain": [
       "array([0.49861879, 0.54283119, 0.60239339, 0.64819033])"
      ]
     },
     "execution_count": 119,
     "metadata": {},
     "output_type": "execute_result"
    }
   ],
   "source": [
    "#subset_df.mean().values\n",
    "subset_df.dropna().mean().values"
   ]
  },
  {
   "cell_type": "code",
   "execution_count": 47,
   "metadata": {
    "ExecuteTime": {
     "end_time": "2018-04-10T17:09:31.099557Z",
     "start_time": "2018-04-10T17:09:31.094546Z"
    },
    "hidden": true
   },
   "outputs": [
    {
     "name": "stdout",
     "output_type": "stream",
     "text": [
      "0.4725199969765699 0.7846028172462818\n"
     ]
    }
   ],
   "source": [
    "print(np.mean(subset_df[150]), np.mean(subset_df[200]))"
   ]
  },
  {
   "cell_type": "code",
   "execution_count": 514,
   "metadata": {
    "ExecuteTime": {
     "end_time": "2018-04-09T22:59:06.956145Z",
     "start_time": "2018-04-09T22:59:06.912028Z"
    },
    "collapsed": true,
    "hidden": true
   },
   "outputs": [],
   "source": [
    "vasc_depo_df.to_excel(writer, \"Vascularization-Deposition\")\n",
    "depo_resp_df.to_excel(writer, \"Deposition-Response\")\n",
    "writer.save()"
   ]
  },
  {
   "cell_type": "code",
   "execution_count": null,
   "metadata": {
    "ExecuteTime": {
     "end_time": "2018-04-09T22:38:50.145544Z",
     "start_time": "2018-04-09T22:38:50.129499Z"
    },
    "collapsed": true,
    "hidden": true
   },
   "outputs": [],
   "source": [
    "vasc_depo_df"
   ]
  },
  {
   "cell_type": "code",
   "execution_count": 515,
   "metadata": {
    "ExecuteTime": {
     "end_time": "2018-04-09T23:01:52.722991Z",
     "start_time": "2018-04-09T23:01:52.719981Z"
    },
    "collapsed": true,
    "hidden": true
   },
   "outputs": [],
   "source": [
    "liplvls=[0,100]#,250,300]#list(range(0,401,10))"
   ]
  },
  {
   "cell_type": "code",
   "execution_count": 516,
   "metadata": {
    "ExecuteTime": {
     "end_time": "2018-04-09T23:01:56.255227Z",
     "start_time": "2018-04-09T23:01:52.723994Z"
    },
    "collapsed": true,
    "hidden": true
   },
   "outputs": [],
   "source": [
    "importlib.reload(lm)\n",
    "vasc_depo_df_binary = pd.DataFrame(columns=liplvls)\n",
    "for patient_id in lipresp_df.index:\n",
    "    vasc_depo_df_binary.loc[patient_id] = lm.vascular_to_deposition(patient_id, target_dir, liplvls, exclude_small=True)"
   ]
  },
  {
   "cell_type": "code",
   "execution_count": 517,
   "metadata": {
    "ExecuteTime": {
     "end_time": "2018-04-09T23:02:00.991907Z",
     "start_time": "2018-04-09T23:01:56.257180Z"
    },
    "collapsed": true,
    "hidden": true
   },
   "outputs": [],
   "source": [
    "depo_resp_df_binary = pd.DataFrame(columns=liplvls)\n",
    "for patient_id in lipresp_df.index:\n",
    "    depo_resp_df_binary.loc[patient_id] = lm.lip_to_response(patient_id, target_dir, liplvls, exclude_small=False)"
   ]
  },
  {
   "cell_type": "code",
   "execution_count": 518,
   "metadata": {
    "ExecuteTime": {
     "end_time": "2018-04-09T23:02:18.152783Z",
     "start_time": "2018-04-09T23:02:18.112537Z"
    },
    "collapsed": true,
    "hidden": true
   },
   "outputs": [],
   "source": [
    "vasc_depo_df_binary.to_excel(writer, \"Vasc-Depo-binary\")\n",
    "depo_resp_df_binary.to_excel(writer, \"Depo-Resp-binary\")\n",
    "writer.save()"
   ]
  },
  {
   "cell_type": "markdown",
   "metadata": {
    "heading_collapsed": true
   },
   "source": [
    "### T-Test"
   ]
  },
  {
   "cell_type": "code",
   "execution_count": 522,
   "metadata": {
    "ExecuteTime": {
     "end_time": "2018-04-09T23:04:51.928867Z",
     "start_time": "2018-04-09T23:04:51.918841Z"
    },
    "hidden": true
   },
   "outputs": [
    {
     "data": {
      "text/plain": [
       "Ttest_1sampResult(statistic=2.3802691829515616, pvalue=0.025971980984010247)"
      ]
     },
     "execution_count": 522,
     "metadata": {},
     "output_type": "execute_result"
    }
   ],
   "source": [
    "scipy.stats.ttest_1samp((vasc_depo_df_binary[100]-vasc_depo_df_binary[0]).dropna(), 0)"
   ]
  },
  {
   "cell_type": "code",
   "execution_count": 523,
   "metadata": {
    "ExecuteTime": {
     "end_time": "2018-04-09T23:05:17.012215Z",
     "start_time": "2018-04-09T23:05:17.007175Z"
    },
    "hidden": true
   },
   "outputs": [
    {
     "data": {
      "text/plain": [
       "Ttest_1sampResult(statistic=2.428121152144739, pvalue=0.024249353783670376)"
      ]
     },
     "execution_count": 523,
     "metadata": {},
     "output_type": "execute_result"
    }
   ],
   "source": [
    "scipy.stats.ttest_1samp((vasc_depo_df[150]-vasc_depo_df[100]).dropna(), 0)"
   ]
  },
  {
   "cell_type": "code",
   "execution_count": 524,
   "metadata": {
    "ExecuteTime": {
     "end_time": "2018-04-09T23:05:21.747378Z",
     "start_time": "2018-04-09T23:05:21.742371Z"
    },
    "hidden": true
   },
   "outputs": [
    {
     "data": {
      "text/plain": [
       "Ttest_1sampResult(statistic=2.7092952234597485, pvalue=0.013907459079104805)"
      ]
     },
     "execution_count": 524,
     "metadata": {},
     "output_type": "execute_result"
    }
   ],
   "source": [
    "scipy.stats.ttest_1samp((vasc_depo_df[200]-vasc_depo_df[150]).dropna(), 0)"
   ]
  },
  {
   "cell_type": "code",
   "execution_count": null,
   "metadata": {
    "collapsed": true,
    "hidden": true
   },
   "outputs": [],
   "source": []
  },
  {
   "cell_type": "code",
   "execution_count": 525,
   "metadata": {
    "ExecuteTime": {
     "end_time": "2018-04-09T23:05:42.626802Z",
     "start_time": "2018-04-09T23:05:42.622791Z"
    },
    "hidden": true
   },
   "outputs": [
    {
     "data": {
      "text/plain": [
       "Ttest_1sampResult(statistic=3.492729013676934, pvalue=0.0015538515664505574)"
      ]
     },
     "execution_count": 525,
     "metadata": {},
     "output_type": "execute_result"
    }
   ],
   "source": [
    "scipy.stats.ttest_1samp((depo_resp_df_binary[100]-depo_resp_df_binary[0]).dropna(), 0)"
   ]
  },
  {
   "cell_type": "code",
   "execution_count": 533,
   "metadata": {
    "ExecuteTime": {
     "end_time": "2018-04-09T23:06:23.880839Z",
     "start_time": "2018-04-09T23:06:23.876829Z"
    },
    "hidden": true
   },
   "outputs": [
    {
     "data": {
      "text/plain": [
       "Ttest_1sampResult(statistic=1.2250109889424856, pvalue=0.2348033858355313)"
      ]
     },
     "execution_count": 533,
     "metadata": {},
     "output_type": "execute_result"
    }
   ],
   "source": [
    "scipy.stats.ttest_1samp((depo_resp_df[150]-depo_resp_df[100]).dropna(), 0)"
   ]
  },
  {
   "cell_type": "code",
   "execution_count": 534,
   "metadata": {
    "ExecuteTime": {
     "end_time": "2018-04-09T23:06:23.961052Z",
     "start_time": "2018-04-09T23:06:23.956040Z"
    },
    "hidden": true
   },
   "outputs": [
    {
     "data": {
      "text/plain": [
       "Ttest_1sampResult(statistic=2.800068905160147, pvalue=0.011421953792365588)"
      ]
     },
     "execution_count": 534,
     "metadata": {},
     "output_type": "execute_result"
    }
   ],
   "source": [
    "scipy.stats.ttest_1samp((depo_resp_df[200]-depo_resp_df[150]).dropna(), 0)"
   ]
  },
  {
   "cell_type": "markdown",
   "metadata": {
    "heading_collapsed": true
   },
   "source": [
    "## Create Ranked DICOMs"
   ]
  },
  {
   "cell_type": "code",
   "execution_count": 412,
   "metadata": {
    "ExecuteTime": {
     "end_time": "2018-04-15T19:25:15.276358Z",
     "start_time": "2018-04-15T19:07:45.899607Z"
    },
    "collapsed": true,
    "hidden": true,
    "scrolled": true
   },
   "outputs": [],
   "source": [
    "importlib.reload(lm)\n",
    "lm.write_ranked_imgs(pattern_df, target_dir, \"lipcoverage_vol%\", \"ct24_path\", join(C.ranking_dir, \"coverage_ranking_ct24\"),\n",
    "                  False, \"ct24_tumor_mask_path\", \"ct\")\n",
    "lm.write_ranked_imgs(pattern_df, target_dir, \"enhancing_vol%\", \"mribl_art_path\", join(C.ranking_dir, \"coverage_ranking_mrbl\"),\n",
    "                  False, \"mribl_tumor_mask_path\")\n",
    "\n",
    "# make pointers instead?\n",
    "lm.write_ranked_imgs(pattern_df, target_dir, \"rim_lipiodol%\", \"ct24_path\", join(C.ranking_dir, \"rim_ranking_ct24\"),\n",
    "                  False, \"ct24_tumor_mask_path\", \"ct\")\n",
    "lm.write_ranked_imgs(pattern_df, target_dir, \"rim_enhancing%\", \"mribl_art_path\", join(C.ranking_dir, \"rim_ranking_mrbl\"),\n",
    "                  False, \"mribl_tumor_mask_path\")"
   ]
  },
  {
   "cell_type": "code",
   "execution_count": 413,
   "metadata": {
    "ExecuteTime": {
     "end_time": "2018-04-15T19:30:54.711731Z",
     "start_time": "2018-04-15T19:25:15.323015Z"
    },
    "collapsed": true,
    "hidden": true
   },
   "outputs": [],
   "source": [
    "lm.write_ranked_imgs(pattern_df, target_dir, \"peripheral_coverage%\", \"ct24_path\", join(C.ranking_dir, \"penumbra_ranking_ct24\"),\n",
    "                  False, \"ct24_tumor_mask_path\", \"ct\")"
   ]
  },
  {
   "cell_type": "code",
   "execution_count": 141,
   "metadata": {
    "ExecuteTime": {
     "end_time": "2018-04-09T02:23:42.999677Z",
     "start_time": "2018-04-09T02:23:42.598917Z"
    },
    "collapsed": true,
    "hidden": true
   },
   "outputs": [],
   "source": [
    "masks.create_dcm_with_masks(ball_ct24_path, [ball_mribl_enh_mask_path, ball_mri30d_enh_mask_path],\n",
    "                            save_dir, overwrite=True, window=\"ct\")"
   ]
  },
  {
   "cell_type": "markdown",
   "metadata": {
    "ExecuteTime": {
     "end_time": "2018-04-06T05:01:11.688839Z",
     "start_time": "2018-04-06T05:01:11.685831Z"
    },
    "heading_collapsed": true
   },
   "source": [
    "## Tumor Mask Screenshots"
   ]
  },
  {
   "cell_type": "code",
   "execution_count": null,
   "metadata": {
    "ExecuteTime": {
     "end_time": "2018-04-12T15:33:32.345316Z",
     "start_time": "2018-04-12T15:32:07.253084Z"
    },
    "collapsed": true,
    "hidden": true
   },
   "outputs": [],
   "source": [
    "importlib.reload(lm)\n",
    "for fn in glob.glob(join(target_dir,\"*\")):\n",
    "    patient_id = basename(fn)\n",
    "    paths = lm.get_paths(patient_id, target_dir)\n",
    "\n",
    "    mask_dir, nii_dir, ct24_path, ct24_tumor_mask_path, ct24_liver_mask_path, \\\n",
    "    mribl_art_path, mribl_pre_path, \\\n",
    "    mribl_tumor_mask_path, mribl_liver_mask_path, \\\n",
    "    mribl_enh_mask_path, mribl_nec_mask_path, \\\n",
    "    mri30d_art_path, mri30d_pre_path, \\\n",
    "    mri30d_tumor_mask_path, mri30d_liver_mask_path, \\\n",
    "    mri30d_enh_mask_path, mri30d_nec_mask_path, \\\n",
    "    ball_ct24_path, ball_mribl_path, ball_mri30d_path, \\\n",
    "    ball_mask_path, ball_mribl_enh_mask_path, ball_mri30d_enh_mask_path, \\\n",
    "    midlip_mask_path, ball_midlip_mask_path, \\\n",
    "    highlip_mask_path, ball_highlip_mask_path = paths\n",
    "\n",
    "    lm.draw_unreg_fig(mribl_art_path, mribl_tumor_mask_path, join(C.png_dir, patient_id, \"BL MR\"), 'b', 'mr')\n",
    "    lm.draw_unreg_fig(mri30d_art_path, mri30d_tumor_mask_path, join(C.png_dir, patient_id, \"30d MR\"), 'r', 'mr')\n",
    "    lm.draw_unreg_fig(ct24_path, ct24_tumor_mask_path, join(C.png_dir, patient_id, \"24h CT\"), 'g', 'ct')"
   ]
  },
  {
   "cell_type": "code",
   "execution_count": null,
   "metadata": {
    "collapsed": true,
    "hidden": true
   },
   "outputs": [],
   "source": [
    "lm.draw_reg_fig(ball_mribl_path, ball_mribl_enh_mask_path, join(C.fig_dir, patient_id, \"MRIBL\"), 'b', 'mr')\n",
    "lm.draw_reg_fig(ball_mri30d_path, ball_mri30d_enh_mask_path, \"D:\\\\Lipiodol\\\\Figures\\\\MRI30d\", 'r', 'mr')\n",
    "lm.draw_reg_fig(ball_ct24_path, ball_highlip_mask_path, \"D:\\\\Lipiodol\\\\Figures\\\\Lip\", 'g', 'ct')"
   ]
  },
  {
   "cell_type": "code",
   "execution_count": null,
   "metadata": {
    "ExecuteTime": {
     "end_time": "2018-04-06T15:09:57.976409Z",
     "start_time": "2018-04-06T15:09:56.957128Z"
    },
    "collapsed": true,
    "hidden": true
   },
   "outputs": [],
   "source": [
    "# Figure for 24h CT\n",
    "img,_ = hf.nii_load(ball_ct24_path)\n",
    "blmask,_ = masks.get_mask(ball_mribl_enh_mask_path)\n",
    "fumask,_ = masks.get_mask(ball_mri30d_enh_mask_path)\n",
    "\n",
    "for sl in range(img.shape[-1]//4,img.shape[-1]*3//4,img.shape[-1]//12):\n",
    "    plt.close()\n",
    "    plt.imshow(img[...,sl], cmap='gray', vmin=30, vmax=250)\n",
    "    FU=plt.contour(fumask[:,:,sl], colors='r', alpha=.4)\n",
    "    plt.contour(blmask[:,:,sl], colors='b', alpha=.4)\n",
    "    plt.contourf(fumask[:,:,sl], colors=[(0,0,0,0)]*6+[(1,0,0,.2)]) #look at the length of FU.allsegs\n",
    "    plt.contourf(blmask[:,:,sl], colors=[(0,0,0,0)]*6+[(0,0,1,.2)])\n",
    "    plt.axis('off')\n",
    "    plt.savefig(\"D:\\\\Lipiodol\\\\Figures\\\\24hCT_%d.png\" % sl, dpi=100, bbox_inches='tight')"
   ]
  },
  {
   "cell_type": "markdown",
   "metadata": {
    "heading_collapsed": true,
    "hidden": true
   },
   "source": [
    "### DICOMs for HU threshold validation"
   ]
  },
  {
   "cell_type": "code",
   "execution_count": 381,
   "metadata": {
    "ExecuteTime": {
     "end_time": "2018-04-14T21:35:40.337922Z",
     "start_time": "2018-04-14T21:31:34.790586Z"
    },
    "hidden": true
   },
   "outputs": [],
   "source": [
    "importlib.reload(masks)\n",
    "for fn in glob.glob(join(target_dir,\"*\")):\n",
    "    patient_id = basename(fn)\n",
    "    paths = lm.get_paths(patient_id, target_dir)\n",
    "\n",
    "    mask_dir, nii_dir, ct24_path, ct24_tumor_mask_path, ct24_liver_mask_path, \\\n",
    "    mribl_art_path, mribl_pre_path, \\\n",
    "    mribl_tumor_mask_path, mribl_liver_mask_path, \\\n",
    "    mribl_enh_mask_path, mribl_nec_mask_path, \\\n",
    "    mri30d_art_path, mri30d_pre_path, \\\n",
    "    mri30d_tumor_mask_path, mri30d_liver_mask_path, \\\n",
    "    mri30d_enh_mask_path, mri30d_nec_mask_path, \\\n",
    "    ball_ct24_path, ball_mribl_path, ball_mri30d_path, \\\n",
    "    ball_mask_path, ball_mribl_enh_mask_path, ball_mri30d_enh_mask_path, \\\n",
    "    midlip_mask_path, ball_midlip_mask_path, \\\n",
    "    highlip_mask_path, ball_highlip_mask_path = paths\n",
    "    lowlip_mask_path = join(mask_dir, \"low_lipiodol\")\n",
    "\n",
    "    masks.create_dcm_with_multimask(ct24_path, [highlip_mask_path, midlip_mask_path, lowlip_mask_path],\n",
    "                                    join(C.fig_dir, \"HU threshold validation\", patient_id), overwrite=True, padding=0, window=\"ct\")"
   ]
  },
  {
   "cell_type": "markdown",
   "metadata": {
    "heading_collapsed": true,
    "hidden": true
   },
   "source": [
    "### Binary masks for sphering figure"
   ]
  },
  {
   "cell_type": "code",
   "execution_count": null,
   "metadata": {
    "ExecuteTime": {
     "end_time": "2018-04-14T22:13:36.929832Z",
     "start_time": "2018-04-14T22:11:41.386701Z"
    },
    "collapsed": true,
    "hidden": true
   },
   "outputs": [],
   "source": [
    "importlib.reload(hf)\n",
    "liver_dir = join(C.fig_dir, \"sphering figure\", \"liver binary mask\")\n",
    "tumor_dir = join(C.fig_dir, \"sphering figure\", \"tumor binary mask\")\n",
    "if not exists(liver_dir):\n",
    "    os.makedirs(liver_dir)\n",
    "if not exists(tumor_dir):\n",
    "    os.makedirs(tumor_dir)\n",
    "                \n",
    "for fn in glob.glob(join(target_dir,\"*\")):\n",
    "    patient_id = basename(fn)\n",
    "    paths = lm.get_paths(patient_id, target_dir)\n",
    "\n",
    "    mask_dir, nii_dir, ct24_path, ct24_tumor_mask_path, ct24_liver_mask_path, \\\n",
    "    mribl_art_path, mribl_pre_path, \\\n",
    "    mribl_tumor_mask_path, mribl_liver_mask_path, \\\n",
    "    mribl_enh_mask_path, mribl_nec_mask_path, \\\n",
    "    mri30d_art_path, mri30d_pre_path, \\\n",
    "    mri30d_tumor_mask_path, mri30d_liver_mask_path, \\\n",
    "    mri30d_enh_mask_path, mri30d_nec_mask_path, \\\n",
    "    ball_ct24_path, ball_mribl_path, ball_mri30d_path, \\\n",
    "    ball_mask_path, ball_mribl_enh_mask_path, ball_mri30d_enh_mask_path, \\\n",
    "    midlip_mask_path, ball_midlip_mask_path, \\\n",
    "    highlip_mask_path, ball_highlip_mask_path = paths\n",
    "    \n",
    "    if False:\n",
    "        M = hf.crop_nonzero(masks.get_mask(mribl_liver_mask_path)[0], pad=5)[0]\n",
    "        plt.imshow(M[:,:,M.shape[-1]//2], cmap='gray')\n",
    "        plt.axis('off')\n",
    "        plt.savefig(join(liver_dir, \"%s_BLMR.png\" % patient_id), dpi=100, bbox_inches='tight')\n",
    "\n",
    "        M = hf.crop_nonzero(masks.get_mask(ct24_liver_mask_path)[0], pad=5)[0]\n",
    "        plt.imshow(M[:,:,M.shape[-1]//2], cmap='gray')\n",
    "        plt.axis('off')\n",
    "        plt.savefig(join(liver_dir, \"%s_24hCT.png\" % patient_id), dpi=100, bbox_inches='tight')\n",
    "\n",
    "        M = hf.crop_nonzero(masks.get_mask(mri30d_liver_mask_path)[0], pad=5)[0]\n",
    "        plt.imshow(M[:,:,M.shape[-1]//2], cmap='gray')\n",
    "        plt.axis('off')\n",
    "        plt.savefig(join(liver_dir, \"%s_30dMR.png\" % patient_id), dpi=100, bbox_inches='tight')\n",
    "\n",
    "    M = hf.crop_nonzero(masks.get_mask(mribl_tumor_mask_path)[0], pad=5)[0]\n",
    "    plt.imshow(M[:,:,M.shape[-1]//2], cmap='gray')\n",
    "    plt.axis('off')\n",
    "    plt.savefig(join(tumor_dir, \"%s_BLMR.png\" % patient_id), dpi=100, bbox_inches='tight')\n",
    "                \n",
    "    M = hf.crop_nonzero(masks.get_mask(ct24_tumor_mask_path)[0], pad=5)[0]\n",
    "    plt.imshow(M[:,:,M.shape[-1]//2], cmap='gray')\n",
    "    plt.axis('off')\n",
    "    plt.savefig(join(tumor_dir, \"%s_24hCT.png\" % patient_id), dpi=100, bbox_inches='tight')\n",
    "\n",
    "    M = hf.crop_nonzero(masks.get_mask(mri30d_tumor_mask_path)[0], pad=5)[0]\n",
    "    plt.imshow(M[:,:,M.shape[-1]//2], cmap='gray')\n",
    "    plt.axis('off')\n",
    "    plt.savefig(join(tumor_dir, \"%s_30dMR.png\" % patient_id), dpi=100, bbox_inches='tight')"
   ]
  },
  {
   "cell_type": "code",
   "execution_count": null,
   "metadata": {
    "collapsed": true,
    "hidden": true
   },
   "outputs": [],
   "source": [
    "importlib.reload(hf)\n",
    "liver_dir = join(C.fig_dir, \"sphering figure\", \"liver with mask\")\n",
    "tumor_dir = join(C.fig_dir, \"sphering figure\", \"tumor with mask\")\n",
    "if not exists(liver_dir):\n",
    "    os.makedirs(liver_dir)\n",
    "if not exists(tumor_dir):\n",
    "    os.makedirs(tumor_dir)\n",
    "                \n",
    "for fn in glob.glob(join(target_dir,\"*\")):\n",
    "    patient_id = basename(fn)\n",
    "    paths = lm.get_paths(patient_id, target_dir)\n",
    "\n",
    "    mask_dir, nii_dir, ct24_path, ct24_tumor_mask_path, ct24_liver_mask_path, \\\n",
    "    mribl_art_path, mribl_pre_path, \\\n",
    "    mribl_tumor_mask_path, mribl_liver_mask_path, \\\n",
    "    mribl_enh_mask_path, mribl_nec_mask_path, \\\n",
    "    mri30d_art_path, mri30d_pre_path, \\\n",
    "    mri30d_tumor_mask_path, mri30d_liver_mask_path, \\\n",
    "    mri30d_enh_mask_path, mri30d_nec_mask_path, \\\n",
    "    ball_ct24_path, ball_mribl_path, ball_mri30d_path, \\\n",
    "    ball_mask_path, ball_mribl_enh_mask_path, ball_mri30d_enh_mask_path, \\\n",
    "    midlip_mask_path, ball_midlip_mask_path, \\\n",
    "    highlip_mask_path, ball_highlip_mask_path = paths\n",
    "    \n",
    "    M = hf.crop_nonzero(masks.get_mask(mribl_liver_mask_path)[0], pad=5)[0]\n",
    "    plt.imshow(M[:,:,M.shape[-1]//2], cmap='gray')\n",
    "    plt.axis('off')\n",
    "    plt.savefig(join(liver_dir, \"%s_BLMR.png\" % patient_id), dpi=100, bbox_inches='tight')\n",
    "\n",
    "    M = hf.crop_nonzero(masks.get_mask(ct24_liver_mask_path)[0], pad=5)[0]\n",
    "    plt.imshow(M[:,:,M.shape[-1]//2], cmap='gray')\n",
    "    plt.axis('off')\n",
    "    plt.savefig(join(liver_dir, \"%s_24hCT.png\" % patient_id), dpi=100, bbox_inches='tight')\n",
    "\n",
    "    M = hf.crop_nonzero(masks.get_mask(mri30d_liver_mask_path)[0], pad=5)[0]\n",
    "    plt.imshow(M[:,:,M.shape[-1]//2], cmap='gray')\n",
    "    plt.axis('off')\n",
    "    plt.savefig(join(liver_dir, \"%s_30dMR.png\" % patient_id), dpi=100, bbox_inches='tight')\n",
    "\n",
    "    M = hf.crop_nonzero(masks.get_mask(mribl_tumor_mask_path)[0], pad=5)[0]\n",
    "    plt.imshow(M[:,:,M.shape[-1]//2], cmap='gray')\n",
    "    plt.axis('off')\n",
    "    plt.savefig(join(tumor_dir, \"%s_BLMR.png\" % patient_id), dpi=100, bbox_inches='tight')\n",
    "                \n",
    "    M = hf.crop_nonzero(masks.get_mask(ct24_tumor_mask_path)[0], pad=5)[0]\n",
    "    plt.imshow(M[:,:,M.shape[-1]//2], cmap='gray')\n",
    "    plt.axis('off')\n",
    "    plt.savefig(join(tumor_dir, \"%s_24hCT.png\" % patient_id), dpi=100, bbox_inches='tight')\n",
    "\n",
    "    M = hf.crop_nonzero(masks.get_mask(mri30d_tumor_mask_path)[0], pad=5)[0]\n",
    "    plt.imshow(M[:,:,M.shape[-1]//2], cmap='gray')\n",
    "    plt.axis('off')\n",
    "    plt.savefig(join(tumor_dir, \"%s_30dMR.png\" % patient_id), dpi=100, bbox_inches='tight')"
   ]
  },
  {
   "cell_type": "code",
   "execution_count": null,
   "metadata": {
    "ExecuteTime": {
     "end_time": "2018-04-15T00:24:45.209030Z",
     "start_time": "2018-04-15T00:24:44.976228Z"
    },
    "collapsed": true,
    "hidden": true
   },
   "outputs": [],
   "source": [
    "M = hf.crop_nonzero(masks.get_mask(ball_mask_path)[0], pad=5)[0]\n",
    "plt.imshow(M[:,:,M.shape[-1]//2+40], cmap='gray')\n",
    "plt.axis('off')\n",
    "plt.savefig(\"D:\\\\ball.png\", dpi=100, bbox_inches='tight')"
   ]
  },
  {
   "cell_type": "markdown",
   "metadata": {
    "heading_collapsed": true
   },
   "source": [
    "## Extra"
   ]
  },
  {
   "cell_type": "markdown",
   "metadata": {
    "hidden": true
   },
   "source": [
    "IVs = get_intensity_section(ball_ct24_path, ball_mask_path, params)\n",
    "            if highest_I_V < I_V:\n",
    "                best_params = params\n",
    "                highest_I_V = I_V\n",
    "                print(best_params)\n",
    "theta1_best, phi1_best, dtheta_best, dz_best = best_params"
   ]
  },
  {
   "cell_type": "code",
   "execution_count": null,
   "metadata": {
    "ExecuteTime": {
     "end_time": "2018-04-05T22:22:47.402911Z",
     "start_time": "2018-04-05T22:22:47.378848Z"
    },
    "collapsed": true,
    "hidden": true
   },
   "outputs": [],
   "source": [
    "ball_IV = get_avg_ball_intensity(ball_ct24_path, ball_mask_path)\n",
    "core_IV = get_avg_core_intensity(ball_ct24_path, ball_mask_path)"
   ]
  },
  {
   "cell_type": "code",
   "execution_count": 303,
   "metadata": {
    "ExecuteTime": {
     "end_time": "2018-04-06T01:56:56.770027Z",
     "start_time": "2018-04-06T01:56:56.766015Z"
    },
    "hidden": true
   },
   "outputs": [
    {
     "data": {
      "text/plain": [
       "(197.83461276161094, 209.89937589866474)"
      ]
     },
     "execution_count": 303,
     "metadata": {},
     "output_type": "execute_result"
    }
   ],
   "source": [
    "ball_IV, core_IV"
   ]
  },
  {
   "cell_type": "code",
   "execution_count": null,
   "metadata": {
    "ExecuteTime": {
     "end_time": "2018-04-06T02:25:17.074399Z",
     "start_time": "2018-04-06T02:25:15.865084Z"
    },
    "collapsed": true,
    "hidden": true
   },
   "outputs": [],
   "source": [
    "importlib.reload(lm)\n",
    "IVs = lm.calc_intensity_shells_angles(hf.nii_load(ball_ct24_path)[0], ball_mask_path)\n",
    "IVs[IVs==0] = np.nan\n",
    "\n",
    "samples = lm.fibonacci_sphere(2500, True, randomize=True)\n",
    "samples = np.round(samples).astype(int)\n",
    "s0 = samples[:,0]\n",
    "s1 = samples[:,1]\n",
    "for i in range(IVs.shape[-1]):\n",
    "    print(np.nanmean(IVs[s0,s1,i]))"
   ]
  },
  {
   "cell_type": "code",
   "execution_count": 388,
   "metadata": {
    "ExecuteTime": {
     "end_time": "2018-04-06T03:41:24.387987Z",
     "start_time": "2018-04-06T03:41:24.373950Z"
    },
    "collapsed": true,
    "hidden": true
   },
   "outputs": [],
   "source": [
    "loopIVs = np.tile(IVs[:-1,:-1,:], (2,2,1))\n",
    "loopIVs[180:,:,:] = np.nan"
   ]
  },
  {
   "cell_type": "code",
   "execution_count": null,
   "metadata": {
    "ExecuteTime": {
     "end_time": "2018-04-06T04:07:35.800850Z",
     "start_time": "2018-04-06T04:07:28.305059Z"
    },
    "collapsed": true,
    "hidden": true
   },
   "outputs": [],
   "source": [
    "for dtheta in range(30,180,20):\n",
    "    print(dtheta)\n",
    "    best_IV = core_IV\n",
    "    worst_IV = core_IV\n",
    "    for theta in range(0,180,20):\n",
    "        for phi in range(180,480,20):\n",
    "            for shell1 in range(4):\n",
    "                for shell2 in range(shell1+1,5):\n",
    "                    IV = np.nanmean(loopIVs[max(theta-dtheta,0) : theta+dtheta, phi-dtheta : phi+dtheta, shell1:shell2])\n",
    "                    params = theta, phi % 360, shell1, shell2\n",
    "                    if best_IV < IV:\n",
    "                        best_params = params\n",
    "                        best_IV = IV\n",
    "                        \n",
    "            IV = np.nanmean(loopIVs[max(theta-dtheta,0) : theta+dtheta, phi-dtheta : phi+dtheta, :5])\n",
    "            params = theta, phi % 360\n",
    "            if worst_IV > IV:\n",
    "                worst_params = params\n",
    "                worst_IV = IV\n",
    "                \n",
    "    print(best_params, round(best_IV,1))\n",
    "    print(worst_params, round(worst_IV,1))"
   ]
  },
  {
   "cell_type": "code",
   "execution_count": null,
   "metadata": {
    "ExecuteTime": {
     "end_time": "2018-04-06T04:14:42.190274Z",
     "start_time": "2018-04-06T04:14:40.506330Z"
    },
    "collapsed": true,
    "hidden": true
   },
   "outputs": [],
   "source": [
    "importlib.reload(lm)\n",
    "enhmask_density = lm.calc_intensity_shells_angles(masks.get_mask(ball_mribl_enh_mask_path)[0]+1, ball_mask_path)\n",
    "\n",
    "enhmask_density = enhmask_density[...,:5]\n",
    "enhmask_density[enhmask_density==0] = np.nan\n",
    "\n",
    "samples = fibonacci_sphere(2500, True, randomize=True)\n",
    "samples = np.round(samples).astype(int)\n",
    "s0 = samples[:,0]\n",
    "s1 = samples[:,1]\n",
    "for i in range(enhmask_density.shape[-1]):\n",
    "    print(np.nanmean(enhmask_density[s0,s1,i]))"
   ]
  },
  {
   "cell_type": "code",
   "execution_count": null,
   "metadata": {
    "ExecuteTime": {
     "end_time": "2018-04-06T04:15:33.357552Z",
     "start_time": "2018-04-06T04:15:31.657137Z"
    },
    "collapsed": true,
    "hidden": true
   },
   "outputs": [],
   "source": [
    "importlib.reload(lm)\n",
    "enhmask_density = lm.calc_intensity_shells_angles(masks.get_mask(ball_mri30d_enh_mask_path)[0]+1, ball_mask_path)\n",
    "\n",
    "enhmask_density = enhmask_density[...,:5]\n",
    "enhmask_density[enhmask_density==0] = np.nan\n",
    "\n",
    "samples = fibonacci_sphere(2500, True, randomize=True)\n",
    "samples = np.round(samples).astype(int)\n",
    "s0 = samples[:,0]\n",
    "s1 = samples[:,1]\n",
    "for i in range(enhmask_density.shape[-1]):\n",
    "    print(np.nanmean(enhmask_density[s0,s1,i]))"
   ]
  },
  {
   "cell_type": "code",
   "execution_count": null,
   "metadata": {
    "ExecuteTime": {
     "end_time": "2018-04-06T04:03:49.971534Z",
     "start_time": "2018-04-06T04:03:49.958472Z"
    },
    "collapsed": true,
    "hidden": true
   },
   "outputs": [],
   "source": [
    "for i in range(enhmask_density.shape[-1]):\n",
    "    print(np.nanmean(enhmask_density[s0,s1,i]))"
   ]
  },
  {
   "cell_type": "code",
   "execution_count": null,
   "metadata": {
    "collapsed": true,
    "hidden": true
   },
   "outputs": [],
   "source": [
    "enhmask_density ="
   ]
  },
  {
   "cell_type": "code",
   "execution_count": null,
   "metadata": {
    "collapsed": true,
    "hidden": true
   },
   "outputs": [],
   "source": [
    "conv_rate = np.zeros((181,360))"
   ]
  }
 ],
 "metadata": {
  "kernelspec": {
   "display_name": "Python 3",
   "language": "python",
   "name": "python3"
  },
  "varInspector": {
   "cols": {
    "lenName": 16,
    "lenType": 16,
    "lenVar": 40
   },
   "kernels_config": {
    "python": {
     "delete_cmd_postfix": "",
     "delete_cmd_prefix": "del ",
     "library": "var_list.py",
     "varRefreshCmd": "print(var_dic_list())"
    },
    "r": {
     "delete_cmd_postfix": ") ",
     "delete_cmd_prefix": "rm(",
     "library": "var_list.r",
     "varRefreshCmd": "cat(var_dic_list()) "
    }
   },
   "types_to_exclude": [
    "module",
    "function",
    "builtin_function_or_method",
    "instance",
    "_Feature"
   ],
   "window_display": false
  }
 },
 "nbformat": 4,
 "nbformat_minor": 2
}
