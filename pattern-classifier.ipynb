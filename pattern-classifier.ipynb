{
 "cells": [
  {
   "cell_type": "markdown",
   "metadata": {
    "heading_collapsed": true
   },
   "source": [
    "## Imports"
   ]
  },
  {
   "cell_type": "code",
   "execution_count": 20,
   "metadata": {
    "ExecuteTime": {
     "end_time": "2018-04-08T18:44:41.405272Z",
     "start_time": "2018-04-08T18:44:41.382239Z"
    },
    "hidden": true
   },
   "outputs": [],
   "source": [
    "import copy\n",
    "import glob\n",
    "import importlib\n",
    "import math\n",
    "import os\n",
    "import random\n",
    "import shutil\n",
    "import sys\n",
    "from math import degrees, pi, radians\n",
    "from os.path import *\n",
    "\n",
    "import keras\n",
    "import mahotas.features as mah\n",
    "import matplotlib.pyplot as plt\n",
    "import numpy as np\n",
    "import pandas as pd\n",
    "import SimpleITK as sitk\n",
    "import skimage.feature as skf\n",
    "from skimage.morphology import ball\n",
    "\n",
    "import cnn_builder as cbuild\n",
    "import config\n",
    "import lipiodol_methods as lm\n",
    "import niftiutils.helper_fxns as hf\n",
    "import niftiutils.liver_metrics as lmet\n",
    "import niftiutils.masks as masks\n",
    "import niftiutils.registration as reg\n",
    "import niftiutils.transforms as tr\n",
    "from config import Config\n",
    "\n",
    "%matplotlib inline"
   ]
  },
  {
   "cell_type": "code",
   "execution_count": 3,
   "metadata": {
    "ExecuteTime": {
     "end_time": "2018-04-08T18:19:51.677318Z",
     "start_time": "2018-04-08T18:19:51.673294Z"
    },
    "collapsed": true,
    "hidden": true,
    "scrolled": true
   },
   "outputs": [],
   "source": [
    "importlib.reload(hf)\n",
    "C = config.Config()"
   ]
  },
  {
   "cell_type": "code",
   "execution_count": 4,
   "metadata": {
    "ExecuteTime": {
     "end_time": "2018-04-08T18:19:51.694350Z",
     "start_time": "2018-04-08T18:19:51.690340Z"
    },
    "collapsed": true,
    "hidden": true
   },
   "outputs": [],
   "source": [
    "img_dir = \"D:\\\\Lipiodol\\\\Images all\"\n",
    "seg_dir = \"D:\\\\Lipiodol\\\\Images extracted and segmentations\"\n",
    "target_dir = \"D:\\\\Lipiodol\\\\Data\""
   ]
  },
  {
   "cell_type": "markdown",
   "metadata": {
    "collapsed": true
   },
   "source": [
    "## Pattern analysis"
   ]
  },
  {
   "cell_type": "code",
   "execution_count": null,
   "metadata": {
    "collapsed": true
   },
   "outputs": [],
   "source": [
    "(PK2 image)"
   ]
  },
  {
   "cell_type": "code",
   "execution_count": null,
   "metadata": {
    "collapsed": true
   },
   "outputs": [],
   "source": [
    "patient_id = \"BM-05\"\n",
    "importlib.reload(lm)\n",
    "paths = lm.get_paths(patient_id, target_dir, check_valid=False)\n",
    "\n",
    "mask_dir, nii_dir, ct24_path, ct24_tumor_mask_path, ct24_liver_mask_path, \\\n",
    "mribl_art_path, mribl_pre_path, \\\n",
    "mribl_tumor_mask_path, mribl_liver_mask_path, \\\n",
    "mribl_enh_mask_path, mribl_nec_mask_path, \\\n",
    "mri30d_art_path, mri30d_pre_path, \\\n",
    "mri30d_tumor_mask_path, mri30d_liver_mask_path, \\\n",
    "mri30d_enh_mask_path, mri30d_nec_mask_path, \\\n",
    "ball_ct24_path, ball_mribl_path, ball_mri30d_path, \\\n",
    "ball_mask_path, ball_mribl_enh_mask_path, ball_mri30d_enh_mask_path, \\\n",
    "midlip_mask_path, ball_midlip_mask_path, \\\n",
    "highlip_mask_path, ball_highlip_mask_path = paths"
   ]
  },
  {
   "cell_type": "markdown",
   "metadata": {},
   "source": [
    "### Build DataFrame"
   ]
  },
  {
   "cell_type": "code",
   "execution_count": 5,
   "metadata": {
    "ExecuteTime": {
     "end_time": "2018-04-08T18:19:54.460305Z",
     "start_time": "2018-04-08T18:19:54.456269Z"
    }
   },
   "outputs": [],
   "source": [
    "df = pd.DataFrame(columns=[\"PatientId\", \"enhancing_vol%\", \"lipcoverage_vol%\",\n",
    "                           \"rim_enhancing%\", \"rim_lipiodol%\",\n",
    "                           \"mribl_sum_entropy\", \"mribl_entropy\", \"mribl_diff_entropy\",\n",
    "                           \"midlip_sum_entropy\", \"midlip_entropy\", \"midlip_diff_entropy\"])"
   ]
  },
  {
   "cell_type": "code",
   "execution_count": 22,
   "metadata": {
    "ExecuteTime": {
     "end_time": "2018-04-08T18:45:06.824500Z",
     "start_time": "2018-04-08T18:45:06.790410Z"
    }
   },
   "outputs": [
    {
     "name": "stdout",
     "output_type": "stream",
     "text": [
      "BM-02\n"
     ]
    },
    {
     "ename": "IndexError",
     "evalue": "boolean index did not match indexed array along dimension 2; dimension is 1 but corresponding boolean dimension is 59",
     "output_type": "error",
     "traceback": [
      "\u001b[1;31m---------------------------------------------------------------------------\u001b[0m",
      "\u001b[1;31mIndexError\u001b[0m                                Traceback (most recent call last)",
      "\u001b[1;32m<ipython-input-22-55dcfb298ab2>\u001b[0m in \u001b[0;36m<module>\u001b[1;34m()\u001b[0m\n\u001b[0;32m      6\u001b[0m     \u001b[0mmask_dir\u001b[0m\u001b[1;33m,\u001b[0m \u001b[0mnii_dir\u001b[0m\u001b[1;33m,\u001b[0m \u001b[0mct24_path\u001b[0m\u001b[1;33m,\u001b[0m \u001b[0mct24_tumor_mask_path\u001b[0m\u001b[1;33m,\u001b[0m \u001b[0mct24_liver_mask_path\u001b[0m\u001b[1;33m,\u001b[0m     \u001b[0mmribl_art_path\u001b[0m\u001b[1;33m,\u001b[0m \u001b[0mmribl_pre_path\u001b[0m\u001b[1;33m,\u001b[0m     \u001b[0mmribl_tumor_mask_path\u001b[0m\u001b[1;33m,\u001b[0m \u001b[0mmribl_liver_mask_path\u001b[0m\u001b[1;33m,\u001b[0m     \u001b[0mmribl_enh_mask_path\u001b[0m\u001b[1;33m,\u001b[0m \u001b[0mmribl_nec_mask_path\u001b[0m\u001b[1;33m,\u001b[0m     \u001b[0mmri30d_art_path\u001b[0m\u001b[1;33m,\u001b[0m \u001b[0mmri30d_pre_path\u001b[0m\u001b[1;33m,\u001b[0m     \u001b[0mmri30d_tumor_mask_path\u001b[0m\u001b[1;33m,\u001b[0m \u001b[0mmri30d_liver_mask_path\u001b[0m\u001b[1;33m,\u001b[0m     \u001b[0mmri30d_enh_mask_path\u001b[0m\u001b[1;33m,\u001b[0m \u001b[0mmri30d_nec_mask_path\u001b[0m\u001b[1;33m,\u001b[0m     \u001b[0mball_ct24_path\u001b[0m\u001b[1;33m,\u001b[0m \u001b[0mball_mribl_path\u001b[0m\u001b[1;33m,\u001b[0m \u001b[0mball_mri30d_path\u001b[0m\u001b[1;33m,\u001b[0m     \u001b[0mball_mask_path\u001b[0m\u001b[1;33m,\u001b[0m \u001b[0mball_mribl_enh_mask_path\u001b[0m\u001b[1;33m,\u001b[0m \u001b[0mball_mri30d_enh_mask_path\u001b[0m\u001b[1;33m,\u001b[0m     \u001b[0mmidlip_mask_path\u001b[0m\u001b[1;33m,\u001b[0m \u001b[0mball_midlip_mask_path\u001b[0m\u001b[1;33m,\u001b[0m     \u001b[0mhighlip_mask_path\u001b[0m\u001b[1;33m,\u001b[0m \u001b[0mball_highlip_mask_path\u001b[0m \u001b[1;33m=\u001b[0m \u001b[0mpaths\u001b[0m\u001b[1;33m\u001b[0m\u001b[0m\n\u001b[0;32m      7\u001b[0m \u001b[1;33m\u001b[0m\u001b[0m\n\u001b[1;32m----> 8\u001b[1;33m     \u001b[0mdf\u001b[0m\u001b[1;33m.\u001b[0m\u001b[0mloc\u001b[0m\u001b[1;33m[\u001b[0m\u001b[0mpatient_id\u001b[0m\u001b[1;33m]\u001b[0m \u001b[1;33m=\u001b[0m \u001b[0mget_row\u001b[0m\u001b[1;33m(\u001b[0m\u001b[1;33m)\u001b[0m\u001b[1;33m\u001b[0m\u001b[0m\n\u001b[0m",
      "\u001b[1;32m<ipython-input-10-04310a6428f6>\u001b[0m in \u001b[0;36mget_row\u001b[1;34m()\u001b[0m\n\u001b[0;32m      3\u001b[0m     \u001b[0mrow\u001b[0m \u001b[1;33m=\u001b[0m \u001b[0mget_vol_coverage\u001b[0m\u001b[1;33m(\u001b[0m\u001b[0mrow\u001b[0m\u001b[1;33m)\u001b[0m\u001b[1;33m\u001b[0m\u001b[0m\n\u001b[0;32m      4\u001b[0m \u001b[1;33m\u001b[0m\u001b[0m\n\u001b[1;32m----> 5\u001b[1;33m     \u001b[0mball_IV\u001b[0m \u001b[1;33m=\u001b[0m \u001b[0mlm\u001b[0m\u001b[1;33m.\u001b[0m\u001b[0mget_avg_ball_intensity\u001b[0m\u001b[1;33m(\u001b[0m\u001b[0mball_ct24_path\u001b[0m\u001b[1;33m,\u001b[0m \u001b[0mball_mask_path\u001b[0m\u001b[1;33m)\u001b[0m\u001b[1;33m\u001b[0m\u001b[0m\n\u001b[0m\u001b[0;32m      6\u001b[0m     \u001b[0mcore_IV\u001b[0m \u001b[1;33m=\u001b[0m \u001b[0mlm\u001b[0m\u001b[1;33m.\u001b[0m\u001b[0mget_avg_core_intensity\u001b[0m\u001b[1;33m(\u001b[0m\u001b[0mball_ct24_path\u001b[0m\u001b[1;33m,\u001b[0m \u001b[0mball_mask_path\u001b[0m\u001b[1;33m)\u001b[0m\u001b[1;33m\u001b[0m\u001b[0m\n\u001b[0;32m      7\u001b[0m     \u001b[0mrow\u001b[0m \u001b[1;33m=\u001b[0m \u001b[0mget_rim_coverage\u001b[0m\u001b[1;33m(\u001b[0m\u001b[0mrow\u001b[0m\u001b[1;33m,\u001b[0m \u001b[0mhf\u001b[0m\u001b[1;33m.\u001b[0m\u001b[0mnii_load\u001b[0m\u001b[1;33m(\u001b[0m\u001b[0mball_ct24_path\u001b[0m\u001b[1;33m)\u001b[0m\u001b[1;33m[\u001b[0m\u001b[1;36m0\u001b[0m\u001b[1;33m]\u001b[0m\u001b[1;33m,\u001b[0m \u001b[0mcore_IV\u001b[0m\u001b[1;33m)\u001b[0m\u001b[1;33m\u001b[0m\u001b[0m\n",
      "\u001b[1;32m~\\Documents\\Lipiodol\\lipiodol_methods.py\u001b[0m in \u001b[0;36mget_avg_ball_intensity\u001b[1;34m(reg_img_path, ball_mask_path)\u001b[0m\n\u001b[0;32m    357\u001b[0m         \u001b[0mR\u001b[0m \u001b[1;33m=\u001b[0m \u001b[1;33m(\u001b[0m\u001b[0mnonzeros\u001b[0m\u001b[1;33m[\u001b[0m\u001b[1;33m:\u001b[0m\u001b[1;33m,\u001b[0m\u001b[1;36m0\u001b[0m\u001b[1;33m]\u001b[0m\u001b[1;33m.\u001b[0m\u001b[0mmax\u001b[0m\u001b[1;33m(\u001b[0m\u001b[1;33m)\u001b[0m \u001b[1;33m-\u001b[0m \u001b[0mnonzeros\u001b[0m\u001b[1;33m[\u001b[0m\u001b[1;33m:\u001b[0m\u001b[1;33m,\u001b[0m\u001b[1;36m0\u001b[0m\u001b[1;33m]\u001b[0m\u001b[1;33m.\u001b[0m\u001b[0mmin\u001b[0m\u001b[1;33m(\u001b[0m\u001b[1;33m)\u001b[0m\u001b[1;33m)\u001b[0m \u001b[1;33m/\u001b[0m \u001b[1;36m2\u001b[0m\u001b[1;33m\u001b[0m\u001b[0m\n\u001b[0;32m    358\u001b[0m         \u001b[0mm\u001b[0m \u001b[1;33m=\u001b[0m \u001b[0mball\u001b[0m\u001b[1;33m.\u001b[0m\u001b[0mshape\u001b[0m\u001b[1;33m[\u001b[0m\u001b[1;36m0\u001b[0m\u001b[1;33m]\u001b[0m\u001b[1;33m//\u001b[0m\u001b[1;36m2\u001b[0m\u001b[1;33m\u001b[0m\u001b[0m\n\u001b[1;32m--> 359\u001b[1;33m         \u001b[0mimg\u001b[0m\u001b[1;33m[\u001b[0m\u001b[0mball\u001b[0m \u001b[1;33m==\u001b[0m \u001b[1;36m0\u001b[0m\u001b[1;33m]\u001b[0m \u001b[1;33m=\u001b[0m \u001b[0mnp\u001b[0m\u001b[1;33m.\u001b[0m\u001b[0mnan\u001b[0m\u001b[1;33m\u001b[0m\u001b[0m\n\u001b[0m\u001b[0;32m    360\u001b[0m         \u001b[0mV\u001b[0m \u001b[1;33m=\u001b[0m \u001b[0mball\u001b[0m\u001b[1;33m.\u001b[0m\u001b[0msum\u001b[0m\u001b[1;33m(\u001b[0m\u001b[1;33m)\u001b[0m\u001b[1;33m\u001b[0m\u001b[0m\n\u001b[0;32m    361\u001b[0m         \u001b[0mI\u001b[0m \u001b[1;33m=\u001b[0m \u001b[0mnp\u001b[0m\u001b[1;33m.\u001b[0m\u001b[0mnansum\u001b[0m\u001b[1;33m(\u001b[0m\u001b[0mimg\u001b[0m\u001b[1;33m)\u001b[0m\u001b[1;33m\u001b[0m\u001b[0m\n",
      "\u001b[1;31mIndexError\u001b[0m: boolean index did not match indexed array along dimension 2; dimension is 1 but corresponding boolean dimension is 59"
     ]
    }
   ],
   "source": [
    "for fn in glob.glob(join(target_dir,\"*\")):\n",
    "    patient_id = basename(fn)\n",
    "    print(patient_id)\n",
    "    paths = lm.get_paths(patient_id, target_dir)\n",
    "\n",
    "    mask_dir, nii_dir, ct24_path, ct24_tumor_mask_path, ct24_liver_mask_path, \\\n",
    "    mribl_art_path, mribl_pre_path, \\\n",
    "    mribl_tumor_mask_path, mribl_liver_mask_path, \\\n",
    "    mribl_enh_mask_path, mribl_nec_mask_path, \\\n",
    "    mri30d_art_path, mri30d_pre_path, \\\n",
    "    mri30d_tumor_mask_path, mri30d_liver_mask_path, \\\n",
    "    mri30d_enh_mask_path, mri30d_nec_mask_path, \\\n",
    "    ball_ct24_path, ball_mribl_path, ball_mri30d_path, \\\n",
    "    ball_mask_path, ball_mribl_enh_mask_path, ball_mri30d_enh_mask_path, \\\n",
    "    midlip_mask_path, ball_midlip_mask_path, \\\n",
    "    highlip_mask_path, ball_highlip_mask_path = paths\n",
    "    \n",
    "    df.loc[patient_id] = get_row()"
   ]
  },
  {
   "cell_type": "code",
   "execution_count": null,
   "metadata": {
    "ExecuteTime": {
     "start_time": "2018-04-08T18:45:08.048Z"
    }
   },
   "outputs": [],
   "source": [
    "importlib.reload(lm)\n",
    "lm.spherize(patient_id, target_dir)"
   ]
  },
  {
   "cell_type": "code",
   "execution_count": 12,
   "metadata": {
    "ExecuteTime": {
     "end_time": "2018-04-08T18:29:07.469540Z",
     "start_time": "2018-04-08T18:29:07.465559Z"
    },
    "collapsed": true
   },
   "outputs": [],
   "source": [
    "ball, _ = masks.get_mask(ball_mask_path)"
   ]
  },
  {
   "cell_type": "code",
   "execution_count": 15,
   "metadata": {
    "ExecuteTime": {
     "end_time": "2018-04-08T18:29:58.100847Z",
     "start_time": "2018-04-08T18:29:58.096806Z"
    }
   },
   "outputs": [],
   "source": [
    "img, dims = hf.nii_load(ball_ct24_path)"
   ]
  },
  {
   "cell_type": "code",
   "execution_count": 16,
   "metadata": {
    "ExecuteTime": {
     "end_time": "2018-04-08T18:30:00.572564Z",
     "start_time": "2018-04-08T18:30:00.569556Z"
    }
   },
   "outputs": [
    {
     "data": {
      "text/plain": [
       "(59, 59, 1)"
      ]
     },
     "execution_count": 16,
     "metadata": {},
     "output_type": "execute_result"
    }
   ],
   "source": [
    "img.shape"
   ]
  },
  {
   "cell_type": "code",
   "execution_count": null,
   "metadata": {
    "collapsed": true
   },
   "outputs": [],
   "source": []
  },
  {
   "cell_type": "code",
   "execution_count": null,
   "metadata": {
    "collapsed": true
   },
   "outputs": [],
   "source": []
  },
  {
   "cell_type": "code",
   "execution_count": 10,
   "metadata": {
    "ExecuteTime": {
     "end_time": "2018-04-08T18:27:45.078541Z",
     "start_time": "2018-04-08T18:27:44.977403Z"
    },
    "collapsed": true
   },
   "outputs": [],
   "source": [
    "def get_row():\n",
    "    row = []\n",
    "    row = get_vol_coverage(row)\n",
    "    \n",
    "    ball_IV = lm.get_avg_ball_intensity(ball_ct24_path, ball_mask_path)\n",
    "    #core_IV = lm.get_avg_core_intensity(ball_ct24_path, ball_mask_path)\n",
    "    row = get_rim_coverage(row, hf.nii_load(ball_ct24_path)[0], core_IV)\n",
    "    row = get_rim_coverage(row, masks.get_mask(ball_mribl_enh_mask_path)[0] + 1, 1.5)\n",
    "    row = get_texture_feats(row, ball_mribl_enh_mask_path)\n",
    "    row = get_texture_feats(row, ball_midlip_mask_path)\n",
    "\n",
    "    return row\n",
    "\n",
    "def get_vol_coverage(row):\n",
    "    ball_mask,_ = masks.get_mask(ball_mask_path)\n",
    "    ball_mask = ball_mask/ball_mask.max()\n",
    "\n",
    "    mask,_ = masks.get_mask(ball_mribl_enh_mask_path)\n",
    "    row.append(mask.sum()/ball_mask.sum())\n",
    "\n",
    "    mask,_ = masks.get_mask(ball_midlip_mask_path)\n",
    "    row.append(mask.sum()/ball_mask.sum())\n",
    "    return row\n",
    "\n",
    "def get_rim_coverage(row, img, threshold):\n",
    "    IVs = lm.calc_intensity_shells_angles(img, ball_mask_path)\n",
    "    IVs[IVs==0] = np.nan\n",
    "\n",
    "    samples = lm.fibonacci_sphere(2500, True, randomize=True)\n",
    "    samples = np.round(samples).astype(int)\n",
    "    s0 = samples[:,0]\n",
    "    s1 = samples[:,1]\n",
    "    #for i in range(IVs.shape[-1]):\n",
    "    #    print(np.nanmean(IVs[s0,s1,i]))\n",
    "\n",
    "    rim_percent = 0\n",
    "    for i in range(5):\n",
    "        num,den=0,0\n",
    "        for j in range(len(s0)):\n",
    "            if not np.isnan(IVs[s0[j],s1[j],i]):\n",
    "                den += 1\n",
    "                if IVs[s0[j],s1[j],i] > threshold:\n",
    "                    num += 1\n",
    "        rim_percent = max([rim_percent, num/den])\n",
    "    row.append(rim_percent)\n",
    "\n",
    "    return row\n",
    "\n",
    "def get_texture_feats(row, img):\n",
    "    mask,_ = masks.get_mask(img)\n",
    "\n",
    "    feats = mah.haralick(mask)\n",
    "    sum_entropy = feats[:,7].mean()\n",
    "    entropy = feats[:,8].mean()\n",
    "    diff_entropy = feats[:,10].mean()\n",
    "\n",
    "    row += [sum_entropy, entropy, diff_entropy]\n",
    "    \n",
    "    return row"
   ]
  },
  {
   "cell_type": "markdown",
   "metadata": {
    "ExecuteTime": {
     "end_time": "2018-04-06T05:01:11.688839Z",
     "start_time": "2018-04-06T05:01:11.685831Z"
    }
   },
   "source": [
    "## Figures"
   ]
  },
  {
   "cell_type": "code",
   "execution_count": null,
   "metadata": {
    "collapsed": true
   },
   "outputs": [],
   "source": [
    "lm.draw_unreg_fig(mribl_art_path, mribl_enh_mask_path, \"D:\\\\Lipiodol\\\\Figures\\\\unreg\\\\MRIBL\", 'b', 'mr')\n",
    "lm.draw_unreg_fig(mri30d_art_path, mri30d_enh_mask_path, \"D:\\\\Lipiodol\\\\Figures\\\\unreg\\\\MRI30d\", 'r', 'mr')\n",
    "lm.draw_unreg_fig(ct24_path, highlip_mask_path, \"D:\\\\Lipiodol\\\\Figures\\\\unreg\\\\Lip\", 'g', 'ct')"
   ]
  },
  {
   "cell_type": "code",
   "execution_count": null,
   "metadata": {
    "collapsed": true
   },
   "outputs": [],
   "source": [
    "lm.draw_reg_fig(ball_mribl_path, ball_mribl_enh_mask_path, \"D:\\\\Lipiodol\\\\Figures\\\\MRIBL\", 'b', 'mr')\n",
    "lm.draw_reg_fig(ball_mri30d_path, ball_mri30d_enh_mask_path, \"D:\\\\Lipiodol\\\\Figures\\\\MRI30d\", 'r', 'mr')\n",
    "lm.draw_reg_fig(ball_ct24_path, ball_highlip_mask_path, \"D:\\\\Lipiodol\\\\Figures\\\\Lip\", 'g', 'ct')"
   ]
  },
  {
   "cell_type": "code",
   "execution_count": null,
   "metadata": {
    "ExecuteTime": {
     "end_time": "2018-04-06T15:09:57.976409Z",
     "start_time": "2018-04-06T15:09:56.957128Z"
    },
    "collapsed": true
   },
   "outputs": [],
   "source": [
    "# Figure for 24h CT\n",
    "img,_ = hf.nii_load(ball_ct24_path)\n",
    "blmask,_ = masks.get_mask(ball_mribl_enh_mask_path)\n",
    "fumask,_ = masks.get_mask(ball_mri30d_enh_mask_path)\n",
    "\n",
    "for sl in range(img.shape[-1]//4,img.shape[-1]*3//4,img.shape[-1]//12):\n",
    "    plt.close()\n",
    "    plt.imshow(img[...,sl], cmap='gray', vmin=30, vmax=250)\n",
    "    FU=plt.contour(fumask[:,:,sl], colors='r', alpha=.4)\n",
    "    plt.contour(blmask[:,:,sl], colors='b', alpha=.4)\n",
    "    plt.contourf(fumask[:,:,sl], colors=[(0,0,0,0)]*6+[(1,0,0,.2)]) #look at the length of FU.allsegs\n",
    "    plt.contourf(blmask[:,:,sl], colors=[(0,0,0,0)]*6+[(0,0,1,.2)])\n",
    "    plt.axis('off')\n",
    "    plt.savefig(\"D:\\\\Lipiodol\\\\Figures\\\\24hCT_%d.png\" % sl, dpi=100, bbox_inches='tight')"
   ]
  },
  {
   "cell_type": "markdown",
   "metadata": {},
   "source": [
    "## Create mini-DICOMs"
   ]
  },
  {
   "cell_type": "code",
   "execution_count": null,
   "metadata": {
    "collapsed": true
   },
   "outputs": [],
   "source": [
    "output_directory = \"D:\\\\test\""
   ]
  },
  {
   "cell_type": "code",
   "execution_count": null,
   "metadata": {
    "collapsed": true
   },
   "outputs": [],
   "source": [
    "import SimpleITK as sitk\n",
    "import sys, time, os\n",
    "data_directory = \"D:\\\\test\"\n",
    "series_reader = sitk.ImageSeriesReader()\n",
    "series_IDs = series_reader.GetGDCMSeriesIDs(data_directory)\n",
    "if not series_IDs:\n",
    "    print(\"ERROR: given directory \\\"\"+data_directory+\"\\\" does not contain a DICOM series.\")\n",
    "    sys.exit(1)\n",
    "series_file_names = series_reader.GetGDCMSeriesFileNames(data_directory, series_IDs[0])\n",
    "\n",
    "image_reader = sitk.ImageFileReader()\n",
    "image_reader.LoadPrivateTagsOn()\n",
    "image_list = []\n",
    "for file_name in series_file_names:\n",
    "    image_reader.SetFileName(file_name)\n",
    "    image_list.append(image_reader.Execute())\n",
    "\n",
    "# Pasting all of the slices into a 3D volume requires 2D image slices and not 3D slices\n",
    "# The volume's origin and direction are taken from the first slice and the spacing from\n",
    "# the difference between the first two slices. Note that we are assuming we are\n",
    "# dealing with a volume represented by axial slices (z spacing is difference between images).\n",
    "image_list2D = [image[:,:,0] for image in image_list]\n",
    "image3D = sitk.JoinSeries(image_list2D, image_list[0].GetOrigin()[2], image_list[1].GetOrigin()[2] - image_list[0].GetOrigin()[2])\n",
    "image3D.SetDirection(image_list[0].GetDirection())\n",
    "\n",
    "# Modify the image (blurring)\n",
    "filtered_image = sitk.DiscreteGaussian(image3D)\n",
    "\n",
    "# Write the 3D image as a series\n",
    "# IMPORTANT: There are many DICOM tags that need to be updated when you modify an\n",
    "#            original image. This is a delicate opration and requires knowlege of\n",
    "#            the DICOM standard. This example only modifies some. For a more complete\n",
    "#            list of tags that need to be modified see:\n",
    "#                           http://gdcm.sourceforge.net/wiki/index.php/Writing_DICOM\n",
    "\n",
    "writer = sitk.ImageFileWriter()\n",
    "# Use the study/seriers/frame of reference information given in the meta-data\n",
    "# dictionary and not the automatically generated information from the file IO\n",
    "writer.KeepOriginalImageUIDOn()\n",
    "modification_time = time.strftime(\"%H%M%S\")\n",
    "modification_date = time.strftime(\"%Y%m%d\")\n",
    "for i in range(filtered_image.GetDepth()):\n",
    "    image_slice = filtered_image[:,:,i]\n",
    "    original_slice = image_list[i]\n",
    "    # Copy the meta-data except the rescale-intercept, rescale-slope\n",
    "    for k in original_slice.GetMetaDataKeys():\n",
    "        if k!=\"0028|1052\" and k!= \"0028|1053\":\n",
    "            image_slice.SetMetaData(k, original_slice.GetMetaData(k))\n",
    "    # Set relevant keys indicating the change, modify or remove private tags as needed\n",
    "    image_slice.SetMetaData(\"0008|0031\", modification_time)\n",
    "    image_slice.SetMetaData(\"0008|0021\", modification_date)\n",
    "    image_slice.SetMetaData(\"0008|0008\", \"DERIVED\\SECONDARY\")\n",
    "    # Each of the UID components is a number (cannot start with zero) and separated by a '.'\n",
    "    # We create a unique series ID using the date and time.\n",
    "    image_slice.SetMetaData(\"0020|000e\", \"1.2.826.0.1.3680043.2.1125.\"+modification_date+\".1\"+modification_time)\n",
    "    # Write to the output directory and add the extension dcm if not there, to force writing is in DICOM format.\n",
    "    writer.SetFileName(os.path.join(sys.argv[2], os.path.basename(series_file_names[i])) + ('' if os.path.splitext(series_file_names[i])[1] == '.dcm' else '.dcm'))\n",
    "    writer.Execute(image_slice)"
   ]
  },
  {
   "cell_type": "markdown",
   "metadata": {
    "heading_collapsed": true
   },
   "source": [
    "## Extra"
   ]
  },
  {
   "cell_type": "markdown",
   "metadata": {
    "hidden": true
   },
   "source": [
    "IVs = get_intensity_section(ball_ct24_path, ball_mask_path, params)\n",
    "            if highest_I_V < I_V:\n",
    "                best_params = params\n",
    "                highest_I_V = I_V\n",
    "                print(best_params)\n",
    "theta1_best, phi1_best, dtheta_best, dz_best = best_params"
   ]
  },
  {
   "cell_type": "code",
   "execution_count": null,
   "metadata": {
    "ExecuteTime": {
     "end_time": "2018-04-05T22:22:47.402911Z",
     "start_time": "2018-04-05T22:22:47.378848Z"
    },
    "collapsed": true,
    "hidden": true
   },
   "outputs": [],
   "source": [
    "ball_IV = get_avg_ball_intensity(ball_ct24_path, ball_mask_path)\n",
    "core_IV = get_avg_core_intensity(ball_ct24_path, ball_mask_path)"
   ]
  },
  {
   "cell_type": "code",
   "execution_count": 303,
   "metadata": {
    "ExecuteTime": {
     "end_time": "2018-04-06T01:56:56.770027Z",
     "start_time": "2018-04-06T01:56:56.766015Z"
    },
    "hidden": true
   },
   "outputs": [
    {
     "data": {
      "text/plain": [
       "(197.83461276161094, 209.89937589866474)"
      ]
     },
     "execution_count": 303,
     "metadata": {},
     "output_type": "execute_result"
    }
   ],
   "source": [
    "ball_IV, core_IV"
   ]
  },
  {
   "cell_type": "code",
   "execution_count": null,
   "metadata": {
    "ExecuteTime": {
     "end_time": "2018-04-06T02:25:17.074399Z",
     "start_time": "2018-04-06T02:25:15.865084Z"
    },
    "collapsed": true,
    "hidden": true
   },
   "outputs": [],
   "source": [
    "importlib.reload(lm)\n",
    "IVs = lm.calc_intensity_shells_angles(hf.nii_load(ball_ct24_path)[0], ball_mask_path)\n",
    "IVs[IVs==0] = np.nan\n",
    "\n",
    "samples = lm.fibonacci_sphere(2500, True, randomize=True)\n",
    "samples = np.round(samples).astype(int)\n",
    "s0 = samples[:,0]\n",
    "s1 = samples[:,1]\n",
    "for i in range(IVs.shape[-1]):\n",
    "    print(np.nanmean(IVs[s0,s1,i]))"
   ]
  },
  {
   "cell_type": "code",
   "execution_count": 388,
   "metadata": {
    "ExecuteTime": {
     "end_time": "2018-04-06T03:41:24.387987Z",
     "start_time": "2018-04-06T03:41:24.373950Z"
    },
    "collapsed": true,
    "hidden": true
   },
   "outputs": [],
   "source": [
    "loopIVs = np.tile(IVs[:-1,:-1,:], (2,2,1))\n",
    "loopIVs[180:,:,:] = np.nan"
   ]
  },
  {
   "cell_type": "code",
   "execution_count": null,
   "metadata": {
    "ExecuteTime": {
     "end_time": "2018-04-06T04:07:35.800850Z",
     "start_time": "2018-04-06T04:07:28.305059Z"
    },
    "collapsed": true,
    "hidden": true
   },
   "outputs": [],
   "source": [
    "for dtheta in range(30,180,20):\n",
    "    print(dtheta)\n",
    "    best_IV = core_IV\n",
    "    worst_IV = core_IV\n",
    "    for theta in range(0,180,20):\n",
    "        for phi in range(180,480,20):\n",
    "            for shell1 in range(4):\n",
    "                for shell2 in range(shell1+1,5):\n",
    "                    IV = np.nanmean(loopIVs[max(theta-dtheta,0) : theta+dtheta, phi-dtheta : phi+dtheta, shell1:shell2])\n",
    "                    params = theta, phi % 360, shell1, shell2\n",
    "                    if best_IV < IV:\n",
    "                        best_params = params\n",
    "                        best_IV = IV\n",
    "                        \n",
    "            IV = np.nanmean(loopIVs[max(theta-dtheta,0) : theta+dtheta, phi-dtheta : phi+dtheta, :5])\n",
    "            params = theta, phi % 360\n",
    "            if worst_IV > IV:\n",
    "                worst_params = params\n",
    "                worst_IV = IV\n",
    "                \n",
    "    print(best_params, round(best_IV,1))\n",
    "    print(worst_params, round(worst_IV,1))"
   ]
  },
  {
   "cell_type": "code",
   "execution_count": null,
   "metadata": {
    "ExecuteTime": {
     "end_time": "2018-04-06T04:14:42.190274Z",
     "start_time": "2018-04-06T04:14:40.506330Z"
    },
    "collapsed": true,
    "hidden": true
   },
   "outputs": [],
   "source": [
    "importlib.reload(lm)\n",
    "enhmask_density = lm.calc_intensity_shells_angles(masks.get_mask(ball_mribl_enh_mask_path)[0]+1, ball_mask_path)\n",
    "\n",
    "enhmask_density = enhmask_density[...,:5]\n",
    "enhmask_density[enhmask_density==0] = np.nan\n",
    "\n",
    "samples = fibonacci_sphere(2500, True, randomize=True)\n",
    "samples = np.round(samples).astype(int)\n",
    "s0 = samples[:,0]\n",
    "s1 = samples[:,1]\n",
    "for i in range(enhmask_density.shape[-1]):\n",
    "    print(np.nanmean(enhmask_density[s0,s1,i]))"
   ]
  },
  {
   "cell_type": "code",
   "execution_count": null,
   "metadata": {
    "ExecuteTime": {
     "end_time": "2018-04-06T04:15:33.357552Z",
     "start_time": "2018-04-06T04:15:31.657137Z"
    },
    "collapsed": true,
    "hidden": true
   },
   "outputs": [],
   "source": [
    "importlib.reload(lm)\n",
    "enhmask_density = lm.calc_intensity_shells_angles(masks.get_mask(ball_mri30d_enh_mask_path)[0]+1, ball_mask_path)\n",
    "\n",
    "enhmask_density = enhmask_density[...,:5]\n",
    "enhmask_density[enhmask_density==0] = np.nan\n",
    "\n",
    "samples = fibonacci_sphere(2500, True, randomize=True)\n",
    "samples = np.round(samples).astype(int)\n",
    "s0 = samples[:,0]\n",
    "s1 = samples[:,1]\n",
    "for i in range(enhmask_density.shape[-1]):\n",
    "    print(np.nanmean(enhmask_density[s0,s1,i]))"
   ]
  },
  {
   "cell_type": "code",
   "execution_count": null,
   "metadata": {
    "ExecuteTime": {
     "end_time": "2018-04-06T04:03:49.971534Z",
     "start_time": "2018-04-06T04:03:49.958472Z"
    },
    "collapsed": true,
    "hidden": true
   },
   "outputs": [],
   "source": [
    "for i in range(enhmask_density.shape[-1]):\n",
    "    print(np.nanmean(enhmask_density[s0,s1,i]))"
   ]
  },
  {
   "cell_type": "code",
   "execution_count": null,
   "metadata": {
    "collapsed": true,
    "hidden": true
   },
   "outputs": [],
   "source": [
    "enhmask_density ="
   ]
  },
  {
   "cell_type": "code",
   "execution_count": null,
   "metadata": {
    "collapsed": true,
    "hidden": true
   },
   "outputs": [],
   "source": [
    "conv_rate = np.zeros((181,360))"
   ]
  }
 ],
 "metadata": {
  "kernelspec": {
   "display_name": "Python 3",
   "language": "python",
   "name": "python3"
  },
  "language_info": {
   "codemirror_mode": {
    "name": "ipython",
    "version": 3
   },
   "file_extension": ".py",
   "mimetype": "text/x-python",
   "name": "python",
   "nbconvert_exporter": "python",
   "pygments_lexer": "ipython3",
   "version": "3.5.0"
  },
  "varInspector": {
   "cols": {
    "lenName": 16,
    "lenType": 16,
    "lenVar": 40
   },
   "kernels_config": {
    "python": {
     "delete_cmd_postfix": "",
     "delete_cmd_prefix": "del ",
     "library": "var_list.py",
     "varRefreshCmd": "print(var_dic_list())"
    },
    "r": {
     "delete_cmd_postfix": ") ",
     "delete_cmd_prefix": "rm(",
     "library": "var_list.r",
     "varRefreshCmd": "cat(var_dic_list()) "
    }
   },
   "types_to_exclude": [
    "module",
    "function",
    "builtin_function_or_method",
    "instance",
    "_Feature"
   ],
   "window_display": false
  }
 },
 "nbformat": 4,
 "nbformat_minor": 2
}
